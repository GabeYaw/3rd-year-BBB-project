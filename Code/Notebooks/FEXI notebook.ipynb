{
 "cells": [
  {
   "attachments": {},
   "cell_type": "markdown",
   "metadata": {},
   "source": [
    "# FEXI notebook"
   ]
  },
  {
   "attachments": {},
   "cell_type": "markdown",
   "metadata": {},
   "source": [
    "### Imports"
   ]
  },
  {
   "cell_type": "code",
   "execution_count": 32,
   "metadata": {},
   "outputs": [],
   "source": [
    "import numpy as np\n",
    "import matplotlib.pyplot as plt\n",
    "import nibabel as nib\n",
    "import torch\n",
    "import torch.nn as nn\n",
    "import torch.optim as optim\n",
    "import torch.utils.data as utils\n",
    "from tqdm import tqdm\n",
    "from scipy.special import erf\n",
    "import scipy.stats\n",
    "\n",
    "from dmipy.core.acquisition_scheme import acquisition_scheme_from_bvalues\n",
    "from dmipy.core.modeling_framework import MultiCompartmentSphericalMeanModel\n",
    "from dmipy.signal_models import sphere_models, cylinder_models, gaussian_models\n",
    "\n",
    "from scipy.io import savemat"
   ]
  },
  {
   "attachments": {},
   "cell_type": "markdown",
   "metadata": {},
   "source": [
    "### FEXI simulations\n",
    "#### Simulated $s$ signal axr_sim()"
   ]
  },
  {
   "cell_type": "code",
   "execution_count": 33,
   "metadata": {},
   "outputs": [],
   "source": [
    "def axr_sim(adc, sigma, axr, bf, be, tm):\n",
    "   \"\"\"Generate an output signal s based on known inputs for a given voxel\n",
    "Inputs   - adc:      apparent diffusion coefficient [m2/s] single value\n",
    "         - sigma:    filter efficiency single value\n",
    "         - axr:      exchange rate [1/s] single value\n",
    "         - bf:       filter block b-value [m2/s] 20x1\n",
    "         - be:       encoding block b-value [m2/s] 20x1\n",
    "         - tm:       mixing time [s] 20x1\n",
    "\n",
    "Output: \t- s:        signal (sum of the magnetisations) single value\n",
    "   Based off Elizabeth's code. \n",
    "   \"\"\"\n",
    "\n",
    "   tm[(bf == 0) & (tm == min(tm))] = np.inf\n",
    "   #calculate ADC as fnc of mixing time\n",
    "   adc_tm = adc * (1 - sigma* np.exp(-axr*tm))\n",
    "\n",
    "   # compute signal\n",
    "   s = np.exp(-adc_tm*be)\n",
    "   return s \n"
   ]
  },
  {
   "attachments": {},
   "cell_type": "markdown",
   "metadata": {},
   "source": [
    "### Estimate $ADC$, $\\sigma$ & $AXR$\n",
    "#### fit_axr_sse()"
   ]
  },
  {
   "cell_type": "code",
   "execution_count": 34,
   "metadata": {},
   "outputs": [],
   "source": [
    "#==========================================================================\n",
    "# Calculate sum of square error between mixing time estimate and true value. \n",
    "# Inputs    - free_params:  parameter values being fitted\n",
    "#                           [adc sigma axr] \n",
    "#           - scheme:       acquisition parameters [nx3]\n",
    "#                           [bf, be, tm]\n",
    "#           - all_params:   array of all parameters\n",
    "#                           [adc sigma axr] \n",
    "#           - idx_free:     indices of free parameters within free_params\n",
    "#           - idx_adc:      indices into scheme of acquisitions used for ADC calc\n",
    "#           - idx_s0sf:     indices into scheme of acquisitions used for S0/Sf calc\n",
    "#                       - NORMALISED to b=0 for each bf, tm combination so that S0 = Sbf = 0\n",
    "#           \n",
    "# Outputs   - sfit:     fitted signal [1, ntm x nbval]\n",
    "#\n",
    "def fit_axr_sse(free_params, all_params, idx_free, bf, tm, be, smeas):\n",
    "    \n",
    "\t# extract dependent variables\n",
    "    #first row only\n",
    "    all_params = all_params[1]\n",
    "    # set param to free value where index say to do so\n",
    "    #all_params[idx_free] = free_params\n",
    "    all_params = free_params\n",
    "\n",
    "    adc = all_params[0]\n",
    "    sigma = all_params[1]\n",
    "    axr = all_params[2]\n",
    "\n",
    "    # calculate ADC'(tm) from measured data\n",
    "\n",
    "    # using bf and tm as column vectors and as first 2 columns, see how \n",
    "    # many rows they contain\n",
    "    # size(unique(...),1) takes num of rows.\n",
    "    # unique() keeps only unique combinations.\n",
    "    nsf = np.unique(np.column_stack((bf.flatten(), tm.flatten())), axis=0).shape[0]\n",
    "    # number of unique bf,tm combos\n",
    "    \n",
    "    #stable keeps order it was put in (with duplicates removed)\n",
    "    univols = np.unique(np.column_stack((bf.flatten(), tm.flatten())), axis=0)\n",
    "    # find the pairs of data points used to calculate each ADC'(tm)\n",
    "    \n",
    "    #same length as bf and tm\n",
    "    adc_tm_calc = np.zeros((1, nsf))\n",
    "\n",
    "    # [bf,tm] has some duplicate rows\n",
    "    # univols is [bf,tm] without duplicates\n",
    "\n",
    "    for v in range(0, nsf):\n",
    "        # change way it loops\n",
    "\n",
    "        #ix1 is an index \n",
    "        # when b value is zero and where both values in row v of univols\n",
    "        # are the same as the values in [bf,tm]\n",
    "        # what is the physical meaning of this?\n",
    "\n",
    "        ix1 = np.where((np.sum(univols[v - 1] == np.concatenate((bf, tm)), axis=1) == 2) & (be == 0))[0]\n",
    "        # when b value is none zero and where both values in row v of univols\n",
    "        # are the same as the values in [bf,tm]\n",
    "        # what is the physical meaning of this?\n",
    "        \n",
    "        ix2 = np.where((np.sum(univols[v - 1] == np.concatenate((bf, tm)), axis=1) == 2) & (be > 0))[0]\n",
    "\n",
    "        #smeas is normalised signal\n",
    "        #calculate the adc value and make it row v of adc_tm_calc\n",
    "        # see eq 7 of https://doi.org/10.1016/j.neuroimage.2020.117039\n",
    "        adc_tm_calc[v] = -1 / (be[ix2] - be[ix1]) * np.log(smeas[ix2] / smeas[ix1])\n",
    "\n",
    "    # find equilibrium acquisition (bf==0, tm==min(tm)), and set tm=inf for this\n",
    "    \n",
    "    # create an index of when bf is 0, and tm is minimum\n",
    "    idx_eq = np.where((univols[:, 0] == 0) & (univols[:, 1] == np.min(univols[:, 1])))[0]\n",
    "    # equilibrium scans without filter\n",
    "\n",
    "    tm = univols[:,1]\n",
    "    #changed the index\n",
    "    #set the tm to infinity where condition was met\n",
    "    #why?\n",
    "    tm[idx_eq] = np.inf\n",
    "    \n",
    "    # estimate ADC'(tm) by fitting model\n",
    "    # eq 2 from https://doi.org/10.1016/j.neuroimage.2020.117039\n",
    "    adc_tm_fit = adc * (1 - sigma * np.exp(-tm*axr))\n",
    "    \n",
    "    # sum of squares difference\n",
    "    sse = np.sum((adc_tm_calc[:] - adc_tm_fit[:])**2)\n",
    "\n",
    "    return sse\n",
    "\n"
   ]
  },
  {
   "cell_type": "markdown",
   "metadata": {},
   "source": [
    "\n",
    "#### axr_fit()"
   ]
  },
  {
   "cell_type": "code",
   "execution_count": 35,
   "metadata": {},
   "outputs": [],
   "source": [
    "#==========================================================================\n",
    "# for a given signal estimate the variables that produced it. \n",
    "# Estimate adc, sigma and axr\n",
    "#  (Lasic 2011, MRM)\n",
    "#\n",
    "# Use: adc, sigma, axr = axr_fit(bf, be, tm, smeas, init, lb, ub)\n",
    "#\n",
    "# Inputs    - bf:       filter block b-value [m^2/s] 20x1\n",
    "#           - be:       encoding block b-value [m^2/s] 20x1 \n",
    "#           - tm:       mixing time [s] 20x1 \n",
    "#           - smeas:    measured signal (normalised) 20x1\n",
    "#           - init:     initial values  [adc, sigma, axr] [m2/s a.u. 1/s] 3x1\n",
    "#           - lb:       lower bounds   [adc, sigma, axr] [m2/s a.u. 1/s] 3x1\n",
    "#           - ub:       upper bounds   [adc, sigma, axr] [m2/s a.u. 1/s] 3x1\n",
    "#\n",
    "# Output: \t- adc:      fitted ADC [m2/s] single value\n",
    "#           - sigma:\tfitted filter efficiency single value \n",
    "#           - axr:      fitted AXR [1/s] single value\n",
    "#\n",
    "# Adapted from Author: E Powell, 23/08/23\n",
    "#\n",
    "#==========================================================================\n",
    "\n",
    "def axr_fit(bf, be, tm, s, init, lb, ub):\n",
    "\n",
    "    # use parpool if rows in init >= 25 goes here\n",
    "    # Compare to matlab code. \n",
    "\n",
    "    #scaling bf and be\n",
    "    # need to be ~1, not sure why\n",
    "    bf = bf * 1e-9\n",
    "    be = be * 1e-9\n",
    "\n",
    "    all_params = init * 1e9\n",
    "    # copy init into all_params and multiply first value by 1e9. \n",
    "\n",
    "    # multiply first value by 1e9\n",
    "    lb[0] = lb[0] * 1e9\n",
    "    ub[0] = ub[0] * 1e9\n",
    "\n",
    "    #store indices where lb != ub and ==\n",
    "    idx_free = np.nonzero(lb != ub)[0]\n",
    "    idx_fixed = np.nonzero(lb == ub)[0]\n",
    "\n",
    "    # select initial values and bounds only for free params\n",
    "    free_params = all_params[idx_free]\n",
    "\n",
    "    #old method not working\n",
    "    #free_params = all_params[:,idx_free]\n",
    "    \n",
    "    lb = lb[idx_free]\n",
    "    ub = ub[idx_free]\n",
    "    \n",
    "    #hide output during iterations. Not sure what purpose is or what is\n",
    "    #python equivalent\n",
    "    #opt = optimset('display', 'off'); \n",
    "\n",
    "    fitting = lambda free_params: fit_axr_sse(free_params, all_params, idx_free, bf, tm, be, s)\n",
    "\n",
    "    # 2 versions of code using parpool in matlab version\n",
    "\n",
    "    for i in range(np.size(init)):\n",
    "        res= scipy.optimize.minimize(fun=fitting, x0=free_params)\n",
    "        xopt, fval, ierr, numfunc = res\n",
    "        #xopt, fval = scipy.optimize.fminbound(func=fitting, args=(free_params[i],), x1 = lb, x2 = ub)\n",
    "        #opt = optimset('Display','off');\n",
    "        #supress output not used in function call\n",
    "\n",
    "    #unclear if this line will work, look at link below\n",
    "    #https://stackoverflow.com/questions/19070943/numpy-scipy-analog-of-matlabs-fminsearch\n",
    "\n",
    "    idx = np.where(fval == np.min(fval))[0]\n",
    "\n",
    "    if idx.size() == 0:\n",
    "        #set location of minimum to lower bound\n",
    "        x = lb\n",
    "        #set value of minimun to nan\n",
    "        fval = np.nan\n",
    "    else:\n",
    "        #filter x to just the minimum locations\n",
    "        x = x[idx,:]\n",
    "        # filter fval to just the minimum value. \n",
    "        fval = fval[idx]\n",
    "\n",
    "    #extract parameters from fitting procedure\n",
    "    fitted_params = np.zeros(np.shape(all_params))\n",
    "\n",
    "    #set value to x (min locations) at all idx_free points\n",
    "    fitted_params[idx_free] = x\n",
    "    #copy value from all params for the fixed params params\n",
    "    fitted_params[idx_fixed] = all_params[idx_fixed]\n",
    "    \n",
    "    adc = fitted_params[0]\n",
    "    sigma = fitted_params[1]\n",
    "    axr = fitted_params[2]\n",
    "\n",
    "    # revert diffusivity scaling\n",
    "    adc = adc * 1e-9\n",
    "\n",
    "    return adc, sigma, axr\n"
   ]
  },
  {
   "attachments": {},
   "cell_type": "markdown",
   "metadata": {},
   "source": [
    "### Input variables from Elizabeth"
   ]
  },
  {
   "cell_type": "code",
   "execution_count": 82,
   "metadata": {},
   "outputs": [
    {
     "data": {
      "image/png": "[encoded data removed]",
      "text/plain": [
       "<Figure size 432x288 with 1 Axes>"
      ]
     },
     "metadata": {
      "needs_background": "light"
     },
     "output_type": "display_data"
    }
   ],
   "source": [
    "# example code for Gabe\n",
    "# E Powell, 24/11/2023\n",
    "\n",
    "bf = np.array([0, 0, 250, 250, 250, 250, 250, 250]) * 1e6    \n",
    "# filter b-values [s/m2]\n",
    "#bf = bf.reshape(-1, 1)  # probs not needed because 1d - Reshaping to a column vector\n",
    "be = np.array([0, 250, 0, 250, 0, 250, 0, 250]) * 1e6         \n",
    "# encoding b-values [s/m2]\n",
    "tm = np.array([20, 20, 20, 20, 200, 200, 400, 400]) * 1e-3    \n",
    "# mixing time [s]\n",
    "\n",
    "sim_adc = 1e-9                             # ADC, simulated [m2/s]\n",
    "sim_sig = 0.2                              # sigma, simulated [a.u.]\n",
    "sim_axr = 3                                # AXR, simulated [s-1]\n",
    "\n",
    "# simulate signals\n",
    "s = np.array(axr_sim(sim_adc, sim_sig, sim_axr, bf, be, tm))\n",
    "\n",
    "# fit model to simulated signals and estimate parameters\n",
    "init = np.array([1.1e-9, .15, 3.5])\n",
    "lb = np.array([.1e-9, 0, .1])\n",
    "ub = np.array([3.5e-9, 1, 20])\n",
    "\n",
    "\n",
    "\n",
    "for i in range(be.shape[0] - 1):\n",
    "    plt.plot([be[i], be[i + 1]], [s[i], s[i + 1]], 'bo-')\n",
    "\n",
    "plt.title('Scatter plot with 4 lines')\n",
    "plt.xlabel('X-axis')\n",
    "plt.ylabel('Y-axis')\n",
    "plt.grid(True)\n",
    "plt.show()\n",
    "\n",
    "# fit_adc, fit_sig, fit_axr = axr_fit(bf, be, tm, s, init, lb, ub)"
   ]
  },
  {
   "cell_type": "code",
   "execution_count": null,
   "metadata": {},
   "outputs": [
    {
     "ename": "SyntaxError",
     "evalue": "invalid syntax (2671205147.py, line 2)",
     "output_type": "error",
     "traceback": [
      "\u001b[0;36m  File \u001b[0;32m\"/var/folders/z8/jwxsd17n57lblqk5c_v8fttc0000gn/T/ipykernel_95573/2671205147.py\"\u001b[0;36m, line \u001b[0;32m2\u001b[0m\n\u001b[0;31m    [sim_adc, sim_sig, sim_axr].*[1e9 1 1]\u001b[0m\n\u001b[0m                                ^\u001b[0m\n\u001b[0;31mSyntaxError\u001b[0m\u001b[0;31m:\u001b[0m invalid syntax\n"
     ]
    }
   ],
   "source": [
    "# print and compare simulated vs fitted\n",
    "[sim_adc, sim_sig, sim_axr].*[1e9 1 1]\n",
    "[fit_adc, fit_sig, fit_axr].*[1e9 1 1]"
   ]
  },
  {
   "attachments": {},
   "cell_type": "markdown",
   "metadata": {},
   "source": [
    "### My old method"
   ]
  },
  {
   "attachments": {},
   "cell_type": "markdown",
   "metadata": {},
   "source": [
    "Say we wanted to calculate s for a random distribution of adc values.\n",
    "I think axr may also vary, but both are probs linked to each other. "
   ]
  },
  {
   "cell_type": "code",
   "execution_count": null,
   "metadata": {},
   "outputs": [],
   "source": [
    "\n",
    "#adc=1\n",
    "sigma=2\n",
    "axr=3\n",
    "\n",
    "be = np.array([np.repeat(0,10), np.repeat(250,10)]).flatten()\n",
    "bf = np.array([1e-6, 0.090, 1e-6, 0, 1e-6, 1.5, 1e-6, 2, 1e-6, 3,1e-6, 0, 1e-6, 0.500, 1e-6, 1.5, 1e-6, 2, 1e-6, 3])\n",
    "tm = np.array([1e-6, 0.090, 1e-6, -1, 1e-6, 1.5, 1e-6, 2, 1e-6, 3,1e-6, 0.090, 1e-6, 0.500, 1e-6, 1.5, 1e-6, 2, 1e-6, 3])\n",
    "nvox = 1000\n",
    "\n",
    "#axrs = np.random.uniform(1,100,nvox) \n",
    "adcs = np.random.uniform(200,300,nvox) \n",
    "\n",
    "#axr_sim(adc,sigma,axr,bf,be,tm)\n",
    "\n",
    "\n",
    "s = np.array([axr_sim(adc,sigma,axr,bf,be,tm) for adc in adcs]) \n"
   ]
  }
 ],
 "metadata": {
  "kernelspec": {
   "display_name": "project",
   "language": "python",
   "name": "python3"
  },
  "language_info": {
   "codemirror_mode": {
    "name": "ipython",
    "version": 3
   },
   "file_extension": ".py",
   "mimetype": "text/x-python",
   "name": "python",
   "nbconvert_exporter": "python",
   "pygments_lexer": "ipython3",
   "version": "3.7.13"
  },
  "orig_nbformat": 4,
  "vscode": {
   "interpreter": {
    "hash": "530a9f706d6870d645c2a38796218763bd8210a92912827e1b5537d0d478cbf5"
   }
  }
 },
 "nbformat": 4,
 "nbformat_minor": 2
}
