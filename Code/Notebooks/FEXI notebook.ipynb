{
 "cells": [
  {
   "attachments": {},
   "cell_type": "markdown",
   "metadata": {},
   "source": [
    "# FEXI notebook"
   ]
  },
  {
   "attachments": {},
   "cell_type": "markdown",
   "metadata": {},
   "source": [
    "### Imports"
   ]
  },
  {
   "cell_type": "code",
   "execution_count": 1,
   "metadata": {},
   "outputs": [
    {
     "name": "stderr",
     "output_type": "stream",
     "text": [
      "/Users/admin/opt/anaconda3/envs/project/lib/python3.7/site-packages/tqdm/auto.py:22: TqdmWarning: IProgress not found. Please update jupyter and ipywidgets. See https://ipywidgets.readthedocs.io/en/stable/user_install.html\n",
      "  from .autonotebook import tqdm as notebook_tqdm\n"
     ]
    }
   ],
   "source": [
    "import numpy as np\n",
    "import matplotlib.pyplot as plt\n",
    "import nibabel as nib\n",
    "import torch\n",
    "import torch.nn as nn\n",
    "import torch.optim as optim\n",
    "import torch.utils.data as utils\n",
    "from tqdm import tqdm\n",
    "from scipy.special import erf\n",
    "import scipy.stats\n",
    "\n",
    "from dmipy.core.acquisition_scheme import acquisition_scheme_from_bvalues\n",
    "from dmipy.core.modeling_framework import MultiCompartmentSphericalMeanModel\n",
    "from dmipy.signal_models import sphere_models, cylinder_models, gaussian_models\n",
    "\n",
    "from scipy.io import savemat"
   ]
  },
  {
   "attachments": {},
   "cell_type": "markdown",
   "metadata": {},
   "source": [
    "### FEXI simulations\n",
    "#### Simulated $s$ signal axr_sim()"
   ]
  },
  {
   "cell_type": "code",
   "execution_count": 3,
   "metadata": {},
   "outputs": [],
   "source": [
    "def axr_sim(adc, sigma, axr, bf, be, tm):\n",
    "   \"\"\"Generate an output signal s based on known inputs for a given voxel\n",
    "Inputs   - adc:      apparent diffusion coefficient [m2/s] single value\n",
    "         - sigma:    filter efficiency single value\n",
    "         - axr:      exchange rate [1/s] single value\n",
    "         - bf:       filter block b-value [m2/s] 20x1\n",
    "         - be:       encoding block b-value [m2/s] 20x1\n",
    "         - tm:       mixing time [s] 20x1\n",
    "\n",
    "Output: \t- s:        signal (sum of the magnetisations) single value\n",
    "   Based off Elizabeth's code. \n",
    "   \"\"\"\n",
    "\n",
    "   tm[(bf == 0) & (tm == min(tm))] = np.inf\n",
    "   #calculate ADC as fnc of mixing time\n",
    "   adc_tm = adc * (1 - sigma* np.exp(-axr*tm))\n",
    "\n",
    "   # compute signal\n",
    "   s = np.exp(-adc_tm*be)\n",
    "   return s \n"
   ]
  },
  {
   "attachments": {},
   "cell_type": "markdown",
   "metadata": {},
   "source": [
    "### Estimate $ADC$, $\\sigma$ & $AXR$\n",
    "#### axr_fit()"
   ]
  },
  {
   "cell_type": "code",
   "execution_count": null,
   "metadata": {},
   "outputs": [],
   "source": [
    "#==========================================================================\n",
    "# for a given signal estimate the variables that produced it. \n",
    "# Estimate adc, sigma and axr\n",
    "#  (Lasic 2011, MRM)\n",
    "#\n",
    "# Use: adc, sigma, axr = axr_fit(bf, be, tm, smeas, init, lb, ub)\n",
    "#\n",
    "# Inputs    - bf:       filter block b-value [m^2/s] 20x1\n",
    "#           - be:       encoding block b-value [m^2/s] 20x1 \n",
    "#           - tm:       mixing time [s] 20x1 \n",
    "#           - smeas:    measured signal (normalised) 20x1?\n",
    "#           - init:     initial values  [adc, sigma, axr] [m2/s a.u. 1/s] 3x1\n",
    "#           - lb:       lower bounds   [adc, sigma, axr] [m2/s a.u. 1/s] 3x1\n",
    "#           - ub:       upper bounds   [adc, sigma, axr] [m2/s a.u. 1/s] 3x1\n",
    "#\n",
    "# Output: \t- adc:      fitted ADC [m2/s] single value\n",
    "#           - sigma:\tfitted filter efficiency single value \n",
    "#           - axr:      fitted AXR [1/s] single value\n",
    "#\n",
    "# Author: E Powell, 23/08/23\n",
    "#\n",
    "#=========================================================================="
   ]
  },
  {
   "attachments": {},
   "cell_type": "markdown",
   "metadata": {},
   "source": [
    "### Input variables from Elizabeth"
   ]
  },
  {
   "cell_type": "code",
   "execution_count": 4,
   "metadata": {},
   "outputs": [],
   "source": [
    "# example code for Gabe\n",
    "# E Powell, 24/11/2023\n",
    "\n",
    "bf = np.array([0, 0, 250, 250, 250, 250, 250, 250]) * 1e6    \n",
    "# filter b-values [s/m2]\n",
    "#bf = bf.reshape(-1, 1)  # probs not needed because 1d - Reshaping to a column vector\n",
    "be = np.array([0, 250, 0, 250, 0, 250, 0, 250]) * 1e6         \n",
    "# encoding b-values [s/m2]\n",
    "tm = np.array([20, 20, 20, 20, 200, 200, 400, 400]) * 1e-3    \n",
    "# mixing time [s]\n",
    "\n",
    "sim_adc = 1e-9                             # ADC, simulated [m2/s]\n",
    "sim_sig = 0.2                              # sigma, simulated [a.u.]\n",
    "sim_axr = 3                                # AXR, simulated [s-1]\n",
    "\n",
    "# simulate signals\n",
    "s = axr_sim(sim_adc, sim_sig, sim_axr, bf, be, tm) \n",
    "\n",
    "# fit model to simulated signals and estimate parameters\n",
    "init = np.array([1.1e-9, .15, 3.5])\n",
    "lb = np.array([.1e-9, 0, .1])\n",
    "ub = np.array([3.5e-9, 1, 20])\n",
    "\n",
    "\n",
    "fit_adc, fit_sig, fit_axr = axr_fit(bf, be, tm, s, init, lb, ub)"
   ]
  },
  {
   "cell_type": "code",
   "execution_count": null,
   "metadata": {},
   "outputs": [],
   "source": [
    "# print and compare simulated vs fitted\n",
    "[sim_adc, sim_sig, sim_axr].*[1e9 1 1]\n",
    "[fit_adc, fit_sig, fit_axr].*[1e9 1 1]"
   ]
  },
  {
   "attachments": {},
   "cell_type": "markdown",
   "metadata": {},
   "source": [
    "### My old method"
   ]
  },
  {
   "attachments": {},
   "cell_type": "markdown",
   "metadata": {},
   "source": [
    "Say we wanted to calculate s for a random distribution of adc values.\n",
    "I think axr may also vary, but both are probs linked to each other. "
   ]
  },
  {
   "cell_type": "code",
   "execution_count": 3,
   "metadata": {},
   "outputs": [
    {
     "name": "stderr",
     "output_type": "stream",
     "text": [
      "/Users/admin/opt/anaconda3/envs/project/lib/python3.7/site-packages/ipykernel_launcher.py:19: RuntimeWarning: overflow encountered in exp\n"
     ]
    }
   ],
   "source": [
    "\n",
    "#adc=1\n",
    "sigma=2\n",
    "axr=3\n",
    "\n",
    "be = np.array([np.repeat(0,10), np.repeat(250,10)]).flatten()\n",
    "bf = np.array([1e-6, 0.090, 1e-6, 0, 1e-6, 1.5, 1e-6, 2, 1e-6, 3,1e-6, 0, 1e-6, 0.500, 1e-6, 1.5, 1e-6, 2, 1e-6, 3])\n",
    "tm = np.array([1e-6, 0.090, 1e-6, -1, 1e-6, 1.5, 1e-6, 2, 1e-6, 3,1e-6, 0.090, 1e-6, 0.500, 1e-6, 1.5, 1e-6, 2, 1e-6, 3])\n",
    "nvox = 1000\n",
    "\n",
    "#axrs = np.random.uniform(1,100,nvox) \n",
    "adcs = np.random.uniform(200,300,nvox) \n",
    "\n",
    "#axr_sim(adc,sigma,axr,bf,be,tm)\n",
    "\n",
    "\n",
    "s = np.array([axr_sim(adc,sigma,axr,bf,be,tm) for adc in adcs]) \n"
   ]
  }
 ],
 "metadata": {
  "kernelspec": {
   "display_name": "project",
   "language": "python",
   "name": "python3"
  },
  "language_info": {
   "codemirror_mode": {
    "name": "ipython",
    "version": 3
   },
   "file_extension": ".py",
   "mimetype": "text/x-python",
   "name": "python",
   "nbconvert_exporter": "python",
   "pygments_lexer": "ipython3",
   "version": "3.7.13"
  },
  "orig_nbformat": 4,
  "vscode": {
   "interpreter": {
    "hash": "530a9f706d6870d645c2a38796218763bd8210a92912827e1b5537d0d478cbf5"
   }
  }
 },
 "nbformat": 4,
 "nbformat_minor": 2
}
