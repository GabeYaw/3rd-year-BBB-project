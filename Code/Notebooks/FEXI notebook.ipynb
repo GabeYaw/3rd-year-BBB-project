{
 "cells": [
  {
   "attachments": {},
   "cell_type": "markdown",
   "metadata": {},
   "source": [
    "# FEXI notebook"
   ]
  },
  {
   "attachments": {},
   "cell_type": "markdown",
   "metadata": {},
   "source": [
    "### Imports"
   ]
  },
  {
   "cell_type": "code",
   "execution_count": 1,
   "metadata": {},
   "outputs": [
    {
     "name": "stderr",
     "output_type": "stream",
     "text": [
      "/Users/admin/opt/anaconda3/envs/project/lib/python3.7/site-packages/tqdm/auto.py:22: TqdmWarning: IProgress not found. Please update jupyter and ipywidgets. See https://ipywidgets.readthedocs.io/en/stable/user_install.html\n",
      "  from .autonotebook import tqdm as notebook_tqdm\n"
     ]
    }
   ],
   "source": [
    "import numpy as np\n",
    "import matplotlib.pyplot as plt\n",
    "import nibabel as nib\n",
    "import torch\n",
    "import torch.nn as nn\n",
    "import torch.optim as optim\n",
    "import torch.utils.data as utils\n",
    "from tqdm import tqdm\n",
    "from scipy.special import erf\n",
    "import scipy.stats\n",
    "\n",
    "from dmipy.core.acquisition_scheme import acquisition_scheme_from_bvalues\n",
    "from dmipy.core.modeling_framework import MultiCompartmentSphericalMeanModel\n",
    "from dmipy.signal_models import sphere_models, cylinder_models, gaussian_models\n",
    "\n",
    "from scipy.io import savemat"
   ]
  },
  {
   "attachments": {},
   "cell_type": "markdown",
   "metadata": {},
   "source": [
    "### FEXI simulations\n",
    "#### Simulated $s$ signal"
   ]
  },
  {
   "cell_type": "code",
   "execution_count": 2,
   "metadata": {},
   "outputs": [],
   "source": [
    "def axr_sim(adc, sigma, axr, bf, be, tm):\n",
    "   \"\"\"Generate an output signal s based on known inputs for a given voxel\n",
    "Inputs   - adc:      apparent diffusion coefficient [m2/s] single value\n",
    "         - sigma:    filter efficiency single value\n",
    "         - axr:      exchange rate [1/s] single value\n",
    "         - bf:       filter block b-value [m2/s] 20x1\n",
    "         - be:       encoding block b-value [m2/s] 20x1\n",
    "         - tm:       mixing time [s] 20x1\n",
    "\n",
    "Output: \t- s:        signal (sum of the magnetisations) single value\n",
    "   Based off Elizabeth's code. \n",
    "   \"\"\"\n",
    "\n",
    "   tm[(bf == 0) & (tm == min(tm))] = np.inf\n",
    "   #calculate ADC as fnc of mixing time\n",
    "   adc_tm = adc * (1 - sigma* np.exp(-axr*tm))\n",
    "\n",
    "   # compute signal\n",
    "   s = np.exp(-adc_tm*be)\n",
    "   return s \n"
   ]
  },
  {
   "attachments": {},
   "cell_type": "markdown",
   "metadata": {},
   "source": [
    "Say we wanted to calculate s for a random distribution of adc values.\n",
    "I think axr may also vary, but both are probs linked to each other. "
   ]
  },
  {
   "cell_type": "code",
   "execution_count": 3,
   "metadata": {},
   "outputs": [
    {
     "name": "stderr",
     "output_type": "stream",
     "text": [
      "/Users/admin/opt/anaconda3/envs/project/lib/python3.7/site-packages/ipykernel_launcher.py:19: RuntimeWarning: overflow encountered in exp\n"
     ]
    }
   ],
   "source": [
    "#adc=1\n",
    "sigma=2\n",
    "axr=3\n",
    "\n",
    "be = np.array([np.repeat(0,10), np.repeat(250,10)]).flatten()\n",
    "bf = np.array([1e-6, 0.090, 1e-6, 0, 1e-6, 1.5, 1e-6, 2, 1e-6, 3,1e-6, 0, 1e-6, 0.500, 1e-6, 1.5, 1e-6, 2, 1e-6, 3])\n",
    "tm = np.array([1e-6, 0.090, 1e-6, -1, 1e-6, 1.5, 1e-6, 2, 1e-6, 3,1e-6, 0.090, 1e-6, 0.500, 1e-6, 1.5, 1e-6, 2, 1e-6, 3])\n",
    "nvox = 1000\n",
    "\n",
    "#axrs = np.random.uniform(1,100,nvox) \n",
    "adcs = np.random.uniform(200,300,nvox) \n",
    "\n",
    "#axr_sim(adc,sigma,axr,bf,be,tm)\n",
    "\n",
    "\n",
    "s = np.array([axr_sim(adc,sigma,axr,bf,be,tm) for adc in adcs]) \n"
   ]
  },
  {
   "cell_type": "markdown",
   "metadata": {},
   "source": [
    "### axr_fit"
   ]
  },
  {
   "cell_type": "code",
   "execution_count": null,
   "metadata": {},
   "outputs": [],
   "source": [
    "def axr_fit(bf, be, tm, smeas, init, lb, ub):\n",
    "    \"\"\"\n",
    "    Estimate AXR FEXI model parameters\n",
    "    (Lasic 2011, MRM)\n",
    "\n",
    "    Use: [adc, sigma, axr] = axr_fit(bf, be, tm, smeas, init, lb, ub)\n",
    "\n",
    "    Inputs  - bf:       filter block b-value [m^2/s] 20x1\n",
    "            - be:       encoding block b-value [m^2/s] 20x1\n",
    "            - tm:       mixing time [s] 20x1\n",
    "            - smeas:    measured signal (normalised) probs 20x1\n",
    "            - init:     initial values  [adc, sigma, axr] [m2/s a.u. 1/s] 3x1\n",
    "            - lb:       lower bounds   [adc, sigma, axr] [m2/s a.u. 1/s] 3x1\n",
    "            - ub:       upper bounds   [adc, sigma, axr] [m2/s a.u. 1/s] 3x1\n",
    "\n",
    "    Output: - adc:      fitted ADC [m2/s] Single value\n",
    "            - sigma:\tfitted filter efficiency Single value\n",
    "            - axr:      fitted AXR [1/s] single value\n",
    "\n",
    "    Author: E Powell, 23/08/23\n",
    "    \"\"\"\n",
    "    #will this line work?\n",
    "    # Matlab line was:\n",
    "    # if size(init,1) >= 25\n",
    "\n",
    "    #only use parpool if multiple inits\n",
    "    if np.shape(init) >= 25:\n",
    "        useparpool = True\n",
    "    else:\n",
    "        useparpool = False\n",
    "\n",
    "        \n",
    "    #scale sequence values (values to be fitted, i.e. diffusivities, need to be ~1)\n",
    "    bf = bf * 1e-9\n",
    "    be = be * 1e-9\n",
    "\n",
    "    #scale initial parameter values and bounds\n",
    "    # The matlab line was\n",
    "    # all_params = init .* [1e9 ones(1, size(init,2)-1)];\n",
    "    all_params = init * [] #incomplete\n",
    "    lb[1] = lb[1] * 1e9\n",
    "    ub[1] = ub[1] * 1e9\n",
    "\n",
    "    #find if any parameters are fixed\n",
    "    idx_free = np.nonzero(lb != ub)\n",
    "    idx_fixed = np.nonzero(lb == ub)\n",
    "\n",
    "    #select initial values and bounds only for free params\n",
    "    # free_params = all_params(:,idx_free);\n",
    "    free_params = all_params[:,idx_free]\n",
    "    lb = lb[idx_free]\n",
    "    ub = ub[idx_free]\n",
    "\n",
    "    #opt = optimset('display', 'off'); \n",
    "    # Line to not show info as you interate.\n",
    "\n",
    "    \"\"\"===========\n",
    "    Stopped here in matla code\n",
    "    ============\"\"\"\n",
    "\n",
    "    return adc, sigma, axr"
   ]
  },
  {
   "attachments": {},
   "cell_type": "markdown",
   "metadata": {},
   "source": [
    "### fit_axr_sse"
   ]
  },
  {
   "cell_type": "code",
   "execution_count": null,
   "metadata": {},
   "outputs": [],
   "source": [
    "def fit_axr_sse(free_params, all_params, idx_free, bf, tm, be, smeas):\n",
    "    \"\"\"\n",
    "    Inputs - free_params:  parameter values being fitted\n",
    "                           [adc sigma axr] 3x1\n",
    "           - scheme:       acquisition parameters [nx3]\n",
    "                           [bf, be, tm] 3x1\n",
    "           - all_params:   array of all parameters\n",
    "                           [adc sigma axr] 3x1\n",
    "           - idx_free:     indices of free parameters within free_params\n",
    "           - idx_adc:      indices into scheme of acquisitions used for ADC calc\n",
    "           - idx_s0sf:     indices into scheme of acquisitions used for S0/Sf calc\n",
    "                       - NORMALISED to b=0 for each bf, tm combination so that S0 = Sbf = 0\n",
    "           \n",
    " Outputs   - sfit:     fitted signal [1, ntm x nbval]\n",
    "\n",
    "    \"\"\""
   ]
  }
 ],
 "metadata": {
  "kernelspec": {
   "display_name": "project",
   "language": "python",
   "name": "python3"
  },
  "language_info": {
   "codemirror_mode": {
    "name": "ipython",
    "version": 3
   },
   "file_extension": ".py",
   "mimetype": "text/x-python",
   "name": "python",
   "nbconvert_exporter": "python",
   "pygments_lexer": "ipython3",
   "version": "3.7.13 (default, Mar 28 2022, 07:24:34) \n[Clang 12.0.0 ]"
  },
  "orig_nbformat": 4,
  "vscode": {
   "interpreter": {
    "hash": "530a9f706d6870d645c2a38796218763bd8210a92912827e1b5537d0d478cbf5"
   }
  }
 },
 "nbformat": 4,
 "nbformat_minor": 2
}
