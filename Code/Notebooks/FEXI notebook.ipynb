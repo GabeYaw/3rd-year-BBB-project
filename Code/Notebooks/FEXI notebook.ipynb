{
 "cells": [
  {
   "attachments": {},
   "cell_type": "markdown",
   "metadata": {},
   "source": [
    "# FEXI notebook"
   ]
  },
  {
   "attachments": {},
   "cell_type": "markdown",
   "metadata": {},
   "source": [
    "### Imports"
   ]
  },
  {
   "cell_type": "code",
   "execution_count": 1,
   "metadata": {},
   "outputs": [
    {
     "name": "stderr",
     "output_type": "stream",
     "text": [
      "/Users/admin/opt/anaconda3/envs/project/lib/python3.7/site-packages/tqdm/auto.py:22: TqdmWarning: IProgress not found. Please update jupyter and ipywidgets. See https://ipywidgets.readthedocs.io/en/stable/user_install.html\n",
      "  from .autonotebook import tqdm as notebook_tqdm\n"
     ]
    }
   ],
   "source": [
    "import numpy as np\n",
    "import matplotlib.pyplot as plt\n",
    "import nibabel as nib\n",
    "import torch\n",
    "import torch.nn as nn\n",
    "import torch.optim as optim\n",
    "import torch.utils.data as utils\n",
    "from tqdm import tqdm\n",
    "from scipy.special import erf\n",
    "import scipy.stats\n",
    "\n",
    "from dmipy.core.acquisition_scheme import acquisition_scheme_from_bvalues\n",
    "from dmipy.core.modeling_framework import MultiCompartmentSphericalMeanModel\n",
    "from dmipy.signal_models import sphere_models, cylinder_models, gaussian_models\n",
    "\n",
    "from scipy.io import savemat"
   ]
  },
  {
   "attachments": {},
   "cell_type": "markdown",
   "metadata": {},
   "source": [
    "### FEXI simulations\n",
    "#### Simulated $s$ signal"
   ]
  },
  {
   "cell_type": "code",
   "execution_count": 28,
   "metadata": {},
   "outputs": [],
   "source": [
    "def axr_sim(adc, sigma, axr, bf, be, tm):\n",
    "   \"\"\"Generate an output signal s based on known inputs for a given voxel\n",
    "Inputs    - adc:      apparent diffusion coefficient [m2/s] single value\n",
    "         - sigma:    filter efficiency single value\n",
    "         - axr:      exchange rate [1/s] single value\n",
    "         - bf:       filter block b-value [m2/s] 20x1\n",
    "         - be:       encoding block b-value [m2/s] 20x1\n",
    "         - tm:       mixing time [s] 20x1\n",
    "\n",
    "Output: \t- s:        signal (sum of the magnetisations) single value\n",
    "   Based off Elizabeth's code. \n",
    "   \"\"\"\n",
    "\n",
    "   tm[(bf == 0) & (tm == np.min(tm))] = np.inf\n",
    "   #calculate ADC as fnc of mixing time\n",
    "   adc_tm = adc * (1 - sigma* np.exp(-axr*tm))\n",
    "\n",
    "   # compute signal\n",
    "   s = np.exp(-adc_tm*be)\n",
    "   return s \n"
   ]
  },
  {
   "attachments": {},
   "cell_type": "markdown",
   "metadata": {},
   "source": [
    "Say we wanted to calculate s for a random distribution of adc values.\n",
    "I think axr may also vary, but both are probs linked to each other. "
   ]
  },
  {
   "cell_type": "code",
   "execution_count": 29,
   "metadata": {},
   "outputs": [],
   "source": [
    "#adc=1\n",
    "sigma=2\n",
    "axr=3\n",
    "bf = np.array([1e-6, 0.090, 1e-6, 0, 1e-6, 1.5, 1e-6, 2, 1e-6, 3,1e-6, 0, 1e-6, 0.500, 1e-6, 1.5, 1e-6, 2, 1e-6, 3])\n",
    "be = np.array([1e-6, 0.090, 1e-6, 1, 1e-6, 1.5, 1e-6, 2, 1e-6, 3,1e-6, 0.090, 1e-6, 0.500, 1e-6, 1.5, 1e-6, 2, 1e-6, 3])\n",
    "tm = np.array([1e-6, 0.090, 1e-6, -1, 1e-6, 1.5, 1e-6, 2, 1e-6, 3,1e-6, 0.090, 1e-6, 0.500, 1e-6, 1.5, 1e-6, 2, 1e-6, 3])\n",
    "nvox = 1000\n",
    "\n",
    "#axrs = np.random.uniform(1,100,nvox) \n",
    "adcs = np.random.uniform(200,300,nvox) \n",
    "\n",
    "#axr_sim(adc,sigma,axr,bf,be,tm)\n",
    "\n",
    "\n",
    "s = np.array([axr_sim(adc,sigma,axr,bf,be,tm) for adc in adcs]) \n"
   ]
  }
 ],
 "metadata": {
  "kernelspec": {
   "display_name": "project",
   "language": "python",
   "name": "python3"
  },
  "language_info": {
   "codemirror_mode": {
    "name": "ipython",
    "version": 3
   },
   "file_extension": ".py",
   "mimetype": "text/x-python",
   "name": "python",
   "nbconvert_exporter": "python",
   "pygments_lexer": "ipython3",
   "version": "3.7.13"
  },
  "orig_nbformat": 4,
  "vscode": {
   "interpreter": {
    "hash": "530a9f706d6870d645c2a38796218763bd8210a92912827e1b5537d0d478cbf5"
   }
  }
 },
 "nbformat": 4,
 "nbformat_minor": 2
}
