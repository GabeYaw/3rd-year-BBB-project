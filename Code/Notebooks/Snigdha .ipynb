{
 "cells": [
  {
   "attachments": {},
   "cell_type": "markdown",
   "metadata": {},
   "source": [
    "https://www.youtube.com/watch?v=OIenNRt2bjg intro to pytorch."
   ]
  },
  {
   "attachments": {},
   "cell_type": "markdown",
   "metadata": {},
   "source": [
    "### Imports"
   ]
  },
  {
   "cell_type": "code",
   "execution_count": 72,
   "metadata": {},
   "outputs": [],
   "source": [
    "import numpy as np\n",
    "import matplotlib.pyplot as plt\n",
    "import nibabel as nib\n",
    "import torch\n",
    "import torch.nn as nn\n",
    "import torch.optim as optim\n",
    "import torch.utils.data as utils\n",
    "from tqdm import tqdm\n",
    "from scipy.special import erf\n",
    "import scipy.stats\n",
    "\n",
    "from dmipy.core.acquisition_scheme import acquisition_scheme_from_bvalues\n",
    "from dmipy.core.modeling_framework import MultiCompartmentSphericalMeanModel\n",
    "from dmipy.signal_models import sphere_models, cylinder_models, gaussian_models\n",
    "\n",
    "from scipy.io import savemat"
   ]
  },
  {
   "attachments": {},
   "cell_type": "markdown",
   "metadata": {},
   "source": [
    "### Defining the verdict model compartments. \n",
    "\n",
    "- gradient_strength = np.array([np.sqrt(b_values[i])/(gamma*delta[i]*np.sqrt(Delta[i]-delta[i]/3)) for i,_ in enumerate(b_values)])\n",
    "    -   What does the underscore mean? It might mean an usused variable, but there's only 1 dimension to b_values\n",
    "    - If I did for in enumerate(b_values) then you get back a index and a value, but the i,_ returns just the index and ignores the value. It is a blank unused variable. \n",
    "\n",
    "- What is the purpose of the error function?\n",
    "    - First look at where the astrosticks formula is from, then ask again."
   ]
  },
  {
   "cell_type": "code",
   "execution_count": 73,
   "metadata": {},
   "outputs": [],
   "source": [
    "\n",
    "# simulate data according to verdict model - there is a function for each of the three compartments\n",
    "# when you do it for bbb-fexi, this will change\n",
    "\n",
    "def sphere(r):\n",
    "    \"\"\" Returns 1x10 array\n",
    "    \"\"\"\n",
    "    # Create 1d array with these 100 values\n",
    "    SPHERE_TRASCENDENTAL_ROOTS = np.r_[\n",
    "        # 0.,\n",
    "        2.081575978, 5.940369990, 9.205840145,\n",
    "        12.40444502, 15.57923641, 18.74264558, 21.89969648,\n",
    "        25.05282528, 28.20336100, 31.35209173, 34.49951492,\n",
    "        37.64596032, 40.79165523, 43.93676147, 47.08139741,\n",
    "        50.22565165, 53.36959180, 56.51327045, 59.65672900,\n",
    "        62.80000055, 65.94311190, 69.08608495, 72.22893775,\n",
    "        75.37168540, 78.51434055, 81.65691380, 84.79941440,\n",
    "        87.94185005, 91.08422750, 94.22655255, 97.36883035,\n",
    "        100.5110653, 103.6532613, 106.7954217, 109.9375497,\n",
    "        113.0796480, 116.2217188, 119.3637645, 122.5057870,\n",
    "        125.6477880, 128.7897690, 131.9317315, 135.0736768,\n",
    "        138.2156061, 141.3575204, 144.4994207, 147.6413080,\n",
    "        150.7831829, 153.9250463, 157.0668989, 160.2087413,\n",
    "        163.3505741, 166.4923978, 169.6342129, 172.7760200,\n",
    "        175.9178194, 179.0596116, 182.2013968, 185.3431756,\n",
    "        188.4849481, 191.6267147, 194.7684757, 197.9102314,\n",
    "        201.0519820, 204.1937277, 207.3354688, 210.4772054,\n",
    "        213.6189378, 216.7606662, 219.9023907, 223.0441114,\n",
    "        226.1858287, 229.3275425, 232.4692530, 235.6109603,\n",
    "        238.7526647, 241.8943662, 245.0360648, 248.1777608,\n",
    "        251.3194542, 254.4611451, 257.6028336, 260.7445198,\n",
    "        263.8862038, 267.0278856, 270.1695654, 273.3112431,\n",
    "        276.4529189, 279.5945929, 282.7362650, 285.8779354,\n",
    "        289.0196041, 292.1612712, 295.3029367, 298.4446006,\n",
    "        301.5862631, 304.7279241, 307.8695837, 311.0112420,\n",
    "        314.1528990\n",
    "    ]\n",
    "\n",
    "    D = 2\n",
    "    gamma = 2.67e2\n",
    "    radius = r\n",
    "\n",
    "    b_values = np.array([1e-6, 0.090, 1e-6, 0.500, 1e-6, 1.5, 1e-6, 2, 1e-6, 3])\n",
    "    Delta = np.array([23.8, 23.8, 23.8, 31.3, 23.8, 43.8, 23.8, 34.3, 23.8, 38.8])\n",
    "    delta = np.array([3.9, 3.9, 3.9, 11.4, 3.9, 23.9, 3.9, 14.4, 3.9, 18.9])\n",
    "\n",
    "    #calculate gradstrength for each b value and (D/d)elta. i is an index. \n",
    "    gradient_strength = np.array([np.sqrt(b_values[i])/(gamma*delta[i]*np.sqrt(Delta[i]-delta[i]/3)) for i,_ in enumerate(b_values)])\n",
    "\n",
    "    # alpha, alpha2 and alpha2d are a 100x1 arrays, the maths is elementwise. \n",
    "    alpha = SPHERE_TRASCENDENTAL_ROOTS / radius\n",
    "    #** means squared, also done elementwise\n",
    "    alpha2 = alpha ** 2\n",
    "    alpha2D = alpha2 * D\n",
    "\n",
    "    #create an array of 1x10. Seems to always be the same. \n",
    "    first_factor = -2 * (gamma * gradient_strength) ** 2 / D\n",
    "    \n",
    "    #create zeros array with lengths as sizes. In this case 100x10\n",
    "    summands = np.zeros((len(SPHERE_TRASCENDENTAL_ROOTS),len(b_values)))\n",
    "    \n",
    "    #create 100x10 array called summands\n",
    "    for i,_ in enumerate(delta):\n",
    "        summands[:,i] = (\n",
    "            alpha ** (-4) / (alpha2 * radius ** 2 - 2) *\n",
    "            (\n",
    "                2 * delta[i] - (\n",
    "                    2 +\n",
    "                    np.exp(-alpha2D * (Delta[i] - delta[i])) -\n",
    "                    2 * np.exp(-alpha2D * delta[i]) -\n",
    "                    2 * np.exp(-alpha2D * Delta[i]) +\n",
    "                    np.exp(-alpha2D * (Delta[i] + delta[i]))\n",
    "                ) / (alpha2D)\n",
    "            )\n",
    "        )\n",
    "    #sum all 100 elements in summands, and create E, an array which is 10x1\n",
    "    E = np.exp(\n",
    "        first_factor *\n",
    "        summands.sum()\n",
    "    )\n",
    "    return E\n",
    "\n",
    "def ball(d):\n",
    "    \"\"\" Returns 1x10 array\n",
    "    \"\"\"\n",
    "    bvals = np.array([1e-6, 0.090, 1e-6, 0.500, 1e-6, 1.5, 1e-6, 2, 1e-6, 3])\n",
    "    E_ball = np.exp(-bvals * d)\n",
    "    \n",
    "    #E_ball is a 1x10 array\n",
    "    return E_ball\n",
    "\n",
    "def astrosticks(l):\n",
    "    \"\"\" Returns 1x10 array\n",
    "    \"\"\"\n",
    "    bvals = np.array([1e-6, 0.090, 1e-6, 0.500, 1e-6, 1.5, 1e-6, 2, 1e-6, 3])\n",
    "    lambda_par = l\n",
    "\n",
    "    #make an array filled with ones, same size as bvals (1x10)\n",
    "    E_mean = np.ones_like(bvals)\n",
    "    #erf() is the error function, returns values between -1 to 1. I think it is like normalising a value perhaps.\n",
    "    E_mean = ((np.sqrt(np.pi) * erf(np.sqrt(bvals * lambda_par))) /\n",
    "                (2 * np.sqrt(bvals * lambda_par)))\n",
    "\n",
    "    #E_mean is a 1x10 array\n",
    "    return E_mean \n"
   ]
  },
  {
   "attachments": {},
   "cell_type": "markdown",
   "metadata": {},
   "source": [
    "### Defining number of voxels and verdict parameters\n",
    "- Why is 10 an important and recurring number? Is that the number of b values used?\n",
    "- What does expand_dims() do? It seems to add an extra dimension, but why is that needed?\n",
    "- fvasc seems to be a fraction, not an absolute value. Is this different to fic and fees and why?\n",
    "    - They all eventually become fractions, a few lines later on. "
   ]
  },
  {
   "cell_type": "code",
   "execution_count": 74,
   "metadata": {},
   "outputs": [],
   "source": [
    "\n",
    "nvox = 100000 # number of voxels to simulate\n",
    "\n",
    "#These 3 are all 1x nvox arrays. \n",
    "radii = np.random.uniform(0.001,15,nvox) # free parameter - cell radius\n",
    "dees = np.random.uniform(0.5,3,nvox) # free parameter - EES diffusivity\n",
    "lambdapar = np.repeat(2,nvox) # fixed parameter\n",
    "\n",
    "# These are all nvox x 10 arrays. (10 is number of bvals, so I think acquisitions.)\n",
    "E_stick = np.array([astrosticks(l) for l in lambdapar]) \n",
    "E_ball = np.array([ball(d) for d in dees])\n",
    "E_sphere = np.array([sphere(r) for r in radii])\n",
    "\n",
    "# nvox x 1 arrays. \n",
    "fic = np.expand_dims(np.random.uniform(0.001, 0.999, nvox), axis=1) # free parameter - IC volume fraction\n",
    "fees = np.expand_dims(np.random.uniform(0.001, 0.999, nvox), axis=1) # free parameter - EES volume fraction\n",
    "fvasc = 1 - fic - fees # calculate VASC volume fraction\n",
    "fvasc = fvasc/(fic + fees + fvasc)\n",
    "\n",
    "A = fvasc\n",
    "#Smallest value now becomes the new zero, similar to kelvin and celsius. \n",
    "#Done for all elements, so normA is nvox x 1 array\n",
    "normA = A - min(A)\n",
    "fvasc = 0.2 * (normA/max(normA)) # constraining fvasc to be realistic for prostate tissue (under 0.2)\n",
    "\n",
    "#changing into fractions. \n",
    "fic = fic/(fic + fees + fvasc)\n",
    "fees = fees/(fic + fees + fvasc)\n",
    "\n",
    "# These are all nvox x 10 arrays. Adding noise\n",
    "E_vox = fees*E_ball + fic*E_sphere + fvasc*E_stick\n",
    "E_vox_real = E_vox + np.random.normal(scale=0.02, size=np.shape(E_vox)) # adding rician noise, snr = 50\n",
    "E_vox_imag = np.random.normal(scale=0.02, size=np.shape(E_vox))\n",
    "E_vox = np.sqrt(E_vox_real**2 + E_vox_imag**2) # these are the simulated signals\n"
   ]
  },
  {
   "attachments": {},
   "cell_type": "markdown",
   "metadata": {},
   "source": [
    "### Section for comparing to NLLS fitting.\n",
    "Don't know what it does yet."
   ]
  },
  {
   "cell_type": "code",
   "execution_count": 75,
   "metadata": {},
   "outputs": [
    {
     "data": {
      "text/plain": [
       "\"\\n\\n## this section will be useful when you want to compare it to NLLS fitting, i'm commenting it out for now\\n\\nb_values = np.array([1e-6, 90, 1e-6, 500, 1e-6, 1500, 1e-6, 2000, 1e-6, 3000])\\nbvaluesSI = np.array([i * 1e6 for i in b_values])\\nDelta = np.array([0.0238, 0.0238, 0.0238, 0.0313, 0.0238, 0.0438, 0.0238, 0.0343, 0.0238, 0.0388])\\ndelta = np.array([0.0039, 0.0039, 0.0039, 0.0114, 0.0039, 0.0239, 0.0039, 0.0144, 0.0039, 0.0189])\\ngradient_directions = np.loadtxt('./verdict_graddirs.txt', delimiter=',')\\nacq_scheme = acquisition_scheme_from_bvalues(bvaluesSI, gradient_directions, delta, Delta)\\n\\nspheresim = sphere_models.S4SphereGaussianPhaseApproximation(diffusion_constant=2e-9)\\nballsim = gaussian_models.G1Ball()\\nsticksim = cylinder_models.C1Stick(lambda_par=2e-9)\\nastro = sticksim.spherical_mean(acq_scheme)\\n\\nfrom dmipy.core.modeling_framework import MultiCompartmentModel\\nverdict_mod = MultiCompartmentModel(models=[spheresim, ballsim, sticksim])\\nverdict_mod.set_parameter_optimization_bounds('G1Ball_1_lambda_iso', [0.5e-9, 3e-9])\\nverdict_mod.set_parameter_optimization_bounds('partial_volume_0', [0.001, 0.999])\\nverdict_mod.set_parameter_optimization_bounds('partial_volume_1', [0.001, 0.999])\\nverdict_mod.set_parameter_optimization_bounds('partial_volume_1', [0.001, 0.199])\\nverdict_mod.set_parameter_optimization_bounds('G1Ball_1_lambda_iso', [0.5e-9, 3e-9])\\n\\n\\nres = verdict_mod.fit(acq_scheme, E_vox)\\nf_ic = res.fitted_parameters['partial_volume_0']\\nf_ees = res.fitted_parameters['partial_volume_1']\\nf_vasc = res.fitted_parameters['partial_volume_2']\\nr = res.fitted_parameters['S4SphereGaussianPhaseApproximation_1_diameter']/2\\nd_ees = res.fitted_parameters['G1Ball_1_lambda_iso']\\n\""
      ]
     },
     "execution_count": 75,
     "metadata": {},
     "output_type": "execute_result"
    }
   ],
   "source": [
    "\n",
    "\n",
    "'''\n",
    "\n",
    "## this section will be useful when you want to compare it to NLLS fitting, i'm commenting it out for now\n",
    "\n",
    "b_values = np.array([1e-6, 90, 1e-6, 500, 1e-6, 1500, 1e-6, 2000, 1e-6, 3000])\n",
    "bvaluesSI = np.array([i * 1e6 for i in b_values])\n",
    "Delta = np.array([0.0238, 0.0238, 0.0238, 0.0313, 0.0238, 0.0438, 0.0238, 0.0343, 0.0238, 0.0388])\n",
    "delta = np.array([0.0039, 0.0039, 0.0039, 0.0114, 0.0039, 0.0239, 0.0039, 0.0144, 0.0039, 0.0189])\n",
    "gradient_directions = np.loadtxt('./verdict_graddirs.txt', delimiter=',')\n",
    "acq_scheme = acquisition_scheme_from_bvalues(bvaluesSI, gradient_directions, delta, Delta)\n",
    "\n",
    "spheresim = sphere_models.S4SphereGaussianPhaseApproximation(diffusion_constant=2e-9)\n",
    "ballsim = gaussian_models.G1Ball()\n",
    "sticksim = cylinder_models.C1Stick(lambda_par=2e-9)\n",
    "astro = sticksim.spherical_mean(acq_scheme)\n",
    "\n",
    "from dmipy.core.modeling_framework import MultiCompartmentModel\n",
    "verdict_mod = MultiCompartmentModel(models=[spheresim, ballsim, sticksim])\n",
    "verdict_mod.set_parameter_optimization_bounds('G1Ball_1_lambda_iso', [0.5e-9, 3e-9])\n",
    "verdict_mod.set_parameter_optimization_bounds('partial_volume_0', [0.001, 0.999])\n",
    "verdict_mod.set_parameter_optimization_bounds('partial_volume_1', [0.001, 0.999])\n",
    "verdict_mod.set_parameter_optimization_bounds('partial_volume_1', [0.001, 0.199])\n",
    "verdict_mod.set_parameter_optimization_bounds('G1Ball_1_lambda_iso', [0.5e-9, 3e-9])\n",
    "\n",
    "\n",
    "res = verdict_mod.fit(acq_scheme, E_vox)\n",
    "f_ic = res.fitted_parameters['partial_volume_0']\n",
    "f_ees = res.fitted_parameters['partial_volume_1']\n",
    "f_vasc = res.fitted_parameters['partial_volume_2']\n",
    "r = res.fitted_parameters['S4SphereGaussianPhaseApproximation_1_diameter']/2\n",
    "d_ees = res.fitted_parameters['G1Ball_1_lambda_iso']\n",
    "'''\n"
   ]
  },
  {
   "attachments": {},
   "cell_type": "markdown",
   "metadata": {},
   "source": [
    "### Creating the neural network\n",
    "+ What does self.b_values = b_values do?\n",
    "    + assignes b values to the \"self\" version  of b values, ie for that time it was called.\n",
    "+ self.encoder = nn.Sequential(*self.layers, nn.Linear(len(b_values), nparams))\n",
    "    What does this line do? Seems inportant\n",
    "+ Should this be D instead of 2? It is in the first box, so why is this different?\n",
    "    + alpha2D = alpha2 * 2\n",
    "    + NameError: name 'D' is not defined is the error if I put D in. \n",
    "+ What is going on with all the unsqeezes?\n",
    "+ What makes summands be 100 long? \n",
    "    + I get the other 2 dimensions\n",
    "+ What is X?"
   ]
  },
  {
   "cell_type": "code",
   "execution_count": 76,
   "metadata": {},
   "outputs": [],
   "source": [
    "\n",
    "class Net(nn.Module): # this is the neural network\n",
    "\n",
    "    #defining the init and foward pass functions. \n",
    "\n",
    "    def __init__(self, b_values, Delta, delta, gradient_strength, nparams):\n",
    "        super(Net, self).__init__()\n",
    "\n",
    "        self.b_values = b_values\n",
    "        self.Delta = Delta\n",
    "        self.delta = delta\n",
    "        self.gradient_strength = gradient_strength\n",
    "\n",
    "\n",
    "        #defining the layers that we want. \n",
    "        # 3 layers with 10 (no. of b_values) nodes. See paper.\n",
    "        self.layers = nn.ModuleList()\n",
    "        for i in range(3): # 3 fully connected hidden layers\n",
    "            self.layers.extend([nn.Linear(len(b_values), len(b_values)), nn.PReLU()])\n",
    "            #https://pytorch.org/docs/stable/generated/torch.nn.PReLU.html\n",
    "        self.encoder = nn.Sequential(*self.layers, nn.Linear(len(b_values), nparams))\n",
    "\n",
    "    def forward(self, X):\n",
    "        \"\"\"\n",
    "        constrain f_ic, f_ees, r, d_ees and calculate X.\n",
    "        \"\"\"\n",
    "        params = torch.nn.functional.softplus(self.encoder(X))\n",
    "        #SoftPlus is a smooth approximation to the ReLU function and can be used to constrain the output of a machine to always be positive.\n",
    "\n",
    "\n",
    "        #params seems be a table containing each variable in a new column. \n",
    "        #unsqueeze adds an additional dimension. \n",
    "        f_ic = torch.clamp(params[:,0].unsqueeze(1), min=0.001, max=0.999) # parameter constraints\n",
    "        f_ees = torch.clamp(params[:,1].unsqueeze(1), min=0.001, max=0.999)\n",
    "        r = torch.clamp(params[:,2].unsqueeze(1), min=0.001, max=14.999)\n",
    "        d_ees = torch.clamp(params[:,3].unsqueeze(1), min=0.5, max=3)\n",
    "\n",
    "        # Create 1d array with these 100 values\n",
    "        SPHERE_TRASCENDENTAL_ROOTS = np.r_[\n",
    "        # 0.,\n",
    "        2.081575978, 5.940369990, 9.205840145,\n",
    "        12.40444502, 15.57923641, 18.74264558, 21.89969648,\n",
    "        25.05282528, 28.20336100, 31.35209173, 34.49951492,\n",
    "        37.64596032, 40.79165523, 43.93676147, 47.08139741,\n",
    "        50.22565165, 53.36959180, 56.51327045, 59.65672900,\n",
    "        62.80000055, 65.94311190, 69.08608495, 72.22893775,\n",
    "        75.37168540, 78.51434055, 81.65691380, 84.79941440,\n",
    "        87.94185005, 91.08422750, 94.22655255, 97.36883035,\n",
    "        100.5110653, 103.6532613, 106.7954217, 109.9375497,\n",
    "        113.0796480, 116.2217188, 119.3637645, 122.5057870,\n",
    "        125.6477880, 128.7897690, 131.9317315, 135.0736768,\n",
    "        138.2156061, 141.3575204, 144.4994207, 147.6413080,\n",
    "        150.7831829, 153.9250463, 157.0668989, 160.2087413,\n",
    "        163.3505741, 166.4923978, 169.6342129, 172.7760200,\n",
    "        175.9178194, 179.0596116, 182.2013968, 185.3431756,\n",
    "        188.4849481, 191.6267147, 194.7684757, 197.9102314,\n",
    "        201.0519820, 204.1937277, 207.3354688, 210.4772054,\n",
    "        213.6189378, 216.7606662, 219.9023907, 223.0441114,\n",
    "        226.1858287, 229.3275425, 232.4692530, 235.6109603,\n",
    "        238.7526647, 241.8943662, 245.0360648, 248.1777608,\n",
    "        251.3194542, 254.4611451, 257.6028336, 260.7445198,\n",
    "        263.8862038, 267.0278856, 270.1695654, 273.3112431,\n",
    "        276.4529189, 279.5945929, 282.7362650, 285.8779354,\n",
    "        289.0196041, 292.1612712, 295.3029367, 298.4446006,\n",
    "        301.5862631, 304.7279241, 307.8695837, 311.0112420,\n",
    "        314.1528990\n",
    "        ]\n",
    "        \n",
    "        # all are 100x1 arrays\n",
    "        alpha = torch.FloatTensor(SPHERE_TRASCENDENTAL_ROOTS) / (r)\n",
    "        alpha2 = alpha ** 2\n",
    "        alpha2D = alpha2 * 2\n",
    "\n",
    "        #add extra dimension\n",
    "        alpha = alpha.unsqueeze(1)\n",
    "        alpha2 = alpha2.unsqueeze(1)\n",
    "        alpha2D = alpha2D.unsqueeze(1)\n",
    "\n",
    "        gamma = 2.675987e2\n",
    "        #elsewhere gradient_strength is 10x1, so I think first factor is also 10x1.\n",
    "        first_factor = -2*(gamma*self.gradient_strength)**2 / 2\n",
    "\n",
    "        #adds 2 dimensions. \n",
    "        delta = self.delta.unsqueeze(0).unsqueeze(2)\n",
    "        Delta = self.Delta.unsqueeze(0).unsqueeze(2)\n",
    "        \n",
    "        #Size of summands is [128, 10, 100]\n",
    "        #128 is batch size, 10 is b_values, not sure what 100 is?\n",
    "        summands = (alpha ** (-4) / (alpha2 * (r.unsqueeze(2))**2 - 2) * (\n",
    "                            2 * delta - (\n",
    "                            2 +\n",
    "                            torch.exp(-alpha2D * (Delta - delta)) -\n",
    "                            2 * torch.exp(-alpha2D * delta) -\n",
    "                            2 * torch.exp(-alpha2D * Delta) +\n",
    "                            torch.exp(-alpha2D * (Delta + delta))\n",
    "                        ) / (alpha2D)\n",
    "                    )\n",
    "                )\n",
    "         \n",
    "        # this is where you will eventually need to tweak the network to be bbb-fexi rather than verdict\n",
    "\n",
    "        #erf() is error function.\n",
    "        #xi,xii,xiii and X are all 128x10. So batch size x 10 b_values most likely.\n",
    "        xi = (1 - f_ic - f_ees) * ((np.sqrt(np.pi) * torch.erf(np.sqrt(self.b_values * 2))) /\n",
    "                (2 * np.sqrt(self.b_values * 2)))\n",
    "        xii = f_ic * torch.exp(torch.FloatTensor(first_factor) * torch.sum(summands, 2))\n",
    "        xiii = f_ees * torch.exp(-self.b_values * d_ees)       \n",
    "        X = xi + xii + xiii\n",
    "\n",
    "        return X, f_ic, f_ees, r, d_ees\n",
    "\n"
   ]
  },
  {
   "attachments": {},
   "cell_type": "markdown",
   "metadata": {},
   "source": [
    "### NN continued"
   ]
  },
  {
   "cell_type": "code",
   "execution_count": 77,
   "metadata": {},
   "outputs": [],
   "source": [
    "\n",
    "\n",
    "# define network\n",
    "nparams = 4\n",
    "b_values = torch.FloatTensor([1e-6, 0.090, 1e-6, 0.500, 1e-6, 1.5, 1e-6, 2, 1e-6, 3])\n",
    "Delta = torch.FloatTensor([23.8, 23.8, 23.8, 31.3, 23.8, 43.8, 23.8, 34.3, 23.8, 38.8])\n",
    "delta = torch.FloatTensor([3.9, 3.9, 3.9, 11.4, 3.9, 23.9, 3.9, 14.4, 3.9, 18.9])\n",
    "gamma = 2.67e2\n",
    "#gradient_strength is 10x1.\n",
    "gradient_strength = torch.FloatTensor([np.sqrt(b_values[i])/(gamma*delta[i]*np.sqrt(Delta[i]-delta[i]/3)) for i,_ in enumerate(b_values)])\n",
    "net = Net(b_values, Delta, delta, gradient_strength, nparams)\n",
    "\n",
    "#create batch queues for data\n",
    "batch_size = 128\n",
    "#// means divide and round down. \n",
    "num_batches = len(E_vox) // batch_size\n",
    "\n",
    "#import the E_vox array into the dataloader amd convert to float.\n",
    "#drop_last ignores the last batch if it is the wrong size. \n",
    "#num_workers is about performance. \n",
    "trainloader = utils.DataLoader(torch.from_numpy(E_vox.astype(np.float32)),\n",
    "                                batch_size = batch_size, \n",
    "                                shuffle = True,\n",
    "                                num_workers = 0, #was 2 previously\n",
    "                                drop_last = True)\n",
    "\n",
    "# loss function and optimizer\n",
    "#choosing which loss function to use. \n",
    "#not sure what the optmizer is\n",
    "criterion = nn.MSELoss()\n",
    "optimizer = optim.Adam(net.parameters(), lr = 0.0001)\n",
    "\n",
    "# best loss\n",
    "best = 1e16\n",
    "num_bad_epochs = 0\n",
    "patience = 10\n",
    "\n"
   ]
  },
  {
   "attachments": {},
   "cell_type": "markdown",
   "metadata": {},
   "source": [
    "### Training\n",
    "+ what does net.train() do?"
   ]
  },
  {
   "cell_type": "code",
   "execution_count": 78,
   "metadata": {},
   "outputs": [
    {
     "name": "stdout",
     "output_type": "stream",
     "text": [
      "-----------------------------------------------------------------\n",
      "epoch: 0; bad epochs: 0\n"
     ]
    },
    {
     "name": "stderr",
     "output_type": "stream",
     "text": [
      "100%|██████████| 781/781 [00:06<00:00, 120.36it/s]\n"
     ]
    },
    {
     "name": "stdout",
     "output_type": "stream",
     "text": [
      "loss: 69.13536189123988\n",
      "####################### saving good model #######################\n",
      "-----------------------------------------------------------------\n",
      "epoch: 1; bad epochs: 0\n"
     ]
    },
    {
     "name": "stderr",
     "output_type": "stream",
     "text": [
      "100%|██████████| 781/781 [00:06<00:00, 127.21it/s]\n"
     ]
    },
    {
     "name": "stdout",
     "output_type": "stream",
     "text": [
      "loss: 30.05918982811272\n",
      "####################### saving good model #######################\n",
      "-----------------------------------------------------------------\n",
      "epoch: 2; bad epochs: 0\n"
     ]
    },
    {
     "name": "stderr",
     "output_type": "stream",
     "text": [
      "100%|██████████| 781/781 [00:06<00:00, 127.15it/s]\n"
     ]
    },
    {
     "name": "stdout",
     "output_type": "stream",
     "text": [
      "loss: 25.88557245582342\n",
      "####################### saving good model #######################\n",
      "-----------------------------------------------------------------\n",
      "epoch: 3; bad epochs: 0\n"
     ]
    },
    {
     "name": "stderr",
     "output_type": "stream",
     "text": [
      "100%|██████████| 781/781 [00:06<00:00, 126.76it/s]\n"
     ]
    },
    {
     "name": "stdout",
     "output_type": "stream",
     "text": [
      "loss: 19.521549553610384\n",
      "####################### saving good model #######################\n",
      "-----------------------------------------------------------------\n",
      "epoch: 4; bad epochs: 0\n"
     ]
    },
    {
     "name": "stderr",
     "output_type": "stream",
     "text": [
      "100%|██████████| 781/781 [00:06<00:00, 120.77it/s]\n"
     ]
    },
    {
     "name": "stdout",
     "output_type": "stream",
     "text": [
      "loss: 14.437388712540269\n",
      "####################### saving good model #######################\n",
      "-----------------------------------------------------------------\n",
      "epoch: 5; bad epochs: 0\n"
     ]
    },
    {
     "name": "stderr",
     "output_type": "stream",
     "text": [
      "100%|██████████| 781/781 [00:06<00:00, 121.76it/s]\n"
     ]
    },
    {
     "name": "stdout",
     "output_type": "stream",
     "text": [
      "loss: 13.8962173871696\n",
      "####################### saving good model #######################\n",
      "-----------------------------------------------------------------\n",
      "epoch: 6; bad epochs: 0\n"
     ]
    },
    {
     "name": "stderr",
     "output_type": "stream",
     "text": [
      "100%|██████████| 781/781 [00:06<00:00, 119.18it/s]\n"
     ]
    },
    {
     "name": "stdout",
     "output_type": "stream",
     "text": [
      "loss: 13.52129451930523\n",
      "####################### saving good model #######################\n",
      "-----------------------------------------------------------------\n",
      "epoch: 7; bad epochs: 0\n"
     ]
    },
    {
     "name": "stderr",
     "output_type": "stream",
     "text": [
      "100%|██████████| 781/781 [00:06<00:00, 125.14it/s]\n"
     ]
    },
    {
     "name": "stdout",
     "output_type": "stream",
     "text": [
      "loss: 13.182815045118332\n",
      "####################### saving good model #######################\n",
      "-----------------------------------------------------------------\n",
      "epoch: 8; bad epochs: 0\n"
     ]
    },
    {
     "name": "stderr",
     "output_type": "stream",
     "text": [
      "100%|██████████| 781/781 [00:06<00:00, 123.50it/s]\n"
     ]
    },
    {
     "name": "stdout",
     "output_type": "stream",
     "text": [
      "loss: 12.82076486479491\n",
      "####################### saving good model #######################\n",
      "-----------------------------------------------------------------\n",
      "epoch: 9; bad epochs: 0\n"
     ]
    },
    {
     "name": "stderr",
     "output_type": "stream",
     "text": [
      "100%|██████████| 781/781 [00:06<00:00, 122.79it/s]\n"
     ]
    },
    {
     "name": "stdout",
     "output_type": "stream",
     "text": [
      "loss: 12.377753032371402\n",
      "####################### saving good model #######################\n",
      "-----------------------------------------------------------------\n",
      "epoch: 10; bad epochs: 0\n"
     ]
    },
    {
     "name": "stderr",
     "output_type": "stream",
     "text": [
      "100%|██████████| 781/781 [00:06<00:00, 122.78it/s]\n"
     ]
    },
    {
     "name": "stdout",
     "output_type": "stream",
     "text": [
      "loss: 11.960697510279715\n",
      "####################### saving good model #######################\n",
      "-----------------------------------------------------------------\n",
      "epoch: 11; bad epochs: 0\n"
     ]
    },
    {
     "name": "stderr",
     "output_type": "stream",
     "text": [
      "100%|██████████| 781/781 [00:12<00:00, 60.90it/s] \n"
     ]
    },
    {
     "name": "stdout",
     "output_type": "stream",
     "text": [
      "loss: 11.839940136298537\n",
      "####################### saving good model #######################\n",
      "-----------------------------------------------------------------\n",
      "epoch: 12; bad epochs: 0\n"
     ]
    },
    {
     "name": "stderr",
     "output_type": "stream",
     "text": [
      "100%|██████████| 781/781 [00:08<00:00, 89.17it/s] \n"
     ]
    },
    {
     "name": "stdout",
     "output_type": "stream",
     "text": [
      "loss: 11.813591175712645\n",
      "####################### saving good model #######################\n",
      "-----------------------------------------------------------------\n",
      "epoch: 13; bad epochs: 0\n"
     ]
    },
    {
     "name": "stderr",
     "output_type": "stream",
     "text": [
      "100%|██████████| 781/781 [00:05<00:00, 133.19it/s]\n"
     ]
    },
    {
     "name": "stdout",
     "output_type": "stream",
     "text": [
      "loss: 11.795780221000314\n",
      "####################### saving good model #######################\n",
      "-----------------------------------------------------------------\n",
      "epoch: 14; bad epochs: 0\n"
     ]
    },
    {
     "name": "stderr",
     "output_type": "stream",
     "text": [
      "100%|██████████| 781/781 [00:05<00:00, 136.43it/s]\n"
     ]
    },
    {
     "name": "stdout",
     "output_type": "stream",
     "text": [
      "loss: 11.779117560945451\n",
      "####################### saving good model #######################\n",
      "-----------------------------------------------------------------\n",
      "epoch: 15; bad epochs: 0\n"
     ]
    },
    {
     "name": "stderr",
     "output_type": "stream",
     "text": [
      "100%|██████████| 781/781 [00:05<00:00, 136.81it/s]\n"
     ]
    },
    {
     "name": "stdout",
     "output_type": "stream",
     "text": [
      "loss: 11.76327922847122\n",
      "####################### saving good model #######################\n",
      "-----------------------------------------------------------------\n",
      "epoch: 16; bad epochs: 0\n"
     ]
    },
    {
     "name": "stderr",
     "output_type": "stream",
     "text": [
      "100%|██████████| 781/781 [00:05<00:00, 132.02it/s]\n"
     ]
    },
    {
     "name": "stdout",
     "output_type": "stream",
     "text": [
      "loss: 11.744080221280456\n",
      "####################### saving good model #######################\n",
      "-----------------------------------------------------------------\n",
      "epoch: 17; bad epochs: 0\n"
     ]
    },
    {
     "name": "stderr",
     "output_type": "stream",
     "text": [
      "100%|██████████| 781/781 [00:05<00:00, 136.78it/s]\n"
     ]
    },
    {
     "name": "stdout",
     "output_type": "stream",
     "text": [
      "loss: 11.729531086049974\n",
      "####################### saving good model #######################\n",
      "-----------------------------------------------------------------\n",
      "epoch: 18; bad epochs: 0\n"
     ]
    },
    {
     "name": "stderr",
     "output_type": "stream",
     "text": [
      "100%|██████████| 781/781 [00:05<00:00, 136.89it/s]\n"
     ]
    },
    {
     "name": "stdout",
     "output_type": "stream",
     "text": [
      "loss: 11.710873013362288\n",
      "####################### saving good model #######################\n",
      "-----------------------------------------------------------------\n",
      "epoch: 19; bad epochs: 0\n"
     ]
    },
    {
     "name": "stderr",
     "output_type": "stream",
     "text": [
      "100%|██████████| 781/781 [00:05<00:00, 136.15it/s]\n"
     ]
    },
    {
     "name": "stdout",
     "output_type": "stream",
     "text": [
      "loss: 11.688231298699975\n",
      "####################### saving good model #######################\n",
      "-----------------------------------------------------------------\n",
      "epoch: 20; bad epochs: 0\n"
     ]
    },
    {
     "name": "stderr",
     "output_type": "stream",
     "text": [
      "100%|██████████| 781/781 [00:05<00:00, 137.74it/s]\n"
     ]
    },
    {
     "name": "stdout",
     "output_type": "stream",
     "text": [
      "loss: 11.661944962106645\n",
      "####################### saving good model #######################\n",
      "-----------------------------------------------------------------\n",
      "epoch: 21; bad epochs: 0\n"
     ]
    },
    {
     "name": "stderr",
     "output_type": "stream",
     "text": [
      "100%|██████████| 781/781 [00:09<00:00, 82.16it/s] \n"
     ]
    },
    {
     "name": "stdout",
     "output_type": "stream",
     "text": [
      "loss: 11.627445961348712\n",
      "####################### saving good model #######################\n",
      "-----------------------------------------------------------------\n",
      "epoch: 22; bad epochs: 0\n"
     ]
    },
    {
     "name": "stderr",
     "output_type": "stream",
     "text": [
      "100%|██████████| 781/781 [00:07<00:00, 105.43it/s]\n"
     ]
    },
    {
     "name": "stdout",
     "output_type": "stream",
     "text": [
      "loss: 11.586834871210158\n",
      "####################### saving good model #######################\n",
      "-----------------------------------------------------------------\n",
      "epoch: 23; bad epochs: 0\n"
     ]
    },
    {
     "name": "stderr",
     "output_type": "stream",
     "text": [
      "100%|██████████| 781/781 [00:07<00:00, 104.01it/s]\n"
     ]
    },
    {
     "name": "stdout",
     "output_type": "stream",
     "text": [
      "loss: 11.556689641438425\n",
      "####################### saving good model #######################\n",
      "-----------------------------------------------------------------\n",
      "epoch: 24; bad epochs: 0\n"
     ]
    },
    {
     "name": "stderr",
     "output_type": "stream",
     "text": [
      "100%|██████████| 781/781 [00:06<00:00, 112.95it/s]\n"
     ]
    },
    {
     "name": "stdout",
     "output_type": "stream",
     "text": [
      "loss: 11.529487279243767\n",
      "####################### saving good model #######################\n",
      "-----------------------------------------------------------------\n",
      "epoch: 25; bad epochs: 0\n"
     ]
    },
    {
     "name": "stderr",
     "output_type": "stream",
     "text": [
      "100%|██████████| 781/781 [00:06<00:00, 112.99it/s]\n"
     ]
    },
    {
     "name": "stdout",
     "output_type": "stream",
     "text": [
      "loss: 11.504142312332988\n",
      "####################### saving good model #######################\n",
      "-----------------------------------------------------------------\n",
      "epoch: 26; bad epochs: 0\n"
     ]
    },
    {
     "name": "stderr",
     "output_type": "stream",
     "text": [
      "100%|██████████| 781/781 [00:06<00:00, 114.25it/s]\n"
     ]
    },
    {
     "name": "stdout",
     "output_type": "stream",
     "text": [
      "loss: 11.480008714832366\n",
      "####################### saving good model #######################\n",
      "-----------------------------------------------------------------\n",
      "epoch: 27; bad epochs: 0\n"
     ]
    },
    {
     "name": "stderr",
     "output_type": "stream",
     "text": [
      "100%|██████████| 781/781 [00:06<00:00, 111.93it/s]\n"
     ]
    },
    {
     "name": "stdout",
     "output_type": "stream",
     "text": [
      "loss: 11.458464718423784\n",
      "####################### saving good model #######################\n",
      "-----------------------------------------------------------------\n",
      "epoch: 28; bad epochs: 0\n"
     ]
    },
    {
     "name": "stderr",
     "output_type": "stream",
     "text": [
      "100%|██████████| 781/781 [00:06<00:00, 113.67it/s]\n"
     ]
    },
    {
     "name": "stdout",
     "output_type": "stream",
     "text": [
      "loss: 11.440164013765752\n",
      "####################### saving good model #######################\n",
      "-----------------------------------------------------------------\n",
      "epoch: 29; bad epochs: 0\n"
     ]
    },
    {
     "name": "stderr",
     "output_type": "stream",
     "text": [
      "100%|██████████| 781/781 [00:06<00:00, 114.29it/s]\n"
     ]
    },
    {
     "name": "stdout",
     "output_type": "stream",
     "text": [
      "loss: 11.429078196175396\n",
      "####################### saving good model #######################\n",
      "-----------------------------------------------------------------\n",
      "epoch: 30; bad epochs: 0\n"
     ]
    },
    {
     "name": "stderr",
     "output_type": "stream",
     "text": [
      "100%|██████████| 781/781 [00:06<00:00, 115.38it/s]\n"
     ]
    },
    {
     "name": "stdout",
     "output_type": "stream",
     "text": [
      "loss: 11.417099580168724\n",
      "####################### saving good model #######################\n",
      "-----------------------------------------------------------------\n",
      "epoch: 31; bad epochs: 0\n"
     ]
    },
    {
     "name": "stderr",
     "output_type": "stream",
     "text": [
      "100%|██████████| 781/781 [00:07<00:00, 111.30it/s]\n"
     ]
    },
    {
     "name": "stdout",
     "output_type": "stream",
     "text": [
      "loss: 11.407771931961179\n",
      "####################### saving good model #######################\n",
      "-----------------------------------------------------------------\n",
      "epoch: 32; bad epochs: 0\n"
     ]
    },
    {
     "name": "stderr",
     "output_type": "stream",
     "text": [
      "100%|██████████| 781/781 [00:06<00:00, 114.72it/s]\n"
     ]
    },
    {
     "name": "stdout",
     "output_type": "stream",
     "text": [
      "loss: 11.400698338635266\n",
      "####################### saving good model #######################\n",
      "-----------------------------------------------------------------\n",
      "epoch: 33; bad epochs: 0\n"
     ]
    },
    {
     "name": "stderr",
     "output_type": "stream",
     "text": [
      "100%|██████████| 781/781 [00:06<00:00, 116.64it/s]\n"
     ]
    },
    {
     "name": "stdout",
     "output_type": "stream",
     "text": [
      "loss: 11.392634127289057\n",
      "####################### saving good model #######################\n",
      "-----------------------------------------------------------------\n",
      "epoch: 34; bad epochs: 0\n"
     ]
    },
    {
     "name": "stderr",
     "output_type": "stream",
     "text": [
      "100%|██████████| 781/781 [00:06<00:00, 112.82it/s]\n"
     ]
    },
    {
     "name": "stdout",
     "output_type": "stream",
     "text": [
      "loss: 11.38202009908855\n",
      "####################### saving good model #######################\n",
      "-----------------------------------------------------------------\n",
      "epoch: 35; bad epochs: 0\n"
     ]
    },
    {
     "name": "stderr",
     "output_type": "stream",
     "text": [
      "100%|██████████| 781/781 [00:06<00:00, 115.20it/s]\n"
     ]
    },
    {
     "name": "stdout",
     "output_type": "stream",
     "text": [
      "loss: 11.380092757754028\n",
      "####################### saving good model #######################\n",
      "-----------------------------------------------------------------\n",
      "epoch: 36; bad epochs: 0\n"
     ]
    },
    {
     "name": "stderr",
     "output_type": "stream",
     "text": [
      "100%|██████████| 781/781 [00:06<00:00, 114.21it/s]\n"
     ]
    },
    {
     "name": "stdout",
     "output_type": "stream",
     "text": [
      "loss: 11.374514023773372\n",
      "####################### saving good model #######################\n",
      "-----------------------------------------------------------------\n",
      "epoch: 37; bad epochs: 0\n"
     ]
    },
    {
     "name": "stderr",
     "output_type": "stream",
     "text": [
      "100%|██████████| 781/781 [00:06<00:00, 116.50it/s]\n"
     ]
    },
    {
     "name": "stdout",
     "output_type": "stream",
     "text": [
      "loss: 11.369477655738592\n",
      "####################### saving good model #######################\n",
      "-----------------------------------------------------------------\n",
      "epoch: 38; bad epochs: 0\n"
     ]
    },
    {
     "name": "stderr",
     "output_type": "stream",
     "text": [
      "100%|██████████| 781/781 [00:06<00:00, 115.97it/s]\n"
     ]
    },
    {
     "name": "stdout",
     "output_type": "stream",
     "text": [
      "loss: 11.365678815171123\n",
      "####################### saving good model #######################\n",
      "-----------------------------------------------------------------\n",
      "epoch: 39; bad epochs: 0\n"
     ]
    },
    {
     "name": "stderr",
     "output_type": "stream",
     "text": [
      "100%|██████████| 781/781 [00:06<00:00, 115.05it/s]\n"
     ]
    },
    {
     "name": "stdout",
     "output_type": "stream",
     "text": [
      "loss: 11.361803755164146\n",
      "####################### saving good model #######################\n",
      "-----------------------------------------------------------------\n",
      "epoch: 40; bad epochs: 0\n"
     ]
    },
    {
     "name": "stderr",
     "output_type": "stream",
     "text": [
      "100%|██████████| 781/781 [00:06<00:00, 114.20it/s]\n"
     ]
    },
    {
     "name": "stdout",
     "output_type": "stream",
     "text": [
      "loss: 11.357887472957373\n",
      "####################### saving good model #######################\n",
      "-----------------------------------------------------------------\n",
      "epoch: 41; bad epochs: 0\n"
     ]
    },
    {
     "name": "stderr",
     "output_type": "stream",
     "text": [
      "100%|██████████| 781/781 [00:06<00:00, 114.72it/s]\n"
     ]
    },
    {
     "name": "stdout",
     "output_type": "stream",
     "text": [
      "loss: 11.352230571210384\n",
      "####################### saving good model #######################\n",
      "-----------------------------------------------------------------\n",
      "epoch: 42; bad epochs: 0\n"
     ]
    },
    {
     "name": "stderr",
     "output_type": "stream",
     "text": [
      "100%|██████████| 781/781 [00:06<00:00, 112.88it/s]\n"
     ]
    },
    {
     "name": "stdout",
     "output_type": "stream",
     "text": [
      "loss: 11.352064180187881\n",
      "####################### saving good model #######################\n",
      "-----------------------------------------------------------------\n",
      "epoch: 43; bad epochs: 0\n"
     ]
    },
    {
     "name": "stderr",
     "output_type": "stream",
     "text": [
      "100%|██████████| 781/781 [00:06<00:00, 112.09it/s]\n"
     ]
    },
    {
     "name": "stdout",
     "output_type": "stream",
     "text": [
      "loss: 11.347526591271162\n",
      "####################### saving good model #######################\n",
      "-----------------------------------------------------------------\n",
      "epoch: 44; bad epochs: 0\n"
     ]
    },
    {
     "name": "stderr",
     "output_type": "stream",
     "text": [
      "100%|██████████| 781/781 [00:06<00:00, 112.87it/s]\n"
     ]
    },
    {
     "name": "stdout",
     "output_type": "stream",
     "text": [
      "loss: 11.34604502376169\n",
      "####################### saving good model #######################\n",
      "-----------------------------------------------------------------\n",
      "epoch: 45; bad epochs: 0\n"
     ]
    },
    {
     "name": "stderr",
     "output_type": "stream",
     "text": [
      "100%|██████████| 781/781 [00:06<00:00, 115.57it/s]\n"
     ]
    },
    {
     "name": "stdout",
     "output_type": "stream",
     "text": [
      "loss: 11.34361367393285\n",
      "####################### saving good model #######################\n",
      "-----------------------------------------------------------------\n",
      "epoch: 46; bad epochs: 0\n"
     ]
    },
    {
     "name": "stderr",
     "output_type": "stream",
     "text": [
      "100%|██████████| 781/781 [00:11<00:00, 70.48it/s] \n"
     ]
    },
    {
     "name": "stdout",
     "output_type": "stream",
     "text": [
      "loss: 11.342897489666939\n",
      "####################### saving good model #######################\n",
      "-----------------------------------------------------------------\n",
      "epoch: 47; bad epochs: 0\n"
     ]
    },
    {
     "name": "stderr",
     "output_type": "stream",
     "text": [
      "100%|██████████| 781/781 [00:08<00:00, 95.91it/s] \n"
     ]
    },
    {
     "name": "stdout",
     "output_type": "stream",
     "text": [
      "loss: 11.34158246126026\n",
      "####################### saving good model #######################\n",
      "-----------------------------------------------------------------\n",
      "epoch: 48; bad epochs: 0\n"
     ]
    },
    {
     "name": "stderr",
     "output_type": "stream",
     "text": [
      "100%|██████████| 781/781 [00:07<00:00, 107.22it/s]\n"
     ]
    },
    {
     "name": "stdout",
     "output_type": "stream",
     "text": [
      "loss: 11.338559362106025\n",
      "####################### saving good model #######################\n",
      "-----------------------------------------------------------------\n",
      "epoch: 49; bad epochs: 0\n"
     ]
    },
    {
     "name": "stderr",
     "output_type": "stream",
     "text": [
      "100%|██████████| 781/781 [00:07<00:00, 105.77it/s]\n"
     ]
    },
    {
     "name": "stdout",
     "output_type": "stream",
     "text": [
      "loss: 11.335226415656507\n",
      "####################### saving good model #######################\n",
      "-----------------------------------------------------------------\n",
      "epoch: 50; bad epochs: 0\n"
     ]
    },
    {
     "name": "stderr",
     "output_type": "stream",
     "text": [
      "100%|██████████| 781/781 [00:06<00:00, 111.79it/s]\n"
     ]
    },
    {
     "name": "stdout",
     "output_type": "stream",
     "text": [
      "loss: 11.335320328362286\n",
      "-----------------------------------------------------------------\n",
      "epoch: 51; bad epochs: 1\n"
     ]
    },
    {
     "name": "stderr",
     "output_type": "stream",
     "text": [
      "100%|██████████| 781/781 [00:07<00:00, 106.03it/s]\n"
     ]
    },
    {
     "name": "stdout",
     "output_type": "stream",
     "text": [
      "loss: 11.335562489926815\n",
      "-----------------------------------------------------------------\n",
      "epoch: 52; bad epochs: 2\n"
     ]
    },
    {
     "name": "stderr",
     "output_type": "stream",
     "text": [
      "100%|██████████| 781/781 [00:07<00:00, 107.97it/s]\n"
     ]
    },
    {
     "name": "stdout",
     "output_type": "stream",
     "text": [
      "loss: 11.329946892336011\n",
      "####################### saving good model #######################\n",
      "-----------------------------------------------------------------\n",
      "epoch: 53; bad epochs: 0\n"
     ]
    },
    {
     "name": "stderr",
     "output_type": "stream",
     "text": [
      "100%|██████████| 781/781 [00:07<00:00, 106.36it/s]\n"
     ]
    },
    {
     "name": "stdout",
     "output_type": "stream",
     "text": [
      "loss: 11.33229904063046\n",
      "-----------------------------------------------------------------\n",
      "epoch: 54; bad epochs: 1\n"
     ]
    },
    {
     "name": "stderr",
     "output_type": "stream",
     "text": [
      "100%|██████████| 781/781 [00:06<00:00, 114.75it/s]\n"
     ]
    },
    {
     "name": "stdout",
     "output_type": "stream",
     "text": [
      "loss: 11.330785299651325\n",
      "-----------------------------------------------------------------\n",
      "epoch: 55; bad epochs: 2\n"
     ]
    },
    {
     "name": "stderr",
     "output_type": "stream",
     "text": [
      "100%|██████████| 781/781 [00:06<00:00, 113.96it/s]\n"
     ]
    },
    {
     "name": "stdout",
     "output_type": "stream",
     "text": [
      "loss: 11.330182721838355\n",
      "-----------------------------------------------------------------\n",
      "epoch: 56; bad epochs: 3\n"
     ]
    },
    {
     "name": "stderr",
     "output_type": "stream",
     "text": [
      "100%|██████████| 781/781 [00:06<00:00, 112.18it/s]\n"
     ]
    },
    {
     "name": "stdout",
     "output_type": "stream",
     "text": [
      "loss: 11.328508725389838\n",
      "####################### saving good model #######################\n",
      "-----------------------------------------------------------------\n",
      "epoch: 57; bad epochs: 0\n"
     ]
    },
    {
     "name": "stderr",
     "output_type": "stream",
     "text": [
      "100%|██████████| 781/781 [00:07<00:00, 108.57it/s]\n"
     ]
    },
    {
     "name": "stdout",
     "output_type": "stream",
     "text": [
      "loss: 11.326394996605814\n",
      "####################### saving good model #######################\n",
      "-----------------------------------------------------------------\n",
      "epoch: 58; bad epochs: 0\n"
     ]
    },
    {
     "name": "stderr",
     "output_type": "stream",
     "text": [
      "100%|██████████| 781/781 [00:06<00:00, 112.44it/s]\n"
     ]
    },
    {
     "name": "stdout",
     "output_type": "stream",
     "text": [
      "loss: 11.32633462548256\n",
      "####################### saving good model #######################\n",
      "-----------------------------------------------------------------\n",
      "epoch: 59; bad epochs: 0\n"
     ]
    },
    {
     "name": "stderr",
     "output_type": "stream",
     "text": [
      "100%|██████████| 781/781 [00:06<00:00, 114.99it/s]\n"
     ]
    },
    {
     "name": "stdout",
     "output_type": "stream",
     "text": [
      "loss: 11.325855353847146\n",
      "####################### saving good model #######################\n",
      "-----------------------------------------------------------------\n",
      "epoch: 60; bad epochs: 0\n"
     ]
    },
    {
     "name": "stderr",
     "output_type": "stream",
     "text": [
      "100%|██████████| 781/781 [00:06<00:00, 114.63it/s]\n"
     ]
    },
    {
     "name": "stdout",
     "output_type": "stream",
     "text": [
      "loss: 11.325420197099447\n",
      "####################### saving good model #######################\n",
      "-----------------------------------------------------------------\n",
      "epoch: 61; bad epochs: 0\n"
     ]
    },
    {
     "name": "stderr",
     "output_type": "stream",
     "text": [
      "100%|██████████| 781/781 [00:06<00:00, 114.93it/s]\n"
     ]
    },
    {
     "name": "stdout",
     "output_type": "stream",
     "text": [
      "loss: 11.32425785344094\n",
      "####################### saving good model #######################\n",
      "-----------------------------------------------------------------\n",
      "epoch: 62; bad epochs: 0\n"
     ]
    },
    {
     "name": "stderr",
     "output_type": "stream",
     "text": [
      "100%|██████████| 781/781 [00:06<00:00, 111.84it/s]\n"
     ]
    },
    {
     "name": "stdout",
     "output_type": "stream",
     "text": [
      "loss: 11.321887240745127\n",
      "####################### saving good model #######################\n",
      "-----------------------------------------------------------------\n",
      "epoch: 63; bad epochs: 0\n"
     ]
    },
    {
     "name": "stderr",
     "output_type": "stream",
     "text": [
      "100%|██████████| 781/781 [00:06<00:00, 114.25it/s]\n"
     ]
    },
    {
     "name": "stdout",
     "output_type": "stream",
     "text": [
      "loss: 11.322503259405494\n",
      "-----------------------------------------------------------------\n",
      "epoch: 64; bad epochs: 1\n"
     ]
    },
    {
     "name": "stderr",
     "output_type": "stream",
     "text": [
      "100%|██████████| 781/781 [00:09<00:00, 86.47it/s] \n"
     ]
    },
    {
     "name": "stdout",
     "output_type": "stream",
     "text": [
      "loss: 11.32119472976774\n",
      "####################### saving good model #######################\n",
      "-----------------------------------------------------------------\n",
      "epoch: 65; bad epochs: 0\n"
     ]
    },
    {
     "name": "stderr",
     "output_type": "stream",
     "text": [
      "100%|██████████| 781/781 [00:08<00:00, 92.00it/s] \n"
     ]
    },
    {
     "name": "stdout",
     "output_type": "stream",
     "text": [
      "loss: 11.320401998236775\n",
      "####################### saving good model #######################\n",
      "-----------------------------------------------------------------\n",
      "epoch: 66; bad epochs: 0\n"
     ]
    },
    {
     "name": "stderr",
     "output_type": "stream",
     "text": [
      "100%|██████████| 781/781 [00:07<00:00, 100.72it/s]\n"
     ]
    },
    {
     "name": "stdout",
     "output_type": "stream",
     "text": [
      "loss: 11.319985617883503\n",
      "####################### saving good model #######################\n",
      "-----------------------------------------------------------------\n",
      "epoch: 67; bad epochs: 0\n"
     ]
    },
    {
     "name": "stderr",
     "output_type": "stream",
     "text": [
      "100%|██████████| 781/781 [00:07<00:00, 107.86it/s]\n"
     ]
    },
    {
     "name": "stdout",
     "output_type": "stream",
     "text": [
      "loss: 11.318771085701883\n",
      "####################### saving good model #######################\n",
      "-----------------------------------------------------------------\n",
      "epoch: 68; bad epochs: 0\n"
     ]
    },
    {
     "name": "stderr",
     "output_type": "stream",
     "text": [
      "100%|██████████| 781/781 [00:07<00:00, 106.56it/s]\n"
     ]
    },
    {
     "name": "stdout",
     "output_type": "stream",
     "text": [
      "loss: 11.317865164019167\n",
      "####################### saving good model #######################\n",
      "-----------------------------------------------------------------\n",
      "epoch: 69; bad epochs: 0\n"
     ]
    },
    {
     "name": "stderr",
     "output_type": "stream",
     "text": [
      "100%|██████████| 781/781 [00:07<00:00, 101.98it/s]\n"
     ]
    },
    {
     "name": "stdout",
     "output_type": "stream",
     "text": [
      "loss: 11.317410032264888\n",
      "####################### saving good model #######################\n",
      "-----------------------------------------------------------------\n",
      "epoch: 70; bad epochs: 0\n"
     ]
    },
    {
     "name": "stderr",
     "output_type": "stream",
     "text": [
      "100%|██████████| 781/781 [00:06<00:00, 114.45it/s]\n"
     ]
    },
    {
     "name": "stdout",
     "output_type": "stream",
     "text": [
      "loss: 11.315864044241607\n",
      "####################### saving good model #######################\n",
      "-----------------------------------------------------------------\n",
      "epoch: 71; bad epochs: 0\n"
     ]
    },
    {
     "name": "stderr",
     "output_type": "stream",
     "text": [
      "100%|██████████| 781/781 [00:07<00:00, 111.18it/s]\n"
     ]
    },
    {
     "name": "stdout",
     "output_type": "stream",
     "text": [
      "loss: 11.315312676131725\n",
      "####################### saving good model #######################\n",
      "-----------------------------------------------------------------\n",
      "epoch: 72; bad epochs: 0\n"
     ]
    },
    {
     "name": "stderr",
     "output_type": "stream",
     "text": [
      "100%|██████████| 781/781 [00:06<00:00, 113.93it/s]\n"
     ]
    },
    {
     "name": "stdout",
     "output_type": "stream",
     "text": [
      "loss: 11.314609363675117\n",
      "####################### saving good model #######################\n",
      "-----------------------------------------------------------------\n",
      "epoch: 73; bad epochs: 0\n"
     ]
    },
    {
     "name": "stderr",
     "output_type": "stream",
     "text": [
      "100%|██████████| 781/781 [00:06<00:00, 113.41it/s]\n"
     ]
    },
    {
     "name": "stdout",
     "output_type": "stream",
     "text": [
      "loss: 11.313130709342659\n",
      "####################### saving good model #######################\n",
      "-----------------------------------------------------------------\n",
      "epoch: 74; bad epochs: 0\n"
     ]
    },
    {
     "name": "stderr",
     "output_type": "stream",
     "text": [
      "100%|██████████| 781/781 [00:06<00:00, 112.14it/s]\n"
     ]
    },
    {
     "name": "stdout",
     "output_type": "stream",
     "text": [
      "loss: 11.312645114026964\n",
      "####################### saving good model #######################\n",
      "-----------------------------------------------------------------\n",
      "epoch: 75; bad epochs: 0\n"
     ]
    },
    {
     "name": "stderr",
     "output_type": "stream",
     "text": [
      "100%|██████████| 781/781 [00:06<00:00, 113.34it/s]\n"
     ]
    },
    {
     "name": "stdout",
     "output_type": "stream",
     "text": [
      "loss: 11.31216877233237\n",
      "####################### saving good model #######################\n",
      "-----------------------------------------------------------------\n",
      "epoch: 76; bad epochs: 0\n"
     ]
    },
    {
     "name": "stderr",
     "output_type": "stream",
     "text": [
      "100%|██████████| 781/781 [00:06<00:00, 113.42it/s]\n"
     ]
    },
    {
     "name": "stdout",
     "output_type": "stream",
     "text": [
      "loss: 11.30896127037704\n",
      "####################### saving good model #######################\n",
      "-----------------------------------------------------------------\n",
      "epoch: 77; bad epochs: 0\n"
     ]
    },
    {
     "name": "stderr",
     "output_type": "stream",
     "text": [
      "100%|██████████| 781/781 [00:06<00:00, 117.02it/s]\n"
     ]
    },
    {
     "name": "stdout",
     "output_type": "stream",
     "text": [
      "loss: 11.310934134759009\n",
      "-----------------------------------------------------------------\n",
      "epoch: 78; bad epochs: 1\n"
     ]
    },
    {
     "name": "stderr",
     "output_type": "stream",
     "text": [
      "100%|██████████| 781/781 [00:07<00:00, 105.77it/s]\n"
     ]
    },
    {
     "name": "stdout",
     "output_type": "stream",
     "text": [
      "loss: 11.311425861902535\n",
      "-----------------------------------------------------------------\n",
      "epoch: 79; bad epochs: 2\n"
     ]
    },
    {
     "name": "stderr",
     "output_type": "stream",
     "text": [
      "100%|██████████| 781/781 [00:07<00:00, 109.86it/s]\n"
     ]
    },
    {
     "name": "stdout",
     "output_type": "stream",
     "text": [
      "loss: 11.308924838900566\n",
      "####################### saving good model #######################\n",
      "-----------------------------------------------------------------\n",
      "epoch: 80; bad epochs: 0\n"
     ]
    },
    {
     "name": "stderr",
     "output_type": "stream",
     "text": [
      "100%|██████████| 781/781 [00:06<00:00, 115.28it/s]\n"
     ]
    },
    {
     "name": "stdout",
     "output_type": "stream",
     "text": [
      "loss: 11.308127852156758\n",
      "####################### saving good model #######################\n",
      "-----------------------------------------------------------------\n",
      "epoch: 81; bad epochs: 0\n"
     ]
    },
    {
     "name": "stderr",
     "output_type": "stream",
     "text": [
      "100%|██████████| 781/781 [00:07<00:00, 111.32it/s]\n"
     ]
    },
    {
     "name": "stdout",
     "output_type": "stream",
     "text": [
      "loss: 11.305027013644576\n",
      "####################### saving good model #######################\n",
      "-----------------------------------------------------------------\n",
      "epoch: 82; bad epochs: 0\n"
     ]
    },
    {
     "name": "stderr",
     "output_type": "stream",
     "text": [
      "100%|██████████| 781/781 [00:06<00:00, 113.15it/s]\n"
     ]
    },
    {
     "name": "stdout",
     "output_type": "stream",
     "text": [
      "loss: 11.307128062471747\n",
      "-----------------------------------------------------------------\n",
      "epoch: 83; bad epochs: 1\n"
     ]
    },
    {
     "name": "stderr",
     "output_type": "stream",
     "text": [
      "100%|██████████| 781/781 [00:06<00:00, 113.21it/s]\n"
     ]
    },
    {
     "name": "stdout",
     "output_type": "stream",
     "text": [
      "loss: 11.307837158441544\n",
      "-----------------------------------------------------------------\n",
      "epoch: 84; bad epochs: 2\n"
     ]
    },
    {
     "name": "stderr",
     "output_type": "stream",
     "text": [
      "100%|██████████| 781/781 [00:07<00:00, 111.03it/s]\n"
     ]
    },
    {
     "name": "stdout",
     "output_type": "stream",
     "text": [
      "loss: 11.307214117608964\n",
      "-----------------------------------------------------------------\n",
      "epoch: 85; bad epochs: 3\n"
     ]
    },
    {
     "name": "stderr",
     "output_type": "stream",
     "text": [
      "100%|██████████| 781/781 [00:06<00:00, 113.28it/s]\n"
     ]
    },
    {
     "name": "stdout",
     "output_type": "stream",
     "text": [
      "loss: 11.30682609602809\n",
      "-----------------------------------------------------------------\n",
      "epoch: 86; bad epochs: 4\n"
     ]
    },
    {
     "name": "stderr",
     "output_type": "stream",
     "text": [
      "100%|██████████| 781/781 [00:07<00:00, 110.80it/s]\n"
     ]
    },
    {
     "name": "stdout",
     "output_type": "stream",
     "text": [
      "loss: 11.306152150966227\n",
      "-----------------------------------------------------------------\n",
      "epoch: 87; bad epochs: 5\n"
     ]
    },
    {
     "name": "stderr",
     "output_type": "stream",
     "text": [
      "100%|██████████| 781/781 [00:06<00:00, 113.78it/s]\n"
     ]
    },
    {
     "name": "stdout",
     "output_type": "stream",
     "text": [
      "loss: 11.306707793846726\n",
      "-----------------------------------------------------------------\n",
      "epoch: 88; bad epochs: 6\n"
     ]
    },
    {
     "name": "stderr",
     "output_type": "stream",
     "text": [
      "100%|██████████| 781/781 [00:06<00:00, 112.03it/s]\n"
     ]
    },
    {
     "name": "stdout",
     "output_type": "stream",
     "text": [
      "loss: 11.305975523777306\n",
      "-----------------------------------------------------------------\n",
      "epoch: 89; bad epochs: 7\n"
     ]
    },
    {
     "name": "stderr",
     "output_type": "stream",
     "text": [
      "100%|██████████| 781/781 [00:07<00:00, 110.47it/s]\n"
     ]
    },
    {
     "name": "stdout",
     "output_type": "stream",
     "text": [
      "loss: 11.304974718950689\n",
      "####################### saving good model #######################\n",
      "-----------------------------------------------------------------\n",
      "epoch: 90; bad epochs: 0\n"
     ]
    },
    {
     "name": "stderr",
     "output_type": "stream",
     "text": [
      "100%|██████████| 781/781 [00:06<00:00, 114.18it/s]\n"
     ]
    },
    {
     "name": "stdout",
     "output_type": "stream",
     "text": [
      "loss: 11.303961604833603\n",
      "####################### saving good model #######################\n",
      "-----------------------------------------------------------------\n",
      "epoch: 91; bad epochs: 0\n"
     ]
    },
    {
     "name": "stderr",
     "output_type": "stream",
     "text": [
      "100%|██████████| 781/781 [00:06<00:00, 113.99it/s]\n"
     ]
    },
    {
     "name": "stdout",
     "output_type": "stream",
     "text": [
      "loss: 11.304141256958246\n",
      "-----------------------------------------------------------------\n",
      "epoch: 92; bad epochs: 1\n"
     ]
    },
    {
     "name": "stderr",
     "output_type": "stream",
     "text": [
      "100%|██████████| 781/781 [00:06<00:00, 111.74it/s]\n"
     ]
    },
    {
     "name": "stdout",
     "output_type": "stream",
     "text": [
      "loss: 11.304413344711065\n",
      "-----------------------------------------------------------------\n",
      "epoch: 93; bad epochs: 2\n"
     ]
    },
    {
     "name": "stderr",
     "output_type": "stream",
     "text": [
      "100%|██████████| 781/781 [00:06<00:00, 114.40it/s]\n"
     ]
    },
    {
     "name": "stdout",
     "output_type": "stream",
     "text": [
      "loss: 11.304296149872243\n",
      "-----------------------------------------------------------------\n",
      "epoch: 94; bad epochs: 3\n"
     ]
    },
    {
     "name": "stderr",
     "output_type": "stream",
     "text": [
      "100%|██████████| 781/781 [00:06<00:00, 112.66it/s]\n"
     ]
    },
    {
     "name": "stdout",
     "output_type": "stream",
     "text": [
      "loss: 11.303071294911206\n",
      "####################### saving good model #######################\n",
      "-----------------------------------------------------------------\n",
      "epoch: 95; bad epochs: 0\n"
     ]
    },
    {
     "name": "stderr",
     "output_type": "stream",
     "text": [
      "100%|██████████| 781/781 [00:06<00:00, 112.19it/s]\n"
     ]
    },
    {
     "name": "stdout",
     "output_type": "stream",
     "text": [
      "loss: 11.30168370064348\n",
      "####################### saving good model #######################\n",
      "-----------------------------------------------------------------\n",
      "epoch: 96; bad epochs: 0\n"
     ]
    },
    {
     "name": "stderr",
     "output_type": "stream",
     "text": [
      "100%|██████████| 781/781 [00:06<00:00, 116.15it/s]\n"
     ]
    },
    {
     "name": "stdout",
     "output_type": "stream",
     "text": [
      "loss: 11.302040875889361\n",
      "-----------------------------------------------------------------\n",
      "epoch: 97; bad epochs: 1\n"
     ]
    },
    {
     "name": "stderr",
     "output_type": "stream",
     "text": [
      "100%|██████████| 781/781 [00:09<00:00, 83.10it/s] \n"
     ]
    },
    {
     "name": "stdout",
     "output_type": "stream",
     "text": [
      "loss: 11.301666871644557\n",
      "####################### saving good model #######################\n",
      "-----------------------------------------------------------------\n",
      "epoch: 98; bad epochs: 0\n"
     ]
    },
    {
     "name": "stderr",
     "output_type": "stream",
     "text": [
      "100%|██████████| 781/781 [00:07<00:00, 99.01it/s] \n"
     ]
    },
    {
     "name": "stdout",
     "output_type": "stream",
     "text": [
      "loss: 11.301166095770895\n",
      "####################### saving good model #######################\n",
      "-----------------------------------------------------------------\n",
      "epoch: 99; bad epochs: 0\n"
     ]
    },
    {
     "name": "stderr",
     "output_type": "stream",
     "text": [
      "100%|██████████| 781/781 [00:07<00:00, 107.56it/s]\n"
     ]
    },
    {
     "name": "stdout",
     "output_type": "stream",
     "text": [
      "loss: 11.300855727866292\n",
      "####################### saving good model #######################\n",
      "-----------------------------------------------------------------\n",
      "epoch: 100; bad epochs: 0\n"
     ]
    },
    {
     "name": "stderr",
     "output_type": "stream",
     "text": [
      "100%|██████████| 781/781 [00:07<00:00, 106.90it/s]\n"
     ]
    },
    {
     "name": "stdout",
     "output_type": "stream",
     "text": [
      "loss: 11.30226324684918\n",
      "-----------------------------------------------------------------\n",
      "epoch: 101; bad epochs: 1\n"
     ]
    },
    {
     "name": "stderr",
     "output_type": "stream",
     "text": [
      "100%|██████████| 781/781 [00:07<00:00, 107.12it/s]\n"
     ]
    },
    {
     "name": "stdout",
     "output_type": "stream",
     "text": [
      "loss: 11.301625164225698\n",
      "-----------------------------------------------------------------\n",
      "epoch: 102; bad epochs: 2\n"
     ]
    },
    {
     "name": "stderr",
     "output_type": "stream",
     "text": [
      "100%|██████████| 781/781 [00:06<00:00, 111.89it/s]\n"
     ]
    },
    {
     "name": "stdout",
     "output_type": "stream",
     "text": [
      "loss: 11.300209484994411\n",
      "####################### saving good model #######################\n",
      "-----------------------------------------------------------------\n",
      "epoch: 103; bad epochs: 0\n"
     ]
    },
    {
     "name": "stderr",
     "output_type": "stream",
     "text": [
      "100%|██████████| 781/781 [00:06<00:00, 113.81it/s]\n"
     ]
    },
    {
     "name": "stdout",
     "output_type": "stream",
     "text": [
      "loss: 11.299693936482072\n",
      "####################### saving good model #######################\n",
      "-----------------------------------------------------------------\n",
      "epoch: 104; bad epochs: 0\n"
     ]
    },
    {
     "name": "stderr",
     "output_type": "stream",
     "text": [
      "100%|██████████| 781/781 [00:06<00:00, 113.57it/s]\n"
     ]
    },
    {
     "name": "stdout",
     "output_type": "stream",
     "text": [
      "loss: 11.30086035747081\n",
      "-----------------------------------------------------------------\n",
      "epoch: 105; bad epochs: 1\n"
     ]
    },
    {
     "name": "stderr",
     "output_type": "stream",
     "text": [
      "100%|██████████| 781/781 [00:07<00:00, 110.77it/s]\n"
     ]
    },
    {
     "name": "stdout",
     "output_type": "stream",
     "text": [
      "loss: 11.30119834560901\n",
      "-----------------------------------------------------------------\n",
      "epoch: 106; bad epochs: 2\n"
     ]
    },
    {
     "name": "stderr",
     "output_type": "stream",
     "text": [
      "100%|██████████| 781/781 [00:07<00:00, 108.38it/s]\n"
     ]
    },
    {
     "name": "stdout",
     "output_type": "stream",
     "text": [
      "loss: 11.300221489742398\n",
      "-----------------------------------------------------------------\n",
      "epoch: 107; bad epochs: 3\n"
     ]
    },
    {
     "name": "stderr",
     "output_type": "stream",
     "text": [
      "100%|██████████| 781/781 [00:07<00:00, 109.75it/s]\n"
     ]
    },
    {
     "name": "stdout",
     "output_type": "stream",
     "text": [
      "loss: 11.29940054193139\n",
      "####################### saving good model #######################\n",
      "-----------------------------------------------------------------\n",
      "epoch: 108; bad epochs: 0\n"
     ]
    },
    {
     "name": "stderr",
     "output_type": "stream",
     "text": [
      "100%|██████████| 781/781 [00:06<00:00, 112.69it/s]\n"
     ]
    },
    {
     "name": "stdout",
     "output_type": "stream",
     "text": [
      "loss: 11.298136342316866\n",
      "####################### saving good model #######################\n",
      "-----------------------------------------------------------------\n",
      "epoch: 109; bad epochs: 0\n"
     ]
    },
    {
     "name": "stderr",
     "output_type": "stream",
     "text": [
      "100%|██████████| 781/781 [00:06<00:00, 112.04it/s]\n"
     ]
    },
    {
     "name": "stdout",
     "output_type": "stream",
     "text": [
      "loss: 11.298640103079379\n",
      "-----------------------------------------------------------------\n",
      "epoch: 110; bad epochs: 1\n"
     ]
    },
    {
     "name": "stderr",
     "output_type": "stream",
     "text": [
      "100%|██████████| 781/781 [00:06<00:00, 112.91it/s]\n"
     ]
    },
    {
     "name": "stdout",
     "output_type": "stream",
     "text": [
      "loss: 11.297541750594974\n",
      "####################### saving good model #######################\n",
      "-----------------------------------------------------------------\n",
      "epoch: 111; bad epochs: 0\n"
     ]
    },
    {
     "name": "stderr",
     "output_type": "stream",
     "text": [
      "100%|██████████| 781/781 [00:07<00:00, 108.69it/s]\n"
     ]
    },
    {
     "name": "stdout",
     "output_type": "stream",
     "text": [
      "loss: 11.299190636724234\n",
      "-----------------------------------------------------------------\n",
      "epoch: 112; bad epochs: 1\n"
     ]
    },
    {
     "name": "stderr",
     "output_type": "stream",
     "text": [
      "100%|██████████| 781/781 [00:06<00:00, 115.51it/s]\n"
     ]
    },
    {
     "name": "stdout",
     "output_type": "stream",
     "text": [
      "loss: 11.297834589146078\n",
      "-----------------------------------------------------------------\n",
      "epoch: 113; bad epochs: 2\n"
     ]
    },
    {
     "name": "stderr",
     "output_type": "stream",
     "text": [
      "100%|██████████| 781/781 [00:06<00:00, 112.81it/s]\n"
     ]
    },
    {
     "name": "stdout",
     "output_type": "stream",
     "text": [
      "loss: 11.299485018476844\n",
      "-----------------------------------------------------------------\n",
      "epoch: 114; bad epochs: 3\n"
     ]
    },
    {
     "name": "stderr",
     "output_type": "stream",
     "text": [
      "100%|██████████| 781/781 [00:08<00:00, 88.33it/s] \n"
     ]
    },
    {
     "name": "stdout",
     "output_type": "stream",
     "text": [
      "loss: 11.29878311790526\n",
      "-----------------------------------------------------------------\n",
      "epoch: 115; bad epochs: 4\n"
     ]
    },
    {
     "name": "stderr",
     "output_type": "stream",
     "text": [
      "100%|██████████| 781/781 [00:07<00:00, 104.67it/s]\n"
     ]
    },
    {
     "name": "stdout",
     "output_type": "stream",
     "text": [
      "loss: 11.297930013388395\n",
      "-----------------------------------------------------------------\n",
      "epoch: 116; bad epochs: 5\n"
     ]
    },
    {
     "name": "stderr",
     "output_type": "stream",
     "text": [
      "100%|██████████| 781/781 [00:07<00:00, 104.72it/s]\n"
     ]
    },
    {
     "name": "stdout",
     "output_type": "stream",
     "text": [
      "loss: 11.298256343230605\n",
      "-----------------------------------------------------------------\n",
      "epoch: 117; bad epochs: 6\n"
     ]
    },
    {
     "name": "stderr",
     "output_type": "stream",
     "text": [
      "100%|██████████| 781/781 [00:07<00:00, 104.76it/s]\n"
     ]
    },
    {
     "name": "stdout",
     "output_type": "stream",
     "text": [
      "loss: 11.297582036815584\n",
      "-----------------------------------------------------------------\n",
      "epoch: 118; bad epochs: 7\n"
     ]
    },
    {
     "name": "stderr",
     "output_type": "stream",
     "text": [
      "100%|██████████| 781/781 [00:08<00:00, 95.92it/s] \n"
     ]
    },
    {
     "name": "stdout",
     "output_type": "stream",
     "text": [
      "loss: 11.296924052760005\n",
      "####################### saving good model #######################\n",
      "-----------------------------------------------------------------\n",
      "epoch: 119; bad epochs: 0\n"
     ]
    },
    {
     "name": "stderr",
     "output_type": "stream",
     "text": [
      "100%|██████████| 781/781 [00:07<00:00, 108.70it/s]\n"
     ]
    },
    {
     "name": "stdout",
     "output_type": "stream",
     "text": [
      "loss: 11.29651711601764\n",
      "####################### saving good model #######################\n",
      "-----------------------------------------------------------------\n",
      "epoch: 120; bad epochs: 0\n"
     ]
    },
    {
     "name": "stderr",
     "output_type": "stream",
     "text": [
      "100%|██████████| 781/781 [00:06<00:00, 114.77it/s]\n"
     ]
    },
    {
     "name": "stdout",
     "output_type": "stream",
     "text": [
      "loss: 11.292830938473344\n",
      "####################### saving good model #######################\n",
      "-----------------------------------------------------------------\n",
      "epoch: 121; bad epochs: 0\n"
     ]
    },
    {
     "name": "stderr",
     "output_type": "stream",
     "text": [
      "100%|██████████| 781/781 [00:07<00:00, 107.41it/s]\n"
     ]
    },
    {
     "name": "stdout",
     "output_type": "stream",
     "text": [
      "loss: 11.297170887701213\n",
      "-----------------------------------------------------------------\n",
      "epoch: 122; bad epochs: 1\n"
     ]
    },
    {
     "name": "stderr",
     "output_type": "stream",
     "text": [
      "100%|██████████| 781/781 [00:06<00:00, 116.94it/s]\n"
     ]
    },
    {
     "name": "stdout",
     "output_type": "stream",
     "text": [
      "loss: 11.296523438766599\n",
      "-----------------------------------------------------------------\n",
      "epoch: 123; bad epochs: 2\n"
     ]
    },
    {
     "name": "stderr",
     "output_type": "stream",
     "text": [
      "100%|██████████| 781/781 [00:06<00:00, 127.31it/s]\n"
     ]
    },
    {
     "name": "stdout",
     "output_type": "stream",
     "text": [
      "loss: 11.296587871387601\n",
      "-----------------------------------------------------------------\n",
      "epoch: 124; bad epochs: 3\n"
     ]
    },
    {
     "name": "stderr",
     "output_type": "stream",
     "text": [
      "100%|██████████| 781/781 [00:05<00:00, 137.20it/s]\n"
     ]
    },
    {
     "name": "stdout",
     "output_type": "stream",
     "text": [
      "loss: 11.295273253694177\n",
      "-----------------------------------------------------------------\n",
      "epoch: 125; bad epochs: 4\n"
     ]
    },
    {
     "name": "stderr",
     "output_type": "stream",
     "text": [
      "100%|██████████| 781/781 [00:06<00:00, 127.75it/s]\n"
     ]
    },
    {
     "name": "stdout",
     "output_type": "stream",
     "text": [
      "loss: 11.294673162512481\n",
      "-----------------------------------------------------------------\n",
      "epoch: 126; bad epochs: 5\n"
     ]
    },
    {
     "name": "stderr",
     "output_type": "stream",
     "text": [
      "100%|██████████| 781/781 [00:06<00:00, 119.92it/s]\n"
     ]
    },
    {
     "name": "stdout",
     "output_type": "stream",
     "text": [
      "loss: 11.294697124511003\n",
      "-----------------------------------------------------------------\n",
      "epoch: 127; bad epochs: 6\n"
     ]
    },
    {
     "name": "stderr",
     "output_type": "stream",
     "text": [
      "100%|██████████| 781/781 [00:06<00:00, 123.71it/s]\n"
     ]
    },
    {
     "name": "stdout",
     "output_type": "stream",
     "text": [
      "loss: 11.29509586468339\n",
      "-----------------------------------------------------------------\n",
      "epoch: 128; bad epochs: 7\n"
     ]
    },
    {
     "name": "stderr",
     "output_type": "stream",
     "text": [
      "100%|██████████| 781/781 [00:06<00:00, 124.47it/s]\n"
     ]
    },
    {
     "name": "stdout",
     "output_type": "stream",
     "text": [
      "loss: 11.295216920785606\n",
      "-----------------------------------------------------------------\n",
      "epoch: 129; bad epochs: 8\n"
     ]
    },
    {
     "name": "stderr",
     "output_type": "stream",
     "text": [
      "100%|██████████| 781/781 [00:06<00:00, 111.77it/s]\n"
     ]
    },
    {
     "name": "stdout",
     "output_type": "stream",
     "text": [
      "loss: 11.293486061505973\n",
      "-----------------------------------------------------------------\n",
      "epoch: 130; bad epochs: 9\n"
     ]
    },
    {
     "name": "stderr",
     "output_type": "stream",
     "text": [
      "100%|██████████| 781/781 [00:10<00:00, 72.89it/s] \n"
     ]
    },
    {
     "name": "stdout",
     "output_type": "stream",
     "text": [
      "loss: 11.294943260028958\n",
      "done, best loss: 11.292830938473344\n",
      "done\n"
     ]
    }
   ],
   "source": [
    "\n",
    "# train\n",
    "for epoch in range(10000): \n",
    "    print(\"-----------------------------------------------------------------\")\n",
    "    print(\"epoch: {}; bad epochs: {}\".format(epoch, num_bad_epochs))\n",
    "    net.train()\n",
    "    running_loss = 0.\n",
    "\n",
    "    #tqdm shows a progress bar. \n",
    "    for i, X_batch in enumerate(tqdm(trainloader), 0):\n",
    "        # zero the parameter gradients\n",
    "        optimizer.zero_grad()\n",
    "\n",
    "        # forward + backward + optimize\n",
    "        X_pred, f_ic_pred, f_ees_pred, r_pred, d_ees_pred = net(X_batch)\n",
    "        loss = criterion(X_pred, X_batch)\n",
    "        loss.backward()\n",
    "        optimizer.step()\n",
    "        running_loss += loss.item()\n",
    "      \n",
    "    print(\"loss: {}\".format(running_loss))\n",
    "    # early stopping\n",
    "    if running_loss < best:\n",
    "        print(\"####################### saving good model #######################\")\n",
    "        final_model = net.state_dict()\n",
    "        best = running_loss\n",
    "        num_bad_epochs = 0\n",
    "    else:\n",
    "        num_bad_epochs = num_bad_epochs + 1\n",
    "        if num_bad_epochs == patience:\n",
    "            print(\"done, best loss: {}\".format(best))\n",
    "            break\n",
    "print(\"done\")\n",
    "\n",
    "net.load_state_dict(final_model)\n",
    "\n",
    "net.eval()\n",
    "with torch.no_grad():\n",
    "    X_real_pred, f_ic, f_ees, r, d_ees = net(torch.from_numpy(E_vox.astype(np.float32)))\n",
    "\n",
    "f_vasc = 1 - f_ic - f_ees\n",
    "\n",
    "f_vasc = f_vasc/(f_ic + f_ees + f_vasc)\n",
    "A = f_vasc\n",
    "normA = A - min(A)\n",
    "f_vasc = 0.2 * (normA/max(normA))\n",
    "f_ic = f_ic/(f_ic + f_ees + f_vasc)\n",
    "f_ees = f_ees/(f_ic + f_ees + f_vasc)\n"
   ]
  },
  {
   "attachments": {},
   "cell_type": "markdown",
   "metadata": {},
   "source": [
    "### Plots"
   ]
  },
  {
   "cell_type": "code",
   "execution_count": 79,
   "metadata": {},
   "outputs": [
    {
     "data": {
      "image/png": "[encoded data removed]",
      "text/plain": [
       "<Figure size 432x288 with 1 Axes>"
      ]
     },
     "metadata": {
      "needs_background": "light"
     },
     "output_type": "display_data"
    },
    {
     "data": {
      "image/png": "[encoded data removed]",
      "text/plain": [
       "<Figure size 432x288 with 1 Axes>"
      ]
     },
     "metadata": {
      "needs_background": "light"
     },
     "output_type": "display_data"
    },
    {
     "data": {
      "image/png": "[encoded data removed]",
      "text/plain": [
       "<Figure size 432x288 with 1 Axes>"
      ]
     },
     "metadata": {
      "needs_background": "light"
     },
     "output_type": "display_data"
    },
    {
     "data": {
      "image/png": "[encoded data removed]",
      "text/plain": [
       "<Figure size 432x288 with 1 Axes>"
      ]
     },
     "metadata": {
      "needs_background": "light"
     },
     "output_type": "display_data"
    },
    {
     "data": {
      "image/png": "[encoded data removed]",
      "text/plain": [
       "<Figure size 432x288 with 1 Axes>"
      ]
     },
     "metadata": {
      "needs_background": "light"
     },
     "output_type": "display_data"
    },
    {
     "data": {
      "image/png": "[encoded data removed]",
      "text/plain": [
       "<Figure size 432x288 with 1 Axes>"
      ]
     },
     "metadata": {
      "needs_background": "light"
     },
     "output_type": "display_data"
    },
    {
     "name": "stdout",
     "output_type": "stream",
     "text": [
      "[(0.5692548831050426, 0.0), (0.14555739630112174, 0.0), (-0.1516233935894825, 0.0), (0.7786114750297134, 0.0), (0.2498306012801334, 0.0)]\n"
     ]
    }
   ],
   "source": [
    "# check predicted signal against simulated signal\n",
    "\n",
    "plt.scatter(b_values, E_vox[0,:], label='simulated')\n",
    "plt.scatter(b_values, X_real_pred[0,:], label='predicted')\n",
    "plt.legend()\n",
    "\n",
    "# plot scatter plots to analyse correlation of predicted free params against ground truth\n",
    "plt.figure()\n",
    "\n",
    "param = [fic, fees, fvasc, radii, dees]\n",
    "param_f = [f_ic, f_ees, f_vasc, r, d_ees]\n",
    "param_name = ['fIC', 'fEES', 'fVASC', 'R', 'dEES']\n",
    "rvals = []\n",
    "\n",
    "for i,_ in enumerate(param):\n",
    "    plt.rcParams['font.size'] = '16'\n",
    "    plt.scatter(param[i], param_f[i], s=2, c='navy')\n",
    "    plt.xlabel(param_name[i] + ' Ground Truth')\n",
    "    plt.ylabel(param_name[i] + ' Prediction')\n",
    "    rvals.append(scipy.stats.pearsonr(np.squeeze(param[i]), np.squeeze(param_f[i])))\n",
    "    plt.tight_layout\n",
    "    plt.show()\n",
    "\n",
    "print(rvals)\n",
    "\n"
   ]
  },
  {
   "attachments": {},
   "cell_type": "markdown",
   "metadata": {},
   "source": [
    "### Bias-variance calculations\n",
    "+ this section crashes when using 100,000 voxels, although my laptop did switch off. "
   ]
  },
  {
   "cell_type": "code",
   "execution_count": 80,
   "metadata": {},
   "outputs": [
    {
     "ename": "",
     "evalue": "",
     "output_type": "error",
     "traceback": [
      "\u001b[1;31mCanceled future for execute_request message before replies were done"
     ]
    },
    {
     "ename": "",
     "evalue": "",
     "output_type": "error",
     "traceback": [
      "\u001b[1;31mThe Kernel crashed while executing code in the the current cell or a previous cell. Please review the code in the cell(s) to identify a possible cause of the failure. Click <a href='https://aka.ms/vscodeJupyterKernelCrash'>here</a> for more info. View Jupyter <a href='command:jupyter.viewOutput'>log</a> for further details."
     ]
    }
   ],
   "source": [
    "\n",
    "## bias-variance calculations\n",
    "\n",
    "bias_fic = torch.mean(f_ic - fic)\n",
    "bias_fees = torch.mean(f_ees - fees)\n",
    "bias_r = torch.mean(r - radii)\n",
    "bias_dees = torch.mean(d_ees - dees)\n",
    "\n",
    "var_fic = torch.mean((f_ic - torch.mean(f_ic))**2)\n",
    "var_fees = torch.mean((f_ees - torch.mean(f_ees))**2)\n",
    "var_r = torch.mean((r - torch.mean(r))**2)\n",
    "var_dees = torch.mean((d_ees - torch.mean(d_ees))**2)\n",
    "\n",
    "mse_fic = torch.mean((f_ic - fic)**2)\n",
    "mse_fees = torch.mean((f_ees - fees)**2)\n",
    "mse_r = torch.mean((r - radii)**2)\n",
    "mse_dees = torch.mean((d_ees - dees)**2)\n",
    "\n",
    "print(bias_fic, bias_fees, bias_r, bias_dees)\n",
    "print(var_fic, var_fees, var_r, var_dees)\n",
    "print(mse_fic, mse_fees, mse_r, mse_dees)\n",
    "\n",
    "\n",
    "r = r*1e6\n",
    "d_ees = d_ees*1e9\n"
   ]
  },
  {
   "attachments": {},
   "cell_type": "markdown",
   "metadata": {},
   "source": [
    "### Bias-variance calculations using numpy"
   ]
  },
  {
   "cell_type": "code",
   "execution_count": null,
   "metadata": {},
   "outputs": [
    {
     "data": {
      "text/plain": [
       "'\\nbias_fic = np.mean(f_ic - fic)\\nbias_fees = np.mean(f_ees - fees)\\nbias_r = np.mean(r - radii)\\nbias_dees = np.mean(d_ees - dees)\\n\\nvar_fic = np.mean((f_ic - np.mean(f_ic))**2)\\nvar_fees = np.mean((f_ees - np.mean(f_ees))**2)\\nvar_r = np.mean((r - np.mean(r))**2)\\nvar_dees = np.mean((d_ees - np.mean(d_ees))**2)\\n\\nmse_fic = np.mean((f_ic - fic)**2)\\nmse_fees = np.mean((f_ees - fees)**2)\\nmse_r = np.mean((r - radii)**2)\\nmse_dees = np.mean((d_ees - dees)**2)\\n\\nprint(bias_fic, bias_fees, bias_r, bias_dees)\\nprint(var_fic, var_fees, var_r, var_dees)\\nprint(mse_fic, mse_fees, mse_r, mse_dees)'"
      ]
     },
     "execution_count": 71,
     "metadata": {},
     "output_type": "execute_result"
    }
   ],
   "source": [
    "\n",
    "'''\n",
    "bias_fic = np.mean(f_ic - fic)\n",
    "bias_fees = np.mean(f_ees - fees)\n",
    "bias_r = np.mean(r - radii)\n",
    "bias_dees = np.mean(d_ees - dees)\n",
    "\n",
    "var_fic = np.mean((f_ic - np.mean(f_ic))**2)\n",
    "var_fees = np.mean((f_ees - np.mean(f_ees))**2)\n",
    "var_r = np.mean((r - np.mean(r))**2)\n",
    "var_dees = np.mean((d_ees - np.mean(d_ees))**2)\n",
    "\n",
    "mse_fic = np.mean((f_ic - fic)**2)\n",
    "mse_fees = np.mean((f_ees - fees)**2)\n",
    "mse_r = np.mean((r - radii)**2)\n",
    "mse_dees = np.mean((d_ees - dees)**2)\n",
    "\n",
    "print(bias_fic, bias_fees, bias_r, bias_dees)\n",
    "print(var_fic, var_fees, var_r, var_dees)\n",
    "print(mse_fic, mse_fees, mse_r, mse_dees)'''"
   ]
  }
 ],
 "metadata": {
  "kernelspec": {
   "display_name": "project",
   "language": "python",
   "name": "python3"
  },
  "language_info": {
   "codemirror_mode": {
    "name": "ipython",
    "version": 3
   },
   "file_extension": ".py",
   "mimetype": "text/x-python",
   "name": "python",
   "nbconvert_exporter": "python",
   "pygments_lexer": "ipython3",
   "version": "3.7.13"
  },
  "orig_nbformat": 4,
  "vscode": {
   "interpreter": {
    "hash": "530a9f706d6870d645c2a38796218763bd8210a92912827e1b5537d0d478cbf5"
   }
  }
 },
 "nbformat": 4,
 "nbformat_minor": 2
}
