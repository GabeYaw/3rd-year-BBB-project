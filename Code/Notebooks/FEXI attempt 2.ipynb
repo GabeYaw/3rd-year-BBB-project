{
 "cells": [
  {
   "attachments": {},
   "cell_type": "markdown",
   "metadata": {},
   "source": [
    "### Imports"
   ]
  },
  {
   "cell_type": "code",
   "execution_count": 7,
   "metadata": {},
   "outputs": [],
   "source": [
    "import numpy as np\n",
    "import matplotlib.pyplot as plt\n",
    "import nibabel as nib\n",
    "import torch\n",
    "import torch.nn as nn\n",
    "import torch.optim as optim\n",
    "import torch.utils.data as utils\n",
    "from itertools import product\n",
    "from tqdm import tqdm\n",
    "from scipy.special import erf\n",
    "import scipy.stats\n",
    "\n",
    "from dmipy.core.acquisition_scheme import acquisition_scheme_from_bvalues\n",
    "from dmipy.core.modeling_framework import MultiCompartmentSphericalMeanModel\n",
    "from dmipy.signal_models import sphere_models, cylinder_models, gaussian_models\n",
    "\n",
    "from scipy.io import savemat"
   ]
  },
  {
   "attachments": {},
   "cell_type": "markdown",
   "metadata": {},
   "source": [
    "### Simulate Signal"
   ]
  },
  {
   "cell_type": "code",
   "execution_count": 8,
   "metadata": {},
   "outputs": [],
   "source": [
    "def sim_sig_np(bf,be,tm,adc,sigma,axr,nvox):\n",
    "    \n",
    "    be_tiled = np.tile(be,(nvox,1))\n",
    "    bf_tiled = np.tile(bf,(nvox,1))\n",
    "    tm_tiled = np.tile(tm,(nvox,1))\n",
    "\n",
    "    adc_tiled = np.transpose(np.tile(adc,(np.size(tm),1)))\n",
    "    sigma_tiled = np.transpose(np.tile(sigma,(np.size(tm),1)))\n",
    "    axr_tiled = np.transpose(np.tile(axr,(np.size(tm),1)))\n",
    "\n",
    "    tm_tiled[(tm_tiled == np.min(tm_tiled)) & (bf_tiled == 0)] = np.inf\n",
    "\n",
    "    adc_prime_tiled = adc_tiled * (1 - sigma_tiled* np.exp(-tm_tiled*axr_tiled))\n",
    "    normalised_signal_tiled = np.exp(-adc_prime_tiled * be_tiled)\n",
<<<<<<< Updated upstream
=======
    "    \n",
    "    return normalised_signal_tiled, adc_prime_tiled\n"
   ]
  },
  {
   "cell_type": "code",
   "execution_count": 9,
   "metadata": {},
   "outputs": [],
   "source": [
    "def sim_sig_pytorch(bf, be, tm, adc_tiled, sigma_tiled, axr_tiled, batch_size):\n",
    "    \"\"\"batch_size and nvox are kind of interchangable\n",
    "    might be useful to know for testing purposes\n",
    "    \"\"\"\n",
    "    be_tiled = torch.tile(be,(batch_size,1))\n",
    "    bf_tiled = torch.tile(bf,(batch_size,1))\n",
    "    tm_tiled = torch.tile(tm,(batch_size,1))\n",
>>>>>>> Stashed changes
    "\n",
    "    return normalised_signal_tiled, adc_prime_tiled\n",
    "\n",
    "def sim_sig_np_1_vox(bf,be,tm,adc,sigma,axr):\n",
    "\n",
    "    adc_tiled = np.transpose(np.tile(adc,(np.size(tm),1)))\n",
    "    sigma_tiled = np.transpose(np.tile(sigma,(np.size(tm),1)))\n",
    "    axr_tiled = np.transpose(np.tile(axr,(np.size(tm),1)))\n",
    "\n",
    "    tm[(tm == np.min(tm)) & (bf == 0)] = np.inf\n",
    "\n",
    "    adc_prime = adc_tiled * (1 - sigma_tiled* np.exp(-tm*axr_tiled))\n",
    "    normalised_signal = np.exp(-adc_prime * be)\n",
    "    \n",
    "    return normalised_signal, adc_prime\n",
    "\n",
    "def sim_sig_pytorch_new(bf,be,tm,adc,sigma,axr,nvox):\n",
    "    \n",
    "    be_tiled = torch.tile(be,(nvox,1))\n",
    "    bf_tiled = torch.tile(bf,(nvox,1))\n",
    "    tm_tiled = torch.tile(tm,(nvox,1))\n",
    "\n",
    "    \n",
    "    \"\"\"adc_tiled = torch.tile(adc,(tm.shape[0],1)).t()\n",
    "    sigma_tiled = torch.tile(sigma,(tm.shape[0],1)).t()\n",
    "    axr_tiled = torch.tile(axr,(tm.shape[0],1)).t()\"\"\"\n",
    "\n",
    "    adc_tiled = torch.tile(adc,(1,tm.shape[0]))\n",
    "    sigma_tiled = torch.tile(sigma,(1,tm.shape[0]))\n",
    "    axr_tiled = torch.tile(axr,(1,tm.shape[0]))\n",
    "\n",
    "    tm_tiled[(tm_tiled == torch.min(tm_tiled)) & (bf_tiled == 0)] = torch.inf\n",
    "\n",
    "    \"\"\"print(\"be: \", be_tiled.shape)\n",
    "    print(\"bf: \", bf_tiled.shape)\n",
    "    print(\"tm: \", tm_tiled.shape)\n",
    "    print(\"adc: \", adc_tiled.shape)\n",
    "    print(\"sigma: \", sigma_tiled.shape)\n",
    "    print(\"axr: \", axr_tiled.shape)\"\"\"\n",
    "\n",
    "\n",
    "    adc_prime_tiled = adc_tiled * (1 - sigma_tiled*torch.exp(-tm_tiled*axr_tiled))\n",
    "    normalised_signal_tiled = torch.exp(-adc_prime_tiled * be_tiled)\n",
    "    \n",
    "    return normalised_signal_tiled, adc_prime_tiled"
   ]
  },
  {
   "attachments": {},
   "cell_type": "markdown",
   "metadata": {},
   "source": [
    "### Initial variables."
   ]
  },
  {
   "cell_type": "code",
<<<<<<< Updated upstream
   "execution_count": 3,
=======
   "execution_count": 10,
>>>>>>> Stashed changes
   "metadata": {},
   "outputs": [],
   "source": [
    "nvox = 1000 # number of voxels to simulate\n",
    "\n",
    "bf = np.array([0, 0, 250, 250, 250, 250, 250, 250]) * 1e-3   # filter b-values [ms/um2]\n",
    "be = np.array([0, 250, 0, 250, 0, 250, 0, 250]) * 1e-3       # encoding b-values [ms/um2]\n",
    "tm = np.array([20, 20, 20, 20, 200, 200, 400, 400], dtype=np.float32) * 1e-3 # mixing time [s]\n",
    "\n",
    "adc_lb = 0.1        #[um2/ms]\n",
    "adc_ub = 3.5        #[um2/ms]\n",
    "sig_lb = 0          #[a.u.]\n",
    "sig_ub = 1          #[a.u.]\n",
    "axr_lb = 0.1        #[s-1]\n",
    "\n",
    "axr_lb = 1        #[s-1]\n",
    "\n",
    "axr_ub = 20         #[s-1]\n",
    "\n",
    "#consider doing in si units\n",
    "\n",
    "limits = np.array([[adc_lb, adc_ub], [sig_lb, sig_ub] , [axr_lb, axr_ub]])\n",
    "\n",
    "adc_init = (adc_lb + adc_ub) / 2 #[um2/ms]\n",
    "sig_init = (sig_lb + sig_ub) / 2 #[a.u.]\n",
    "axr_init = (axr_lb + axr_ub) / 2 #[ms-1]\n",
    "\n",
    "num_inits = 5\n",
    "\n",
    "# Create equally spaced arrays for each parameter\n",
    "# remove first and last values which are on the \"face of the cube\"\n",
    "adc_inits = np.linspace(adc_lb, adc_ub, num_inits)[1:-1]\n",
    "sig_inits = np.linspace(sig_lb, sig_ub, num_inits)[1:-1]\n",
    "axr_inits = np.linspace(axr_lb, axr_ub, num_inits)[1:-1]\n",
    "\n",
    "# Generate all permutations of combinations\n",
    "all_inits = list(product(adc_inits, sig_inits, axr_inits))\n",
    "\n",
    "# Convert the list of tuples to a NumPy array\n",
    "all_inits = np.array(all_inits)\n",
    "\n",
    "sim_adc = np.random.uniform(adc_lb,adc_ub,nvox)                 # ADC, simulated [um2/ms]\n",
    "sim_sigma = np.random.uniform(sig_lb,sig_ub,nvox)               # sigma, simulated [a.u.]\n",
    "sim_axr = np.random.uniform(axr_lb,axr_ub,nvox)                 # AXR, simulated [s-1]\n",
    "\n",
    "sim_E_vox, sim_adc_prime = sim_sig_np(bf,be,tm,sim_adc,sim_sigma,sim_axr,nvox)\n",
    "\n",
    "\n",
    "#a_test1,a_test2 = sim_sig_pytorch(bf,be,tm,sim_adc,sim_sigma,sim_axr,len(sim_axr))\n"
   ]
  },
  {
   "attachments": {},
   "cell_type": "markdown",
   "metadata": {},
   "source": [
    "### Histogram plots"
   ]
  },
  {
   "cell_type": "code",
<<<<<<< Updated upstream
   "execution_count": 81,
=======
   "execution_count": 11,
>>>>>>> Stashed changes
   "metadata": {},
   "outputs": [
    {
     "data": {
<<<<<<< Updated upstream
      "image/png": "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",
=======
      "image/png": "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",
>>>>>>> Stashed changes
      "text/plain": [
       "<Figure size 1080x360 with 3 Axes>"
      ]
     },
     "metadata": {
      "needs_background": "light"
     },
     "output_type": "display_data"
    },
    {
     "data": {
<<<<<<< Updated upstream
      "image/png": "iVBORw0KGgoAAAANSUhEUgAAA4MAAAFcCAYAAAByYGspAAAAOXRFWHRTb2Z0d2FyZQBNYXRwbG90bGliIHZlcnNpb24zLjUuMywgaHR0cHM6Ly9tYXRwbG90bGliLm9yZy/NK7nSAAAACXBIWXMAAAsTAAALEwEAmpwYAABdO0lEQVR4nO3deZgcVb3/8fcHCLtIIgGvQEwQReEiqPGKFy4BVBK2gLIpm8AFlJ/igoBEFMMmq4qKKCgCGgQERECQTZKAmIgIQRKU5ZoYEJBAwg5hyff3xzlNKpWame6ZnumZ6c/refrpmVOnqk5VV53uU2dTRGBmZmZmZmbtZZlWJ8DMzMzMzMz6nguDZmZmZmZmbciFQTMzMzMzszbkwqCZmZmZmVkbcmHQzMzMzMysDbkwaGZmZmZm1oZcGBwgJM2RNKfV6eiMpP0lhaT9e3k/E/N+turN/djA5ftlif34fhkgunNN+PO13iDpgnxdjWx1WgaTvsr3W0XSyHx8F7Q6LVY/FwZbRNKqko6VNEPSC5JekjRX0i35y/2trU5jb8s/2J/vZHktU/ltE/fpjGoA8v3i+6Vd+TOwwUTSFfl6/nsX8aL0eknS45KmSvqWpA3q2NdYSZfm74qXJT0v6V5JZ0rasHlHNfgUHjLt1kmcKTnOGk3c7xRJngC9jy3X6gS0I0mrAbcD/wk8APwCeApYC/hv4JvAdOD6wmof6eNk9mdnAZcAc1udEOt9vl96zPfLwHEl6Vp+rNUJMWu2XGjYCQhgA0mbR8TtnawyDzg7/708MBz4IDAB+KqkbwNfjYglCg+SVgYuAHYHXgBuBB4k/eZ9D/BZ4DBJH4mIKc05uroN9nv8X6Rz/EyrE2L1c2GwNb5E+mF7LvDZioxsI+C5YlhE/F+fpa6fi4gngSdbnQ7rM1/C90u3+X4ZOCLiGfwjygavfYEhwLeBrwAHkh70deSJiJhYDpT0YWAScCTwKnBMKcr5pILg9cB+ETGvtP5awEnAm7t1FD0w2O/xiHgV6LTW1/ofNxNtjc3y+4/KP2wBImJWRCzxFL+jPlCS3i/pptz8YUFugvH2qqr2Yt8SSXtJujs3vXhM0vckrVSKv7ykL+Tt/0vSKznuLyW9s+enoXs66iMjaXdJt0mal5uE/EvSdZI+lpfvD8zO0T9daoKyVWE7a0o6S9I/C8d8oaRRHaRnz3wua/v8rqSV8nanlOLWmlWsmJu6zJb0qqQv5eUfkPRDSbMkPZubRN4l6f9JUsW+I29zndwcZr6kZyRdlr/wkLS5pMmSnsvn5ruShnTr5LeG75ce8P2yxPZ67X6RNEzSIkmXlMI/mve7UKnGohYuSU9ImlEIW6I/Ub2fQWH9Lq/TOo7jYEl35nP5XL5GPl4Rr6H7o7DervkzeCbHv1vSIRXxVpR0lFKzvueU7tl/SJok6R11HMdWOX0TJW0h6ea8zwWFOKtJOlHS3/P1+JSk30japGJ7c/JrdUnnSPp3TtMNyve3pI0k/VbS03lfF0p6U8W2huRjm5nPwQJJ10saU4r3s3wMH+zgGL+Xl2/TnXOc446SdHlO87P5eN7b1fntpgNID+6OBWYBe0hapdGNRMQ0YBzwMnCEpHVryyR9BNgDuB/4eLkgmNf/d0QcxJKtSSppcR60kqRvS3okXyv3SNq3In7xvjiwcF/8Ji9fqs+gCk3BJW2olA8/I+lJST+pnSNJO0m6Q9KLSnlnuRBc294Kko7MaXwxb+vm8vXVG9RBs3ZJ75L083wPLcz32l2SjivECWBM7e/Cq7ytuvKoHPcdSt/zz+Tr+0ZJm6iiT2zxs5G0s6Q/5nt8Rl7+ZklH5/09rvR9N1cpP1iqq0phH+tJ+qqkh/K1MEPSuMI2f5y395JS15d3d/P0d5trBltjfn5/FzCjuxuR9D7gVmAF4FekZmBbAn8o7KPK50kZ6VXA5Pz3F4A1gL0L8YYB38n7uIb0NGsDUkY7TtIHImI2/YCkz5Gaw/0fcCnpC+dtwObAWOAm0rn+HvBF4B7gN4VNzMnbWRP4EzAyr/NL0jHvC+wgaYuIeOOpV/6CPYfUbPE80pfTx4GufvxfSartuh54Fngkhx8M7Eg659cCbwK2BX5Iul6+VLGtocBteRvnA5sCuwHrSjoCuAH4Halmbbu8jWdJzSsHAt8vTeb7pfn3S0TMl/RX8o+Zgq3z+/KkZs035/83IjV7+2Unm51BF59BQb3XaYcknQ0cCvyT9DktT7p+fy3pqIg4vWK1uvcr6XTgiLz9S4EXgY8B50h6T0R8uRD9F6TP5XbgJ8Ai4O2kz+QS0rVbj82BrwG/z8c0PKdlDdJ1856c7muBtwC7Ah+T9NFc6ChannSdL0f63EYCuwA3SdqRlJdMI13b/wPsl9f7dOEcLEO6nncA7gN+QMo79gRukbR3RNQeKFxEKkDtDfy5mBBJy+Z1HgGmFMLrPseS1iad3/8g5VmzgPeR7o97Oj6ljVMq0G4MXBgRL0r6BXAK6fo6v9HtRcSDkn5FOscfB76fFx2Y38+IiJe72MbCBnZ5GSkP+hWL74ufS1ojIr5bEf+rpGvgGlKe8lxFnLJRpM9jGuma3xI4CFhN0hWk83Ql8EfSMZ8o6dGIeOP8SVqR1Cz2f0jXzLnAKsDOwO8l7RERv27guHssX2d3kGqFryLlXUOBd5Oa7Nby1uOA/Un3+XGFTcwobKvuPErpIcHtpC4lV5Hut9rvgDe2WWFP4KPA1aR7oVZWeg8wEbgFuBx4CdgEOATYVtL7I2LBUluD7wIfIF0Ly5Hu56skbQH8mFQxdzGL85NrJb0rIl7vJI3NFRF+9fGLdFMG8Hy+SMYCQ7tYZw4wpxR2e97OTqXw83J4lMIn5vCngQ0K4SuRnqK9DrytEL5C8f9C+BjgNeCnpfD98/b3r/M8zAFeyemqep2Zt/fbDo5jq0LYXaS26itX7Octhb9H5nUv6CBNF+Tlx5bCD8zhkwthQ/NnuAAYUQhfBfhrjj+ltJ0pOfwvwOoV+x8BLFMKW470I/h14O2lZZFfp5XCr87hC4AdSml7jFT4GdLqe8H3i++XwXS/FD6D95Suu9tJPxxOKoR/PsfdpbNroo7PoPb5Pk0d12knad8qb+ceYNVC+NvyOXgVeEcP7o+xOf5vgBUL4UNyWAAfzGFvJhX+rqxI5/LAmxo4niA1FSwvvzgv+1QpfH3Sg5x7K+6/yOstWwj/QeHa+X+l6/DufN7eWvEZ3wAsVwjfiFRwexpYLYctQ7pPHy/us3Q+T6sI6/Ic5/Cf57DDS9s+vnDuRnZ1rut5AT/K2/tI/n+dfI3c1kH8AGZ2sc1aPvPzQtjsHLZek9I9JW9vFkvfF/8mPdAqXucTc/xngY0qtlf7/Kvu8ejgGloEPAG8r7Bs7bzvmaXtn5y3c3QpfHi+hucBK9Vx3LXj+BUdf+fMyXHWqDiWCwphX8hhO1fs5y2l/6dQ+i6uuKfrzaMuyvEPK23n2Krru/DZvE7h+7Kw/M3AsIrwffJ6Xy+FX5DD/8aS36u7sjjP6Cg/2a0Z12/d13lf7syvJS6So0gdm6Pw+jtwBrBORfw5FH7cFm64P1XEXSffFFEKr93cx1WsU1u2U53p/ytL/9iu3Uj717mNWkbS1aveH7ezgRW62OdSGVVh2QqkH2z/pvBFmpcJuDevO6J0vKdWbGtPOv9xu2OD18snqs5tDnuO0o/6Qub0+4pt/TQvG9Xq+6CB4/f94vul398vpKe6Qf5BRypMvkL68TEZ+GMh7uWkH3nDCmFLXROdfQbNvE5JtQ5BalpXXnYEpUJ/o/slFbgXAWtVxP/PHP+M/P9q+f9fNvK5l7a5Vd7GnRXL1iD94Luug3XPyOv+Z8X9t24p7hY5/EFApWVfz8u2LoRNzmHvq9jvWZQKr4W0jC3FrRXkNunmOa7dv49SetCRr9v5NKkwCKxI+uH7CIWHN6Ta2gDeWbFO0HVhcFyOd10h7KUc1mne1kDap+Tt7VWx7Gt52Zcrrv0zOtje/nR8j3d2DZ1Xsa2b83W8XP5/mXyeZ3Ww79oDqC7z08Jx1POqtzC4bb3nu4NldedR+fp+OV9zy5XirkxqnbLE9V34bC5v8BoR6QHSlFL4BXl7+5bClwEW0nl+slS+2psvNxNtkYg4TdI5wPakpkMfBEaTOlUfJGm7WLqJStEm+X2pOBHxiKS5wHodrPuXirBas6vVi4GSPkD6Ib45sCbpCWPNK52kr14vRMSqVQtyW+7ZdW7nUlKTk5lKfXamANMi4sUG0rIB6Uvrpig1L4mIkDSV9IW6CamJYYefAakZR2furAqUtAIp49wzp6d8bv6jYrUHK46zNlJZVVOfx/P726j//LaU75c3+H4p6If3y63kH/+kURA3J10Dk/Pyb0halfRgY0vgrxHRWRPlRtR9nXag9vlMrVg2pRSnO/v9EKkgfqiW7s5Zu0/eDRARz0q6HviUpHVItVpTgRnReNOpqmvng6QfZKtImlix/D2F9MwshC+IiIdLcWvXzr2Rf80VFK+dmk2A5yLi7or9TgE+x5LneRIpn9ubVJuIUt/Tj5MKS8Vrtu5zTGpGvSJwR6RBP94QES/kflJb0xy7kq6Fn0TEokL4L4BtSDV8E5q0r95yW0XYH/J71X1RmWd1oeoa6ipvWobUDPJfpDxwdWBuB9d1rTn+u4F6pyDaPSIur1qg1Md7TB3buIZUY3llbtp7E3BrRDzS+WpLaSSPejepQHhnRLxWjBipmfIM0rVXpcPPTqlP6peA/yI1K1+2sLjq+wZKn11ELJL0BLBKRX5SlWf0OhcGWyjSqFIX51et/83ZpIzzHKCzTty1TulLdY7OnqDjH7fPVoTVbpY3Luzcnvn3pCeNNwAPsbh2Zn9Su+7+4jTSk8zPkp6kfR1YKOly4CsR8e86trFafu8o7uOleJ19Bk90sa+O9vFrUoHn76Q+KfNIn81IUr+TFSrWqfo8X+9kWe2zHkiDyPh+aS7fL0tqyv0ShX6DSr/GtyLVVPyJ9PT4ONKT30four9go+q6TjuxGvBaB4XT8mfZnf0OI/3m+GYnaSgOJrIb6br8FGn0SYCncp+hE8oFmE5UXTvD8vuW+VVPeqA5185qdPxQYanzHBEzJM0CPi5p5fwgYzzpwcek0vqNnOM35/eO8sR68oB61frxldN7Bal/736Svt6Ngn7tB3PxGB4n3f9rA/9ocHudqcqjaufozZ0sa0RPr6/adf1eOv8+bHjQnp6IiNlKI8BOJPXv2x9A0l3AhIi4sc5NNZJH1fOd35HKz07SnqTfH8+RuiLMIeXvkAqIVd830PHn2m9+n7kw2I9ExBNKo1PtCGws6S0R8VQH0WudkYd3sHzNJiRpAql/xuYRscST+3xT9Bv5adpPgJ9IGk56WrUf6WnqutT39Kp2Y67VwfK1SvE6+ww6Pf8VT/9qHey3J2UyOxSfoObz/enOttlufL90n++XXjWFNODLRqSalWkR8YqkP5F+OGzF4pqzKS1IX0eeBZaTNKzix1b5s+zu9l+NiKVG3asSES+Q7qkJktYnPcX/HPAN0gOWzgo8S2yqg7RAarJ8dJ3baZZn6fh67+g8XwR8i9R/+mLSfRos/TChkXNcm96gozyxo/u6IbnFQq2G8Z6KGktIzfbGkQbxaUQtnyrW5PyRVBjchuYWBtcEyrU4tXNUNVVE1XXX22rXzaUR8ckW7L9DEfFX4BOSlifVzO8AHAZcLWnTKAw01olG8qiefOd39NkdS2p6+oGIeKgWmB/8HdXJ9vq9ZVqdAFvKQlL/JUhPkjtSq3berLwgj9w0oglpeQfwVMUP27Xysn4pIuZFxOURMZ40YtSWkmpP7mpP2aqelN9PutH/Kzc/K6s9Qb6n9L7UZwB8uOGELz6n15aa0kBqbmZL8/3SQ75fmm5Kft+J1JR5MkCkkQunkX4Yb0X6wXFrHdvr7DNophn5vaqmbEwpTnfcAaylwlDu9YqIhyLiXNK5W0SqGeuJP5POf9W12NtmkEaH3LRiWUfnuTYQxj6S3kIaKObWiiZmjZzjB1h8/y5RC6E0lUFV+rrjAFLePJU0WFf5VRvZ8sDKtTuQHxDsQWp+f2Vh0c/y++F5ZM3OttFRTU6V/6kI2yK/N3Xk1R74G6kQNDqPNtvvRMQrEXF7RHyN9GBnBdL1XPM6vDFabtmM/F5PHvV30u+D0ZKWqPhSmvZm024k/x3AfcWCYPY+0sBZA5YLgy0g6RBJ7+9g8edJzT/ujzRZdKWImANMBz4kaYfS4ok0p9Z3LjBMUq3/BPmpzln0syaGqpg/J9/wbyZVu9d+UC0gd9otx88/1i4lPWH6SmlbnyY1u5gSi+e0u5o0+tshuV9LLe7KLD0Jbj1q213ih6ykzUhDF7cl3y/N5/ulV9X6DX6ZdF1NKSybQhpifBvq7y/Y4WfQZD/P799UYe43pfmzjiBdFz1p1vqD/H6epNXLC5XmJxuZ/x4uaaOKbaxJ+t3S6ZQBXYmIx0kD+IyRdFhFWlR1jzRJ7TyfXPzBm/ONg0i1TFeV0juX1GdtW1Lt6BCWbnIJDZzjfP9eRurnVD4HXyWN/tsjStNofJpUgN8nIg4qv0gFuseAnZSm+6hnu5uRmuKvCJxe7HsWEb8njYD5HuDyXHgurz8890Ef18DhHJP7+9a28R+kFgAL8/5aLveN+zGp0LLE9VUj6UMqzHfaF5Tm961qYl6rzSvez7U8sSq/qzuPytf3laTmwp8pbedwFjepbcRc4J25i0pt36uRpv8Z0NxMtDW2J835cz+pScNjpB9hm5F+KLwM/L86tvN50g+PWqfcuaSnVyNJoxdu3MN0nkWan+h2SZeSbrSPkr6I7qG603SrXCXpaVLfnH+SviS2I83bc1ZEPA8QEc9L+jOp9uMXpNG7FgG/iIh/kqr6xwAnSdqSNOriBqTO+k+R5rchb2u+0rxkZwMzlAbiqM2b9jfSj+FyjUVn/kRq7vLJnLn9mdSPbTzph/SujZ6UQcL3S/P5fuklhX6Dm5AKv3cUFk8hDds/lMU/bLraXlefQbPSPUXSj0if2b2SrmTxHF5rAkdFRL1z+1Vt/zpJJ5Oafj4o6QYW9518D+l+3ovUD2dt4G5Jd5NGpX00p2EXUsH4O91NR8GhpEEmvi/pANL19DyplcBmpB+qndYsddPPSf0hdyDdB9eRrodPkmpJDoyIqua4F5FqRL5OKoAsNahHg+eYHO9jwLclbUUaLOf9pJr626iuDWvER0h9pW/oaLCQiHg9X9dHkeYn/W5h8ZpaPBDKkHwcHyTV6iwCTifVLpUdQHposBswR9KNpPtmWdJ52IZ0bTfycGM2acCtK/K6e+b0HB4R/2pgO73tWFKLhCOB8ZJuIxWw1iF9X25AegDQyGBhPbUfcHBOy/+Rai/fSyqMz2XJwvQtpM/tCkm/I31H3BMR13QjjzqadA3+QNJHSd8zm5IeINau70a+c84iFfzuytfBCqTvzUfza+CKPhy61K83ho7dgJTx3UTKYF4m3Zj3kwbC2KBinTmUhqbP4aNJwwu/QHqC/GvSj9t7gWdKcSdSGmK+sGx/qodi34M0z82LpA66F5C+JKdQGv63o210ch7mAM93snxk3l49Q+UfSvoBOCefz3mkkb72Zemhmt9F6puwgJQRlLe1Jummn0tqgvI46Qu8cmh50gAH9+T9Pkr6Mls3b/eqUtylzltp+Vr5HD+az/lfSF/eW+XtTSzFD0rDGefwyvhdXQf98eX7xffLQLtfWDzf4M2l8OVzOoPC/IJ1XFcdfgbduU47SbeAg/N5fJFUOLoN+EQj56Wz/ZJ+PF0LPJmvl3+RmhB+hTxEPWlExG/m8MdIhZ+HSTVmW9R5LB1+poU4q5CmB7iblCc8Tyo0XFw+ZjrOU0ZSGkq/js9zCKn2bRbpPniaVNM1ppO0Ds1xA7iii2Pv8hwX4q5HGsjlGVJ/qxtIP9QvoDT0fqMvFs/l+Mku4r07x/tr6V4tvl4m5S1TSf0n31XH/seRWi/MzdfQC6QC7/cpzAXaxTam5P2vRBrI6JG8rXupnr+yw/uio2uiO9dQXlb5GZEqej5Hag3zLKmv8j9Io/LuR2mqhQ7SWTuODue7K5ybrqaW+BDpu3pmvtZfIBXMTgPWrEj7qaSHlK9WbKvuPCrHX59UQ/hsft1IelB3Td720ELcDs91Yd+fI01e/xIpTzqTNFjNHJaePqry88nLlorf1bXQmy/lndsgkpsyPEEadvq/Wp2edqQ0/PDNpCYsA7pj8WDn+6X1fL+YWX+kPH1CRHTWJ90GkNx89v9I8802Y/C4Ac99BgcwSUPKbexzG/1TSU+xrqpc0ZpG0rByJ3SlwTdOyv/6M+gnfL+0nu8XMzPrK7lvZ9mRpObL/r7J3GdwYHsz8EihPfxKpNGtNiaNpDTgO7UOANsAPy70zViLNDLWW4GLIuL2VibOluD7pfV8v5iZWV/5m6Q7SM1SIU0WvxlpLsGJrUpUf+PC4MD2PHA+qYPs1qTOrLU2zCdEHgTCetW9pA7PY4A1SP157ifVNv2gk/Ws7/l+aT3fL2Zm1lfOIQ3W9CHSfJaPk6Y0OT7618A/LeU+g2ZmZmZmZm3IfQbNzMzMzMza0KBuJrrGGmvEyJEjW50MM2uiv/zlL09GxPBWp6MnnDeZDT49yZskbU+aF+39pObTD5DmTbslLx9KmldvF1J/52nAlyPi3tJ2VgROAPYhTdExA/hqRNxab1qcP5kNPp3lT4O6MDhy5EjuvPPOVifDzJpIUtMm2m4V501mg0938yZJnyHN1XkWqSC3DGly7JXzcpHmRRsJHEaab3ICMFnSprHkhO7nkfpIHUmaW+5zwA2SPhwRM+pJj/Mns8Gns/xpUBcGzczMzPorSSNJg1gdGRFnFhbdUPh7PLA5sE1ETM7rTQNmA0cBX8hhmwB7AQdGxPk5bCppcvvj83bMzJbgPoNmZmZmrXEgqVnojzuJMx54tFYQBIiIZ0i1hTuX4r0KXFqI9xpwCTC2PMenmRm4MGhmZmbWKluQ5jn9pKT/k/SapIckfa4QZyNgZsW6s4ARklYtxJsdES9WxFseWL/JaTezQcCFQTMzM7PWeBvwTtLgMKcA2wI3AWdJ+mKOM4zUT7Bsfn4fWme8Yc1IsJkNLu4zaGZmZtYaywBvAvaPiF/nsFtyX8IJkr7fF4mQdAhwCMCIESP6Ypdm1k+4ZtDMzMysNZ7K7zeVwm8E1gL+g1TbN5Sl1Wr6FhTeO4s3v2IZABFxbkSMjojRw4cP6Jl7zKxBLgyamZmZtcasLpYvynE2qli2ITA3Ip4vbGuUpJUr4r0CPNSThJrZ4OTCoJmZmVlrXJnfx5bCxwGPRMTjwNXA2pLG1BZKWg3YKS+ruQYYAuxeiLccsCdwY0QsbH7yzWygc59BMzMzs9a4DpgMnCNpDdJE8buTBpI5IMe5GpgGTJJ0JIsnnRdwWm1DEXG3pEuBMyUNIc1DeCgwCti7bw7HzAYaFwbNzMzMWiAiQtIuwMnAcaQ+f38H9o6IX+Y4iyTtCJwBnA2sSCocbh0RD5c2eQBwEnAisDpwDzAuIu7q/aMxs4GoW81EJV0vKSSdWAofKumnkp6U9IKkmyVtXLH+ipJOl/SYpJckTZO0ZUW8ZSRNkDRH0suS7pG0a3fSbGZmZtbfRMSzEfG5iFgrIpaPiPfWCoKFOPMj4sCIGBYRK0fERyLinoptvRQRh0fEWyNixYj4UERM6bODMbMBp+GaQUmfAjapCBepvfpI4DAWN2OYLGnTiHikEP08YAfgSFKTiM8BN0j6cETMKMQ7ATgCOAb4C/BJ4DJJO0bEdY2m3cz6zsijr6077pxTdujFlNhg4uvKbPBr5D5vlPMFsyU1VDMoaSjwXeDwisXjgc2BfSPi4oi4PoctAxxV2MYmwF7AlyPiJxHxe2APYC5wfCHemqSC4CkRcUZETI6Iz5Da1p/SSLrNzMzMzMxsSY02Ez0VmBkRF1csGw88GhGTawER8QyptnDnUrxXgUsL8V4DLgHGSlohB48FlgcmlfYzCdhY0qgG025mZmZmZmZZ3YVBSVsA+5GadFbZCJhZET4LGCFp1UK82RHxYkW85YH1C/EWsvS8OLU5eTasN+1m1t4k7SbpCkn/zP2U75d0sqQ3FeKMzH2hq16rl7ZXV79nMzMzs/6srj6DkpYHzgHOiIj7O4g2DJhTET4/vw8Fns/xFnQSb1jh/emIiC7imZl15QhSU/SvAY8A7wMmAltL+u+IWFSIezJLzt0F8Fzp/3r7PZuZmZn1W/UOIHMUsBJpuOJ+TdIhwCEAI0aMaHFqzKyf2Cki5hX+nyppPnAhsBVwS2HZPyJiekcbKvR7PjAizs9hU0mtFo4nNYU3MzMz6/e6bCYqaQRpNM9vACtIWr3QZKr2/7Kk2r6hFZuo1eAtKLx3Fm9+Id7qeZTSzuItISLOjYjRETF6+PDhnRyZmbWLUkGw5s/5fe0GN1dvv2czMzOzfq2ePoPrkSY4nUQqoNVekJpeLQA2Jj0V36hi/Q2BuRHxfP5/FjBK0soV8V5hcR/BWcAKwDsq4gHcV0fazcw6Mia//60UfrKk1yQ9I+nqirlS6+33bGZmZtav1dNMdAawdUX4ZFIB8TxSAe5q4ABJYyJiKoCk1YCdgOLkqdcAxwG7k5poIWk5YE/gxohYmONdT3r6vneOX7MPaUTT2XWk3cxsKZLWJjXpvDki7szBC0l9o28E5gHvJvUx/KOk/4qIWqGx3n7PZoOe5300MxvYuiwMRsTTwJRyeG69+c+ImJL/vxqYBkySdCSLJ50XcFphe3dLuhQ4U9IQYDZwKDCKVPCrxXtC0neACZKeA+4iFRi3wX1yzKyb8sjGVwGvAQfUwiPiMeCzhai3SbqeVON3DOlBVE/26/7MZmZm1q/UO4BMlyJikaQdgTOAs0lNS6cBW0fEw6XoB5AGozkRWB24BxgXEXeV4h1DGoH0i8BbgfuBPSLit81Kt5m1D0krkVonrAeMiYhHOosfEQ9L+gPwwULwAuDtFdG77M8MnAswevTo8ijJZmZmZn2u24XBiCgP7EJEzAcOzK/O1n0JODy/Oov3OqnAeGJ302lmBpBbIlwOjAY+FhH3NrB6sfA2C/i4pJVL/QbL/Z7NzMzM+rW6J503MxuoJC0DXERqZr5LZ1NHlNYbAWwB3FEIvgYYQur3XItX1e/ZzMzMrF9rWjNRM7N+7IekwttJwAuSNisseyQiHpH0bdIDsmmkAWQ2IPV7XkRhjtV6+z2bmZmZ9XcuDJpZO9guvx+TX0XHARNJzT8PBfYHVgWeIk1Gf1xE3F9ap95+z2ZmZmb9lguDZjboRcTIOuL8DPhZndurq9+zmZmZWX/mPoNmZmZmZmZtyIVBMzMzMzOzNuTCoJmZmZmZWRtyYdDMzMzMzKwNuTBoZmZmZmbWhlwYNDMzMzMza0MuDJqZmZmZmbUhFwbNzMzMzMzakAuDZmZmZmZmbciFQTMzMzMzsza0XKsTYGZmg8vIo6+tO+6cU3boxZSYmZlZZ1wzaGZmZmZm1oZcGDQzMzMzM2tDbiZqZmZmZr2qkebjZtZ3XDNoZmZmZmbWhlwYNDMzM2sRSVtJiorX06V4QyX9VNKTkl6QdLOkjSu2t6Kk0yU9JuklSdMkbdlnB2RmA4qbiZqZmZm13heAPxf+f632hyQB1wAjgcOABcAEYLKkTSPikcJ65wE7AEcC/wA+B9wg6cMRMaM3D8DMBh4XBs3MrGXcj8jsDX+LiOkdLBsPbA5sExGTASRNA2YDR5EKkkjaBNgLODAizs9hU4FZwPF5O2Zmb3Bh0MzMzHpdowV/z0G5hPHAo7WCIEBEPCPpGmBncmEwx3sVuLQQ7zVJlwBHS1ohIhb2YbrNrJ9zn0EzMzOz1rtI0uuSnpL0S0kjCss2AmZWrDMLGCFp1UK82RHxYkW85YH1m55qMxvQXDNoZmZm1jrPAN8GpgLPAu8DvgZMk/S+iHgCGAbMqVh3fn4fCjyf4y3oJN6w5iV7YGqkhtq109YOXBg0MzMza5GIuBu4uxA0VdKtwB2k5p9f7+00SDoEOARgxIgRXcQ2s8HEzUTNzMzM+pGIuAt4APhgDlpAqv0rG1ZYXk+8+RXLiIhzI2J0RIwePnx49xJtZgOSC4NmZmZm/VPk91mk/oBlGwJzI+L5QrxRklauiPcK8FCvpNLMBiw3EzUzsy55CgizviNpNLABcHkOuho4QNKYiJia46wG7AT8srDqNcBxwO7AhTnecsCewI0eSdTMylwYNDOzQckDRdhAIOki0nyBdwFPkwaQmQD8C/h+jnY1MA2YJOlIFk86L+C02rYi4m5JlwJnShqSt3soMArYuy+Ox8wGFhcGzczMeonn1rM6zAQ+BRwGrAw8Dvwa+GZEPAkQEYsk7QicAZwNrEgqHG4dEQ+XtncAcBJwIrA6cA8wLvdDNDNbgguDZmZmZi0SEScDJ9cRbz5wYH51Fu8l4PD8MjPrlAeQMTMzMzMza0MuDJqZmZmZmbUhFwbNzMzMzMzakPsMmpmZmZn1EY90bP2JC4NmZmZmZj3guVhtoHIzUTMzMzMzszbkmkEzM7N+ws3HzMysL7lm0MzMzMzMrA25MGhmZmZmZtaGXBg0s0FP0m6SrpD0T0kvSbpf0smS3lSKN1TSTyU9KekFSTdL2rhieytKOl3SY3l70yRt2XdHZGZmZtZzLgyaWTs4Angd+BowDvgRcChwk6RlACQJuCYvPwzYFRgCTJa0Tml75wEHA8cCOwKPATdI2rTXj8TMzMysSTyAjJm1g50iYl7h/6mS5gMXAlsBtwDjgc2BbSJiMoCkacBs4CjgCzlsE2Av4MCIOD+HTQVmAcfn7ZiZmQ0aHtxq8HLNoJkNeqWCYM2f8/va+X088GitIJjXe4ZUW7hzYb3xwKvApYV4rwGXAGMlrdDEpJuZmZn1GtcMmlm7GpPf/5bfNwJmVsSbBewnadWIeD7Hmx0RL1bEWx5YP/9tNiB58mwzs/bhmkEzazuS1iY16bw5Iu7MwcOABRXR5+f3oXXGG9asdJqZmZn1JhcGzaytSFoVuAp4DTigD/d7iKQ7Jd05b15Vq1UzMzOzvuVmombWNiStROoDuB4wJiIeKSxewOLav6JhheW197d3Em9+xTIi4lzgXIDRo0dHYymvnzv5977+0ozSn7WZmfWUawbNrC1IGgJcDowGto+Ie0tRZpH6A5ZtCMzN/QVr8UZJWrki3ivAQ81LtZmZmVnvcWHQzAa9PJfgRcA2wC4RMb0i2tXA2pLGFNZbDdgpL6u5hjT/4O6FeMsBewI3RsTC5h+BmZmZWfPVVRiUNFbSLZIel7RQ0iOSfiVpw1K8dSVdLukZSc9K+rWkERXbGyrpp5KelPSCpJslbVwRb0VJp0t6TNJLkqZJ2rL7h2tmbeqHpMLbt4EXJG1WeNUmlL8amAZMkvRJSWNzmIDTahuKiLtJ00qcKekgSR8hTSsxCvhm3x2SmZmZWc/UWzM4DPgL8HlgW2ACqTnVdElvB8hNpm4B3g18GtgXeCcwWdIqtQ1JEunJ+jjgMGBX0lP2yYUfZTXnAQcDxwI7Ao8BN0jatNEDNbO2tl1+P4ZU4Cu+DgKIiEWkfOYm4GzgSuB1YOuIeLi0vQOA84ETgWuBdYFxEXFX7x6GmZmZWfPUNYBMRFwMXFwMk3QH8HdgN9LT9oNJgzJsEBEP5Th/BR4EPgN8J686Htgc2KY2ubOkacBs4CjgCzlsE2Av4MCIOD+HTSX11zk+b8fMrEsRMbLOePOBA/Ors3gvAYfnl5mZmdmA1JPRRJ/K76/l9/HA9FpBECAiZku6HdiZJQuDj9YKgjneM5KuyfG+UIj3Kqk5Vi3ea5IuAY6WtIL75piZmZlZb+gvIwf3lsF+fFafhgaQkbSspOUlvRM4B3icxTWGGwEzK1abRRpljzrijchzgNXizY6IFyviLQ+s30jazczMzMzMbLFGRxP9E7AQeAB4L6mp5xN52TAWz8NVNJ8l5+7qLB6FuF3FG1axzBM7m5mZmZmZ1aHRwuC+wGakvnzPAjdJGtnsRPVERJwbEaMjYvTw4cNbnRwzMzMzM7N+qaHCYET8LSL+lAeU+QiwKnB0XryAJWsAa8o1fJ3FoxC3q3jzK5aZmZmZmZlZHbo9gExEPC3pIRb33ZtF6udXtiFwX+H/WaTpKarizY2I5wvxPi5p5VK/wQ2BV4CHyhswMzOzwaGRwS3mnLJDL6bEzGzw6nZhUNJapDkFL8pBVwNnSFovIv6R44wkTSNxdGHVq4EDJI2JiKk53mrATsAvC/GuAY4jTRR9YY63HLAncKNHEjUz6xmPJGdmZtbe6ioMSroSuAv4K6mv4LuAL5Omlfh2jvYT0qT0V0n6OhDACcDDpJFHa64mTfQ8SdKRpOagEwABp9UiRcTdki4FzpQ0hDQP4aHAKGDv7hysmZmZmZmZJfX2GZwO7EKqobuWNNHyVGDTiHgAICJeALYhjTT6C1KN4WzSiKO1pp9ExCJgR+Am4GzgSuB1YOuIeLi03wOA84ET837XBcZFxF2NHqiZmZmZmZktVlfNYEScCpxaR7y5wK51xJsPHJhfncV7iVTwPLyedJqZmZmZmVl9ut1n0MzMzMyaS9L1wFjgpIj4eiF8KHA6qaXWSqQuN1+OiHtL669I6qazD7A6MAP4akTc2gfJtyZrtG+3B1OyRjU6z6CZmZmZ9QJJnwI2qQgXaWC9ccBhpFZYQ4DJktYpRT8POBg4ltQt5zHgBkmb9l7KzWygcs2gmZm1PY+saq2Wa/6+Sxqg75elxeNJo7NvExGTc/xppLEZjgK+kMM2AfYCDoyI83PYVNJ0Xcfn7ZiZvcGFQTMzs0HOhd0B4VRgZkRcLKmqMPhorSAIEBHPSLoG2JlcGMzxXgUuLcR7TdIlwNGSVvDUXGZW5GaiZmZmZi0kaQtgP+BzHUTZCJhZET4LGCFp1UK82RHxYkW85YH1m5BcMxtEXBg0MzMzaxFJy5PmYz4jIu7vINow0rzMZfPz+9A64w3rbjrNbHByM1EzMzOz1jmKNDroSa1KgKRDgEMARowY0apk2CDRSLN0j37aeq4ZNDMzM2sBSSOAY4BvACtIWl3S6nlx7f9lSbV9Qys2UavpW1B47yze/IplRMS5ETE6IkYPHz68G0diZgOVC4NmZmZmrbEesCIwiVSQq70Ajsh/b0zq87dRxfobAnMj4vn8/yxglKSVK+K9AjzU1NSb2YDnwqCZmZlZa8wAtq54QSogbk0qwF0NrC1pTG1FSasBO+VlNdeQ5h/cvRBvOWBP4EaPJGpmZe4zaGZmZtYCEfE0MKUcnuaY558RMSX/fzUwDZgk6UhSjeEEQMBphe3dLelS4ExJQ0jzEB4KjAL27sVDMbMByjWDZmZmZv1YRCwCdgRuAs4GrgReB7aOiIdL0Q8AzgdOBK4F1gXGRcRdfZdiMxsoXDNoZmZm1o9EhCrC5gMH5ldn674EHJ5fZmadcs2gmZmZmZlZG3LNoJmZmZmZ9TnPSdh6rhk0MzMzMzNrQy4MmpmZmZmZtSEXBs3MzMzMzNqQC4NmZmZmZmZtyIVBMzMzMzOzNuTCoJmZmZmZWRtyYdDMzMzMzKwNuTBoZmZmZmbWhjzpvJmZmZk1rJEJw82sf3Jh0MzMzAa0Rgolc07ZoRdTYmY2sLiZqJmZmZmZWRtyzaCZmZmZmfVrjTZLdiuA+rhm0MwGPUnrSPqBpGmSXpQUkkZWxIsOXpuW4i0jaYKkOZJelnSPpF376njMzMzMmsGFQTNrB+sDewALgNu6iHsB8OHS64FSnBOAicBZwHbAdOAySds3LcVmZmZmvczNRM2sHdwaEWsBSDoI2LaTuP+KiOkdLZS0JnAEcEpEnJGDJ0taHzgFuK5JaTYzMzPrVa4ZNLNBLyIWNXFzY4HlgUml8EnAxpJGNXFfZmZmZr3GNYNmZks6VNKRwOuk5p/fjIhi09KNgIXAQ6X1ZuX3DYHZvZ5KMzOzEs/9aI1yzaCZ2WKTgP8HfBQ4BHgLcIukrQpxhgFPR0SU1p1fWG5mZmbW77lm0Mwsi4h9C//eJukqYCZwIrBFT7Yt6RBSAZMRI0b0ZFNmZmZmTeGaQTOzDkTEc8C1wAcLwQuA1SWpFL1WIzifChFxbkSMjojRw4cPb35izczMzBrkwqCZWdeKTUJnASsA7yjF2TC/39cnKTIzMzPrITcTNTPrgKTVgB2BOwrB1wOvAnsDxxXC9wFmRoQHjzEzM2uxRgbTmXPKDr2Ykv7NhUEzawuSdst/fiC/bydpHjAvIqZKOgLYAJgMPAq8nTSf4FtJBT8AIuIJSd8BJkh6DrgL2BPYBhjfJwdjZmZm1gQuDJpZu7is9P/Z+X0qsBVwP/Dx/Hoz8CxwO/C/EXFHad1jgOeBL5IKi/cDe0TEb3sl5WZmZma9wIVBM2sLEVEe8KW8/Brgmjq39TpphNETm5A0MzMzs5bwADJmZmZmZmZtyIVBMzMzMzOzNuTCoJmZmZmZWRtyYdDMzMzMzKwNeQAZM7N+rJF5ksxs4JE0FvgqsCEwFJgH/BGYGBH3FeKtC3wX+Bgg4GbgSxExt7S9ocDpwC7ASsA04MsRcW+vH4yZDTiuGTQzMzNrnWHAX4DPA9sCE4CNgOmS3g4gaWXgFuDdwKeBfYF3ApMlrVLbkCSRRkUeBxwG7AoMyfHW6asDMrOBwzWDZmZmZi0SERcDFxfDJN0B/B3YDfg2cDCwHrBBRDyU4/wVeBD4DPCdvOp4YHNgm4iYnONNA2YDRwFf6O3jMbOBxTWDZmZmZv3LU/n9tfw+HpheKwgCRMRs4HZg58J644FHawXBHO8ZUm1hMZ6ZGeDCoJmZmVnLSVpW0vKS3gmcAzzO4hrDjYCZFavNIvU1pI54IySt2sQkm9kg4MKgmZmZWev9CVgIPAC8l9TU84m8bBiwoGKd+aRBZ6gjHqW4ZmZd9xmUtBvwKWA0sCYwF/g18K2IeK4Qr67RqyStCJwA7AOsDswAvhoRt5biLUMaXeszwFuB+4HjI+KKxg/TzMzMrF/bF1iN1DfwCOAmSVtExJze3rGkQ4BDAEaMGNHbuzMb0BoZ5XvOKTv0Ykqao56awSOA14GvkUan+hFwKCmTWgYaHr3qPFJH6GOBHYHHgBskbVqKdwIwETgL2A6YDlwmafuGjtDMzMysn4uIv0XEn/KAMh8BVgWOzosXUF2rV64J7CweVNcaEhHnRsToiBg9fPjwbqXfzAamekYT3Ski5hX+nyppPnAhsBVpqOO6Rq+StAmwF3BgRJyfw6aS2rIfn7eDpDVJhdBTIuKMvN/JktYHTgGu6+4Bm5mZmfVnEfG0pIeA9XPQLFJ/wLINgfsK/88iTU9RFW9uRDzf1ISa2YDXZc1gqSBY8+f8vnZ+r3f0qvHAq8ClhXivAZcAYyWtkIPHAssDk0r7nQRsLGlUV+k2MzMzG4gkrUWaU/D/ctDVwGaS1ivEGUl6EH91YdWrgbUljSnEWw3YqRTPzAzo/gAytUzmb/m93tGrNgJmR8SLFfGWZ/ETsI1InagfqogHS46cZWZmZjYgSbpS0jck7Sxpa0mfAaaSppX4do72E2AOcFWONx64CniYNPJozdWkMRsmSfqkpLE5TMBpfXNEZjaQNFwYlLQ2qUnnzRFxZw6ud/SqruINK7w/HRHRRTwzMzOzgWw6afC9C4FrgcNJhcFNI+IBgIh4AdiGNNLoL4CLSF1xtik2/YyIRaTxGG4CzgauJI37sHVEPNxHx2NmA0g9fQbfkGv4riI9rTqgV1LUQx4Ry8zMzAaKiDgVOLWOeHNJA/R1FW8+cGB+mZl1qu6aQUkrkfoArgeMjYhHCovrHb2qq3jzC/FWz6OUdhZvKR4Ry8zMzMzMrGt1FQYlDQEuJ801uH157kA6H+WqOHrVLGCUpJUr4r3C4j6Cs4AVgHdUxIMlR84yMzMzMzOzBnVZGMxzCV5Eaqu+S0RMr4hW7+hV15DmH9y9EG85YE/gxohYmIOvJ406undpP/sAMyNidlfpNjMzMzMzs47V02fwh6TC20nAC5I2Kyx7JDcXLY5edSSpmecESqNXRcTdki4Fzsy1jbNJE9iPolDwi4gnJH0HmCDpOeAuUoFxG/JchGZmZmZmZtZ99RQGt8vvx+RX0XHAxIhYJGlH4AzS6FUrkgqHVaNXHUAqWJ4IrA7cA4yLiLtK8Y4Bnge+CLwVuB/YIyJ+W0eazczMzMzMrBNdFgYjYmQ9G6p39KqIeIk0bPLhXcR7nVRgPLGe/ZuZmZmZmVn9ujvpvJmZmZmZmQ1gLgyamZmZmZm1oYYmnTczMzMzMxtMRh59bauT0DKuGTQzMzMzM2tDLgyamZmZmZm1IRcGzczMzMzM2pALg2ZmZmZmZm3IhUEzMzMzM7M25MKgmZmZmZlZG3Jh0MzMzMzMrA15nkEzMzNrG43MJzbnlB16MSVmZq3nmkEzMzMzM7M25MKgmZmZmZlZG3Jh0MzMzMzMrA25MGhmg56kdST9QNI0SS9KCkkjK+KtKOl0SY9JeinH37Ii3jKSJkiaI+llSfdI2rVPDsbMzMysSVwYNLN2sD6wB7AAuK2TeOcBBwPHAjsCjwE3SNq0FO8EYCJwFrAdMB24TNL2TU21mZmZWS/yaKJm1g5ujYi1ACQdBGxbjiBpE2Av4MCIOD+HTQVmAccD43PYmsARwCkRcUZefbKk9YFTgOt6+VjMzMzMmsI1g2Y26EXEojqijQdeBS4trPcacAkwVtIKOXgssDwwqbT+JGBjSaN6nmIzMzOz3ufCoJlZshEwOyJeLIXPIhX+1i/EWwg8VBEPYMNeS6GZmZlZE7kwaGaWDCP1KSybX1hee386IqKLeGZmZmb9mvsMmpn1AUmHAIcAjBgxosWpMTMzs9428uhr644755QdejElHXPNoJlZsgAYWhFeq+mbX4i3uiR1EW8JEXFuRIyOiNHDhw/vcWLNzMzMesqFQTOzZBYwStLKpfANgVdY3EdwFrAC8I6KeAD39VoKzczMzJrIhUEzs+QaYAiwey1A0nLAnsCNEbEwB19PGnV079L6+wAzI2J2H6TVzMzMrMfcZ9DM2oKk3fKfH8jv20maB8yLiKkRcbekS4EzJQ0BZgOHAqMoFPwi4glJ3wEmSHoOuItUYNyGPBehmZmZ2UDgwqCZtYvLSv+fnd+nAlvlvw8ATgJOBFYH7gHGRcRdpXWPAZ4Hvgi8Fbgf2CMiftv0VJvZoJUfUn0KGA2sCcwFfg18KyKeK8QbCpwO7AKsBEwDvhwR95a2tyJwAqmlwurADOCrEXFrLx+KmQ1QLgyaWVuIiPKAL1VxXgIOz6/O4r1OKjCe2JzUmVmbOoJUAPwa8AjwPmAisLWk/46IRXmwqmuAkcBhpEGsJgCTJW0aEY8UtncesANwJPAP4HPADZI+HBEz+uSIzGxAcWHQzMzMrDV2ioh5hf+nSpoPXEhqsXALqfn55sA2ETEZQNI0UlP2o4Av5LBNgL2AAyPi/Bw2lTTo1fG4GbuZVfAAMmZmZmYtUCoI1vw5v6+d38cDj9YKgnm9Z0i1hTsX1htPGtzq0kK814BLgLGSVmhi0s1skHBh0MzMzKz/GJPf/5bfNwJmVsSbBYyQtGoh3uyIeLEi3vLA+s1OqJkNfC4MmpmZmfUDktYmNem8OSLuzMHDSP0Ey+bn96F1xhvWrHSa2eDhwqCZmZlZi+UavquA10gjG/flvg+RdKekO+fNq2q5amaDlQuDZmZmZi0kaSVSH8D1gLGlEUIXsLj2r2hYYXk98eZXLAMgIs6NiNERMXr48OENpd3MBjYXBs3MzMxaRNIQ4HLSXIPbl+cOJPX526hi1Q2BuRHxfCHeKEkrV8R7BXioeak2s8HChUEzMzOzFpC0DHARsA2wS0RMr4h2NbC2pDGF9VYDdsrLaq4BhgC7F+ItB+wJ3BgRC5t/BGY20HmeQTMzM7PW+CGp8HYS8IKkzQrLHsnNRa8GpgGTJB3J4knnBZxWixwRd0u6FDgz1zbOBg4FRgF798XBmNnA45pBMzMzs9bYLr8fQyrwFV8HAUTEImBH4CbgbOBK4HVg64h4uLS9A4DzgROBa4F1gXERcVfvHoaZDVSuGTQzMzNrgYgYWWe8+cCB+dVZvJeAw/PLzKxLrhk0MzMzMzNrQy4MmpmZmZmZtSEXBs3MzMzMzNqQC4NmZmZmZmZtyIVBMzMzMzOzNuTCoJmZmZmZWRtyYdDMzMzMzKwNuTBoZmZmZmbWhlwYNDMzMzMza0MuDJqZmZmZmbUhFwbNzMzMzMzakAuDZmZmZmZmbWi5VifAzMzMzMysnY08+tqG4s85ZYem7LeumkFJ60j6gaRpkl6UFJJGVsRbUdLpkh6T9FKOv2VFvGUkTZA0R9LLku6RtGsH+z5Y0t8lLZR0v6TPNnyUZmZmZmZmtoR6m4muD+wBLABu6yTeecDBwLHAjsBjwA2SNi3FOwGYCJwFbAdMBy6TtH0xkqSDgXOAK4BxwGXA2ZIOrTPdZmZmZmZmVqHeZqK3RsRaAJIOArYtR5C0CbAXcGBEnJ/DpgKzgOOB8TlsTeAI4JSIOCOvPlnS+sApwHU53nLAScAvIuKYQry3ASdI+mlEvNroAZuZmZmZmVmdNYMRsaiOaOOBV4FLC+u9BlwCjJW0Qg4eCywPTCqtPwnYWNKo/P+HgeEV8X4BvAXYop60m5mZmZmZ2dKaOZroRsDsiHixFD6LVPhbvxBvIfBQRTyADQvxAGZ2Ec/MzMzMzMwa1MzC4DBSn8Ky+YXltfenIyLqiEfFNsvxliDpEEl3Srpz3rx5dSXczMzMzMys3Qy6eQYj4tyIGB0Ro4cPH97q5JiZmZmZmfVLzSwMLgCGVoTXavDmF+KtLkl1xKNim+V4ZmZmZmZm1qBmFgZnAaMkrVwK3xB4hcV9BGcBKwDvqIgHcF8hHizuO9hRPDMzMzMzM2tQMwuD1wBDgN1rAXl6iD2BGyNiYQ6+njTq6N6l9fcBZkbE7Pz/NODJDuLNB25vYtrNzMzMzMzaSr3zDCJpt/znB/L7dpLmAfMiYmpE3C3pUuBMSUOA2cChwCgKBbqIeELSd4AJkp4D7iIVGLchz0WY470q6RukSeb/Bdyc4xwIHBYRr3TvkM3MzMzMzKzuwiBwWen/s/P7VGCr/PcBpIniTwRWB+4BxkXEXaV1jwGeB74IvBW4H9gjIn5bjBQRP5YUwFeAI4G5wOcj4mzMzMzMzMys2+ouDEZEecCXqjgvAYfnV2fxXicVGE+sY5vnAOfUmUwzMzMzMzOrw6CbWsLMrLskbSUpKl5Pl+INlfRTSU9KekHSzZI2blGyzczMzLqlkWaiZmbt4gvAnwv/v1b7I0+Lcw0wEjiMNA3OBGCypE0j4pE+TKeZmZlZt7kwaGa2tL9FxPQOlo0HNge2iYjJAJKmkQbNOopUkDQzMzPr99xM1MysMeOBR2sFQYCIeIZUW7hzy1JlZmZm1iAXBs3MlnaRpNclPSXpl5JGFJZtBMysWGcWMELSqn2TRDMzM7OecTNRM7PFngG+TZoy51ngfcDXgGmS3hcRTwDDgDkV687P70NJU+eYmZmZ9WuuGTQzyyLi7og4IiKuiYipEXEmMA5Yix72BZR0iKQ7Jd05b968ZiTXzAYBSetI+oGkaZJezCMYj6yIt6Kk0yU9JumlHH/LinjLSJogaY6klyXdI2nXPjkYMxtwXBg0M+tERNwFPAB8MActINX+lQ0rLK/azrkRMToiRg8fPrz5CTWzgWp9YA9S3nFbJ/HOAw4GjgV2BB4DbpC0aSneCcBE4CxgO2A6cJmk7ZuaajMbFNxM1MysPpHfZwHbVizfEJgbEW4iamaNuDUi1gKQdBAV+YukTYC9gAMj4vwcNpWUHx1PGtgKSWsCRwCnRMQZefXJktYHTgGu6+VjMbMBxjWDZmadkDQa2AC4IwddDawtaUwhzmrATnmZmVndImJRHdHGA68ClxbWew24BBgraYUcPBZYHphUWn8SsLGkUT1PsZkNJq4ZNDPLJF1Emi/wLuBp0gAyE4B/Ad/P0a4GpgGTJB3J4knnBZzWx0k2s/awETA7Il4shc8iFf7Wz39vBCwEHqqIB6kFw+xeTKeZDTAuDJqZLTYT+BRwGLAy8Djwa+CbEfEkpKf4knYEzgDOBlYkFQ63joiHW5JqMxvshlHdH3l+YXnt/emIiC7iLUHSIcAhACNGjKiKYmaDlAuDZmZZRJwMnFxHvPnAgfllZjagRcS5wLkAo0ePLhckzWwQc59BMzMzs/6tq1GM5xfirS5JXcQzMwNcGDQzMzPr72YBoyStXArfEHiFxX0EZwErAO+oiAdwX6+l0MwGJBcGzczMzPq3a4AhwO61AEnLAXsCN0bEwhx8PWnU0b1L6+8DzIwIDx5jZktwn0EzMzOzFpK0W/7zA/l9O0nzgHkRMTUi7pZ0KXCmpCGkEUEPBUZRKPhFxBOSvgNMkPQcaWTkPYFtyHMRmpkVuTBoZmZm1lqXlf4/O79PBbbKfx8AnAScCKwO3AOMi4i7SuseAzwPfBF4K3A/sEdE/LbpqTazAc+FQTMzM7MWiojygC9VcV4CDs+vzuK9Tiowntic1JnZYOY+g2ZmZmZmZm3IhUEzMzMzM7M25MKgmZmZmZlZG3Jh0MzMzMzMrA25MGhmZmZmZtaGXBg0MzMzMzNrQy4MmpmZmZmZtSEXBs3MzMzMzNqQC4NmZmZmZmZtyIVBMzMzMzOzNuTCoJmZmZmZWRtyYdDMzMzMzKwNuTBoZmZmZmbWhlwYNDMzMzMza0MuDJqZmZmZmbUhFwbNzMzMzMzakAuDZmZmZmZmbciFQTMzMzMzszbkwqCZmZmZmVkbcmHQzMzMzMysDS3X6gRY/zPy6GvrjjvnlB16MSVmZmZmZtZbXDNoZmZmZmbWhlwzOIA1UoNnA5tra83MzMys2VwY7GcGWgGv0fT2VkGlt85bbxaseivNLjiamZmZWT1cGOwG/9juvsFc2B2In/VgPz4zMzMz65gLg71soBV+rPv8WZuZmZnZQOLCoJnVxYVdMzMzs8HFo4mamZmZmZm1IdcMZq71MDMzMzOzduKaQTMzMzMzszbkwqCZmZmZmVkb6veFQUnrSrpc0jOSnpX0a0kjWp0uM2tvzpvMrL9y/mRm9erXhUFJKwO3AO8GPg3sC7wTmCxplVamzczal/MmM+uvnD+ZWSP6+wAyBwPrARtExEMAkv4KPAh8BvhOC9NmZu3LeZOZ9VfOn8ysbv26ZhAYD0yvZWYAETEbuB3YuWWpMrN257zJzPor509mVrf+XhjcCJhZET4L2LCP02JmVuO8ycz6K+dPZla3/l4YHAYsqAifDwzt47SYmdU4bzKz/sr5k5nVrb/3GWyYpEOAQ/K/z0u6v7B4DeDJvk/VgOZz1jifswbp1IbO2dt7My29xXlTr/B56x6ftzrp1Df+rOecDci8CbrMn6r4GvI5AJ+Dlh5/IX+qR4f5U38vDC6g+ilWR0+9iIhzgXOrlkm6MyJGNy95g5/PWeN8zho3AM+Z86Z+wOete3zeGjfAzllT86cqA+x89AqfA5+DwXL8/b2Z6CxS2/eyDYH7+jgtZmY1zpvMrL9y/mRmdevvhcGrgc0krVcLkDQS2DwvMzNrBedNZtZfOX8ys7r198LgT4A5wFWSdpY0HrgKeBg4pxvbq7sJhL3B56xxPmeNG2jnzHlT/+Dz1j0+b40bSOes2flTlYF0PnqLz4HPwaA4fkVEq9PQKUkjgO8CHwME/B74UkTMaWW6zKy9OW8ys/7K+ZOZ1avfFwbNzMzMzMys+fp7M9EuSVpX0uWSnpH0rKRf5ydijW7naEkh6Q+9kc7+pKfnTNJ7JF0m6UlJL0m6X9IXezPNrdaTcyZphKQLJc3N5+sBSSdKWqW3091KktaR9ANJ0yS9mO+vkXWuu4ykCZLmSHpZ0j2Sdu3lJDed86fGOX/qHudRjXMe1Zhm5WcDWU+umcFA0m6SrpD0z0L+erKkN7U6bX1B0lhJt0h6XNJCSY9I+pWkDVudtp4Y0IVBSSsDtwDvBj4N7Au8E5jcyJeYUifrrwNP9EY6+5OenjNJo4E/ASsABwHbA98Glu2tNLdaT85ZXn4zsCXwDdL5+inwFeBnvZjs/mB9YA/SUOa3NbjuCcBE4CxgO2A6cJmk7ZuZwN7k/Klxzp+6x3lUt7V1HtWIZuVng0BPrpnB4AjgdeBrwDjgR8ChwE2SBnSZok7DgL8Anwe2BSaQRu6dLmnAzjNKRAzYF/BF0kW5fiFsFPAacHgD27mB1Kl6CvCHVh9Xfz1npIcH9wFXtvo4BtA52xYIYNtS+Cl5/ZVbfXy9eN6WKfx9UD4PI+tYb01gIXBcKfz3wF9bfVx9cd2UtuP8yflTb54351HRnnlUg+eqKfnZQH9195oZLC9geEXYfvk8bNPq9LXonGyQj/8rrU5Ld18DvRQ/HpgeEQ/VAiJiNnA7sHM9G5C0F/B+Uum+HfTknG0FvAf4Tq+lrn/qyTlbPr8/Wwp/mvTjVU1KY78TEYu6uepY0nmbVAqfBGwsaVSPEtZ3nD81zvlT9ziP6gbnUQ3pcX42GPTgmhkUImJeRfCf8/vafZmWfuSp/P5aS1PRAwO9MLgRMLMifBZpctVOSRpKGm3rqIiY3+S09Vc9OWdb5PcVJU2X9KqkJyR9X9JKTU1l/9KTc3Yz8CBwqqQNJa0qaRvSU9YfR8QLzU3qoLAR6an7Q6XwWfl9oLTNd/7UOOdP3eM8qm8NljyqET3Kz2xQG5Pf/9bSVPQhSctKWl7SO0ktdx4HLm5xsrptoBcGh5HabZfNB4bWsf7pwAPABU1MU3/Xk3P2tvx+KXAjacjq00hNJX7ZrAT2Q90+ZxHxMulH6jKkL83nSE2Jfktqc25LGwY8Hbn9RcH8wvKBwPlT45w/dY/zqL41WPKoRvQ0P7NBSNLawPHAzRFxZ6vT04f+RHog9ADwXlIT2QHbr3+5ViegVST9D6md8/srMnSrVnt4MCkijs1/T5G0LHCKpPdERNs8GaqHpBVJP07XJHW4nwv8F3AsqUnBoa1LnfVXzp+6xflTNziPMrPukLQqcBUpnzigxcnpa/sCqwHrkQbVuUnSFjFA5/Ec6IXBBVQ/keroCVbROcB5wCOSVs9hywHL5v9fioiFTUpnf9KTc1ZrF31TKfxG0mAD72NwNhPoyTn7X1JfpvUj4v9y2K2SngHOlfTjiLinaSkdHBYAq0tSqSBUe9o+UJpMOn9qnPOn7nEe1bcGSx7ViJ5cYzbI5Kb315AKQ2Mi4pEWJ6lPFR4s/knS74A5wNHAZ1uWqB4Y6M1EZ5HasZdtSBpVrjPvIX1oCwqvzYHN8t+D9WloT87ZrC6WD9aO1T05ZxsDCwo/smruyO/v6WHaBqNZpKkB3lEKr/VL6eqc9xfOnxrn/Kl7nEf1rcGSRzWiJ9eYDSKShgCXA6OB7SPi3hYnqaUi4mlS/+H1W5yUbhvohcGrgc3yPFwA5Mk/N8/LOrN1xeseUgfprUkX+mDUk3P2O1Ib6bGl8HH5fbC2F+/JOXscGCqpnEl8KL//q1mJHESuB14F9i6F7wPMzCPYDQTOnxrn/Kl7nEf1rcGSRzWiJ9eYDRJ5LsGLgG2AXSJieouT1HKS1iLNv1l+oDZwtHpui568gFVIpfF7SUMbjyf9YPoHsGoh3ttJbZqP7WJ7Uxj883j16JwB38zh3wI+SqoWfwm4oNXH1h/PGTCSNGT7A6SJercGjsxhd1KYs2gwvoDd8utHpHl4Ds3/jynEeQ04r7TeKcDLwOGkJmw/ItXs7NjqY+qL66aD7Tl/6uKctWP+1NPz5jyqffOo3rjG2uFVzzUzWF+FYz6R1FKl+Fqn1enrg+O/EvhGvge2Bj4D/J00Fc+7Wp2+bh9XqxPQhA9mBHBF/uJ6DvgNpQlA85ddABO72Nag/7HV03NGmnPq8Pyl8ArwT9JIUkNafVz9+JxtCPwKeJj0w/QB4AxgaKuPqw/OW3TwmlKKc0FpvWWBr+frayHwV2C3Vh9PX143Fdty/tTFOWvX/KkJ5815VJvmUc2+xtrhVc81M1hfpL5xHR3/xFanrw+O/6vAX0iFvxeB+0l9/Ee2Om09eSkfnJmZmZmZmbWRgd5n0MzMzMzMzLrBhUEzMzMzM7M25MKgmZmZmZlZG3Jh0MzMzMzMrA25MGhmZmZmZtaGXBg0MzMzMzNrQy4MtoikXSTdKukJSS9J+qek30gaV4izv6SQNLKFSa2lZaKkDuchkTRc0iuSzu4kzv/m49mqzn1u1Uj8vlL4XKKzc9KkfS1x3iWtnsPe341t7Sjpd5Iel/S0pOskbVBYvk7xuCR9tFnHYQOH86a69um8yXmTNUjST/Ln990Olu9f+pxfkDRH0pWS9pCkDtZbQ9LJkmbldV6UdK+kUyT9R+8eFeQ0XtDb++kiDUMkzZN0XSdxPpLP6/51bnNkI/H7SiH/rb1G9uK+lvquy/ncNt3Y1haSrpD0iKTn8vfsh0pxXisc10FNOIS6uDDYApK+AFwJPAj8L7ADcGJeXLzArgU+DDzWpwnshoiYB/wO2FPS8h1E2480Qe/UPktY7/oE6fPpTT8t7WN14JtAwz+4gFOA+4B9gYOBdwK/k7RCXv5E3tfnuptYG9icNzlvaoDzJqubpJWAPfK/e0larpPou5M+7+2BbwALgYuBm/J2itvdEJhBuod/DowHdgIuBHYFOnwI1EQfB07og/10KCJeBX4JbCtprQ6i7Qe8AFzeZwnrXZ+j97+Hqr7rvsmS34f1OhaYDxwCfApYiZTPFT+vzUn5d5/q7Ga03nME8JuI+N9C2C3ATyS9UUDPP2Lm9XXieuBCUka8A+kH5RvyU5X/AU6KiF59Yt2H7o6IOb25g4h4BHikSZsbExFP1f6RtIj0pbAxcGdEvAJMl7Rik/ZnA4/zpsHBeZP1N7sAqwHXkQp544DfdhB3RkQ8VPj/F5IuAy4DTgMOA8gFyiuAl4H/jognCuv8XtKZwHZNPIYlSFohIhZGxN29tY8GXQh8AdgLWKL2VdIqpELGlRHxfAvS1hvui4jpvbmDJn/XfaqUzz0G3En6/rk87+9PrWhx45rB1hgGPF61ICIW1f7uoHp6ZUk/kvSUpOdz84n/LlflS7ogV0W/T9JtudnEg5I+W9xfbkJ1jqQHcpyHJf1S0trdOK7fkp567FuxbF9ApCd3SDpO0l2SnpX0pKRbJG3W1Q46ao6Rj39iKWwTSVdLWqDU3O12Sf9TivNBSTfl8/mSpH+ok+ZkXaStskmFKpqUSZoi6Q+SPprPw4uSZkr6eGndN5pi5etgdl5Ua27zxv4kjZX0R0nP5GvjfknH1rZVzISyWjOs+d05XhuUnDc5b3LeZL3h08ACYH/gpfx/3SLiCuAq4GBJK+fgjwPvBo4uFQRr67wWEdd0tt18306SdLCkhyS9nK/7rUvxavnWh/O1/BKpYLrUvV/IH/9b0q+UmgT+W9KEvHycpLuVmrT+WdIHKtL1CUnT8/33tKTLJI3o4hzdBcykOp/7BLAqqcCIpM9LmiZpft7+dEk7dLb9vN4USVMqwpfK/ySNknSRUvPVhZJmVOQj78rfFU/kcz83H2u3Kqs6yG+Xyv8a+B5a4ruulucBxxTyuYl5Wad5dif5XDm8z7kw2Bp3AJ+WdKSkdzW47rnAgcAZpIzwfuCiDuKuRmo2MAnYGfgz8KNSJjeM9FRtAulJ3ZGkJjq3q8GnsPnp7cXADpKGlRbvA/wxIh7M/69NenK1M+nL4QngVkkbN7LPjij1W/kj6fgOJjUXeQq4uZbxSloVuAF4PadhO+B4+q7G/B3A94DvkDLqx4DLJK3fQfzHWNx84GRS04UPA9dKWg+4mvSDbE9SLch3gFWqNiRpW1KThR9ExD+acjQ2GDhvct4EzpusiSS9DfgocGmuafkNsJOkoQ1u6jpgBWB0/v9jpHukw35yddoKOBw4BvgkqVnq71Tot5q9GbiElJdsR8rDOnMhcC8pP/wN8C1JpwKnA6eS7odVgN+o0IQ9F0iuIDWd3g34DPCfwFRJb6pjn++TtFEpfF9STf4t+f+RpKbeu+d03An8VoW+4T0haV3gT8AmwJdJ9/1dwBWSxheiXkvKcw8FxgJHk85/X5RP6vkeKqs1jb+AxfncTxvNsyVtCvwAuCYiJvfwOHouIvzq4xfwLuCvQOTXk6TMZdtSvP3z8pH5/w2ARcBRpXjfz/H2L4RdkMO2LoStQPrRcW4naVsWWDev+/FC+MR0uXR5bB/M6x5aCNssh32mk30uR/rx+L1C+FZ5va0KYXOACyq2EcDEwv+/B/4GLF/az99IzeAgfaEE8N4GP78lPpdC+Mjy59DJcUwBXgXeWQhbk5SRfK2j817Yx0GlfeyWw1erI/1bkJ7MXgwsU7G8lt6Ptvpe8atvX86bKvfpvMl5k189eAFH5c/tw/n/sfn/z5bi1a7f9TvYTm29PfP/vwMe62Ha5gCvAOsWwt5EqpX+RSHsgrzvnTvYxgUVx3FsIWw50oOlV4FRhfDxOe6Y/P+qwDPAz0r7GJXT+aUujuc/gNeAUwthb8v378kdrLNMTt+NwFWF8KXyjZw/TKnjHJxHal75llK8m0jNgAHWyNsf3+BnVssHtqpYtkR+28lx1D7PTr+HqMhT8/8nlvZRd55N+r58Mp/LlSqW19J7UFfbatbLNYMtEBEPAO8DxgAnkTo/fxy4QdLXO1n1Q6TmTJeVwjvqDPxiFJ44RMRC4AFgiaYGkg6VdI+k50mZyNy8qPxUrEsR8WfSj5piM4X9SE96Li3s86OSJkt6Ku/zVdIP0Yb3WabUwXwM6TwtkrRcbnIg4GZgyxz1QeBp4BxJ++QnWX3pwVhcG0GkZi5PUPp86jSDdA4vkbSbpDU7iXs26WnlflFo+mfmvMl5U23/zpusiT5Nuqam5f9vBh6lwaaipPsE0g/lZpoeEQ/X/omI51g8cEjRq3Tcz7HK7wrbfA14CHggImYX4vw9v9fu8Q+TaqwuquUPOY94OMfdkk5ExGOkQt3eWtzPex9Sge/CWjxJH5D0W0n/ZnE+9zGakM9l40g1ts+UjuMGYBNJq5EKXv8ATlFqpvvOJu27XnV9D9WpkTz7dNJAPuMj4qVu7KvpXBhskYh4PSJujYivR8RHgfVIX4Lf7KTpRG2I5HLb+H93EH9BRdhC4I0mVpIOI30B30xq5vNfpKflFOM16ELgw5LWz00f9iQ9bXo67/P9pEziedKIhZuRntrf04N9Fg0jPWn/BimDK74+DwyVtExEPANsTfpSOhuYq9Q3ZtcmpKEeVf1hlvh86hWps/1Y0j39C+BxpT4AYyqibwj8PtLoY2ZLcN7kvAnnTdYkkkaTPtdfK00/sjqp5u3XwGYNNkev/cCujez4MDBci/sQdldVPvVvUvPFonkR8XoD2y3nc690EAaL763aw5KbWTqP2Bh4Sx37vZCU9tqIl/sCd0TE3+GNJpy/J+VHhwH/Tcrnrqc5+Ryk49iv4hhOz8vfEqka7GOkJqonAw/kfnaHNikNXenye6heDebZG5K6Jjzb6H56i0cT7Sci4lFJPyX103gnqe9OWS0DXJPFnfUBOhpGuB6fJH35fqUWIGlUD7YHqf31t0gZ0AxShvPzwvJdSU+iPlH80s8/NJ/uYtsvA0sMDy+pnDk+TWqy9sPSft9Qe+ocETOAXfMTq9Gk/km/krRJRMzsIi1VaaOcPurLvHssP+GarDQc++ak9urXShoZEU8Woj5EB4OEmJU5b3Le1FPOm9parfbvq/lVth/QWauDoh1I1/Jf8v83k/rdbkfqY9ddVfnUWsC/SmHNrpGsUhtMZH9gVsXy5+rYxlWkpqb75hYO/0l62FQzjtT/cY9IowIDaRCwOrb9MqnmsqzcF/sp4DZS38gqjwJE6he8nySR+hd+Hjhb0pyI+F0H63ZmIa3L52ZQX579T9KDjH7DhcEWkPQfuSq/7N35vaMvwztImdHu5FGsst17kJyVgfLTiQN6sD0i4l+SbiY1TXgv6QnbDaV9vk4hY1WawHMES/6QrPJPUsZWtMQIWBHxgqTbSBnLXfU0N8pNOKZL+gapDf97SKNyNeLfpIyo0/T10ML8vlJHEXJTh1tyh+arSH0Nniwsf3dH61p7c97kvKkHnDfZEnLt+6dIA4kcXRHlu6QCyzdyLVFn29qVdP1/LyJezMG/JvXnPVXSrZEGpymusxwwNiKu7SKpm0lat9ZUNA/SsgOpqWhf+yOpwLd+RFzYVeQqEfGypEtJU0y8TKp9vLgQpVboKz7wehfpQU1X08X8k1TgWT7SwFxI2pJU21t0PanJ66x6mkLmz3+GpMNJrTL+k0Iz2wZ0mQ83wSt0ns91mmdHxEeanJ4ec2GwNWbmHyTXkX5grEaad+ezwK8iYm7VShHxd0m/BE7IbcH/QmoGsFOO0p0+FtcDX5X0NdIPum1IHf576kLSSIKjgO/mm6O4zy8BF0g6n9Qf5xss/RSuyiXAzyR9l9R2fxPSE7Syw4FbSX2dziPVXKxBmhB52Yg4WtKOpMk/f0P6HFYhzdHzHDCtYpudiojIGfD/SnqA9CW1A6mzc7P8m/TE7ZOS/kpqdz6b9KN7S9I19TDpWCeQnr4t8cNR0mukOdW+2cR02eDgvMl5U3c5b7KyHUi1Ml+JiCnlhZLOAX5Eug4nFxZtKmkNUg3PCGBH0nV0E+naAdKPbkmfyOEzJH2P1OQQ0v13CKmfXVeFun8DNypNEbCQVIO5Ci2YSD4inpV0JPBDScNJBaJnSM0+x5AGb+lqFFNI+dwhpJrTKyOi2PT7ZlILiJ9L+japmf9xpD7ZXXUfuyRv92dKU0mMIuVpz5TiHUvKt2+VdBZpgJmhpILaehFxoKT3klqcXEpqFbAsKc98jcWjnjbqEuDrko4BppPm8PtUN7fVkftII1NfT2pq+igp/64rz5b0EHB7RDTaZ7bXuDDYGseQfmAdT2qK8Dqp0+rRwJldrHsI6eI6ipRR3gJ8jvTjo3wz1uN4YHXS0L8rAlNJ/Tt6OqT3laSn+qtRag4VETdI+gIpA9mV9IOg3qYiF5L6Dfwvabjl20gDXBQnqCUi7pL0QeCbpBEN30wa2eou4Mc52oOkkeu+QcoMnyMNLfyxYtOJBn2RlJlOzO+/IrXJb6TTeYciYpGkg0hN3W4m3cMHkPo0bUdqd78mqc/PH4C9K57KLZtfZmXOm5w3dYvzJqvwadK1Wx5YquZi0jQjn2bJwmAt/sukfsh3kZqNX16uQYyI+yRtAhxBKkhMJA008yCp5vB7daRzKmlkx28B65B+7G+XB9TqcxFxjqSHSdPp7EW6l/5FylNm1LmNP0p6kNS0v5zPzZK0NymPvRr4P1IeP44uHhBFxGSlqS+OIOWRd5NaWlxRijc39xedSDqvw0kPi2ayeCCbx0kF0MNJ5/1lUv/0HSPiL3TPyaTvjc/nY7qO1C3gT93cXpXPk/Lua0gjkB5HupbrzbOXo5/lc+qiZt4GAElHkJpmjezoyb01j9LEpecD6wP/LNUsDGi5Wc0Y0o+5j0XEzS1Okg1gzpv6lvMms8ZImgP8ISL2aXVarD6StiI9PPgoMHWQ5XPLkqaWeAg4OCJ+2hf7dc3gAJObD/0n6enQIlIV+BF00oTLek3tib86jTVASFqHftap2QYO5039ivMmMxvsboY0sFhEzGlxWpplIS2oNXRhcOB5DtiFVP29CqnpwPdJTY6sb1xDGoZ5sPk3Sx7X/a1KiA1Izptaz3mTmQ12f2HJ/ODRViWkF9Tm7IXUz7JPuJmomZmZmZlZG/Kk82ZmZmZmZm3IhUEzMzMzM7M25MKgmZmZmZlZG3Jh0MzMzMzMrA25MGhmZmZmZtaGXBg0MzMzMzNrQ/8fBSH0nYMqKewAAAAASUVORK5CYII=",
=======
      "image/png": "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",
>>>>>>> Stashed changes
      "text/plain": [
       "<Figure size 1080x360 with 3 Axes>"
      ]
     },
     "metadata": {
      "needs_background": "light"
     },
     "output_type": "display_data"
    }
   ],
   "source": [
    "n_bins=20\n",
    "#make 200 and voxels 100,000 to see adc prime dropoff\n",
    "fig, axs = plt.subplots(1, 3, sharey=True,figsize=(15, 5))\n",
    "axs[0].hist(sim_adc, bins=n_bins)\n",
    "axs[1].hist(sim_sigma, bins=n_bins)\n",
    "axs[2].hist(sim_axr, bins=n_bins)\n",
    "axs[0].set_title('ADC Histogram ')\n",
    "axs[0].set_xlabel('ADC Values [um^2/ms]')\n",
    "axs[1].set_title('Sigma Histogram')\n",
    "axs[1].set_xlabel('Sigma Values [arbitrary units]')\n",
    "axs[2].set_title('AXR Histogram')\n",
    "axs[2].set_xlabel('AXR Values [ms-1]');\n",
    "\n",
    "\n",
    "fig, axs = plt.subplots(1, 3,figsize=(15, 5))\n",
    "axs[0].hist(sim_E_vox.flatten(), bins=n_bins)\n",
    "axs[0].set_title('Signal Histogram ')\n",
    "axs[0].set_xlabel('Signal Values [units?]')\n",
    "axs[1].hist(sim_E_vox[sim_E_vox != 1].flatten(), bins=n_bins)\n",
    "axs[1].set_title('Signal Histogram with ones removed')\n",
    "axs[1].set_xlabel('Signal Values [units?]')\n",
    "axs[2].hist(sim_adc_prime.flatten(), bins=n_bins)\n",
    "axs[2].set_title('ADC prime Histogram')\n",
    "axs[2].set_xlabel('ADC prime Values [units?]');\n"
   ]
  },
  {
   "attachments": {},
   "cell_type": "markdown",
   "metadata": {},
   "source": [
    "### Plotting b-value against normalised signal"
   ]
  },
  {
   "cell_type": "code",
<<<<<<< Updated upstream
   "execution_count": 82,
=======
   "execution_count": 12,
>>>>>>> Stashed changes
   "metadata": {},
   "outputs": [
    {
     "data": {
<<<<<<< Updated upstream
      "image/png": "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",
=======
      "image/png": "iVBORw0KGgoAAAANSUhEUgAAAZsAAAEPCAYAAACUb2mtAAAAOXRFWHRTb2Z0d2FyZQBNYXRwbG90bGliIHZlcnNpb24zLjUuMywgaHR0cHM6Ly9tYXRwbG90bGliLm9yZy/NK7nSAAAACXBIWXMAAAsTAAALEwEAmpwYAABdLklEQVR4nO3dd3yN1x/A8c83EWLvvXcSKySxqVEqdlGlKGrWKEpbqrVKUbQoWqqK/rSpoqgaVZtaMWokRuy99x7f3x/3SRoacUlubsZ5v17nlfvs73HbnJzn+T7niKpiGIZhGI7k4uwADMMwjPjPNDaGYRiGw5nGxjAMw3A409gYhmEYDmcaG8MwDMPhTGNjGIZhOJxpbAzDMAyHM42NYRiG4XCJnreDiPgClYBswB1gD7BcVa84ODbDMAwjnnhmz0ZE2orIdqAfkBTYD5wHKgJ/icgMEckVM2EahmEYcVlkPZtkQAVVvRPRRhHxBgoCxx0Ql2EYhhGPiBkbzTAMw3C05yYIiMgXIpJKRNxEZIWIXBCRljERnGEYhhE/2JONVlNVrwN1gaNAAeADRwZlGIZhxC/PzUYLt08d4FdVvSYiDgzp5WTIkEHz5Mnz0sffunWL5MmTR19AcUBCq3NCqy+YOicUUanztm3bLqpqxmgO6T/saWwWicg+bGnP74pIRuCuY8N6cXny5CEwMPClj1+9ejVVqlSJvoDigIRW54RWXzB1TiiiUmcRORa90UTsubfRVLUvUB7wVdUHwC2ggaMDMwzDMOIPe3o2AB5AHhEJv/9MB8RjGIZhxEP2jCDwI5Af2Ak8slYrprExDMMw7GRPz8YX8FLzQo5hGIbxkuxJfd4DZHF0IIZhGEb8ZU9jkwEIEpFlIrIwtDzvIBGZJiLnRWTPM7aLiIwXkRAR2SUipcJtay0iB63S2v7qvLgelYcT4PILj6s+JsDlF3pUHu7IyxmGYSRI9txGG/SS554OTODZz3b8sY2tVhAoA3wDlBGRdMBAbLfvFNgmIgsdMcp0j8rD8V9XEnfcAciimfFfl5oelYczbm2/6L6cYRhGgmVP6vMaYB+Q0irB1rrnHbcWuBzJLg2AmWqzCUgjIlmB17BNYXDZamCWA7WeX5UXV259vrCGJpQ77pRbn88RlzMMw0iw7MlGawqMAlYDAnwtIh+o6pwoXjs7cCLc8klr3bPWRxRbR6AjQObMmVm9evULBZDpGS/NZtKMzFw8k5xJcxIbR0uILjdv3nzhf7O4LKHVF0ydE4q4UGd7bqP1B/xU9TyANYLAX0BUG5soU9UpwBQAX19ffdE3aAPkF7Jo5v+sv8xlWm9tTZ40efAv4E/tgrWpmqcqyRPHryEwEtqb1gmtvmDqnFDEhTrbkyDgEtrQWC7ZedzznAJyhlvOYa171vpot7HiYe4+NfKOoqQjHT0nDcDTpQgz/5lJvZ/rke6LdNT8sSZfbfyK/Rf3YzLBDcMw7GdPo7HUykRrIyJtgD+AxdFw7YXA21ZWWlngmqqeAZYBNUUkrYikBWpa66LduLX9WFJpB2flHI95zFk5x3yfzWxOc5oG56vy5nvNGLB/MstbLqebXzdOXj/J+3++j8dED/KPz0/XP7qy6MAibt2/5YjwDMMw4o3n3kZT1Q9EpDFQwVo1RVV/e95xIvIzUAXIICInsWWYuVnn/BZbg1UbCAFuA22tbZdF5DNgq3WqIaoaWaJBlIRmna1evZpmVd6kmbV+ZvdtJJmQDN+ZafhrXiAtl3VkTNcxHL16lCUHl7AkZAnT/5nOpMBJJHFNwit5XsG/gD/+BfwplL5QvH7WYxiG8aLsGhtNVecCc1/kxKra/DnbFej6jG3TgGkvcr3o9vbXPlzuW5wpZX7n1VO+7K+wk9nV/2TQHx151+9d3vV7l3sP77Hu+DqWHFzC4pDF9FrWi17LepEvbb6whqdq3qokc0vmzKoYhmE43TNvo4nIeuvnDRG5Hq7cEJHrMRei86TL7kbfk424OTwP913ceG1FMYal/IrFAWsBSJIoCa/me5Uxr40huGswR3ocYVLtSRTJWIQfdv5A3Z/rkm5kOmr9rxbjNo3jwKUD5lmPYRgJ0jMbG1WtaP1MqaqpwpWUqpoq5kJ0vvp989HkckMCvR5Q+YEvd5tfpHuxIVy6dOmJ/fKkycO7fu+ysPlCLn14iT9b/kkXvy4cu3aMnst6UnhCYQp8XYDui7uz+OBibj+47aQaGYZhxKznJghYoz4/d118lyy1C3321sB9ujdXErnSeE9lvs30PZOH/Rxhb8U9kTs18tfgy9e+JLhrMIffO8zE2hPxyujFtJ3TqPNTHdJ/kZ5a/6vF+M3jOXjpoBNqZRiGETPsyUYrEn7BmtPGxzHhxH4VW2eg1fV67K6QFN/HJcn+SUo65viAAwcibyzyps1LF78u/N78dy59eIllLZfR2aczR68epcfSHhSaUIgC402vxzCM+CmyZzb9ROQGUDz88xrgHLAgxiKMhRIndaH7+jJkXVyOk+5Ci9N1WVR4EQM6jOb+/fvPPd49kTs189fkq1pfsa/bPg69d4gJ/hPwyODB9zu+D+v1+M/yZ/zm8YRcDomBWhmGYThOZM9shqtqSmDUU89r0quqGaUSKO6fgg43ahPSIBOF8aL81KJ0zvA+a1ate6Hz5Eubj66lu7LorUVc/ugyy1ouo5NPJw5fOUyPpT0o+HVBCn5dkPeWvMeSg0u48+COg2pkGIbhGPa8Z9PPermyIPw7aqU10GaC55pIaD/fi0Ob8rH0tfW8fb0JQdX28HPNhQwP+Ji0adO+0PlCez0189dkLGM5fOVwWGr11O1T+XrL17gncqdqnqq29OqC/hRIV8BBtTMMw4ge9gzE2R7ogW3YmJ1AWWAjUM2hkcUx+cu68+6V6vzS6QRZp96jwJ8F+CjzJ1SaXJGWbZq99Eueob2erqW7cufBHdYeW8uSkCUsPriY95a+B0uhQLoC1C5QG/+C/ryS+xWSuiWN5toZhmFEjT0JAj0AP+CYqlYFSgJXHRlUXOXiIjT/Lhe+e6qyL0sy3nrwBg/fucubxd7h0KFDUT5/UrekvFbgNcbWGsuB7gcI6R7C1/5fUyh9Ib7b/h3+s/xJ/0V6as+qzYQtEzh0OerXNAzDiA72jCBwV1XviggikkRV94lIYYdHFoflKJKY7mcqsKDfBVKMfEDnva34quA4svbPzgef9iJx4sTRcp386fLTrXQ3upXuxp0Hd1hzbE3YUDrdl3QHoGC6gtQuWBv/Av68kucV3BO5P+eshmEY0c+ens1JEUkDzAeWi8gC4Jgjg4ovGgzPSNUjVQnKn5Ym2oi8Q3PSKE9z/v7772i/VlK3pNQqUItx/uM40P0AB7sfZHyt8RRIV4DJ2yZTa1Yt0o1MR52f6jBhywQOXzkc7TEYhmE8iz0JAq9bHweJyCogNbDUoVHFIxlyJ6JbSEmWj7kKHz2mz5nu/FbhN2a2+JnhXw954QQCexVIV4DuZbrTvUx37jy4w+qjq1kSsiTseU/3Jd3JmTQnje42Mr0ewzAczp4RBPKLSJLQRSAPYEaWfEE1eqeh7plXCCqZhVr48+qsV2iesxUBAQEOHy8tqVtS/Av6M95/PAe7H+RAtwOMqzWOrO5Zn+j11P2pLhO3TDS9HsMwop09t9HmAo9EpAC2WTFzAj85NKp4KlVGV7ps9yDJND9uJc5E31t92Nd8Hw0rN+HIkSMxFkfB9AV5r8x7jCw+kksfXmLxW4tpV7Id+y7uo9uSbuQfnx+PCR70WtqLPw/9yd2Hd59/UsMwjEjYkyDwWFUfisjrwNeq+rWI7HB0YPFZxbYpKdWkIrPqHaf8msqUWu9Dt4LdqfRZJXr3eR83N7cYiyWZWzL8C9re1wE4eOlg2K22bwK/YezmsSRzS0a1vNXCpk3ImzZvjMVnGEb8YE9j80BEmgOtgXrWupj7bRhPJUvpQofVedj2W0Z2ttzNB7f7sOXjLVSd9iqjZo6gXLlyTomrYPqCYT2f2w9u2571WC+VLjqwCIDC6QuHZbhVzl2ZJImSPOeshmEkdPY0Nm2BzsAwVT0iInmBBDfqs6P4vJ6c4lfKMKvpaYouUIqFFGdU+VFk7pSF4SM+J02aNE6LLZlbMmoXrE3tgrUZr+M5ePlgWGr1pK2T+GrTV2G9ntCXSvOkyeO0eA3DiL3syUYLAt4Lt3wEGOnIoBIat8RCm/nZCVqVnnWNgnjv6nvsnrybKrOr8/G3H/HGG284fZppEaFQ+kIUSl+IHmV7cPvBbVYdWRWW4Rba6/HI4IF/AX9qF6xNpVyVTK/HMAwgksZGRGaralMR2Q38J11KVYs7NLIEyKuqO4UvliSg3Tlyz4Avroxk5pvTmTntRyZ8+zV58uRxdohhkrklo06hOtQpVAdV5cClA2ENT2ivJ7lb8n+f9Zhej2EkaJH1bHpYP+vGRCCGjaur0GJ6Fg53T8eyugdof7Y9IcsOU69wfd4e2oqePXvGaAKBPUSEwhkKUzhDYXqW7cmt+7dYfXQ1iw8uZknIEn4/8DsAnhk8wxoe0+sxjIQlsikGzlgfu6jqsfAF6BIz4SVc+XwS0/l0US72KEI6KcjY+2MJ+TCEsiXLsXnzZmeHF6nkiZNTp1AdJtaZyKH3DrGv6z6+eu0rcqTKwYStE6jxYw3Sf5GeBgEN+DbwW45dNQNSGEZ8Z0+CQA3go6fW+UewzohmItBkbEbOdE3Db7UO0/xwcyrtrUKnsp2o2LUiw4YNI3Xq1M4OM1IR9XpWHV0VluG2cP9CALwyeoWlVlfMVdH0egwjnolsps53rec1hUVkV7hyBNgdcyEaWQu60eVQYW4OLoGba27GMha3iYkpWagUc+bMcfgIBNEpeeLk1C1Ul4l1JnL4vcMEdw3my5pfkj1ldr7e8jWv/vhqWK9ncuBkjl877uyQDcOIBpH1bH4ClgDDgb7h1t9Q1cv2nFxEagHjAFdgqqqOeGp7bmAakBG4DLRU1ZPWtkf826gdV9X69lwzPqs7IC2X25choNYR6u6uT/nzlRjzxhdMrzOdiRMnkjt3bmeH+EJEBI8MHnhk8KBXuV7cvH/ziQy3p3s9tQvWpmKuiiR2jZ5Rsw3DiDmRPbO5pqpHVbU5tiFqqlnPa1ysd20iJSKuwERst9y8gOYi4vXUbqOBmVZm2xBsDVuoO6rqbZUE39CESpfNlS67CsCEUtxzy85whlNysQ9lPcsyZswYHj586OwQX1qKxCmoV7gek+pM4vB7hwnqEsSYmmPIljIbX2/5muozq5P+i/Q0DGhoej2GEcfYMxDnQGzPZ/pZqxID/7Pj3KWBEFU9rKr3gQCgwVP7eAErrc+rIthuPEP1rqlocM6XfeXyUFmr8u2d71ncZzF+vn5s2bLF2eFFmYjgmdGT98u9z/JWy7n04SUWNFtAy2It2Xl2J53/6EzusbkpOqkoH/z5ASuPrOT+o/vODtswjGeQ593vF5Gd2Gbn3K6qJa11u573no2INAFqqWp7a7kVUEZVu4Xb5ydgs6qOE5FG2Ab9zKCql0TkIbZpqB8CI1R1fgTX6Ah0BMicObNPQECAXZWOyM2bN0mRIsVLH+9Mh/5Kjo6CAvdvscllG18+HknF1yvSrl07kidP/szj4mqdVZXjt4+z+fJmNl/ezK5ru3ioD0nqmhSfND6UTleaMunKkMk90xPHxdX6RoWpc8IQlTpXrVp1m6r6RnNI/6WqkRZgi/Vzu/UzObDLjuOaYHtOE7rcCpjw1D7ZgHnADmzPdk4Caaxt2a2f+YCjQP7Irufj46NRsWrVqigd72x3bj3WKTWP62LW6B/8qfWpr9mzZte5c+fq48ePIzwmrtc51I17N3TBvgXa+ffOmuurXMoglEFo0UlF9YM/P9CVh1fqvYf34k19X4Spc8IQlToDgfqc3+fRUexJfZ4tIpOBNCLSAXgH+M6O405he9YTKoe1LnxDdxpoBCAiKYDGqnrV2nbK+nlYRFZj610dsuO6CZJ7MqHDspzsWJyBrc0O0OtGL/acD+G9xu8xvd50JkyYQK5cuZwdpkOkSJyC+oXrU79wfVSV4IvBYanVYzeNZdTfo0iZOCXeqbxplbIV/gX9yZEqh7PDNowE5bnPbFR1NDAH2y2uwsAAVf3ajnNvBQqKSF4RSQw0AxaG30FEMohIaAz9sGWmISJpQydsE5EMQAUgyL4qJWwlayel7aXiHG1amNyPCvM9M0m1OA1FPYvy1VdfxekEAnuICF4Zvehdvjcr3l7BpQ8vMf/N+bxV7C3239hPx0UdyflVTop9U4yPln/E6qOrefDogbPDNox4z57J01DV5ar6gar2UdXldh7zEOgGLAOCgdmquldEhohIaHZZFWC/iBwAMgPDrPWeQKCI/IMtcWCE2gYENezg5ia0+SUrhTaU5nCGTLR/9A5f3ZvCxPcnUqZMGbZt2+bsEGNMyiQpaeDRgG/rfktAmQD2vLuHUTVGkSl5Jr7a9BVVZ1Ql/RfpafRLI6Zun8rJ6yedHbJhxEvPvY1mPbgfCWTCNi20AKqqqZ53rKouBhY/tW5AuM9zsPWanj7ub6DY885vRK5w+SQUPFeUgC4XSDfFjW/5jrl75lPBrwKd3+tMzZo1nR1ijBIRimQqQpFMRehTvg837t1gxZEVYdMm/LbvNwCKZSoWNoZbhZwVcHONXWPRGUZcZE/P5gugvqqmVtVUqprSnobGiB1cXOCtbzNS6p/S7MuRhTfvv873LrNZMW4Fbdq0YcGCBc4O0WlSJklJQ4+GTK43mWM9j7H73d188eoXZEiWgS83fUnVGVXJMCoDjWc3Zur2qZy6fur5JzUMI0L2JAicU9Vgh0diOFTuYm50Pe7JvH6ZcRu1n3F8zZLrq2jWsBm1GtZi/Pjx5MyZ8/kniqdEhKKZilI0U1E+qPAB1+9dZ8XhFWGjGcwLngdA8czFw8ZwK5+zvOn1GIad7OnZBIrILyLSXEQahRaHR2ZEOxFoPCIdlUP8CCqUHf97VZnpMp/zf1zAy8uLcePG8ejRI2eHGSukSpKK1z1fZ0q9KRzveTys15MuaTrGbBxDlRlVyDAqA01mN+H77d+bXo9hPIc9PZtUwG0g/A1+xfZ+jBEHZcmbiG77C/J1pxukm/aQYQ+Gsj7xbj7t2Z8ff/yRKVOmUKpUKWeHGWtE1utZfHAxc4PnArZeT+j02OVylDO9HsMIx55podvGRCBGzCvW/DolhlTip9rHKbtdmOkyn+/2j8PP148ePXswZMiQBPcmtj1Cez2ve76OqrLn/J6whmf0xtGM2DCCVElSUSNfDWoXrE2tArXIljKbs8M2DKeyJxttfASrr2F76zThPl2OJ9JmdqXrtrysmpqRq9328cHNXtRI+QZDv+rJnDlzmDBhAvXrm3FQn0VEKJa5GMUyF+PDCh9y/d51/jr8V1iGW2ivp0TmEtQuWBv/Av6Uy1mORC723FQwjPjDnmc27oA3cNAqxbGNBtBORMY6LDIjRlVtn4I3zpciuHI+PG/kYobM4ZXbr9GgQQMaN27MqVPmmYQ9UiVJRSPPRnxX/ztO9DrBP53/YUT1EaRxT8Oov0dReXplMnyRgTd+fYNpO6Zx+sZpZ4dsGDHCnj+vigMVVPURgIh8A6wDKmImUYtXkqdy4d01udg8NwO7Wu+n3aUWVExRl5F/9MJzuSfDhg2jS5cuuLq6OjvUOEFEKJ65OMUzF+ejih9x7e41W6/HynCbE2R7xcw7i3dYhpvp9RjxlT09m7RA+Bv3yYF0VuNzzyFRGU5VpnEy3r7ozcG6hchxMx2T7v1A2xQ96PleT8qVK8fOnTudHWKclNo9NY29GjO1/lRO9jrJzk47GV59OKmSpOKLDV9QeXplMo7KSNNfm/LDjh84c+OMs0M2jGhjz59QXwA7rcEwBagMfC4iyYG/HBib4URJ3IUOv2dj14p0bGhykNfPVKdUskqMD/kYX19fevbsyaBBg0wCwUsSEUpkKUGJLCXoW7FvWK9n8cHFLAlZwq9BvwJQMkvJsNEMyuYoa3o9Rpxlz0Cc3wPlgfnAb0BFVZ2qqrdU9QMHx2c4WfHq7nS4UJQjrTxJczs5I66M4ePsXzFuzDiKFCnCokWLnB1ivBDa6/m+wfecev9UWK8nReIUjNwwkko/VCLjqIy8OedNpu+cztmbZ50dsmG8EHv/TLoLnMGWLFBARAqo6lrHhWXEJokSCW1nZubge2lZWjeEaseL4eG+nOk6inr16tGkSRPGjRtHtmwmvTc6PN3ruXr36hMZbrP3zgZsvZ7QDLcyOcqYXo8Rq9kzLXR7YC220ZsHWz8HOTYsIzYq6JuYbme8ON29GInvJeGjEx/wRZ5ZLP99OR4eHkycONGMQOAAadzT0MSrSVivZ0enHXxe7XNSJE7BiPUjqPhDxbBez4ydMzh385yzQzaM/7AnQaAH4AccU9Wq2CYxu+rIoIzYSwTeGp+e0kF+7MmTDb+j2fju8e/Uy/Em3bp1o3z58vzzzz/ODjPeEhG8s3jTr1I/1rZdy8UPLzK7yWxe93idtcfW0mZBG7KMyYLPFB8+WfkJe67t4dFj8weA4Xz2NDZ3VfUugIgkUdV92CZRMxKwXB6JeO9wIa4M9ObB48R0CG7B17kXcf7weXx8fPjwww+5deuWs8OM99K4p+GNIm8wrcE0Tr9/mu0dtzOs2jCSuSVjxPoRdN/ZnYyjMtJsTjPT6zGcyp6bvCdFJA22BIHlInIFOObIoIy4QQReH5SGC+19+anWUYruPcFXrj+y1mcFo0YNYvbs2UyaNInatWs7O9QEQUQombUkJbOW5ONKH3PlzhXGLRrHscTHWBqylF/2/gKAT1afsAy3MtnL4Opi3psyHM+ebLTXVfWqqg4CPgW+Bxo6OC4jDsmYw5Uee/Jzf6wP11ySUH/LK3yXczWZ3LJQp04dmjZtypkz5p2RmJY2aVqqZKzCDw1+4NT7p9jecTtDqw7FPZE7n6//nArTKpBxVEaaz23OzH9mcv7WeWeHbMRjdqWviEhaICdwwypFge0OjMuIg/x7pORaSx9m1j5B4S1HGeAymp2Vghi64D2WLVvGiBEj6NSpEy4uds1GbkQjF3EJ6/X0r9yfK3eusPzwcttoBgeXELAnAADfbL5hoxmUzl7a9HqMaGNPNtpnwC7ga2CMVUY7OC4jjkqd3oXum3OTZKYvZxMno+K6QkxOt4oqnq/SpUsXKlSowK5du5wdZoKXNmlamhZpyg8NfuB079Ns67iNoVWHktg1McPWDaP8tPJkGp2J5nOb8+M/P5pejxFl9vRsmgL5VfW+o4Mx4o9XWiXHr1FJpjc8Rd6/DtP5XE+qV23J0F2d8PHxoXfv3gwYMIBkyZI5O9QEz0VcKJW1FKWylqJ/5f5cvnOZ5YeWh43hFrAnAEHwyWZ71lO7YG38svmZXo/xQuy5n7EHSOPgOIx4KFlyocvyHGT4vTRHU6Si+Kq0fKWL6PBad0aOHEmRIkVYunSps8M0npIuaTreLPom0xtO50zvMwR2CGRI1SFhvZ5y35cj8+jMvDX3Lf63639cuHXB2SEbcYA9PZvhwA4R2UO4gTdV1UxyYtjFr647JS4WZ/pb58gyN4TX/2hAyVcaMPZsF/z9/XnzzTcZO3YsWbJkcXaoxlNcxAWfbD74ZPPhk8qfcPnOZf489CdLQpawNGQpP+/5GUH+fdZT0N/0eowI2dOzmQGMBEbw7zObMfacXERqich+EQkRkb4RbM8tIitEZJeIrBaRHOG2tRaRg1ZpbV91jNgqcWKh45ws5FtbmuD0GSi4Rhlw+gcGtxjD/Pnz8fDwYPLkyTx+/NjZoRqRSJc0Hc2KNmNGwxlhvZ7BVQaTyCURQ9cNDev1tJjXwvR6jCfY07O5raoRzdYZKRFxBSYCNYCTwFYRWaiqQeF2Gw3MVNUZIlINWy+qlYikAwYCvoAC26xjr7xoHEbsUrRSYjzPFeHHThdIOe0gFWaVYnL59fzk1p/OnTszY8YMpkyZQtGiRZ0dqvEc4Xs9n77yKZduX3qi1/PT7p8QBL/sfmEZbr7ZfE2vJ4Gyp2ezTkSGi0g5ESkVWuw4rjQQoqqHreSCAKDBU/t4ASutz6vCbX8NWK6ql60GZjlQy45rGnGAqyu0mZoR7x1+7Mqeldx/36TD5iFM6hTAgQMHKFmyJP369eP27dvODtV4AemTpad5sebMfH0mZ/ucZWuHrQyuMhgXcWHImiGU/b4smUdnpuW8lszaNYuLty86O2QjBomqRr6DyKoIVquqVnvOcU2AWqra3lpuBZRR1W7h9vkJ2Kyq40SkETAXyAC0BdxVdai136fAHVUd/dQ1OgIdATJnzuwTEBAQaV0ic/PmzQQ3N0tsqLMqbJ2clpyz75BV7xJcKBFLco7m9xULyJYtGz169KB06dLRcq3YUN+YFlvqfO3BNQKvBLL58ma2Xt7K1QdXEYTCKQtTNl1ZSqcrTeGUhXGRqL+DFVvqHJOiUueqVatuU1XfaA7pv1TVIQVoAkwNt9wKmPDUPtmAecAOYBy2221pgD7AJ+H2+xToE9n1fHx8NCpWrVoVpePjothU55MhD3VMgYP6F6v0N7e/dVb3VVq4cGEFtHnz5nr27NkoXyM21TemxMY6P3r8SLec3KKDVw/WslPLqgwSZRCa4YsM2mJuC521a5ZeuHXhpc8fG+vsaFGpMxCoDmoHwhdHvsp9CtuoA6FyWOvCqOppVW2kqiWB/ta6q/Yca8Qv2fO78v7BAtz8vBQ3HruS7WsY4DqHwb2GMXfuXDw8PPjuu+9MAkE84CIu+GX3Y8ArA9jYbiPnPzjPrEazqFWgFssOLaPFvBZkGpWJslPLMnj1YLac2sJjNd97XOfIxmYrUFBE8opIYqAZsDD8DiKSQSSs39wPmGZ9XgbUFJG01lA5Na11RjzXoF8q/E/6sqNEHjIGXaLk+FcI6LgZ7xLedOzYkcqVK7N3715nh2lEowzJMvBWsbf48fUfOdfnHJvbb2bgKwMBGLxmMGWmliHL6Cy0+q0VP+3+iUu3Lzk5YuNlOKyxUdWHQDdsjUQwMFtV94rIEBEJfUenCrBfRA4AmYFh1rGXgc+wNVhbgSHWOiMByJDFhV4786Df+nLO1Z20E67S8dg4pg7/kX379uHt7U3//v25c+eOs0M1opmLuFA6e2kGVhnIpvabOP/Bef73+v+omb8mS0OW2no9ozNR7vtyDFkzhK2ntppeTxzx3NRnEUkG9AZyqWoHESkIFFbV504+r6qLgcVPrRsQ7vMcYM4zjp3Gvz0dIwGq2Sk5198sxQ/1TlJo/RHSfJybH9r/zdx7n/P555/zyy+/8M0331CjRg1nh2o4SIZkGWhRvAUtirfg0eNHbDuzjcUHF7MkZAmDVg9i4OqBZEyWkVoFauFfwJ+a+Ws6O2TjGezp2fyAbeSActbyKWCowyIyjHBSpRF6rMtJil/8OJo0JSm/O02tZT34/ZuVuLi4ULNmTVq2bMn582agyPjO1cWV0tlLM6jKIDa338y5Puf43+v/o0b+Giw+uJi35r1FptGZ6Lq9K5+t+YzA04Gm1xOL2NPY5FfVL4AHAKp6GxCHRmUYT6nUNCltLpZgb+3CpDh3k8TvujLabykDPxnI7Nmz8fDwYOrUqSaBIAHJmDwjLYq3YFajWZzrc45N7TbxaeVPecxjBq4eiN93fmQdk5XW81sTsCeAy3fMnXhnsqexuS8iSbG9yY+I5CfcGGmGEVOSJhW6/pGVrMtKsy91OlL9dByvCXX5a/I2ihUrRocOHahSpQpBQUHPP5kRr7i6uFImRxkGVRnEN6W+4Vyfc/z4+o+8mu9V/jjwB83nNifjqIyU/748Q9cOZdvpbabXE8PsaWwGAkuBnCIyC1gBfOjQqAwjEj41k9D5fBH2N/fC7eo97r9zmZ6pfuD7b6exd+9evL29+fTTT7l7966zQzWcJGPyjLQs3jKs17Ox3UY+qfQJDx8/5NNVn+L7na/p9cSw5yYIqOpyEdkOlMV2+6yHqppxJgynSpxY6PRTJoK6p2VpwxBKLTrOo1VFWDJ+OxNWf8rQoUMJCAjg22+/pXr16s4O13AiVxdXyuYoS9kcZRlcdTDnb51nWcgyloQsYdGBRcz8ZyYu4kLZHGXDxnArmbVktIxmYPzL3n9Nd+AKcB3wEpHKjgvJMOznVc6Nnmc8OdqlOI9vP+JmuyPUP/4pfy74C4BXX32Vt99+mwsXzOjDhk2m5JloVaIVPzX+ifN9zvP3O3/Tv1J/7j+6H9bryTYmG23mt+GXPb9w5Y4Z/zc62JP6PBJ4E9gLhN7kVGCtA+MyDLu5uECbiek40sWPubWPUGrNKa5tSsbPX61jwemJjBw5kj/++IN27drxyiuvIGLyWwwbVxdXyuUsR7mc5RhSdUhYr2dxyGIW7l/IjH9m4CIulMtRLmy+Hu8s3nG213PixAnefvttzp07h4jQsWNHAKyR9n8B8gBHgaYawSj71nQvn1iLQ1V1hr3XtudfrCG292rqqGo9q5iJ04xYJ2+RRPQ+WpDz/Uty64ErN7vso9jiFmz+azteXl6MGjWKKlWqsG/fPmeHasRSob2enxv/zIUPLvD3O3/zccWPufvwLp+s+gSfKT5kG5ONtgvaMnvv7DjX60mUKBFjxowhKCiITZs2MXHiRLDdueoLrFDVgtiey0c0/1jo1C9lsI3qP9Aa4cUu9jQ2hwE3e09oGM4kAs2Gpqb6YR8CPXKRbvs5TlS/xqh6c+jTpw+7du2iePHiDBw40CQQGJEK7fV8Vu0zAjsGcrb3WWY0nEGVPFVYsG8Bb855k4yjMlJxWkU+X/c5O87sCB04ONbKmjUrpUrZZohJmTIlnp6eAImxTe8S2kuZga2T8bQoTf3yzMZGRL4WkfHAbWCniEwWkfGhxd4LGIYzZM3tSp/gfNwaXYqLJOHuR8F4BbzB1mW7adq0KUOGDKFEiRKsWhXRDBqG8V+ZU2Tm7RJvE9AkgPMfnGfDOxvoV7Efdx/epf/K/pSaUopsX9p6Pb/u/ZWrd686O+RIHT16lB07dgDcBDKr6hlr01lsw4c9LTtwItzySWudXSLr2QQC27ANnvkZ8Le1vM3aZhixXoPeKWl4uhTb/PKR7eRd9pc7Sseco/hz2Z88evSIatWq0aZNGy5eNAmWhv0SuSSifM7yYb2eM73PML3BdF7J/Qrz982n6ZymZPgiA5V+qMTn6z5n59mdsarXc/PmTRo3bszYsWPh32fxgG2yMqz3KqPTMxsbVZ1hPfxJE/o53Dq779MZhrOly+hC7y25OPhRCk64JefxiP1cbpeJ1T9t5eOPP2bWrFl4eHgwffr0WPULwYg7sqTIQmvv1gQ0CeDCBxdY33Y9fSv25faD2/Rf2Z+Sk0uS/cvsvLPgHaf3eh48eEDjxo1p0aIFjRo1Cl19TkSyAlg/Ixr/KUpTv9jzzKZ1BOva2HsBw4gtita6Tovz3uysVogUJ6+zt+xuqlzszI5tOyhcuDBt27alWrVq7N+/39mhGnFYIpdEVMhVgaHVhrKt4zbO9D7DDw1+oFLuSvy277ewXk/lHyozfN3wGO31qCrt2rXD09OT999/P/ymhfz7u741sCCCw6M09Utkz2yai8jvQF4RWRiurALM67ZGnJQyldBzRTbSzvfjQPI0uE05RFD1ewSMWMrkyZPZuXMnxYsXZ/Dgwdy7Z0ZlMqIuS4ostPFuwy9Nfgnr9XxU4SNu3r/Jxys/Duv1tFvQjjlBc7h295rDYtmwYQM//vgjK1euxNvbG29vb4DUwAighogcBF61lhERXxGZClGf+iWy92z+Bs4AGYAx4dbfAHbZewHDiI3KN3Cn1IViTG1+nhzzQ9hfeTvZm9Zk78569OnXm0GDBvHzzz/z7bffUqVKFWeHa8QTob2eCrkqMKz6MM7cOMOyQ8tYfHAxc4PnMm3nNFzFlQq5KoSNZlA8c/FoezesYsWK/+lFicg1Vb0E/GeoDVUNBNqHW37pqV8ie2ZzTFVXq2o5VV0Trmy3JkYzjDjN3V3o9ltmcq/0Y1e6jCSffZS/i59kaMtvWbp0Kffv36dq1aq88847XLpkZoc0ol/WlFlp492G2W/M5uKHF1nXdh0fVfiI6/eu029FP7wne5Pjqxy0X9ieuUFz/9PrmbV7FnnG5qHammrkGZuHWbtnOakmz/fcEQQMI74rWTUxxc55Ma1DJtJNP8CROtu5UzM/Ozf/w/AvP2f06NH8/vvvjBkzhlatWpkRCAyHSOSSiIq5KlIxV8WwXs/SkKUsCVnCnKA5fL/j+7AsOP8C/ijK0LVDuf3gNgDHrh2j4++2EQFaFGvhzKpEKG6OuWAY0SxRIuj4QwaKBpZme9ZspPnzJCty76VV0Q/Zvn07BQsWpHXr1rz66qscPHjQ2eEaCUDWlFlpW7JtWK9nbZu1fFD+g7Bez8crPg5raELdfnCb/iv6OyniyEWWILDC+jky5sIxDOfy8ElE75OFONbLmzt3hfMt/+FAx8SsWLCab775hm3bbHPnfPbZZyaBwIgxiVwSUSl3JT6v/jk7Ou3g1PvPzjg+fu14DEZmv8h6NllFpDxQX0RKikip8CWmAjSMmObiAq2/TEOF/b5szpuTNJvO8Gf2QMo8bEJwcDANGzZkwIABlCxZknXr1jk7XCMBypYyG7lT545wW67UuWI4GvtE1tgMAD7F9uLOl9gy0kLLaMeHZhjOlbugKx8eys+lIaW48tiNa933sL7mZaaOnsnixYu5c+cOlStXpn379ly+bN4GMGLWsOrDSOaW7Il1ydySMaz6MCdFFLnIstHmqKo/8IWqVn2qVIvBGA3DaUSg6aep8D/mw5ZieUm95yJr8mwhzdaS7Nmzhw8//JDp06fj4eHBrFmzzAgERoxpUawFU+pNIXfq3AhC7tS5mVJvSqxMDgA7EgRU9TMRqS8io61SNyYCM4zYJHN2Fz7clZv7E3w55ZKMewP38UexQ/RrN5jt27eTL18+WrZsSc2aNQkJCXF2uEYC0aJYC472PMrKV1ZytOfRWNvQgB2NjYgMB3oAQVbpISKf23NyEaklIvtFJEREIpofIZeIrBKRHSKyS0RqW+vziMgdEdlplW9frFqG4Rh1uybnjbMlCSxfgJRHrrLJYyuXp6Vn/br1TJo0iS1btlC0aFGGDRvG/fv3nR2uYcQa9qQ+1wFqqOo06+3RWsBzezci4gpMBPwBL6C5iHg9tdsnwGxVLQk0AyaF23ZIVb2t0tmOOA0jRqRNJ/TZkIMkP5XmoHsqGHeQ33LtpnHp1gQHB1O/fn0++eQTSpYsyfr1650drmHECva+Z5Mm3OfUdh5TGghR1cOqeh8IwDZBT3gKpAp33tN2ntswnK5ac3fani/OjloeJDl7i52+W9nT7wEBswJYtGgRt27dolKlSnTs2JErV+LWjI6GEd3keQ80RaQ5tkHZVgECVAb6quovzzmuCVBLVdtby62AMqraLdw+WYE/sU1ZkBx4VVW3iUgeYC9wALgOfKKq/8kxFZGOQEeAzJkz+wQEBNhT5wjdvHmTFClSvPTxcVFCq7Mj67t/U3KufZaY0revcDZFEpIPfkQizxvMmDGDX3/9ldSpU9O1a1eqVasWoyMQJLTvGEydX1TVqlW3qapvNIf0X6r63AJkBepbJYudxzQBpoZbbgVMeGqf94He1udy2J4JuQBJgPTWeh9ss8Oliux6Pj4+GhWrVq2K0vFxUUKrs6Pre/eu6tdNz+scNuhfrNLf6x/SB7ce6o4dO7R06dIKaM2aNTUkJMShcYSX0L5jVVPnFwUEqh2/06Na7LqNpqpnVHWhVc7a2Y7ZM9FOO2C2dY2NgDuQQVXvqW0UUlR1G3AIKGTndQ3DKZIkgW6/ZKTAej+2ZchCioXHWZgpkBSH8/D3338zYcIENm7cSNGiRRk+fLhJIDASFEeOjbYVKCgieUUkMbYEgIVP7XMca1hrEfHE1thcEJGMVoIBIpIPKAgcdmCshhFtSlRwo/dZDw50KsG928rJxjv5vfohOrbsRHBwMHXq1OHjjz/Gx8eHv//+29nhGkaMcFhjo7ZpCLphm8ktGFvW2V4RGSIi9a3degMdROQf4GegjdWtqwzsEpGdwBygs77AJD2G4WyurtDx27T47PRjY44cpFxzmsWZt3JlqTtz5sxh4cKFXL9+nQoVKtC5c2eTQGDEe3Y1NtY0oMVfdGw0VV2sqoVUNb+qDrPWDVDVhdbnIFWtoKol1Jbi/Ke1fq6qFrHWlVLV31+2gobhTIWKu/LRsQKc6luKaw9cudh+N/N8gqhR+jX27t1L7969+e677/D09CQgIMCMQGDEW/a81PkZtpk5x2PGRjOMF+biAm8PT0XVA778XTA3Kbdf4K8cW9n/zS1GjRpFYGAgOXPmpHnz5tSuXZsjR444O2TDiHb29GyaAvlVtYqasdEM46XlzO9Cv/15uTbSh7O4c+PDYOZ67KFAak82bdrE+PHjWb9+PUWKFGHkyJE8ePDA2SEbRrSxp7HZw5MvdRqG8ZJEoMmHKWhwshSbSuYnxYErrC+4lc2fnKNb124EBwdTq1Yt+vbti4+PDxs3bnR2yIYRLexpbIYDO0RkmYgsDC2ODsww4rOMmYW+23PyaIofh91Scn/EAebm+YdkV9Ixb9485s+fz5UrV6hQoQJdunTh6tWrzg7ZMKLEnsZmBjAS2ygC4ee0MQwjiup0SEqLsyXY8kph3E/cILBEIKs6H6denXoEBQXRs2dPJk+ejKenJ7NnzzYJBEacZU9jc1tVx6vqKlVdE1ocHplhJBBp0ggfrs5Kil9LszdpWmTyYX7LuoNbu4Qvv/ySLVu2kC1bNt58803q1q3L0aNHnR2yYbwwexqbdSIyXETKmWmhDcNxqjRJQsfzRdle3wuXi3fZU3Eby5odoWTRkmzevJmxY8eydu1avLy8GDVqlEkgMOIUexqbkkBZ4HNM6rNhOFTy5ML7CzKRY3lptqXJRJJfjrEgUyCn/rxFjx49CAoKombNmnz44Yf4+vqyefNmZ4dsGHaxZ6bOp6eENqnPhuFgfq+60eucJ3taFeP+9UccqrODRf4HyZomK/Pnz+e3337j0qVLlCtXjm7dunHt2jVnh2wYkbLnpc4BEZWYCM4wErLEiaHbzPR4bfZjU+bsJFt6ij8yb2X/rMs0bNiQ4OBg3nvvPb755hs8PT2ZM2eOSSAwYi17bqPdClceYZt5M48DYzIMI5xipRPx0amCHOpekut3XTjTchfzy+8j8T13xo4dy+bNm8mSJQtvvPEG9erV49ixY84O2TD+w57baGPClWFAFSCfwyMzDCOMqyt0GJ+a8nt9WZ8nFyk3nmV5ti3smnABX19ftmzZwpdffsnq1avx8vJizJgxPHz40NlhG0aYlxn1ORm2uWkMw4hh+T1d6X84H2cG+nDuURIud9/LvGJ7uH/mEb169SIoKIjq1avTp08f/Pz8CA4OdnbIhgHY98xmt4jssspeYD8w1uGRGYYRIRFoOSgltY6UYp1XPpLvuczqvFvZOuQMOXPmZMGCBcydO5fz58/TtWtX3nvvPa5fv+7ssI0Ezp6eTV2gnlVqAtlUdYJDozIM47my53Lhkz25uDXWl6Muybk1cD+/5d/F9f13adSoEcHBwTRs2JAJEybg6enJvHnzTAKB4TT2NDaJgLOqegzbjJldRCSNQ6MyDMMuItCoRzKanvJmQ5mCJDlynU1eW1nf6yQpk6fkvffeY9OmTWTKlInGjRvToEEDjh8/7uywjQTInsZmLvBIRAoAU4CcwE8OjcowjBeSIaPQf1N2XGf4EZwkDQ/HhvBbjh3c3S+ULl2arVu3Mnr0aFasWIGXlxdfffWVSSAwYpQ9jc1ja4rnRsDXqvoBkNWxYRmG8TJqve1O27PF2PSqJ65nb5OoM6xofRSXxy707t2boKAgqlSpwvvvv0/p0qUJDAx0dshGAmFPY/NARJoDbwOLrHVujgvJMIyoSJ1a6Ls8M2kXlmZL0rS4zjzKgizbOL3yOrlz5+b3339nzpw5nD17ljJlytCjRw9u3Ljh7LCNeM6exqYtUA4YpqpHRCQv8KNjwzIMI6oq10uMz29X2d64KA+vPGBf9e0sbRjC4zuPady4McHBwbz77rt8/fXXeHp6Mn/+fGeHbMRj9rzUGaSq76nqz9byEVUd6fjQDMOIqiRJHvP+nAzkXV2ajemz4r7gJIsybeXw3CukTp2aCRMmsHHjRtKnT8/rr79Ow4YNOXHihLPDNuKhZzY2IvK7iNQTkf/cMhORfCIyRETecWx4hmFEB99XEvHhmcLsaVeCm7eE403+YVG1/Ty4+pAyZcoQGBjIF198wZ9//omXlxfjxo3j0aNHzg7biEci69l0ACoB+0Rkq4gsFpGVInIYmAxsU9VpkZ1cRGqJyH4RCRGRvhFszyUiq0Rkh/XSaO1w2/pZx+0Xkddesn6GYVjc3KDb1LSU3ObL2mw5SbrqDEuzbCH4+4u4ubnxwQcfEBQURKVKlejZsydlypRh27Ztzg7biCee2dio6llV/VBV8wNvAJ8B7wNFVbWGqi6I7MQi4gpMxDZwpxfQXES8ntrtE2C2qpYEmgGTrGO9rOUiQC1gknU+wzCiyKuUK5+cyM+RPqW4+MCNc+33sMBnL3fP3idPnjz88ccfzJ49m1OnTlG6dGl69erFzZs3nR22EcfZNTaaqh5V1Y2qulNVb9t57tJAiKoeVtX7QADQ4OlTA6msz6mB09bnBkCAqt5T1SNAiHU+wzCigYsLtB+Viir7fFidPy9Jt19kZc4t7Bh1FoA33niD4OBgOnXqxLhx4/Dy8mLhwoVOjtqIy15mIE57ZQfCP2k8aa0LbxDQUkROAouB7i9wrGEYUZS3oAsDD+bmwjBfjmsyrn24j/keu7l5+C5p0qRh0qRJbNiwgdSpU9OgQQMaNWrEyZMnnR22EQeJo8ZKEpEmQC1VbW8ttwLKqGq3cPu8b8UwRkTKAd8DRYHxwCZV/Z+13/fAElWd89Q1OgIdATJnzuwTEBDw0vHevHmTFClSvPTxcVFCq3NCqy+8WJ0vX3BjY9/0VDt8HhG43tyNTO3ugQs8fPiQX3/9lRkzZuDi4kK7du1o2LAhrq6x7+62+Z5fTNWqVbepqm80h/RfquqQgu3dnGXhlvsB/Z7aZy+QM9zyYSDT0/sCy4BykV3Px8dHo2LVqlVROj4uSmh1Tmj1VX25Os+bdFvHJt6pq1il83Js18v/3ArbdujQIX3ttdcUUF9fX92+fXs0Rhs9zPf8YoBAdVA7EL5ElvocfmqB8GW3iOyyox3bChQUkbwikhjbA/+nb/oeB6pb1/ME3IEL1n7NRCSJ9RJpQWCLHdc0DCOKXn83KS1PF2d9RQ9cT94i0Hsrazsf4/GDx+TLl48lS5bw888/c+LECXx9fendu7dJIDCeK7JnNuGnFghfQtdHSm3jqXXD1isJxpZ1ttd6P6e+tVtvoIOI/AP8DLSxGtu9wGwgCFgKdFVVk/RvGDEkfXrhk3VZcP/Zj51JM/B48hEWZtvO+Q03EBGaNWtGcHAwHTp04Msvv6RIkSIsWrTo+Sc2EqzIUp+PRVbsObmqLlbVQqqaX21TSqOqA1R1ofU5SFUrqGoJVfVW1T/DHTvMOq6wqi6JakUNw3hxNZsl4d1zRdjkX4RHF++zu+I2VjQ7zKM7j0ibNi3ffvst69evJ2XKlNSrV48mTZpw6tQpZ4dtxEL2zNRZ1nqp86aI3BeRRyJipv0zjAQiRQrouzgjmRf7sSl1Flx/Oc6iLIGc+OMqABUqVGD79u18/vnn/PHHH3h6ejJhwgQzAoHxBHtSnycAzYGDQFKgPbaXNQ3DSEAq+rvR+6wH25oX5/Z15VDdnSytdYCH1x+SOHFi+vXrx549eyhbtizdu3enfPny7Ny509lhG7GEvS91hgCuqvpIVX/A9la/YRgJjLs79P4pHR5/+7EmYw4SLzvNkixbCZl1CYD8+fOzbNkyZs2axdGjR/H19eWDDz7g1q1bTo7ccDZ7GpvbVjbZThH5QkR62XmcYRjxVMlyrnx8qgDBXUpy+a4rJ1vuZlH5YO5fuI+I8NZbbxEcHMw777zD6NGjKVKkCIsXL3Z22IYT2dNotLL26wbcwjYtdGNHBmUYRuzn5gZdJ6amzD++rMqZG/eN51mefSt7J5xHVUmXLh1Tpkxh3bp1JE+enDp16tC0aVPOnDnj7NANJ7BnPptjqnpXVa+r6mBVfd+6rWYYhoFHMRcGHs3LsY99OPXInQvdg/i9+B7unLgHQMWKFdmxYwdDhw5l4cKFeHh48M033/D48WMnR27EJHuy0SqIyHIROSAih0NLTARnGEbc4OIC7YaloObBUqwsnJ/Ee66wJu8Wtg05jaqSOHFi+vfvz549e/Dz86NLly5UqFCBXbvseT/ciA/suY32PfAlUBHwC1cMwzCekCefMDg4J5dH+XFQUnJj4AEWFviH68G2weILFCjA8uXL+fHHHwkJCcHHx4e+ffty+7a9g8kbcZU9jc01VV2iqudV9VJocXhkhmHESSLwVp+kvHGiBKt9C+F6+AabigSysdcJHj98jIjQsmVL9u3bR+vWrRk5ciRFihRh6dKlzg7dcCB7GptVIjJKRMqJSKnQ4vDIDMOI07JkEQZtzcajqaXZlTgt98YeYmGuHVzaahtHLX369EydOpU1a9bg7u6Ov78/zZo14+zZs06O3HAEexqbMoAv8DkwxiqjHRmUYRjxR4N2SXjndFHWVvVCz9xlZ+ltrGlzhMf3bAkClStXZufOnQwZMoT58+fj4eHB5MmTTQJBPGNPNlrVCEq1mAjOMIz4IV06YcDKTKScW5pNyTOhM46xKGsgZ/66BkCSJEn49NNP2bVrFz4+PnTu3JmKFSuyZ88eJ0duRBd7stHej6C0ExHvGIjPMIx45NVGbvQ858nGhsW4c+URwTV28FfDgzy8+RCAQoUK8ddffzFjxgwOHDhAyZIl6devn0kgiAfsuY3mC3TGNi1zdqATtuFqvhORDx0Ym2EY8VDy5NDvt/TkXO7H2rTZSbTgFEuyBHJ07mUARIS3336bffv20apVK0aMGEGxYsVYtmyZkyM3osKexiYHUEpVe6tqb8AH22yalYE2DozNMIx4rPyrieh3piDbWntz5ZZwtMkullTdx/3LDwDIkCED06ZNY9WqVbi5uVGrVi3eeustzp075+TIjZdhT2OTCbgXbvkBkFlV7zy13jAM44UkSQK9p6ehxBZfVmTJReLVZ1mebSv7p14I26dKlSr8888/DBo0iLlz5+Lh4cF3331nEgjiGHsam1nAZhEZKCIDgQ3ATyKSHNtMmoZhGFFSws+VgSfysa+HD2fuJ+ZMh70s8t3DvTO2v2eTJEnCwIED2bVrF97e3nTs2JHKlSuzd+9eJ0du2MuebLTPgI7AVat0VtUhqnpLVVs4NjzDMBKKRImg69iUVN5TiuV585F42yVW5trKri/OoKoAFC5cmJUrVzJ9+nT27duHt7c3/fv3586dO06O3nieZzY2IpLK+pkOOAz8aJXD1jrDMIxoV8jLhc9CcnFyoB+HNTmXP9rP7x67uBVia1BEhNatW7Nv3z5atGjB559/TrFixVi+fLmTIzciE1nP5ifr5zYg0Crbwi0bhmE4hIsLvDMoGfUOebO8aEESHbjOhsJbCex3En1k6+VkyJCB6dOns3LlSlxcXKhZsyYtW7bkypUrTo7eiMgzGxtVrWv9zKuq+aySN3Q55kI0DCOhypVbGLorOzfG+bHHNQ03R4Twe54dXP3n35k/q1atyq5duxgwYACzZ8+mdevWTJ061SQQxDKR3UbLLSKpwy1XFZFxItLLmrnTMAzD4UTgzffcaXmyGCvKeqInbxNYMpANnY/y+L6tQXF3d2fw4MHs2rWLvHnz0qFDB6pUqUJQkMlhii0iu402G0gOYI0W8CtwHPAGJjk6MMMwjPAyZRI+25gZlxml2eKekQeTj7Io+zbOr7seto+Hhwdjx45l2rRp7N27F29vbz799FPu3r3rxMgNiLyxSaqqp63PLYFpqjoGaAuUtufkIlJLRPaLSIiI9I1g+1cistMqB0Tkarhtj8JtW2h/lQzDiM/qvZ2Yrme8WFOzKPcuPmBP5e2sbnaIR7cfAbYEgrZt27Jv3z6aNWvG0KFDKVasGCtWrHBy5AlbZI2NhPtcDVgBoKp23QgVEVdgIuAPeAHNRcQr/D6q2ktVvVXVG/gamBdu853Qbapa355rGoaRMKRODQOXZSD9gtKsTZkVfjnB4qxbOfXHv8kBGTNmZObMmfz1118AvPrqq7z99ttcuHDhWac1HCiyxmaliMwWkXFAWmAlgIhkBe7bce7SQIiqHlbV+0AA0CCS/ZsDP9sXtmEYBlSrn4gPzxZmY9MSXL8OB+v+w7kPk/Dw2sOwfapXr87u3bv59NNPCQgIwMPDg2nTpoW9u2PEDHnWP7iICPAmkBWYraqnrPUlgUyqGumoeCLSBKilqu2t5VZAGVXtFsG+uYFNQA5VfWStewjsBB4CI1R1fgTHdcT2wimZM2f2CQgIsKPKEbt58yYpUqR46ePjooRW54RWX0hYdd73TwqODExOzWvnuJUkES69lRQ1Hj2xz9GjR/nyyy/ZvXs3xYsXp3fv3uTKlctJEUefqHzPVatW3aaqvtEc0n+pqkMK0ASYGm65FTDhGft+BHz91Lrs1s98wFEgf2TX8/Hx0ahYtWpVlI6PixJanRNafVUTXp3v3VPtXTdYv2eLrmKVLi63V++evffEPo8ePdKpU6dq2rRp1c3NTQcMGKB37txxUsTRIyrfMxCoDmoHwhd7xkZ7WaeAnOGWc1jrItKMp26hqdWTUtXDwGqgZPSHaBhGfJI4MdTtfRa/7T4sy54H140XWJlzC8Ffnwu7bebi4kK7du3Yt28fTZs2ZciQIZQoUYJVq1Y5Ofr4zZGNzVagoIjktd7LaQb8J6tMRDywPRPaGG5dWhFJYn3OAFTADPppGIadipV0YeixPIR84MuRR8k4914wi4vv5s7xf1OgM2XKxP/+9z/+/PNPHj16RLVq1WjTpg0XL150YuTxl8MaG1V9CHQDlgHB2J777BWRISISPrusGRCgoX922HgCgSLyD7AK2zMb09gYhmE3V1fo8kVyagaXZGnBArjsucrafFvZOfgU+vjfXzc1atRg9+7d9O/fn1mzZuHh4cH06dNNAkE0i2wEgd0isutZxZ6Tq+piVS2kqvlVdZi1boCqLgy3zyBV7fvUcX+rajFVLWH9/P5lK2gYRsJWoJAwfH8Ozn3uRxCpuDroIIsK7ORG0L9TTSdNmpShQ4eyc+dOPDw8aNu2LdWqVWP//v1OjDx+iaxnUxeoByy1SgurLLaKYRhGnCACbfol5Y2jxVnqXRiO3GJT0a1s6XmMxw/+fXWwSJEirF27lilTprBz506KFy/O4MGDuXfPzBMZVZENxHlMVY8BNVT1Q1XdbZW+QM2YC9EwDCN65MghDN+elbvf+rHNLT23xx3hj1zbubzlRtg+Li4udOjQgX379tGkSRMGDRpEiRIlWL16tfMCjwfseWYjIlIh3EJ5O48zDMOIdUTgjU5JaH+qKH9VKsKDs/fYUWYb69sc5tHdf9/LyZw5M7NmzWLp0qXcv3+fqlWr8s4773Dp0iUnRh932dNotAMmichRETmKbRDOdxwalWEYhoNlyABD12YkSUBp1ifLwsMZx1mSLZBzf119Yr/XXnuNPXv20K9fP3788Uc8PDyYOXOmSSB4QfZMC71NVUsAJYASahurbLvjQzMMw3C8Om+60euMB6vrFOfGFSW4xk5WNTzAwxv/DnmTLFkyPv/8c3bs2EGhQoVo3bo1r776KgcOHHBi5HHLcxsbEcksIt9jS0++JiJeItIuBmIzDMOIEalSwaBF6ci62JflqXOgC06zLOtWjv/65C2zokWLsm7dOr799lu2bdtG8eLF+eyzz0wCgR3suY02Hdu7Mtms5QNATwfFYxiG4TRV/BPxyZkCbG5Rkgu3XDncdDd/Vg3m/sV/xx52cXGhU6dO7Nu3j9dff50BAwbg7e3N2rVrnRh57GdPY5NBVWcDjyHsZc1HkR9iGIYRNyVNCv3+l5oiG3xZkik3LqvPsyLHVg5OOf/Ec5osWbLw888/s3jxYu7evcsrr7xC+/btuXz5shOjj73saWxuiUh6QAFEpCxwzaFRGYZhOJlfeRc+O5GXXV19OH7fnVOdgljqu4e7p568Zebv78/evXv56KOPmD59Oh4eHvzvf/8zCQRPsaexeR/bmGb5RWQDMBPo7tCoDMMwYoHEieH9CSmouLMkf+TKj2y/wuo8W9j7xeknGpNkyZIxYsQItm/fTv78+WnVqhU1atTg4MGDTow+drEnG2078ApQHugEFFFVu4arMQzDiA+KFHdhxOGcHOnvy4HHKbnw0QEWe/zDrYN3ntivePHibNiwgUmTJrF161aKFSvGsGHDuH/fnvkm4zd7stHeAJKq6l6gIfCLiJRydGCGYRixiasrvDs0GXUPluAPz0LogRts8NjK9r4n0Ef/9nJcXFx499132bdvH/Xr1+eTTz7B29ub9evXOzF657PnNtqnqnpDRCoC1YHvgW8cG5ZhGEbslC+f8MXebFwaXZodLmm5PvIQf+TZzrUdN5/YL2vWrMyePZtFixZx+/ZtKlWqRIcOHRJsAoE9jU1o5lkd4DtV/QNI7LiQDMMwYjcRaN07CS2PFmWxnxcPTt4lsNQ2NnU6wuN7j5/Yt06dOuzdu5c+ffrwww8/4OnpyU8//ZTgEgjsaWxOichk4E1gsTWpmRkbzTCMBC97dmHk5kw8+r40G5Jk4u6UYyzOEcjFtU8m7CZPnpxRo0YRGBhInjx5aNGiBa+99hqHDh1yUuQxz55Goym2lzpfU9WrQDrgA0cGZRiGEVeIQJN33Oh6ypPl1Ypx6+Ijdr2yg3XNQnh068lXEr29vfn777+ZMGECmzZtomjRogwfPtyhCQQnTpygatWqeHl5UaRIEcaNGwfA5cuXqVGjBkBREVkuImlt9RERkfEiEmLNXxbhM3oR8bHmPQux9pfI4ohs8rRU1kd3YDVwSUTSAfeAwBesr2EYRryWPj0MW5Ge1HP8WJkiG49+OcnSbFs5/fuTz2hcXV3p2rUrwcHB1KlTh48//phSpUqxYcMGh8SVKFEixowZQ1BQEJs2bWLixIkEBQUxYsQIqlevDrAHWAGETmLpDxS0Skee/Yz+G6BDuH1rRRZHZD2bn6yf27A1LtvCFdPYGIZhRKBW40R8dLoQq1/35tJ14UD9XaystY8HVx48sV/27NmZM2cOCxcu5MaNG1SsWJFOnTpx5cqVaI0na9aslCpl65ykTJkST09PTp06xYIFC2jdunXobjOwZRsDNABmqs0mII2IZA1/Tms5lapuUtvDp5nhjo9QZJOn1bV+5lXVfNbP0JLvRStsGIaRUKRMCYPmpSHPcl+WpMuFLjvL8uxbOTLzwn/2rVevHnv37qV3795MnToVT09PAgICHJJAcPToUXbs2EGZMmU4d+4cWbOGtSFngczW5+zAiXCHnbTWhZfdWh/ZPk+I7DZaqciKHfUyDMNI0Cq/6srgU/nY3MaH03cSc6z1Xv4st4d7Z58c8iZFihSMHj2awMBAcubMSfPmzfH39+fw4cPRFsvNmzdp3LgxY8eOJVWqVE9ss3onDk2Pi+w22phIymhHBmUYhhFfuLvDxz+kpOSmUizKmhc2XWJVrq3sH3fmP72XkiVLsmnTJsaPH8+GDRsoUqQII0aM4MGDB884u30ePHhA48aNadGiBY0aNQJsM5GeOXMGCLstdt7a/RSQM9zhOax14Z2y1ke2zxMiu41WNZJSzY76GYZhGBafMi4MP5abvb38CHmYnDM997O02C7uHHlyyBtXV1e6d+9OcHAw/v7+9OvXj1KlSrFx48aXuq6q0rZtW3bs2MHKlSsBOHLkCNevX6do0aIA+bDNvrzAerXFE5gqIptF5HXgmqqeeeq0JYDcInJCRPoCbwMLIovDrvdlRKSoiDQVkbdDy4tU1jAMwwA3N+j1ZTKq7/FmYd6C6N7rrCu4lV2DTj4x5A1Ajhw5mDdvHvPnz+fq1atUqFCBd999l6tXr77QNTds2MCsWbO4f/8+a9asIUWKFBQpUgSA9OnTA6QCWgN+2J7V5AV+BvIAPwBdQs8lIsdE5CC2wZknA9eBwcBlYElkcdgzNtpA4GurVAW+AOrbU0kRqSUi+6087L4RbP9KRHZa5YCIXA23rbWIHLRK66ePNQzDiKs8vYTRIdk5MdiPXaTh8uAQlhTcwY09t/6zb4MGDQgKCqJnz55MmTIFT09PZs+ebXcCQZ48eahWrRrz5s2jbNmyrFmzhmTJkhEUFBS6yzHADdv7lDuA34FL2B74P8SWgYz16ssjoCuwDls7UBEYBOzR5wRkT8+mCbYx0c6qalts3afUzztIRFyBidhytr2A5iLiFX4fVe2lqt6q6o2tMZsXrlIDgTJAaWBg6AtHhmEY8YGLC3Qa4E7jg8VYWNSDB0dus7l4IIE9j/L4/pND3qRMmZIvv/ySLVu2kC1bNt58803q1q3L2LFjwxqTPHnyMGvWrP9cp2fPnnzxxRe4uLiQJEkScufOTZo0aUibNi2enp4Agm0m5hnYGpipQENrosxrQHrrVK8By7H1hI5Yn2thRyYa2NfY3FHVx8BD60XP8zz58OhZSgMhqnpYVe8DAdjyt5+lObauG1iVUtXLqnqFfytlGIYRr+TNK4zZlYXr40uzMVFGbo47ypLc27i86fp/9vXx8WHz5s2MHTuWFStW0KtXL44dO4aqcuzYMTp27PhEg7No0SIyZcqEj4/Pf84VmgYN3AIShXsuc55/06DDsycl+pkS2bFPoIikAb7D1p26CdjzpCqiwMpEtKOI5MZ2n3BlJMf+p1Ii0hHbG65kzpyZ1atX2xFWxG7evBml4+OihFbnhFZfMHWOS3IWg+QBifl5QE5e3XuOneW2c7WmG+l6PbCN4xJOiRIlSJkyJffuPZlCffv2bXr37k327LZflz///DN//vkn8+bN4/79+9y+fZtmzZpx4cIFatSoQfv27Rk4cGAiILQrFZqJpiKSCNtdrEtPhRq6zzFr+bmZaIAtU8Hegu2BUXE7920CTA233AqY8Ix9PwK+DrfcB/gk3PKnQJ/Irufj46NRsWrVqigdHxcltDontPqqmjrHVfNmPtD+SffpKlbpH2k36dlll/+zj4iEvhvzRBGRCM+5atUqrVOnjt6/f18zZ86sLVu2VFVVbD2Zc0BWbM9jZgL7gWbAbP3393BzbEkBiYDD2EaZaQn8g21SzUjbBHuz0YqLSH2gFFBARBrZcZg9udqhmvHvLbQXPdYwDCNeeb1VInqfKsyyWiW4ckUJfu0f1jbcz8NrD8P2yZUrV4THPmt9qHbt2uHv78/+/fspUKAA2BqPWdgy0r4HvIFMwPtY46WJSDZs6dE1gZTW+jeAz7A1SHufVyd7stGmAdOAxkA9q9R93nHAVqCgiOQVkcTYGpSFEZzfA0jLk7fmlgE1RSStlRhQ01pnGIaRIKRNC8OXpCXjAj+WpMrJgwVn+DP7Fk7MvgjAsGHDSJYs2RPHJEuWjGHDhkV4vipVqtC3b19+/PFHtm3bxv3790mRIgXYbpMNA2oAu7H1dPKramkgnYhMVdXTqloDW+OyFfgc6Ki24csivuBT7HlmU1ZVvZ6/25NU9aGIdMPWSLgC01R1r4gMAQJVNbThaQYEWN250GMvi0hopQCGqGrCnN7OMIwErWZ9V8qfys+o9hnJ9ct+kr25hwPfZOKN2W/AFOjfvz/Hjx8nV65cDBs2jBYtWjzzXBUrVvxPyrSIXFPVS9iyjp+gqoFA+3DLoZ2PF2ZPY7NRRLxUNej5uz5JVRcDi59aN+Cp5UHPOPalK2UYhhGfpEgBgwNSsb6zD/PeOI7/6mOszHmZZGX9GH3yZ9LpPS6fTILLhnzw7LbGqex5ZjMTW4Oz35pIZ7eI7HJ0YIZhGMaTKlZx4fMTeQjs6MuFe4lIu+Y0GR7dwwXI8Ogeyb7Zz7wu55wdZoTsaWy+x5ZJVot/n9fUc2RQhmEYRsTc3aHf5OS4u/z3hX13HvN4SvSNFB2d7LmNdiHc8xXDMAwjFkj/+F6E69M9ini9s9nT2OwQkZ+wjZcTVgtVneewqAzDMIxIXXZNQoYIGpbLrkmcEM3z2XMbLSm2RqYmL5b6bBiGYTiIS8d83H3qV/hdXHDpGDsnUo60Z2MNpnlJVfvEUDyGYRiGHRpNysw84OaUw6R7dI/Lrklw6ZiPRpMiGtbM+SJtbFT1kYhUiKlgDMMwDPs1mpQZJtnGhWxSpZyzw4mUPc9sdorIQuBXbKODAuaZjWEYhmE/exobd2zDGYSfClqx5p4xDMMwjOd5bmOjtgnTDMMwDOOl2TMQZw4R+U1EzltlrojkiIngDMMwjPjBntTnH7CN1pzNKr9b6wzDMAzDLvL0CKD/2UFkp6p6P2+ds4nIBf6dOe5lZAAuRlM4cUVCq3NCqy+YOicUUalzblXNGJ3BRMSeBIFLItKSfyc3a85/pwl1uqj+Y4lIoKr6Rlc8cUFCq3NCqy+YOicUcaHO9txGewdoCpwFzmCb7tkkDRiGYRh2sycb7RhQPwZiMQzDMOKpZzY2IjLgWdsAVdXPHBCPM01xdgBOkNDqnNDqC6bOCUWsr/MzEwREpHcEq5MD7YD0qprCkYEZhmEY8cdzs9EARCQl0ANbQzMbGKOq5x0cm2EYhhFPPG/U53TA+9hmtZ4BlFLVKzERmGEYhhF/PDMbTURGAVuBG0AxVR0UFxsaEaklIvtFJERE+kawPYmI/GJt3ywiecJt62et3y8ir8Vo4FHwsnUWkTwickdEdlrl2xgP/iXZUefKIrJdRB6KSJOntrUWkYNWaR1zUUdNFOv8KNz3HGdm4rWjzu+LSJCI7BKRFSKSO9y2+Po9R1bn2PM9q2qEBXgM3MHW2FwPV24A1591XGwqgCtwCMgHJAb+Abye2qcL8K31uRnwi/XZy9o/CZDXOo+rs+vk4DrnAfY4uw4OqnMeoDgwE2gSbn064LD1M631Oa2z6+TIOlvbbjq7Dg6qc1UgmfX53XD/bcfn7znCOse27/mZPRtVdVHVpKqaUlVThSspVTXVs46LZUoDIap6WFXvAwFAg6f2aYDtFiHAHKC6iIi1PkBV76nqESDEOl9sF5U6x1XPrbOqHlXVXdj+iArvNWC5ql5WW899OVArJoKOoqjUOa6yp86rVPW2tbgJCB3HMT5/z8+qc6xiz0udcVl24ES45ZPWugj3UdWHwDUgvZ3HxkZRqTNAXhHZISJrRKSSo4ONJlH5ruLz9xwZdxEJFJFNItIwWiNznBetcztgyUseG1tEpc4Qi75ne4arMRKOM0AuVb0kIj7AfBEpoqrXnR2YEe1yq+opEckHrBSR3ap6yNlBRRdriC1f4BVnxxJTnlHnWPM9x/eezSkgZ7jlHNa6CPcRkURAamxjv9lzbGz00nW2bhleAlDVbdjuFRdyeMRRF5XvKj5/z8+kqqesn4eB1UDJ6AzOQeyqs4i8CvQH6qvqvRc5NhaKSp1j1/fs7IdGjizYem6HsT3gD324VuSpfbry5MPy2dbnIjyZIHCYuJEgEJU6ZwytI7YHkqeAdM6uU3TUOdy+0/lvgsARbA+N01qf43ud0wJJrM8ZgIM89dA5NhY7/9suie2PpIJPrY+333MkdY5V37PT/zFj4MuqDRywvoz+1roh2P4CANu0179iSwDYAuQLd2x/67j9gL+z6+LoOgONgb3ATmA7UM/ZdYnGOvthu999C1vPdW+4Y9+x/i1CgLbOrouj6wyUB3Zbv7h2A+2cXZdorPNfwDnrv+GdwMIE8D1HWOfY9j3bNYKAYRiGYURFfH9mYxiGYcQCprExDMMwHM40NoZhGIbDmcbGMAzDcDjT2BiGYRgOZxob46U9NaLszohGpI3Ga7URkQnW584i8nY0nfeoiGSIYP0gEenzEuerIiKLnrNPWF2ik4hMf3p055c8TxURuSYii1/wuGeOPmxtXyIiEY7bJSK9ROS4I/5djNjBDFdjRMUdVfWO6YuqapyZ+iAOW6eqdV/wmB2Ar6reFpF3gS+ANwFEJCm2GX5PRnSgqn4lIlewDbdixEOmZ2NEO6u3MNiaS2W3iHhY61OIyA/Wul0i0tha39xat0dERoY7T1sROSAiW4AK4daH9TpEZLWIjBSRLda+laz1yURktvWX9m9im7fnWb/IPrSuv0VECkRQH29rIMNd1rnSWusLiMhfIvKPVdf8Tx3nZw1qmv/pcwI5rdgPisjACK7pYdU7dDmPiOy2Pg8Qka3Wv9eUiEbsDt9jExFfEVltfU4uItOsuu4QkadHBP8Pq6ezRkQWiMhhERkhIi2sc+wOrZ9GPvpwFWzDpWAdH9oDGv286xvxg2lsjKhI+tRttDfDbbuoqqWAb4DQ21GfAtdUtZiqFsc2MGA2YCRQDfAG/ESkoYhkBQZja2QqYptf6FkSqWppoCcQ+ou7C3BFVb2s6/pEcvw1VS0GTADGRrB9JvCRFfPucNeYBUxU1RLY3tY+E3qAiJQHvgUaaMQDH5bGNmJDceCNpxtCVd0HJBaRvNaqN4FfrM8TVNVPVYsCSYEX6YH0B1Za/15VgVEiktyO40oAnQFPoBVQyDrHVKB7BPs/PfqwP7BURNIDr2MbcqU4MPQFYjfiMNPYGFFxR1W9w5Vfwm2bZ/3chm0SL4BXgYmhO6htXhE/YLWqXlDbdAezgMpAmXDr7/PvL9qIRHStitjm/kBV9wC7Ijn+53A/y4XfICKpgTSqusZaNQOoLCIpgeyq+pt1jbvh/qr3BKZgG+7n+DOuuVxVL6nqHSv+ihHsMxvrNhRPNjZVrZ7abmyNdJFI6va0mkBfEdmJrafhDuSy47itqnpGbYM8HgL+tNbv5t9/c+CJ0YdHhVtdAViPbTqLu8D3ItIIuI2RIJjGxnCU0JFnH+H4Z4NRvZY+4/PLOoPtF2pkI+w+fR0Vka7heonZsDUuTUWkEKCqelBE3IFJ2AbWLAZ8h63BeNpD/v3/O/x2ARqH+wMhl6oG21Gne+E+Pw63/Jhw/+YSwejDYhve/oSq3rf+oCiNbdK+usBSO65txAOmsTFi0nJsI04DYD372AK8IiIZRMQVaA6sATZb69OLiBvwxgteawPQ1LqOF1Askn3D9x42ht+gqteAK/LvRHKtgDWqegM4KdaEVCKSRESSWftcBeoAw0WkyjOuWUNE0ontwXlDYIOqTgzXCJy2br89wnYbMLRXE9pwXBSRFMCzss+O8u+tw8bh1i8Duoc+5xGRaBty3jrXZGwNzflwm/yxGhUr5tSquhjohe32nJEAmGw0IyqSWrdjQi1V1cjSn4cCE0VkD7ZfooNVdZ7YUqZXYfur+w9VXQC2RABsv/yvYhvN9kVMAmaISBCwD9to1teesW9aEdmF7a/15hFsbw18azUmh4G21vpWwGQRGQI8IFyDqKrnRKQusERE3lHVzU+dcwswF9tD9P+pauAzYvsF2+2ovNZ5r4rId8Ae4Cyw9RnHDcZ2q+ozrAfzls+wPZfaJSIu2Ibaf9Gss2cZBaQAfrXasuOqWh/b9Muhz3VSAgusHpoA70fTtY1Yzoz6bMRLVi/JTVXvWtlSfwGFrec/RiSs3lifl0h9juhcSbD12p6b0iwibbClTneL6nWN2MfcRjPiq2TAehH5B/gN6GIaGrvdB4rKC77UGRG1zf5qT0PTC+gHmCnI4ynTszEMwzAczvRsDMMwDIczjY1hGIbhcKaxMQzDMBzONDaGYRiGw5nGxjAMw3C4/wM5nj5uqCdrCAAAAABJRU5ErkJggg==",
>>>>>>> Stashed changes
      "text/plain": [
       "<Figure size 432x288 with 1 Axes>"
      ]
     },
     "metadata": {
      "needs_background": "light"
     },
     "output_type": "display_data"
    }
   ],
   "source": [
    "plt.plot([be[0], be[1]], [sim_E_vox[0,0], sim_E_vox[0,1]], 'bo-')\n",
    "plt.annotate(tm[0], (be[1], sim_E_vox[0, 1]), textcoords=\"offset points\", xytext=(20,5), ha='center')\n",
    "\n",
    "plt.plot([be[2], be[3]], [sim_E_vox[0,2], sim_E_vox[0,3]], 'go-')\n",
    "plt.annotate(tm[2], (be[3], sim_E_vox[0, 3]), textcoords=\"offset points\", xytext=(20,5), ha='center')\n",
    "\n",
    "plt.plot([be[4], be[5]], [sim_E_vox[0,4], sim_E_vox[0,5]], 'ko-')\n",
    "plt.annotate(tm[4], (be[5], sim_E_vox[0, 5]), textcoords=\"offset points\", xytext=(20,5), ha='center')\n",
    "\n",
    "plt.plot([be[6], be[7]], [sim_E_vox[0,6], sim_E_vox[0,7]], 'mo-')\n",
    "plt.annotate(tm[6], (be[7], sim_E_vox[0, 7]), textcoords=\"offset points\", xytext=(20,5), ha='center')\n",
    "\n",
    "\n",
    "#plt.title('Scatter plot with 4 lines')\n",
    "plt.xlabel('Encoding block b-value [m2/s]')\n",
    "#are units correct\n",
    "plt.ylabel('Normalised Signal (sum of the magnetisations)')\n",
    "#unit?\n",
    "plt.grid(True)\n",
    "plt.show()\n"
   ]
  },
  {
   "attachments": {},
   "cell_type": "markdown",
   "metadata": {},
   "source": [
    "### Least squares fit\n"
   ]
  },
  {
   "cell_type": "code",
   "execution_count": 83,
   "metadata": {},
   "outputs": [],
   "source": [
    "def sse_adc_prime_1_vox(variables_to_optimize, tm, bf, be, smeas):\n",
    "    # For the signal from 1 voxel.\n",
    "    adc_est, sigma_est, axr_est = variables_to_optimize\n",
    "    _ , adc_tm_fit = sim_sig_np_1_vox(bf,be,tm,adc_est,sigma_est,axr_est)\n",
    "\n",
    "    bf_tm = np.column_stack((bf.flatten(), tm.flatten()))\n",
    "\n",
    "    # Find unique rows and corresponding indices\n",
    "    univols, univols_indices = np.unique(bf_tm, axis=0, return_index=True)\n",
    "\n",
    "    nsf = univols.shape[0]\n",
    "\n",
    "    ix1 = np.where((np.sum(univols[:, None, :] == bf_tm, axis=2) == 2) & (be == 0))[1]\n",
    "    ix2 = np.where((np.sum(univols[:, None, :] == bf_tm, axis=2) == 2) & (be > 0))[1]\n",
    "    \n",
    "    #this line is hardcoded\n",
    "    smeas = smeas.reshape(8)\n",
    "\n",
    "    adc_tm_calc = -1 / (be[ix2] - be[ix1]) * np.log(smeas[ix2] / smeas[ix1])\n",
    "\n",
    "    #this line is hardcoded\n",
    "    adc_tm_fit = adc_tm_fit[:, ::2]\n",
    "\n",
    "    sse = np.sum((adc_tm_calc - adc_tm_fit) ** 2)\n",
    "    return sse\n"
   ]
  },
  {
   "cell_type": "code",
   "execution_count": 84,
   "metadata": {},
   "outputs": [],
   "source": [
    "def callback(xk):\n",
    "    print('Estimates of ADC, sigma, AXR:    ', xk)\n",
    "\n",
    "# Define the bounds for adc, sigma, axr\n",
    "bounds = tuple(map(tuple, limits.tolist())) #this line seems messy\n",
    "\n",
    "NLLS_adc_all = np.empty(shape=(0,))\n",
    "NLLS_sigma_all = np.empty(shape=(0,))\n",
    "NLLS_axr_all = np.empty(shape=(0,))\n",
    "    \n",
    "NLLS_adc_prime_all = np.empty(shape=(nvox,8))\n",
    "NLLS_E_vox_all = np.empty(shape= (nvox,8))\n",
    "\n",
    "sses = np.array([])\n",
    "for current_vox in range(nvox):\n",
    "    #reset best for each voxel\n",
    "    best_sse = 1\n",
    "\n",
    "    #extract relevant info for current voxel\n",
    "    cur_E_vox = sim_E_vox[current_vox,:]\n",
    "    cur_adc_prime = sim_adc_prime[current_vox,:]\n",
    "\n",
    "    cur_adc = sim_adc[current_vox]\n",
    "    cur_sigma = sim_sigma[current_vox]\n",
    "    cur_axr = sim_axr[current_vox]\n",
    "\n",
    "    additional_args_1_vox = (tm, bf, be, cur_E_vox) \n",
    "\n",
    "    for combination in range(all_inits.shape[0]):\n",
    "        inits = all_inits[combination,:]\n",
    "        \n",
    "        result_1_vox = scipy.optimize.minimize(sse_adc_prime_1_vox, inits, args=additional_args_1_vox, bounds=bounds)\n",
    "\n",
    "        if result_1_vox.fun < best_sse:\n",
    "            best_sse = result_1_vox.fun\n",
    "            NLLS_cur_adc, NLLS_cur_sigma, NLLS_cur_axr = result_1_vox.x\n",
    "    \n",
    "    sses = np.append(sses,best_sse)\n",
    "    # note the 1 instead of nvox, because it is for 1 voxel \n",
    "    NLLS_cur_E_vox, NLLS_cur_adc_prime = sim_sig_np_1_vox(bf,be,tm,NLLS_cur_adc, NLLS_cur_sigma, NLLS_cur_axr)\n",
    "\n",
    "    NLLS_adc_all = np.append(NLLS_adc_all, NLLS_cur_adc)\n",
    "    NLLS_sigma_all = np.append(NLLS_sigma_all, NLLS_cur_sigma)\n",
    "    NLLS_axr_all = np.append(NLLS_axr_all, NLLS_cur_axr)\n",
    "    \n",
    "    NLLS_adc_prime_all[current_vox,:] = NLLS_cur_adc_prime\n",
    "    NLLS_E_vox_all[current_vox,:] = NLLS_cur_E_vox"
   ]
  },
  {
   "attachments": {},
   "cell_type": "markdown",
   "metadata": {},
   "source": [
    "### NLLS Plots"
   ]
  },
  {
   "cell_type": "code",
   "execution_count": null,
   "metadata": {},
   "outputs": [
    {
     "data": {
      "image/png": "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",
      "text/plain": [
       "<Figure size 432x288 with 1 Axes>"
      ]
     },
     "metadata": {
      "needs_background": "light"
     },
     "output_type": "display_data"
    },
    {
     "data": {
      "image/png": "iVBORw0KGgoAAAANSUhEUgAAAYIAAAEGCAYAAABo25JHAAAAOXRFWHRTb2Z0d2FyZQBNYXRwbG90bGliIHZlcnNpb24zLjUuMywgaHR0cHM6Ly9tYXRwbG90bGliLm9yZy/NK7nSAAAACXBIWXMAAAsTAAALEwEAmpwYAAAXQUlEQVR4nO3df3RV5Z3v8c+3EAggVy2EO2qoCVXk948kUJnYypSqWBnUDh2keK8z/SHLqeNa9/amxpaF1NGKi65OZZa2slrK9daK6BJWXONUVMSuUikkMWIEw6/BJtGWEIUBjfLre/84J+lJctAk5+ycnDzv11pZnPPs5+z9fXJY55O9n332NncXACBcn8p0AQCAzCIIACBwBAEABI4gAIDAEQQAELiBmS6gu0aOHOkFBQWZLgMAskpVVdVhd89LtizrgqCgoECVlZWZLgMAsoqZvXW2ZRwaAoDAEQQAEDiCAAACl3VzBAD6j5MnT6qhoUEffvhhpkvpN3Jzc5Wfn6+cnJwuv4YgAJAxDQ0NGj58uAoKCmRmmS4n67m7mpub1dDQoMLCwi6/LrIgMLM1kuZJOuTuk5IsN0kPSvqypA8k/YO7V0dRy/7lkzTG69ueH7DR+uzy2ig2BaAbPvzwQ0IgjcxMI0aMUFNTU7deF+UcwVpJcz9m+bWSLo3/3Crpp1EU0RoCZmr7GeP12r+8UzYByABCIL168vuMLAjc/beS3v2YLtdLetRjtkk6z8wuSHcdrSGQqDUMAACZPWvoIkmJn8YN8bZOzOxWM6s0s8ru7vIAQHd985vf1K5du9KyroKCAh0+fPhj+/zwhz/s9nrXrl2r22+/vadltZMVp4+6+2p3L3H3kry8pN+QBoC0+fnPf64JEyb02vZ6EgTplMkgaJQ0OuF5frwtrQ7YaHW8CZt7rB1Adtn4aqNKV2xWYfm/q3TFZm18NfWPjPfff1/XXXedpk6dqkmTJumJJ57Q7Nmz2y5lc84556isrEwTJ07Ul770JW3fvl2zZ8/WmDFjVFFRIanzX+fz5s3Tli1bOm3rhhtuUHFxsSZOnKjVq1dLksrLy9XS0qJp06Zp8eLFkqRf/epXmjlzpqZNm6YlS5bo9OnTkqRf/vKXGjt2rGbOnKmtW7emPPZWmQyCCkn/02Iul3TU3d9J90Y+u7y2LQxafzhrCMg+G19t1F1Pv67GIy1ySY1HWnTX06+nHAa/+c1vdOGFF+q1115TbW2t5s5tf47L+++/ry9+8Yt64403NHz4cC1dulTPP/+8NmzYoGXLlnVrW2vWrFFVVZUqKyu1atUqNTc3a8WKFRoyZIhqamr02GOPaffu3XriiSe0detW1dTUaMCAAXrsscf0zjvv6O6779bWrVv1u9/9Lm2HrqRoTx99XNJsSSPNrEHS3ZJyJMndfybpWcVOHd2n2Omj/xhVLR0/9D8b1YYARGblc3VqOXm6XVvLydNa+VydbpiedHqxSyZPnqzvfOc7uvPOOzVv3jx9/vOfb7d80KBBbeEwefJkDR48WDk5OZo8ebIOHjzYrW2tWrVKGzZskCTV19dr7969GjFiRLs+L774oqqqqjRjxgxJUktLi0aNGqU//OEPmj17tloPjy9cuFB79uzpyZA7iSwI3H3RJyx3Sd+OavsA+pe3j7R0q72rxo4dq+rqaj377LNaunSp5syZ0255Tk5O2ymZn/rUpzR48OC2x6dOnZIkDRw4UGfOnGl7TbJvSm/ZskUvvPCCXnnlFQ0dOlSzZ89O2s/ddcstt+j+++9v175x48aUxvlxsmKyGAAuPG9It9q76u2339bQoUN18803q6ysTNXV3f9ea0FBgWpqanTmzBnV19dr+/btnfocPXpU559/voYOHao333xT27Zta1uWk5OjkydPSpLmzJmjp556SocOHZIkvfvuu3rrrbf0uc99Ti+//LKam5t18uRJPfnkkz0ccWcEAYCsUHbNZRqSM6Bd25CcASq75rKU1vv666+3Tcz+4Ac/0NKlS7u9jtLSUhUWFmrChAm64447VFRU1KnP3LlzderUKY0fP17l5eW6/PLL25bdeuutmjJlihYvXqwJEybo3nvv1dVXX60pU6boqquu0jvvvKMLLrhAy5cv16xZs1RaWqrx48enNO5E5h1PqenjSkpKnBvTAP3D7t27u/WBtvHVRq18rk5vH2nRhecNUdk1l6U0P9BfJfu9mlmVu5ck689F5wBkjRumX8QHfwQ4NAQAgSMIACBwBAEABI4gAIDAEQQAEDiCAADSZMuWLZo3b54kqaKiQitWrDhr3yNHjujhhx/u9jaWL1+uH/3oRz2uMRmCAAA+QevVP7tj/vz5Ki8vP+vyngZBFAgCANlj53rpXydJy8+L/btzfcqrPHjwoMaNG6fFixdr/PjxWrBggT744AMVFBTozjvvVFFRkZ588klt2rRJs2bNUlFRkb761a/q+PHjkmJXLx03bpyKior09NNPt6038dLUf/7zn3XjjTdq6tSpmjp1qn7/+9+rvLxc+/fv17Rp01RWViZJWrlypWbMmKEpU6bo7rvvblvXfffdp7Fjx+qKK65QXV1dymPuiC+UAcgOO9dLz9whnYxfZO5ofey5JE35+5RWXVdXp1/84hcqLS3V17/+9ba/1EeMGKHq6modPnxYX/nKV/TCCy9o2LBheuCBB/TjH/9Y3/3ud/Wtb31Lmzdv1iWXXKKFCxcmXf8dd9yhK6+8Uhs2bNDp06d1/PhxrVixQrW1taqpqZEkbdq0SXv37tX27dvl7po/f75++9vfatiwYVq3bp1qamp06tQpFRUVqbi4OKXxdkQQAMgOL97zlxBodbIl1p5iEIwePVqlpaWSpJtvvlmrVq2SpLYP9m3btmnXrl1tfU6cOKFZs2bpzTffVGFhoS699NK217becCbR5s2b9eijj0qSBgwYoHPPPVfvvfdeuz6bNm3Spk2bNH36dEnS8ePHtXfvXh07dkw33nijhg4dKil2yCndCAIA2eFoQ/fau6H1MtMdnw8bNkxS7NLQV111lR5//PF2/Vr/mk8Hd9ddd92lJUuWtGv/yU9+krZtnA1zBACyw7n53Wvvhj/+8Y965ZVXJEm//vWvdcUVV7Rbfvnll2vr1q3at2+fpNhdy/bs2aNx48bp4MGD2r9/vyR1CopWc+bM0U9/+lNJsYnno0ePavjw4Tp27Fhbn2uuuUZr1qxpm3tobGzUoUOH9IUvfEEbN25US0uLjh07pmeeeSbl8XZEEADIDnOWSTkd7j2QMyTWnqLLLrtMDz30kMaPH6/33ntPt912W7vleXl5Wrt2rRYtWqQpU6a0HRbKzc3V6tWrdd1116moqEijRo1Kuv4HH3xQL730kiZPnqzi4mLt2rVLI0aMUGlpqSZNmqSysjJdffXV+trXvqZZs2Zp8uTJWrBggY4dO6aioiItXLhQU6dO1bXXXtt257J04jLUADKmu5eh1s71sTmBow2xPYE5y1KeHzh48KDmzZun2tr+cx9zLkMNoP+a8vcpf/CjMw4NAQhaQUFBv9ob6AmCAEBGZdvh6b6uJ79PggBAxuTm5qq5uZkwSBN3V3Nzs3Jzc7v1OuYIAGRMfn6+Ghoa1NTUlOlS+o3c3Fzl53fvlFqCAEDG5OTkqLCwMNNlBI9DQwAQOIIAAAJHEABA4AgCAAgcQQAAgSMIACBwBAEABI4gAIDAEQQAEDiCAAACRxAAQOAIAgAIHEEAAIEjCAAgcAQBAASOIACAwBEEABA4ggAAAkcQAEDgCAIACBxBAACBIwgAIHAEAQAEjiAAgMBFGgRmNtfM6sxsn5mVJ1l+sZm9aGY7zWyLmeVHWQ8AoLPIgsDMBkh6SNK1kiZIWmRmEzp0+5GkR919iqR7JN0fVT0AgOSi3COYKWmfux9w9xOS1km6vkOfCZI2xx+/lGQ5ACBiUQbBRZLqE543xNsSvSbpK/HHN0oabmYjOq7IzG41s0ozq2xqaoqkWAAIVaYni/+PpCvN7FVJV0pqlHS6Yyd3X+3uJe5ekpeX19s1AkC/NjDCdTdKGp3wPD/e1sbd31Z8j8DMzpH0d+5+JMKaAAAdRLlHsEPSpWZWaGaDJN0kqSKxg5mNNLPWGu6StCbCegAASUQWBO5+StLtkp6TtFvSend/w8zuMbP58W6zJdWZ2R5J/13SfVHVAwBIztw90zV0S0lJiVdWVma6DADIKmZW5e4lyZZlerIYAJBhBAEABI4gAIDAEQQAEDiCAAACRxAAQOAIAgAIHEEAAIEjCAAgcAQBAASOIACAwBEEABA4ggAAAkcQAEDgCAIACFyUt6oEAKTBjopHNLp6pUZ5kw5ZnuqLyjRj/pK0rZ8gAIA+bEfFI5pUtVRD7IRk0l+pSedWLdUOKW1hwKEhAOjDRlevjIVAgiF2QqOrV6ZtGwQBAPRho7zpLO2H07YNggAA+rBDlneW9pFp2wZBAAB9WH1RmVp8ULu2Fh+k+qKytG2DIACAPmzG/CWqLb5Xf1KezrjpT8pTbfG9aT1ryNw9bSvrDSUlJV5ZWZnpMgAgq5hZlbuXJFvGHgEABI4gAIDAEQQAEDiCAAACRxAAQOAIAgAIHEEAAIEjCAAgcAQBAASOIACAwH3ijWnMrFDSP0sqSOzv7vOjKwsA0Fu6coeyjZJ+IekZSWcirQYA0Ou6EgQfuvuqyCsBAGREV4LgQTO7W9ImSR+1Nrp7dWRVAQB6TVeCYLKk/yHpi/rLoSGPPwcAZLmuBMFXJY1x9xOf2BMAkHW6cvporaTzIq4DAJAhXdkjOE/Sm2a2Q+3nCDh9FAD6ga4EwVBJNyY8N0kPRFMOAKC3dSUIBrr7y4kNZjYkonoAAL3srEFgZrdJ+idJY8xsZ8Ki4ZK2Rl0YAKB3fNwewa8l/Yek+yWVJ7Qfc/d3I60KANBrzhoE7n5U0lFJi3qvHABAb+PqowAQOIIAAAIXaRCY2VwzqzOzfWZWnmT5Z8zsJTN71cx2mtmXo6wHANBZZEFgZgMkPSTpWkkTJC0yswkdui2VtN7dp0u6SdLDUdUDAEguyj2CmZL2ufuB+HWK1km6vkMfl/Tf4o/PlfR2hPUAAJKIMgguklSf8Lwh3pZouaSbzaxB0rOK3QmtEzO71cwqzayyqakpiloBIFiZnixeJGmtu+dL+rKk/2dmnWpy99XuXuLuJXl5eb1eJAD0Z1EGQaOk0QnP8+Ntib4hab0kufsrknIljYywJgBAB1EGwQ5Jl5pZoZkNUmwyuKJDnz9KmiNJZjZesSDg2A8A9KLIgsDdT0m6XdJzknYrdnbQG2Z2j5m1XsL6O5K+ZWavSXpc0j+4u0dVEwCgs65cfbTH3P1ZxSaBE9uWJTzeJak0yhoAAB8v05PFAIAMIwgAIHAEAQAEjiAAgMARBAAQOIIAAAJHEABA4AgCAAgcQQAAgSMIACBwBAEABI4gAIDAEQQAEDiCAAACRxAAQOAIAgAIHEEAAIEjCAAgcAQBAASOIACAwBEEABA4ggAAAkcQAEDgCAIACBxBAACBIwgAIHAEAQAEjiAAgMARBAAQOIIAAAJHEABA4AgCAAgcQQAAgSMIACBwBAEABI4gAIDAEQQAEDiCAAACRxAAQOAIAgAIHEEAAIEjCAAgcAQBAASOIACAwBEEABA4ggAAAkcQAEDgIg0CM5trZnVmts/MypMs/1czq4n/7DGzI1HWAwDobGBUKzazAZIeknSVpAZJO8yswt13tfZx9/+V0P+fJU2Pqh4AQHJR7hHMlLTP3Q+4+wlJ6yRd/zH9F0l6PMJ6AABJRBkEF0mqT3jeEG/rxMwullQoafNZlt9qZpVmVtnU1JT2QgEgZH1lsvgmSU+5++lkC919tbuXuHtJXl5eL5cGAP1blEHQKGl0wvP8eFsyN4nDQgCQEVEGwQ5Jl5pZoZkNUuzDvqJjJzMbJ+l8Sa9EWAsA4CwiCwJ3PyXpdknPSdotab27v2Fm95jZ/ISuN0la5+4eVS0AgLOL7PRRSXL3ZyU926FtWYfny6OsAQDw8frKZDEAIEMIAgAIHEEAAIEjCAAgcAQBAASOIACAwBEEABA4ggAAAhfpF8oAAKnbUfGIRlev1Chv0iHLU31RmWbMX5K29RMEANCH7ah4RJOqlmqInZBM+is16dyqpdohpS0MODQEAH3Y6OqVsRBIMMROaHT1yrRtgyAAgD5slCe/GdcoP5y2bRAEANCHHbLkN+M6ZCPTtg2CAAD6sPqiMrX4oHZtLT5I9UVladsGQQAAfdiM+UtUW3yv/qQ8nXHTn5Sn2uJ703rWkGXb/WBKSkq8srIy02UAQFYxsyp3L0m2jD0CAAgcQQAAgeMLZQDQx/HNYgAI2I6KRzS16nsaZKfavln86arv8c1iAAjFJdX/EguBBIPslC6p/pe0bYMgAIA+7Dw/1q32niAIACBwBAEA9GFH7JxutfcEQQAAfdi+omX6yAe0a/vIB2hf0bK0bYMgAIA+bMb8JdpZfH+7S0zsLL6fS0xwiQkA6B4uMQEAOCuCAAACRxAAQOAIAgAIHEEAAIHLurOGzKxJ0ls9fPlISem743N2YMxhYMxhSGXMF7t70hsgZ10QpMLMKs92+lR/xZjDwJjDENWYOTQEAIEjCAAgcKEFwepMF5ABjDkMjDkMkYw5qDkCAEBnoe0RAAA6IAgAIHD9JgjMbK6Z1ZnZPjMrT7J8sJk9EV/+BzMrSFh2V7y9zsyu6dXCU9DTMZtZgZm1mFlN/OdnvV58D3VhzF8ws2ozO2VmCzosu8XM9sZ/bum9qnsuxfGeTniPK3qv6tR0Ycz/28x2mdlOM3vRzC5OWJZ177GU8phTf5/dPet/JA2QtF/SGEmDJL0maUKHPv8k6WfxxzdJeiL+eEK8/2BJhfH1DMj0mCIec4Gk2kyPIaIxF0iaIulRSQsS2j8t6UD83/Pjj8/P9JiiGm982fFMjyGiMf+NpKHxx7cl/L/Ouvc41TGn633uL3sEMyXtc/cD7n5C0jpJ13foc72k/xt//JSkOWZm8fZ17v6Ru/+npH3x9fV1qYw5W33imN39oLvvlHSmw2uvkfS8u7/r7u9Jel7S3N4oOgWpjDdbdWXML7n7B/Gn2yTlxx9n43sspTbmtOgvQXCRpPqE5w3xtqR93P2UpKOSRnTxtX1RKmOWpEIze9XMXjazz0ddbJqk8l5l4/ucas25ZlZpZtvM7Ia0Vhad7o75G5L+o4ev7StSGbOUhvd5YE9ehKz3jqTPuHuzmRVL2mhmE939vzJdGNLqYndvNLMxkjab2evuvj/TRaWLmd0sqUTSlZmupbecZcwpv8/9ZY+gUdLohOf58bakfcxsoKRzJTV38bV9UY/HHD8M1ixJ7l6l2PHJsZFXnLpU3qtsfJ9TqtndG+P/HpC0RdL0dBYXkS6N2cy+JOn7kua7+0fdeW0flMqY0/M+Z3qiJE2TLQMVmxgq1F8mWyZ26PNttZ84XR9/PFHtJ4sPKDsmi1MZc17rGBWboGqU9OlMjykdY07ou1adJ4v/U7FJxPPjj/v0mFMc7/mSBscfj5S0Vx0mIPviTxf/X09X7I+XSzu0Z917nIYxp+V9zvgvIY2/zC9L2hP/ZX0/3naPYukpSbmSnlRsMni7pDEJr/1+/HV1kq7N9FiiHrOkv5P0hqQaSdWS/jbTY0njmGcodoz1fcX2+N5IeO3X47+LfZL+MdNjiXK8kv5a0uvxD5XXJX0j02NJ45hfkPTn+P/fGkkV2fwepzLmdL3PXGICAALXX+YIAAA9RBAAQOAIAgAIHEEAAIEjCAAgcAQB0APxK7jWZroOIB0IAgAIHEEA9NxAM3vMzHab2VNmNtTMiuMX8qsys+fM7IJMFwl8EoIA6LnLJD3s7uMl/Zdil/T4N8Uu9VAsaY2k+zJYH9AlXH0U6Ll6d98af/wrSd+TNEnS8/HbPgxQ7EqvQJ9GEAA91/H6LMcUu9bPrEwUA/QUh4aAnvuMmbV+6H9NsTtH5bW2mVmOmU3MWHVAFxEEQM/VSfq2me1W7HLA/yZpgaQHzOw1xa4S+deZKw/oGq4+CgCBY48AAAJHEABA4AgCAAgcQQAAgSMIACBwBAEABI4gAIDA/X8l478NaGH0mwAAAABJRU5ErkJggg==",
      "text/plain": [
       "<Figure size 432x288 with 1 Axes>"
      ]
     },
     "metadata": {
      "needs_background": "light"
     },
     "output_type": "display_data"
    },
    {
     "data": {
      "image/png": "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",
      "text/plain": [
       "<Figure size 432x288 with 1 Axes>"
      ]
     },
     "metadata": {
      "needs_background": "light"
     },
     "output_type": "display_data"
    },
    {
     "data": {
      "image/png": "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",
      "text/plain": [
       "<Figure size 432x288 with 1 Axes>"
      ]
     },
     "metadata": {
      "needs_background": "light"
     },
     "output_type": "display_data"
    },
    {
     "data": {
      "image/png": "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",
      "text/plain": [
       "<Figure size 432x288 with 1 Axes>"
      ]
     },
     "metadata": {
      "needs_background": "light"
     },
     "output_type": "display_data"
    },
    {
     "name": "stdout",
     "output_type": "stream",
     "text": [
      "[]\n"
     ]
    }
   ],
   "source": [
    "#Debugging sse and seeing how large it is for the worst values. \n",
    "sses.sort()\n",
    "sses_descending = sses[::-1]\n",
    "\n",
    "\n",
    "\"\"\"MAYBE ADD LOSS PER 'EPOCH' FOR NLLS\n",
    "plt.figure()\n",
    "plt.plot(range(1, len(loss_progress) + 1), loss_progress, marker='o', linestyle='-')\n",
    "plt.xlabel('Epoch')\n",
    "plt.ylabel('Loss')\n",
    "plt.title('Loss per Epoch')\n",
    "plt.grid(True)\n",
    "plt.show()\"\"\"\n",
    "\n",
    "\n",
    "#plotting the sse\n",
    "plt.figure()\n",
    "plt.hist(sses.flatten(), bins=200)\n",
    "\n",
    "plt.figure()\n",
    "# for first voxel\n",
    "plt.scatter(be, sim_E_vox[0,:], label='simulated')\n",
    "plt.scatter(be, NLLS_E_vox_all[0,:], label='predicted')\n",
    "plt.xlabel(\"be\")\n",
    "plt.ylabel(\"tm\")\n",
    "plt.legend()\n",
    "\n",
    "# plot scatter plots to analyse correlation of predicted free params against ground truth\n",
    "plt.figure()\n",
    "\n",
    "param_sim = [sim_adc, sim_sigma, sim_axr]\n",
    "param_pred = [NLLS_adc_all, NLLS_sigma_all, NLLS_axr_all]\n",
    "param_name = ['ADC', 'Sigma', 'AXR']\n",
    "\n",
    "rvals = []\n",
    "\n",
    "for i,_ in enumerate(param_sim):\n",
    "    plt.rcParams['font.size'] = '16'\n",
    "    plt.scatter(param_sim[i], param_pred[i], s=2, c='navy')\n",
    "    plt.xlabel(param_name[i] + ' Ground Truth')\n",
    "    plt.ylabel(param_name[i] + ' Prediction')\n",
    "    #check what line below does. Commented out because it gave an error when using 1 voxel\n",
    "    #rvals.append(scipy.stats.pearsonr(np.squeeze(param_sim[i]), np.squeeze(param_pred[i])))\n",
    "    plt.tight_layout\n",
    "    plt.show()\n",
    "\n",
    "print(rvals)\n"
   ]
  },
  {
   "attachments": {},
   "cell_type": "markdown",
   "metadata": {},
   "source": [
    "### Creating the neural network"
   ]
  },
  {
   "cell_type": "code",
<<<<<<< Updated upstream
   "execution_count": 4,
=======
   "execution_count": 13,
>>>>>>> Stashed changes
   "metadata": {},
   "outputs": [],
   "source": [
    "class Net(nn.Module): # this is the neural network\n",
    "    #defining the init and foward pass functions. \n",
    "\n",
    "    def __init__(self,be,bf,tm,nparams,limits):\n",
    "        super(Net, self).__init__()\n",
    "\n",
    "        self.be = be\n",
    "        self.bf = bf\n",
    "        self.tm = tm\n",
    "        self.limits = limits\n",
    "\n",
    "        #defining the layers that we want. \n",
    "        # 3 layers with no. of be nodes. \n",
    "        self.layers = nn.ModuleList()\n",
    "        for i in range(3): # 3 fully connected hidden layers\n",
    "            self.layers.extend([nn.Linear(len(be), len(be)), nn.PReLU()])\n",
    "            #https://pytorch.org/docs/stable/generated/torch.nn.PReLU.html\n",
    "        self.encoder = nn.Sequential(*self.layers, nn.Linear(len(be), nparams))\n",
    "\n",
    "    def forward(self, E_vox):\n",
    "\n",
    "        params = torch.nn.functional.softplus(self.encoder(E_vox))\n",
    "        #running a forward pass through the network\n",
    "\n",
    "        #SoftPlus is a smooth approximation to the ReLU function and can be used to constrain the output of a machine to always be positive\n",
    "        #params contains batch_size x nparams outputs, so each row is adc, sigma and axr.\n",
    "\n",
    "        #unsqueeze adds an additional dimension. \n",
    "        #parameter constraints from Elizabeth matlab \n",
    "\n",
    "        adc = torch.clamp(params[:, 0].unsqueeze(1), min=limits[0,0], max=limits[0,1])\n",
    "        sigma = torch.clamp(params[:, 1].unsqueeze(1), min=limits[1,0], max=limits[1,1])\n",
    "        axr = torch.clamp(params[:, 2].unsqueeze(1), min=1, max=limits[2,1])\n",
    "        \n",
    "        self.tm[(self.tm == torch.min(self.tm)) & (self.bf == 0)] = float('inf')\n",
    "\n",
    "        adc_prime = adc * (1 - sigma * torch.exp(-tm * axr))\n",
    "        E_vox = torch.exp(-adc_prime * be)\n",
    "\n",
    "        \"\"\"print(\"tm:\", self.tm.shape)\n",
    "        print(\"be:\", self.be.shape)\n",
    "        print(\"bf:\", self.bf.shape)\n",
    "        print(\"adc:\", adc.shape)\n",
    "        print(\"sigma:\", sigma.shape)\n",
    "        print(\"axr:\", axr.shape)\n",
    "        print(\"evox:\", E_vox.shape)\"\"\"\n",
    "\n",
    "        \"\"\"print(\"self.encoder(E_vox)\", self.encoder(E_vox)[0,:])\n",
    "        print(\"params:\", params[0,:])\n",
    "        print(\"adc:\", adc)\n",
    "        print(\"sigma:\", sigma)\n",
    "        print(\"axr:\", axr)\n",
    "        print(\"evox:\", E_vox)\"\"\"\n",
    "\n",
    "        return E_vox, adc_prime, adc, sigma, axr\n"
   ]
  },
  {
   "attachments": {},
   "cell_type": "markdown",
   "metadata": {},
   "source": [
    "### NN continued"
   ]
  },
  {
   "cell_type": "code",
<<<<<<< Updated upstream
   "execution_count": 5,
=======
   "execution_count": 14,
>>>>>>> Stashed changes
   "metadata": {},
   "outputs": [],
   "source": [
    "# define network\n",
    "nparams = 3\n",
    "#because of adc, sigma and axr\n",
    "\n",
    "#converting numpy arrays to pytorch tensors. \n",
    "#be = torch.tensor(be)\n",
    "#bf = torch.tensor(bf)\n",
    "#tm = torch.tensor(tm)\n",
    "be = torch.tensor(be, dtype=torch.float32)\n",
    "bf = torch.tensor(bf, dtype=torch.float32)\n",
    "tm = torch.tensor(tm, dtype=torch.float32)\n",
    "\n",
    "batch_size = 128\n",
    "\n",
    "#initilise network\n",
    "net = Net(be, bf, tm, nparams,limits)\n",
    "\n",
    "#create batch queues for data\n",
    "#// means divide and round down. \n",
    "num_batches = len(sim_E_vox) // batch_size\n",
    "\n",
    "#import the sim_E_vox array into the dataloader\n",
    "#drop_last ignores the last batch if it is the wrong size. \n",
    "#num_workers is about performance. \n",
    "\n",
    "trainloader = utils.DataLoader(torch.from_numpy(sim_E_vox.astype(np.float32)),\n",
    "                                batch_size = batch_size, \n",
    "                                shuffle = True,\n",
    "                                num_workers = 0, #was 2 previously\n",
    "                                drop_last = True)\n",
    "\n",
    "# loss function and optimizer\n",
    "#choosing which loss function to use. \n",
    "#not sure what the optmizer is\n",
    "criterion = nn.MSELoss()\n",
    "optimizer = optim.Adam(net.parameters(), lr = 0.0001)\n",
    "\n",
    "# best loss\n",
    "best = 1e16\n",
    "num_bad_epochs = 0\n",
    "#can increase patience a lot, speed not an issue.\n",
    "patience = 10"
   ]
  },
  {
   "attachments": {},
   "cell_type": "markdown",
   "metadata": {},
   "source": [
    "### Training"
   ]
  },
  {
   "cell_type": "code",
<<<<<<< Updated upstream
   "execution_count": 6,
=======
   "execution_count": 15,
>>>>>>> Stashed changes
   "metadata": {},
   "outputs": [
    {
     "name": "stdout",
     "output_type": "stream",
     "text": [
      "-----------------------------------------------------------------\n",
      "epoch: 0; bad epochs: 0\n"
     ]
    },
    {
     "name": "stderr",
     "output_type": "stream",
     "text": [
<<<<<<< Updated upstream
      "100%|██████████| 7/7 [00:00<00:00, 143.66it/s]\n"
=======
      "100%|██████████| 7/7 [00:00<00:00, 288.93it/s]\n"
>>>>>>> Stashed changes
     ]
    },
    {
     "name": "stdout",
     "output_type": "stream",
     "text": [
<<<<<<< Updated upstream
      "loss: 0.2775915898382664\n",
=======
      "loss: 0.16308661023572818\n",
>>>>>>> Stashed changes
      "####################### saving good model #######################\n",
      "-----------------------------------------------------------------\n",
      "epoch: 1; bad epochs: 0\n"
     ]
    },
    {
     "name": "stderr",
     "output_type": "stream",
     "text": [
<<<<<<< Updated upstream
      "100%|██████████| 7/7 [00:00<00:00, 70.33it/s]\n"
=======
      "100%|██████████| 7/7 [00:00<00:00, 202.01it/s]\n"
>>>>>>> Stashed changes
     ]
    },
    {
     "name": "stdout",
     "output_type": "stream",
     "text": [
<<<<<<< Updated upstream
      "loss: 0.28432774543762207\n",
=======
      "loss: 0.16435408250617048\n",
>>>>>>> Stashed changes
      "-----------------------------------------------------------------\n",
      "epoch: 2; bad epochs: 1\n"
     ]
    },
    {
     "name": "stderr",
     "output_type": "stream",
     "text": [
<<<<<<< Updated upstream
      "100%|██████████| 7/7 [00:00<00:00, 173.64it/s]\n"
=======
      "100%|██████████| 7/7 [00:00<00:00, 298.89it/s]\n"
>>>>>>> Stashed changes
     ]
    },
    {
     "name": "stdout",
     "output_type": "stream",
     "text": [
<<<<<<< Updated upstream
      "loss: 0.27612778544425964\n",
      "####################### saving good model #######################\n",
      "-----------------------------------------------------------------\n",
      "epoch: 3; bad epochs: 0\n"
=======
      "loss: 0.16684207622739847\n",
      "-----------------------------------------------------------------\n",
      "epoch: 3; bad epochs: 2\n"
>>>>>>> Stashed changes
     ]
    },
    {
     "name": "stderr",
     "output_type": "stream",
     "text": [
<<<<<<< Updated upstream
      "100%|██████████| 7/7 [00:00<00:00, 52.84it/s]"
=======
      "100%|██████████| 7/7 [00:00<00:00, 82.40it/s]\n"
>>>>>>> Stashed changes
     ]
    },
    {
     "name": "stdout",
     "output_type": "stream",
     "text": [
<<<<<<< Updated upstream
      "loss: 0.2806946597993374\n",
      "-----------------------------------------------------------------\n",
      "epoch: 4; bad epochs: 1\n"
=======
      "loss: 0.16440204691652802\n",
      "-----------------------------------------------------------------\n",
      "epoch: 4; bad epochs: 3\n"
>>>>>>> Stashed changes
     ]
    },
    {
     "name": "stderr",
     "output_type": "stream",
     "text": [
<<<<<<< Updated upstream
      "\n",
      "100%|██████████| 7/7 [00:00<00:00, 125.22it/s]\n"
=======
      "100%|██████████| 7/7 [00:00<00:00, 145.28it/s]\n"
>>>>>>> Stashed changes
     ]
    },
    {
     "name": "stdout",
     "output_type": "stream",
     "text": [
<<<<<<< Updated upstream
      "loss: 0.27376801893115044\n",
=======
      "loss: 0.1624465157208312\n",
>>>>>>> Stashed changes
      "####################### saving good model #######################\n",
      "-----------------------------------------------------------------\n",
      "epoch: 5; bad epochs: 0\n"
     ]
    },
    {
     "name": "stderr",
     "output_type": "stream",
     "text": [
<<<<<<< Updated upstream
      "100%|██████████| 7/7 [00:00<00:00, 139.66it/s]\n"
=======
      "100%|██████████| 7/7 [00:00<00:00, 46.21it/s]\n"
>>>>>>> Stashed changes
     ]
    },
    {
     "name": "stdout",
     "output_type": "stream",
     "text": [
<<<<<<< Updated upstream
      "loss: 0.278192862868309\n",
=======
      "loss: 0.1626550257089617\n",
>>>>>>> Stashed changes
      "-----------------------------------------------------------------\n",
      "epoch: 6; bad epochs: 1\n"
     ]
    },
    {
     "name": "stderr",
     "output_type": "stream",
     "text": [
<<<<<<< Updated upstream
      "100%|██████████| 7/7 [00:00<00:00, 102.62it/s]\n"
=======
      "100%|██████████| 7/7 [00:00<00:00, 124.93it/s]\n"
>>>>>>> Stashed changes
     ]
    },
    {
     "name": "stdout",
     "output_type": "stream",
     "text": [
<<<<<<< Updated upstream
      "loss: 0.27032381668686867\n",
=======
      "loss: 0.16064425043698186\n",
>>>>>>> Stashed changes
      "####################### saving good model #######################\n",
      "-----------------------------------------------------------------\n",
      "epoch: 7; bad epochs: 0\n"
     ]
    },
    {
     "name": "stderr",
     "output_type": "stream",
     "text": [
<<<<<<< Updated upstream
      "100%|██████████| 7/7 [00:00<00:00, 125.35it/s]\n"
=======
      "100%|██████████| 7/7 [00:00<00:00, 119.88it/s]\n"
>>>>>>> Stashed changes
     ]
    },
    {
     "name": "stdout",
     "output_type": "stream",
     "text": [
<<<<<<< Updated upstream
      "loss: 0.27406806871294975\n",
      "-----------------------------------------------------------------\n",
      "epoch: 8; bad epochs: 1\n"
=======
      "loss: 0.15898379810203875\n",
      "####################### saving good model #######################\n",
      "-----------------------------------------------------------------\n",
      "epoch: 8; bad epochs: 0\n"
>>>>>>> Stashed changes
     ]
    },
    {
     "name": "stderr",
     "output_type": "stream",
     "text": [
<<<<<<< Updated upstream
      "100%|██████████| 7/7 [00:00<00:00, 124.24it/s]\n"
=======
      "100%|██████████| 7/7 [00:00<00:00, 117.94it/s]\n"
>>>>>>> Stashed changes
     ]
    },
    {
     "name": "stdout",
     "output_type": "stream",
     "text": [
<<<<<<< Updated upstream
      "loss: 0.270639032125473\n",
      "-----------------------------------------------------------------\n",
      "epoch: 9; bad epochs: 2\n"
=======
      "loss: 0.15981518389111504\n",
      "-----------------------------------------------------------------\n",
      "epoch: 9; bad epochs: 1\n"
>>>>>>> Stashed changes
     ]
    },
    {
     "name": "stderr",
     "output_type": "stream",
     "text": [
<<<<<<< Updated upstream
      "100%|██████████| 7/7 [00:00<00:00, 123.02it/s]\n"
=======
      "100%|██████████| 7/7 [00:00<00:00, 108.10it/s]\n"
>>>>>>> Stashed changes
     ]
    },
    {
     "name": "stdout",
     "output_type": "stream",
     "text": [
<<<<<<< Updated upstream
      "loss: 0.2723730392754078\n",
      "-----------------------------------------------------------------\n",
      "epoch: 10; bad epochs: 3\n"
=======
      "loss: 0.1588996796984947\n",
      "####################### saving good model #######################\n",
      "-----------------------------------------------------------------\n",
      "epoch: 10; bad epochs: 0\n"
>>>>>>> Stashed changes
     ]
    },
    {
     "name": "stderr",
     "output_type": "stream",
     "text": [
<<<<<<< Updated upstream
      "100%|██████████| 7/7 [00:00<00:00, 132.54it/s]\n"
=======
      "100%|██████████| 7/7 [00:00<00:00, 126.78it/s]\n"
>>>>>>> Stashed changes
     ]
    },
    {
     "name": "stdout",
     "output_type": "stream",
     "text": [
<<<<<<< Updated upstream
      "loss: 0.2712911516427994\n",
      "-----------------------------------------------------------------\n",
      "epoch: 11; bad epochs: 4\n"
=======
      "loss: 0.15794400455917723\n",
      "####################### saving good model #######################\n",
      "-----------------------------------------------------------------\n",
      "epoch: 11; bad epochs: 0\n"
>>>>>>> Stashed changes
     ]
    },
    {
     "name": "stderr",
     "output_type": "stream",
     "text": [
<<<<<<< Updated upstream
      "100%|██████████| 7/7 [00:00<00:00, 131.05it/s]\n"
=======
      "100%|██████████| 7/7 [00:00<00:00, 125.51it/s]\n"
>>>>>>> Stashed changes
     ]
    },
    {
     "name": "stdout",
     "output_type": "stream",
     "text": [
<<<<<<< Updated upstream
      "loss: 0.2746685780584812\n",
      "-----------------------------------------------------------------\n",
      "epoch: 12; bad epochs: 5\n"
=======
      "loss: 0.15935902017507317\n",
      "-----------------------------------------------------------------\n",
      "epoch: 12; bad epochs: 1\n"
>>>>>>> Stashed changes
     ]
    },
    {
     "name": "stderr",
     "output_type": "stream",
     "text": [
<<<<<<< Updated upstream
      "100%|██████████| 7/7 [00:00<00:00, 195.56it/s]\n"
=======
      "100%|██████████| 7/7 [00:00<00:00, 103.55it/s]\n"
>>>>>>> Stashed changes
     ]
    },
    {
     "name": "stdout",
     "output_type": "stream",
     "text": [
<<<<<<< Updated upstream
      "loss: 0.2720135748386383\n",
      "-----------------------------------------------------------------\n",
      "epoch: 13; bad epochs: 6\n"
=======
      "loss: 0.15748235727583945\n",
      "####################### saving good model #######################\n",
      "-----------------------------------------------------------------\n",
      "epoch: 13; bad epochs: 0\n"
>>>>>>> Stashed changes
     ]
    },
    {
     "name": "stderr",
     "output_type": "stream",
     "text": [
<<<<<<< Updated upstream
      "100%|██████████| 7/7 [00:00<00:00, 136.20it/s]\n"
=======
      "100%|██████████| 7/7 [00:00<00:00, 137.02it/s]\n"
>>>>>>> Stashed changes
     ]
    },
    {
     "name": "stdout",
     "output_type": "stream",
     "text": [
<<<<<<< Updated upstream
      "loss: 0.2706361822783947\n",
      "-----------------------------------------------------------------\n",
      "epoch: 14; bad epochs: 7\n"
=======
      "loss: 0.1558411003718488\n",
      "####################### saving good model #######################\n",
      "-----------------------------------------------------------------\n",
      "epoch: 14; bad epochs: 0\n"
>>>>>>> Stashed changes
     ]
    },
    {
     "name": "stderr",
     "output_type": "stream",
     "text": [
<<<<<<< Updated upstream
      "100%|██████████| 7/7 [00:00<00:00, 163.42it/s]\n"
=======
      "100%|██████████| 7/7 [00:00<00:00, 175.91it/s]\n"
>>>>>>> Stashed changes
     ]
    },
    {
     "name": "stdout",
     "output_type": "stream",
     "text": [
<<<<<<< Updated upstream
      "loss: 0.27458667755126953\n",
      "-----------------------------------------------------------------\n",
      "epoch: 15; bad epochs: 8\n"
=======
      "loss: 0.15556811528486325\n",
      "####################### saving good model #######################\n",
      "-----------------------------------------------------------------\n",
      "epoch: 15; bad epochs: 0\n"
>>>>>>> Stashed changes
     ]
    },
    {
     "name": "stderr",
     "output_type": "stream",
     "text": [
<<<<<<< Updated upstream
      "100%|██████████| 7/7 [00:00<00:00, 220.58it/s]\n"
=======
      "100%|██████████| 7/7 [00:00<00:00, 207.91it/s]\n"
>>>>>>> Stashed changes
     ]
    },
    {
     "name": "stdout",
     "output_type": "stream",
     "text": [
<<<<<<< Updated upstream
      "loss: 0.27066653594374657\n",
      "-----------------------------------------------------------------\n",
      "epoch: 16; bad epochs: 9\n"
=======
      "loss: 0.1523978394968329\n",
      "####################### saving good model #######################\n",
      "-----------------------------------------------------------------\n",
      "epoch: 16; bad epochs: 0\n"
>>>>>>> Stashed changes
     ]
    },
    {
     "name": "stderr",
     "output_type": "stream",
     "text": [
<<<<<<< Updated upstream
      "100%|██████████| 7/7 [00:00<00:00, 101.11it/s]"
=======
      "100%|██████████| 7/7 [00:00<00:00, 147.53it/s]\n"
>>>>>>> Stashed changes
     ]
    },
    {
     "name": "stdout",
     "output_type": "stream",
     "text": [
<<<<<<< Updated upstream
      "loss: 0.2706166058778763\n",
      "done, best loss: 0.27032381668686867\n",
=======
      "loss: 0.1544944468622162\n",
      "-----------------------------------------------------------------\n",
      "epoch: 17; bad epochs: 1\n"
     ]
    },
    {
     "name": "stderr",
     "output_type": "stream",
     "text": [
      "100%|██████████| 7/7 [00:00<00:00, 233.00it/s]\n"
     ]
    },
    {
     "name": "stdout",
     "output_type": "stream",
     "text": [
      "loss: 0.15415340847666983\n",
      "-----------------------------------------------------------------\n",
      "epoch: 18; bad epochs: 2\n"
     ]
    },
    {
     "name": "stderr",
     "output_type": "stream",
     "text": [
      "100%|██████████| 7/7 [00:00<00:00, 85.65it/s]\n"
     ]
    },
    {
     "name": "stdout",
     "output_type": "stream",
     "text": [
      "loss: 0.15084510620566632\n",
      "####################### saving good model #######################\n",
      "-----------------------------------------------------------------\n",
      "epoch: 19; bad epochs: 0\n"
     ]
    },
    {
     "name": "stderr",
     "output_type": "stream",
     "text": [
      "100%|██████████| 7/7 [00:00<00:00, 111.87it/s]\n"
     ]
    },
    {
     "name": "stdout",
     "output_type": "stream",
     "text": [
      "loss: 0.1514448683081678\n",
      "-----------------------------------------------------------------\n",
      "epoch: 20; bad epochs: 1\n"
     ]
    },
    {
     "name": "stderr",
     "output_type": "stream",
     "text": [
      "100%|██████████| 7/7 [00:00<00:00, 180.53it/s]\n"
     ]
    },
    {
     "name": "stdout",
     "output_type": "stream",
     "text": [
      "loss: 0.15099008856143548\n",
      "-----------------------------------------------------------------\n",
      "epoch: 21; bad epochs: 2\n"
     ]
    },
    {
     "name": "stderr",
     "output_type": "stream",
     "text": [
      "100%|██████████| 7/7 [00:00<00:00, 101.02it/s]\n"
     ]
    },
    {
     "name": "stdout",
     "output_type": "stream",
     "text": [
      "loss: 0.14897548506180322\n",
      "####################### saving good model #######################\n",
      "-----------------------------------------------------------------\n",
      "epoch: 22; bad epochs: 0\n"
     ]
    },
    {
     "name": "stderr",
     "output_type": "stream",
     "text": [
      "100%|██████████| 7/7 [00:00<00:00, 137.64it/s]\n"
     ]
    },
    {
     "name": "stdout",
     "output_type": "stream",
     "text": [
      "loss: 0.14913035399185542\n",
      "-----------------------------------------------------------------\n",
      "epoch: 23; bad epochs: 1\n"
     ]
    },
    {
     "name": "stderr",
     "output_type": "stream",
     "text": [
      "100%|██████████| 7/7 [00:00<00:00, 94.21it/s]\n"
     ]
    },
    {
     "name": "stdout",
     "output_type": "stream",
     "text": [
      "loss: 0.1488113358465286\n",
      "####################### saving good model #######################\n",
      "-----------------------------------------------------------------\n",
      "epoch: 24; bad epochs: 0\n"
     ]
    },
    {
     "name": "stderr",
     "output_type": "stream",
     "text": [
      "100%|██████████| 7/7 [00:00<00:00, 132.04it/s]\n"
     ]
    },
    {
     "name": "stdout",
     "output_type": "stream",
     "text": [
      "loss: 0.1474124372263016\n",
      "####################### saving good model #######################\n",
      "-----------------------------------------------------------------\n",
      "epoch: 25; bad epochs: 0\n"
     ]
    },
    {
     "name": "stderr",
     "output_type": "stream",
     "text": [
      "100%|██████████| 7/7 [00:00<00:00, 151.05it/s]\n"
     ]
    },
    {
     "name": "stdout",
     "output_type": "stream",
     "text": [
      "loss: 0.1487751198971124\n",
      "-----------------------------------------------------------------\n",
      "epoch: 26; bad epochs: 1\n"
     ]
    },
    {
     "name": "stderr",
     "output_type": "stream",
     "text": [
      "100%|██████████| 7/7 [00:00<00:00, 113.12it/s]\n"
     ]
    },
    {
     "name": "stdout",
     "output_type": "stream",
     "text": [
      "loss: 0.14450397088871456\n",
      "####################### saving good model #######################\n",
      "-----------------------------------------------------------------\n",
      "epoch: 27; bad epochs: 0\n"
     ]
    },
    {
     "name": "stderr",
     "output_type": "stream",
     "text": [
      "100%|██████████| 7/7 [00:00<00:00, 104.20it/s]\n"
     ]
    },
    {
     "name": "stdout",
     "output_type": "stream",
     "text": [
      "loss: 0.1440830175746457\n",
      "####################### saving good model #######################\n",
      "-----------------------------------------------------------------\n",
      "epoch: 28; bad epochs: 0\n"
     ]
    },
    {
     "name": "stderr",
     "output_type": "stream",
     "text": [
      "100%|██████████| 7/7 [00:00<00:00, 87.50it/s]\n"
     ]
    },
    {
     "name": "stdout",
     "output_type": "stream",
     "text": [
      "loss: 0.14613857819263634\n",
      "-----------------------------------------------------------------\n",
      "epoch: 29; bad epochs: 1\n"
     ]
    },
    {
     "name": "stderr",
     "output_type": "stream",
     "text": [
      "100%|██████████| 7/7 [00:00<00:00, 98.72it/s]\n"
     ]
    },
    {
     "name": "stdout",
     "output_type": "stream",
     "text": [
      "loss: 0.14199275061409672\n",
      "####################### saving good model #######################\n",
      "-----------------------------------------------------------------\n",
      "epoch: 30; bad epochs: 0\n"
     ]
    },
    {
     "name": "stderr",
     "output_type": "stream",
     "text": [
      "100%|██████████| 7/7 [00:00<00:00, 115.96it/s]\n"
     ]
    },
    {
     "name": "stdout",
     "output_type": "stream",
     "text": [
      "loss: 0.14032374681347284\n",
      "####################### saving good model #######################\n",
      "-----------------------------------------------------------------\n",
      "epoch: 31; bad epochs: 0\n"
     ]
    },
    {
     "name": "stderr",
     "output_type": "stream",
     "text": [
      "100%|██████████| 7/7 [00:00<00:00, 221.26it/s]\n"
     ]
    },
    {
     "name": "stdout",
     "output_type": "stream",
     "text": [
      "loss: 0.13905723236592502\n",
      "####################### saving good model #######################\n",
      "-----------------------------------------------------------------\n",
      "epoch: 32; bad epochs: 0\n"
     ]
    },
    {
     "name": "stderr",
     "output_type": "stream",
     "text": [
      "100%|██████████| 7/7 [00:00<00:00, 193.13it/s]\n"
     ]
    },
    {
     "name": "stdout",
     "output_type": "stream",
     "text": [
      "loss: 0.13842308282794766\n",
      "####################### saving good model #######################\n",
      "-----------------------------------------------------------------\n",
      "epoch: 33; bad epochs: 0\n"
     ]
    },
    {
     "name": "stderr",
     "output_type": "stream",
     "text": [
      "100%|██████████| 7/7 [00:00<00:00, 191.52it/s]\n"
     ]
    },
    {
     "name": "stdout",
     "output_type": "stream",
     "text": [
      "loss: 0.13967690582731584\n",
      "-----------------------------------------------------------------\n",
      "epoch: 34; bad epochs: 1\n"
     ]
    },
    {
     "name": "stderr",
     "output_type": "stream",
     "text": [
      "100%|██████████| 7/7 [00:00<00:00, 158.30it/s]\n"
     ]
    },
    {
     "name": "stdout",
     "output_type": "stream",
     "text": [
      "loss: 0.13814516726937054\n",
      "####################### saving good model #######################\n",
      "-----------------------------------------------------------------\n",
      "epoch: 35; bad epochs: 0\n"
     ]
    },
    {
     "name": "stderr",
     "output_type": "stream",
     "text": [
      "100%|██████████| 7/7 [00:00<00:00, 134.14it/s]\n"
     ]
    },
    {
     "name": "stdout",
     "output_type": "stream",
     "text": [
      "loss: 0.135908522961235\n",
      "####################### saving good model #######################\n",
      "-----------------------------------------------------------------\n",
      "epoch: 36; bad epochs: 0\n"
     ]
    },
    {
     "name": "stderr",
     "output_type": "stream",
     "text": [
      "100%|██████████| 7/7 [00:00<00:00, 102.98it/s]\n"
     ]
    },
    {
     "name": "stdout",
     "output_type": "stream",
     "text": [
      "loss: 0.1377039731496062\n",
      "-----------------------------------------------------------------\n",
      "epoch: 37; bad epochs: 1\n"
     ]
    },
    {
     "name": "stderr",
     "output_type": "stream",
     "text": [
      "100%|██████████| 7/7 [00:00<00:00, 261.94it/s]\n"
     ]
    },
    {
     "name": "stdout",
     "output_type": "stream",
     "text": [
      "loss: 0.13344085540970294\n",
      "####################### saving good model #######################\n",
      "-----------------------------------------------------------------\n",
      "epoch: 38; bad epochs: 0\n"
     ]
    },
    {
     "name": "stderr",
     "output_type": "stream",
     "text": [
      "100%|██████████| 7/7 [00:00<00:00, 201.49it/s]\n"
     ]
    },
    {
     "name": "stdout",
     "output_type": "stream",
     "text": [
      "loss: 0.13570455756411193\n",
      "-----------------------------------------------------------------\n",
      "epoch: 39; bad epochs: 1\n"
     ]
    },
    {
     "name": "stderr",
     "output_type": "stream",
     "text": [
      "100%|██████████| 7/7 [00:00<00:00, 129.66it/s]\n"
     ]
    },
    {
     "name": "stdout",
     "output_type": "stream",
     "text": [
      "loss: 0.13033241534724024\n",
      "####################### saving good model #######################\n",
      "-----------------------------------------------------------------\n",
      "epoch: 40; bad epochs: 0\n"
     ]
    },
    {
     "name": "stderr",
     "output_type": "stream",
     "text": [
      "100%|██████████| 7/7 [00:00<00:00, 124.29it/s]\n"
     ]
    },
    {
     "name": "stdout",
     "output_type": "stream",
     "text": [
      "loss: 0.13200245269260136\n",
      "-----------------------------------------------------------------\n",
      "epoch: 41; bad epochs: 1\n"
     ]
    },
    {
     "name": "stderr",
     "output_type": "stream",
     "text": [
      "100%|██████████| 7/7 [00:00<00:00, 78.59it/s]\n"
     ]
    },
    {
     "name": "stdout",
     "output_type": "stream",
     "text": [
      "loss: 0.12837920918859108\n",
      "####################### saving good model #######################\n",
      "-----------------------------------------------------------------\n",
      "epoch: 42; bad epochs: 0\n"
     ]
    },
    {
     "name": "stderr",
     "output_type": "stream",
     "text": [
      "100%|██████████| 7/7 [00:00<00:00, 184.24it/s]\n"
     ]
    },
    {
     "name": "stdout",
     "output_type": "stream",
     "text": [
      "loss: 0.12816191061295887\n",
      "####################### saving good model #######################\n",
      "-----------------------------------------------------------------\n",
      "epoch: 43; bad epochs: 0\n"
     ]
    },
    {
     "name": "stderr",
     "output_type": "stream",
     "text": [
      "100%|██████████| 7/7 [00:00<00:00, 134.11it/s]\n"
     ]
    },
    {
     "name": "stdout",
     "output_type": "stream",
     "text": [
      "loss: 0.12757273267260844\n",
      "####################### saving good model #######################\n",
      "-----------------------------------------------------------------\n",
      "epoch: 44; bad epochs: 0\n"
     ]
    },
    {
     "name": "stderr",
     "output_type": "stream",
     "text": [
      "100%|██████████| 7/7 [00:00<00:00, 126.66it/s]\n"
     ]
    },
    {
     "name": "stdout",
     "output_type": "stream",
     "text": [
      "loss: 0.1280474148111658\n",
      "-----------------------------------------------------------------\n",
      "epoch: 45; bad epochs: 1\n"
     ]
    },
    {
     "name": "stderr",
     "output_type": "stream",
     "text": [
      "100%|██████████| 7/7 [00:00<00:00, 133.63it/s]\n"
     ]
    },
    {
     "name": "stdout",
     "output_type": "stream",
     "text": [
      "loss: 0.12571272994468186\n",
      "####################### saving good model #######################\n",
      "-----------------------------------------------------------------\n",
      "epoch: 46; bad epochs: 0\n"
     ]
    },
    {
     "name": "stderr",
     "output_type": "stream",
     "text": [
      "100%|██████████| 7/7 [00:00<00:00, 179.61it/s]\n"
     ]
    },
    {
     "name": "stdout",
     "output_type": "stream",
     "text": [
      "loss: 0.12361324555811566\n",
      "####################### saving good model #######################\n",
      "-----------------------------------------------------------------\n",
      "epoch: 47; bad epochs: 0\n"
     ]
    },
    {
     "name": "stderr",
     "output_type": "stream",
     "text": [
      "100%|██████████| 7/7 [00:00<00:00, 170.32it/s]\n"
     ]
    },
    {
     "name": "stdout",
     "output_type": "stream",
     "text": [
      "loss: 0.12195380103440467\n",
      "####################### saving good model #######################\n",
      "-----------------------------------------------------------------\n",
      "epoch: 48; bad epochs: 0\n"
     ]
    },
    {
     "name": "stderr",
     "output_type": "stream",
     "text": [
      "100%|██████████| 7/7 [00:00<00:00, 133.90it/s]\n"
     ]
    },
    {
     "name": "stdout",
     "output_type": "stream",
     "text": [
      "loss: 0.12465929691425087\n",
      "-----------------------------------------------------------------\n",
      "epoch: 49; bad epochs: 1\n"
     ]
    },
    {
     "name": "stderr",
     "output_type": "stream",
     "text": [
      "100%|██████████| 7/7 [00:00<00:00, 173.71it/s]\n"
     ]
    },
    {
     "name": "stdout",
     "output_type": "stream",
     "text": [
      "loss: 0.12277079105811087\n",
      "-----------------------------------------------------------------\n",
      "epoch: 50; bad epochs: 2\n"
     ]
    },
    {
     "name": "stderr",
     "output_type": "stream",
     "text": [
      "100%|██████████| 7/7 [00:00<00:00, 150.74it/s]\n"
     ]
    },
    {
     "name": "stdout",
     "output_type": "stream",
     "text": [
      "loss: 0.11994906067445806\n",
      "####################### saving good model #######################\n",
      "-----------------------------------------------------------------\n",
      "epoch: 51; bad epochs: 0\n"
     ]
    },
    {
     "name": "stderr",
     "output_type": "stream",
     "text": [
      "100%|██████████| 7/7 [00:00<00:00, 89.95it/s]\n"
     ]
    },
    {
     "name": "stdout",
     "output_type": "stream",
     "text": [
      "loss: 0.11917646572538526\n",
      "####################### saving good model #######################\n",
      "-----------------------------------------------------------------\n",
      "epoch: 52; bad epochs: 0\n"
     ]
    },
    {
     "name": "stderr",
     "output_type": "stream",
     "text": [
      "100%|██████████| 7/7 [00:00<00:00, 105.38it/s]\n"
     ]
    },
    {
     "name": "stdout",
     "output_type": "stream",
     "text": [
      "loss: 0.1192618576561272\n",
      "-----------------------------------------------------------------\n",
      "epoch: 53; bad epochs: 1\n"
     ]
    },
    {
     "name": "stderr",
     "output_type": "stream",
     "text": [
      "100%|██████████| 7/7 [00:00<00:00, 192.73it/s]\n"
     ]
    },
    {
     "name": "stdout",
     "output_type": "stream",
     "text": [
      "loss: 0.11699785206025776\n",
      "####################### saving good model #######################\n",
      "-----------------------------------------------------------------\n",
      "epoch: 54; bad epochs: 0\n"
     ]
    },
    {
     "name": "stderr",
     "output_type": "stream",
     "text": [
      "100%|██████████| 7/7 [00:00<00:00, 158.40it/s]\n"
     ]
    },
    {
     "name": "stdout",
     "output_type": "stream",
     "text": [
      "loss: 0.11657132296757008\n",
      "####################### saving good model #######################\n",
      "-----------------------------------------------------------------\n",
      "epoch: 55; bad epochs: 0\n"
     ]
    },
    {
     "name": "stderr",
     "output_type": "stream",
     "text": [
      "100%|██████████| 7/7 [00:00<00:00, 138.88it/s]\n"
     ]
    },
    {
     "name": "stdout",
     "output_type": "stream",
     "text": [
      "loss: 0.11836356204604073\n",
      "-----------------------------------------------------------------\n",
      "epoch: 56; bad epochs: 1\n"
     ]
    },
    {
     "name": "stderr",
     "output_type": "stream",
     "text": [
      "100%|██████████| 7/7 [00:00<00:00, 162.51it/s]\n"
     ]
    },
    {
     "name": "stdout",
     "output_type": "stream",
     "text": [
      "loss: 0.11562309202676034\n",
      "####################### saving good model #######################\n",
      "-----------------------------------------------------------------\n",
      "epoch: 57; bad epochs: 0\n"
     ]
    },
    {
     "name": "stderr",
     "output_type": "stream",
     "text": [
      "100%|██████████| 7/7 [00:00<00:00, 135.12it/s]\n"
     ]
    },
    {
     "name": "stdout",
     "output_type": "stream",
     "text": [
      "loss: 0.11276995221807234\n",
      "####################### saving good model #######################\n",
      "-----------------------------------------------------------------\n",
      "epoch: 58; bad epochs: 0\n"
     ]
    },
    {
     "name": "stderr",
     "output_type": "stream",
     "text": [
      "100%|██████████| 7/7 [00:00<00:00, 184.78it/s]\n"
     ]
    },
    {
     "name": "stdout",
     "output_type": "stream",
     "text": [
      "loss: 0.11296563007476082\n",
      "-----------------------------------------------------------------\n",
      "epoch: 59; bad epochs: 1\n"
     ]
    },
    {
     "name": "stderr",
     "output_type": "stream",
     "text": [
      "100%|██████████| 7/7 [00:00<00:00, 134.89it/s]\n"
     ]
    },
    {
     "name": "stdout",
     "output_type": "stream",
     "text": [
      "loss: 0.11167188330907729\n",
      "####################### saving good model #######################\n",
      "-----------------------------------------------------------------\n",
      "epoch: 60; bad epochs: 0\n"
     ]
    },
    {
     "name": "stderr",
     "output_type": "stream",
     "text": [
      "100%|██████████| 7/7 [00:00<00:00, 198.97it/s]\n"
     ]
    },
    {
     "name": "stdout",
     "output_type": "stream",
     "text": [
      "loss: 0.11143341521643275\n",
      "####################### saving good model #######################\n",
      "-----------------------------------------------------------------\n",
      "epoch: 61; bad epochs: 0\n"
     ]
    },
    {
     "name": "stderr",
     "output_type": "stream",
     "text": [
      "100%|██████████| 7/7 [00:00<00:00, 117.44it/s]\n"
     ]
    },
    {
     "name": "stdout",
     "output_type": "stream",
     "text": [
      "loss: 0.10844212163559482\n",
      "####################### saving good model #######################\n",
      "-----------------------------------------------------------------\n",
      "epoch: 62; bad epochs: 0\n"
     ]
    },
    {
     "name": "stderr",
     "output_type": "stream",
     "text": [
      "100%|██████████| 7/7 [00:00<00:00, 233.34it/s]\n"
     ]
    },
    {
     "name": "stdout",
     "output_type": "stream",
     "text": [
      "loss: 0.10778595729299928\n",
      "####################### saving good model #######################\n",
      "-----------------------------------------------------------------\n",
      "epoch: 63; bad epochs: 0\n"
     ]
    },
    {
     "name": "stderr",
     "output_type": "stream",
     "text": [
      "100%|██████████| 7/7 [00:00<00:00, 158.99it/s]\n"
     ]
    },
    {
     "name": "stdout",
     "output_type": "stream",
     "text": [
      "loss: 0.10899128977249248\n",
      "-----------------------------------------------------------------\n",
      "epoch: 64; bad epochs: 1\n"
     ]
    },
    {
     "name": "stderr",
     "output_type": "stream",
     "text": [
      "100%|██████████| 7/7 [00:00<00:00, 207.00it/s]\n"
     ]
    },
    {
     "name": "stdout",
     "output_type": "stream",
     "text": [
      "loss: 0.10749906009646754\n",
      "####################### saving good model #######################\n",
      "-----------------------------------------------------------------\n",
      "epoch: 65; bad epochs: 0\n"
     ]
    },
    {
     "name": "stderr",
     "output_type": "stream",
     "text": [
      "100%|██████████| 7/7 [00:00<00:00, 168.74it/s]\n"
     ]
    },
    {
     "name": "stdout",
     "output_type": "stream",
     "text": [
      "loss: 0.10619764384195751\n",
      "####################### saving good model #######################\n",
      "-----------------------------------------------------------------\n",
      "epoch: 66; bad epochs: 0\n"
     ]
    },
    {
     "name": "stderr",
     "output_type": "stream",
     "text": [
      "100%|██████████| 7/7 [00:00<00:00, 105.62it/s]\n"
     ]
    },
    {
     "name": "stdout",
     "output_type": "stream",
     "text": [
      "loss: 0.1068144376323437\n",
      "-----------------------------------------------------------------\n",
      "epoch: 67; bad epochs: 1\n"
     ]
    },
    {
     "name": "stderr",
     "output_type": "stream",
     "text": [
      "100%|██████████| 7/7 [00:00<00:00, 198.69it/s]\n"
     ]
    },
    {
     "name": "stdout",
     "output_type": "stream",
     "text": [
      "loss: 0.1043767401831886\n",
      "####################### saving good model #######################\n",
      "-----------------------------------------------------------------\n",
      "epoch: 68; bad epochs: 0\n"
     ]
    },
    {
     "name": "stderr",
     "output_type": "stream",
     "text": [
      "100%|██████████| 7/7 [00:00<00:00, 187.51it/s]\n"
     ]
    },
    {
     "name": "stdout",
     "output_type": "stream",
     "text": [
      "loss: 0.10549480031336418\n",
      "-----------------------------------------------------------------\n",
      "epoch: 69; bad epochs: 1\n"
     ]
    },
    {
     "name": "stderr",
     "output_type": "stream",
     "text": [
      "100%|██████████| 7/7 [00:00<00:00, 128.96it/s]\n"
     ]
    },
    {
     "name": "stdout",
     "output_type": "stream",
     "text": [
      "loss: 0.10240882141347518\n",
      "####################### saving good model #######################\n",
      "-----------------------------------------------------------------\n",
      "epoch: 70; bad epochs: 0\n"
     ]
    },
    {
     "name": "stderr",
     "output_type": "stream",
     "text": [
      "100%|██████████| 7/7 [00:00<00:00, 147.74it/s]\n"
     ]
    },
    {
     "name": "stdout",
     "output_type": "stream",
     "text": [
      "loss: 0.10330663644976995\n",
      "-----------------------------------------------------------------\n",
      "epoch: 71; bad epochs: 1\n"
     ]
    },
    {
     "name": "stderr",
     "output_type": "stream",
     "text": [
      "100%|██████████| 7/7 [00:00<00:00, 98.26it/s]\n"
     ]
    },
    {
     "name": "stdout",
     "output_type": "stream",
     "text": [
      "loss: 0.10318627404306135\n",
      "-----------------------------------------------------------------\n",
      "epoch: 72; bad epochs: 2\n"
     ]
    },
    {
     "name": "stderr",
     "output_type": "stream",
     "text": [
      "100%|██████████| 7/7 [00:00<00:00, 90.58it/s]\n"
     ]
    },
    {
     "name": "stdout",
     "output_type": "stream",
     "text": [
      "loss: 0.10151422532650593\n",
      "####################### saving good model #######################\n",
      "-----------------------------------------------------------------\n",
      "epoch: 73; bad epochs: 0\n"
     ]
    },
    {
     "name": "stderr",
     "output_type": "stream",
     "text": [
      "100%|██████████| 7/7 [00:00<00:00, 148.53it/s]\n"
     ]
    },
    {
     "name": "stdout",
     "output_type": "stream",
     "text": [
      "loss: 0.10089313485926088\n",
      "####################### saving good model #######################\n",
      "-----------------------------------------------------------------\n",
      "epoch: 74; bad epochs: 0\n"
     ]
    },
    {
     "name": "stderr",
     "output_type": "stream",
     "text": [
      "100%|██████████| 7/7 [00:00<00:00, 118.55it/s]\n"
     ]
    },
    {
     "name": "stdout",
     "output_type": "stream",
     "text": [
      "loss: 0.10070862029819769\n",
      "####################### saving good model #######################\n",
      "-----------------------------------------------------------------\n",
      "epoch: 75; bad epochs: 0\n"
     ]
    },
    {
     "name": "stderr",
     "output_type": "stream",
     "text": [
      "100%|██████████| 7/7 [00:00<00:00, 139.33it/s]\n"
     ]
    },
    {
     "name": "stdout",
     "output_type": "stream",
     "text": [
      "loss: 0.10103413034769058\n",
      "-----------------------------------------------------------------\n",
      "epoch: 76; bad epochs: 1\n"
     ]
    },
    {
     "name": "stderr",
     "output_type": "stream",
     "text": [
      "100%|██████████| 7/7 [00:00<00:00, 138.72it/s]\n"
     ]
    },
    {
     "name": "stdout",
     "output_type": "stream",
     "text": [
      "loss: 0.10073586808759767\n",
      "-----------------------------------------------------------------\n",
      "epoch: 77; bad epochs: 2\n"
     ]
    },
    {
     "name": "stderr",
     "output_type": "stream",
     "text": [
      "100%|██████████| 7/7 [00:00<00:00, 126.31it/s]\n"
     ]
    },
    {
     "name": "stdout",
     "output_type": "stream",
     "text": [
      "loss: 0.09862459147959718\n",
      "####################### saving good model #######################\n",
      "-----------------------------------------------------------------\n",
      "epoch: 78; bad epochs: 0\n"
     ]
    },
    {
     "name": "stderr",
     "output_type": "stream",
     "text": [
      "100%|██████████| 7/7 [00:00<00:00, 151.64it/s]\n"
     ]
    },
    {
     "name": "stdout",
     "output_type": "stream",
     "text": [
      "loss: 0.09889687396528349\n",
      "-----------------------------------------------------------------\n",
      "epoch: 79; bad epochs: 1\n"
     ]
    },
    {
     "name": "stderr",
     "output_type": "stream",
     "text": [
      "100%|██████████| 7/7 [00:00<00:00, 102.68it/s]\n"
     ]
    },
    {
     "name": "stdout",
     "output_type": "stream",
     "text": [
      "loss: 0.09868789270700044\n",
      "-----------------------------------------------------------------\n",
      "epoch: 80; bad epochs: 2\n"
     ]
    },
    {
     "name": "stderr",
     "output_type": "stream",
     "text": [
      "100%|██████████| 7/7 [00:00<00:00, 105.98it/s]\n"
     ]
    },
    {
     "name": "stdout",
     "output_type": "stream",
     "text": [
      "loss: 0.09837515629373556\n",
      "####################### saving good model #######################\n",
      "-----------------------------------------------------------------\n",
      "epoch: 81; bad epochs: 0\n"
     ]
    },
    {
     "name": "stderr",
     "output_type": "stream",
     "text": [
      "100%|██████████| 7/7 [00:00<00:00, 98.84it/s]\n"
     ]
    },
    {
     "name": "stdout",
     "output_type": "stream",
     "text": [
      "loss: 0.09876445565181033\n",
      "-----------------------------------------------------------------\n",
      "epoch: 82; bad epochs: 1\n"
     ]
    },
    {
     "name": "stderr",
     "output_type": "stream",
     "text": [
      "100%|██████████| 7/7 [00:00<00:00, 120.45it/s]\n"
     ]
    },
    {
     "name": "stdout",
     "output_type": "stream",
     "text": [
      "loss: 0.09849388771065527\n",
      "-----------------------------------------------------------------\n",
      "epoch: 83; bad epochs: 2\n"
     ]
    },
    {
     "name": "stderr",
     "output_type": "stream",
     "text": [
      "100%|██████████| 7/7 [00:00<00:00, 180.34it/s]\n"
     ]
    },
    {
     "name": "stdout",
     "output_type": "stream",
     "text": [
      "loss: 0.09851978717245902\n",
      "-----------------------------------------------------------------\n",
      "epoch: 84; bad epochs: 3\n"
     ]
    },
    {
     "name": "stderr",
     "output_type": "stream",
     "text": [
      "100%|██████████| 7/7 [00:00<00:00, 152.82it/s]\n"
     ]
    },
    {
     "name": "stdout",
     "output_type": "stream",
     "text": [
      "loss: 0.0972589314397862\n",
      "####################### saving good model #######################\n",
      "-----------------------------------------------------------------\n",
      "epoch: 85; bad epochs: 0\n"
     ]
    },
    {
     "name": "stderr",
     "output_type": "stream",
     "text": [
      "100%|██████████| 7/7 [00:00<00:00, 142.58it/s]\n"
     ]
    },
    {
     "name": "stdout",
     "output_type": "stream",
     "text": [
      "loss: 0.0966610607608888\n",
      "####################### saving good model #######################\n",
      "-----------------------------------------------------------------\n",
      "epoch: 86; bad epochs: 0\n"
     ]
    },
    {
     "name": "stderr",
     "output_type": "stream",
     "text": [
      "100%|██████████| 7/7 [00:00<00:00, 155.01it/s]\n"
     ]
    },
    {
     "name": "stdout",
     "output_type": "stream",
     "text": [
      "loss: 0.09592548864346688\n",
      "####################### saving good model #######################\n",
      "-----------------------------------------------------------------\n",
      "epoch: 87; bad epochs: 0\n"
     ]
    },
    {
     "name": "stderr",
     "output_type": "stream",
     "text": [
      "100%|██████████| 7/7 [00:00<00:00, 203.82it/s]\n"
     ]
    },
    {
     "name": "stdout",
     "output_type": "stream",
     "text": [
      "loss: 0.09712977269156102\n",
      "-----------------------------------------------------------------\n",
      "epoch: 88; bad epochs: 1\n"
     ]
    },
    {
     "name": "stderr",
     "output_type": "stream",
     "text": [
      "100%|██████████| 7/7 [00:00<00:00, 187.79it/s]\n"
     ]
    },
    {
     "name": "stdout",
     "output_type": "stream",
     "text": [
      "loss: 0.0962366523908905\n",
      "-----------------------------------------------------------------\n",
      "epoch: 89; bad epochs: 2\n"
     ]
    },
    {
     "name": "stderr",
     "output_type": "stream",
     "text": [
      "100%|██████████| 7/7 [00:00<00:00, 136.89it/s]\n"
     ]
    },
    {
     "name": "stdout",
     "output_type": "stream",
     "text": [
      "loss: 0.09607494119029185\n",
      "-----------------------------------------------------------------\n",
      "epoch: 90; bad epochs: 3\n"
     ]
    },
    {
     "name": "stderr",
     "output_type": "stream",
     "text": [
      "100%|██████████| 7/7 [00:00<00:00, 127.23it/s]\n"
     ]
    },
    {
     "name": "stdout",
     "output_type": "stream",
     "text": [
      "loss: 0.09557315749004967\n",
      "####################### saving good model #######################\n",
      "-----------------------------------------------------------------\n",
      "epoch: 91; bad epochs: 0\n"
     ]
    },
    {
     "name": "stderr",
     "output_type": "stream",
     "text": [
      "100%|██████████| 7/7 [00:00<00:00, 274.20it/s]\n"
     ]
    },
    {
     "name": "stdout",
     "output_type": "stream",
     "text": [
      "loss: 0.09435300888707399\n",
      "####################### saving good model #######################\n",
      "-----------------------------------------------------------------\n",
      "epoch: 92; bad epochs: 0\n"
     ]
    },
    {
     "name": "stderr",
     "output_type": "stream",
     "text": [
      "100%|██████████| 7/7 [00:00<00:00, 55.22it/s]\n"
     ]
    },
    {
     "name": "stdout",
     "output_type": "stream",
     "text": [
      "loss: 0.0950652567050685\n",
      "-----------------------------------------------------------------\n",
      "epoch: 93; bad epochs: 1\n"
     ]
    },
    {
     "name": "stderr",
     "output_type": "stream",
     "text": [
      "100%|██████████| 7/7 [00:00<00:00, 122.92it/s]\n"
     ]
    },
    {
     "name": "stdout",
     "output_type": "stream",
     "text": [
      "loss: 0.09698503562024301\n",
      "-----------------------------------------------------------------\n",
      "epoch: 94; bad epochs: 2\n"
     ]
    },
    {
     "name": "stderr",
     "output_type": "stream",
     "text": [
      "100%|██████████| 7/7 [00:00<00:00, 152.07it/s]\n"
     ]
    },
    {
     "name": "stdout",
     "output_type": "stream",
     "text": [
      "loss: 0.09456436879860236\n",
      "-----------------------------------------------------------------\n",
      "epoch: 95; bad epochs: 3\n"
     ]
    },
    {
     "name": "stderr",
     "output_type": "stream",
     "text": [
      "100%|██████████| 7/7 [00:00<00:00, 120.47it/s]\n"
     ]
    },
    {
     "name": "stdout",
     "output_type": "stream",
     "text": [
      "loss: 0.0960706467523466\n",
      "-----------------------------------------------------------------\n",
      "epoch: 96; bad epochs: 4\n"
     ]
    },
    {
     "name": "stderr",
     "output_type": "stream",
     "text": [
      "100%|██████████| 7/7 [00:00<00:00, 271.89it/s]\n"
     ]
    },
    {
     "name": "stdout",
     "output_type": "stream",
     "text": [
      "loss: 0.09405791026628095\n",
      "####################### saving good model #######################\n",
      "-----------------------------------------------------------------\n",
      "epoch: 97; bad epochs: 0\n"
     ]
    },
    {
     "name": "stderr",
     "output_type": "stream",
     "text": [
      "100%|██████████| 7/7 [00:00<00:00, 91.40it/s]\n"
     ]
    },
    {
     "name": "stdout",
     "output_type": "stream",
     "text": [
      "loss: 0.09527458613860773\n",
      "-----------------------------------------------------------------\n",
      "epoch: 98; bad epochs: 1\n"
     ]
    },
    {
     "name": "stderr",
     "output_type": "stream",
     "text": [
      "100%|██████████| 7/7 [00:00<00:00, 169.89it/s]\n"
     ]
    },
    {
     "name": "stdout",
     "output_type": "stream",
     "text": [
      "loss: 0.09355266083357561\n",
      "####################### saving good model #######################\n",
      "-----------------------------------------------------------------\n",
      "epoch: 99; bad epochs: 0\n"
     ]
    },
    {
     "name": "stderr",
     "output_type": "stream",
     "text": [
      "100%|██████████| 7/7 [00:00<00:00, 112.99it/s]\n"
     ]
    },
    {
     "name": "stdout",
     "output_type": "stream",
     "text": [
      "loss: 0.0946579373438197\n",
      "-----------------------------------------------------------------\n",
      "epoch: 100; bad epochs: 1\n"
     ]
    },
    {
     "name": "stderr",
     "output_type": "stream",
     "text": [
      "100%|██████████| 7/7 [00:00<00:00, 149.19it/s]\n"
     ]
    },
    {
     "name": "stdout",
     "output_type": "stream",
     "text": [
      "loss: 0.09714545763603456\n",
      "-----------------------------------------------------------------\n",
      "epoch: 101; bad epochs: 2\n"
     ]
    },
    {
     "name": "stderr",
     "output_type": "stream",
     "text": [
      "100%|██████████| 7/7 [00:00<00:00, 157.50it/s]\n"
     ]
    },
    {
     "name": "stdout",
     "output_type": "stream",
     "text": [
      "loss: 0.09476817459529115\n",
      "-----------------------------------------------------------------\n",
      "epoch: 102; bad epochs: 3\n"
     ]
    },
    {
     "name": "stderr",
     "output_type": "stream",
     "text": [
      "100%|██████████| 7/7 [00:00<00:00, 122.55it/s]\n"
     ]
    },
    {
     "name": "stdout",
     "output_type": "stream",
     "text": [
      "loss: 0.09468760716592273\n",
      "-----------------------------------------------------------------\n",
      "epoch: 103; bad epochs: 4\n"
     ]
    },
    {
     "name": "stderr",
     "output_type": "stream",
     "text": [
      "100%|██████████| 7/7 [00:00<00:00, 104.08it/s]\n"
     ]
    },
    {
     "name": "stdout",
     "output_type": "stream",
     "text": [
      "loss: 0.0929617991770815\n",
      "####################### saving good model #######################\n",
      "-----------------------------------------------------------------\n",
      "epoch: 104; bad epochs: 0\n"
     ]
    },
    {
     "name": "stderr",
     "output_type": "stream",
     "text": [
      "100%|██████████| 7/7 [00:00<00:00, 212.63it/s]\n"
     ]
    },
    {
     "name": "stdout",
     "output_type": "stream",
     "text": [
      "loss: 0.09449307611106803\n",
      "-----------------------------------------------------------------\n",
      "epoch: 105; bad epochs: 1\n"
     ]
    },
    {
     "name": "stderr",
     "output_type": "stream",
     "text": [
      "100%|██████████| 7/7 [00:00<00:00, 77.98it/s]\n"
     ]
    },
    {
     "name": "stdout",
     "output_type": "stream",
     "text": [
      "loss: 0.09443190777362802\n",
      "-----------------------------------------------------------------\n",
      "epoch: 106; bad epochs: 2\n"
     ]
    },
    {
     "name": "stderr",
     "output_type": "stream",
     "text": [
      "100%|██████████| 7/7 [00:00<00:00, 107.77it/s]\n"
     ]
    },
    {
     "name": "stdout",
     "output_type": "stream",
     "text": [
      "loss: 0.09391595119371435\n",
      "-----------------------------------------------------------------\n",
      "epoch: 107; bad epochs: 3\n"
     ]
    },
    {
     "name": "stderr",
     "output_type": "stream",
     "text": [
      "100%|██████████| 7/7 [00:00<00:00, 227.47it/s]\n"
     ]
    },
    {
     "name": "stdout",
     "output_type": "stream",
     "text": [
      "loss: 0.095749635927402\n",
      "-----------------------------------------------------------------\n",
      "epoch: 108; bad epochs: 4\n"
     ]
    },
    {
     "name": "stderr",
     "output_type": "stream",
     "text": [
      "100%|██████████| 7/7 [00:00<00:00, 199.50it/s]\n"
     ]
    },
    {
     "name": "stdout",
     "output_type": "stream",
     "text": [
      "loss: 0.0950966904793892\n",
      "-----------------------------------------------------------------\n",
      "epoch: 109; bad epochs: 5\n"
     ]
    },
    {
     "name": "stderr",
     "output_type": "stream",
     "text": [
      "100%|██████████| 7/7 [00:00<00:00, 167.03it/s]\n"
     ]
    },
    {
     "name": "stdout",
     "output_type": "stream",
     "text": [
      "loss: 0.09638230479092769\n",
      "-----------------------------------------------------------------\n",
      "epoch: 110; bad epochs: 6\n"
     ]
    },
    {
     "name": "stderr",
     "output_type": "stream",
     "text": [
      "100%|██████████| 7/7 [00:00<00:00, 130.89it/s]\n"
     ]
    },
    {
     "name": "stdout",
     "output_type": "stream",
     "text": [
      "loss: 0.09410675881554911\n",
      "-----------------------------------------------------------------\n",
      "epoch: 111; bad epochs: 7\n"
     ]
    },
    {
     "name": "stderr",
     "output_type": "stream",
     "text": [
      "100%|██████████| 7/7 [00:00<00:00, 109.36it/s]\n"
     ]
    },
    {
     "name": "stdout",
     "output_type": "stream",
     "text": [
      "loss: 0.09566767034831124\n",
      "-----------------------------------------------------------------\n",
      "epoch: 112; bad epochs: 8\n"
     ]
    },
    {
     "name": "stderr",
     "output_type": "stream",
     "text": [
      "100%|██████████| 7/7 [00:00<00:00, 216.02it/s]\n"
     ]
    },
    {
     "name": "stdout",
     "output_type": "stream",
     "text": [
      "loss: 0.09424782408820657\n",
      "-----------------------------------------------------------------\n",
      "epoch: 113; bad epochs: 9\n"
     ]
    },
    {
     "name": "stderr",
     "output_type": "stream",
     "text": [
      "100%|██████████| 7/7 [00:00<00:00, 165.43it/s]"
     ]
    },
    {
     "name": "stdout",
     "output_type": "stream",
     "text": [
      "loss: 0.09408751688191791\n",
      "done, best loss: 0.0929617991770815\n",
>>>>>>> Stashed changes
      "done\n"
     ]
    },
    {
     "name": "stderr",
     "output_type": "stream",
     "text": [
      "\n"
     ]
    }
   ],
   "source": [
    "# train\n",
    "loss_progress = np.empty(shape=(0,)) \n",
    "num_bad_epochs = 0\n",
    "\n",
    "for epoch in range(10000): \n",
    "    print(\"-----------------------------------------------------------------\")\n",
    "    print(\"epoch: {}; bad epochs: {}\".format(epoch, num_bad_epochs))\n",
    "    net.train()\n",
    "    running_loss = 0.\n",
    "\n",
    "    #tqdm shows a progress bar. \n",
    "    for i, sim_E_vox_batch in enumerate(tqdm(trainloader), 0):\n",
    "        \n",
    "        # zero the parameter gradients\n",
    "        optimizer.zero_grad()\n",
    "\n",
    "        # forward + backward + optimize\n",
    "        pred_E_vox, pred_adc_prime, pred_adc, pred_sigma, pred_axr = net(sim_E_vox_batch)\n",
    "        \n",
    "        \"\"\"print(sim_E_vox_batch)\n",
    "        print(\"pred_E_vox:\", pred_E_vox)\n",
    "        print(\"pred_adc:\", pred_adc)\n",
    "        print(\"pred_sigma:\", pred_sigma)\n",
    "        print(\"pred_axr:\", pred_axr)\"\"\"\n",
    "\n",
    "        if torch.isnan(pred_E_vox).any():\n",
    "            print(\"evox nan found\")\n",
    "        if torch.isnan(pred_adc).any():\n",
    "            print(\"pred_adc nan found\")\n",
    "        if torch.isnan(pred_axr).any():\n",
    "            print(\"pred_axr nan found\")\n",
    "        if torch.isnan(pred_sigma).any():\n",
    "            print(\"sigpred_sigma nan found\")\n",
    "            \n",
    "        #sim_E_vox_batch32 = sim_E_vox_batch.to(torch.float32)\n",
    "        #needed so that loss comparison works\n",
    "        \n",
    "        #print(pred_E_vox)\n",
    "        loss_sig = criterion(pred_E_vox, sim_E_vox_batch)\n",
    "        #loss_prime = criterion(pred_adc_prime,sim_adc_prime)\n",
    "        #loss prime needs sim_adc_prime to be batched. \n",
    "\n",
    "        loss_sig.backward()\n",
    "        optimizer.step()\n",
    "        running_loss += loss_sig.item()\n",
    "        \n",
    "    print(\"loss: {}\".format(running_loss))\n",
    "    # early stopping\n",
    "    if running_loss < best:\n",
    "        print(\"####################### saving good model #######################\")\n",
    "        final_model = net.state_dict()\n",
    "        best = running_loss\n",
    "        num_bad_epochs = 0\n",
    "        loss_progress = np.append(loss_progress, best)\n",
    "    else:\n",
    "        num_bad_epochs = num_bad_epochs + 1\n",
    "        loss_progress = np.append(loss_progress, best)\n",
    "        if num_bad_epochs == patience:\n",
    "            print(\"done, best loss: {}\".format(best))\n",
    "            break\n",
    "print(\"done\")\n",
    "\n",
    "net.load_state_dict(final_model)\n",
    "\n",
    "net.eval()\n",
    "with torch.no_grad():\n",
    "    final_pred_E_vox, final_pred_adc_prime, final_pred_adc_repeated, final_pred_sigma_repeated, final_pred_axr_repeated = net(torch.from_numpy(sim_E_vox.astype(np.float32)))\n",
    "    # adc sigma and axr will have 8 columns which are all the same\n",
    "\n",
    "final_pred_adc = final_pred_adc_repeated[:, 0]\n",
    "final_pred_sigma = final_pred_sigma_repeated [:, 0]\n",
    "final_pred_axr = final_pred_axr_repeated[:, 0]\n"
   ]
  },
  {
   "attachments": {},
   "cell_type": "markdown",
   "metadata": {},
   "source": [
    "### NN Plots"
   ]
  },
  {
   "cell_type": "code",
<<<<<<< Updated upstream
   "execution_count": 7,
=======
   "execution_count": 16,
>>>>>>> Stashed changes
   "metadata": {},
   "outputs": [
    {
     "data": {
<<<<<<< Updated upstream
      "image/png": "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",
=======
      "image/png": "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",
>>>>>>> Stashed changes
      "text/plain": [
       "<Figure size 432x288 with 1 Axes>"
      ]
     },
     "metadata": {
      "needs_background": "light"
     },
     "output_type": "display_data"
    },
    {
<<<<<<< Updated upstream
     "ename": "ValueError",
     "evalue": "array must not contain infs or NaNs",
     "output_type": "error",
     "traceback": [
      "\u001b[0;31m---------------------------------------------------------------------------\u001b[0m",
      "\u001b[0;31mValueError\u001b[0m                                Traceback (most recent call last)",
      "\u001b[0;32m/var/folders/z8/jwxsd17n57lblqk5c_v8fttc0000gn/T/ipykernel_4042/1038639248.py\u001b[0m in \u001b[0;36m<module>\u001b[0;34m\u001b[0m\n\u001b[1;32m     28\u001b[0m     \u001b[0mplt\u001b[0m\u001b[0;34m.\u001b[0m\u001b[0mxlabel\u001b[0m\u001b[0;34m(\u001b[0m\u001b[0mparam_name\u001b[0m\u001b[0;34m[\u001b[0m\u001b[0mi\u001b[0m\u001b[0;34m]\u001b[0m \u001b[0;34m+\u001b[0m \u001b[0;34m' Ground Truth'\u001b[0m\u001b[0;34m)\u001b[0m\u001b[0;34m\u001b[0m\u001b[0;34m\u001b[0m\u001b[0m\n\u001b[1;32m     29\u001b[0m     \u001b[0mplt\u001b[0m\u001b[0;34m.\u001b[0m\u001b[0mylabel\u001b[0m\u001b[0;34m(\u001b[0m\u001b[0mparam_name\u001b[0m\u001b[0;34m[\u001b[0m\u001b[0mi\u001b[0m\u001b[0;34m]\u001b[0m \u001b[0;34m+\u001b[0m \u001b[0;34m' Prediction'\u001b[0m\u001b[0;34m)\u001b[0m\u001b[0;34m\u001b[0m\u001b[0;34m\u001b[0m\u001b[0m\n\u001b[0;32m---> 30\u001b[0;31m     \u001b[0mrvals\u001b[0m\u001b[0;34m.\u001b[0m\u001b[0mappend\u001b[0m\u001b[0;34m(\u001b[0m\u001b[0mscipy\u001b[0m\u001b[0;34m.\u001b[0m\u001b[0mstats\u001b[0m\u001b[0;34m.\u001b[0m\u001b[0mpearsonr\u001b[0m\u001b[0;34m(\u001b[0m\u001b[0mnp\u001b[0m\u001b[0;34m.\u001b[0m\u001b[0msqueeze\u001b[0m\u001b[0;34m(\u001b[0m\u001b[0mparam_sim\u001b[0m\u001b[0;34m[\u001b[0m\u001b[0mi\u001b[0m\u001b[0;34m]\u001b[0m\u001b[0;34m)\u001b[0m\u001b[0;34m,\u001b[0m \u001b[0mnp\u001b[0m\u001b[0;34m.\u001b[0m\u001b[0msqueeze\u001b[0m\u001b[0;34m(\u001b[0m\u001b[0mparam_pred\u001b[0m\u001b[0;34m[\u001b[0m\u001b[0mi\u001b[0m\u001b[0;34m]\u001b[0m\u001b[0;34m)\u001b[0m\u001b[0;34m)\u001b[0m\u001b[0;34m)\u001b[0m\u001b[0;34m\u001b[0m\u001b[0;34m\u001b[0m\u001b[0m\n\u001b[0m\u001b[1;32m     31\u001b[0m     \u001b[0mplt\u001b[0m\u001b[0;34m.\u001b[0m\u001b[0mtight_layout\u001b[0m\u001b[0;34m\u001b[0m\u001b[0;34m\u001b[0m\u001b[0m\n\u001b[1;32m     32\u001b[0m     \u001b[0mplt\u001b[0m\u001b[0;34m.\u001b[0m\u001b[0mshow\u001b[0m\u001b[0;34m(\u001b[0m\u001b[0;34m)\u001b[0m\u001b[0;34m\u001b[0m\u001b[0;34m\u001b[0m\u001b[0m\n",
      "\u001b[0;32m~/opt/anaconda3/envs/project/lib/python3.7/site-packages/scipy/stats/stats.py\u001b[0m in \u001b[0;36mpearsonr\u001b[0;34m(x, y)\u001b[0m\n\u001b[1;32m   3529\u001b[0m     \u001b[0;31m# [-5e210, 5e210, 3e200, -3e200]\u001b[0m\u001b[0;34m\u001b[0m\u001b[0;34m\u001b[0m\u001b[0;34m\u001b[0m\u001b[0m\n\u001b[1;32m   3530\u001b[0m     \u001b[0mnormxm\u001b[0m \u001b[0;34m=\u001b[0m \u001b[0mlinalg\u001b[0m\u001b[0;34m.\u001b[0m\u001b[0mnorm\u001b[0m\u001b[0;34m(\u001b[0m\u001b[0mxm\u001b[0m\u001b[0;34m)\u001b[0m\u001b[0;34m\u001b[0m\u001b[0;34m\u001b[0m\u001b[0m\n\u001b[0;32m-> 3531\u001b[0;31m     \u001b[0mnormym\u001b[0m \u001b[0;34m=\u001b[0m \u001b[0mlinalg\u001b[0m\u001b[0;34m.\u001b[0m\u001b[0mnorm\u001b[0m\u001b[0;34m(\u001b[0m\u001b[0mym\u001b[0m\u001b[0;34m)\u001b[0m\u001b[0;34m\u001b[0m\u001b[0;34m\u001b[0m\u001b[0m\n\u001b[0m\u001b[1;32m   3532\u001b[0m \u001b[0;34m\u001b[0m\u001b[0m\n\u001b[1;32m   3533\u001b[0m     \u001b[0mthreshold\u001b[0m \u001b[0;34m=\u001b[0m \u001b[0;36m1e-13\u001b[0m\u001b[0;34m\u001b[0m\u001b[0;34m\u001b[0m\u001b[0m\n",
      "\u001b[0;32m~/opt/anaconda3/envs/project/lib/python3.7/site-packages/scipy/linalg/misc.py\u001b[0m in \u001b[0;36mnorm\u001b[0;34m(a, ord, axis, keepdims, check_finite)\u001b[0m\n\u001b[1;32m    140\u001b[0m     \u001b[0;31m# Differs from numpy only in non-finite handling and the use of blas.\u001b[0m\u001b[0;34m\u001b[0m\u001b[0;34m\u001b[0m\u001b[0;34m\u001b[0m\u001b[0m\n\u001b[1;32m    141\u001b[0m     \u001b[0;32mif\u001b[0m \u001b[0mcheck_finite\u001b[0m\u001b[0;34m:\u001b[0m\u001b[0;34m\u001b[0m\u001b[0;34m\u001b[0m\u001b[0m\n\u001b[0;32m--> 142\u001b[0;31m         \u001b[0ma\u001b[0m \u001b[0;34m=\u001b[0m \u001b[0mnp\u001b[0m\u001b[0;34m.\u001b[0m\u001b[0masarray_chkfinite\u001b[0m\u001b[0;34m(\u001b[0m\u001b[0ma\u001b[0m\u001b[0;34m)\u001b[0m\u001b[0;34m\u001b[0m\u001b[0;34m\u001b[0m\u001b[0m\n\u001b[0m\u001b[1;32m    143\u001b[0m     \u001b[0;32melse\u001b[0m\u001b[0;34m:\u001b[0m\u001b[0;34m\u001b[0m\u001b[0;34m\u001b[0m\u001b[0m\n\u001b[1;32m    144\u001b[0m         \u001b[0ma\u001b[0m \u001b[0;34m=\u001b[0m \u001b[0mnp\u001b[0m\u001b[0;34m.\u001b[0m\u001b[0masarray\u001b[0m\u001b[0;34m(\u001b[0m\u001b[0ma\u001b[0m\u001b[0;34m)\u001b[0m\u001b[0;34m\u001b[0m\u001b[0;34m\u001b[0m\u001b[0m\n",
      "\u001b[0;32m~/opt/anaconda3/envs/project/lib/python3.7/site-packages/numpy/lib/function_base.py\u001b[0m in \u001b[0;36masarray_chkfinite\u001b[0;34m(a, dtype, order)\u001b[0m\n\u001b[1;32m    487\u001b[0m     \u001b[0;32mif\u001b[0m \u001b[0ma\u001b[0m\u001b[0;34m.\u001b[0m\u001b[0mdtype\u001b[0m\u001b[0;34m.\u001b[0m\u001b[0mchar\u001b[0m \u001b[0;32min\u001b[0m \u001b[0mtypecodes\u001b[0m\u001b[0;34m[\u001b[0m\u001b[0;34m'AllFloat'\u001b[0m\u001b[0;34m]\u001b[0m \u001b[0;32mand\u001b[0m \u001b[0;32mnot\u001b[0m \u001b[0mnp\u001b[0m\u001b[0;34m.\u001b[0m\u001b[0misfinite\u001b[0m\u001b[0;34m(\u001b[0m\u001b[0ma\u001b[0m\u001b[0;34m)\u001b[0m\u001b[0;34m.\u001b[0m\u001b[0mall\u001b[0m\u001b[0;34m(\u001b[0m\u001b[0;34m)\u001b[0m\u001b[0;34m:\u001b[0m\u001b[0;34m\u001b[0m\u001b[0;34m\u001b[0m\u001b[0m\n\u001b[1;32m    488\u001b[0m         raise ValueError(\n\u001b[0;32m--> 489\u001b[0;31m             \"array must not contain infs or NaNs\")\n\u001b[0m\u001b[1;32m    490\u001b[0m     \u001b[0;32mreturn\u001b[0m \u001b[0ma\u001b[0m\u001b[0;34m\u001b[0m\u001b[0;34m\u001b[0m\u001b[0m\n\u001b[1;32m    491\u001b[0m \u001b[0;34m\u001b[0m\u001b[0m\n",
      "\u001b[0;31mValueError\u001b[0m: array must not contain infs or NaNs"
=======
     "data": {
      "image/png": "iVBORw0KGgoAAAANSUhEUgAAAXQAAAD4CAYAAAD8Zh1EAAAAOXRFWHRTb2Z0d2FyZQBNYXRwbG90bGliIHZlcnNpb24zLjUuMywgaHR0cHM6Ly9tYXRwbG90bGliLm9yZy/NK7nSAAAACXBIWXMAAAsTAAALEwEAmpwYAAAWAUlEQVR4nO3df3BV5Z3H8c/XEEiCLFCIO0JYE1p+kwAhUtn4gy0qqBTRUhFhVmsrjlvLzK6bGqYMUMcfdHBsZUbtMJayrlZABzI4yxZUREcKYoDIT8OvoiRQhWhY0FBCfPaPexOTmwD35p7cSx7er5k7Oec5zznn+eZkPhzOOfdec84JAND+XZbsAQAAgkGgA4AnCHQA8ASBDgCeINABwBMdkrXjnj17uuzs7GTtHgDapS1bthx3zmW2tCxpgZ6dna3S0tJk7R4A2iUz++Rcy7jkAgCeINABwBMEOgB4ImnX0AH4o7a2VhUVFTp9+nSyh+KNtLQ0ZWVlKTU1Nep1CHQAcauoqFCXLl2UnZ0tM0v2cNo955yqqqpUUVGhnJycqNe7YKCb2WJJEyR97pwb2sJyk/SspFslfS3pPufc1qhHEIMD84aqrzvcMH/Q+ui783a2xa4AxOD06dOEeYDMTD169NCxY8diWi+aa+hLJI0/z/JbJPULv2ZIeiGmEUSpPszN1PDq6w7rwLxm/8YASALCPFit+X1eMNCdc+9J+uI8XW6X9JIL2SSpm5ldGfNILqA+zBurD3UAQDBPufSW1DhVK8JtzZjZDDMrNbPSWP8rAQCx+tnPfqbdu3cHsq3s7GwdP378vH2efPLJmLe7ZMkSPfzww60dVhMJfWzRObfIOVfgnCvIzGzxnasAEJgXX3xRgwcPTtj+WhPoQQoi0Csl9Wk0nxVuC9RB66PIL1dyLtQOoH0p2VapwvnrlFP8Pyqcv04l2+KPjK+++kq33Xabhg0bpqFDh2rZsmUaM2ZMw0eMXH755SoqKtKQIUN04403avPmzRozZoz69u2rVatWSWp+tjxhwgStX7++2b4mTZqkkSNHasiQIVq0aJEkqbi4WDU1NRo+fLimTZsmSXr55Zc1atQoDR8+XA8++KDq6uokSX/84x/Vv39/jRo1Shs2bIi79npBBPoqSf9qIddIOuGcOxrAdpv47rydDaFe/+IpF6D9KdlWqVkrdqiyukZOUmV1jWat2BF3qP/5z39Wr1699NFHH2nnzp0aP77psxxfffWVfvCDH2jXrl3q0qWLZs+erTfffFMrV67UnDlzYtrX4sWLtWXLFpWWlmrhwoWqqqrS/PnzlZ6errKyMr3yyivas2ePli1bpg0bNqisrEwpKSl65ZVXdPToUc2dO1cbNmzQ+++/H9glISm6xxZflTRGUk8zq5A0V1KqJDnnfi9ptUKPLO5X6LHFnwQ2ugiR4f3dttoRgDazYE25amrrmrTV1NZpwZpyTRrR4u23qOTm5uqRRx7Ro48+qgkTJui6665rsrxjx44NIZ+bm6tOnTopNTVVubm5OnToUEz7WrhwoVauXClJOnz4sPbt26cePXo06fP2229ry5YtuvrqqyVJNTU1uuKKK/TBBx9ozJgxqr/sPGXKFO3du7c1JTdzwUB3zk29wHIn6eeBjAaA945U18TUHq3+/ftr69atWr16tWbPnq2xY8c2WZ6amtrwKOBll12mTp06NUyfPXtWktShQwd98803Deu09M7X9evX66233tLGjRuVkZGhMWPGtNjPOad7771XTz31VJP2kpKSuOo8Hz7LBUBC9eqWHlN7tI4cOaKMjAxNnz5dRUVF2ro19vc3Zmdnq6ysTN98840OHz6szZs3N+tz4sQJde/eXRkZGfr444+1adOmhmWpqamqra2VJI0dO1avv/66Pv/8c0nSF198oU8++UTf//739e6776qqqkq1tbV67bXXWllxcwQ6gIQqGjdA6akpTdrSU1NUNG5AXNvdsWNHww3IX//615o9e3bM2ygsLFROTo4GDx6smTNnKj8/v1mf8ePH6+zZsxo0aJCKi4t1zTXXNCybMWOG8vLyNG3aNA0ePFiPP/64br75ZuXl5emmm27S0aNHdeWVV2revHkaPXq0CgsLNWjQoLjqbsxc5KMjCVJQUOD4ggvAD3v27IkpmEq2VWrBmnIdqa5Rr27pKho3IK7r575q6fdqZluccwUt9efDuQAk3KQRvQnwNsAlFwDwBIEOAJ4g0AHAEwQ6AHiCQAcATxDoABBh/fr1mjBhgiRp1apVmj9//jn7VldX6/nnn495H/PmzdPTTz/d6jG2hEAHcMmo/7TDWEycOFHFxcXnXN7aQG8LBDqAxNu+XPrtUGlet9DP7cvj3uShQ4c0cOBATZs2TYMGDdLkyZP19ddfKzs7W48++qjy8/P12muvae3atRo9erTy8/P14x//WKdOnZIU+rTGgQMHKj8/XytWrGjYbuOP1P3ss890xx13aNiwYRo2bJj+8pe/qLi4WAcOHNDw4cNVVFQkSVqwYIGuvvpq5eXlae7cuQ3beuKJJ9S/f39de+21Ki8vj7vmSLyxCEBibV8uvTFTqg1/GNeJw6F5Scq7K65Nl5eX6w9/+IMKCwt1//33N5w59+jRQ1u3btXx48d155136q233lLnzp31m9/8Rs8884x++ctf6oEHHtC6dev0ve99T1OmTGlx+zNnztQNN9yglStXqq6uTqdOndL8+fO1c+dOlZWVSZLWrl2rffv2afPmzXLOaeLEiXrvvffUuXNnLV26VGVlZTp79qzy8/M1cuTIuOqNRKADSKy3H/s2zOvV1oTa4wz0Pn36qLCwUJI0ffp0LVy4UJIaAnrTpk3avXt3Q58zZ85o9OjR+vjjj5WTk6N+/fo1rFv/xRWNrVu3Ti+99JIkKSUlRV27dtWXX37ZpM/atWu1du1ajRgxQpJ06tQp7du3TydPntQdd9yhjIwMSaFLOUEj0AEk1omK2NpjYBHfJF8/37lzZ0mhj7S96aab9OqrrzbpV392HQTnnGbNmqUHH3ywSfvvfve7wPZxLlxDB5BYXbNia4/Bp59+qo0bN0qS/vSnP+naa69tsvyaa67Rhg0btH//fkmhbzHau3evBg4cqEOHDunAgQOS1Czw640dO1YvvPCCpNAN1hMnTqhLly46efJkQ59x48Zp8eLFDdfmKysr9fnnn+v6669XSUmJampqdPLkSb3xxhtx1xuJQAeQWGPnSKkRn32emh5qj9OAAQP03HPPadCgQfryyy/10EMPNVmemZmpJUuWaOrUqcrLy2u43JKWlqZFixbptttuU35+vq644ooWt//ss8/qnXfeUW5urkaOHKndu3erR48eKiws1NChQ1VUVKSbb75Z99xzj0aPHq3c3FxNnjxZJ0+eVH5+vqZMmaJhw4bplltuafgmoyDx8bkA4hbrx+dq+/LQNfMTFaEz87Fz4r5+fujQIU2YMEE7d/rzPcN8fC6Ai1/eXXEHOJrjkgsAL2RnZ3t1dt4aBDqAQCTr8q2vWvP7JNABxC0tLU1VVVWEekCcc6qqqlJaWlpM63ENHUDcsrKyVFFRoWPHjiV7KN5IS0tTVlZsj3IS6ADilpqaqpycnGQP45LHJRcA8ASBDgCeINABwBMEOgB4gkAHAE8Q6ADgCQIdADxBoAOAJwh0APAEgQ4AniDQAcATBDoAeIJABwBPEOgA4AkCHQA8QaADgCcIdADwBIEOAJ4g0AHAEwQ6AHiCQAcATxDoAOAJAh0APEGgA4AnCHQA8ASBDgCeINABwBMEOgB4gkAHAE9EFehmNt7Mys1sv5kVt7D8KjN728y2m9l6M8sKfqgAgPO5YKCbWYqk5yTdImmwpKlmNjii29OSXnLO5Ul6TNJTQQ8UAHB+0Zyhj5K03zl30Dl3RtJSSbdH9BksaV14+p0WlgMA2lg0gd5b0uFG8xXhtsY+knRnePoOSV3MrEfkhsxshpmVmlnpsWPHWjNeAMA5BHVT9D8l3WBm2yTdIKlSUl1kJ+fcIudcgXOuIDMzM6BdAwAkqUMUfSol9Wk0nxVua+CcO6LwGbqZXS7pR8656oDGCACIQjRn6B9K6mdmOWbWUdLdklY17mBmPc2sfluzJC0OdpgAgAu5YKA7585KeljSGkl7JC13zu0ys8fMbGK42xhJ5Wa2V9I/SnqijcYLADgHc84lZccFBQWutLQ0KfsGgPbKzLY45wpaWsY7RQHAEwQ6AHiCQAcATxDoAOAJAh0APEGgA4AnCHQA8ASBDgCeINABwBMEOgB4gkAHAE8Q6ADgCQIdADxBoAOAJ6L5xiIAQABKtlVqwZpyHamuUa9u6SoaN0CTRkR+RXPrEegAkAAl2yo1a8UO1dSGvm65srpGs1bskKTAQp1LLgCQAAvWlDeEeb2a2jotWFMe2D4IdABIgCPVNTG1twaBDgAJ0KtbekztrUGgA0ACFI0boPTUlCZt6akpKho3ILB9cFMUABKg/sYnT7kAgAcmjegdaIBH4pILAHiCQAcATxDoAOAJAh0APEGgA4AnCHQA8ASBDgCeINABwBMEOgB4gkAHAE8Q6ADgCQIdADxBoAOAJwh0APAEgQ4AniDQAcATBDoAeIJABwBPEOgA4AkCHQA8QaADgCcIdADwBIEOAJ4g0AHAEwQ6AHiCQAcATxDoAOAJAh0APEGgA4AnCHQA8ERUgW5m482s3Mz2m1lxC8v/yczeMbNtZrbdzG4NfqgAgPO5YKCbWYqk5yTdImmwpKlmNjii22xJy51zIyTdLen5oAcKADi/aM7QR0na75w76Jw7I2mppNsj+jhJ/xCe7irpSHBDBABEI5pA7y3pcKP5inBbY/MkTTezCkmrJf2ipQ2Z2QwzKzWz0mPHjrViuACAcwnqpuhUSUucc1mSbpX032bWbNvOuUXOuQLnXEFmZmZAuwYASNEFeqWkPo3ms8Jtjf1U0nJJcs5tlJQmqWcQAwQARCeaQP9QUj8zyzGzjgrd9FwV0edTSWMlycwGKRToXFMBgAS6YKA7585KeljSGkl7FHqaZZeZPWZmE8PdHpH0gJl9JOlVSfc551xbDRoA0FyHaDo551YrdLOzcducRtO7JRUGOzQAQCx4pygAeIJABwBPEOgA4AkCHQA8QaADgCcIdADwBIEOAJ4g0AHAEwQ6AHiCQAcATxDoAJAo25dLvx0qzesW+rl9eaCbj+qzXAAAcdq+XHpjplRbE5o/cTg0L0l5dwWyC87QASAR3n7s2zCvV1sTag8IgQ4AiXCiIrb2ViDQASARumbF1t4KBDoAJMLYOVJqetO21PRQe0AIdABIhLy7pB8ulLr2kWShnz9cGNgNUYmnXAAgcfLuCjTAI3GGDgCeINABwBMEOgB4gkAHAE8Q6ADgCQIdADxBoAOAJwh0APAEgQ4AniDQAcATBDoAeIJABwBPEOgA4AkCHQA8QaADgCcIdADwBIEOAJ4g0AHAEwQ6AHiCQAcATxDoAOAJAh0APEGgA4AnCHQA8ASBDgCeINABwBMEOgB4gkAHAE8Q6ADgCQIdADxBoAOAJwh0APAEgQ4AniDQAcATBDoAeCKqQDez8WZWbmb7zay4heW/NbOy8GuvmVUHPlIAwHl1uFAHM0uR9JykmyRVSPrQzFY553bX93HO/Xuj/r+QNKINxgoA7VrJtkotWFOuI9U16tUtXUXjBmjSiN6BbT+aM/RRkvY75w46585IWirp9vP0nyrp1SAGBwC+KNlWqVkrdqiyukZOUmV1jWat2KGSbZWB7SOaQO8t6XCj+YpwWzNmdpWkHEnrzrF8hpmVmlnpsWPHYh0rALRbC9aUq6a2rklbTW2dFqwpD2wfQd8UvVvS6865upYWOucWOecKnHMFmZmZAe8aAC5eR6prYmpvjWgCvVJSn0bzWeG2ltwtLrcAQDO9uqXH1N4a0QT6h5L6mVmOmXVUKLRXRXYys4GSukvaGNjoAMATReMGKD01pUlbemqKisYNCGwfF3zKxTl31swelrRGUoqkxc65XWb2mKRS51x9uN8taalzzgU2OgDwRP3TLG35lMsFA12SnHOrJa2OaJsTMT8vsFEBgIdKP/lCfztxWk7S306cVuknXyQ+0AEA8ZldskMvb/q0Yb7OuYb5xyflBrIP3voPAAnw6geHY2pvDQIdABKgzjlNvOx9vd9xpg52ukfvd5ypiZe9r7oAbztyyQUAEmBSygY92eFFZdgZSVKWHdf81Bd12VmTdFsg++AMHQASYG7G6w1hXi/DzmhuxuuB7YNAB4AE6F77WUztrUGgA4AnCHQA8ASBDgCJYCmxtbcCgQ4AiTDyvtjaW4HHFgEgESY8E/q5ZYnk6kJn5iPv+7Y9AAQ6ACTKhGcCDfBIXHIBAE8Q6ADgCQIdADxBoAOAJwh0APCEJesb48zsmKRPWrl6T0nHAxxOe0DNlwZqvjTEU/NVzrnMlhYkLdDjYWalzrmCZI8jkaj50kDNl4a2qplLLgDgCQIdADzRXgN9UbIHkATUfGmg5ktDm9TcLq+hAwCaa69n6ACACAQ6AHjiogt0MxtvZuVmtt/MiltY3snMloWXf2Bm2Y2WzQq3l5vZuIQOPA6trdnMss2sxszKwq/fJ3zwrRRFzdeb2VYzO2tmkyOW3Wtm+8KvexM36taLs966Rsd4VeJGHZ8oav4PM9ttZtvN7G0zu6rRsnZ3jKW4a47/ODvnLpqXpBRJByT1ldRR0keSBkf0+TdJvw9P3y1pWXh6cLh/J0k54e2kJLumNq45W9LOZNfQRjVnS8qT9JKkyY3avyPpYPhn9/B092TX1Fb1hpedSnYNbVTzv0jKCE8/1Ojvut0d43hrDuo4X2xn6KMk7XfOHXTOnZG0VNLtEX1ul/Rf4enXJY01Mwu3L3XO/d0591dJ+8Pbu9jFU3N7dcGanXOHnHPbJX0Tse44SW86575wzn0p6U1J4xMx6DjEU297FU3N7zjnvg7PbpKUFZ5uj8dYiq/mQFxsgd5b0uFG8xXhthb7OOfOSjohqUeU616M4qlZknLMbJuZvWtm17X1YAMSz7Fqj8c53jGnmVmpmW0ys0mBjqztxFrzTyX9byvXvVjEU7MUwHHmG4vat6OS/sk5V2VmIyWVmNkQ59z/JXtgCNRVzrlKM+sraZ2Z7XDOHUj2oIJiZtMlFUi6IdljSZRz1Bz3cb7YztArJfVpNJ8Vbmuxj5l1kNRVUlWU616MWl1z+PJSlSQ557YodP2uf5uPOH7xHKv2eJzjGrNzrjL886Ck9ZJGBDm4NhJVzWZ2o6RfSZronPt7LOtehOKpOZjjnOwbCRE3DDoodAMkR9/eVBgS0efnanqDcHl4eoia3hQ9qPZxUzSemjPra1ToRkylpO8ku6Ygam7Ud4ma3xT9q0I3y7qHpy/qmuOst7ukTuHpnpL2KeJG28X4ivLveoRCJyH9Itrb3TEOoOZAjnPSfwkt/FJulbQ3XPSvwm2PKfSvmSSlSXpNoZuemyX1bbTur8LrlUu6Jdm1tHXNkn4kaZekMklbJf0w2bUEWPPVCl2D/Eqh/4HtarTu/eHfxX5JP0l2LW1Zr6R/lrQjHA47JP002bUEWPNbkj4L//2WSVrVno9xPDUHdZx56z8AeOJiu4YOAGglAh0APEGgA4AnCHQA8ASBDgCeINABwBMEOgB44v8ByrT/kFP47V8AAAAASUVORK5CYII=",
      "text/plain": [
       "<Figure size 432x288 with 1 Axes>"
      ]
     },
     "metadata": {
      "needs_background": "light"
     },
     "output_type": "display_data"
    },
    {
     "data": {
      "image/png": "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",
      "text/plain": [
       "<Figure size 432x288 with 1 Axes>"
      ]
     },
     "metadata": {
      "needs_background": "light"
     },
     "output_type": "display_data"
    },
    {
     "data": {
      "image/png": "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",
      "text/plain": [
       "<Figure size 432x288 with 1 Axes>"
      ]
     },
     "metadata": {
      "needs_background": "light"
     },
     "output_type": "display_data"
    },
    {
     "name": "stderr",
     "output_type": "stream",
     "text": [
      "/Users/admin/opt/anaconda3/envs/project/lib/python3.7/site-packages/scipy/stats/stats.py:3508: PearsonRConstantInputWarning: An input array is constant; the correlation coefficent is not defined.\n",
      "  warnings.warn(PearsonRConstantInputWarning())\n"
>>>>>>> Stashed changes
     ]
    },
    {
     "data": {
<<<<<<< Updated upstream
      "image/png": "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",
=======
      "image/png": "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",
>>>>>>> Stashed changes
      "text/plain": [
       "<Figure size 432x288 with 1 Axes>"
      ]
     },
     "metadata": {
      "needs_background": "light"
     },
     "output_type": "display_data"
    },
    {
<<<<<<< Updated upstream
     "data": {
      "image/png": "iVBORw0KGgoAAAANSUhEUgAAAagAAAEQCAYAAADlK+DYAAAAOXRFWHRTb2Z0d2FyZQBNYXRwbG90bGliIHZlcnNpb24zLjUuMywgaHR0cHM6Ly9tYXRwbG90bGliLm9yZy/NK7nSAAAACXBIWXMAAAsTAAALEwEAmpwYAAAj2ElEQVR4nO3deZhcVbnv8e+PQMLgEDBBVAgJRtGAgtoqyrlMl2MQBEUUkeEweAh6RMEDiJEoMYCiIBIcjgkiKFFBBGQQBWWIRyVemoQAQREkAdGAQMIQQsL03j/WLtns1LC7u6p7d/fv8zz1VNfaa1W9qzvpt9fea6+liMDMzKxq1hroAMzMzOpxgjIzs0pygjIzs0pygjIzs0pygjIzs0pae6ADGCrGjBkT48ePH+gwzMwGlZtvvvnhiBhb75gTVJuMHz+e7u7ugQ7DzGxQkXRvo2M+xWdmZpXkBGVmZpXkBGVmZpXkBGVmZpXkBGVmZpXkBGVmZpXkBGVmZpXkBGVmZpXkBGVmZpXkBGVmZpXkBGVmZpXkBGVmZpXkBGVmZpXkBGVmZpXkBGVmZpXkBGVmZpXkBGVmZpXkBGVmZpXkBGVmZpXkBGVmZpXkBGVmZpXkBGVmZpXkBGVmZpU0aBKUpM0k/UzSY5Iel3SJpHEl264r6TRJSyU9JelGSTu0aLOfpJB0f3t6YGZmPTEoEpSk9YHrgDcABwMHAa8Drpe0QYm3OAc4HPgi8D5gKXC1pG0bfN5o4EzggT6GbmZmvbT2QAdQ0uHAFsCWEXE3gKRbgbuAI4AzGjWUtA2wP3BYRJyblc0FFgEzgL3qNPsasJCUyHZtXzfMzKysQTGCIiWRebXkBBARi4HfA+8v0fYZ4MJc22eBC4DJkkblK0vaHjgQ+GR7Qjczs94YLAlqK+D2OuWLgEkl2i6OiJV12o4EJtYKJK0DzAZOyydDMzPrf4MlQW0ELK9TvgzYsA9ta8drjgdGAV8pE5SkKZK6JXU/9NBDZZqYmVlJgyVBdZykicAJwJERsapMm4iYHRFdEdE1duzYzgZoZjbMDJYEtZz6I6VGo6OybeGFkdRZpJmC8ySNzmbyjQSUvV6vx1GbmVmvDZZZfItI15KKJgF3lGi7t6T1C9ehJgFPA3fnXm9O/YS3HJgJHN2DmM3MrA8GywjqcmA7SVvUCiSNB7bPjjVzBbAO8OFc27WBjwDXRMTqrHg/YOfC42rg4ezrb7WjI2ZmVs5gGUGdDRwJXCZpGhDAScDfgFm1SpI2B/4KzIiIGQARsUDShcCZ2Sy9xcAngAnAAbW2ETGv+KGSDgFWR8QNnemWmZk1MihGUBHxJLAL8BfgfOBHpESzS0SsyFUVMII1+3UocC5wMvALYDNgt4iY3+HQzcyslxQRAx3DkNDV1RXd3d0DHYaZ2aAi6eaI6Kp3bFCMoMzMbPhxgjIzs0pygjIzs0pygjIzs0pygjIzs0pygjIzs0pygjIzs0pygjIzs0pygjIzs0pygjIzs0pygjIzs0pygjIzs0pygjIzs0pygjIzs0rq8YaFkjYG1i2WR8R9bYnIzMyMkglK0suAmaRt0kc1qDaiXUGZmZmVHUF9G9gHOAe4DVjdsYjMzMwon6B2A46LiG93MhgzM7OankySuLNjUZiZmRWUTVAXAHt2MhAzM7O8sqf4rgHOlPRS4CpgWbFCRFzXzsDMzGx4K5ugLsueJwCH5MoDUPbsWXxmZtY2ZRPUzh2NwszMrKBUgoqIuZ0OxMzMLK9HK0lI2gh4F7AR6TrUjRGxxvUoMzOzviqdoCSdDBwDjCRddwJYLen0iPhCJ4IzM7Phq9Q0c0lHA58H5gC7AG8kXZeaA3xe0qc7FWAuhs0k/UzSY5Iel3SJpHEl264r6TRJSyU9JelGSTsU6rxe0kxJt0pakdW9XNI2nemRmZk1U3YE9XFgZkR8Jld2JzBX0grgv4Cz2h1cjaT1getISywdTJo1eDJwvaQ3R8STLd7iHGAP4DjgHuCTwNWS3hURt2R13kNKuj8A5gOjgc8C8yT9W0Tc3NZOmZlZU2UT1HjgFw2O/QL4RFuiaexwYAtgy4i4G0DSrcBdwBHAGY0aZiOg/YHDIuLcrGwusAiYAeyVVb0A+HZERK7tdcAS4CjgP9rbJTMza6bsShKPAFs3OLZVdryT9gLm1ZITQEQsBn4PvL9E22eAC3NtnyUlpMmSRmVlD+eTU1b2GPAX4DXt6ISZmZVXNkFdCpwk6SBJawNIWlvSR0mjkIs7FWBmK+D2OuWLgEkl2i6OiJV12o4EJjZqmM1a3Br4U/lQzcysHcomqKnALaTrM09JehB4CvgRsJA0gaKTNgKW1ylfBmzYh7a14418kzRj8cwWn2FmZm1W9kbdJ7JZb3sA/4cX7oOaC/yyeGpsKJA0lXTt6mP5U4uFOlOAKQDjxpWaUGhmZiWVvg8qS0JXZo/+tpz6I6VGo6Ni280btIU6C99K+jjwZWBaRHy/0RtHxGxgNkBXV9eQS9JmZgOpJ/tBDaRFpGtJRZOAO0q0nZBNVS+2fRp40ehI0kHAd4CvR8QpvQvXzMz6qmGCkvScpHdkXz+fvW70eLbDcV4ObCdpi1x844Hts2PNXAGsA3w413Zt4CPANRGxOle+N3Au8L2IOLZt0ZuZWY81O8U3A7g/9/VAnsI6GzgSuEzStCyWk4C/AbNqlSRtDvwVmBERMwAiYoGkC0n7Wa0DLCbdtzUBOCDXdgfgJ6RJH+dJ2i73+asjYkEH+2dmZgUNE1REfCn39fR+iaaBiHhS0i7AN4DzSTPrrgWOjogVuaoi7UtVHBkeCpxCWn1iNCkJ7RYR83N1dgFGAW8l3V+Vdy/pZmUzM+snKjMBT9L3gZOym2OLxzYHToyIwzoQ36DR1dUV3d3dAx2GmdmgIunmiOiqd6zsJIlDgLENjo0hrY9nZmbWNj2ZxddoqLUJ6aZdMzOztml4DSqb0bZ3ruhLkh4uVFuPdOOuV/o2M7O2ajaLbxwp+UAaPW1L2u4ibzXwB9JSSGZmZm3TbBbfTGAmgKTFwN65vZPMzMw6quxafBM6HYiZmVle2S3fj5f0zQbHzpJ0XHvDMjOz4a7sLL5DgVsbHLslO25mZtY2ZRPUONL26vXcQ/3Vws3MzHqtbIJaSeNtzzdlzdl9ZmZmfVI2Qf0vcJykUfnC7PUx2XEzM7O2Kbth4XTS/U5/kTQH+DtpRHUg8ArSUkhmZmZtU3aa+UJJOwOnA8eTRl7PA78D9omIhZ0L0czMhqOebPn+/4AdJK1H2n59eUR4DT4zM+uI0gmqJktKTkxmZtZRzRaL/SJp6/N/ZF83ExFxUntDMzOz4azZCGo68CvgH9nXzdS2YDczM2uLZovFrlXvazMzs/7gxGNmZpXkBGVmZpXUbJLE8zTe5n0NETGiLRGZmZnRfJLEDF5IUAIOI23xfgXwILAJ8D7SlPNzOhijmZkNQ80mSUyvfS1pGnAvMDkiVubKNwCuBp7tYIxmZjYMlb0GdQRwWj45AUTEk6Tljz7e7sDMzGx4K5ugxgAjGxwbSVow1szMrG3KJqhu4EuSXp0vlPQa0k28N7U5LjMzG+bKrsX3aeA64B5J80iTJF4JbEfazHD/zoRnZmbDVakRVEQsACYCXweeA96UPZ8OvC4ibulUgDWSNpP0M0mPSXpc0iWSxpVsu66k0yQtlfSUpBsl7VCn3lqSpkpaImmVpIWS9ml/b8zMrJWebLfxCHBCB2NpSNL6pBHcauBg0vT3k4HrJb05m6zRzDnAHsBxwD3AJ4GrJb2rkFxPAo4l9fNmYD/gIknvi4ir2tglMzNroUfbbUgaQzqt9wrgiohYJmld4OmIeL4TAWYOB7YAtoyIu7NYbgXuIs0wPKNJzNuQTkEeFhHnZmVzgUWke732yso2JiWnUyPi9Kz59ZImAqcCTlBmZv2o1Ck+JacB9wOXA98HxmeHL6PzI6u9gHm15AQQEYuB3wPvL9H2GeDCXNtngQuAyZJGZcWTSTMS5xTazwHeJGlCn3pgZmY9UnYW31TgSNKI452klSVqriCtKNFJWwG31ylfBEwq0XZx8R6urO1I0rW1Wr3VwN116lHic8zMrI3KnuL7T2BGRHxFUnHNvbuB17Y3rDVsBCyvU76MtP18b9vWjteeH42I4vqDxXr/ImkKMAVg3LhS8zXMzKyksiOo1wDzGhx7GtigPeEMLhExOyK6IqJr7NixAx2OmdmQUjZB/R3YusGxbYDF7QmnoeXUHyk1Gh2VbQsvjJCWA6MlqUU9MzPrB2UT1EXAFyVtnysLSa8HjiFNOOikRaRrREWTgDtKtJ2QTVUvtn2aF645LQJGsebpytq1p1afY2ZmbVQ2QU0H/gz8ljS1G1LSui17fWrbI3uxy4HtJG1RK5A0Htg+O9bMFcA6wIdzbdcGPgJcExGrs+JfkWb7HVBofyBwezZr0MzM+kmpSRIR8ZSknUj3E00mjToeId3Y+qNs2nYnnU2aRXhZtvVHZJ/9N2BWrZKkzYG/kiZ0zMhiXyDpQuBMSeuQTkd+AphALhlFxD8lnQFMlfQEMJ+UxHYhu1fKzMz6T8sEJWkk6R6ib0TE+cD5HY+qICKelLQL8I3s8wVcCxwdESvy4QIjWHNkeChwCmn1idHAQmC3iJhfqHcCsAI4irQh453AvhFxZVs7ZGZmLWnNWdV1KqURxZ4RcUPHIxqkurq6oru7e6DDMDMbVCTdHBFd9Y6VvQb1e9ISR2ZmZv2i7I26xwA/l7QC+DmwlHQd6F86vBafmZkNM2VHULeRpl/PBO4lTc9+Jvd4uiPRmZnZsFV2BDWDwojJzMysk8pOM5/e4TjMzMxepGmCkrQl6Z6hiaSlgH4aEVf0R2BmZja8NUxQkt4BzCUt//MQaU26/SUdERHf66f4zMxsmGo2SeJLpBUjJkTEK4ExpGWDTu6PwMzMbHhrlqC2AU6KiHsBIuIx0nTzsZJe3R/BmZnZ8NUsQW0CLCmULSEtJ/TKDsVjZmYGtL4PylPLzcxsQLSaZj47W4ev6JxsVYmaiIgd2xiXmZkNc80S1G+pP4Ka26FYzMzM/qVhgoqInfoxDjMzsxcpuxafmZlZv3KCMjOzSnKCMjOzSnKCMjOzSnKCMjOzSnKCMjOzSmqYoCRtIuliSXs0qbN7VmdMZ8IzM7PhqtkI6ihga+CXTepcDbwR+HQ7gzIzM2uWoPYAZkXE840qRMRzwNnAXu0OzMzMhrdmCeq1wIIS73EL8Lq2RGNmZpZplqB6spK5Vz03M7O2apaglgBvK/EeXay5b5SZmVmfNEtQVwBHSXpFowrZ7L2jgMvbHVjhc9aSNFXSEkmrJC2UtE8P2n9A0oKs7b2SpkkakTs+QtKxkq6T9KCkJyTNl/QxSZ6Kb2Y2AJr98j2dtHvujZL2lrRu7YCkdSXtDfyBdHrv9M6GyUnAdOBbwHuBecBFknZv1VDSZOBi4Kas7UxgGvDlXLX1srLbgSnAB4DrSRNAvtqmPpiZWQ8oovHlI0mTSL/ctwSeBR7KDo0FRgB/AT4YEX/qWIDSxsDfgFMj4sRc+bXA2Ih4c4v2C4DH8xsqSvoiKSGNi4gHstHUyyNiWaHt94H9gQ0j4qlmn9PV1RXd3d097J2Z2fAm6eaI6Kp3rOnpq4i4g3Qv1EeAc4GF2eNcYD9g604mp8xkYCQwp1A+B3iTpAmNGkraDNi2TtvzgXVIIyoi4rlicsrcBIwCfCOymVk/a7Xle+1ep4uyx0DYClgN3F0oX5Q9TwIWN2kL6dTdv0TEYkkrs7bN7Ag8CiwtG6yZmbVHywQF6ZoTabbeq0jXnJYCN0fEqg7GVrMR8GiseS5yWe54s7YAy+scW96sbXbtal/gCxHxbMlYzcysTZqe4pM0StJMUjKYC1wI/BT4LfCIpNMljezJB0raVVKUeNzQyz71WXbt7SekiRINJ0lImiKpW1L3Qw891KiamZn1QqsR1JXALsBlwFXAfaSZfZsB7wM+QzpN1nI2Xc4fSOv3tbIye14OjJakwiiqNvqpd+2opjZy2rDOsQ3rtZW0BfBr0mnDvZuNniJiNjAb0iSJJnGYmVkPNUxQkj4M7Ax8KCIurVPle9m9SBdK+mBEXFLmAyNiJfDnHsS4iDRR4bW8+DpU7frRHS3aQroWdWOtUNJ4YP1iW0mbAtcCjwOTI+LxHsRpZmZt1OwU30eBnzZITgBExMWkyRMHtDuwnF8Bz9T5jAOB2yOi0QQJIuI+0qzDem2fIbdSu6SxwG+yl/8eEQ/3MW4zM+uDZqf43kK6V6iVK4GT2xPOmiLin5LOAKZKegKYT5r2vguFVdSze6M2j4iJueLPA1dKmkW6rlTr18yIeCBrtx5p65DxwGHAptloquYOj6bMzPpXswQ1lnTNqZX7gI3bE05DJwArSMsqbQLcCewbEVcW6o2g0KeIuErSh4ATgUOAB0mrSJySq/ZKUuIC+FGdz98ZuKFPPTAzsx5plqDWJ91/1MrTwLota/VBdi/WybQYqUXETg3KLwEaXiOLiCWkyR9mZlYRrWbxvSab1dbMpi2Om5mZ9VirBPWzEu8hvB+UmZm1WbMEdWi/RWFmZlbQMEFFxA/6MxAzM7O8Pm/GJ2nHbFsKMzOztulVgpI0UdIMSYtJ69Xt296wzMxsuCudoCS9PFsc9fek+5BOIK119wng1R2Kz8zMhqlWq5mvJWl3SReSttj4LrA58O2sytERMcurLJiZWbs1Wyz266TtzjcGVgGXAj8grVf3MuDI/gjQzMyGp2bTzD9Dur/pKuCQiHikdkCS73syM7OOanaK7xzgCWAP4E5J35L0jv4Jy8zMhruGCSoiDictzHoA0A0cAdwo6U/A8Xj1CDMz66CmkyQiYlVE/CQidgPGAVOB54DPkZY4OlXSgZI6ulismZkNP6WnmUfE0oj4WkRsDbyDNJPvdcAPSTP8zMzM2qZXN+pGRHdEfIp0/9M+eK8kMzNrs1armTcVEc+Qpp833BbezMysN/q8Fp+ZmVknOEGZmVklOUGZmVklOUGZmVklOUGZmVklOUGZmVklOUGZmVklOUGZmVklOUGZmVklOUGZmVklOUGZmVklDYoEJWktSVMlLZG0StJCSfv0oP0HJC3I2t4raZqkEU3qj5a0VFJI2rU9vTAzs54YFAkKOAmYDnwLeC8wD7hI0u6tGkqaDFwM3JS1nQlMA77cpNlX+xivmZn1UZ9WM+8PkjYGjgVOjYjTs+LrJU0ETgWuavEWpwK/i4gpubYvAaZJ+kZEPFD4vO2BA4FPkba9NzOzATAYRlCTgZHAnEL5HOBNkiY0aihpM2DbOm3PB9Yhjajy9dcBZpGS2j19itrMzPpkMCSorYDVwN2F8kXZ86QWbQFuzxdGxGJgZZ22nyUlw6/1KlIzM2ubyp/iAzYCHo2IKJQvyx1v1hZgeZ1jy/Nts1OG04A9I2K1pJaBSZoCTAEYN25cy/pmZlZev4+gJO2azY5r9bihn0P7H+CyiPhN2QYRMTsiuiKia+zYsR0Mzcxs+BmIEdQfgDeWqLcye14OjJakwiiqNvpZRmO1kdOGdY5tWGsraV/g3cDbJY3Ojr8ke95A0ssj4rESMZuZWZv0e4KKiJXAn3vQZBEwCngtL74OVbt+dEeLtpCuRd1YK5Q0Hlg/13ZS9noRa/o58Bgwugcxm5lZHw2GSRK/Ap4BDiiUHwjcnk14qCsi7gMWNmj7DPDL7PV5wM6Fx2eyY8cC7+t9+GZm1huVnyQREf+UdAYwVdITwHzgI8AuwF75upKuBTaPiIm54s8DV0qaBfwEeAtpMsTM2j1QEbEEWFJ4r9qXCyPid23ulpmZtVD5BJU5AVgBHAVsAtwJ7BsRVxbqjaDQp4i4StKHgBOBQ4AHSatInNLhmM3MrA+05uxt642urq7o7u4e6DDMzAYVSTdHRFe9Y4PhGpSZmQ1DTlBmZlZJTlBmZlZJTlBmZlZJTlBmZlZJTlBmZlZJTlBmZlZJTlBmZlZJTlBmZlZJTlBmZlZJTlBmZlZJTlBmZlZJTlBmZlZJTlBmZlZJTlBmZlZJTlBmZlZJTlBmZlZJTlBmZlZJTlBmZlZJTlBmZlZJTlBmZlZJTlBmZlZJioiBjmFIkPQQcO9Ax9ELY4CHBzqIfjbc+jzc+gvu82CyeUSMrXfACWqYk9QdEV0DHUd/Gm59Hm79Bfd5qPApPjMzqyQnKDMzqyQnKJs90AEMgOHW5+HWX3CfhwRfgzIzs0ryCMrMzCrJCcrMzCrJCWqIkrSWpKmSlkhaJWmhpH160P4DkhZkbe+VNE3SiCb1R0taKikk7dqeXvRMp/ssaYSkYyVdJ+lBSU9Imi/pY5I6+n9J0maSfibpMUmPS7pE0riSbdeVdFr283lK0o2SdqhTr0/fv3brdJ8lvV7STEm3SlqR1b1c0jad6VHLmDv+My602S/7/3p/e3rQARHhxxB8AKcAq4FjgZ2BWcDzwO4l2k4GniNddN0Z+G9gFfDVJm1mAUuBAHYdin0GXgI8CpwFvB/4v8DXs884rYP9Wh+4C7gd+ED22bcBfwU2KNH+R1nch2cxXwI8BWzbru/fYOwzcCRwK3BM1t+9gRuzem8bav0t1B8NPJD9n72/v3++pb8vAx2AHx34ocLG2S+aLxXKrwVuLdF+ATC3UPZF4Glgkzr1tweeBA4bqATVH30GRgAb1Wn7fVIyW69DfTuKlDwn5somAM8C/92i7TbZz+TQXNnawJ3A5e36/g3SPo8hmyiWK3s5sBz44VDrb6HNbOBq4LwqJyif4huaJgMjgTmF8jnAmyRNaNRQ0mbAtnXang+sA7y3UH8d0l/apwL39Cnqvul4nyPiuYhYVuctbgJGkX7hdcJewLyIuLtWEBGLgd+T/tJu1fYZ4MJc22eBC4DJkkZlxb3+/nVIx/scEQ9H9ts6V+8x4C/Aa9rRiR7oj58xAJK2Bw4EPtme0DvHCWpo2or01/DdhfJF2fOkFm0hnWr4l+w/y8o6bT9L+sX2tV5F2j792eeiHUmnV5aWCbQXtqIQW2YRrWPbClgcESvrtB0JTMzV6+33rxP6o89rkLQRsDXwp/KhtkW/9Df7g3I26ZR08WddOWsPdADWERsBjxb/OgSW5Y43awvpNEfR8nxbSROBacCeEbFaUi/DbYt+6XORpMnAvsAXsr9aO2GjBrEtAzbsQ9va8dpzb79/ndAffa7nm4CAM1t8Rrv1V3+PJ432v9LTAAeCR1CDgKRds9k2rR439HNo/wNcFhG/afcbV7jP+RgnAT8Brge+OlBxWHtImgrsDxw5GEYXPZX9QXkCqX+rBjqeMjyCGhz+ALyxRL3aEH85MFqSCn8R1/6Sqncdpab2l1i9v9o2rLWVtC/wbuDtkkZnx1+SPW8g6eXZ+fzeqlyf8yRtAfwaWAzs3cHRE6T46sXW6C/nYtvNG7SFF/rWl+9fJ/RHn/9F0seBLwPTIuL7PYizXfqjv2cB1wHzcv9nRwLKXq+OiKd6EHPHOUENAtm55T/3oMki0jD+tbz4mkLtXPYdLdpCOq99Y61Q0njSVNha20nZ60Ws6efAY6SprL1S0T7XyjclzW57HJgcEY/3IM7eWMQL18nyJhVja9B2b0nrF65RTCLNULw7V6+3379O6I8+AyDpIOA7wNcj4pTeh9wn/dHfSaRE1uhU9kzg6B7E3HkDPY3Qj/Y/SFOGnwZOLJT/BritRPtbgOsLZdN48ZTr8cBOhcfRpOmuxwD/NtT6nJWNJSXOxcCm/dS3o0nTjbfIlY0nzdw6pkXbt2Q/k4NzZWuTJgFc0a7v32Dsc1a+d/Y5s/u7jwPwM96uzv/ZXwEPZV9PbFd/2vZ9GegA/OjQDzZN+15FuuF0J9L1oueB9xXqXQvcXSjbPas7K2v7mey9mt6MmtUdkPug+qPPwHrA/Kx8/+w/fP7xsg71awPSX8G3kaYc7wUsJE3rf0mu3ubZL7kvFtpfQPoL+T9JN3H+LOvDW3vz/eunn2XH+wzskJXdTDpdnf9ZvmWo9bfB555Hhe+DGvAA/OjQDzbdVDqNtA39atId8x+qU+8GYEmd8g9m/0FWA/eRblod0eIzd2JgE1RH+0z6izaaPHbqYN/GAReTTis+QTqNOr5Qpxbf9EL5esAZpJUDVgF/rBdr2e9fP/48O9pnYHqTn+Ua/z4Ge38bfOZ5VDhBebsNMzOrJE8zNzOzSnKCMjOzSnKCMjOzSnKCMjOzSnKCMjOzSnKCMjOzSnKCsiFH0tnZQrLfaHD8kMKCs09m25xfKmlfNViWXdIYSV+RtChrs1LSbZJOlfSqEnGtI+kTkv5X0nJJz2RbdF8p6SBJg27pMUnjs+/hIU3qlFn0d0kf4xgtabqkt9Y5doOk3/Xl/W1gDLr/EGbNSFqPtP0FwP6SjovGC7l+GLiftAbdOGAP0urkUyTtGbmFM7OVy68hbcVwFtCdHXoLcASwJWnZnEZxvRT4JfA24GzgNNIeUpuSVg04l7TU0IUN3mIwe1fh9aWkG6Kn58pW9/EzRgMnkn6e8/v4XlYRTlA21HwAeBlwFWn5ot2AKxvUvSVevK3C+ZIuAi4ibcD4KYBsZHMx6Q79d0fEP3NtrpV0JoWdhuv4JtAF7BgRfywc+7Gkt5BWA2hI0qiI6Osv8n4XEfPyryWtBh4ulhfqjCBtx97JVeKt4nyKz4aag0lrkh0CPJW9Li0iLgYuAw6XtH5WvDfwBuBzheRUa/NsRFzR6D0lvYa0xfasOsmp9h4LIuIPuTbTs1NfW0u6WtIK4KfZsVdJ+qGkhyWtlnSrpAMLnzld0hrLxEg6L386LXeK7ghJM7JTjo9KuiJbtT3fdn1J35H0iKQVki4njQD7LIvhFEmfk7SYNJp8U+507PhG/cuOLc4O1U7vrnHaUWmPsfnZqdnbJTUc8Vo1OEHZkCHp1cCuwIUR8RBpLbM9JbXakbToKtJpv67s9b8Dz2XlvbETaZ27RiO5Zi4D5pJOA35D0gbZ6/cCnyeNGG8jjf6m9DI+gKmkrcEPA44inZabU6gzi7QY6RmkdQvvBH7ch88sOoR0mvXY7PkfJdstzeKBtFPsu7LHL3J1XkvaTqIW+1LgIqVN/KyifIrPhpIDSYngh9nrHwAfBT4CfLcH73Nf9lyb+LAZ8FC8eK+dnqiNMu7LF2aTMUbkip6PiOcLbc+KiJm5NkcCrwN2jogbsuJfSnolcLKkcyLiuV7EuCQi9s99zljgNEmvjoh/SNqStIL7CRFxalbtGkkvAT7ei8+rR8B7Ctf+WjaKiNWSFmQv72lw6nAMsENE3JW973xSktqXtFGhVZBHUDaUHAzcFRG1TQd/Q/orvEen+Ui/KCGtGt1Jx5P2+6k9flinzqWF1zsAf88lp5o5pL2qJtE7xdHhbdnzuOz5naTfFz8t1Lugl59Xz6+iczu63lVLTgDZqdp/8kL/rIKcoGxIkNRF+uV8STbleDTwUuASYDtJr+/B222WPS/Nnv8GjM1dk+qp+7Pn4i/D84C3Z4+l1Fcs36hB3Qdyx3ujuA16bTLGutlzbTT5YKFe8XVfNPoetEO9LetX80L/rIKcoGyoqI2SjidNkqg9jszK/6MH77UHL2xkB2kkNoLWM/UamUu28V++MCIeiIjuiOgmTQqopziKWwZsUqfeJrnjkOJH0shCvVeUDbqgljxeWSgvvu6LeiPWVdlzu/phg4gTlA162S/hj5I2adu5zuMW4KBGN+AW3msf0oSE7+auOV1CmhDw1ezaTLHN2pL2aPSeEXE/8CPgCEnv7EHX6pkLbCpp+0L5/qRTVndkr+/NnrfOxTmatHNsb/yRlGT3LZTv18v3K6teP9YG3lOoVxvxNZ2qb4OLJ0nYULAH6S/qY+pcm0HSLNL25TsB1+cObStpDOmv83GkEc6HgV+TZrUBaRq5pA9m5bdImskLN+puA0wB/syLZ40V1SY3XC/pbNKo7FFgQ9J1pU1Iu6i2ch5plt0lkk4gnT48gDTT8IjcBIlfAo+Rpl2fSJqV+FlgRYnPWENE3Cnpx8AMSWsBN5GSxO69eb8euAn4K2nCxlqkRPRfpP7kPQg8Auwn6VbgSWBxRDzS4fisgzyCsqHgYNIv94saHP8J9e+Jugi4EbgaOIX0S28/YLeIWJWvGBF3kJLR+aTp0FeSEtKhpBHWEc0CjIjHgR2B40jT188HriNN3X4D8DFeOB3Z7H2ezN7nGuBU0jT0bYCDImJ2rt6jpIT7PGliw1dINwtfT+8dAZxDmgZ+KWn1jP2btuij7Ebd95OuA54HfJv0h8J5hXrPk6bAb0hK/jcBe3YyNus8b/luZmaV5BGUmZlVkhOUmZlVkhOUmZlVkhOUmZlVkhOUmZlVkhOUmZlVkhOUmZlVkhOUmZlV0v8HZqDo9j7Vk2EAAAAASUVORK5CYII=",
      "text/plain": [
       "<Figure size 432x288 with 1 Axes>"
      ]
     },
     "metadata": {
      "needs_background": "light"
     },
     "output_type": "display_data"
=======
     "name": "stdout",
     "output_type": "stream",
     "text": [
      "[(-0.88905561536625, 0.0), (-0.3458808933329564, 1.7671281589105107e-29), (nan, nan)]\n"
     ]
>>>>>>> Stashed changes
    }
   ],
   "source": [
    "plt.figure()\n",
    "plt.plot(range(1, len(loss_progress) + 1), loss_progress, marker='o', linestyle='-')\n",
    "plt.xlabel('Epoch')\n",
    "plt.ylabel('Loss')\n",
    "plt.title('Loss per Epoch')\n",
    "plt.grid(True)\n",
    "plt.show()\n",
    "\n",
    "final_pred_E_vox_detached = final_pred_E_vox.detach().numpy()\n",
    "\"\"\"Was having numpy pytorch issues, so this line helps fix it a bit.\"\"\"\n",
    "\n",
    "plt.scatter(be, sim_E_vox[0,:], label='simulated')\n",
    "plt.scatter(be, final_pred_E_vox_detached[0,:], label='predicted')\n",
    "plt.legend()\n",
    "\n",
    "# plot scatter plots to analyse correlation of predicted free params against ground truth\n",
    "plt.figure()\n",
    "\n",
    "param_sim = [sim_adc, sim_sigma, sim_axr]\n",
    "param_pred = [final_pred_adc, final_pred_sigma, final_pred_axr]\n",
    "param_name = ['ADC', 'Sigma', 'AXR']\n",
    "\n",
    "rvals = []\n",
    "\n",
    "for i,_ in enumerate(param_sim):\n",
    "    plt.rcParams['font.size'] = '16'\n",
    "    plt.scatter(param_sim[i], param_pred[i], s=2, c='navy')\n",
    "    plt.xlabel(param_name[i] + ' Ground Truth')\n",
    "    plt.ylabel(param_name[i] + ' Prediction')\n",
    "    rvals.append(scipy.stats.pearsonr(np.squeeze(param_sim[i]), np.squeeze(param_pred[i])))\n",
    "    plt.tight_layout\n",
    "    plt.show()\n",
    "\n",
    "print(rvals)\n"
   ]
  }
 ],
 "metadata": {
  "kernelspec": {
   "display_name": "project",
   "language": "python",
   "name": "python3"
  },
  "language_info": {
   "codemirror_mode": {
    "name": "ipython",
    "version": 3
   },
   "file_extension": ".py",
   "mimetype": "text/x-python",
   "name": "python",
   "nbconvert_exporter": "python",
   "pygments_lexer": "ipython3",
   "version": "3.7.13"
  },
  "orig_nbformat": 4,
  "vscode": {
   "interpreter": {
    "hash": "530a9f706d6870d645c2a38796218763bd8210a92912827e1b5537d0d478cbf5"
   }
  }
 },
 "nbformat": 4,
 "nbformat_minor": 2
}
