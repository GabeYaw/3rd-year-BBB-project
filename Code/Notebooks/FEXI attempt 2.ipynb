{
 "cells": [
  {
   "attachments": {},
   "cell_type": "markdown",
   "metadata": {},
   "source": [
    "### Imports"
   ]
  },
  {
   "cell_type": "code",
   "execution_count": 13,
   "metadata": {},
   "outputs": [],
   "source": [
    "import numpy as np\n",
    "import matplotlib.pyplot as plt\n",
    "import nibabel as nib\n",
    "import torch\n",
    "import torch.nn as nn\n",
    "import torch.optim as optim\n",
    "import torch.utils.data as utils\n",
    "from itertools import product\n",
    "from tqdm import tqdm\n",
    "from scipy.special import erf\n",
    "import scipy.stats\n",
    "\n",
    "from dmipy.core.acquisition_scheme import acquisition_scheme_from_bvalues\n",
    "from dmipy.core.modeling_framework import MultiCompartmentSphericalMeanModel\n",
    "from dmipy.signal_models import sphere_models, cylinder_models, gaussian_models\n",
    "\n",
    "from scipy.io import savemat"
   ]
  },
  {
   "attachments": {},
   "cell_type": "markdown",
   "metadata": {},
   "source": [
    "### Simulate Signal"
   ]
  },
  {
   "cell_type": "code",
   "execution_count": 14,
   "metadata": {},
   "outputs": [],
   "source": [
    "def sim_sig_np(bf,be,tm,adc,sigma,axr,nvox):\n",
    "    \n",
    "    be_tiled = np.tile(be,(nvox,1))\n",
    "    bf_tiled = np.tile(bf,(nvox,1))\n",
    "    tm_tiled = np.tile(tm,(nvox,1))\n",
    "\n",
    "    adc_tiled = np.transpose(np.tile(adc,(np.size(tm),1)))\n",
    "    sigma_tiled = np.transpose(np.tile(sigma,(np.size(tm),1)))\n",
    "    axr_tiled = np.transpose(np.tile(axr,(np.size(tm),1)))\n",
    "\n",
    "    tm_tiled[(tm_tiled == np.min(tm_tiled)) & (bf_tiled == 0)] = np.inf\n",
    "\n",
    "    adc_prime_tiled = adc_tiled * (1 - sigma_tiled* np.exp(-tm_tiled*axr_tiled))\n",
    "    normalised_signal_tiled = np.exp(-adc_prime_tiled * be_tiled)\n",
    "    \n",
    "    return normalised_signal_tiled, adc_prime_tiled\n",
    "\n",
    "def sim_sig_np_1_vox(bf,be,tm,adc,sigma,axr):\n",
    "\n",
    "    adc_tiled = np.transpose(np.tile(adc,(np.size(tm),1)))\n",
    "    sigma_tiled = np.transpose(np.tile(sigma,(np.size(tm),1)))\n",
    "    axr_tiled = np.transpose(np.tile(axr,(np.size(tm),1)))\n",
    "\n",
    "    tm[(tm == np.min(tm)) & (bf == 0)] = np.inf\n",
    "\n",
    "    adc_prime = adc_tiled * (1 - sigma_tiled* np.exp(-tm*axr_tiled))\n",
    "    normalised_signal = np.exp(-adc_prime * be)\n",
    "    \n",
    "    return normalised_signal, adc_prime\n",
    "\n",
    "def sim_sig_pytorch_new(bf,be,tm,adc,sigma,axr,nvox):\n",
    "    \n",
    "    be_tiled = torch.tile(be,(nvox,1))\n",
    "    bf_tiled = torch.tile(bf,(nvox,1))\n",
    "    tm_tiled = torch.tile(tm,(nvox,1))\n",
    "\n",
    "    \n",
    "    \"\"\"adc_tiled = torch.tile(adc,(tm.shape[0],1)).t()\n",
    "    sigma_tiled = torch.tile(sigma,(tm.shape[0],1)).t()\n",
    "    axr_tiled = torch.tile(axr,(tm.shape[0],1)).t()\"\"\"\n",
    "\n",
    "    adc_tiled = adc\n",
    "    axr_tiled = axr\n",
    "    sigma_tiled = sigma\n",
    "\n",
    "    tm_tiled[(tm_tiled == torch.min(tm_tiled)) & (bf_tiled == 0)] = torch.inf\n",
    "\n",
    "    \"\"\"print(\"be: \", be_tiled.shape)\n",
    "    print(\"bf: \", bf_tiled.shape)\n",
    "    print(\"tm: \", tm_tiled.shape)\n",
    "    print(\"adc: \", adc_tiled.shape)\n",
    "    print(\"sigma: \", sigma_tiled.shape)\n",
    "    print(\"axr: \", axr_tiled.shape)\"\"\"\n",
    "\n",
    "\n",
    "    adc_prime_tiled = adc_tiled * (1 - sigma_tiled*torch.exp(-tm_tiled*axr_tiled))\n",
    "    normalised_signal_tiled = torch.exp(-adc_prime_tiled * be_tiled)\n",
    "    \n",
    "    return normalised_signal_tiled, adc_prime_tiled"
   ]
  },
  {
   "cell_type": "code",
   "execution_count": 15,
   "metadata": {},
   "outputs": [],
   "source": [
    "def sim_sig_pytorch(bf, be, tm, adc_tiled, sigma_tiled, axr_tiled, batch_size):\n",
    "    \"\"\"batch_size and nvox are kind of interchangable\n",
    "    might be useful to know for testing purposes\n",
    "    \"\"\"\n",
    "    be_tiled = torch.tile(be,(batch_size,1))\n",
    "    bf_tiled = torch.tile(bf,(batch_size,1))\n",
    "    tm_tiled = torch.tile(tm,(batch_size,1))\n",
    "\n",
    "    \"\"\"\n",
    "    use this section for testing if function works as intended    \n",
    "    adc_tiled = torch.tile(adc,(tm.shape[0],1)).t()\n",
    "    sigma_tiled = torch.tile(sigma,(tm.shape[0],1)).t()\n",
    "    axr_tiled = torch.tile(axr,(tm.shape[0],1)).t()\n",
    "    \"\"\"\n",
    "\n",
    "    tm_tiled[(tm_tiled == torch.min(tm_tiled)) & (bf_tiled == 0)] = float('inf')\n",
    "    \n",
    "\n",
    "    adc_prime_tiled = adc_tiled * (1 - sigma_tiled * torch.exp(-tm_tiled * axr_tiled))\n",
    "    normalised_signal_tiled = torch.exp(-adc_prime_tiled * be_tiled)\n",
    "\n",
    "    return normalised_signal_tiled, adc_prime_tiled"
   ]
  },
  {
   "attachments": {},
   "cell_type": "markdown",
   "metadata": {},
   "source": [
    "### Initial variables."
   ]
  },
  {
   "cell_type": "code",
   "execution_count": 16,
   "metadata": {},
   "outputs": [],
   "source": [
    "nvox = 1000 # number of voxels to simulate\n",
    "\n",
    "bf = np.array([0, 0, 250, 250, 250, 250, 250, 250]) * 1e-3   # filter b-values [ms/um2]\n",
    "be = np.array([0, 250, 0, 250, 0, 250, 0, 250]) * 1e-3       # encoding b-values [ms/um2]\n",
    "tm = np.array([20, 20, 20, 20, 200, 200, 400, 400], dtype=np.float32) * 1e-3 # mixing time [s]\n",
    "\n",
    "adc_lb = 0.1        #[um2/ms]\n",
    "adc_ub = 3.5        #[um2/ms]\n",
    "sig_lb = 0          #[a.u.]\n",
    "sig_ub = 1          #[a.u.]\n",
    "axr_lb = 0.1        #[s-1]\n",
    "axr_ub = 20         #[s-1]\n",
    "\n",
    "#consider doing in si units\n",
    "\n",
    "limits = np.array([[adc_lb, adc_ub], [sig_lb, sig_ub] , [axr_lb, axr_ub]])\n",
    "\n",
    "adc_init = (adc_lb + adc_ub) / 2 #[um2/ms]\n",
    "sig_init = (sig_lb + sig_ub) / 2 #[a.u.]\n",
    "axr_init = (axr_lb + axr_ub) / 2 #[ms-1]\n",
    "\n",
    "num_inits = 5\n",
    "\n",
    "# Create equally spaced arrays for each parameter\n",
    "# remove first and last values which are on the \"face of the cube\"\n",
    "adc_inits = np.linspace(adc_lb, adc_ub, num_inits)[1:-1]\n",
    "sig_inits = np.linspace(sig_lb, sig_ub, num_inits)[1:-1]\n",
    "axr_inits = np.linspace(axr_lb, axr_ub, num_inits)[1:-1]\n",
    "\n",
    "# Generate all permutations of combinations\n",
    "all_inits = list(product(adc_inits, sig_inits, axr_inits))\n",
    "\n",
    "# Convert the list of tuples to a NumPy array\n",
    "all_inits = np.array(all_inits)\n",
    "\n",
    "sim_adc = np.random.uniform(adc_lb,adc_ub,nvox)                 # ADC, simulated [um2/ms]\n",
    "sim_sigma = np.random.uniform(sig_lb,sig_ub,nvox)               # sigma, simulated [a.u.]\n",
    "sim_axr = np.random.uniform(axr_lb,axr_ub,nvox)                 # AXR, simulated [ms-1]\n",
    "\n",
    "sim_E_vox, sim_adc_prime = sim_sig_np(bf,be,tm,sim_adc,sim_sigma,sim_axr,nvox)"
   ]
  },
  {
   "cell_type": "code",
   "execution_count": 17,
   "metadata": {},
   "outputs": [
    {
     "data": {
      "text/plain": [
       "'sim_adc1 = torch.tensor(sim_adc)\\nsim_sigma1 = torch.tensor(sim_sigma)\\nsim_axr1 = torch.tensor(sim_axr)\\nbe = torch.tensor(be)\\nbf = torch.tensor(bf)\\ntm = torch.tensor(tm)\\n\\nsim_E_vox1, sim_adc_prime1 = sim_sig_pytorch(bf,be,tm,sim_adc1,sim_sigma1,sim_axr1,nvox)'"
      ]
     },
     "execution_count": 17,
     "metadata": {},
     "output_type": "execute_result"
    }
   ],
   "source": [
    "\"\"\"sim_adc1 = torch.tensor(sim_adc)\n",
    "sim_sigma1 = torch.tensor(sim_sigma)\n",
    "sim_axr1 = torch.tensor(sim_axr)\n",
    "be = torch.tensor(be)\n",
    "bf = torch.tensor(bf)\n",
    "tm = torch.tensor(tm)\n",
    "\n",
    "sim_E_vox1, sim_adc_prime1 = sim_sig_pytorch(bf,be,tm,sim_adc1,sim_sigma1,sim_axr1,nvox)\"\"\""
   ]
  },
  {
   "attachments": {},
   "cell_type": "markdown",
   "metadata": {},
   "source": [
    "### Histogram plots"
   ]
  },
  {
   "cell_type": "code",
   "execution_count": 18,
   "metadata": {},
   "outputs": [
    {
     "data": {
      "image/png": "[encoded data removed]",
      "text/plain": [
       "<Figure size 1080x360 with 3 Axes>"
      ]
     },
     "metadata": {
      "needs_background": "light"
     },
     "output_type": "display_data"
    },
    {
     "data": {
      "image/png": "[encoded data removed]",
      "text/plain": [
       "<Figure size 1080x360 with 3 Axes>"
      ]
     },
     "metadata": {
      "needs_background": "light"
     },
     "output_type": "display_data"
    }
   ],
   "source": [
    "n_bins=20\n",
    "#make 200 and voxels 100,000 to see adc prime dropoff\n",
    "fig, axs = plt.subplots(1, 3, sharey=True,figsize=(15, 5))\n",
    "axs[0].hist(sim_adc, bins=n_bins)\n",
    "axs[1].hist(sim_sigma, bins=n_bins)\n",
    "axs[2].hist(sim_axr, bins=n_bins)\n",
    "axs[0].set_title('ADC Histogram ')\n",
    "axs[0].set_xlabel('ADC Values [um^2/ms]')\n",
    "axs[1].set_title('Sigma Histogram')\n",
    "axs[1].set_xlabel('Sigma Values [arbitrary units]')\n",
    "axs[2].set_title('AXR Histogram')\n",
    "axs[2].set_xlabel('AXR Values [ms-1]');\n",
    "\n",
    "\n",
    "fig, axs = plt.subplots(1, 3,figsize=(15, 5))\n",
    "axs[0].hist(sim_E_vox.flatten(), bins=n_bins)\n",
    "axs[0].set_title('Signal Histogram ')\n",
    "axs[0].set_xlabel('Signal Values [units?]')\n",
    "axs[1].hist(sim_E_vox[sim_E_vox != 1].flatten(), bins=n_bins)\n",
    "axs[1].set_title('Signal Histogram with ones removed')\n",
    "axs[1].set_xlabel('Signal Values [units?]')\n",
    "axs[2].hist(sim_adc_prime.flatten(), bins=n_bins)\n",
    "axs[2].set_title('ADC prime Histogram')\n",
    "axs[2].set_xlabel('ADC prime Values [units?]');\n"
   ]
  },
  {
   "attachments": {},
   "cell_type": "markdown",
   "metadata": {},
   "source": [
    "### Plotting b-value against normalised signal"
   ]
  },
  {
   "cell_type": "code",
   "execution_count": 19,
   "metadata": {},
   "outputs": [
    {
     "data": {
      "image/png": "[encoded data removed]",
      "text/plain": [
       "<Figure size 432x288 with 1 Axes>"
      ]
     },
     "metadata": {
      "needs_background": "light"
     },
     "output_type": "display_data"
    }
   ],
   "source": [
    "plt.plot([be[0], be[1]], [sim_E_vox[0,0], sim_E_vox[0,1]], 'bo-')\n",
    "plt.annotate(tm[0], (be[1], sim_E_vox[0, 1]), textcoords=\"offset points\", xytext=(20,5), ha='center')\n",
    "\n",
    "plt.plot([be[2], be[3]], [sim_E_vox[0,2], sim_E_vox[0,3]], 'go-')\n",
    "plt.annotate(tm[2], (be[3], sim_E_vox[0, 3]), textcoords=\"offset points\", xytext=(20,5), ha='center')\n",
    "\n",
    "plt.plot([be[4], be[5]], [sim_E_vox[0,4], sim_E_vox[0,5]], 'ko-')\n",
    "plt.annotate(tm[4], (be[5], sim_E_vox[0, 5]), textcoords=\"offset points\", xytext=(20,5), ha='center')\n",
    "\n",
    "plt.plot([be[6], be[7]], [sim_E_vox[0,6], sim_E_vox[0,7]], 'mo-')\n",
    "plt.annotate(tm[6], (be[7], sim_E_vox[0, 7]), textcoords=\"offset points\", xytext=(20,5), ha='center')\n",
    "\n",
    "\n",
    "#plt.title('Scatter plot with 4 lines')\n",
    "plt.xlabel('Encoding block b-value [m2/s]')\n",
    "#are units correct\n",
    "plt.ylabel('Normalised Signal (sum of the magnetisations)')\n",
    "#unit?\n",
    "plt.grid(True)\n",
    "plt.show()\n"
   ]
  },
  {
   "attachments": {},
   "cell_type": "markdown",
   "metadata": {},
   "source": [
    "### Least squares fit\n"
   ]
  },
  {
   "cell_type": "code",
   "execution_count": null,
   "metadata": {},
   "outputs": [],
   "source": [
    "def sse_adc_prime_1_vox(variables_to_optimize, tm, bf, be, smeas):\n",
    "    # For the signal from 1 voxel.\n",
    "    adc_est, sigma_est, axr_est = variables_to_optimize\n",
    "    _ , adc_tm_fit = sim_sig_np_1_vox(bf,be,tm,adc_est,sigma_est,axr_est)\n",
    "\n",
    "    bf_tm = np.column_stack((bf.flatten(), tm.flatten()))\n",
    "\n",
    "    # Find unique rows and corresponding indices\n",
    "    univols, univols_indices = np.unique(bf_tm, axis=0, return_index=True)\n",
    "\n",
    "    nsf = univols.shape[0]\n",
    "\n",
    "    ix1 = np.where((np.sum(univols[:, None, :] == bf_tm, axis=2) == 2) & (be == 0))[1]\n",
    "    ix2 = np.where((np.sum(univols[:, None, :] == bf_tm, axis=2) == 2) & (be > 0))[1]\n",
    "    \n",
    "    #this line is hardcoded\n",
    "    smeas = smeas.reshape(8)\n",
    "\n",
    "    adc_tm_calc = -1 / (be[ix2] - be[ix1]) * np.log(smeas[ix2] / smeas[ix1])\n",
    "\n",
    "    #this line is hardcoded\n",
    "    adc_tm_fit = adc_tm_fit[:, ::2]\n",
    "\n",
    "    sse = np.sum((adc_tm_calc - adc_tm_fit) ** 2)\n",
    "    return sse\n"
   ]
  },
  {
   "cell_type": "code",
   "execution_count": null,
   "metadata": {},
   "outputs": [],
   "source": [
    "def callback(xk):\n",
    "    print('Estimates of ADC, sigma, AXR:    ', xk)\n",
    "\n",
    "# Define the bounds for adc, sigma, axr\n",
    "bounds = tuple(map(tuple, limits.tolist())) #this line seems messy\n",
    "\n",
    "NLLS_adc_all = np.empty(shape=(0,))\n",
    "NLLS_sigma_all = np.empty(shape=(0,))\n",
    "NLLS_axr_all = np.empty(shape=(0,))\n",
    "    \n",
    "NLLS_adc_prime_all = np.empty(shape=(nvox,8))\n",
    "NLLS_E_vox_all = np.empty(shape= (nvox,8))\n",
    "\n",
    "sses = np.array([])\n",
    "for current_vox in range(nvox):\n",
    "    #reset best for each voxel\n",
    "    best_sse = 1\n",
    "\n",
    "    #extract relevant info for current voxel\n",
    "    cur_E_vox = sim_E_vox[current_vox,:]\n",
    "    cur_adc_prime = sim_adc_prime[current_vox,:]\n",
    "\n",
    "    cur_adc = sim_adc[current_vox]\n",
    "    cur_sigma = sim_sigma[current_vox]\n",
    "    cur_axr = sim_axr[current_vox]\n",
    "\n",
    "    additional_args_1_vox = (tm, bf, be, cur_E_vox) \n",
    "\n",
    "    for combination in range(all_inits.shape[0]):\n",
    "        inits = all_inits[combination,:]\n",
    "        \n",
    "        result_1_vox = scipy.optimize.minimize(sse_adc_prime_1_vox, inits, args=additional_args_1_vox, bounds=bounds)\n",
    "\n",
    "        if result_1_vox.fun < best_sse:\n",
    "            best_sse = result_1_vox.fun\n",
    "            NLLS_cur_adc, NLLS_cur_sigma, NLLS_cur_axr = result_1_vox.x\n",
    "    \n",
    "    sses = np.append(sses,best_sse)\n",
    "    # note the 1 instead of nvox, because it is for 1 voxel \n",
    "    NLLS_cur_E_vox, NLLS_cur_adc_prime = sim_sig_np_1_vox(bf,be,tm,NLLS_cur_adc, NLLS_cur_sigma, NLLS_cur_axr)\n",
    "\n",
    "    NLLS_adc_all = np.append(NLLS_adc_all, NLLS_cur_adc)\n",
    "    NLLS_sigma_all = np.append(NLLS_sigma_all, NLLS_cur_sigma)\n",
    "    NLLS_axr_all = np.append(NLLS_axr_all, NLLS_cur_axr)\n",
    "    \n",
    "    NLLS_adc_prime_all[current_vox,:] = NLLS_cur_adc_prime\n",
    "    NLLS_E_vox_all[current_vox,:] = NLLS_cur_E_vox"
   ]
  },
  {
   "attachments": {},
   "cell_type": "markdown",
   "metadata": {},
   "source": [
    "### NLLS Plots"
   ]
  },
  {
   "cell_type": "code",
   "execution_count": null,
   "metadata": {},
   "outputs": [],
   "source": [
    "#Debugging sse and seeing how large it is for the worst values. \n",
    "sses.sort()\n",
    "sses_descending = sses[::-1]\n",
    "\n",
    "\n",
    "\"\"\"MAYBE ADD LOSS PER 'EPOCH' FOR NLLS\n",
    "plt.figure()\n",
    "plt.plot(range(1, len(loss_progress) + 1), loss_progress, marker='o', linestyle='-')\n",
    "plt.xlabel('Epoch')\n",
    "plt.ylabel('Loss')\n",
    "plt.title('Loss per Epoch')\n",
    "plt.grid(True)\n",
    "plt.show()\"\"\"\n",
    "\n",
    "\n",
    "#plotting the sse\n",
    "plt.figure()\n",
    "plt.hist(sses.flatten(), bins=200)\n",
    "\n",
    "plt.figure()\n",
    "# for first voxel\n",
    "plt.scatter(be, sim_E_vox[0,:], label='simulated')\n",
    "plt.scatter(be, NLLS_E_vox_all[0,:], label='predicted')\n",
    "plt.xlabel(\"be\")\n",
    "plt.ylabel(\"tm\")\n",
    "plt.legend()\n",
    "\n",
    "# plot scatter plots to analyse correlation of predicted free params against ground truth\n",
    "plt.figure()\n",
    "\n",
    "param_sim = [sim_adc, sim_sigma, sim_axr]\n",
    "param_pred = [NLLS_adc_all, NLLS_sigma_all, NLLS_axr_all]\n",
    "param_name = ['ADC', 'Sigma', 'AXR']\n",
    "\n",
    "rvals = []\n",
    "\n",
    "for i,_ in enumerate(param_sim):\n",
    "    plt.rcParams['font.size'] = '16'\n",
    "    plt.scatter(param_sim[i], param_pred[i], s=2, c='navy')\n",
    "    plt.xlabel(param_name[i] + ' Ground Truth')\n",
    "    plt.ylabel(param_name[i] + ' Prediction')\n",
    "    #check what line below does. Commented out because it gave an error when using 1 voxel\n",
    "    #rvals.append(scipy.stats.pearsonr(np.squeeze(param_sim[i]), np.squeeze(param_pred[i])))\n",
    "    plt.tight_layout\n",
    "    plt.show()\n",
    "\n",
    "print(rvals)\n"
   ]
  },
  {
   "attachments": {},
   "cell_type": "markdown",
   "metadata": {},
   "source": [
    "### Creating the neural network"
   ]
  },
  {
   "cell_type": "code",
   "execution_count": 20,
   "metadata": {},
   "outputs": [],
   "source": [
    "class Net(nn.Module): # this is the neural network\n",
    "    #defining the init and foward pass functions. \n",
    "\n",
    "    def __init__(self,be,bf,tm,nparams,limits):\n",
    "        super(Net, self).__init__()\n",
    "\n",
    "        self.be = be\n",
    "        self.bf = bf\n",
    "        self.tm = tm\n",
    "        self.limits = limits\n",
    "\n",
    "        #defining the layers that we want. \n",
    "        # 3 layers with no. of be nodes. \n",
    "        self.layers = nn.ModuleList()\n",
    "        for i in range(3): # 3 fully connected hidden layers\n",
    "            self.layers.extend([nn.Linear(len(be), len(be)), nn.PReLU()])\n",
    "            #https://pytorch.org/docs/stable/generated/torch.nn.PReLU.html\n",
    "        self.encoder = nn.Sequential(*self.layers, nn.Linear(len(be), nparams))\n",
    "\n",
    "    def forward(self, E_vox):\n",
    "\n",
    "        params = torch.nn.functional.softplus(self.encoder(E_vox))\n",
    "        #running a forward pass through the network\n",
    "\n",
    "        #SoftPlus is a smooth approximation to the ReLU function and can be used to constrain the output of a machine to always be positive\n",
    "        #params contains batch_size x nparams outputs, so each row is adc, sigma and axr.\n",
    "\n",
    "        #unsqueeze adds an additional dimension. \n",
    "        #parameter constraints from Elizabeth matlab \n",
    "\n",
    "        adc = torch.tile(torch.clamp(params[:, 0].unsqueeze(1), min=limits[0,0], max=limits[0,1]), (1, tm.shape[0]))\n",
    "        sigma = torch.tile(torch.clamp(params[:, 1].unsqueeze(1), min=limits[1,0], max=limits[1,1]), (1, tm.shape[0]))\n",
    "        axr = torch.tile(torch.clamp(params[:, 2].unsqueeze(1), min=limits[2,0], max=limits[2,1]), (1, tm.shape[0]))\n",
    "\n",
    "        E_vox,_ = sim_sig_pytorch(self.bf, self.be, self.tm, adc, sigma, axr, axr.shape[0])\n",
    "        #E_vox, adc_prime = sim_sig_pytorch(self.bf, self.be, self.tm, adc, sigma, axr, axr.shape[0])\n",
    "\n",
    "        #axr.shape[0] is either the batch size or nvox\n",
    "\n",
    "        return E_vox, adc, sigma, axr\n"
   ]
  },
  {
   "attachments": {},
   "cell_type": "markdown",
   "metadata": {},
   "source": [
    "### NN continued"
   ]
  },
  {
   "cell_type": "code",
   "execution_count": 21,
   "metadata": {},
   "outputs": [],
   "source": [
    "# define network\n",
    "nparams = 3\n",
    "#because of adc, sigma and axr\n",
    "\n",
    "#converting numpy arrays to pytorch tensors. \n",
    "be = torch.tensor(be)\n",
    "bf = torch.tensor(bf)\n",
    "tm = torch.tensor(tm)\n",
    "batch_size = 128\n",
    "\n",
    "#initilise network\n",
    "net = Net(be, bf, tm, nparams,limits)\n",
    "\n",
    "#create batch queues for data\n",
    "#// means divide and round down. \n",
    "num_batches = len(sim_E_vox) // batch_size\n",
    "\n",
    "#import the sim_E_vox array into the dataloader\n",
    "#drop_last ignores the last batch if it is the wrong size. \n",
    "#num_workers is about performance. \n",
    "\n",
    "trainloader = utils.DataLoader(torch.from_numpy(sim_E_vox.astype(np.float32)),\n",
    "                                batch_size = batch_size, \n",
    "                                shuffle = True,\n",
    "                                num_workers = 0, #was 2 previously\n",
    "                                drop_last = True)\n",
    "\n",
    "# loss function and optimizer\n",
    "#choosing which loss function to use. \n",
    "#not sure what the optmizer is\n",
    "criterion = nn.MSELoss()\n",
    "optimizer = optim.Adam(net.parameters(), lr = 0.0001)\n",
    "\n",
    "# best loss\n",
    "best = 1e16\n",
    "num_bad_epochs = 0\n",
    "#can increase patience a lot, speed not an issue.\n",
    "patience = 10"
   ]
  },
  {
   "attachments": {},
   "cell_type": "markdown",
   "metadata": {},
   "source": [
    "### Training"
   ]
  },
  {
   "cell_type": "code",
   "execution_count": 22,
   "metadata": {},
   "outputs": [
    {
     "name": "stdout",
     "output_type": "stream",
     "text": [
      "-----------------------------------------------------------------\n",
      "epoch: 0; bad epochs: 0\n"
     ]
    },
    {
     "name": "stderr",
     "output_type": "stream",
     "text": [
      "100%|██████████| 7/7 [00:00<00:00, 142.71it/s]\n"
     ]
    },
    {
     "name": "stdout",
     "output_type": "stream",
     "text": [
      "loss: nan\n",
      "-----------------------------------------------------------------\n",
      "epoch: 1; bad epochs: 1\n"
     ]
    },
    {
     "name": "stderr",
     "output_type": "stream",
     "text": [
      "100%|██████████| 7/7 [00:00<00:00, 180.30it/s]\n"
     ]
    },
    {
     "name": "stdout",
     "output_type": "stream",
     "text": [
      "loss: nan\n",
      "-----------------------------------------------------------------\n",
      "epoch: 2; bad epochs: 2\n"
     ]
    },
    {
     "name": "stderr",
     "output_type": "stream",
     "text": [
      "100%|██████████| 7/7 [00:00<00:00, 178.74it/s]\n"
     ]
    },
    {
     "name": "stdout",
     "output_type": "stream",
     "text": [
      "loss: nan\n",
      "-----------------------------------------------------------------\n",
      "epoch: 3; bad epochs: 3\n"
     ]
    },
    {
     "name": "stderr",
     "output_type": "stream",
     "text": [
      "100%|██████████| 7/7 [00:00<00:00, 152.28it/s]\n"
     ]
    },
    {
     "name": "stdout",
     "output_type": "stream",
     "text": [
      "loss: nan\n",
      "-----------------------------------------------------------------\n",
      "epoch: 4; bad epochs: 4\n"
     ]
    },
    {
     "name": "stderr",
     "output_type": "stream",
     "text": [
      "100%|██████████| 7/7 [00:00<00:00, 144.85it/s]\n"
     ]
    },
    {
     "name": "stdout",
     "output_type": "stream",
     "text": [
      "loss: nan\n",
      "-----------------------------------------------------------------\n",
      "epoch: 5; bad epochs: 5\n"
     ]
    },
    {
     "name": "stderr",
     "output_type": "stream",
     "text": [
      "100%|██████████| 7/7 [00:00<00:00, 55.40it/s]\n"
     ]
    },
    {
     "name": "stdout",
     "output_type": "stream",
     "text": [
      "loss: nan\n",
      "-----------------------------------------------------------------\n",
      "epoch: 6; bad epochs: 6\n"
     ]
    },
    {
     "name": "stderr",
     "output_type": "stream",
     "text": [
      "100%|██████████| 7/7 [00:00<00:00, 113.01it/s]\n"
     ]
    },
    {
     "name": "stdout",
     "output_type": "stream",
     "text": [
      "loss: nan\n",
      "-----------------------------------------------------------------\n",
      "epoch: 7; bad epochs: 7\n"
     ]
    },
    {
     "name": "stderr",
     "output_type": "stream",
     "text": [
      "100%|██████████| 7/7 [00:00<00:00, 86.80it/s]\n"
     ]
    },
    {
     "name": "stdout",
     "output_type": "stream",
     "text": [
      "loss: nan\n",
      "-----------------------------------------------------------------\n",
      "epoch: 8; bad epochs: 8\n"
     ]
    },
    {
     "name": "stderr",
     "output_type": "stream",
     "text": [
      "100%|██████████| 7/7 [00:00<00:00, 169.94it/s]\n"
     ]
    },
    {
     "name": "stdout",
     "output_type": "stream",
     "text": [
      "loss: nan\n",
      "-----------------------------------------------------------------\n",
      "epoch: 9; bad epochs: 9\n"
     ]
    },
    {
     "name": "stderr",
     "output_type": "stream",
     "text": [
      "100%|██████████| 7/7 [00:00<00:00, 180.45it/s]"
     ]
    },
    {
     "name": "stdout",
     "output_type": "stream",
     "text": [
      "loss: nan\n",
      "done, best loss: 1e+16\n",
      "done\n"
     ]
    },
    {
     "name": "stderr",
     "output_type": "stream",
     "text": [
      "\n"
     ]
    }
   ],
   "source": [
    "# train\n",
    "loss_progress = np.empty(shape=(0,)) \n",
    "for epoch in range(10000): \n",
    "    print(\"-----------------------------------------------------------------\")\n",
    "    print(\"epoch: {}; bad epochs: {}\".format(epoch, num_bad_epochs))\n",
    "    net.train()\n",
    "    running_loss = 0.\n",
    "\n",
    "    #tqdm shows a progress bar. \n",
    "    for i, sim_E_vox_batch in enumerate(tqdm(trainloader), 0):\n",
    "        # zero the parameter gradients\n",
    "        optimizer.zero_grad()\n",
    "\n",
    "        # forward + backward + optimize\n",
    "        pred_E_vox, pred_adc, pred_sigma, pred_axr = net(sim_E_vox_batch)\n",
    "        if torch.isnan(pred_E_vox).any():\n",
    "            print(\"nan found\")\n",
    "\n",
    "        sim_E_vox_batch64 = sim_E_vox_batch.to(torch.float64)\n",
    "        #needed so that loss comparison works\n",
    "        \n",
    "        loss = criterion(pred_E_vox, sim_E_vox_batch64)\n",
    "        \n",
    "        loss.backward()\n",
    "        optimizer.step()\n",
    "        running_loss += loss.item()\n",
    "        \n",
    "    print(\"loss: {}\".format(running_loss))\n",
    "    # early stopping\n",
    "    if running_loss < best:\n",
    "        print(\"####################### saving good model #######################\")\n",
    "        final_model = net.state_dict()\n",
    "        best = running_loss\n",
    "        num_bad_epochs = 0\n",
    "        loss_progress = np.append(loss_progress, best)\n",
    "    else:\n",
    "        num_bad_epochs = num_bad_epochs + 1\n",
    "        loss_progress = np.append(loss_progress, best)\n",
    "        if num_bad_epochs == patience:\n",
    "            print(\"done, best loss: {}\".format(best))\n",
    "            break\n",
    "print(\"done\")\n",
    "\n",
    "net.load_state_dict(final_model)\n",
    "\n",
    "net.eval()\n",
    "with torch.no_grad():\n",
    "    final_pred_E_vox, final_pred_adc_repeated, final_pred_sigma_repeated, final_pred_axr_repeated = net(torch.from_numpy(sim_E_vox.astype(np.float32)))\n",
    "    # adc sigma and axr will have 8 columns which are all the same\n",
    "\n",
    "final_pred_adc = final_pred_adc_repeated[:, 0]\n",
    "final_pred_sigma = final_pred_sigma_repeated [:, 0]\n",
    "final_pred_axr = final_pred_axr_repeated[:, 0]\n"
   ]
  },
  {
   "attachments": {},
   "cell_type": "markdown",
   "metadata": {},
   "source": [
    "### NN Plots"
   ]
  },
  {
   "cell_type": "code",
   "execution_count": null,
   "metadata": {},
   "outputs": [],
   "source": [
    "plt.figure()\n",
    "plt.plot(range(1, len(loss_progress) + 1), loss_progress, marker='o', linestyle='-')\n",
    "plt.xlabel('Epoch')\n",
    "plt.ylabel('Loss')\n",
    "plt.title('Loss per Epoch')\n",
    "plt.grid(True)\n",
    "plt.show()\n",
    "\n",
    "final_pred_E_vox_detached = final_pred_E_vox.detach().numpy()\n",
    "\"\"\"Was having numpy pytorch issues, so this line helps fix it a bit.\"\"\"\n",
    "\n",
    "plt.scatter(be, sim_E_vox[0,:], label='simulated')\n",
    "plt.scatter(be, final_pred_E_vox_detached[0,:], label='predicted')\n",
    "plt.legend()\n",
    "\n",
    "# plot scatter plots to analyse correlation of predicted free params against ground truth\n",
    "plt.figure()\n",
    "\n",
    "param_sim = [sim_adc, sim_sigma, sim_axr]\n",
    "param_pred = [final_pred_adc, final_pred_sigma, final_pred_axr]\n",
    "param_name = ['ADC', 'Sigma', 'AXR']\n",
    "\n",
    "rvals = []\n",
    "\n",
    "for i,_ in enumerate(param_sim):\n",
    "    plt.rcParams['font.size'] = '16'\n",
    "    plt.scatter(param_sim[i], param_pred[i], s=2, c='navy')\n",
    "    plt.xlabel(param_name[i] + ' Ground Truth')\n",
    "    plt.ylabel(param_name[i] + ' Prediction')\n",
    "    rvals.append(scipy.stats.pearsonr(np.squeeze(param_sim[i]), np.squeeze(param_pred[i])))\n",
    "    plt.tight_layout\n",
    "    plt.show()\n",
    "\n",
    "print(rvals)\n"
   ]
  }
 ],
 "metadata": {
  "kernelspec": {
   "display_name": "project",
   "language": "python",
   "name": "python3"
  },
  "language_info": {
   "codemirror_mode": {
    "name": "ipython",
    "version": 3
   },
   "file_extension": ".py",
   "mimetype": "text/x-python",
   "name": "python",
   "nbconvert_exporter": "python",
   "pygments_lexer": "ipython3",
   "version": "3.7.13"
  },
  "orig_nbformat": 4,
  "vscode": {
   "interpreter": {
    "hash": "530a9f706d6870d645c2a38796218763bd8210a92912827e1b5537d0d478cbf5"
   }
  }
 },
 "nbformat": 4,
 "nbformat_minor": 2
}
