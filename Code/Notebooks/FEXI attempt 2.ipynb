{
 "cells": [
  {
   "attachments": {},
   "cell_type": "markdown",
   "metadata": {},
   "source": [
    "### Imports"
   ]
  },
  {
   "cell_type": "code",
   "execution_count": 1,
   "metadata": {},
   "outputs": [
    {
     "name": "stderr",
     "output_type": "stream",
     "text": [
      "/Users/admin/opt/anaconda3/envs/project/lib/python3.7/site-packages/tqdm/auto.py:22: TqdmWarning: IProgress not found. Please update jupyter and ipywidgets. See https://ipywidgets.readthedocs.io/en/stable/user_install.html\n",
      "  from .autonotebook import tqdm as notebook_tqdm\n"
     ]
    }
   ],
   "source": [
    "import numpy as np\n",
    "import matplotlib.pyplot as plt\n",
    "import nibabel as nib\n",
    "import torch\n",
    "import torch.nn as nn\n",
    "import torch.optim as optim\n",
    "import torch.utils.data as utils\n",
    "from tqdm import tqdm\n",
    "from scipy.special import erf\n",
    "import scipy.stats\n",
    "\n",
    "from dmipy.core.acquisition_scheme import acquisition_scheme_from_bvalues\n",
    "from dmipy.core.modeling_framework import MultiCompartmentSphericalMeanModel\n",
    "from dmipy.signal_models import sphere_models, cylinder_models, gaussian_models\n",
    "\n",
    "from scipy.io import savemat"
   ]
  },
  {
   "attachments": {},
   "cell_type": "markdown",
   "metadata": {},
   "source": [
    "### Calculate ADC' (Prime)\n",
    "#### I have a feeling this would be much more useful if it took arrays as inputs and outputted an array. But this current method is good for the list comprehension line. "
   ]
  },
  {
   "cell_type": "code",
   "execution_count": 2,
   "metadata": {},
   "outputs": [],
   "source": [
    "def calc_adc_prime(adc, sigma, axr, tm):\n",
    "   adc_prime = adc * (1 - sigma* np.exp(-tm*axr))\n",
    "   return adc_prime\n",
    "\n",
    "def calc_adc_prime_array(adc, sigma, axr, tm):\n",
    "   \"\"\"not clear that this function is working as intended\"\"\"\n",
    "   adc = torch.tensor(adc)\n",
    "   sigma = torch.tensor(sigma)\n",
    "   axr = torch.tensor(axr)\n",
    "\n",
    "   tm = np.broadcast_to(tm, (adc.shape[0], 8))\n",
    "   tm = torch.tensor(tm)\n",
    "\n",
    "   adc = adc.numpy()\n",
    "   sigma = sigma.numpy()\n",
    "   axr = axr.numpy()\n",
    "   tm = tm.numpy()\n",
    "   \n",
    "\n",
    "   #maybe put a for loop here. Or you could 'pad out' the tm and sigma arrays so that they are the same size as adc and axr\n",
    "   adc_prime = adc * (1 - sigma * np.exp(-tm * axr))\n",
    "   return adc_prime\n"
   ]
  },
  {
   "attachments": {},
   "cell_type": "markdown",
   "metadata": {},
   "source": [
    "### Simulate Signal"
   ]
  },
  {
   "cell_type": "code",
   "execution_count": 3,
   "metadata": {},
   "outputs": [],
   "source": [
    "def simulate_sig(adc, sigma, axr, bf, be, tm, acq):\n",
    "    \"\"\"Generate an normalised output signal s based on known inputs for a given voxel\n",
    "Inputs  - adc:      apparent diffusion coefficient [m2/s]\n",
    "        - sigma:    filter efficiency\n",
    "        - axr:      exchange rate [1/s]\n",
    "        - bf:       filter block b-value [m2/s]\n",
    "        - be:       encoding block b-value [m2/s]\n",
    "        - tm:       mixing time [s]\n",
    "\n",
    "Output: - s:        signal (sum of the magnetisations) single value\n",
    "   Based off Elizabeth's code\n",
    "    \"\"\"\n",
    "\n",
    "    if bf == 0 and tm[acq] == min(tm):\n",
    "        tm[acq] = np.inf\n",
    "\n",
    "    #calculate ADC as fnc of mixing time\n",
    "\n",
    "    adc_prime = calc_adc_prime(adc,sigma,axr,tm[acq])\n",
    "\n",
    "    #compute signal\n",
    "    normalised_signal = np.exp(-adc_prime*be)\n",
    "\n",
    "    return normalised_signal, adc_prime\n",
    "    "
   ]
  },
  {
   "attachments": {},
   "cell_type": "markdown",
   "metadata": {},
   "source": [
    "### Initial variables."
   ]
  },
  {
   "cell_type": "code",
   "execution_count": 4,
   "metadata": {},
   "outputs": [],
   "source": [
    "nvox = 100 # number of voxels to simulate\n",
    "\n",
    "bf = np.array([0, 0, 250, 250, 250, 250, 250, 250]) * 1e6   # filter b-values [s/m2]\n",
    "be = np.array([0, 250, 0, 250, 0, 250, 0, 250]) * 1e6       # encoding b-values [s/m2]\n",
    "tm = np.array([20, 20, 20, 20, 200, 200, 400, 400]) * 1e-3  # mixing time [s]\n",
    "\"\"\"^also defined in neural net forward function. See if I can avoid duplicate. \"\"\"\n",
    "\n",
    "sim_adc = np.random.uniform(1e-9,1e-10,nvox)                # ADC, simulated [m2/s]\n",
    "sim_sigma = np.random.uniform(0.1,0.9,nvox)                 # sigma, simulated [a.u.]\n",
    "sim_axr = np.random.uniform(1,5,nvox)                       # AXR, simulated [s-1]\n",
    "\n",
    "# simulate signals    \n",
    "sigs_and_adc_prime = np.array([[simulate_sig(sim_adc[voxel], sim_sigma[voxel], sim_axr[voxel], bf[acq], be[acq], tm, acq) \n",
    "                    for acq in range(np.size(tm))] \n",
    "                    for voxel in range(nvox)])\n",
    "\n",
    "#E_vox is the signal\n",
    "E_vox = sigs_and_adc_prime[:, :, 0]\n",
    "adc_prime = sigs_and_adc_prime[:, :, 1]"
   ]
  },
  {
   "attachments": {},
   "cell_type": "markdown",
   "metadata": {},
   "source": [
    "### Plotting b-value against normalised signal"
   ]
  },
  {
   "cell_type": "code",
   "execution_count": 5,
   "metadata": {},
   "outputs": [
    {
     "data": {
      "image/png": "[encoded data removed]",
      "text/plain": [
       "<Figure size 432x288 with 1 Axes>"
      ]
     },
     "metadata": {
      "needs_background": "light"
     },
     "output_type": "display_data"
    },
    {
     "data": {
      "text/plain": [
       "\"\\nfor a in range(E_vox.shape[0]):\\n    for i in range(be.shape[0] - 1):\\n        plt.plot([be[i], be[i + 1]], [E_vox[a,i], E_vox[a,i + 1]], 'bo-')\\n\\n\\n\\n#plt.title('Scatter plot with 4 lines')\\nplt.xlabel('Encoding block b-value [m2/s]')\\n#are units correct\\nplt.ylabel('Normalised Signal (sum of the magnetisations)')\\n#unit?\\nplt.grid(True)\\nplt.show()\""
      ]
     },
     "execution_count": 5,
     "metadata": {},
     "output_type": "execute_result"
    }
   ],
   "source": [
    "plt.plot([be[0], be[1]], [E_vox[0,0], E_vox[0,1]], 'bo-')\n",
    "plt.annotate(tm[0], (be[1], E_vox[0, 1]), textcoords=\"offset points\", xytext=(20,5), ha='center')\n",
    "\n",
    "plt.plot([be[2], be[3]], [E_vox[0,2], E_vox[0,3]], 'go-')\n",
    "plt.annotate(tm[2], (be[3], E_vox[0, 3]), textcoords=\"offset points\", xytext=(20,5), ha='center')\n",
    "\n",
    "plt.plot([be[4], be[5]], [E_vox[0,4], E_vox[0,5]], 'ko-')\n",
    "plt.annotate(tm[4], (be[5], E_vox[0, 5]), textcoords=\"offset points\", xytext=(20,5), ha='center')\n",
    "\n",
    "plt.plot([be[6], be[7]], [E_vox[0,6], E_vox[0,7]], 'mo-')\n",
    "plt.annotate(tm[6], (be[7], E_vox[0, 7]), textcoords=\"offset points\", xytext=(20,5), ha='center')\n",
    "\n",
    "\n",
    "#plt.title('Scatter plot with 4 lines')\n",
    "plt.xlabel('Encoding block b-value [m2/s]')\n",
    "#are units correct\n",
    "plt.ylabel('Normalised Signal (sum of the magnetisations)')\n",
    "#unit?\n",
    "plt.grid(True)\n",
    "plt.show()\n",
    "'''\n",
    "for a in range(E_vox.shape[0]):\n",
    "    for i in range(be.shape[0] - 1):\n",
    "        plt.plot([be[i], be[i + 1]], [E_vox[a,i], E_vox[a,i + 1]], 'bo-')\n",
    "\n",
    "\n",
    "\n",
    "#plt.title('Scatter plot with 4 lines')\n",
    "plt.xlabel('Encoding block b-value [m2/s]')\n",
    "#are units correct\n",
    "plt.ylabel('Normalised Signal (sum of the magnetisations)')\n",
    "#unit?\n",
    "plt.grid(True)\n",
    "plt.show()'''"
   ]
  },
  {
   "attachments": {},
   "cell_type": "markdown",
   "metadata": {},
   "source": [
    "### Creating the neural network"
   ]
  },
  {
   "cell_type": "code",
   "execution_count": 6,
   "metadata": {},
   "outputs": [],
   "source": [
    "class Net(nn.Module): # this is the neural network\n",
    "    #defining the init and foward pass functions. \n",
    "\n",
    "    def __init__(self,be,bf,tm,nparams):\n",
    "        super(Net, self).__init__()\n",
    "\n",
    "        self.be = be\n",
    "        self.bf = bf\n",
    "        self.tm = tm\n",
    "\n",
    "        #defining the layers that we want. \n",
    "        # 3 layers with no. of be nodes. \n",
    "        self.layers = nn.ModuleList()\n",
    "        for i in range(3): # 3 fully connected hidden layers\n",
    "            self.layers.extend([nn.Linear(len(be), len(be)), nn.PReLU()])\n",
    "            #https://pytorch.org/docs/stable/generated/torch.nn.PReLU.html\n",
    "        self.encoder = nn.Sequential(*self.layers, nn.Linear(len(be), nparams))\n",
    "\n",
    "    def forward(self, X):\n",
    "        \"\"\"\n",
    "        What is X? snigdha's repo may help \n",
    "        Very unconfident in this as is rn.\n",
    "        \"\"\"\n",
    "\n",
    "        params = torch.nn.functional.softplus(self.encoder(X))\n",
    "        \"\"\" ^unclear of purpose or if needed\"\"\"\n",
    "        #SoftPlus is a smooth approximation to the ReLU function and can be used to constrain the output of a machine to always be positive\n",
    "\n",
    "\n",
    "        #params seems be a table containing each variable in a new column. \n",
    "        #unsqueeze adds an additional dimension. \n",
    "        #parameter constraints from Elizabeth matlab \n",
    "        adc = torch.clamp(params[:,0].unsqueeze(1), min=.1e-9, max=3.5e-9) \n",
    "        sigma = torch.clamp(params[:,1].unsqueeze(1), min=0, max=1)\n",
    "        axr = torch.clamp(params[:,2].unsqueeze(1), min=.1, max=20)\n",
    "\n",
    "        #tm = np.array([20, 20, 20, 20, 200, 200, 400, 400]) * 1e-3  # mixing time [s]\n",
    "        #should be a parameter\n",
    "        \n",
    "        voxel = 0\n",
    "        #this line gives an error. needs to be done for an array.\n",
    "        sigs_and_adc_prime = np.array([[simulate_sig(sim_adc[voxel], sim_sigma[voxel], sim_axr[voxel], bf[acq], be[acq], tm, acq) \n",
    "                    for acq in range(tm.size()[0])]\n",
    "                    for voxel in range(nvox)])\n",
    "\n",
    "        signals = sigs_and_adc_prime[:, :, 0]        \n",
    "        \n",
    "        X = signals\n",
    "\n",
    "        return X, adc, sigma, axr\n"
   ]
  },
  {
   "attachments": {},
   "cell_type": "markdown",
   "metadata": {},
   "source": [
    "### NN continued"
   ]
  },
  {
   "cell_type": "code",
   "execution_count": 7,
   "metadata": {},
   "outputs": [],
   "source": [
    "# define network\n",
    "nparams = 3\n",
    "\n",
    "#converting numpy arrays to pytorch tensors. \n",
    "be = torch.tensor(be)\n",
    "bf = torch.tensor(bf)\n",
    "tm = torch.tensor(tm)\n",
    "\n",
    "#initilise network\n",
    "net = Net(be, bf, tm, nparams)\n",
    "\n",
    "#create batch queues for data\n",
    "batch_size = 128\n",
    "#// means divide and round down. \n",
    "num_batches = len(E_vox) // batch_size\n",
    "\n",
    "#import the E_vox array into the dataloader amd convert to float.\n",
    "#drop_last ignores the last batch if it is the wrong size. \n",
    "#num_workers is about performance. \n",
    "\n",
    "trainloader = utils.DataLoader(torch.from_numpy(E_vox.astype(np.float32)),\n",
    "                                batch_size = batch_size, \n",
    "                                shuffle = True,\n",
    "                                num_workers = 0, #was 2 previously\n",
    "                                drop_last = True)\n",
    "\n",
    "# loss function and optimizer\n",
    "#choosing which loss function to use. \n",
    "#not sure what the optmizer is\n",
    "criterion = nn.MSELoss()\n",
    "optimizer = optim.Adam(net.parameters(), lr = 0.0001)\n",
    "\n",
    "# best loss\n",
    "best = 1e16\n",
    "num_bad_epochs = 0\n",
    "#can increase patience a lot, speed not an issue.\n",
    "patience = 10"
   ]
  },
  {
   "attachments": {},
   "cell_type": "markdown",
   "metadata": {},
   "source": [
    "### Training"
   ]
  },
  {
   "cell_type": "code",
   "execution_count": 8,
   "metadata": {},
   "outputs": [
    {
     "name": "stdout",
     "output_type": "stream",
     "text": [
      "-----------------------------------------------------------------\n",
      "epoch: 0; bad epochs: 0\n"
     ]
    },
    {
     "name": "stderr",
     "output_type": "stream",
     "text": [
      "0it [00:00, ?it/s]\n"
     ]
    },
    {
     "name": "stdout",
     "output_type": "stream",
     "text": [
      "loss: 0.0\n",
      "####################### saving good model #######################\n",
      "-----------------------------------------------------------------\n",
      "epoch: 1; bad epochs: 0\n"
     ]
    },
    {
     "name": "stderr",
     "output_type": "stream",
     "text": [
      "0it [00:00, ?it/s]\n"
     ]
    },
    {
     "name": "stdout",
     "output_type": "stream",
     "text": [
      "loss: 0.0\n",
      "-----------------------------------------------------------------\n",
      "epoch: 2; bad epochs: 1\n"
     ]
    },
    {
     "name": "stderr",
     "output_type": "stream",
     "text": [
      "0it [00:00, ?it/s]\n"
     ]
    },
    {
     "name": "stdout",
     "output_type": "stream",
     "text": [
      "loss: 0.0\n",
      "-----------------------------------------------------------------\n",
      "epoch: 3; bad epochs: 2\n"
     ]
    },
    {
     "name": "stderr",
     "output_type": "stream",
     "text": [
      "0it [00:00, ?it/s]\n"
     ]
    },
    {
     "name": "stdout",
     "output_type": "stream",
     "text": [
      "loss: 0.0\n",
      "-----------------------------------------------------------------\n",
      "epoch: 4; bad epochs: 3\n"
     ]
    },
    {
     "name": "stderr",
     "output_type": "stream",
     "text": [
      "0it [00:00, ?it/s]\n"
     ]
    },
    {
     "name": "stdout",
     "output_type": "stream",
     "text": [
      "loss: 0.0\n",
      "-----------------------------------------------------------------\n",
      "epoch: 5; bad epochs: 4\n"
     ]
    },
    {
     "name": "stderr",
     "output_type": "stream",
     "text": [
      "0it [00:00, ?it/s]\n"
     ]
    },
    {
     "name": "stdout",
     "output_type": "stream",
     "text": [
      "loss: 0.0\n",
      "-----------------------------------------------------------------\n",
      "epoch: 6; bad epochs: 5\n"
     ]
    },
    {
     "name": "stderr",
     "output_type": "stream",
     "text": [
      "0it [00:00, ?it/s]\n"
     ]
    },
    {
     "name": "stdout",
     "output_type": "stream",
     "text": [
      "loss: 0.0\n",
      "-----------------------------------------------------------------\n",
      "epoch: 7; bad epochs: 6\n"
     ]
    },
    {
     "name": "stderr",
     "output_type": "stream",
     "text": [
      "0it [00:00, ?it/s]\n"
     ]
    },
    {
     "name": "stdout",
     "output_type": "stream",
     "text": [
      "loss: 0.0\n",
      "-----------------------------------------------------------------\n",
      "epoch: 8; bad epochs: 7\n"
     ]
    },
    {
     "name": "stderr",
     "output_type": "stream",
     "text": [
      "0it [00:00, ?it/s]\n"
     ]
    },
    {
     "name": "stdout",
     "output_type": "stream",
     "text": [
      "loss: 0.0\n",
      "-----------------------------------------------------------------\n",
      "epoch: 9; bad epochs: 8\n"
     ]
    },
    {
     "name": "stderr",
     "output_type": "stream",
     "text": [
      "0it [00:00, ?it/s]\n"
     ]
    },
    {
     "name": "stdout",
     "output_type": "stream",
     "text": [
      "loss: 0.0\n",
      "-----------------------------------------------------------------\n",
      "epoch: 10; bad epochs: 9\n"
     ]
    },
    {
     "name": "stderr",
     "output_type": "stream",
     "text": [
      "0it [00:00, ?it/s]"
     ]
    },
    {
     "name": "stdout",
     "output_type": "stream",
     "text": [
      "loss: 0.0\n",
      "done, best loss: 0.0\n",
      "done\n"
     ]
    },
    {
     "name": "stderr",
     "output_type": "stream",
     "text": [
      "\n"
     ]
    }
   ],
   "source": [
    "\"\"\"Unchanged and untouch from snighda\n",
    "Have not made changes. \n",
    "\"\"\"\n",
    "# train\n",
    "for epoch in range(10000): \n",
    "    print(\"-----------------------------------------------------------------\")\n",
    "    print(\"epoch: {}; bad epochs: {}\".format(epoch, num_bad_epochs))\n",
    "    net.train()\n",
    "    running_loss = 0.\n",
    "\n",
    "    #tqdm shows a progress bar. \n",
    "    for i, X_batch in enumerate(tqdm(trainloader), 0):\n",
    "        # zero the parameter gradients\n",
    "        optimizer.zero_grad()\n",
    "\n",
    "        # forward + backward + optimize\n",
    "        X_pred, adc, sigma, axr = net(X_batch)\n",
    "        loss = criterion(X_pred, X_batch)\n",
    "        loss.backward()\n",
    "        optimizer.step()\n",
    "        running_loss += loss.item()\n",
    "      \n",
    "    print(\"loss: {}\".format(running_loss))\n",
    "    # early stopping\n",
    "    if running_loss < best:\n",
    "        print(\"####################### saving good model #######################\")\n",
    "        final_model = net.state_dict()\n",
    "        best = running_loss\n",
    "        num_bad_epochs = 0\n",
    "    else:\n",
    "        num_bad_epochs = num_bad_epochs + 1\n",
    "        if num_bad_epochs == patience:\n",
    "            print(\"done, best loss: {}\".format(best))\n",
    "            break\n",
    "print(\"done\")\n",
    "\n",
    "net.load_state_dict(final_model)\n",
    "\n",
    "net.eval()\n",
    "with torch.no_grad():\n",
    "    X_real_predict, adc, sigma, axr = net(torch.from_numpy(E_vox.astype(np.float32)))"
   ]
  }
 ],
 "metadata": {
  "kernelspec": {
   "display_name": "project",
   "language": "python",
   "name": "python3"
  },
  "language_info": {
   "codemirror_mode": {
    "name": "ipython",
    "version": 3
   },
   "file_extension": ".py",
   "mimetype": "text/x-python",
   "name": "python",
   "nbconvert_exporter": "python",
   "pygments_lexer": "ipython3",
   "version": "3.7.13"
  },
  "orig_nbformat": 4,
  "vscode": {
   "interpreter": {
    "hash": "530a9f706d6870d645c2a38796218763bd8210a92912827e1b5537d0d478cbf5"
   }
  }
 },
 "nbformat": 4,
 "nbformat_minor": 2
}
