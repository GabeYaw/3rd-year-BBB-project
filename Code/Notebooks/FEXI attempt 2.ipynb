{
 "cells": [
  {
   "attachments": {},
   "cell_type": "markdown",
   "metadata": {},
   "source": [
    "### Imports"
   ]
  },
  {
   "cell_type": "code",
   "execution_count": 1,
   "metadata": {},
   "outputs": [
    {
     "name": "stderr",
     "output_type": "stream",
     "text": [
      "/Users/admin/opt/anaconda3/envs/project/lib/python3.7/site-packages/tqdm/auto.py:22: TqdmWarning: IProgress not found. Please update jupyter and ipywidgets. See https://ipywidgets.readthedocs.io/en/stable/user_install.html\n",
      "  from .autonotebook import tqdm as notebook_tqdm\n"
     ]
    }
   ],
   "source": [
    "import numpy as np\n",
    "import matplotlib.pyplot as plt\n",
    "import nibabel as nib\n",
    "import torch\n",
    "import torch.nn as nn\n",
    "import torch.optim as optim\n",
    "import torch.utils.data as utils\n",
    "from itertools import product\n",
    "from tqdm import tqdm\n",
    "from scipy.special import erf\n",
    "import scipy.stats\n",
    "\n",
    "from dmipy.core.acquisition_scheme import acquisition_scheme_from_bvalues\n",
    "from dmipy.core.modeling_framework import MultiCompartmentSphericalMeanModel\n",
    "from dmipy.signal_models import sphere_models, cylinder_models, gaussian_models\n",
    "\n",
    "from scipy.io import savemat"
   ]
  },
  {
   "attachments": {},
   "cell_type": "markdown",
   "metadata": {},
   "source": [
    "### Simulate Signal"
   ]
  },
  {
   "cell_type": "code",
   "execution_count": 2,
   "metadata": {},
   "outputs": [],
   "source": [
    "def sim_sig_np(bf,be,tm,adc,sigma,axr,nvox):\n",
    "    \n",
    "    be_tiled = np.tile(be,(nvox,1))\n",
    "    bf_tiled = np.tile(bf,(nvox,1))\n",
    "    tm_tiled = np.tile(tm,(nvox,1))\n",
    "\n",
    "    adc_tiled = np.transpose(np.tile(adc,(np.size(tm),1)))\n",
    "    sigma_tiled = np.transpose(np.tile(sigma,(np.size(tm),1)))\n",
    "    axr_tiled = np.transpose(np.tile(axr,(np.size(tm),1)))\n",
    "\n",
    "    tm_tiled[(tm_tiled == np.min(tm_tiled)) & (bf_tiled == 0)] = np.inf\n",
    "\n",
    "    adc_prime_tiled = adc_tiled * (1 - sigma_tiled* np.exp(-tm_tiled*axr_tiled))\n",
    "    normalised_signal_tiled = np.exp(-adc_prime_tiled * be_tiled)\n",
    "\n",
    "    return normalised_signal_tiled, adc_prime_tiled\n",
    "\n",
    "def sim_sig_np_1_vox(bf,be,tm,adc,sigma,axr):\n",
    "\n",
    "    adc_tiled = np.transpose(np.tile(adc,(np.size(tm),1)))\n",
    "    sigma_tiled = np.transpose(np.tile(sigma,(np.size(tm),1)))\n",
    "    axr_tiled = np.transpose(np.tile(axr,(np.size(tm),1)))\n",
    "\n",
    "    tm[(tm == np.min(tm)) & (bf == 0)] = np.inf\n",
    "\n",
    "    adc_prime = adc_tiled * (1 - sigma_tiled* np.exp(-tm*axr_tiled))\n",
    "    normalised_signal = np.exp(-adc_prime * be)\n",
    "    \n",
    "    return normalised_signal, adc_prime\n",
    "\n",
    "def sim_sig_pytorch_new(bf,be,tm,adc,sigma,axr,nvox):\n",
    "    \n",
    "    be_tiled = torch.tile(be,(nvox,1))\n",
    "    bf_tiled = torch.tile(bf,(nvox,1))\n",
    "    tm_tiled = torch.tile(tm,(nvox,1))\n",
    "\n",
    "    \n",
    "    \"\"\"adc_tiled = torch.tile(adc,(tm.shape[0],1)).t()\n",
    "    sigma_tiled = torch.tile(sigma,(tm.shape[0],1)).t()\n",
    "    axr_tiled = torch.tile(axr,(tm.shape[0],1)).t()\"\"\"\n",
    "\n",
    "    adc_tiled = torch.tile(adc,(1,tm.shape[0]))\n",
    "    sigma_tiled = torch.tile(sigma,(1,tm.shape[0]))\n",
    "    axr_tiled = torch.tile(axr,(1,tm.shape[0]))\n",
    "\n",
    "    tm_tiled[(tm_tiled == torch.min(tm_tiled)) & (bf_tiled == 0)] = torch.inf\n",
    "\n",
    "    \"\"\"print(\"be: \", be_tiled.shape)\n",
    "    print(\"bf: \", bf_tiled.shape)\n",
    "    print(\"tm: \", tm_tiled.shape)\n",
    "    print(\"adc: \", adc_tiled.shape)\n",
    "    print(\"sigma: \", sigma_tiled.shape)\n",
    "    print(\"axr: \", axr_tiled.shape)\"\"\"\n",
    "\n",
    "\n",
    "    adc_prime_tiled = adc_tiled * (1 - sigma_tiled*torch.exp(-tm_tiled*axr_tiled))\n",
    "    normalised_signal_tiled = torch.exp(-adc_prime_tiled * be_tiled)\n",
    "    \n",
    "    return normalised_signal_tiled, adc_prime_tiled"
   ]
  },
  {
   "attachments": {},
   "cell_type": "markdown",
   "metadata": {},
   "source": [
    "### Initial variables."
   ]
  },
  {
   "cell_type": "code",
   "execution_count": 4,
   "metadata": {},
   "outputs": [],
   "source": [
    "nvox = 1000 # number of voxels to simulate\n",
    "\n",
    "bf = np.array([0, 0, 250, 250, 250, 250, 250, 250]) * 1e-3   # filter b-values [ms/um2]\n",
    "be = np.array([0, 250, 0, 250, 0, 250, 0, 250]) * 1e-3       # encoding b-values [ms/um2]\n",
    "tm = np.array([20, 20, 20, 20, 200, 200, 400, 400], dtype=np.float32) * 1e-3 # mixing time [s]\n",
    "\n",
    "adc_lb = 0.1        #[um2/ms]\n",
    "adc_ub = 3.5        #[um2/ms]\n",
    "sig_lb = 0          #[a.u.]\n",
    "sig_ub = 1          #[a.u.]\n",
    "axr_lb = 0.1        #[s-1]\n",
    "axr_ub = 20         #[s-1]\n",
    "\n",
    "#consider doing in si units\n",
    "\n",
    "limits = np.array([[adc_lb, adc_ub], [sig_lb, sig_ub] , [axr_lb, axr_ub]])\n",
    "\n",
    "adc_init = (adc_lb + adc_ub) / 2 #[um2/ms]\n",
    "sig_init = (sig_lb + sig_ub) / 2 #[a.u.]\n",
    "axr_init = (axr_lb + axr_ub) / 2 #[ms-1]\n",
    "\n",
    "num_inits = 5\n",
    "\n",
    "# Create equally spaced arrays for each parameter\n",
    "# remove first and last values which are on the \"face of the cube\"\n",
    "adc_inits = np.linspace(adc_lb, adc_ub, num_inits)[1:-1]\n",
    "sig_inits = np.linspace(sig_lb, sig_ub, num_inits)[1:-1]\n",
    "axr_inits = np.linspace(axr_lb, axr_ub, num_inits)[1:-1]\n",
    "\n",
    "# Generate all permutations of combinations\n",
    "all_inits = list(product(adc_inits, sig_inits, axr_inits))\n",
    "\n",
    "# Convert the list of tuples to a NumPy array\n",
    "all_inits = np.array(all_inits)\n",
    "\n",
    "sim_adc = np.random.uniform(adc_lb,adc_ub,nvox)                 # ADC, simulated [um2/ms]\n",
    "sim_sigma = np.random.uniform(sig_lb,sig_ub,nvox)               # sigma, simulated [a.u.]\n",
    "sim_axr = np.random.uniform(axr_lb,axr_ub,nvox)                 # AXR, simulated [s-1]\n",
    "\n",
    "sim_E_vox, sim_adc_prime = sim_sig_np(bf,be,tm,sim_adc,sim_sigma,sim_axr,nvox)\n",
    "\n",
    "\n",
    "#a_test1,a_test2 = sim_sig_pytorch(bf,be,tm,sim_adc,sim_sigma,sim_axr,len(sim_axr))\n"
   ]
  },
  {
   "attachments": {},
   "cell_type": "markdown",
   "metadata": {},
   "source": [
    "### Histogram plots"
   ]
  },
  {
   "cell_type": "code",
   "execution_count": 5,
   "metadata": {},
   "outputs": [
    {
     "data": {
      "image/png": "[encoded data removed]",
      "text/plain": [
       "<Figure size 1080x360 with 3 Axes>"
      ]
     },
     "metadata": {
      "needs_background": "light"
     },
     "output_type": "display_data"
    },
    {
     "data": {
      "image/png": "[encoded data removed]",
      "text/plain": [
       "<Figure size 1080x360 with 3 Axes>"
      ]
     },
     "metadata": {
      "needs_background": "light"
     },
     "output_type": "display_data"
    }
   ],
   "source": [
    "n_bins=20\n",
    "#make 200 and voxels 100,000 to see adc prime dropoff\n",
    "fig, axs = plt.subplots(1, 3, sharey=True,figsize=(15, 5))\n",
    "axs[0].hist(sim_adc, bins=n_bins)\n",
    "axs[1].hist(sim_sigma, bins=n_bins)\n",
    "axs[2].hist(sim_axr, bins=n_bins)\n",
    "axs[0].set_title('ADC Histogram ')\n",
    "axs[0].set_xlabel('ADC Values [um^2/ms]')\n",
    "axs[1].set_title('Sigma Histogram')\n",
    "axs[1].set_xlabel('Sigma Values [arbitrary units]')\n",
    "axs[2].set_title('AXR Histogram')\n",
    "axs[2].set_xlabel('AXR Values [ms-1]');\n",
    "\n",
    "\n",
    "fig, axs = plt.subplots(1, 3,figsize=(15, 5))\n",
    "axs[0].hist(sim_E_vox.flatten(), bins=n_bins)\n",
    "axs[0].set_title('Signal Histogram ')\n",
    "axs[0].set_xlabel('Signal Values [units?]')\n",
    "axs[1].hist(sim_E_vox[sim_E_vox != 1].flatten(), bins=n_bins)\n",
    "axs[1].set_title('Signal Histogram with ones removed')\n",
    "axs[1].set_xlabel('Signal Values [units?]')\n",
    "axs[2].hist(sim_adc_prime.flatten(), bins=n_bins)\n",
    "axs[2].set_title('ADC prime Histogram')\n",
    "axs[2].set_xlabel('ADC prime Values [units?]');\n"
   ]
  },
  {
   "attachments": {},
   "cell_type": "markdown",
   "metadata": {},
   "source": [
    "### Plotting b-value against normalised signal"
   ]
  },
  {
   "cell_type": "code",
   "execution_count": 6,
   "metadata": {},
   "outputs": [
    {
     "data": {
      "image/png": "[encoded data removed]",
      "text/plain": [
       "<Figure size 432x288 with 1 Axes>"
      ]
     },
     "metadata": {
      "needs_background": "light"
     },
     "output_type": "display_data"
    }
   ],
   "source": [
    "plt.plot([be[0], be[1]], [sim_E_vox[0,0], sim_E_vox[0,1]], 'bo-')\n",
    "plt.annotate(tm[0], (be[1], sim_E_vox[0, 1]), textcoords=\"offset points\", xytext=(20,5), ha='center')\n",
    "\n",
    "plt.plot([be[2], be[3]], [sim_E_vox[0,2], sim_E_vox[0,3]], 'go-')\n",
    "plt.annotate(tm[2], (be[3], sim_E_vox[0, 3]), textcoords=\"offset points\", xytext=(20,5), ha='center')\n",
    "\n",
    "plt.plot([be[4], be[5]], [sim_E_vox[0,4], sim_E_vox[0,5]], 'ko-')\n",
    "plt.annotate(tm[4], (be[5], sim_E_vox[0, 5]), textcoords=\"offset points\", xytext=(20,5), ha='center')\n",
    "\n",
    "plt.plot([be[6], be[7]], [sim_E_vox[0,6], sim_E_vox[0,7]], 'mo-')\n",
    "plt.annotate(tm[6], (be[7], sim_E_vox[0, 7]), textcoords=\"offset points\", xytext=(20,5), ha='center')\n",
    "\n",
    "\n",
    "#plt.title('Scatter plot with 4 lines')\n",
    "plt.xlabel('Encoding block b-value [m2/s]')\n",
    "#are units correct\n",
    "plt.ylabel('Normalised Signal (sum of the magnetisations)')\n",
    "#unit?\n",
    "plt.grid(True)\n",
    "plt.show()\n"
   ]
  },
  {
   "attachments": {},
   "cell_type": "markdown",
   "metadata": {},
   "source": [
    "### Least squares fit\n"
   ]
  },
  {
   "cell_type": "code",
   "execution_count": 7,
   "metadata": {},
   "outputs": [],
   "source": [
    "def sse_adc_prime_1_vox(variables_to_optimize, tm, bf, be, smeas):\n",
    "    # For the signal from 1 voxel.\n",
    "    adc_est, sigma_est, axr_est = variables_to_optimize\n",
    "    _ , adc_tm_fit = sim_sig_np_1_vox(bf,be,tm,adc_est,sigma_est,axr_est)\n",
    "\n",
    "    bf_tm = np.column_stack((bf.flatten(), tm.flatten()))\n",
    "\n",
    "    # Find unique rows and corresponding indices\n",
    "    univols, univols_indices = np.unique(bf_tm, axis=0, return_index=True)\n",
    "\n",
    "    nsf = univols.shape[0]\n",
    "\n",
    "    ix1 = np.where((np.sum(univols[:, None, :] == bf_tm, axis=2) == 2) & (be == 0))[1]\n",
    "    ix2 = np.where((np.sum(univols[:, None, :] == bf_tm, axis=2) == 2) & (be > 0))[1]\n",
    "    \n",
    "    #this line is hardcoded\n",
    "    smeas = smeas.reshape(8)\n",
    "\n",
    "    adc_tm_calc = -1 / (be[ix2] - be[ix1]) * np.log(smeas[ix2] / smeas[ix1])\n",
    "\n",
    "    #this line is hardcoded\n",
    "    adc_tm_fit = adc_tm_fit[:, ::2]\n",
    "\n",
    "    sse = np.sum((adc_tm_calc - adc_tm_fit) ** 2)\n",
    "    return sse\n"
   ]
  },
  {
   "cell_type": "code",
   "execution_count": 8,
   "metadata": {},
   "outputs": [
    {
     "ename": "KeyboardInterrupt",
     "evalue": "",
     "output_type": "error",
     "traceback": [
      "\u001b[0;31m---------------------------------------------------------------------------\u001b[0m",
      "\u001b[0;31mKeyboardInterrupt\u001b[0m                         Traceback (most recent call last)",
      "\u001b[0;32m/var/folders/z8/jwxsd17n57lblqk5c_v8fttc0000gn/T/ipykernel_90037/3568197935.py\u001b[0m in \u001b[0;36m<module>\u001b[0;34m\u001b[0m\n\u001b[1;32m     30\u001b[0m         \u001b[0minits\u001b[0m \u001b[0;34m=\u001b[0m \u001b[0mall_inits\u001b[0m\u001b[0;34m[\u001b[0m\u001b[0mcombination\u001b[0m\u001b[0;34m,\u001b[0m\u001b[0;34m:\u001b[0m\u001b[0;34m]\u001b[0m\u001b[0;34m\u001b[0m\u001b[0;34m\u001b[0m\u001b[0m\n\u001b[1;32m     31\u001b[0m \u001b[0;34m\u001b[0m\u001b[0m\n\u001b[0;32m---> 32\u001b[0;31m         \u001b[0mresult_1_vox\u001b[0m \u001b[0;34m=\u001b[0m \u001b[0mscipy\u001b[0m\u001b[0;34m.\u001b[0m\u001b[0moptimize\u001b[0m\u001b[0;34m.\u001b[0m\u001b[0mminimize\u001b[0m\u001b[0;34m(\u001b[0m\u001b[0msse_adc_prime_1_vox\u001b[0m\u001b[0;34m,\u001b[0m \u001b[0minits\u001b[0m\u001b[0;34m,\u001b[0m \u001b[0margs\u001b[0m\u001b[0;34m=\u001b[0m\u001b[0madditional_args_1_vox\u001b[0m\u001b[0;34m,\u001b[0m \u001b[0mbounds\u001b[0m\u001b[0;34m=\u001b[0m\u001b[0mbounds\u001b[0m\u001b[0;34m)\u001b[0m\u001b[0;34m\u001b[0m\u001b[0;34m\u001b[0m\u001b[0m\n\u001b[0m\u001b[1;32m     33\u001b[0m \u001b[0;34m\u001b[0m\u001b[0m\n\u001b[1;32m     34\u001b[0m         \u001b[0;32mif\u001b[0m \u001b[0mresult_1_vox\u001b[0m\u001b[0;34m.\u001b[0m\u001b[0mfun\u001b[0m \u001b[0;34m<\u001b[0m \u001b[0mbest_sse\u001b[0m\u001b[0;34m:\u001b[0m\u001b[0;34m\u001b[0m\u001b[0;34m\u001b[0m\u001b[0m\n",
      "\u001b[0;32m~/opt/anaconda3/envs/project/lib/python3.7/site-packages/scipy/optimize/_minimize.py\u001b[0m in \u001b[0;36mminimize\u001b[0;34m(fun, x0, args, method, jac, hess, hessp, bounds, constraints, tol, callback, options)\u001b[0m\n\u001b[1;32m    608\u001b[0m     \u001b[0;32melif\u001b[0m \u001b[0mmeth\u001b[0m \u001b[0;34m==\u001b[0m \u001b[0;34m'l-bfgs-b'\u001b[0m\u001b[0;34m:\u001b[0m\u001b[0;34m\u001b[0m\u001b[0;34m\u001b[0m\u001b[0m\n\u001b[1;32m    609\u001b[0m         return _minimize_lbfgsb(fun, x0, args, jac, bounds,\n\u001b[0;32m--> 610\u001b[0;31m                                 callback=callback, **options)\n\u001b[0m\u001b[1;32m    611\u001b[0m     \u001b[0;32melif\u001b[0m \u001b[0mmeth\u001b[0m \u001b[0;34m==\u001b[0m \u001b[0;34m'tnc'\u001b[0m\u001b[0;34m:\u001b[0m\u001b[0;34m\u001b[0m\u001b[0;34m\u001b[0m\u001b[0m\n\u001b[1;32m    612\u001b[0m         return _minimize_tnc(fun, x0, args, jac, bounds, callback=callback,\n",
      "\u001b[0;32m~/opt/anaconda3/envs/project/lib/python3.7/site-packages/scipy/optimize/lbfgsb.py\u001b[0m in \u001b[0;36m_minimize_lbfgsb\u001b[0;34m(fun, x0, args, jac, bounds, disp, maxcor, ftol, gtol, eps, maxfun, maxiter, iprint, callback, maxls, **unknown_options)\u001b[0m\n\u001b[1;32m    343\u001b[0m             \u001b[0;31m# until the completion of the current minimization iteration.\u001b[0m\u001b[0;34m\u001b[0m\u001b[0;34m\u001b[0m\u001b[0;34m\u001b[0m\u001b[0m\n\u001b[1;32m    344\u001b[0m             \u001b[0;31m# Overwrite f and g:\u001b[0m\u001b[0;34m\u001b[0m\u001b[0;34m\u001b[0m\u001b[0;34m\u001b[0m\u001b[0m\n\u001b[0;32m--> 345\u001b[0;31m             \u001b[0mf\u001b[0m\u001b[0;34m,\u001b[0m \u001b[0mg\u001b[0m \u001b[0;34m=\u001b[0m \u001b[0mfunc_and_grad\u001b[0m\u001b[0;34m(\u001b[0m\u001b[0mx\u001b[0m\u001b[0;34m)\u001b[0m\u001b[0;34m\u001b[0m\u001b[0;34m\u001b[0m\u001b[0m\n\u001b[0m\u001b[1;32m    346\u001b[0m         \u001b[0;32melif\u001b[0m \u001b[0mtask_str\u001b[0m\u001b[0;34m.\u001b[0m\u001b[0mstartswith\u001b[0m\u001b[0;34m(\u001b[0m\u001b[0;34mb'NEW_X'\u001b[0m\u001b[0;34m)\u001b[0m\u001b[0;34m:\u001b[0m\u001b[0;34m\u001b[0m\u001b[0;34m\u001b[0m\u001b[0m\n\u001b[1;32m    347\u001b[0m             \u001b[0;31m# new iteration\u001b[0m\u001b[0;34m\u001b[0m\u001b[0;34m\u001b[0m\u001b[0;34m\u001b[0m\u001b[0m\n",
      "\u001b[0;32m~/opt/anaconda3/envs/project/lib/python3.7/site-packages/scipy/optimize/lbfgsb.py\u001b[0m in \u001b[0;36mfunc_and_grad\u001b[0;34m(x)\u001b[0m\n\u001b[1;32m    289\u001b[0m         \u001b[0;32mdef\u001b[0m \u001b[0mfunc_and_grad\u001b[0m\u001b[0;34m(\u001b[0m\u001b[0mx\u001b[0m\u001b[0;34m)\u001b[0m\u001b[0;34m:\u001b[0m\u001b[0;34m\u001b[0m\u001b[0;34m\u001b[0m\u001b[0m\n\u001b[1;32m    290\u001b[0m             \u001b[0mf\u001b[0m \u001b[0;34m=\u001b[0m \u001b[0mfun\u001b[0m\u001b[0;34m(\u001b[0m\u001b[0mx\u001b[0m\u001b[0;34m,\u001b[0m \u001b[0;34m*\u001b[0m\u001b[0margs\u001b[0m\u001b[0;34m)\u001b[0m\u001b[0;34m\u001b[0m\u001b[0;34m\u001b[0m\u001b[0m\n\u001b[0;32m--> 291\u001b[0;31m             \u001b[0mg\u001b[0m \u001b[0;34m=\u001b[0m \u001b[0m_approx_fprime_helper\u001b[0m\u001b[0;34m(\u001b[0m\u001b[0mx\u001b[0m\u001b[0;34m,\u001b[0m \u001b[0mfun\u001b[0m\u001b[0;34m,\u001b[0m \u001b[0mepsilon\u001b[0m\u001b[0;34m,\u001b[0m \u001b[0margs\u001b[0m\u001b[0;34m=\u001b[0m\u001b[0margs\u001b[0m\u001b[0;34m,\u001b[0m \u001b[0mf0\u001b[0m\u001b[0;34m=\u001b[0m\u001b[0mf\u001b[0m\u001b[0;34m)\u001b[0m\u001b[0;34m\u001b[0m\u001b[0;34m\u001b[0m\u001b[0m\n\u001b[0m\u001b[1;32m    292\u001b[0m             \u001b[0;32mreturn\u001b[0m \u001b[0mf\u001b[0m\u001b[0;34m,\u001b[0m \u001b[0mg\u001b[0m\u001b[0;34m\u001b[0m\u001b[0;34m\u001b[0m\u001b[0m\n\u001b[1;32m    293\u001b[0m     \u001b[0;32melse\u001b[0m\u001b[0;34m:\u001b[0m\u001b[0;34m\u001b[0m\u001b[0;34m\u001b[0m\u001b[0m\n",
      "\u001b[0;32m~/opt/anaconda3/envs/project/lib/python3.7/site-packages/scipy/optimize/optimize.py\u001b[0m in \u001b[0;36m_approx_fprime_helper\u001b[0;34m(xk, f, epsilon, args, f0)\u001b[0m\n\u001b[1;32m    695\u001b[0m         \u001b[0mei\u001b[0m\u001b[0;34m[\u001b[0m\u001b[0mk\u001b[0m\u001b[0;34m]\u001b[0m \u001b[0;34m=\u001b[0m \u001b[0;36m1.0\u001b[0m\u001b[0;34m\u001b[0m\u001b[0;34m\u001b[0m\u001b[0m\n\u001b[1;32m    696\u001b[0m         \u001b[0md\u001b[0m \u001b[0;34m=\u001b[0m \u001b[0mepsilon\u001b[0m \u001b[0;34m*\u001b[0m \u001b[0mei\u001b[0m\u001b[0;34m\u001b[0m\u001b[0;34m\u001b[0m\u001b[0m\n\u001b[0;32m--> 697\u001b[0;31m         \u001b[0mdf\u001b[0m \u001b[0;34m=\u001b[0m \u001b[0;34m(\u001b[0m\u001b[0mf\u001b[0m\u001b[0;34m(\u001b[0m\u001b[0;34m*\u001b[0m\u001b[0;34m(\u001b[0m\u001b[0;34m(\u001b[0m\u001b[0mxk\u001b[0m \u001b[0;34m+\u001b[0m \u001b[0md\u001b[0m\u001b[0;34m,\u001b[0m\u001b[0;34m)\u001b[0m \u001b[0;34m+\u001b[0m \u001b[0margs\u001b[0m\u001b[0;34m)\u001b[0m\u001b[0;34m)\u001b[0m \u001b[0;34m-\u001b[0m \u001b[0mf0\u001b[0m\u001b[0;34m)\u001b[0m \u001b[0;34m/\u001b[0m \u001b[0md\u001b[0m\u001b[0;34m[\u001b[0m\u001b[0mk\u001b[0m\u001b[0;34m]\u001b[0m\u001b[0;34m\u001b[0m\u001b[0;34m\u001b[0m\u001b[0m\n\u001b[0m\u001b[1;32m    698\u001b[0m         \u001b[0;32mif\u001b[0m \u001b[0;32mnot\u001b[0m \u001b[0mnp\u001b[0m\u001b[0;34m.\u001b[0m\u001b[0misscalar\u001b[0m\u001b[0;34m(\u001b[0m\u001b[0mdf\u001b[0m\u001b[0;34m)\u001b[0m\u001b[0;34m:\u001b[0m\u001b[0;34m\u001b[0m\u001b[0;34m\u001b[0m\u001b[0m\n\u001b[1;32m    699\u001b[0m             \u001b[0;32mtry\u001b[0m\u001b[0;34m:\u001b[0m\u001b[0;34m\u001b[0m\u001b[0;34m\u001b[0m\u001b[0m\n",
      "\u001b[0;32m~/opt/anaconda3/envs/project/lib/python3.7/site-packages/scipy/optimize/optimize.py\u001b[0m in \u001b[0;36mfunction_wrapper\u001b[0;34m(*wrapper_args)\u001b[0m\n\u001b[1;32m    325\u001b[0m     \u001b[0;32mdef\u001b[0m \u001b[0mfunction_wrapper\u001b[0m\u001b[0;34m(\u001b[0m\u001b[0;34m*\u001b[0m\u001b[0mwrapper_args\u001b[0m\u001b[0;34m)\u001b[0m\u001b[0;34m:\u001b[0m\u001b[0;34m\u001b[0m\u001b[0;34m\u001b[0m\u001b[0m\n\u001b[1;32m    326\u001b[0m         \u001b[0mncalls\u001b[0m\u001b[0;34m[\u001b[0m\u001b[0;36m0\u001b[0m\u001b[0;34m]\u001b[0m \u001b[0;34m+=\u001b[0m \u001b[0;36m1\u001b[0m\u001b[0;34m\u001b[0m\u001b[0;34m\u001b[0m\u001b[0m\n\u001b[0;32m--> 327\u001b[0;31m         \u001b[0;32mreturn\u001b[0m \u001b[0mfunction\u001b[0m\u001b[0;34m(\u001b[0m\u001b[0;34m*\u001b[0m\u001b[0;34m(\u001b[0m\u001b[0mwrapper_args\u001b[0m \u001b[0;34m+\u001b[0m \u001b[0margs\u001b[0m\u001b[0;34m)\u001b[0m\u001b[0;34m)\u001b[0m\u001b[0;34m\u001b[0m\u001b[0;34m\u001b[0m\u001b[0m\n\u001b[0m\u001b[1;32m    328\u001b[0m \u001b[0;34m\u001b[0m\u001b[0m\n\u001b[1;32m    329\u001b[0m     \u001b[0;32mreturn\u001b[0m \u001b[0mncalls\u001b[0m\u001b[0;34m,\u001b[0m \u001b[0mfunction_wrapper\u001b[0m\u001b[0;34m\u001b[0m\u001b[0;34m\u001b[0m\u001b[0m\n",
      "\u001b[0;32m/var/folders/z8/jwxsd17n57lblqk5c_v8fttc0000gn/T/ipykernel_90037/3672874082.py\u001b[0m in \u001b[0;36msse_adc_prime_1_vox\u001b[0;34m(variables_to_optimize, tm, bf, be, smeas)\u001b[0m\n\u001b[1;32m      7\u001b[0m \u001b[0;34m\u001b[0m\u001b[0m\n\u001b[1;32m      8\u001b[0m     \u001b[0;31m# Find unique rows and corresponding indices\u001b[0m\u001b[0;34m\u001b[0m\u001b[0;34m\u001b[0m\u001b[0;34m\u001b[0m\u001b[0m\n\u001b[0;32m----> 9\u001b[0;31m     \u001b[0munivols\u001b[0m\u001b[0;34m,\u001b[0m \u001b[0munivols_indices\u001b[0m \u001b[0;34m=\u001b[0m \u001b[0mnp\u001b[0m\u001b[0;34m.\u001b[0m\u001b[0munique\u001b[0m\u001b[0;34m(\u001b[0m\u001b[0mbf_tm\u001b[0m\u001b[0;34m,\u001b[0m \u001b[0maxis\u001b[0m\u001b[0;34m=\u001b[0m\u001b[0;36m0\u001b[0m\u001b[0;34m,\u001b[0m \u001b[0mreturn_index\u001b[0m\u001b[0;34m=\u001b[0m\u001b[0;32mTrue\u001b[0m\u001b[0;34m)\u001b[0m\u001b[0;34m\u001b[0m\u001b[0;34m\u001b[0m\u001b[0m\n\u001b[0m\u001b[1;32m     10\u001b[0m \u001b[0;34m\u001b[0m\u001b[0m\n\u001b[1;32m     11\u001b[0m     \u001b[0mnsf\u001b[0m \u001b[0;34m=\u001b[0m \u001b[0munivols\u001b[0m\u001b[0;34m.\u001b[0m\u001b[0mshape\u001b[0m\u001b[0;34m[\u001b[0m\u001b[0;36m0\u001b[0m\u001b[0;34m]\u001b[0m\u001b[0;34m\u001b[0m\u001b[0;34m\u001b[0m\u001b[0m\n",
      "\u001b[0;32m<__array_function__ internals>\u001b[0m in \u001b[0;36munique\u001b[0;34m(*args, **kwargs)\u001b[0m\n",
      "\u001b[0;32m~/opt/anaconda3/envs/project/lib/python3.7/site-packages/numpy/lib/arraysetops.py\u001b[0m in \u001b[0;36munique\u001b[0;34m(ar, return_index, return_inverse, return_counts, axis)\u001b[0m\n\u001b[1;32m    314\u001b[0m     output = _unique1d(consolidated, return_index,\n\u001b[1;32m    315\u001b[0m                        return_inverse, return_counts)\n\u001b[0;32m--> 316\u001b[0;31m     \u001b[0moutput\u001b[0m \u001b[0;34m=\u001b[0m \u001b[0;34m(\u001b[0m\u001b[0mreshape_uniq\u001b[0m\u001b[0;34m(\u001b[0m\u001b[0moutput\u001b[0m\u001b[0;34m[\u001b[0m\u001b[0;36m0\u001b[0m\u001b[0;34m]\u001b[0m\u001b[0;34m)\u001b[0m\u001b[0;34m,\u001b[0m\u001b[0;34m)\u001b[0m \u001b[0;34m+\u001b[0m \u001b[0moutput\u001b[0m\u001b[0;34m[\u001b[0m\u001b[0;36m1\u001b[0m\u001b[0;34m:\u001b[0m\u001b[0;34m]\u001b[0m\u001b[0;34m\u001b[0m\u001b[0;34m\u001b[0m\u001b[0m\n\u001b[0m\u001b[1;32m    317\u001b[0m     \u001b[0;32mreturn\u001b[0m \u001b[0m_unpack_tuple\u001b[0m\u001b[0;34m(\u001b[0m\u001b[0moutput\u001b[0m\u001b[0;34m)\u001b[0m\u001b[0;34m\u001b[0m\u001b[0;34m\u001b[0m\u001b[0m\n\u001b[1;32m    318\u001b[0m \u001b[0;34m\u001b[0m\u001b[0m\n",
      "\u001b[0;32m~/opt/anaconda3/envs/project/lib/python3.7/site-packages/numpy/lib/arraysetops.py\u001b[0m in \u001b[0;36mreshape_uniq\u001b[0;34m(uniq)\u001b[0m\n\u001b[1;32m    309\u001b[0m         \u001b[0muniq\u001b[0m \u001b[0;34m=\u001b[0m \u001b[0muniq\u001b[0m\u001b[0;34m.\u001b[0m\u001b[0mview\u001b[0m\u001b[0;34m(\u001b[0m\u001b[0morig_dtype\u001b[0m\u001b[0;34m)\u001b[0m\u001b[0;34m\u001b[0m\u001b[0;34m\u001b[0m\u001b[0m\n\u001b[1;32m    310\u001b[0m         \u001b[0muniq\u001b[0m \u001b[0;34m=\u001b[0m \u001b[0muniq\u001b[0m\u001b[0;34m.\u001b[0m\u001b[0mreshape\u001b[0m\u001b[0;34m(\u001b[0m\u001b[0mn\u001b[0m\u001b[0;34m,\u001b[0m \u001b[0;34m*\u001b[0m\u001b[0morig_shape\u001b[0m\u001b[0;34m[\u001b[0m\u001b[0;36m1\u001b[0m\u001b[0;34m:\u001b[0m\u001b[0;34m]\u001b[0m\u001b[0;34m)\u001b[0m\u001b[0;34m\u001b[0m\u001b[0;34m\u001b[0m\u001b[0m\n\u001b[0;32m--> 311\u001b[0;31m         \u001b[0muniq\u001b[0m \u001b[0;34m=\u001b[0m \u001b[0mnp\u001b[0m\u001b[0;34m.\u001b[0m\u001b[0mmoveaxis\u001b[0m\u001b[0;34m(\u001b[0m\u001b[0muniq\u001b[0m\u001b[0;34m,\u001b[0m \u001b[0;36m0\u001b[0m\u001b[0;34m,\u001b[0m \u001b[0maxis\u001b[0m\u001b[0;34m)\u001b[0m\u001b[0;34m\u001b[0m\u001b[0;34m\u001b[0m\u001b[0m\n\u001b[0m\u001b[1;32m    312\u001b[0m         \u001b[0;32mreturn\u001b[0m \u001b[0muniq\u001b[0m\u001b[0;34m\u001b[0m\u001b[0;34m\u001b[0m\u001b[0m\n\u001b[1;32m    313\u001b[0m \u001b[0;34m\u001b[0m\u001b[0m\n",
      "\u001b[0;32m<__array_function__ internals>\u001b[0m in \u001b[0;36mmoveaxis\u001b[0;34m(*args, **kwargs)\u001b[0m\n",
      "\u001b[0;32m~/opt/anaconda3/envs/project/lib/python3.7/site-packages/numpy/core/numeric.py\u001b[0m in \u001b[0;36mmoveaxis\u001b[0;34m(a, source, destination)\u001b[0m\n\u001b[1;32m   1396\u001b[0m \u001b[0;34m\u001b[0m\u001b[0m\n\u001b[1;32m   1397\u001b[0m \u001b[0;34m\u001b[0m\u001b[0m\n\u001b[0;32m-> 1398\u001b[0;31m \u001b[0;34m@\u001b[0m\u001b[0marray_function_dispatch\u001b[0m\u001b[0;34m(\u001b[0m\u001b[0m_moveaxis_dispatcher\u001b[0m\u001b[0;34m)\u001b[0m\u001b[0;34m\u001b[0m\u001b[0;34m\u001b[0m\u001b[0m\n\u001b[0m\u001b[1;32m   1399\u001b[0m \u001b[0;32mdef\u001b[0m \u001b[0mmoveaxis\u001b[0m\u001b[0;34m(\u001b[0m\u001b[0ma\u001b[0m\u001b[0;34m,\u001b[0m \u001b[0msource\u001b[0m\u001b[0;34m,\u001b[0m \u001b[0mdestination\u001b[0m\u001b[0;34m)\u001b[0m\u001b[0;34m:\u001b[0m\u001b[0;34m\u001b[0m\u001b[0;34m\u001b[0m\u001b[0m\n\u001b[1;32m   1400\u001b[0m     \"\"\"\n",
      "\u001b[0;31mKeyboardInterrupt\u001b[0m: "
     ]
    }
   ],
   "source": [
    "def callback(xk):\n",
    "    print('Estimates of ADC, sigma, AXR:    ', xk)\n",
    "\n",
    "# Define the bounds for adc, sigma, axr\n",
    "bounds = tuple(map(tuple, limits.tolist())) #this line seems messy\n",
    "\n",
    "NLLS_adc_all = np.empty(shape=(0,))\n",
    "NLLS_sigma_all = np.empty(shape=(0,))\n",
    "NLLS_axr_all = np.empty(shape=(0,))\n",
    "    \n",
    "NLLS_adc_prime_all = np.empty(shape=(nvox,8))\n",
    "NLLS_E_vox_all = np.empty(shape= (nvox,8))\n",
    "\n",
    "sses = np.array([])\n",
    "for current_vox in range(nvox):\n",
    "    #reset best for each voxel\n",
    "    best_sse = 1\n",
    "\n",
    "    #extract relevant info for current voxel\n",
    "    cur_E_vox = sim_E_vox[current_vox,:]\n",
    "    cur_adc_prime = sim_adc_prime[current_vox,:]\n",
    "\n",
    "    cur_adc = sim_adc[current_vox]\n",
    "    cur_sigma = sim_sigma[current_vox]\n",
    "    cur_axr = sim_axr[current_vox]\n",
    "\n",
    "    additional_args_1_vox = (tm, bf, be, cur_E_vox) \n",
    "\n",
    "    for combination in range(all_inits.shape[0]):\n",
    "        inits = all_inits[combination,:]\n",
    "        \n",
    "        result_1_vox = scipy.optimize.minimize(sse_adc_prime_1_vox, inits, args=additional_args_1_vox, bounds=bounds)\n",
    "\n",
    "        if result_1_vox.fun < best_sse:\n",
    "            best_sse = result_1_vox.fun\n",
    "            NLLS_cur_adc, NLLS_cur_sigma, NLLS_cur_axr = result_1_vox.x\n",
    "    \n",
    "    sses = np.append(sses,best_sse)\n",
    "    # note the 1 instead of nvox, because it is for 1 voxel \n",
    "    NLLS_cur_E_vox, NLLS_cur_adc_prime = sim_sig_np_1_vox(bf,be,tm,NLLS_cur_adc, NLLS_cur_sigma, NLLS_cur_axr)\n",
    "\n",
    "    NLLS_adc_all = np.append(NLLS_adc_all, NLLS_cur_adc)\n",
    "    NLLS_sigma_all = np.append(NLLS_sigma_all, NLLS_cur_sigma)\n",
    "    NLLS_axr_all = np.append(NLLS_axr_all, NLLS_cur_axr)\n",
    "    \n",
    "    NLLS_adc_prime_all[current_vox,:] = NLLS_cur_adc_prime\n",
    "    NLLS_E_vox_all[current_vox,:] = NLLS_cur_E_vox"
   ]
  },
  {
   "attachments": {},
   "cell_type": "markdown",
   "metadata": {},
   "source": [
    "### NLLS Plots"
   ]
  },
  {
   "cell_type": "code",
   "execution_count": null,
   "metadata": {},
   "outputs": [],
   "source": [
    "#Debugging sse and seeing how large it is for the worst values. \n",
    "sses.sort()\n",
    "sses_descending = sses[::-1]\n",
    "\n",
    "\n",
    "\"\"\"MAYBE ADD LOSS PER 'EPOCH' FOR NLLS\n",
    "plt.figure()\n",
    "plt.plot(range(1, len(loss_progress) + 1), loss_progress, marker='o', linestyle='-')\n",
    "plt.xlabel('Epoch')\n",
    "plt.ylabel('Loss')\n",
    "plt.title('Loss per Epoch')\n",
    "plt.grid(True)\n",
    "plt.show()\"\"\"\n",
    "\n",
    "\n",
    "#plotting the sse\n",
    "plt.figure()\n",
    "plt.hist(sses.flatten(), bins=200)\n",
    "\n",
    "plt.figure()\n",
    "# for first voxel\n",
    "plt.scatter(be, sim_E_vox[0,:], label='simulated')\n",
    "plt.scatter(be, NLLS_E_vox_all[0,:], label='predicted')\n",
    "plt.xlabel(\"be\")\n",
    "plt.ylabel(\"tm\")\n",
    "plt.legend()\n",
    "\n",
    "# plot scatter plots to analyse correlation of predicted free params against ground truth\n",
    "plt.figure()\n",
    "\n",
    "param_sim = [sim_adc, sim_sigma, sim_axr]\n",
    "param_pred = [NLLS_adc_all, NLLS_sigma_all, NLLS_axr_all]\n",
    "param_name = ['ADC', 'Sigma', 'AXR']\n",
    "\n",
    "rvals = []\n",
    "\n",
    "for i,_ in enumerate(param_sim):\n",
    "    plt.rcParams['font.size'] = '16'\n",
    "    plt.scatter(param_sim[i], param_pred[i], s=2, c='navy')\n",
    "    plt.xlabel(param_name[i] + ' Ground Truth')\n",
    "    plt.ylabel(param_name[i] + ' Prediction')\n",
    "    #check what line below does. Commented out because it gave an error when using 1 voxel\n",
    "    #rvals.append(scipy.stats.pearsonr(np.squeeze(param_sim[i]), np.squeeze(param_pred[i])))\n",
    "    plt.tight_layout\n",
    "    plt.show()\n",
    "\n",
    "print(rvals)\n"
   ]
  },
  {
   "attachments": {},
   "cell_type": "markdown",
   "metadata": {},
   "source": [
    "### Creating the neural network"
   ]
  },
  {
   "cell_type": "code",
   "execution_count": 13,
   "metadata": {},
   "outputs": [],
   "source": [
    "class Net(nn.Module): # this is the neural network\n",
    "    #defining the init and foward pass functions. \n",
    "\n",
    "    def __init__(self,be,bf,tm,nparams,limits):\n",
    "        super(Net, self).__init__()\n",
    "\n",
    "        self.be = be\n",
    "        self.bf = bf\n",
    "        self.tm = tm\n",
    "        self.limits = limits\n",
    "\n",
    "        #defining the layers that we want. \n",
    "        # 3 layers with no. of be nodes. \n",
    "        self.layers = nn.ModuleList()\n",
    "        for i in range(3): # 3 fully connected hidden layers\n",
    "            self.layers.extend([nn.Linear(len(be), len(be)), nn.PReLU()])\n",
    "            #https://pytorch.org/docs/stable/generated/torch.nn.PReLU.html\n",
    "        self.encoder = nn.Sequential(*self.layers, nn.Linear(len(be), nparams))\n",
    "\n",
    "    def forward(self, E_vox):\n",
    "\n",
    "        params = torch.nn.functional.softplus(self.encoder(E_vox))\n",
    "        #running a forward pass through the network\n",
    "\n",
    "        #SoftPlus is a smooth approximation to the ReLU function and can be used to constrain the output of a machine to always be positive\n",
    "        #params contains batch_size x nparams outputs, so each row is adc, sigma and axr.\n",
    "\n",
    "        #unsqueeze adds an additional dimension. \n",
    "        #parameter constraints from Elizabeth matlab \n",
    "\n",
    "        adc = torch.clamp(params[:, 0].unsqueeze(1), min=limits[0,0], max=limits[0,1])\n",
    "        sigma = torch.clamp(params[:, 1].unsqueeze(1), min=limits[1,0], max=limits[1,1])\n",
    "        axr = torch.clamp(params[:, 2].unsqueeze(1), min=limits[2,0], max=limits[2,1])\n",
    "        \n",
    "        self.tm[(self.tm == torch.min(self.tm)) & (self.bf == 0)] = float('inf')\n",
    "\n",
    "        adc_prime = adc * (1 - sigma * torch.exp(-tm * axr))\n",
    "        E_vox = torch.exp(-adc_prime * be)\n",
    "\n",
    "        print(\"tm:\", self.tm.shape)\n",
    "        print(\"be:\", self.be.shape)\n",
    "        print(\"bf:\", self.bf.shape)\n",
    "        print(\"adc:\", adc.shape)\n",
    "        print(\"sigma:\", sigma.shape)\n",
    "        print(\"axr:\", axr.shape)\n",
    "        print(\"evox:\", E_vox.shape)\n",
    "\n",
    "        return E_vox, adc_prime, adc, sigma, axr\n"
   ]
  },
  {
   "attachments": {},
   "cell_type": "markdown",
   "metadata": {},
   "source": [
    "### NN continued"
   ]
  },
  {
   "cell_type": "code",
   "execution_count": 14,
   "metadata": {},
   "outputs": [
    {
     "name": "stderr",
     "output_type": "stream",
     "text": [
      "/Users/admin/opt/anaconda3/envs/project/lib/python3.7/site-packages/ipykernel_launcher.py:9: UserWarning: To copy construct from a tensor, it is recommended to use sourceTensor.clone().detach() or sourceTensor.clone().detach().requires_grad_(True), rather than torch.tensor(sourceTensor).\n",
      "  if __name__ == \"__main__\":\n",
      "/Users/admin/opt/anaconda3/envs/project/lib/python3.7/site-packages/ipykernel_launcher.py:10: UserWarning: To copy construct from a tensor, it is recommended to use sourceTensor.clone().detach() or sourceTensor.clone().detach().requires_grad_(True), rather than torch.tensor(sourceTensor).\n",
      "  # Remove the CWD from sys.path while we load stuff.\n",
      "/Users/admin/opt/anaconda3/envs/project/lib/python3.7/site-packages/ipykernel_launcher.py:11: UserWarning: To copy construct from a tensor, it is recommended to use sourceTensor.clone().detach() or sourceTensor.clone().detach().requires_grad_(True), rather than torch.tensor(sourceTensor).\n",
      "  # This is added back by InteractiveShellApp.init_path()\n"
     ]
    }
   ],
   "source": [
    "# define network\n",
    "nparams = 3\n",
    "#because of adc, sigma and axr\n",
    "\n",
    "#converting numpy arrays to pytorch tensors. \n",
    "#be = torch.tensor(be)\n",
    "#bf = torch.tensor(bf)\n",
    "#tm = torch.tensor(tm)\n",
    "be = torch.tensor(be, dtype=torch.float32)\n",
    "bf = torch.tensor(bf, dtype=torch.float32)\n",
    "tm = torch.tensor(tm, dtype=torch.float32)\n",
    "\n",
    "batch_size = 128\n",
    "\n",
    "#initilise network\n",
    "net = Net(be, bf, tm, nparams,limits)\n",
    "\n",
    "#create batch queues for data\n",
    "#// means divide and round down. \n",
    "num_batches = len(sim_E_vox) // batch_size\n",
    "\n",
    "#import the sim_E_vox array into the dataloader\n",
    "#drop_last ignores the last batch if it is the wrong size. \n",
    "#num_workers is about performance. \n",
    "\n",
    "trainloader = utils.DataLoader(torch.from_numpy(sim_E_vox.astype(np.float32)),\n",
    "                                batch_size = batch_size, \n",
    "                                shuffle = True,\n",
    "                                num_workers = 0, #was 2 previously\n",
    "                                drop_last = True)\n",
    "\n",
    "# loss function and optimizer\n",
    "#choosing which loss function to use. \n",
    "#not sure what the optmizer is\n",
    "criterion = nn.MSELoss()\n",
    "optimizer = optim.Adam(net.parameters(), lr = 0.0001)\n",
    "\n",
    "# best loss\n",
    "best = 1e16\n",
    "num_bad_epochs = 0\n",
    "#can increase patience a lot, speed not an issue.\n",
    "patience = 10"
   ]
  },
  {
   "attachments": {},
   "cell_type": "markdown",
   "metadata": {},
   "source": [
    "### Training"
   ]
  },
  {
   "cell_type": "code",
   "execution_count": 15,
   "metadata": {},
   "outputs": [
    {
     "name": "stdout",
     "output_type": "stream",
     "text": [
      "-----------------------------------------------------------------\n",
      "epoch: 0; bad epochs: 0\n"
     ]
    },
    {
     "name": "stderr",
     "output_type": "stream",
     "text": [
      "100%|██████████| 7/7 [00:00<00:00, 312.07it/s]\n"
     ]
    },
    {
     "name": "stdout",
     "output_type": "stream",
     "text": [
      "tm: torch.Size([8])\n",
      "be: torch.Size([8])\n",
      "bf: torch.Size([8])\n",
      "adc: torch.Size([128, 1])\n",
      "sigma: torch.Size([128, 1])\n",
      "axr: torch.Size([128, 1])\n",
      "evox: torch.Size([128, 8])\n",
      "tm: torch.Size([8])\n",
      "be: torch.Size([8])\n",
      "bf: torch.Size([8])\n",
      "adc: torch.Size([128, 1])\n",
      "sigma: torch.Size([128, 1])\n",
      "axr: torch.Size([128, 1])\n",
      "evox: torch.Size([128, 8])\n",
      "tm: torch.Size([8])\n",
      "be: torch.Size([8])\n",
      "bf: torch.Size([8])\n",
      "adc: torch.Size([128, 1])\n",
      "sigma: torch.Size([128, 1])\n",
      "axr: torch.Size([128, 1])\n",
      "evox: torch.Size([128, 8])\n",
      "tm: torch.Size([8])\n",
      "be: torch.Size([8])\n",
      "bf: torch.Size([8])\n",
      "adc: torch.Size([128, 1])\n",
      "sigma: torch.Size([128, 1])\n",
      "axr: torch.Size([128, 1])\n",
      "evox: torch.Size([128, 8])\n",
      "tm: torch.Size([8])\n",
      "be: torch.Size([8])\n",
      "bf: torch.Size([8])\n",
      "adc: torch.Size([128, 1])\n",
      "sigma: torch.Size([128, 1])\n",
      "axr: torch.Size([128, 1])\n",
      "evox: torch.Size([128, 8])\n",
      "tm: torch.Size([8])\n",
      "be: torch.Size([8])\n",
      "bf: torch.Size([8])\n",
      "adc: torch.Size([128, 1])\n",
      "sigma: torch.Size([128, 1])\n",
      "axr: torch.Size([128, 1])\n",
      "evox: torch.Size([128, 8])\n",
      "tm: torch.Size([8])\n",
      "be: torch.Size([8])\n",
      "bf: torch.Size([8])\n",
      "adc: torch.Size([128, 1])\n",
      "sigma: torch.Size([128, 1])\n",
      "axr: torch.Size([128, 1])\n",
      "evox: torch.Size([128, 8])\n",
      "loss: 0.24680337496101856\n",
      "####################### saving good model #######################\n",
      "-----------------------------------------------------------------\n",
      "epoch: 1; bad epochs: 0\n"
     ]
    },
    {
     "name": "stderr",
     "output_type": "stream",
     "text": [
      "100%|██████████| 7/7 [00:00<00:00, 183.16it/s]\n"
     ]
    },
    {
     "name": "stdout",
     "output_type": "stream",
     "text": [
      "tm: torch.Size([8])\n",
      "be: torch.Size([8])\n",
      "bf: torch.Size([8])\n",
      "adc: torch.Size([128, 1])\n",
      "sigma: torch.Size([128, 1])\n",
      "axr: torch.Size([128, 1])\n",
      "evox: torch.Size([128, 8])\n",
      "tm: torch.Size([8])\n",
      "be: torch.Size([8])\n",
      "bf: torch.Size([8])\n",
      "adc: torch.Size([128, 1])\n",
      "sigma: torch.Size([128, 1])\n",
      "axr: torch.Size([128, 1])\n",
      "evox: torch.Size([128, 8])\n",
      "tm: torch.Size([8])\n",
      "be: torch.Size([8])\n",
      "bf: torch.Size([8])\n",
      "adc: torch.Size([128, 1])\n",
      "sigma: torch.Size([128, 1])\n",
      "axr: torch.Size([128, 1])\n",
      "evox: torch.Size([128, 8])\n",
      "tm: torch.Size([8])\n",
      "be: torch.Size([8])\n",
      "bf: torch.Size([8])\n",
      "adc: torch.Size([128, 1])\n",
      "sigma: torch.Size([128, 1])\n",
      "axr: torch.Size([128, 1])\n",
      "evox: torch.Size([128, 8])\n",
      "tm: torch.Size([8])\n",
      "be: torch.Size([8])\n",
      "bf: torch.Size([8])\n",
      "adc: torch.Size([128, 1])\n",
      "sigma: torch.Size([128, 1])\n",
      "axr: torch.Size([128, 1])\n",
      "evox: torch.Size([128, 8])\n",
      "tm: torch.Size([8])\n",
      "be: torch.Size([8])\n",
      "bf: torch.Size([8])\n",
      "adc: torch.Size([128, 1])\n",
      "sigma: torch.Size([128, 1])\n",
      "axr: torch.Size([128, 1])\n",
      "evox: torch.Size([128, 8])\n",
      "tm: torch.Size([8])\n",
      "be: torch.Size([8])\n",
      "bf: torch.Size([8])\n",
      "adc: torch.Size([128, 1])\n",
      "sigma: torch.Size([128, 1])\n",
      "axr: torch.Size([128, 1])\n",
      "evox: torch.Size([128, 8])\n",
      "loss: 0.2506943754851818\n",
      "-----------------------------------------------------------------\n",
      "epoch: 2; bad epochs: 1\n"
     ]
    },
    {
     "name": "stderr",
     "output_type": "stream",
     "text": [
      "100%|██████████| 7/7 [00:00<00:00, 235.90it/s]\n"
     ]
    },
    {
     "name": "stdout",
     "output_type": "stream",
     "text": [
      "tm: torch.Size([8])\n",
      "be: torch.Size([8])\n",
      "bf: torch.Size([8])\n",
      "adc: torch.Size([128, 1])\n",
      "sigma: torch.Size([128, 1])\n",
      "axr: torch.Size([128, 1])\n",
      "evox: torch.Size([128, 8])\n",
      "tm: torch.Size([8])\n",
      "be: torch.Size([8])\n",
      "bf: torch.Size([8])\n",
      "adc: torch.Size([128, 1])\n",
      "sigma: torch.Size([128, 1])\n",
      "axr: torch.Size([128, 1])\n",
      "evox: torch.Size([128, 8])\n",
      "tm: torch.Size([8])\n",
      "be: torch.Size([8])\n",
      "bf: torch.Size([8])\n",
      "adc: torch.Size([128, 1])\n",
      "sigma: torch.Size([128, 1])\n",
      "axr: torch.Size([128, 1])\n",
      "evox: torch.Size([128, 8])\n",
      "tm: torch.Size([8])\n",
      "be: torch.Size([8])\n",
      "bf: torch.Size([8])\n",
      "adc: torch.Size([128, 1])\n",
      "sigma: torch.Size([128, 1])\n",
      "axr: torch.Size([128, 1])\n",
      "evox: torch.Size([128, 8])\n",
      "tm: torch.Size([8])\n",
      "be: torch.Size([8])\n",
      "bf: torch.Size([8])\n",
      "adc: torch.Size([128, 1])\n",
      "sigma: torch.Size([128, 1])\n",
      "axr: torch.Size([128, 1])\n",
      "evox: torch.Size([128, 8])\n",
      "tm: torch.Size([8])\n",
      "be: torch.Size([8])\n",
      "bf: torch.Size([8])\n",
      "adc: torch.Size([128, 1])\n",
      "sigma: torch.Size([128, 1])\n",
      "axr: torch.Size([128, 1])\n",
      "evox: torch.Size([128, 8])\n",
      "tm: torch.Size([8])\n",
      "be: torch.Size([8])\n",
      "bf: torch.Size([8])\n",
      "adc: torch.Size([128, 1])\n",
      "sigma: torch.Size([128, 1])\n",
      "axr: torch.Size([128, 1])\n",
      "evox: torch.Size([128, 8])\n",
      "loss: 0.2463920284062624\n",
      "####################### saving good model #######################\n",
      "-----------------------------------------------------------------\n",
      "epoch: 3; bad epochs: 0\n"
     ]
    },
    {
     "name": "stderr",
     "output_type": "stream",
     "text": [
      "100%|██████████| 7/7 [00:00<00:00, 277.94it/s]\n"
     ]
    },
    {
     "name": "stdout",
     "output_type": "stream",
     "text": [
      "tm: torch.Size([8])\n",
      "be: torch.Size([8])\n",
      "bf: torch.Size([8])\n",
      "adc: torch.Size([128, 1])\n",
      "sigma: torch.Size([128, 1])\n",
      "axr: torch.Size([128, 1])\n",
      "evox: torch.Size([128, 8])\n",
      "tm: torch.Size([8])\n",
      "be: torch.Size([8])\n",
      "bf: torch.Size([8])\n",
      "adc: torch.Size([128, 1])\n",
      "sigma: torch.Size([128, 1])\n",
      "axr: torch.Size([128, 1])\n",
      "evox: torch.Size([128, 8])\n",
      "tm: torch.Size([8])\n",
      "be: torch.Size([8])\n",
      "bf: torch.Size([8])\n",
      "adc: torch.Size([128, 1])\n",
      "sigma: torch.Size([128, 1])\n",
      "axr: torch.Size([128, 1])\n",
      "evox: torch.Size([128, 8])\n",
      "tm: torch.Size([8])\n",
      "be: torch.Size([8])\n",
      "bf: torch.Size([8])\n",
      "adc: torch.Size([128, 1])\n",
      "sigma: torch.Size([128, 1])\n",
      "axr: torch.Size([128, 1])\n",
      "evox: torch.Size([128, 8])\n",
      "tm: torch.Size([8])\n",
      "be: torch.Size([8])\n",
      "bf: torch.Size([8])\n",
      "adc: torch.Size([128, 1])\n",
      "sigma: torch.Size([128, 1])\n",
      "axr: torch.Size([128, 1])\n",
      "evox: torch.Size([128, 8])\n",
      "tm: torch.Size([8])\n",
      "be: torch.Size([8])\n",
      "bf: torch.Size([8])\n",
      "adc: torch.Size([128, 1])\n",
      "sigma: torch.Size([128, 1])\n",
      "axr: torch.Size([128, 1])\n",
      "evox: torch.Size([128, 8])\n",
      "tm: torch.Size([8])\n",
      "be: torch.Size([8])\n",
      "bf: torch.Size([8])\n",
      "adc: torch.Size([128, 1])\n",
      "sigma: torch.Size([128, 1])\n",
      "axr: torch.Size([128, 1])\n",
      "evox: torch.Size([128, 8])\n",
      "loss: 0.24674544669687748\n",
      "-----------------------------------------------------------------\n",
      "epoch: 4; bad epochs: 1\n"
     ]
    },
    {
     "name": "stderr",
     "output_type": "stream",
     "text": [
      "  0%|          | 0/7 [00:00<?, ?it/s]"
     ]
    },
    {
     "name": "stdout",
     "output_type": "stream",
     "text": [
      "tm: torch.Size([8])\n",
      "be: torch.Size([8])\n",
      "bf: torch.Size([8])\n",
      "adc: torch.Size([128, 1])\n",
      "sigma: torch.Size([128, 1])\n",
      "axr: torch.Size([128, 1])\n",
      "evox: torch.Size([128, 8])\n",
      "tm: torch.Size([8])\n",
      "be: torch.Size([8])\n",
      "bf: torch.Size([8])\n",
      "adc: torch.Size([128, 1])\n",
      "sigma: torch.Size([128, 1])\n",
      "axr: torch.Size([128, 1])\n",
      "evox: torch.Size([128, 8])\n",
      "tm: torch.Size([8])\n",
      "be: torch.Size([8])\n",
      "bf: torch.Size([8])\n",
      "adc: torch.Size([128, 1])\n",
      "sigma: torch.Size([128, 1])\n",
      "axr: torch.Size([128, 1])\n",
      "evox: torch.Size([128, 8])\n",
      "tm: torch.Size([8])\n",
      "be: torch.Size([8])\n",
      "bf: torch.Size([8])\n",
      "adc: torch.Size([128, 1])\n",
      "sigma: torch.Size([128, 1])\n",
      "axr: torch.Size([128, 1])\n",
      "evox: torch.Size([128, 8])\n",
      "tm: torch.Size([8])\n",
      "be: torch.Size([8])\n",
      "bf: torch.Size([8])\n",
      "adc: torch.Size([128, 1])\n",
      "sigma: torch.Size([128, 1])\n",
      "axr: torch.Size([128, 1])\n",
      "evox: torch.Size([128, 8])\n",
      "tm: torch.Size([8])\n",
      "be: torch.Size([8])\n",
      "bf: torch.Size([8])\n",
      "adc: torch.Size([128, 1])\n",
      "sigma: torch.Size([128, 1])\n",
      "axr: torch.Size([128, 1])\n",
      "evox: torch.Size([128, 8])\n",
      "tm: torch.Size([8])\n",
      "be: torch.Size([8])\n",
      "bf: torch.Size([8])\n",
      "adc: torch.Size([128, 1])\n",
      "sigma: torch.Size([128, 1])\n",
      "axr: torch.Size([128, 1])\n",
      "evox: torch.Size([128, 8])\n"
     ]
    },
    {
     "name": "stderr",
     "output_type": "stream",
     "text": [
      "100%|██████████| 7/7 [00:00<00:00, 181.56it/s]\n"
     ]
    },
    {
     "name": "stdout",
     "output_type": "stream",
     "text": [
      "loss: 0.2427457831799984\n",
      "####################### saving good model #######################\n",
      "-----------------------------------------------------------------\n",
      "epoch: 5; bad epochs: 0\n"
     ]
    },
    {
     "name": "stderr",
     "output_type": "stream",
     "text": [
      "  0%|          | 0/7 [00:00<?, ?it/s]"
     ]
    },
    {
     "name": "stdout",
     "output_type": "stream",
     "text": [
      "tm: torch.Size([8])\n",
      "be: torch.Size([8])\n",
      "bf: torch.Size([8])\n",
      "adc: torch.Size([128, 1])\n",
      "sigma: torch.Size([128, 1])\n",
      "axr: torch.Size([128, 1])\n",
      "evox: torch.Size([128, 8])\n",
      "tm: torch.Size([8])\n",
      "be: torch.Size([8])\n",
      "bf: torch.Size([8])\n",
      "adc: torch.Size([128, 1])\n",
      "sigma: torch.Size([128, 1])\n",
      "axr: torch.Size([128, 1])\n",
      "evox: torch.Size([128, 8])\n"
     ]
    },
    {
     "name": "stderr",
     "output_type": "stream",
     "text": [
      "100%|██████████| 7/7 [00:00<00:00, 224.69it/s]\n"
     ]
    },
    {
     "name": "stdout",
     "output_type": "stream",
     "text": [
      "tm: torch.Size([8])\n",
      "be: torch.Size([8])\n",
      "bf: torch.Size([8])\n",
      "adc: torch.Size([128, 1])\n",
      "sigma: torch.Size([128, 1])\n",
      "axr: torch.Size([128, 1])\n",
      "evox: torch.Size([128, 8])\n",
      "tm: torch.Size([8])\n",
      "be: torch.Size([8])\n",
      "bf: torch.Size([8])\n",
      "adc: torch.Size([128, 1])\n",
      "sigma: torch.Size([128, 1])\n",
      "axr: torch.Size([128, 1])\n",
      "evox: torch.Size([128, 8])\n",
      "tm: torch.Size([8])\n",
      "be: torch.Size([8])\n",
      "bf: torch.Size([8])\n",
      "adc: torch.Size([128, 1])\n",
      "sigma: torch.Size([128, 1])\n",
      "axr: torch.Size([128, 1])\n",
      "evox: torch.Size([128, 8])\n",
      "tm: torch.Size([8])\n",
      "be: torch.Size([8])\n",
      "bf: torch.Size([8])\n",
      "adc: torch.Size([128, 1])\n",
      "sigma: torch.Size([128, 1])\n",
      "axr: torch.Size([128, 1])\n",
      "evox: torch.Size([128, 8])\n",
      "tm: torch.Size([8])\n",
      "be: torch.Size([8])\n",
      "bf: torch.Size([8])\n",
      "adc: torch.Size([128, 1])\n",
      "sigma: torch.Size([128, 1])\n",
      "axr: torch.Size([128, 1])\n",
      "evox: torch.Size([128, 8])\n",
      "loss: 0.24320735596120358\n",
      "-----------------------------------------------------------------\n",
      "epoch: 6; bad epochs: 1\n"
     ]
    },
    {
     "name": "stderr",
     "output_type": "stream",
     "text": [
      "  0%|          | 0/7 [00:00<?, ?it/s]"
     ]
    },
    {
     "name": "stdout",
     "output_type": "stream",
     "text": [
      "tm: torch.Size([8])\n",
      "be: torch.Size([8])\n",
      "bf: torch.Size([8])\n",
      "adc: torch.Size([128, 1])\n",
      "sigma: torch.Size([128, 1])\n",
      "axr: torch.Size([128, 1])\n",
      "evox: torch.Size([128, 8])\n",
      "tm: torch.Size([8])\n",
      "be: torch.Size([8])\n",
      "bf: torch.Size([8])\n",
      "adc: torch.Size([128, 1])\n",
      "sigma: torch.Size([128, 1])\n",
      "axr: torch.Size([128, 1])\n",
      "evox: torch.Size([128, 8])\n",
      "tm: torch.Size([8])\n",
      "be: torch.Size([8])\n",
      "bf: torch.Size([8])\n",
      "adc: torch.Size([128, 1])\n",
      "sigma: torch.Size([128, 1])\n",
      "axr: torch.Size([128, 1])\n",
      "evox: torch.Size([128, 8])\n",
      "tm: torch.Size([8])\n",
      "be: torch.Size([8])\n",
      "bf: torch.Size([8])\n",
      "adc: torch.Size([128, 1])\n",
      "sigma: torch.Size([128, 1])\n",
      "axr: torch.Size([128, 1])\n",
      "evox: torch.Size([128, 8])\n",
      "tm: torch.Size([8])\n",
      "be: torch.Size([8])\n",
      "bf: torch.Size([8])\n",
      "adc: torch.Size([128, 1])\n",
      "sigma: torch.Size([128, 1])\n",
      "axr: torch.Size([128, 1])\n",
      "evox: torch.Size([128, 8])\n"
     ]
    },
    {
     "name": "stderr",
     "output_type": "stream",
     "text": [
      "100%|██████████| 7/7 [00:00<00:00, 193.71it/s]"
     ]
    },
    {
     "name": "stdout",
     "output_type": "stream",
     "text": [
      "tm: torch.Size([8])\n",
      "be: torch.Size([8])\n",
      "bf: torch.Size([8])\n",
      "adc: torch.Size([128, 1])\n",
      "sigma: torch.Size([128, 1])\n",
      "axr: torch.Size([128, 1])\n",
      "evox: torch.Size([128, 8])\n",
      "tm: torch.Size([8])\n",
      "be: torch.Size([8])\n",
      "bf: torch.Size([8])\n",
      "adc: torch.Size([128, 1])\n",
      "sigma: torch.Size([128, 1])\n",
      "axr: torch.Size([128, 1])\n",
      "evox: torch.Size([128, 8])\n"
     ]
    },
    {
     "name": "stderr",
     "output_type": "stream",
     "text": [
      "\n"
     ]
    },
    {
     "name": "stdout",
     "output_type": "stream",
     "text": [
      "loss: 0.24904804304242134\n",
      "-----------------------------------------------------------------\n",
      "epoch: 7; bad epochs: 2\n"
     ]
    },
    {
     "name": "stderr",
     "output_type": "stream",
     "text": [
      "  0%|          | 0/7 [00:00<?, ?it/s]"
     ]
    },
    {
     "name": "stdout",
     "output_type": "stream",
     "text": [
      "tm: torch.Size([8])\n",
      "be: torch.Size([8])\n",
      "bf: torch.Size([8])\n",
      "adc: torch.Size([128, 1])\n",
      "sigma: torch.Size([128, 1])\n",
      "axr: torch.Size([128, 1])\n",
      "evox: torch.Size([128, 8])\n",
      "tm: torch.Size([8])\n",
      "be: torch.Size([8])\n",
      "bf: torch.Size([8])\n",
      "adc: torch.Size([128, 1])\n",
      "sigma: torch.Size([128, 1])\n",
      "axr: torch.Size([128, 1])\n",
      "evox: torch.Size([128, 8])\n",
      "tm: torch.Size([8])\n",
      "be: torch.Size([8])\n",
      "bf: torch.Size([8])\n",
      "adc: torch.Size([128, 1])\n",
      "sigma: torch.Size([128, 1])\n",
      "axr: torch.Size([128, 1])\n",
      "evox: torch.Size([128, 8])\n",
      "tm: torch.Size([8])\n",
      "be: torch.Size([8])\n",
      "bf: torch.Size([8])\n",
      "adc: torch.Size([128, 1])\n",
      "sigma: torch.Size([128, 1])\n",
      "axr: torch.Size([128, 1])\n",
      "evox: torch.Size([128, 8])\n"
     ]
    },
    {
     "name": "stderr",
     "output_type": "stream",
     "text": [
      "100%|██████████| 7/7 [00:00<00:00, 137.00it/s]\n"
     ]
    },
    {
     "name": "stdout",
     "output_type": "stream",
     "text": [
      "tm: torch.Size([8])\n",
      "be: torch.Size([8])\n",
      "bf: torch.Size([8])\n",
      "adc: torch.Size([128, 1])\n",
      "sigma: torch.Size([128, 1])\n",
      "axr: torch.Size([128, 1])\n",
      "evox: torch.Size([128, 8])\n",
      "tm: torch.Size([8])\n",
      "be: torch.Size([8])\n",
      "bf: torch.Size([8])\n",
      "adc: torch.Size([128, 1])\n",
      "sigma: torch.Size([128, 1])\n",
      "axr: torch.Size([128, 1])\n",
      "evox: torch.Size([128, 8])\n",
      "tm: torch.Size([8])\n",
      "be: torch.Size([8])\n",
      "bf: torch.Size([8])\n",
      "adc: torch.Size([128, 1])\n",
      "sigma: torch.Size([128, 1])\n",
      "axr: torch.Size([128, 1])\n",
      "evox: torch.Size([128, 8])\n",
      "loss: 0.24241390824317932\n",
      "####################### saving good model #######################\n",
      "-----------------------------------------------------------------\n",
      "epoch: 8; bad epochs: 0\n"
     ]
    },
    {
     "name": "stderr",
     "output_type": "stream",
     "text": [
      "100%|██████████| 7/7 [00:00<00:00, 206.81it/s]\n"
     ]
    },
    {
     "name": "stdout",
     "output_type": "stream",
     "text": [
      "tm: torch.Size([8])\n",
      "be: torch.Size([8])\n",
      "bf: torch.Size([8])\n",
      "adc: torch.Size([128, 1])\n",
      "sigma: torch.Size([128, 1])\n",
      "axr: torch.Size([128, 1])\n",
      "evox: torch.Size([128, 8])\n",
      "tm: torch.Size([8])\n",
      "be: torch.Size([8])\n",
      "bf: torch.Size([8])\n",
      "adc: torch.Size([128, 1])\n",
      "sigma: torch.Size([128, 1])\n",
      "axr: torch.Size([128, 1])\n",
      "evox: torch.Size([128, 8])\n",
      "tm: torch.Size([8])\n",
      "be: torch.Size([8])\n",
      "bf: torch.Size([8])\n",
      "adc: torch.Size([128, 1])\n",
      "sigma: torch.Size([128, 1])\n",
      "axr: torch.Size([128, 1])\n",
      "evox: torch.Size([128, 8])\n",
      "tm: torch.Size([8])\n",
      "be: torch.Size([8])\n",
      "bf: torch.Size([8])\n",
      "adc: torch.Size([128, 1])\n",
      "sigma: torch.Size([128, 1])\n",
      "axr: torch.Size([128, 1])\n",
      "evox: torch.Size([128, 8])\n",
      "tm: torch.Size([8])\n",
      "be: torch.Size([8])\n",
      "bf: torch.Size([8])\n",
      "adc: torch.Size([128, 1])\n",
      "sigma: torch.Size([128, 1])\n",
      "axr: torch.Size([128, 1])\n",
      "evox: torch.Size([128, 8])\n",
      "tm: torch.Size([8])\n",
      "be: torch.Size([8])\n",
      "bf: torch.Size([8])\n",
      "adc: torch.Size([128, 1])\n",
      "sigma: torch.Size([128, 1])\n",
      "axr: torch.Size([128, 1])\n",
      "evox: torch.Size([128, 8])\n",
      "tm: torch.Size([8])\n",
      "be: torch.Size([8])\n",
      "bf: torch.Size([8])\n",
      "adc: torch.Size([128, 1])\n",
      "sigma: torch.Size([128, 1])\n",
      "axr: torch.Size([128, 1])\n",
      "evox: torch.Size([128, 8])\n",
      "loss: 0.24212810024619102\n",
      "####################### saving good model #######################\n",
      "-----------------------------------------------------------------\n",
      "epoch: 9; bad epochs: 0\n"
     ]
    },
    {
     "name": "stderr",
     "output_type": "stream",
     "text": [
      "100%|██████████| 7/7 [00:00<00:00, 172.54it/s]\n"
     ]
    },
    {
     "name": "stdout",
     "output_type": "stream",
     "text": [
      "tm: torch.Size([8])\n",
      "be: torch.Size([8])\n",
      "bf: torch.Size([8])\n",
      "adc: torch.Size([128, 1])\n",
      "sigma: torch.Size([128, 1])\n",
      "axr: torch.Size([128, 1])\n",
      "evox: torch.Size([128, 8])\n",
      "tm: torch.Size([8])\n",
      "be: torch.Size([8])\n",
      "bf: torch.Size([8])\n",
      "adc: torch.Size([128, 1])\n",
      "sigma: torch.Size([128, 1])\n",
      "axr: torch.Size([128, 1])\n",
      "evox: torch.Size([128, 8])\n",
      "tm: torch.Size([8])\n",
      "be: torch.Size([8])\n",
      "bf: torch.Size([8])\n",
      "adc: torch.Size([128, 1])\n",
      "sigma: torch.Size([128, 1])\n",
      "axr: torch.Size([128, 1])\n",
      "evox: torch.Size([128, 8])\n",
      "tm: torch.Size([8])\n",
      "be: torch.Size([8])\n",
      "bf: torch.Size([8])\n",
      "adc: torch.Size([128, 1])\n",
      "sigma: torch.Size([128, 1])\n",
      "axr: torch.Size([128, 1])\n",
      "evox: torch.Size([128, 8])\n",
      "tm: torch.Size([8])\n",
      "be: torch.Size([8])\n",
      "bf: torch.Size([8])\n",
      "adc: torch.Size([128, 1])\n",
      "sigma: torch.Size([128, 1])\n",
      "axr: torch.Size([128, 1])\n",
      "evox: torch.Size([128, 8])\n",
      "tm: torch.Size([8])\n",
      "be: torch.Size([8])\n",
      "bf: torch.Size([8])\n",
      "adc: torch.Size([128, 1])\n",
      "sigma: torch.Size([128, 1])\n",
      "axr: torch.Size([128, 1])\n",
      "evox: torch.Size([128, 8])\n",
      "tm: torch.Size([8])\n",
      "be: torch.Size([8])\n",
      "bf: torch.Size([8])\n",
      "adc: torch.Size([128, 1])\n",
      "sigma: torch.Size([128, 1])\n",
      "axr: torch.Size([128, 1])\n",
      "evox: torch.Size([128, 8])\n",
      "loss: 0.23999784514307976\n",
      "####################### saving good model #######################\n",
      "-----------------------------------------------------------------\n",
      "epoch: 10; bad epochs: 0\n"
     ]
    },
    {
     "name": "stderr",
     "output_type": "stream",
     "text": [
      "  0%|          | 0/7 [00:00<?, ?it/s]"
     ]
    },
    {
     "name": "stdout",
     "output_type": "stream",
     "text": [
      "tm: torch.Size([8])\n",
      "be: torch.Size([8])\n",
      "bf: torch.Size([8])\n",
      "adc: torch.Size([128, 1])\n",
      "sigma: torch.Size([128, 1])\n",
      "axr: torch.Size([128, 1])\n",
      "evox: torch.Size([128, 8])\n",
      "tm: torch.Size([8])\n",
      "be: torch.Size([8])\n",
      "bf: torch.Size([8])\n",
      "adc: torch.Size([128, 1])\n",
      "sigma: torch.Size([128, 1])\n",
      "axr: torch.Size([128, 1])\n",
      "evox: torch.Size([128, 8])\n",
      "tm: torch.Size([8])\n",
      "be: torch.Size([8])\n",
      "bf: torch.Size([8])\n",
      "adc: torch.Size([128, 1])\n",
      "sigma: torch.Size([128, 1])\n",
      "axr: torch.Size([128, 1])\n",
      "evox: torch.Size([128, 8])\n",
      "tm: torch.Size([8])\n",
      "be: torch.Size([8])\n",
      "bf: torch.Size([8])\n",
      "adc: torch.Size([128, 1])\n",
      "sigma: torch.Size([128, 1])\n",
      "axr: torch.Size([128, 1])\n",
      "evox: torch.Size([128, 8])\n"
     ]
    },
    {
     "name": "stderr",
     "output_type": "stream",
     "text": [
      "100%|██████████| 7/7 [00:00<00:00, 115.65it/s]"
     ]
    },
    {
     "name": "stdout",
     "output_type": "stream",
     "text": [
      "tm: torch.Size([8])\n",
      "be: torch.Size([8])\n",
      "bf: torch.Size([8])\n",
      "adc: torch.Size([128, 1])\n",
      "sigma: torch.Size([128, 1])\n",
      "axr: torch.Size([128, 1])\n",
      "evox: torch.Size([128, 8])\n",
      "tm: torch.Size([8])\n",
      "be: torch.Size([8])\n",
      "bf: torch.Size([8])\n",
      "adc: torch.Size([128, 1])\n",
      "sigma: torch.Size([128, 1])\n",
      "axr: torch.Size([128, 1])\n",
      "evox: torch.Size([128, 8])\n",
      "tm: torch.Size([8])\n",
      "be: torch.Size([8])\n",
      "bf: torch.Size([8])\n",
      "adc: torch.Size([128, 1])\n",
      "sigma: torch.Size([128, 1])\n",
      "axr: torch.Size([128, 1])\n",
      "evox: torch.Size([128, 8])\n"
     ]
    },
    {
     "name": "stderr",
     "output_type": "stream",
     "text": [
      "\n"
     ]
    },
    {
     "name": "stdout",
     "output_type": "stream",
     "text": [
      "loss: 0.24345892295241356\n",
      "-----------------------------------------------------------------\n",
      "epoch: 11; bad epochs: 1\n"
     ]
    },
    {
     "name": "stderr",
     "output_type": "stream",
     "text": [
      "100%|██████████| 7/7 [00:00<00:00, 195.68it/s]\n"
     ]
    },
    {
     "name": "stdout",
     "output_type": "stream",
     "text": [
      "tm: torch.Size([8])\n",
      "be: torch.Size([8])\n",
      "bf: torch.Size([8])\n",
      "adc: torch.Size([128, 1])\n",
      "sigma: torch.Size([128, 1])\n",
      "axr: torch.Size([128, 1])\n",
      "evox: torch.Size([128, 8])\n",
      "tm: torch.Size([8])\n",
      "be: torch.Size([8])\n",
      "bf: torch.Size([8])\n",
      "adc: torch.Size([128, 1])\n",
      "sigma: torch.Size([128, 1])\n",
      "axr: torch.Size([128, 1])\n",
      "evox: torch.Size([128, 8])\n",
      "tm: torch.Size([8])\n",
      "be: torch.Size([8])\n",
      "bf: torch.Size([8])\n",
      "adc: torch.Size([128, 1])\n",
      "sigma: torch.Size([128, 1])\n",
      "axr: torch.Size([128, 1])\n",
      "evox: torch.Size([128, 8])\n",
      "tm: torch.Size([8])\n",
      "be: torch.Size([8])\n",
      "bf: torch.Size([8])\n",
      "adc: torch.Size([128, 1])\n",
      "sigma: torch.Size([128, 1])\n",
      "axr: torch.Size([128, 1])\n",
      "evox: torch.Size([128, 8])\n",
      "tm: torch.Size([8])\n",
      "be: torch.Size([8])\n",
      "bf: torch.Size([8])\n",
      "adc: torch.Size([128, 1])\n",
      "sigma: torch.Size([128, 1])\n",
      "axr: torch.Size([128, 1])\n",
      "evox: torch.Size([128, 8])\n",
      "tm: torch.Size([8])\n",
      "be: torch.Size([8])\n",
      "bf: torch.Size([8])\n",
      "adc: torch.Size([128, 1])\n",
      "sigma: torch.Size([128, 1])\n",
      "axr: torch.Size([128, 1])\n",
      "evox: torch.Size([128, 8])\n",
      "tm: torch.Size([8])\n",
      "be: torch.Size([8])\n",
      "bf: torch.Size([8])\n",
      "adc: torch.Size([128, 1])\n",
      "sigma: torch.Size([128, 1])\n",
      "axr: torch.Size([128, 1])\n",
      "evox: torch.Size([128, 8])\n",
      "loss: 0.24300650507211685\n",
      "-----------------------------------------------------------------\n",
      "epoch: 12; bad epochs: 2\n"
     ]
    },
    {
     "name": "stderr",
     "output_type": "stream",
     "text": [
      "100%|██████████| 7/7 [00:00<00:00, 267.49it/s]\n"
     ]
    },
    {
     "name": "stdout",
     "output_type": "stream",
     "text": [
      "tm: torch.Size([8])\n",
      "be: torch.Size([8])\n",
      "bf: torch.Size([8])\n",
      "adc: torch.Size([128, 1])\n",
      "sigma: torch.Size([128, 1])\n",
      "axr: torch.Size([128, 1])\n",
      "evox: torch.Size([128, 8])\n",
      "tm: torch.Size([8])\n",
      "be: torch.Size([8])\n",
      "bf: torch.Size([8])\n",
      "adc: torch.Size([128, 1])\n",
      "sigma: torch.Size([128, 1])\n",
      "axr: torch.Size([128, 1])\n",
      "evox: torch.Size([128, 8])\n",
      "tm: torch.Size([8])\n",
      "be: torch.Size([8])\n",
      "bf: torch.Size([8])\n",
      "adc: torch.Size([128, 1])\n",
      "sigma: torch.Size([128, 1])\n",
      "axr: torch.Size([128, 1])\n",
      "evox: torch.Size([128, 8])\n",
      "tm: torch.Size([8])\n",
      "be: torch.Size([8])\n",
      "bf: torch.Size([8])\n",
      "adc: torch.Size([128, 1])\n",
      "sigma: torch.Size([128, 1])\n",
      "axr: torch.Size([128, 1])\n",
      "evox: torch.Size([128, 8])\n",
      "tm: torch.Size([8])\n",
      "be: torch.Size([8])\n",
      "bf: torch.Size([8])\n",
      "adc: torch.Size([128, 1])\n",
      "sigma: torch.Size([128, 1])\n",
      "axr: torch.Size([128, 1])\n",
      "evox: torch.Size([128, 8])\n",
      "tm: torch.Size([8])\n",
      "be: torch.Size([8])\n",
      "bf: torch.Size([8])\n",
      "adc: torch.Size([128, 1])\n",
      "sigma: torch.Size([128, 1])\n",
      "axr: torch.Size([128, 1])\n",
      "evox: torch.Size([128, 8])\n",
      "tm: torch.Size([8])\n",
      "be: torch.Size([8])\n",
      "bf: torch.Size([8])\n",
      "adc: torch.Size([128, 1])\n",
      "sigma: torch.Size([128, 1])\n",
      "axr: torch.Size([128, 1])\n",
      "evox: torch.Size([128, 8])\n",
      "loss: 0.24467849731445312\n",
      "-----------------------------------------------------------------\n",
      "epoch: 13; bad epochs: 3\n"
     ]
    },
    {
     "name": "stderr",
     "output_type": "stream",
     "text": [
      "  0%|          | 0/7 [00:00<?, ?it/s]"
     ]
    },
    {
     "name": "stdout",
     "output_type": "stream",
     "text": [
      "tm: torch.Size([8])\n",
      "be: torch.Size([8])\n",
      "bf: torch.Size([8])\n",
      "adc: torch.Size([128, 1])\n",
      "sigma: torch.Size([128, 1])\n",
      "axr: torch.Size([128, 1])\n",
      "evox: torch.Size([128, 8])\n",
      "tm: torch.Size([8])\n",
      "be: torch.Size([8])\n",
      "bf: torch.Size([8])\n",
      "adc: torch.Size([128, 1])\n",
      "sigma: torch.Size([128, 1])\n",
      "axr: torch.Size([128, 1])\n",
      "evox: torch.Size([128, 8])\n",
      "tm: torch.Size([8])\n",
      "be: torch.Size([8])\n",
      "bf: torch.Size([8])\n",
      "adc: torch.Size([128, 1])\n",
      "sigma: torch.Size([128, 1])\n",
      "axr: torch.Size([128, 1])\n",
      "evox: torch.Size([128, 8])\n",
      "tm: torch.Size([8])\n",
      "be: torch.Size([8])\n",
      "bf: torch.Size([8])\n",
      "adc: torch.Size([128, 1])\n",
      "sigma: torch.Size([128, 1])\n",
      "axr: torch.Size([128, 1])\n",
      "evox: torch.Size([128, 8])\n",
      "tm: torch.Size([8])\n",
      "be: torch.Size([8])\n",
      "bf: torch.Size([8])\n",
      "adc: torch.Size([128, 1])\n",
      "sigma: torch.Size([128, 1])\n",
      "axr: torch.Size([128, 1])\n",
      "evox: torch.Size([128, 8])\n",
      "tm: torch.Size([8])\n",
      "be: torch.Size([8])\n",
      "bf: torch.Size([8])\n",
      "adc: torch.Size([128, 1])\n",
      "sigma: torch.Size([128, 1])\n",
      "axr: torch.Size([128, 1])\n",
      "evox: torch.Size([128, 8])\n"
     ]
    },
    {
     "name": "stderr",
     "output_type": "stream",
     "text": [
      "100%|██████████| 7/7 [00:00<00:00, 177.24it/s]\n"
     ]
    },
    {
     "name": "stdout",
     "output_type": "stream",
     "text": [
      "tm: torch.Size([8])\n",
      "be: torch.Size([8])\n",
      "bf: torch.Size([8])\n",
      "adc: torch.Size([128, 1])\n",
      "sigma: torch.Size([128, 1])\n",
      "axr: torch.Size([128, 1])\n",
      "evox: torch.Size([128, 8])\n",
      "loss: 0.23923814110457897\n",
      "####################### saving good model #######################\n",
      "-----------------------------------------------------------------\n",
      "epoch: 14; bad epochs: 0\n"
     ]
    },
    {
     "name": "stderr",
     "output_type": "stream",
     "text": [
      "  0%|          | 0/7 [00:00<?, ?it/s]"
     ]
    },
    {
     "name": "stdout",
     "output_type": "stream",
     "text": [
      "tm: torch.Size([8])\n",
      "be: torch.Size([8])\n",
      "bf: torch.Size([8])\n",
      "adc: torch.Size([128, 1])\n",
      "sigma: torch.Size([128, 1])\n",
      "axr: torch.Size([128, 1])\n",
      "evox: torch.Size([128, 8])\n",
      "tm: torch.Size([8])\n",
      "be: torch.Size([8])\n",
      "bf: torch.Size([8])\n",
      "adc: torch.Size([128, 1])\n",
      "sigma: torch.Size([128, 1])\n",
      "axr: torch.Size([128, 1])\n",
      "evox: torch.Size([128, 8])\n",
      "tm: torch.Size([8])\n",
      "be: torch.Size([8])\n",
      "bf: torch.Size([8])\n",
      "adc: torch.Size([128, 1])\n",
      "sigma: torch.Size([128, 1])\n",
      "axr: torch.Size([128, 1])\n",
      "evox: torch.Size([128, 8])\n",
      "tm: torch.Size([8])\n",
      "be: torch.Size([8])\n",
      "bf: torch.Size([8])\n",
      "adc: torch.Size([128, 1])\n",
      "sigma: torch.Size([128, 1])\n",
      "axr: torch.Size([128, 1])\n",
      "evox: torch.Size([128, 8])\n",
      "tm: torch.Size([8])\n",
      "be: torch.Size([8])\n",
      "bf: torch.Size([8])\n",
      "adc: torch.Size([128, 1])\n",
      "sigma: torch.Size([128, 1])\n",
      "axr: torch.Size([128, 1])\n",
      "evox: torch.Size([128, 8])\n"
     ]
    },
    {
     "name": "stderr",
     "output_type": "stream",
     "text": [
      "100%|██████████| 7/7 [00:00<00:00, 155.59it/s]\n"
     ]
    },
    {
     "name": "stdout",
     "output_type": "stream",
     "text": [
      "tm: torch.Size([8])\n",
      "be: torch.Size([8])\n",
      "bf: torch.Size([8])\n",
      "adc: torch.Size([128, 1])\n",
      "sigma: torch.Size([128, 1])\n",
      "axr: torch.Size([128, 1])\n",
      "evox: torch.Size([128, 8])\n",
      "tm: torch.Size([8])\n",
      "be: torch.Size([8])\n",
      "bf: torch.Size([8])\n",
      "adc: torch.Size([128, 1])\n",
      "sigma: torch.Size([128, 1])\n",
      "axr: torch.Size([128, 1])\n",
      "evox: torch.Size([128, 8])\n",
      "loss: 0.24102390557527542\n",
      "-----------------------------------------------------------------\n",
      "epoch: 15; bad epochs: 1\n"
     ]
    },
    {
     "name": "stderr",
     "output_type": "stream",
     "text": [
      "100%|██████████| 7/7 [00:00<00:00, 149.76it/s]"
     ]
    },
    {
     "name": "stdout",
     "output_type": "stream",
     "text": [
      "tm: torch.Size([8])\n",
      "be: torch.Size([8])\n",
      "bf: torch.Size([8])\n",
      "adc: torch.Size([128, 1])\n",
      "sigma: torch.Size([128, 1])\n",
      "axr: torch.Size([128, 1])\n",
      "evox: torch.Size([128, 8])\n",
      "tm: torch.Size([8])\n",
      "be: torch.Size([8])\n",
      "bf: torch.Size([8])\n",
      "adc: torch.Size([128, 1])\n",
      "sigma: torch.Size([128, 1])\n",
      "axr: torch.Size([128, 1])\n",
      "evox: torch.Size([128, 8])\n",
      "tm: torch.Size([8])\n",
      "be: torch.Size([8])\n",
      "bf: torch.Size([8])\n",
      "adc: torch.Size([128, 1])\n",
      "sigma: torch.Size([128, 1])\n",
      "axr: torch.Size([128, 1])\n",
      "evox: torch.Size([128, 8])\n",
      "tm: torch.Size([8])\n",
      "be: torch.Size([8])\n",
      "bf: torch.Size([8])\n",
      "adc: torch.Size([128, 1])\n",
      "sigma: torch.Size([128, 1])\n",
      "axr: torch.Size([128, 1])\n",
      "evox: torch.Size([128, 8])\n",
      "tm: torch.Size([8])\n",
      "be: torch.Size([8])\n",
      "bf: torch.Size([8])\n",
      "adc: torch.Size([128, 1])\n",
      "sigma: torch.Size([128, 1])\n",
      "axr: torch.Size([128, 1])\n",
      "evox: torch.Size([128, 8])\n",
      "tm: torch.Size([8])\n",
      "be: torch.Size([8])\n",
      "bf: torch.Size([8])\n",
      "adc: torch.Size([128, 1])\n",
      "sigma: torch.Size([128, 1])\n",
      "axr: torch.Size([128, 1])\n",
      "evox: torch.Size([128, 8])\n",
      "tm: torch.Size([8])\n",
      "be: torch.Size([8])\n",
      "bf: torch.Size([8])\n",
      "adc: torch.Size([128, 1])\n",
      "sigma: torch.Size([128, 1])\n",
      "axr: torch.Size([128, 1])\n",
      "evox: torch.Size([128, 8])\n"
     ]
    },
    {
     "name": "stderr",
     "output_type": "stream",
     "text": [
      "\n"
     ]
    },
    {
     "name": "stdout",
     "output_type": "stream",
     "text": [
      "loss: 0.23616039752960205\n",
      "####################### saving good model #######################\n",
      "-----------------------------------------------------------------\n",
      "epoch: 16; bad epochs: 0\n"
     ]
    },
    {
     "name": "stderr",
     "output_type": "stream",
     "text": [
      "  0%|          | 0/7 [00:00<?, ?it/s]"
     ]
    },
    {
     "name": "stdout",
     "output_type": "stream",
     "text": [
      "tm: torch.Size([8])\n",
      "be: torch.Size([8])\n",
      "bf: torch.Size([8])\n",
      "adc: torch.Size([128, 1])\n",
      "sigma: torch.Size([128, 1])\n",
      "axr: torch.Size([128, 1])\n",
      "evox: torch.Size([128, 8])\n",
      "tm: torch.Size([8])\n",
      "be: torch.Size([8])\n",
      "bf: torch.Size([8])\n",
      "adc: torch.Size([128, 1])\n",
      "sigma: torch.Size([128, 1])\n",
      "axr: torch.Size([128, 1])\n",
      "evox: torch.Size([128, 8])\n",
      "tm: torch.Size([8])\n",
      "be: torch.Size([8])\n",
      "bf: torch.Size([8])\n",
      "adc: torch.Size([128, 1])\n",
      "sigma: torch.Size([128, 1])\n",
      "axr: torch.Size([128, 1])\n",
      "evox: torch.Size([128, 8])\n",
      "tm: torch.Size([8])\n",
      "be: torch.Size([8])\n",
      "bf: torch.Size([8])\n",
      "adc: torch.Size([128, 1])\n",
      "sigma: torch.Size([128, 1])\n",
      "axr: torch.Size([128, 1])\n",
      "evox: torch.Size([128, 8])\n",
      "tm: torch.Size([8])\n",
      "be: torch.Size([8])\n",
      "bf: torch.Size([8])\n",
      "adc: torch.Size([128, 1])\n",
      "sigma: torch.Size([128, 1])\n",
      "axr: torch.Size([128, 1])\n",
      "evox: torch.Size([128, 8])\n",
      "tm: torch.Size([8])\n",
      "be: torch.Size([8])\n",
      "bf: torch.Size([8])\n",
      "adc: torch.Size([128, 1])\n",
      "sigma: torch.Size([128, 1])\n",
      "axr: torch.Size([128, 1])\n",
      "evox: torch.Size([128, 8])\n"
     ]
    },
    {
     "name": "stderr",
     "output_type": "stream",
     "text": [
      "100%|██████████| 7/7 [00:00<00:00, 129.53it/s]\n"
     ]
    },
    {
     "name": "stdout",
     "output_type": "stream",
     "text": [
      "tm: torch.Size([8])\n",
      "be: torch.Size([8])\n",
      "bf: torch.Size([8])\n",
      "adc: torch.Size([128, 1])\n",
      "sigma: torch.Size([128, 1])\n",
      "axr: torch.Size([128, 1])\n",
      "evox: torch.Size([128, 8])\n",
      "loss: 0.2412948850542307\n",
      "-----------------------------------------------------------------\n",
      "epoch: 17; bad epochs: 1\n"
     ]
    },
    {
     "name": "stderr",
     "output_type": "stream",
     "text": [
      "  0%|          | 0/7 [00:00<?, ?it/s]"
     ]
    },
    {
     "name": "stdout",
     "output_type": "stream",
     "text": [
      "tm: torch.Size([8])\n",
      "be: torch.Size([8])\n",
      "bf: torch.Size([8])\n",
      "adc: torch.Size([128, 1])\n",
      "sigma: torch.Size([128, 1])\n",
      "axr: torch.Size([128, 1])\n",
      "evox: torch.Size([128, 8])\n",
      "tm: torch.Size([8])\n",
      "be: torch.Size([8])\n",
      "bf: torch.Size([8])\n",
      "adc: torch.Size([128, 1])\n",
      "sigma: torch.Size([128, 1])\n",
      "axr: torch.Size([128, 1])\n",
      "evox: torch.Size([128, 8])\n"
     ]
    },
    {
     "name": "stderr",
     "output_type": "stream",
     "text": [
      "100%|██████████| 7/7 [00:00<00:00, 138.55it/s]\n"
     ]
    },
    {
     "name": "stdout",
     "output_type": "stream",
     "text": [
      "tm: torch.Size([8])\n",
      "be: torch.Size([8])\n",
      "bf: torch.Size([8])\n",
      "adc: torch.Size([128, 1])\n",
      "sigma: torch.Size([128, 1])\n",
      "axr: torch.Size([128, 1])\n",
      "evox: torch.Size([128, 8])\n",
      "tm: torch.Size([8])\n",
      "be: torch.Size([8])\n",
      "bf: torch.Size([8])\n",
      "adc: torch.Size([128, 1])\n",
      "sigma: torch.Size([128, 1])\n",
      "axr: torch.Size([128, 1])\n",
      "evox: torch.Size([128, 8])\n",
      "tm: torch.Size([8])\n",
      "be: torch.Size([8])\n",
      "bf: torch.Size([8])\n",
      "adc: torch.Size([128, 1])\n",
      "sigma: torch.Size([128, 1])\n",
      "axr: torch.Size([128, 1])\n",
      "evox: torch.Size([128, 8])\n",
      "tm: torch.Size([8])\n",
      "be: torch.Size([8])\n",
      "bf: torch.Size([8])\n",
      "adc: torch.Size([128, 1])\n",
      "sigma: torch.Size([128, 1])\n",
      "axr: torch.Size([128, 1])\n",
      "evox: torch.Size([128, 8])\n",
      "tm: torch.Size([8])\n",
      "be: torch.Size([8])\n",
      "bf: torch.Size([8])\n",
      "adc: torch.Size([128, 1])\n",
      "sigma: torch.Size([128, 1])\n",
      "axr: torch.Size([128, 1])\n",
      "evox: torch.Size([128, 8])\n",
      "loss: 0.23984801769256592\n",
      "-----------------------------------------------------------------\n",
      "epoch: 18; bad epochs: 2\n"
     ]
    },
    {
     "name": "stderr",
     "output_type": "stream",
     "text": [
      "  0%|          | 0/7 [00:00<?, ?it/s]"
     ]
    },
    {
     "name": "stdout",
     "output_type": "stream",
     "text": [
      "tm: torch.Size([8])\n",
      "be: torch.Size([8])\n",
      "bf: torch.Size([8])\n",
      "adc: torch.Size([128, 1])\n",
      "sigma: torch.Size([128, 1])\n",
      "axr: torch.Size([128, 1])\n",
      "evox: torch.Size([128, 8])\n",
      "tm: torch.Size([8])\n",
      "be: torch.Size([8])\n",
      "bf: torch.Size([8])\n",
      "adc: torch.Size([128, 1])\n",
      "sigma: torch.Size([128, 1])\n",
      "axr: torch.Size([128, 1])\n",
      "evox: torch.Size([128, 8])\n",
      "tm: torch.Size([8])\n",
      "be: torch.Size([8])\n",
      "bf: torch.Size([8])\n",
      "adc: torch.Size([128, 1])\n",
      "sigma: torch.Size([128, 1])\n",
      "axr: torch.Size([128, 1])\n",
      "evox: torch.Size([128, 8])\n",
      "tm: torch.Size([8])\n",
      "be: torch.Size([8])\n",
      "bf: torch.Size([8])\n",
      "adc: torch.Size([128, 1])\n",
      "sigma: torch.Size([128, 1])\n",
      "axr: torch.Size([128, 1])\n",
      "evox: torch.Size([128, 8])\n",
      "tm: torch.Size([8])\n",
      "be: torch.Size([8])\n",
      "bf: torch.Size([8])\n",
      "adc: torch.Size([128, 1])\n",
      "sigma: torch.Size([128, 1])\n",
      "axr: torch.Size([128, 1])\n",
      "evox: torch.Size([128, 8])\n",
      "tm: torch.Size([8])\n",
      "be: torch.Size([8])\n",
      "bf: torch.Size([8])\n",
      "adc: torch.Size([128, 1])\n",
      "sigma: torch.Size([128, 1])\n",
      "axr: torch.Size([128, 1])\n",
      "evox: torch.Size([128, 8])\n",
      "tm: torch.Size([8])\n",
      "be: torch.Size([8])\n",
      "bf: torch.Size([8])\n",
      "adc: torch.Size([128, 1])\n",
      "sigma: torch.Size([128, 1])\n",
      "axr: torch.Size([128, 1])\n",
      "evox: torch.Size([128, 8])\n"
     ]
    },
    {
     "name": "stderr",
     "output_type": "stream",
     "text": [
      "100%|██████████| 7/7 [00:00<00:00, 157.21it/s]\n"
     ]
    },
    {
     "name": "stdout",
     "output_type": "stream",
     "text": [
      "loss: 0.23302719928324223\n",
      "####################### saving good model #######################\n",
      "-----------------------------------------------------------------\n",
      "epoch: 19; bad epochs: 0\n"
     ]
    },
    {
     "name": "stderr",
     "output_type": "stream",
     "text": [
      "100%|██████████| 7/7 [00:00<00:00, 208.18it/s]\n"
     ]
    },
    {
     "name": "stdout",
     "output_type": "stream",
     "text": [
      "tm: torch.Size([8])\n",
      "be: torch.Size([8])\n",
      "bf: torch.Size([8])\n",
      "adc: torch.Size([128, 1])\n",
      "sigma: torch.Size([128, 1])\n",
      "axr: torch.Size([128, 1])\n",
      "evox: torch.Size([128, 8])\n",
      "tm: torch.Size([8])\n",
      "be: torch.Size([8])\n",
      "bf: torch.Size([8])\n",
      "adc: torch.Size([128, 1])\n",
      "sigma: torch.Size([128, 1])\n",
      "axr: torch.Size([128, 1])\n",
      "evox: torch.Size([128, 8])\n",
      "tm: torch.Size([8])\n",
      "be: torch.Size([8])\n",
      "bf: torch.Size([8])\n",
      "adc: torch.Size([128, 1])\n",
      "sigma: torch.Size([128, 1])\n",
      "axr: torch.Size([128, 1])\n",
      "evox: torch.Size([128, 8])\n",
      "tm: torch.Size([8])\n",
      "be: torch.Size([8])\n",
      "bf: torch.Size([8])\n",
      "adc: torch.Size([128, 1])\n",
      "sigma: torch.Size([128, 1])\n",
      "axr: torch.Size([128, 1])\n",
      "evox: torch.Size([128, 8])\n",
      "tm: torch.Size([8])\n",
      "be: torch.Size([8])\n",
      "bf: torch.Size([8])\n",
      "adc: torch.Size([128, 1])\n",
      "sigma: torch.Size([128, 1])\n",
      "axr: torch.Size([128, 1])\n",
      "evox: torch.Size([128, 8])\n",
      "tm: torch.Size([8])\n",
      "be: torch.Size([8])\n",
      "bf: torch.Size([8])\n",
      "adc: torch.Size([128, 1])\n",
      "sigma: torch.Size([128, 1])\n",
      "axr: torch.Size([128, 1])\n",
      "evox: torch.Size([128, 8])\n",
      "tm: torch.Size([8])\n",
      "be: torch.Size([8])\n",
      "bf: torch.Size([8])\n",
      "adc: torch.Size([128, 1])\n",
      "sigma: torch.Size([128, 1])\n",
      "axr: torch.Size([128, 1])\n",
      "evox: torch.Size([128, 8])\n",
      "loss: 0.23819789104163647\n",
      "-----------------------------------------------------------------\n",
      "epoch: 20; bad epochs: 1\n"
     ]
    },
    {
     "name": "stderr",
     "output_type": "stream",
     "text": [
      "100%|██████████| 7/7 [00:00<00:00, 226.47it/s]\n"
     ]
    },
    {
     "name": "stdout",
     "output_type": "stream",
     "text": [
      "tm: torch.Size([8])\n",
      "be: torch.Size([8])\n",
      "bf: torch.Size([8])\n",
      "adc: torch.Size([128, 1])\n",
      "sigma: torch.Size([128, 1])\n",
      "axr: torch.Size([128, 1])\n",
      "evox: torch.Size([128, 8])\n",
      "tm: torch.Size([8])\n",
      "be: torch.Size([8])\n",
      "bf: torch.Size([8])\n",
      "adc: torch.Size([128, 1])\n",
      "sigma: torch.Size([128, 1])\n",
      "axr: torch.Size([128, 1])\n",
      "evox: torch.Size([128, 8])\n",
      "tm: torch.Size([8])\n",
      "be: torch.Size([8])\n",
      "bf: torch.Size([8])\n",
      "adc: torch.Size([128, 1])\n",
      "sigma: torch.Size([128, 1])\n",
      "axr: torch.Size([128, 1])\n",
      "evox: torch.Size([128, 8])\n",
      "tm: torch.Size([8])\n",
      "be: torch.Size([8])\n",
      "bf: torch.Size([8])\n",
      "adc: torch.Size([128, 1])\n",
      "sigma: torch.Size([128, 1])\n",
      "axr: torch.Size([128, 1])\n",
      "evox: torch.Size([128, 8])\n",
      "tm: torch.Size([8])\n",
      "be: torch.Size([8])\n",
      "bf: torch.Size([8])\n",
      "adc: torch.Size([128, 1])\n",
      "sigma: torch.Size([128, 1])\n",
      "axr: torch.Size([128, 1])\n",
      "evox: torch.Size([128, 8])\n",
      "tm: torch.Size([8])\n",
      "be: torch.Size([8])\n",
      "bf: torch.Size([8])\n",
      "adc: torch.Size([128, 1])\n",
      "sigma: torch.Size([128, 1])\n",
      "axr: torch.Size([128, 1])\n",
      "evox: torch.Size([128, 8])\n",
      "tm: torch.Size([8])\n",
      "be: torch.Size([8])\n",
      "bf: torch.Size([8])\n",
      "adc: torch.Size([128, 1])\n",
      "sigma: torch.Size([128, 1])\n",
      "axr: torch.Size([128, 1])\n",
      "evox: torch.Size([128, 8])\n",
      "loss: 0.23578038066625595\n",
      "-----------------------------------------------------------------\n",
      "epoch: 21; bad epochs: 2\n"
     ]
    },
    {
     "name": "stderr",
     "output_type": "stream",
     "text": [
      "100%|██████████| 7/7 [00:00<00:00, 161.27it/s]\n"
     ]
    },
    {
     "name": "stdout",
     "output_type": "stream",
     "text": [
      "tm: torch.Size([8])\n",
      "be: torch.Size([8])\n",
      "bf: torch.Size([8])\n",
      "adc: torch.Size([128, 1])\n",
      "sigma: torch.Size([128, 1])\n",
      "axr: torch.Size([128, 1])\n",
      "evox: torch.Size([128, 8])\n",
      "tm: torch.Size([8])\n",
      "be: torch.Size([8])\n",
      "bf: torch.Size([8])\n",
      "adc: torch.Size([128, 1])\n",
      "sigma: torch.Size([128, 1])\n",
      "axr: torch.Size([128, 1])\n",
      "evox: torch.Size([128, 8])\n",
      "tm: torch.Size([8])\n",
      "be: torch.Size([8])\n",
      "bf: torch.Size([8])\n",
      "adc: torch.Size([128, 1])\n",
      "sigma: torch.Size([128, 1])\n",
      "axr: torch.Size([128, 1])\n",
      "evox: torch.Size([128, 8])\n",
      "tm: torch.Size([8])\n",
      "be: torch.Size([8])\n",
      "bf: torch.Size([8])\n",
      "adc: torch.Size([128, 1])\n",
      "sigma: torch.Size([128, 1])\n",
      "axr: torch.Size([128, 1])\n",
      "evox: torch.Size([128, 8])\n",
      "tm: torch.Size([8])\n",
      "be: torch.Size([8])\n",
      "bf: torch.Size([8])\n",
      "adc: torch.Size([128, 1])\n",
      "sigma: torch.Size([128, 1])\n",
      "axr: torch.Size([128, 1])\n",
      "evox: torch.Size([128, 8])\n",
      "tm: torch.Size([8])\n",
      "be: torch.Size([8])\n",
      "bf: torch.Size([8])\n",
      "adc: torch.Size([128, 1])\n",
      "sigma: torch.Size([128, 1])\n",
      "axr: torch.Size([128, 1])\n",
      "evox: torch.Size([128, 8])\n",
      "tm: torch.Size([8])\n",
      "be: torch.Size([8])\n",
      "bf: torch.Size([8])\n",
      "adc: torch.Size([128, 1])\n",
      "sigma: torch.Size([128, 1])\n",
      "axr: torch.Size([128, 1])\n",
      "evox: torch.Size([128, 8])\n",
      "loss: 0.23336033150553703\n",
      "-----------------------------------------------------------------\n",
      "epoch: 22; bad epochs: 3\n"
     ]
    },
    {
     "name": "stderr",
     "output_type": "stream",
     "text": [
      "  0%|          | 0/7 [00:00<?, ?it/s]"
     ]
    },
    {
     "name": "stdout",
     "output_type": "stream",
     "text": [
      "tm: torch.Size([8])\n",
      "be: torch.Size([8])\n",
      "bf: torch.Size([8])\n",
      "adc: torch.Size([128, 1])\n",
      "sigma: torch.Size([128, 1])\n",
      "axr: torch.Size([128, 1])\n",
      "evox: torch.Size([128, 8])\n",
      "tm: torch.Size([8])\n",
      "be: torch.Size([8])\n",
      "bf: torch.Size([8])\n",
      "adc: torch.Size([128, 1])\n",
      "sigma: torch.Size([128, 1])\n",
      "axr: torch.Size([128, 1])\n",
      "evox: torch.Size([128, 8])\n",
      "tm: torch.Size([8])\n",
      "be: torch.Size([8])\n",
      "bf: torch.Size([8])\n",
      "adc: torch.Size([128, 1])\n",
      "sigma: torch.Size([128, 1])\n",
      "axr: torch.Size([128, 1])\n",
      "evox: torch.Size([128, 8])\n",
      "tm: torch.Size([8])\n",
      "be: torch.Size([8])\n",
      "bf: torch.Size([8])\n",
      "adc: torch.Size([128, 1])\n",
      "sigma: torch.Size([128, 1])\n",
      "axr: torch.Size([128, 1])\n",
      "evox: torch.Size([128, 8])\n"
     ]
    },
    {
     "name": "stderr",
     "output_type": "stream",
     "text": [
      "100%|██████████| 7/7 [00:00<00:00, 86.91it/s]\n"
     ]
    },
    {
     "name": "stdout",
     "output_type": "stream",
     "text": [
      "tm: torch.Size([8])\n",
      "be: torch.Size([8])\n",
      "bf: torch.Size([8])\n",
      "adc: torch.Size([128, 1])\n",
      "sigma: torch.Size([128, 1])\n",
      "axr: torch.Size([128, 1])\n",
      "evox: torch.Size([128, 8])\n",
      "tm: torch.Size([8])\n",
      "be: torch.Size([8])\n",
      "bf: torch.Size([8])\n",
      "adc: torch.Size([128, 1])\n",
      "sigma: torch.Size([128, 1])\n",
      "axr: torch.Size([128, 1])\n",
      "evox: torch.Size([128, 8])\n",
      "tm: torch.Size([8])\n",
      "be: torch.Size([8])\n",
      "bf: torch.Size([8])\n",
      "adc: torch.Size([128, 1])\n",
      "sigma: torch.Size([128, 1])\n",
      "axr: torch.Size([128, 1])\n",
      "evox: torch.Size([128, 8])\n",
      "loss: 0.2391822226345539\n",
      "-----------------------------------------------------------------\n",
      "epoch: 23; bad epochs: 4\n"
     ]
    },
    {
     "name": "stderr",
     "output_type": "stream",
     "text": [
      "100%|██████████| 7/7 [00:00<00:00, 168.56it/s]\n"
     ]
    },
    {
     "name": "stdout",
     "output_type": "stream",
     "text": [
      "tm: torch.Size([8])\n",
      "be: torch.Size([8])\n",
      "bf: torch.Size([8])\n",
      "adc: torch.Size([128, 1])\n",
      "sigma: torch.Size([128, 1])\n",
      "axr: torch.Size([128, 1])\n",
      "evox: torch.Size([128, 8])\n",
      "tm: torch.Size([8])\n",
      "be: torch.Size([8])\n",
      "bf: torch.Size([8])\n",
      "adc: torch.Size([128, 1])\n",
      "sigma: torch.Size([128, 1])\n",
      "axr: torch.Size([128, 1])\n",
      "evox: torch.Size([128, 8])\n",
      "tm: torch.Size([8])\n",
      "be: torch.Size([8])\n",
      "bf: torch.Size([8])\n",
      "adc: torch.Size([128, 1])\n",
      "sigma: torch.Size([128, 1])\n",
      "axr: torch.Size([128, 1])\n",
      "evox: torch.Size([128, 8])\n",
      "tm: torch.Size([8])\n",
      "be: torch.Size([8])\n",
      "bf: torch.Size([8])\n",
      "adc: torch.Size([128, 1])\n",
      "sigma: torch.Size([128, 1])\n",
      "axr: torch.Size([128, 1])\n",
      "evox: torch.Size([128, 8])\n",
      "tm: torch.Size([8])\n",
      "be: torch.Size([8])\n",
      "bf: torch.Size([8])\n",
      "adc: torch.Size([128, 1])\n",
      "sigma: torch.Size([128, 1])\n",
      "axr: torch.Size([128, 1])\n",
      "evox: torch.Size([128, 8])\n",
      "tm: torch.Size([8])\n",
      "be: torch.Size([8])\n",
      "bf: torch.Size([8])\n",
      "adc: torch.Size([128, 1])\n",
      "sigma: torch.Size([128, 1])\n",
      "axr: torch.Size([128, 1])\n",
      "evox: torch.Size([128, 8])\n",
      "tm: torch.Size([8])\n",
      "be: torch.Size([8])\n",
      "bf: torch.Size([8])\n",
      "adc: torch.Size([128, 1])\n",
      "sigma: torch.Size([128, 1])\n",
      "axr: torch.Size([128, 1])\n",
      "evox: torch.Size([128, 8])\n",
      "loss: 0.2316454704850912\n",
      "####################### saving good model #######################\n",
      "-----------------------------------------------------------------\n",
      "epoch: 24; bad epochs: 0\n"
     ]
    },
    {
     "name": "stderr",
     "output_type": "stream",
     "text": [
      "100%|██████████| 7/7 [00:00<00:00, 190.88it/s]\n"
     ]
    },
    {
     "name": "stdout",
     "output_type": "stream",
     "text": [
      "tm: torch.Size([8])\n",
      "be: torch.Size([8])\n",
      "bf: torch.Size([8])\n",
      "adc: torch.Size([128, 1])\n",
      "sigma: torch.Size([128, 1])\n",
      "axr: torch.Size([128, 1])\n",
      "evox: torch.Size([128, 8])\n",
      "tm: torch.Size([8])\n",
      "be: torch.Size([8])\n",
      "bf: torch.Size([8])\n",
      "adc: torch.Size([128, 1])\n",
      "sigma: torch.Size([128, 1])\n",
      "axr: torch.Size([128, 1])\n",
      "evox: torch.Size([128, 8])\n",
      "tm: torch.Size([8])\n",
      "be: torch.Size([8])\n",
      "bf: torch.Size([8])\n",
      "adc: torch.Size([128, 1])\n",
      "sigma: torch.Size([128, 1])\n",
      "axr: torch.Size([128, 1])\n",
      "evox: torch.Size([128, 8])\n",
      "tm: torch.Size([8])\n",
      "be: torch.Size([8])\n",
      "bf: torch.Size([8])\n",
      "adc: torch.Size([128, 1])\n",
      "sigma: torch.Size([128, 1])\n",
      "axr: torch.Size([128, 1])\n",
      "evox: torch.Size([128, 8])\n",
      "tm: torch.Size([8])\n",
      "be: torch.Size([8])\n",
      "bf: torch.Size([8])\n",
      "adc: torch.Size([128, 1])\n",
      "sigma: torch.Size([128, 1])\n",
      "axr: torch.Size([128, 1])\n",
      "evox: torch.Size([128, 8])\n",
      "tm: torch.Size([8])\n",
      "be: torch.Size([8])\n",
      "bf: torch.Size([8])\n",
      "adc: torch.Size([128, 1])\n",
      "sigma: torch.Size([128, 1])\n",
      "axr: torch.Size([128, 1])\n",
      "evox: torch.Size([128, 8])\n",
      "tm: torch.Size([8])\n",
      "be: torch.Size([8])\n",
      "bf: torch.Size([8])\n",
      "adc: torch.Size([128, 1])\n",
      "sigma: torch.Size([128, 1])\n",
      "axr: torch.Size([128, 1])\n",
      "evox: torch.Size([128, 8])\n",
      "loss: 0.23817763105034828\n",
      "-----------------------------------------------------------------\n",
      "epoch: 25; bad epochs: 1\n"
     ]
    },
    {
     "name": "stderr",
     "output_type": "stream",
     "text": [
      "  0%|          | 0/7 [00:00<?, ?it/s]"
     ]
    },
    {
     "name": "stdout",
     "output_type": "stream",
     "text": [
      "tm: torch.Size([8])\n",
      "be: torch.Size([8])\n",
      "bf: torch.Size([8])\n",
      "adc: torch.Size([128, 1])\n",
      "sigma: torch.Size([128, 1])\n",
      "axr: torch.Size([128, 1])\n",
      "evox: torch.Size([128, 8])\n",
      "tm: torch.Size([8])\n",
      "be: torch.Size([8])\n",
      "bf: torch.Size([8])\n",
      "adc: torch.Size([128, 1])\n",
      "sigma: torch.Size([128, 1])\n",
      "axr: torch.Size([128, 1])\n",
      "evox: torch.Size([128, 8])\n",
      "tm: torch.Size([8])\n",
      "be: torch.Size([8])\n",
      "bf: torch.Size([8])\n",
      "adc: torch.Size([128, 1])\n",
      "sigma: torch.Size([128, 1])\n",
      "axr: torch.Size([128, 1])\n",
      "evox: torch.Size([128, 8])\n",
      "tm: torch.Size([8])\n",
      "be: torch.Size([8])\n",
      "bf: torch.Size([8])\n",
      "adc: torch.Size([128, 1])\n",
      "sigma: torch.Size([128, 1])\n",
      "axr: torch.Size([128, 1])\n",
      "evox: torch.Size([128, 8])\n",
      "tm: torch.Size([8])\n",
      "be: torch.Size([8])\n",
      "bf: torch.Size([8])\n",
      "adc: torch.Size([128, 1])\n",
      "sigma: torch.Size([128, 1])\n",
      "axr: torch.Size([128, 1])\n",
      "evox: torch.Size([128, 8])\n",
      "tm: torch.Size([8])\n",
      "be: torch.Size([8])\n",
      "bf: torch.Size([8])\n",
      "adc: torch.Size([128, 1])\n",
      "sigma: torch.Size([128, 1])\n",
      "axr: torch.Size([128, 1])\n",
      "evox: torch.Size([128, 8])\n",
      "tm: torch.Size([8])\n",
      "be: torch.Size([8])\n",
      "bf: torch.Size([8])\n",
      "adc: torch.Size([128, 1])\n",
      "sigma: torch.Size([128, 1])\n",
      "axr: torch.Size([128, 1])\n",
      "evox: torch.Size([128, 8])\n"
     ]
    },
    {
     "name": "stderr",
     "output_type": "stream",
     "text": [
      "100%|██████████| 7/7 [00:00<00:00, 147.77it/s]\n"
     ]
    },
    {
     "name": "stdout",
     "output_type": "stream",
     "text": [
      "loss: 0.2381532322615385\n",
      "-----------------------------------------------------------------\n",
      "epoch: 26; bad epochs: 2\n"
     ]
    },
    {
     "name": "stderr",
     "output_type": "stream",
     "text": [
      "  0%|          | 0/7 [00:00<?, ?it/s]"
     ]
    },
    {
     "name": "stdout",
     "output_type": "stream",
     "text": [
      "tm: torch.Size([8])\n",
      "be: torch.Size([8])\n",
      "bf: torch.Size([8])\n",
      "adc: torch.Size([128, 1])\n",
      "sigma: torch.Size([128, 1])\n",
      "axr: torch.Size([128, 1])\n",
      "evox: torch.Size([128, 8])\n",
      "tm: torch.Size([8])\n",
      "be: torch.Size([8])\n",
      "bf: torch.Size([8])\n",
      "adc: torch.Size([128, 1])\n",
      "sigma: torch.Size([128, 1])\n",
      "axr: torch.Size([128, 1])\n",
      "evox: torch.Size([128, 8])\n",
      "tm: torch.Size([8])\n",
      "be: torch.Size([8])\n",
      "bf: torch.Size([8])\n",
      "adc: torch.Size([128, 1])\n",
      "sigma: torch.Size([128, 1])\n",
      "axr: torch.Size([128, 1])\n",
      "evox: torch.Size([128, 8])\n",
      "tm: torch.Size([8])\n",
      "be: torch.Size([8])\n",
      "bf: torch.Size([8])\n",
      "adc: torch.Size([128, 1])\n",
      "sigma: torch.Size([128, 1])\n",
      "axr: torch.Size([128, 1])\n",
      "evox: torch.Size([128, 8])\n",
      "tm: torch.Size([8])\n",
      "be: torch.Size([8])\n",
      "bf: torch.Size([8])\n",
      "adc: torch.Size([128, 1])\n",
      "sigma: torch.Size([128, 1])\n",
      "axr: torch.Size([128, 1])\n",
      "evox: torch.Size([128, 8])\n",
      "tm: torch.Size([8])\n",
      "be: torch.Size([8])\n",
      "bf: torch.Size([8])\n",
      "adc: torch.Size([128, 1])\n",
      "sigma: torch.Size([128, 1])\n",
      "axr: torch.Size([128, 1])\n",
      "evox: torch.Size([128, 8])\n",
      "tm: torch.Size([8])\n",
      "be: torch.Size([8])\n",
      "bf: torch.Size([8])\n",
      "adc: torch.Size([128, 1])\n",
      "sigma: torch.Size([128, 1])\n",
      "axr: torch.Size([128, 1])\n",
      "evox: torch.Size([128, 8])\n"
     ]
    },
    {
     "name": "stderr",
     "output_type": "stream",
     "text": [
      "100%|██████████| 7/7 [00:00<00:00, 142.80it/s]\n"
     ]
    },
    {
     "name": "stdout",
     "output_type": "stream",
     "text": [
      "loss: 0.2341939676553011\n",
      "-----------------------------------------------------------------\n",
      "epoch: 27; bad epochs: 3\n"
     ]
    },
    {
     "name": "stderr",
     "output_type": "stream",
     "text": [
      "  0%|          | 0/7 [00:00<?, ?it/s]"
     ]
    },
    {
     "name": "stdout",
     "output_type": "stream",
     "text": [
      "tm: torch.Size([8])\n",
      "be: torch.Size([8])\n",
      "bf: torch.Size([8])\n",
      "adc: torch.Size([128, 1])\n",
      "sigma: torch.Size([128, 1])\n",
      "axr: torch.Size([128, 1])\n",
      "evox: torch.Size([128, 8])\n",
      "tm: torch.Size([8])\n",
      "be: torch.Size([8])\n",
      "bf: torch.Size([8])\n",
      "adc: torch.Size([128, 1])\n",
      "sigma: torch.Size([128, 1])\n",
      "axr: torch.Size([128, 1])\n",
      "evox: torch.Size([128, 8])\n",
      "tm: torch.Size([8])\n",
      "be: torch.Size([8])\n",
      "bf: torch.Size([8])\n",
      "adc: torch.Size([128, 1])\n",
      "sigma: torch.Size([128, 1])\n",
      "axr: torch.Size([128, 1])\n",
      "evox: torch.Size([128, 8])\n",
      "tm: torch.Size([8])\n",
      "be: torch.Size([8])\n",
      "bf: torch.Size([8])\n",
      "adc: torch.Size([128, 1])\n",
      "sigma: torch.Size([128, 1])\n",
      "axr: torch.Size([128, 1])\n",
      "evox: torch.Size([128, 8])\n",
      "tm: torch.Size([8])\n",
      "be: torch.Size([8])\n",
      "bf: torch.Size([8])\n",
      "adc: torch.Size([128, 1])\n",
      "sigma: torch.Size([128, 1])\n",
      "axr: torch.Size([128, 1])\n",
      "evox: torch.Size([128, 8])\n",
      "tm: torch.Size([8])\n",
      "be: torch.Size([8])\n",
      "bf: torch.Size([8])\n",
      "adc: torch.Size([128, 1])\n",
      "sigma: torch.Size([128, 1])\n",
      "axr: torch.Size([128, 1])\n",
      "evox: torch.Size([128, 8])\n"
     ]
    },
    {
     "name": "stderr",
     "output_type": "stream",
     "text": [
      "100%|██████████| 7/7 [00:00<00:00, 170.02it/s]\n"
     ]
    },
    {
     "name": "stdout",
     "output_type": "stream",
     "text": [
      "tm: torch.Size([8])\n",
      "be: torch.Size([8])\n",
      "bf: torch.Size([8])\n",
      "adc: torch.Size([128, 1])\n",
      "sigma: torch.Size([128, 1])\n",
      "axr: torch.Size([128, 1])\n",
      "evox: torch.Size([128, 8])\n",
      "loss: 0.23446686007082462\n",
      "-----------------------------------------------------------------\n",
      "epoch: 28; bad epochs: 4\n"
     ]
    },
    {
     "name": "stderr",
     "output_type": "stream",
     "text": [
      "  0%|          | 0/7 [00:00<?, ?it/s]"
     ]
    },
    {
     "name": "stdout",
     "output_type": "stream",
     "text": [
      "tm: torch.Size([8])\n",
      "be: torch.Size([8])\n",
      "bf: torch.Size([8])\n",
      "adc: torch.Size([128, 1])\n",
      "sigma: torch.Size([128, 1])\n",
      "axr: torch.Size([128, 1])\n",
      "evox: torch.Size([128, 8])\n",
      "tm: torch.Size([8])\n",
      "be: torch.Size([8])\n",
      "bf: torch.Size([8])\n",
      "adc: torch.Size([128, 1])\n",
      "sigma: torch.Size([128, 1])\n",
      "axr: torch.Size([128, 1])\n",
      "evox: torch.Size([128, 8])\n",
      "tm: torch.Size([8])\n",
      "be: torch.Size([8])\n",
      "bf: torch.Size([8])\n",
      "adc: torch.Size([128, 1])\n",
      "sigma: torch.Size([128, 1])\n",
      "axr: torch.Size([128, 1])\n",
      "evox: torch.Size([128, 8])\n",
      "tm: torch.Size([8])\n",
      "be: torch.Size([8])\n",
      "bf: torch.Size([8])\n",
      "adc: torch.Size([128, 1])\n",
      "sigma: torch.Size([128, 1])\n",
      "axr: torch.Size([128, 1])\n",
      "evox: torch.Size([128, 8])\n",
      "tm: torch.Size([8])\n",
      "be: torch.Size([8])\n",
      "bf: torch.Size([8])\n",
      "adc: torch.Size([128, 1])\n",
      "sigma: torch.Size([128, 1])\n",
      "axr: torch.Size([128, 1])\n",
      "evox: torch.Size([128, 8])\n",
      "tm: torch.Size([8])\n",
      "be: torch.Size([8])\n",
      "bf: torch.Size([8])\n",
      "adc: torch.Size([128, 1])\n",
      "sigma: torch.Size([128, 1])\n",
      "axr: torch.Size([128, 1])\n",
      "evox: torch.Size([128, 8])\n",
      "tm: torch.Size([8])\n",
      "be: torch.Size([8])\n",
      "bf: torch.Size([8])\n",
      "adc: torch.Size([128, 1])\n",
      "sigma: torch.Size([128, 1])\n",
      "axr: torch.Size([128, 1])\n",
      "evox: torch.Size([128, 8])\n"
     ]
    },
    {
     "name": "stderr",
     "output_type": "stream",
     "text": [
      "100%|██████████| 7/7 [00:00<00:00, 107.55it/s]\n"
     ]
    },
    {
     "name": "stdout",
     "output_type": "stream",
     "text": [
      "loss: 0.23189296200871468\n",
      "-----------------------------------------------------------------\n",
      "epoch: 29; bad epochs: 5\n"
     ]
    },
    {
     "name": "stderr",
     "output_type": "stream",
     "text": [
      "  0%|          | 0/7 [00:00<?, ?it/s]"
     ]
    },
    {
     "name": "stdout",
     "output_type": "stream",
     "text": [
      "tm: torch.Size([8])\n",
      "be: torch.Size([8])\n",
      "bf: torch.Size([8])\n",
      "adc: torch.Size([128, 1])\n",
      "sigma: torch.Size([128, 1])\n",
      "axr: torch.Size([128, 1])\n",
      "evox: torch.Size([128, 8])\n"
     ]
    },
    {
     "name": "stderr",
     "output_type": "stream",
     "text": [
      "100%|██████████| 7/7 [00:00<00:00, 209.10it/s]\n"
     ]
    },
    {
     "name": "stdout",
     "output_type": "stream",
     "text": [
      "tm: torch.Size([8])\n",
      "be: torch.Size([8])\n",
      "bf: torch.Size([8])\n",
      "adc: torch.Size([128, 1])\n",
      "sigma: torch.Size([128, 1])\n",
      "axr: torch.Size([128, 1])\n",
      "evox: torch.Size([128, 8])\n",
      "tm: torch.Size([8])\n",
      "be: torch.Size([8])\n",
      "bf: torch.Size([8])\n",
      "adc: torch.Size([128, 1])\n",
      "sigma: torch.Size([128, 1])\n",
      "axr: torch.Size([128, 1])\n",
      "evox: torch.Size([128, 8])\n",
      "tm: torch.Size([8])\n",
      "be: torch.Size([8])\n",
      "bf: torch.Size([8])\n",
      "adc: torch.Size([128, 1])\n",
      "sigma: torch.Size([128, 1])\n",
      "axr: torch.Size([128, 1])\n",
      "evox: torch.Size([128, 8])\n",
      "tm: torch.Size([8])\n",
      "be: torch.Size([8])\n",
      "bf: torch.Size([8])\n",
      "adc: torch.Size([128, 1])\n",
      "sigma: torch.Size([128, 1])\n",
      "axr: torch.Size([128, 1])\n",
      "evox: torch.Size([128, 8])\n",
      "tm: torch.Size([8])\n",
      "be: torch.Size([8])\n",
      "bf: torch.Size([8])\n",
      "adc: torch.Size([128, 1])\n",
      "sigma: torch.Size([128, 1])\n",
      "axr: torch.Size([128, 1])\n",
      "evox: torch.Size([128, 8])\n",
      "tm: torch.Size([8])\n",
      "be: torch.Size([8])\n",
      "bf: torch.Size([8])\n",
      "adc: torch.Size([128, 1])\n",
      "sigma: torch.Size([128, 1])\n",
      "axr: torch.Size([128, 1])\n",
      "evox: torch.Size([128, 8])\n",
      "loss: 0.23396015167236328\n",
      "-----------------------------------------------------------------\n",
      "epoch: 30; bad epochs: 6\n"
     ]
    },
    {
     "name": "stderr",
     "output_type": "stream",
     "text": [
      "  0%|          | 0/7 [00:00<?, ?it/s]"
     ]
    },
    {
     "name": "stdout",
     "output_type": "stream",
     "text": [
      "tm: torch.Size([8])\n",
      "be: torch.Size([8])\n",
      "bf: torch.Size([8])\n",
      "adc: torch.Size([128, 1])\n",
      "sigma: torch.Size([128, 1])\n",
      "axr: torch.Size([128, 1])\n",
      "evox: torch.Size([128, 8])\n"
     ]
    },
    {
     "name": "stderr",
     "output_type": "stream",
     "text": [
      "100%|██████████| 7/7 [00:00<00:00, 193.55it/s]"
     ]
    },
    {
     "name": "stdout",
     "output_type": "stream",
     "text": [
      "tm: torch.Size([8])\n",
      "be: torch.Size([8])\n",
      "bf: torch.Size([8])\n",
      "adc: torch.Size([128, 1])\n",
      "sigma: torch.Size([128, 1])\n",
      "axr: torch.Size([128, 1])\n",
      "evox: torch.Size([128, 8])\n",
      "tm: torch.Size([8])\n",
      "be: torch.Size([8])\n",
      "bf: torch.Size([8])\n",
      "adc: torch.Size([128, 1])\n",
      "sigma: torch.Size([128, 1])\n",
      "axr: torch.Size([128, 1])\n",
      "evox: torch.Size([128, 8])\n",
      "tm: torch.Size([8])\n",
      "be: torch.Size([8])\n",
      "bf: torch.Size([8])\n",
      "adc: torch.Size([128, 1])\n",
      "sigma: torch.Size([128, 1])\n",
      "axr: torch.Size([128, 1])\n",
      "evox: torch.Size([128, 8])\n",
      "tm: torch.Size([8])\n",
      "be: torch.Size([8])\n",
      "bf: torch.Size([8])\n",
      "adc: torch.Size([128, 1])\n",
      "sigma: torch.Size([128, 1])\n",
      "axr: torch.Size([128, 1])\n",
      "evox: torch.Size([128, 8])\n",
      "tm: torch.Size([8])\n",
      "be: torch.Size([8])\n",
      "bf: torch.Size([8])\n",
      "adc: torch.Size([128, 1])\n",
      "sigma: torch.Size([128, 1])\n",
      "axr: torch.Size([128, 1])\n",
      "evox: torch.Size([128, 8])\n",
      "tm: torch.Size([8])\n",
      "be: torch.Size([8])\n",
      "bf: torch.Size([8])\n",
      "adc: torch.Size([128, 1])\n",
      "sigma: torch.Size([128, 1])\n",
      "axr: torch.Size([128, 1])\n",
      "evox: torch.Size([128, 8])\n",
      "loss: 0.23144616559147835\n",
      "####################### saving good model #######################\n"
     ]
    },
    {
     "name": "stderr",
     "output_type": "stream",
     "text": [
      "\n"
     ]
    },
    {
     "name": "stdout",
     "output_type": "stream",
     "text": [
      "-----------------------------------------------------------------\n",
      "epoch: 31; bad epochs: 0\n"
     ]
    },
    {
     "name": "stderr",
     "output_type": "stream",
     "text": [
      "  0%|          | 0/7 [00:00<?, ?it/s]"
     ]
    },
    {
     "name": "stdout",
     "output_type": "stream",
     "text": [
      "tm: torch.Size([8])\n",
      "be: torch.Size([8])\n",
      "bf: torch.Size([8])\n",
      "adc: torch.Size([128, 1])\n",
      "sigma: torch.Size([128, 1])\n",
      "axr: torch.Size([128, 1])\n",
      "evox: torch.Size([128, 8])\n",
      "tm: torch.Size([8])\n",
      "be: torch.Size([8])\n",
      "bf: torch.Size([8])\n",
      "adc: torch.Size([128, 1])\n",
      "sigma: torch.Size([128, 1])\n",
      "axr: torch.Size([128, 1])\n",
      "evox: torch.Size([128, 8])\n",
      "tm: torch.Size([8])\n",
      "be: torch.Size([8])\n",
      "bf: torch.Size([8])\n",
      "adc: torch.Size([128, 1])\n",
      "sigma: torch.Size([128, 1])\n",
      "axr: torch.Size([128, 1])\n",
      "evox: torch.Size([128, 8])\n",
      "tm: torch.Size([8])\n",
      "be: torch.Size([8])\n",
      "bf: torch.Size([8])\n",
      "adc: torch.Size([128, 1])\n",
      "sigma: torch.Size([128, 1])\n",
      "axr: torch.Size([128, 1])\n",
      "evox: torch.Size([128, 8])\n",
      "tm: torch.Size([8])\n",
      "be: torch.Size([8])\n",
      "bf: torch.Size([8])\n",
      "adc: torch.Size([128, 1])\n",
      "sigma: torch.Size([128, 1])\n",
      "axr: torch.Size([128, 1])\n",
      "evox: torch.Size([128, 8])\n",
      "tm: torch.Size([8])\n",
      "be: torch.Size([8])\n",
      "bf: torch.Size([8])\n",
      "adc: torch.Size([128, 1])\n",
      "sigma: torch.Size([128, 1])\n",
      "axr: torch.Size([128, 1])\n",
      "evox: torch.Size([128, 8])\n"
     ]
    },
    {
     "name": "stderr",
     "output_type": "stream",
     "text": [
      "100%|██████████| 7/7 [00:00<00:00, 161.82it/s]"
     ]
    },
    {
     "name": "stdout",
     "output_type": "stream",
     "text": [
      "tm: torch.Size([8])\n",
      "be: torch.Size([8])\n",
      "bf: torch.Size([8])\n",
      "adc: torch.Size([128, 1])\n",
      "sigma: torch.Size([128, 1])\n",
      "axr: torch.Size([128, 1])\n",
      "evox: torch.Size([128, 8])\n"
     ]
    },
    {
     "name": "stderr",
     "output_type": "stream",
     "text": [
      "\n"
     ]
    },
    {
     "name": "stdout",
     "output_type": "stream",
     "text": [
      "loss: 0.2346727680414915\n",
      "-----------------------------------------------------------------\n",
      "epoch: 32; bad epochs: 1\n"
     ]
    },
    {
     "name": "stderr",
     "output_type": "stream",
     "text": [
      "  0%|          | 0/7 [00:00<?, ?it/s]"
     ]
    },
    {
     "name": "stdout",
     "output_type": "stream",
     "text": [
      "tm: torch.Size([8])\n",
      "be: torch.Size([8])\n",
      "bf: torch.Size([8])\n",
      "adc: torch.Size([128, 1])\n",
      "sigma: torch.Size([128, 1])\n",
      "axr: torch.Size([128, 1])\n",
      "evox: torch.Size([128, 8])\n",
      "tm: torch.Size([8])\n",
      "be: torch.Size([8])\n",
      "bf: torch.Size([8])\n",
      "adc: torch.Size([128, 1])\n",
      "sigma: torch.Size([128, 1])\n",
      "axr: torch.Size([128, 1])\n",
      "evox: torch.Size([128, 8])\n",
      "tm: torch.Size([8])\n",
      "be: torch.Size([8])\n",
      "bf: torch.Size([8])\n",
      "adc: torch.Size([128, 1])\n",
      "sigma: torch.Size([128, 1])\n",
      "axr: torch.Size([128, 1])\n",
      "evox: torch.Size([128, 8])\n",
      "tm: torch.Size([8])\n",
      "be: torch.Size([8])\n",
      "bf: torch.Size([8])\n",
      "adc: torch.Size([128, 1])\n",
      "sigma: torch.Size([128, 1])\n",
      "axr: torch.Size([128, 1])\n",
      "evox: torch.Size([128, 8])\n",
      "tm: torch.Size([8])\n",
      "be: torch.Size([8])\n",
      "bf: torch.Size([8])\n",
      "adc: torch.Size([128, 1])\n",
      "sigma: torch.Size([128, 1])\n",
      "axr: torch.Size([128, 1])\n",
      "evox: torch.Size([128, 8])\n",
      "tm: torch.Size([8])\n",
      "be: torch.Size([8])\n",
      "bf: torch.Size([8])\n",
      "adc: torch.Size([128, 1])\n",
      "sigma: torch.Size([128, 1])\n",
      "axr: torch.Size([128, 1])\n",
      "evox: torch.Size([128, 8])\n"
     ]
    },
    {
     "name": "stderr",
     "output_type": "stream",
     "text": [
      "100%|██████████| 7/7 [00:00<00:00, 156.55it/s]"
     ]
    },
    {
     "name": "stdout",
     "output_type": "stream",
     "text": [
      "tm: torch.Size([8])\n",
      "be: torch.Size([8])\n",
      "bf: torch.Size([8])\n",
      "adc: torch.Size([128, 1])\n",
      "sigma: torch.Size([128, 1])\n",
      "axr: torch.Size([128, 1])\n",
      "evox: torch.Size([128, 8])\n"
     ]
    },
    {
     "name": "stderr",
     "output_type": "stream",
     "text": [
      "\n"
     ]
    },
    {
     "name": "stdout",
     "output_type": "stream",
     "text": [
      "loss: 0.22833631373941898\n",
      "####################### saving good model #######################\n",
      "-----------------------------------------------------------------\n",
      "epoch: 33; bad epochs: 0\n"
     ]
    },
    {
     "name": "stderr",
     "output_type": "stream",
     "text": [
      "100%|██████████| 7/7 [00:00<00:00, 83.74it/s]\n"
     ]
    },
    {
     "name": "stdout",
     "output_type": "stream",
     "text": [
      "tm: torch.Size([8])\n",
      "be: torch.Size([8])\n",
      "bf: torch.Size([8])\n",
      "adc: torch.Size([128, 1])\n",
      "sigma: torch.Size([128, 1])\n",
      "axr: torch.Size([128, 1])\n",
      "evox: torch.Size([128, 8])\n",
      "tm: torch.Size([8])\n",
      "be: torch.Size([8])\n",
      "bf: torch.Size([8])\n",
      "adc: torch.Size([128, 1])\n",
      "sigma: torch.Size([128, 1])\n",
      "axr: torch.Size([128, 1])\n",
      "evox: torch.Size([128, 8])\n",
      "tm: torch.Size([8])\n",
      "be: torch.Size([8])\n",
      "bf: torch.Size([8])\n",
      "adc: torch.Size([128, 1])\n",
      "sigma: torch.Size([128, 1])\n",
      "axr: torch.Size([128, 1])\n",
      "evox: torch.Size([128, 8])\n",
      "tm: torch.Size([8])\n",
      "be: torch.Size([8])\n",
      "bf: torch.Size([8])\n",
      "adc: torch.Size([128, 1])\n",
      "sigma: torch.Size([128, 1])\n",
      "axr: torch.Size([128, 1])\n",
      "evox: torch.Size([128, 8])\n",
      "tm: torch.Size([8])\n",
      "be: torch.Size([8])\n",
      "bf: torch.Size([8])\n",
      "adc: torch.Size([128, 1])\n",
      "sigma: torch.Size([128, 1])\n",
      "axr: torch.Size([128, 1])\n",
      "evox: torch.Size([128, 8])\n",
      "tm: torch.Size([8])\n",
      "be: torch.Size([8])\n",
      "bf: torch.Size([8])\n",
      "adc: torch.Size([128, 1])\n",
      "sigma: torch.Size([128, 1])\n",
      "axr: torch.Size([128, 1])\n",
      "evox: torch.Size([128, 8])\n",
      "tm: torch.Size([8])\n",
      "be: torch.Size([8])\n",
      "bf: torch.Size([8])\n",
      "adc: torch.Size([128, 1])\n",
      "sigma: torch.Size([128, 1])\n",
      "axr: torch.Size([128, 1])\n",
      "evox: torch.Size([128, 8])\n",
      "loss: 0.22960207052528858\n",
      "-----------------------------------------------------------------\n",
      "epoch: 34; bad epochs: 1\n"
     ]
    },
    {
     "name": "stderr",
     "output_type": "stream",
     "text": [
      "100%|██████████| 7/7 [00:00<00:00, 194.59it/s]"
     ]
    },
    {
     "name": "stdout",
     "output_type": "stream",
     "text": [
      "tm: torch.Size([8])\n",
      "be: torch.Size([8])\n",
      "bf: torch.Size([8])\n",
      "adc: torch.Size([128, 1])\n",
      "sigma: torch.Size([128, 1])\n",
      "axr: torch.Size([128, 1])\n",
      "evox: torch.Size([128, 8])\n",
      "tm: torch.Size([8])\n",
      "be: torch.Size([8])\n",
      "bf: torch.Size([8])\n",
      "adc: torch.Size([128, 1])\n",
      "sigma: torch.Size([128, 1])\n",
      "axr: torch.Size([128, 1])\n",
      "evox: torch.Size([128, 8])\n",
      "tm: torch.Size([8])\n",
      "be: torch.Size([8])\n",
      "bf: torch.Size([8])\n",
      "adc: torch.Size([128, 1])\n",
      "sigma: torch.Size([128, 1])\n",
      "axr: torch.Size([128, 1])\n",
      "evox: torch.Size([128, 8])\n",
      "tm: torch.Size([8])\n",
      "be: torch.Size([8])\n",
      "bf: torch.Size([8])\n",
      "adc: torch.Size([128, 1])\n",
      "sigma: torch.Size([128, 1])\n",
      "axr: torch.Size([128, 1])\n",
      "evox: torch.Size([128, 8])\n",
      "tm: torch.Size([8])\n",
      "be: torch.Size([8])\n",
      "bf: torch.Size([8])\n",
      "adc: torch.Size([128, 1])\n",
      "sigma: torch.Size([128, 1])\n",
      "axr: torch.Size([128, 1])\n",
      "evox: torch.Size([128, 8])\n",
      "tm: torch.Size([8])\n",
      "be: torch.Size([8])\n",
      "bf: torch.Size([8])\n",
      "adc: torch.Size([128, 1])\n",
      "sigma: torch.Size([128, 1])\n",
      "axr: torch.Size([128, 1])\n",
      "evox: torch.Size([128, 8])\n",
      "tm: torch.Size([8])\n",
      "be: torch.Size([8])\n",
      "bf: torch.Size([8])\n",
      "adc: torch.Size([128, 1])\n",
      "sigma: torch.Size([128, 1])\n",
      "axr: torch.Size([128, 1])\n",
      "evox: torch.Size([128, 8])\n",
      "loss: 0.23183336853981018\n",
      "-----------------------------------------------------------------\n",
      "epoch: 35; bad epochs: 2\n"
     ]
    },
    {
     "name": "stderr",
     "output_type": "stream",
     "text": [
      "\n",
      "  0%|          | 0/7 [00:00<?, ?it/s]"
     ]
    },
    {
     "name": "stdout",
     "output_type": "stream",
     "text": [
      "tm: torch.Size([8])\n",
      "be: torch.Size([8])\n",
      "bf: torch.Size([8])\n",
      "adc: torch.Size([128, 1])\n",
      "sigma: torch.Size([128, 1])\n",
      "axr: torch.Size([128, 1])\n",
      "evox: torch.Size([128, 8])\n",
      "tm: torch.Size([8])\n",
      "be: torch.Size([8])\n",
      "bf: torch.Size([8])\n",
      "adc: torch.Size([128, 1])\n",
      "sigma: torch.Size([128, 1])\n",
      "axr: torch.Size([128, 1])\n",
      "evox: torch.Size([128, 8])\n",
      "tm: torch.Size([8])\n",
      "be: torch.Size([8])\n",
      "bf: torch.Size([8])\n",
      "adc: torch.Size([128, 1])\n",
      "sigma: torch.Size([128, 1])\n",
      "axr: torch.Size([128, 1])\n",
      "evox: torch.Size([128, 8])\n",
      "tm: torch.Size([8])\n",
      "be: torch.Size([8])\n",
      "bf: torch.Size([8])\n",
      "adc: torch.Size([128, 1])\n",
      "sigma: torch.Size([128, 1])\n",
      "axr: torch.Size([128, 1])\n",
      "evox: torch.Size([128, 8])\n",
      "tm: torch.Size([8])\n",
      "be: torch.Size([8])\n",
      "bf: torch.Size([8])\n",
      "adc: torch.Size([128, 1])\n",
      "sigma: torch.Size([128, 1])\n",
      "axr: torch.Size([128, 1])\n",
      "evox: torch.Size([128, 8])\n"
     ]
    },
    {
     "name": "stderr",
     "output_type": "stream",
     "text": [
      "100%|██████████| 7/7 [00:00<00:00, 185.91it/s]\n"
     ]
    },
    {
     "name": "stdout",
     "output_type": "stream",
     "text": [
      "tm: torch.Size([8])\n",
      "be: torch.Size([8])\n",
      "bf: torch.Size([8])\n",
      "adc: torch.Size([128, 1])\n",
      "sigma: torch.Size([128, 1])\n",
      "axr: torch.Size([128, 1])\n",
      "evox: torch.Size([128, 8])\n",
      "tm: torch.Size([8])\n",
      "be: torch.Size([8])\n",
      "bf: torch.Size([8])\n",
      "adc: torch.Size([128, 1])\n",
      "sigma: torch.Size([128, 1])\n",
      "axr: torch.Size([128, 1])\n",
      "evox: torch.Size([128, 8])\n",
      "loss: 0.2240945640951395\n",
      "####################### saving good model #######################\n",
      "-----------------------------------------------------------------\n",
      "epoch: 36; bad epochs: 0\n"
     ]
    },
    {
     "name": "stderr",
     "output_type": "stream",
     "text": [
      "  0%|          | 0/7 [00:00<?, ?it/s]"
     ]
    },
    {
     "name": "stdout",
     "output_type": "stream",
     "text": [
      "tm:"
     ]
    },
    {
     "name": "stderr",
     "output_type": "stream",
     "text": [
      "100%|██████████| 7/7 [00:00<00:00, 75.29it/s]\n"
     ]
    },
    {
     "name": "stdout",
     "output_type": "stream",
     "text": [
      " torch.Size([8])\n",
      "be: torch.Size([8])\n",
      "bf: torch.Size([8])\n",
      "adc: torch.Size([128, 1])\n",
      "sigma: torch.Size([128, 1])\n",
      "axr: torch.Size([128, 1])\n",
      "evox: torch.Size([128, 8])\n",
      "tm: torch.Size([8])\n",
      "be: torch.Size([8])\n",
      "bf: torch.Size([8])\n",
      "adc: torch.Size([128, 1])\n",
      "sigma: torch.Size([128, 1])\n",
      "axr: torch.Size([128, 1])\n",
      "evox: torch.Size([128, 8])\n",
      "tm: torch.Size([8])\n",
      "be: torch.Size([8])\n",
      "bf: torch.Size([8])\n",
      "adc: torch.Size([128, 1])\n",
      "sigma: torch.Size([128, 1])\n",
      "axr: torch.Size([128, 1])\n",
      "evox: torch.Size([128, 8])\n",
      "tm: torch.Size([8])\n",
      "be: torch.Size([8])\n",
      "bf: torch.Size([8])\n",
      "adc: torch.Size([128, 1])\n",
      "sigma: torch.Size([128, 1])\n",
      "axr: torch.Size([128, 1])\n",
      "evox: torch.Size([128, 8])\n",
      "tm: torch.Size([8])\n",
      "be: torch.Size([8])\n",
      "bf: torch.Size([8])\n",
      "adc: torch.Size([128, 1])\n",
      "sigma: torch.Size([128, 1])\n",
      "axr: torch.Size([128, 1])\n",
      "evox: torch.Size([128, 8])\n",
      "tm: torch.Size([8])\n",
      "be: torch.Size([8])\n",
      "bf: torch.Size([8])\n",
      "adc: torch.Size([128, 1])\n",
      "sigma: torch.Size([128, 1])\n",
      "axr: torch.Size([128, 1])\n",
      "evox: torch.Size([128, 8])\n",
      "tm: torch.Size([8])\n",
      "be: torch.Size([8])\n",
      "bf: torch.Size([8])\n",
      "adc: torch.Size([128, 1])\n",
      "sigma: torch.Size([128, 1])\n",
      "axr: torch.Size([128, 1])\n",
      "evox: torch.Size([128, 8])\n",
      "loss: 0.22868618927896023\n",
      "-----------------------------------------------------------------\n",
      "epoch: 37; bad epochs: 1\n"
     ]
    },
    {
     "name": "stderr",
     "output_type": "stream",
     "text": [
      "100%|██████████| 7/7 [00:00<00:00, 216.11it/s]\n"
     ]
    },
    {
     "name": "stdout",
     "output_type": "stream",
     "text": [
      "tm: torch.Size([8])\n",
      "be: torch.Size([8])\n",
      "bf: torch.Size([8])\n",
      "adc: torch.Size([128, 1])\n",
      "sigma: torch.Size([128, 1])\n",
      "axr: torch.Size([128, 1])\n",
      "evox: torch.Size([128, 8])\n",
      "tm: torch.Size([8])\n",
      "be: torch.Size([8])\n",
      "bf: torch.Size([8])\n",
      "adc: torch.Size([128, 1])\n",
      "sigma: torch.Size([128, 1])\n",
      "axr: torch.Size([128, 1])\n",
      "evox: torch.Size([128, 8])\n",
      "tm: torch.Size([8])\n",
      "be: torch.Size([8])\n",
      "bf: torch.Size([8])\n",
      "adc: torch.Size([128, 1])\n",
      "sigma: torch.Size([128, 1])\n",
      "axr: torch.Size([128, 1])\n",
      "evox: torch.Size([128, 8])\n",
      "tm: torch.Size([8])\n",
      "be: torch.Size([8])\n",
      "bf: torch.Size([8])\n",
      "adc: torch.Size([128, 1])\n",
      "sigma: torch.Size([128, 1])\n",
      "axr: torch.Size([128, 1])\n",
      "evox: torch.Size([128, 8])\n",
      "tm: torch.Size([8])\n",
      "be: torch.Size([8])\n",
      "bf: torch.Size([8])\n",
      "adc: torch.Size([128, 1])\n",
      "sigma: torch.Size([128, 1])\n",
      "axr: torch.Size([128, 1])\n",
      "evox: torch.Size([128, 8])\n",
      "tm: torch.Size([8])\n",
      "be: torch.Size([8])\n",
      "bf: torch.Size([8])\n",
      "adc: torch.Size([128, 1])\n",
      "sigma: torch.Size([128, 1])\n",
      "axr: torch.Size([128, 1])\n",
      "evox: torch.Size([128, 8])\n",
      "tm: torch.Size([8])\n",
      "be: torch.Size([8])\n",
      "bf: torch.Size([8])\n",
      "adc: torch.Size([128, 1])\n",
      "sigma: torch.Size([128, 1])\n",
      "axr: torch.Size([128, 1])\n",
      "evox: torch.Size([128, 8])\n",
      "loss: 0.22324620559811592\n",
      "####################### saving good model #######################\n",
      "-----------------------------------------------------------------\n",
      "epoch: 38; bad epochs: 0\n"
     ]
    },
    {
     "name": "stderr",
     "output_type": "stream",
     "text": [
      "  0%|          | 0/7 [00:00<?, ?it/s]"
     ]
    },
    {
     "name": "stdout",
     "output_type": "stream",
     "text": [
      "tm: torch.Size([8])\n",
      "be: torch.Size([8])\n",
      "bf: torch.Size([8])\n",
      "adc: torch.Size([128, 1])\n",
      "sigma: torch.Size([128, 1])\n",
      "axr: torch.Size([128, 1])\n",
      "evox: torch.Size([128, 8])\n",
      "tm: torch.Size([8])\n",
      "be: torch.Size([8])\n",
      "bf: torch.Size([8])\n",
      "adc: torch.Size([128, 1])\n",
      "sigma: torch.Size([128, 1])\n",
      "axr: torch.Size([128, 1])\n",
      "evox: torch.Size([128, 8])\n",
      "tm: torch.Size([8])\n",
      "be: torch.Size([8])\n",
      "bf: torch.Size([8])\n",
      "adc: torch.Size([128, 1])\n",
      "sigma: torch.Size([128, 1])\n",
      "axr: torch.Size([128, 1])\n",
      "evox: torch.Size([128, 8])\n",
      "tm: torch.Size([8])\n",
      "be: torch.Size([8])\n",
      "bf: torch.Size([8])\n",
      "adc: torch.Size([128, 1])\n",
      "sigma: torch.Size([128, 1])\n",
      "axr: torch.Size([128, 1])\n",
      "evox: torch.Size([128, 8])\n"
     ]
    },
    {
     "name": "stderr",
     "output_type": "stream",
     "text": [
      "100%|██████████| 7/7 [00:00<00:00, 204.73it/s]"
     ]
    },
    {
     "name": "stdout",
     "output_type": "stream",
     "text": [
      "tm: torch.Size([8])\n",
      "be: torch.Size([8])\n",
      "bf: torch.Size([8])\n",
      "adc: torch.Size([128, 1])\n",
      "sigma: torch.Size([128, 1])\n",
      "axr: torch.Size([128, 1])\n",
      "evox: torch.Size([128, 8])\n",
      "tm: torch.Size([8])\n",
      "be: torch.Size([8])\n",
      "bf: torch.Size([8])\n",
      "adc: torch.Size([128, 1])\n",
      "sigma: torch.Size([128, 1])\n",
      "axr: torch.Size([128, 1])\n",
      "evox: torch.Size([128, 8])\n",
      "tm: torch.Size([8])\n",
      "be: torch.Size([8])\n",
      "bf: torch.Size([8])\n",
      "adc: torch.Size([128, 1])\n",
      "sigma: torch.Size([128, 1])\n",
      "axr: torch.Size([128, 1])\n",
      "evox: torch.Size([128, 8])\n",
      "loss: 0.22935092262923717\n",
      "-----------------------------------------------------------------\n",
      "epoch: 39; bad epochs: 1\n"
     ]
    },
    {
     "name": "stderr",
     "output_type": "stream",
     "text": [
      "\n",
      "  0%|          | 0/7 [00:00<?, ?it/s]"
     ]
    },
    {
     "name": "stdout",
     "output_type": "stream",
     "text": [
      "tm: torch.Size([8])\n",
      "be: torch.Size([8])\n",
      "bf: torch.Size([8])\n",
      "adc: torch.Size([128, 1])\n",
      "sigma: torch.Size([128, 1])\n",
      "axr: torch.Size([128, 1])\n",
      "evox: torch.Size([128, 8])\n"
     ]
    },
    {
     "name": "stderr",
     "output_type": "stream",
     "text": [
      "100%|██████████| 7/7 [00:00<00:00, 164.97it/s]\n"
     ]
    },
    {
     "name": "stdout",
     "output_type": "stream",
     "text": [
      "tm: torch.Size([8])\n",
      "be: torch.Size([8])\n",
      "bf: torch.Size([8])\n",
      "adc: torch.Size([128, 1])\n",
      "sigma: torch.Size([128, 1])\n",
      "axr: torch.Size([128, 1])\n",
      "evox: torch.Size([128, 8])\n",
      "tm: torch.Size([8])\n",
      "be: torch.Size([8])\n",
      "bf: torch.Size([8])\n",
      "adc: torch.Size([128, 1])\n",
      "sigma: torch.Size([128, 1])\n",
      "axr: torch.Size([128, 1])\n",
      "evox: torch.Size([128, 8])\n",
      "tm: torch.Size([8])\n",
      "be: torch.Size([8])\n",
      "bf: torch.Size([8])\n",
      "adc: torch.Size([128, 1])\n",
      "sigma: torch.Size([128, 1])\n",
      "axr: torch.Size([128, 1])\n",
      "evox: torch.Size([128, 8])\n",
      "tm: torch.Size([8])\n",
      "be: torch.Size([8])\n",
      "bf: torch.Size([8])\n",
      "adc: torch.Size([128, 1])\n",
      "sigma: torch.Size([128, 1])\n",
      "axr: torch.Size([128, 1])\n",
      "evox: torch.Size([128, 8])\n",
      "tm: torch.Size([8])\n",
      "be: torch.Size([8])\n",
      "bf: torch.Size([8])\n",
      "adc: torch.Size([128, 1])\n",
      "sigma: torch.Size([128, 1])\n",
      "axr: torch.Size([128, 1])\n",
      "evox: torch.Size([128, 8])\n",
      "tm: torch.Size([8])\n",
      "be: torch.Size([8])\n",
      "bf: torch.Size([8])\n",
      "adc: torch.Size([128, 1])\n",
      "sigma: torch.Size([128, 1])\n",
      "axr: torch.Size([128, 1])\n",
      "evox: torch.Size([128, 8])\n",
      "loss: 0.22776823304593563\n",
      "-----------------------------------------------------------------\n",
      "epoch: 40; bad epochs: 2\n"
     ]
    },
    {
     "name": "stderr",
     "output_type": "stream",
     "text": [
      "  0%|          | 0/7 [00:00<?, ?it/s]"
     ]
    },
    {
     "name": "stdout",
     "output_type": "stream",
     "text": [
      "tm: torch.Size([8])\n",
      "be: torch.Size([8])\n",
      "bf: torch.Size([8])\n",
      "adc: torch.Size([128, 1])\n",
      "sigma: torch.Size([128, 1])\n",
      "axr: torch.Size([128, 1])\n",
      "evox: torch.Size([128, 8])\n",
      "tm: torch.Size([8])\n",
      "be: torch.Size([8])\n",
      "bf: torch.Size([8])\n",
      "adc: torch.Size([128, 1])\n",
      "sigma: torch.Size([128, 1])\n",
      "axr: torch.Size([128, 1])\n",
      "evox: torch.Size([128, 8])\n",
      "tm: torch.Size([8])\n",
      "be: torch.Size([8])\n",
      "bf: torch.Size([8])\n",
      "adc: torch.Size([128, 1])\n",
      "sigma: torch.Size([128, 1])\n",
      "axr: torch.Size([128, 1])\n",
      "evox: torch.Size([128, 8])\n",
      "tm: torch.Size([8])\n",
      "be: torch.Size([8])\n",
      "bf: torch.Size([8])\n",
      "adc: torch.Size([128, 1])\n",
      "sigma: torch.Size([128, 1])\n",
      "axr: torch.Size([128, 1])\n",
      "evox: torch.Size([128, 8])\n",
      "tm: torch.Size([8])\n",
      "be: torch.Size([8])\n",
      "bf: torch.Size([8])\n",
      "adc: torch.Size([128, 1])\n",
      "sigma: torch.Size([128, 1])\n",
      "axr: torch.Size([128, 1])\n",
      "evox: torch.Size([128, 8])\n",
      "tm: torch.Size([8])\n",
      "be: torch.Size([8])\n",
      "bf: torch.Size([8])\n",
      "adc: torch.Size([128, 1])\n",
      "sigma: torch.Size([128, 1])\n",
      "axr: torch.Size([128, 1])\n",
      "evox: torch.Size([128, 8])\n"
     ]
    },
    {
     "name": "stderr",
     "output_type": "stream",
     "text": [
      "100%|██████████| 7/7 [00:00<00:00, 111.38it/s]\n"
     ]
    },
    {
     "name": "stdout",
     "output_type": "stream",
     "text": [
      "tm: torch.Size([8])\n",
      "be: torch.Size([8])\n",
      "bf: torch.Size([8])\n",
      "adc: torch.Size([128, 1])\n",
      "sigma: torch.Size([128, 1])\n",
      "axr: torch.Size([128, 1])\n",
      "evox: torch.Size([128, 8])\n",
      "loss: 0.22875269502401352\n",
      "-----------------------------------------------------------------\n",
      "epoch: 41; bad epochs: 3\n"
     ]
    },
    {
     "name": "stderr",
     "output_type": "stream",
     "text": [
      "  0%|          | 0/7 [00:00<?, ?it/s]"
     ]
    },
    {
     "name": "stdout",
     "output_type": "stream",
     "text": [
      "tm:"
     ]
    },
    {
     "name": "stderr",
     "output_type": "stream",
     "text": [
      "100%|██████████| 7/7 [00:00<00:00, 143.23it/s]\n"
     ]
    },
    {
     "name": "stdout",
     "output_type": "stream",
     "text": [
      " torch.Size([8])\n",
      "be: torch.Size([8])\n",
      "bf: torch.Size([8])\n",
      "adc: torch.Size([128, 1])\n",
      "sigma: torch.Size([128, 1])\n",
      "axr: torch.Size([128, 1])\n",
      "evox: torch.Size([128, 8])\n",
      "tm: torch.Size([8])\n",
      "be: torch.Size([8])\n",
      "bf: torch.Size([8])\n",
      "adc: torch.Size([128, 1])\n",
      "sigma: torch.Size([128, 1])\n",
      "axr: torch.Size([128, 1])\n",
      "evox: torch.Size([128, 8])\n",
      "tm: torch.Size([8])\n",
      "be: torch.Size([8])\n",
      "bf: torch.Size([8])\n",
      "adc: torch.Size([128, 1])\n",
      "sigma: torch.Size([128, 1])\n",
      "axr: torch.Size([128, 1])\n",
      "evox: torch.Size([128, 8])\n",
      "tm: torch.Size([8])\n",
      "be: torch.Size([8])\n",
      "bf: torch.Size([8])\n",
      "adc: torch.Size([128, 1])\n",
      "sigma: torch.Size([128, 1])\n",
      "axr: torch.Size([128, 1])\n",
      "evox: torch.Size([128, 8])\n",
      "tm: torch.Size([8])\n",
      "be: torch.Size([8])\n",
      "bf: torch.Size([8])\n",
      "adc: torch.Size([128, 1])\n",
      "sigma: torch.Size([128, 1])\n",
      "axr: torch.Size([128, 1])\n",
      "evox: torch.Size([128, 8])\n",
      "tm: torch.Size([8])\n",
      "be: torch.Size([8])\n",
      "bf: torch.Size([8])\n",
      "adc: torch.Size([128, 1])\n",
      "sigma: torch.Size([128, 1])\n",
      "axr: torch.Size([128, 1])\n",
      "evox: torch.Size([128, 8])\n",
      "tm: torch.Size([8])\n",
      "be: torch.Size([8])\n",
      "bf: torch.Size([8])\n",
      "adc: torch.Size([128, 1])\n",
      "sigma: torch.Size([128, 1])\n",
      "axr: torch.Size([128, 1])\n",
      "evox: torch.Size([128, 8])\n",
      "loss: 0.2281400691717863\n",
      "-----------------------------------------------------------------\n",
      "epoch: 42; bad epochs: 4\n"
     ]
    },
    {
     "name": "stderr",
     "output_type": "stream",
     "text": [
      "100%|██████████| 7/7 [00:00<00:00, 177.91it/s]\n"
     ]
    },
    {
     "name": "stdout",
     "output_type": "stream",
     "text": [
      "tm: torch.Size([8])\n",
      "be: torch.Size([8])\n",
      "bf: torch.Size([8])\n",
      "adc: torch.Size([128, 1])\n",
      "sigma: torch.Size([128, 1])\n",
      "axr: torch.Size([128, 1])\n",
      "evox: torch.Size([128, 8])\n",
      "tm: torch.Size([8])\n",
      "be: torch.Size([8])\n",
      "bf: torch.Size([8])\n",
      "adc: torch.Size([128, 1])\n",
      "sigma: torch.Size([128, 1])\n",
      "axr: torch.Size([128, 1])\n",
      "evox: torch.Size([128, 8])\n",
      "tm: torch.Size([8])\n",
      "be: torch.Size([8])\n",
      "bf: torch.Size([8])\n",
      "adc: torch.Size([128, 1])\n",
      "sigma: torch.Size([128, 1])\n",
      "axr: torch.Size([128, 1])\n",
      "evox: torch.Size([128, 8])\n",
      "tm: torch.Size([8])\n",
      "be: torch.Size([8])\n",
      "bf: torch.Size([8])\n",
      "adc: torch.Size([128, 1])\n",
      "sigma: torch.Size([128, 1])\n",
      "axr: torch.Size([128, 1])\n",
      "evox: torch.Size([128, 8])\n",
      "tm: torch.Size([8])\n",
      "be: torch.Size([8])\n",
      "bf: torch.Size([8])\n",
      "adc: torch.Size([128, 1])\n",
      "sigma: torch.Size([128, 1])\n",
      "axr: torch.Size([128, 1])\n",
      "evox: torch.Size([128, 8])\n",
      "tm: torch.Size([8])\n",
      "be: torch.Size([8])\n",
      "bf: torch.Size([8])\n",
      "adc: torch.Size([128, 1])\n",
      "sigma: torch.Size([128, 1])\n",
      "axr: torch.Size([128, 1])\n",
      "evox: torch.Size([128, 8])\n",
      "tm: torch.Size([8])\n",
      "be: torch.Size([8])\n",
      "bf: torch.Size([8])\n",
      "adc: torch.Size([128, 1])\n",
      "sigma: torch.Size([128, 1])\n",
      "axr: torch.Size([128, 1])\n",
      "evox: torch.Size([128, 8])\n",
      "loss: 0.22751839831471443\n",
      "-----------------------------------------------------------------\n",
      "epoch: 43; bad epochs: 5\n"
     ]
    },
    {
     "name": "stderr",
     "output_type": "stream",
     "text": [
      "100%|██████████| 7/7 [00:00<00:00, 284.21it/s]\n"
     ]
    },
    {
     "name": "stdout",
     "output_type": "stream",
     "text": [
      "tm: torch.Size([8])\n",
      "be: torch.Size([8])\n",
      "bf: torch.Size([8])\n",
      "adc: torch.Size([128, 1])\n",
      "sigma: torch.Size([128, 1])\n",
      "axr: torch.Size([128, 1])\n",
      "evox: torch.Size([128, 8])\n",
      "tm: torch.Size([8])\n",
      "be: torch.Size([8])\n",
      "bf: torch.Size([8])\n",
      "adc: torch.Size([128, 1])\n",
      "sigma: torch.Size([128, 1])\n",
      "axr: torch.Size([128, 1])\n",
      "evox: torch.Size([128, 8])\n",
      "tm: torch.Size([8])\n",
      "be: torch.Size([8])\n",
      "bf: torch.Size([8])\n",
      "adc: torch.Size([128, 1])\n",
      "sigma: torch.Size([128, 1])\n",
      "axr: torch.Size([128, 1])\n",
      "evox: torch.Size([128, 8])\n",
      "tm: torch.Size([8])\n",
      "be: torch.Size([8])\n",
      "bf: torch.Size([8])\n",
      "adc: torch.Size([128, 1])\n",
      "sigma: torch.Size([128, 1])\n",
      "axr: torch.Size([128, 1])\n",
      "evox: torch.Size([128, 8])\n",
      "tm: torch.Size([8])\n",
      "be: torch.Size([8])\n",
      "bf: torch.Size([8])\n",
      "adc: torch.Size([128, 1])\n",
      "sigma: torch.Size([128, 1])\n",
      "axr: torch.Size([128, 1])\n",
      "evox: torch.Size([128, 8])\n",
      "tm: torch.Size([8])\n",
      "be: torch.Size([8])\n",
      "bf: torch.Size([8])\n",
      "adc: torch.Size([128, 1])\n",
      "sigma: torch.Size([128, 1])\n",
      "axr: torch.Size([128, 1])\n",
      "evox: torch.Size([128, 8])\n",
      "tm: torch.Size([8])\n",
      "be: torch.Size([8])\n",
      "bf: torch.Size([8])\n",
      "adc: torch.Size([128, 1])\n",
      "sigma: torch.Size([128, 1])\n",
      "axr: torch.Size([128, 1])\n",
      "evox: torch.Size([128, 8])\n",
      "loss: 0.22341825440526009\n",
      "-----------------------------------------------------------------\n",
      "epoch: 44; bad epochs: 6\n"
     ]
    },
    {
     "name": "stderr",
     "output_type": "stream",
     "text": [
      "  0%|          | 0/7 [00:00<?, ?it/s]"
     ]
    },
    {
     "name": "stdout",
     "output_type": "stream",
     "text": [
      "tm: torch.Size([8])\n",
      "be: torch.Size([8])\n",
      "bf: torch.Size([8])\n",
      "adc: torch.Size([128, 1])\n",
      "sigma: torch.Size([128, 1])\n",
      "axr: torch.Size([128, 1])\n",
      "evox: torch.Size([128, 8])\n",
      "tm: torch.Size([8])\n",
      "be: torch.Size([8])\n",
      "bf: torch.Size([8])\n",
      "adc: torch.Size([128, 1])\n",
      "sigma: torch.Size([128, 1])\n",
      "axr: torch.Size([128, 1])\n",
      "evox: torch.Size([128, 8])\n",
      "tm: torch.Size([8])\n",
      "be: torch.Size([8])\n",
      "bf: torch.Size([8])\n",
      "adc: torch.Size([128, 1])\n",
      "sigma: torch.Size([128, 1])\n",
      "axr: torch.Size([128, 1])\n",
      "evox: torch.Size([128, 8])\n",
      "tm: torch.Size([8])\n",
      "be: torch.Size([8])\n",
      "bf: torch.Size([8])\n",
      "adc: torch.Size([128, 1])\n",
      "sigma: torch.Size([128, 1])\n",
      "axr: torch.Size([128, 1])\n",
      "evox: torch.Size([128, 8])\n",
      "tm: torch.Size([8])\n",
      "be: torch.Size([8])\n",
      "bf: torch.Size([8])\n",
      "adc: torch.Size([128, 1])\n",
      "sigma: torch.Size([128, 1])\n",
      "axr: torch.Size([128, 1])\n",
      "evox: torch.Size([128, 8])\n"
     ]
    },
    {
     "name": "stderr",
     "output_type": "stream",
     "text": [
      "100%|██████████| 7/7 [00:00<00:00, 116.65it/s]\n"
     ]
    },
    {
     "name": "stdout",
     "output_type": "stream",
     "text": [
      "tm: torch.Size([8])\n",
      "be: torch.Size([8])\n",
      "bf: torch.Size([8])\n",
      "adc: torch.Size([128, 1])\n",
      "sigma: torch.Size([128, 1])\n",
      "axr: torch.Size([128, 1])\n",
      "evox: torch.Size([128, 8])\n",
      "tm: torch.Size([8])\n",
      "be: torch.Size([8])\n",
      "bf: torch.Size([8])\n",
      "adc: torch.Size([128, 1])\n",
      "sigma: torch.Size([128, 1])\n",
      "axr: torch.Size([128, 1])\n",
      "evox: torch.Size([128, 8])\n",
      "loss: 0.2251326646655798\n",
      "-----------------------------------------------------------------\n",
      "epoch: 45; bad epochs: 7\n"
     ]
    },
    {
     "name": "stderr",
     "output_type": "stream",
     "text": [
      "100%|██████████| 7/7 [00:00<00:00, 208.46it/s]\n"
     ]
    },
    {
     "name": "stdout",
     "output_type": "stream",
     "text": [
      "tm: torch.Size([8])\n",
      "be: torch.Size([8])\n",
      "bf: torch.Size([8])\n",
      "adc: torch.Size([128, 1])\n",
      "sigma: torch.Size([128, 1])\n",
      "axr: torch.Size([128, 1])\n",
      "evox: torch.Size([128, 8])\n",
      "tm: torch.Size([8])\n",
      "be: torch.Size([8])\n",
      "bf: torch.Size([8])\n",
      "adc: torch.Size([128, 1])\n",
      "sigma: torch.Size([128, 1])\n",
      "axr: torch.Size([128, 1])\n",
      "evox: torch.Size([128, 8])\n",
      "tm: torch.Size([8])\n",
      "be: torch.Size([8])\n",
      "bf: torch.Size([8])\n",
      "adc: torch.Size([128, 1])\n",
      "sigma: torch.Size([128, 1])\n",
      "axr: torch.Size([128, 1])\n",
      "evox: torch.Size([128, 8])\n",
      "tm: torch.Size([8])\n",
      "be: torch.Size([8])\n",
      "bf: torch.Size([8])\n",
      "adc: torch.Size([128, 1])\n",
      "sigma: torch.Size([128, 1])\n",
      "axr: torch.Size([128, 1])\n",
      "evox: torch.Size([128, 8])\n",
      "tm: torch.Size([8])\n",
      "be: torch.Size([8])\n",
      "bf: torch.Size([8])\n",
      "adc: torch.Size([128, 1])\n",
      "sigma: torch.Size([128, 1])\n",
      "axr: torch.Size([128, 1])\n",
      "evox: torch.Size([128, 8])\n",
      "tm: torch.Size([8])\n",
      "be: torch.Size([8])\n",
      "bf: torch.Size([8])\n",
      "adc: torch.Size([128, 1])\n",
      "sigma: torch.Size([128, 1])\n",
      "axr: torch.Size([128, 1])\n",
      "evox: torch.Size([128, 8])\n",
      "tm: torch.Size([8])\n",
      "be: torch.Size([8])\n",
      "bf: torch.Size([8])\n",
      "adc: torch.Size([128, 1])\n",
      "sigma: torch.Size([128, 1])\n",
      "axr: torch.Size([128, 1])\n",
      "evox: torch.Size([128, 8])\n",
      "loss: 0.2195268850773573\n",
      "####################### saving good model #######################\n",
      "-----------------------------------------------------------------\n",
      "epoch: 46; bad epochs: 0\n"
     ]
    },
    {
     "name": "stderr",
     "output_type": "stream",
     "text": [
      "100%|██████████| 7/7 [00:00<00:00, 316.00it/s]\n"
     ]
    },
    {
     "name": "stdout",
     "output_type": "stream",
     "text": [
      "tm: torch.Size([8])\n",
      "be: torch.Size([8])\n",
      "bf: torch.Size([8])\n",
      "adc: torch.Size([128, 1])\n",
      "sigma: torch.Size([128, 1])\n",
      "axr: torch.Size([128, 1])\n",
      "evox: torch.Size([128, 8])\n",
      "tm: torch.Size([8])\n",
      "be: torch.Size([8])\n",
      "bf: torch.Size([8])\n",
      "adc: torch.Size([128, 1])\n",
      "sigma: torch.Size([128, 1])\n",
      "axr: torch.Size([128, 1])\n",
      "evox: torch.Size([128, 8])\n",
      "tm: torch.Size([8])\n",
      "be: torch.Size([8])\n",
      "bf: torch.Size([8])\n",
      "adc: torch.Size([128, 1])\n",
      "sigma: torch.Size([128, 1])\n",
      "axr: torch.Size([128, 1])\n",
      "evox: torch.Size([128, 8])\n",
      "tm: torch.Size([8])\n",
      "be: torch.Size([8])\n",
      "bf: torch.Size([8])\n",
      "adc: torch.Size([128, 1])\n",
      "sigma: torch.Size([128, 1])\n",
      "axr: torch.Size([128, 1])\n",
      "evox: torch.Size([128, 8])\n",
      "tm: torch.Size([8])\n",
      "be: torch.Size([8])\n",
      "bf: torch.Size([8])\n",
      "adc: torch.Size([128, 1])\n",
      "sigma: torch.Size([128, 1])\n",
      "axr: torch.Size([128, 1])\n",
      "evox: torch.Size([128, 8])\n",
      "tm: torch.Size([8])\n",
      "be: torch.Size([8])\n",
      "bf: torch.Size([8])\n",
      "adc: torch.Size([128, 1])\n",
      "sigma: torch.Size([128, 1])\n",
      "axr: torch.Size([128, 1])\n",
      "evox: torch.Size([128, 8])\n",
      "tm: torch.Size([8])\n",
      "be: torch.Size([8])\n",
      "bf: torch.Size([8])\n",
      "adc: torch.Size([128, 1])\n",
      "sigma: torch.Size([128, 1])\n",
      "axr: torch.Size([128, 1])\n",
      "evox: torch.Size([128, 8])\n",
      "loss: 0.2244771160185337\n",
      "-----------------------------------------------------------------\n",
      "epoch: 47; bad epochs: 1\n"
     ]
    },
    {
     "name": "stderr",
     "output_type": "stream",
     "text": [
      "  0%|          | 0/7 [00:00<?, ?it/s]"
     ]
    },
    {
     "name": "stdout",
     "output_type": "stream",
     "text": [
      "tm: torch.Size([8])\n",
      "be: torch.Size([8])\n",
      "bf: torch.Size([8])\n",
      "adc: torch.Size([128, 1])\n",
      "sigma: torch.Size([128, 1])\n",
      "axr: torch.Size([128, 1])\n",
      "evox: torch.Size([128, 8])\n",
      "tm: torch.Size([8])\n",
      "be: torch.Size([8])\n",
      "bf: torch.Size([8])\n",
      "adc: torch.Size([128, 1])\n",
      "sigma: torch.Size([128, 1])\n",
      "axr: torch.Size([128, 1])\n",
      "evox: torch.Size([128, 8])\n",
      "tm: torch.Size([8])\n",
      "be: torch.Size([8])\n",
      "bf: torch.Size([8])\n",
      "adc: torch.Size([128, 1])\n",
      "sigma: torch.Size([128, 1])\n",
      "axr: torch.Size([128, 1])\n",
      "evox: torch.Size([128, 8])\n"
     ]
    },
    {
     "name": "stderr",
     "output_type": "stream",
     "text": [
      "100%|██████████| 7/7 [00:00<00:00, 227.93it/s]\n"
     ]
    },
    {
     "name": "stdout",
     "output_type": "stream",
     "text": [
      "tm: torch.Size([8])\n",
      "be: torch.Size([8])\n",
      "bf: torch.Size([8])\n",
      "adc: torch.Size([128, 1])\n",
      "sigma: torch.Size([128, 1])\n",
      "axr: torch.Size([128, 1])\n",
      "evox: torch.Size([128, 8])\n",
      "tm: torch.Size([8])\n",
      "be: torch.Size([8])\n",
      "bf: torch.Size([8])\n",
      "adc: torch.Size([128, 1])\n",
      "sigma: torch.Size([128, 1])\n",
      "axr: torch.Size([128, 1])\n",
      "evox: torch.Size([128, 8])\n",
      "tm: torch.Size([8])\n",
      "be: torch.Size([8])\n",
      "bf: torch.Size([8])\n",
      "adc: torch.Size([128, 1])\n",
      "sigma: torch.Size([128, 1])\n",
      "axr: torch.Size([128, 1])\n",
      "evox: torch.Size([128, 8])\n",
      "tm: torch.Size([8])\n",
      "be: torch.Size([8])\n",
      "bf: torch.Size([8])\n",
      "adc: torch.Size([128, 1])\n",
      "sigma: torch.Size([128, 1])\n",
      "axr: torch.Size([128, 1])\n",
      "evox: torch.Size([128, 8])\n",
      "loss: 0.22057477943599224\n",
      "-----------------------------------------------------------------\n",
      "epoch: 48; bad epochs: 2\n"
     ]
    },
    {
     "name": "stderr",
     "output_type": "stream",
     "text": [
      "  0%|          | 0/7 [00:00<?, ?it/s]"
     ]
    },
    {
     "name": "stdout",
     "output_type": "stream",
     "text": [
      "tm: torch.Size([8])\n",
      "be: torch.Size([8])\n",
      "bf: torch.Size([8])\n",
      "adc: torch.Size([128, 1])\n",
      "sigma: torch.Size([128, 1])\n",
      "axr: torch.Size([128, 1])\n",
      "evox: torch.Size([128, 8])\n"
     ]
    },
    {
     "name": "stderr",
     "output_type": "stream",
     "text": [
      "100%|██████████| 7/7 [00:00<00:00, 271.92it/s]"
     ]
    },
    {
     "name": "stdout",
     "output_type": "stream",
     "text": [
      "tm: torch.Size([8])\n",
      "be: torch.Size([8])\n",
      "bf: torch.Size([8])\n",
      "adc: torch.Size([128, 1])\n",
      "sigma: torch.Size([128, 1])\n",
      "axr: torch.Size([128, 1])\n",
      "evox: torch.Size([128, 8])\n",
      "tm: torch.Size([8])\n",
      "be: torch.Size([8])\n",
      "bf: torch.Size([8])\n",
      "adc: torch.Size([128, 1])\n",
      "sigma: torch.Size([128, 1])\n",
      "axr: torch.Size([128, 1])\n",
      "evox: torch.Size([128, 8])\n",
      "tm: torch.Size([8])\n",
      "be: torch.Size([8])\n",
      "bf: torch.Size([8])\n",
      "adc: torch.Size([128, 1])\n",
      "sigma: torch.Size([128, 1])\n",
      "axr: torch.Size([128, 1])\n",
      "evox: torch.Size([128, 8])\n",
      "tm: torch.Size([8])\n",
      "be: torch.Size([8])\n",
      "bf: torch.Size([8])\n",
      "adc: torch.Size([128, 1])\n",
      "sigma: torch.Size([128, 1])\n",
      "axr: torch.Size([128, 1])\n",
      "evox: torch.Size([128, 8])\n",
      "tm: torch.Size([8])\n",
      "be: torch.Size([8])\n",
      "bf: torch.Size([8])\n",
      "adc: torch.Size([128, 1])\n",
      "sigma: torch.Size([128, 1])\n",
      "axr: torch.Size([128, 1])\n",
      "evox: torch.Size([128, 8])\n",
      "tm: torch.Size([8])\n",
      "be: torch.Size([8])\n",
      "bf: torch.Size([8])\n",
      "adc: torch.Size([128, 1])\n",
      "sigma: torch.Size([128, 1])\n",
      "axr: torch.Size([128, 1])\n",
      "evox: torch.Size([128, 8])\n"
     ]
    },
    {
     "name": "stderr",
     "output_type": "stream",
     "text": [
      "\n"
     ]
    },
    {
     "name": "stdout",
     "output_type": "stream",
     "text": [
      "loss: 0.22240941412746906\n",
      "-----------------------------------------------------------------\n",
      "epoch: 49; bad epochs: 3\n"
     ]
    },
    {
     "name": "stderr",
     "output_type": "stream",
     "text": [
      "  0%|          | 0/7 [00:00<?, ?it/s]"
     ]
    },
    {
     "name": "stdout",
     "output_type": "stream",
     "text": [
      "tm: torch.Size([8])\n",
      "be: torch.Size([8])\n",
      "bf: torch.Size([8])\n",
      "adc: torch.Size([128, 1])\n",
      "sigma: torch.Size([128, 1])\n",
      "axr: torch.Size([128, 1])\n",
      "evox: torch.Size([128, 8])\n",
      "tm: torch.Size([8])\n",
      "be: torch.Size([8])\n",
      "bf: torch.Size([8])\n",
      "adc: torch.Size([128, 1])\n",
      "sigma: torch.Size([128, 1])\n",
      "axr: torch.Size([128, 1])\n",
      "evox: torch.Size([128, 8])\n",
      "tm: torch.Size([8])\n",
      "be: torch.Size([8])\n",
      "bf: torch.Size([8])\n",
      "adc: torch.Size([128, 1])\n",
      "sigma: torch.Size([128, 1])\n",
      "axr: torch.Size([128, 1])\n",
      "evox: torch.Size([128, 8])\n",
      "tm: torch.Size([8])\n",
      "be: torch.Size([8])\n",
      "bf: torch.Size([8])\n",
      "adc: torch.Size([128, 1])\n",
      "sigma: torch.Size([128, 1])\n",
      "axr: torch.Size([128, 1])\n",
      "evox: torch.Size([128, 8])\n"
     ]
    },
    {
     "name": "stderr",
     "output_type": "stream",
     "text": [
      "100%|██████████| 7/7 [00:00<00:00, 175.28it/s]\n"
     ]
    },
    {
     "name": "stdout",
     "output_type": "stream",
     "text": [
      "tm: torch.Size([8])\n",
      "be: torch.Size([8])\n",
      "bf: torch.Size([8])\n",
      "adc: torch.Size([128, 1])\n",
      "sigma: torch.Size([128, 1])\n",
      "axr: torch.Size([128, 1])\n",
      "evox: torch.Size([128, 8])\n",
      "tm: torch.Size([8])\n",
      "be: torch.Size([8])\n",
      "bf: torch.Size([8])\n",
      "adc: torch.Size([128, 1])\n",
      "sigma: torch.Size([128, 1])\n",
      "axr: torch.Size([128, 1])\n",
      "evox: torch.Size([128, 8])\n",
      "tm: torch.Size([8])\n",
      "be: torch.Size([8])\n",
      "bf: torch.Size([8])\n",
      "adc: torch.Size([128, 1])\n",
      "sigma: torch.Size([128, 1])\n",
      "axr: torch.Size([128, 1])\n",
      "evox: torch.Size([128, 8])\n",
      "loss: 0.21906586177647114\n",
      "####################### saving good model #######################\n",
      "-----------------------------------------------------------------\n",
      "epoch: 50; bad epochs: 0\n"
     ]
    },
    {
     "name": "stderr",
     "output_type": "stream",
     "text": [
      "  0%|          | 0/7 [00:00<?, ?it/s]"
     ]
    },
    {
     "name": "stdout",
     "output_type": "stream",
     "text": [
      "tm: torch.Size([8])\n",
      "be: torch.Size([8])\n",
      "bf: torch.Size([8])\n",
      "adc: torch.Size([128, 1])\n",
      "sigma: torch.Size([128, 1])\n",
      "axr: torch.Size([128, 1])\n",
      "evox: torch.Size([128, 8])\n",
      "tm: torch.Size([8])\n",
      "be: torch.Size([8])\n",
      "bf: torch.Size([8])\n",
      "adc: torch.Size([128, 1])\n",
      "sigma: torch.Size([128, 1])\n",
      "axr: torch.Size([128, 1])\n",
      "evox: torch.Size([128, 8])\n",
      "tm: torch.Size([8])\n",
      "be: torch.Size([8])\n",
      "bf: torch.Size([8])\n",
      "adc: torch.Size([128, 1])\n",
      "sigma: torch.Size([128, 1])\n",
      "axr: torch.Size([128, 1])\n",
      "evox: torch.Size([128, 8])\n",
      "tm: torch.Size([8])\n",
      "be: torch.Size([8])\n",
      "bf: torch.Size([8])\n",
      "adc: torch.Size([128, 1])\n",
      "sigma: torch.Size([128, 1])\n",
      "axr: torch.Size([128, 1])\n",
      "evox: torch.Size([128, 8])\n",
      "tm: torch.Size([8])\n",
      "be: torch.Size([8])\n",
      "bf: torch.Size([8])\n",
      "adc: torch.Size([128, 1])\n",
      "sigma: torch.Size([128, 1])\n",
      "axr: torch.Size([128, 1])\n",
      "evox: torch.Size([128, 8])\n",
      "tm: torch.Size([8])\n",
      "be: torch.Size([8])\n",
      "bf: torch.Size([8])\n",
      "adc: torch.Size([128, 1])\n",
      "sigma: torch.Size([128, 1])\n",
      "axr: torch.Size([128, 1])\n",
      "evox: torch.Size([128, 8])\n"
     ]
    },
    {
     "name": "stderr",
     "output_type": "stream",
     "text": [
      "100%|██████████| 7/7 [00:00<00:00, 223.27it/s]\n"
     ]
    },
    {
     "name": "stdout",
     "output_type": "stream",
     "text": [
      "tm: torch.Size([8])\n",
      "be: torch.Size([8])\n",
      "bf: torch.Size([8])\n",
      "adc: torch.Size([128, 1])\n",
      "sigma: torch.Size([128, 1])\n",
      "axr: torch.Size([128, 1])\n",
      "evox: torch.Size([128, 8])\n",
      "loss: 0.22437178529798985\n",
      "-----------------------------------------------------------------\n",
      "epoch: 51; bad epochs: 1\n"
     ]
    },
    {
     "name": "stderr",
     "output_type": "stream",
     "text": [
      "  0%|          | 0/7 [00:00<?, ?it/s]"
     ]
    },
    {
     "name": "stdout",
     "output_type": "stream",
     "text": [
      "tm: torch.Size([8])\n",
      "be: torch.Size([8])\n",
      "bf: torch.Size([8])\n",
      "adc: torch.Size([128, 1])\n",
      "sigma: torch.Size([128, 1])\n",
      "axr: torch.Size([128, 1])\n",
      "evox: torch.Size([128, 8])\n",
      "tm: torch.Size([8])\n",
      "be: torch.Size([8])\n",
      "bf: torch.Size([8])\n",
      "adc: torch.Size([128, 1])\n",
      "sigma: torch.Size([128, 1])\n",
      "axr: torch.Size([128, 1])\n",
      "evox: torch.Size([128, 8])\n",
      "tm: torch.Size([8])\n",
      "be: torch.Size([8])\n",
      "bf: torch.Size([8])\n",
      "adc: torch.Size([128, 1])\n",
      "sigma: torch.Size([128, 1])\n",
      "axr: torch.Size([128, 1])\n",
      "evox: torch.Size([128, 8])\n",
      "tm: torch.Size([8])\n",
      "be: torch.Size([8])\n",
      "bf: torch.Size([8])\n",
      "adc: torch.Size([128, 1])\n",
      "sigma: torch.Size([128, 1])\n",
      "axr: torch.Size([128, 1])\n",
      "evox: torch.Size([128, 8])\n"
     ]
    },
    {
     "name": "stderr",
     "output_type": "stream",
     "text": [
      "100%|██████████| 7/7 [00:00<00:00, 284.33it/s]\n"
     ]
    },
    {
     "name": "stdout",
     "output_type": "stream",
     "text": [
      "tm: torch.Size([8])\n",
      "be: torch.Size([8])\n",
      "bf: torch.Size([8])\n",
      "adc: torch.Size([128, 1])\n",
      "sigma: torch.Size([128, 1])\n",
      "axr: torch.Size([128, 1])\n",
      "evox: torch.Size([128, 8])\n",
      "tm: torch.Size([8])\n",
      "be: torch.Size([8])\n",
      "bf: torch.Size([8])\n",
      "adc: torch.Size([128, 1])\n",
      "sigma: torch.Size([128, 1])\n",
      "axr: torch.Size([128, 1])\n",
      "evox: torch.Size([128, 8])\n",
      "tm: torch.Size([8])\n",
      "be: torch.Size([8])\n",
      "bf: torch.Size([8])\n",
      "adc: torch.Size([128, 1])\n",
      "sigma: torch.Size([128, 1])\n",
      "axr: torch.Size([128, 1])\n",
      "evox: torch.Size([128, 8])\n",
      "loss: 0.2245624866336584\n",
      "-----------------------------------------------------------------\n",
      "epoch: 52; bad epochs: 2\n"
     ]
    },
    {
     "name": "stderr",
     "output_type": "stream",
     "text": [
      "  0%|          | 0/7 [00:00<?, ?it/s]"
     ]
    },
    {
     "name": "stdout",
     "output_type": "stream",
     "text": [
      "tm: torch.Size([8])\n",
      "be: torch.Size([8])\n",
      "bf: torch.Size([8])\n",
      "adc: torch.Size([128, 1])\n",
      "sigma: torch.Size([128, 1])\n",
      "axr: torch.Size([128, 1])\n",
      "evox: torch.Size([128, 8])\n",
      "tm: torch.Size([8])\n",
      "be: torch.Size([8])\n",
      "bf: torch.Size([8])\n",
      "adc: torch.Size([128, 1])\n",
      "sigma: torch.Size([128, 1])\n",
      "axr: torch.Size([128, 1])\n",
      "evox: torch.Size([128, 8])\n",
      "tm: torch.Size([8])\n",
      "be: torch.Size([8])\n",
      "bf: torch.Size([8])\n",
      "adc: torch.Size([128, 1])\n",
      "sigma: torch.Size([128, 1])\n",
      "axr: torch.Size([128, 1])\n",
      "evox: torch.Size([128, 8])\n",
      "tm: torch.Size([8])\n",
      "be: torch.Size([8])\n",
      "bf: torch.Size([8])\n",
      "adc: torch.Size([128, 1])\n",
      "sigma: torch.Size([128, 1])\n",
      "axr: torch.Size([128, 1])\n",
      "evox: torch.Size([128, 8])\n",
      "tm: torch.Size([8])\n",
      "be: torch.Size([8])\n",
      "bf: torch.Size([8])\n",
      "adc: torch.Size([128, 1])\n",
      "sigma: torch.Size([128, 1])\n",
      "axr: torch.Size([128, 1])\n",
      "evox: torch.Size([128, 8])\n",
      "tm: torch.Size([8])\n",
      "be: torch.Size([8])\n",
      "bf: torch.Size([8])\n",
      "adc: torch.Size([128, 1])\n",
      "sigma: torch.Size([128, 1])\n",
      "axr: torch.Size([128, 1])\n",
      "evox: torch.Size([128, 8])\n",
      "tm: torch.Size([8])\n",
      "be: torch.Size([8])\n",
      "bf: torch.Size([8])\n",
      "adc: torch.Size([128, 1])\n",
      "sigma: torch.Size([128, 1])\n",
      "axr: torch.Size([128, 1])\n",
      "evox: torch.Size([128, 8])\n"
     ]
    },
    {
     "name": "stderr",
     "output_type": "stream",
     "text": [
      "100%|██████████| 7/7 [00:00<00:00, 191.72it/s]\n"
     ]
    },
    {
     "name": "stdout",
     "output_type": "stream",
     "text": [
      "loss: 0.2217557579278946\n",
      "-----------------------------------------------------------------\n",
      "epoch: 53; bad epochs: 3\n"
     ]
    },
    {
     "name": "stderr",
     "output_type": "stream",
     "text": [
      "  0%|          | 0/7 [00:00<?, ?it/s]"
     ]
    },
    {
     "name": "stdout",
     "output_type": "stream",
     "text": [
      "tm: torch.Size([8])\n",
      "be: torch.Size([8])\n",
      "bf: torch.Size([8])\n",
      "adc: torch.Size([128, 1])\n",
      "sigma: torch.Size([128, 1])\n",
      "axr: torch.Size([128, 1])\n",
      "evox: torch.Size([128, 8])\n",
      "tm: torch.Size([8])\n",
      "be: torch.Size([8])\n",
      "bf: torch.Size([8])\n",
      "adc: torch.Size([128, 1])\n",
      "sigma: torch.Size([128, 1])\n",
      "axr: torch.Size([128, 1])\n",
      "evox: torch.Size([128, 8])\n",
      "tm: torch.Size([8])\n",
      "be: torch.Size([8])\n",
      "bf: torch.Size([8])\n",
      "adc: torch.Size([128, 1])\n",
      "sigma: torch.Size([128, 1])\n",
      "axr: torch.Size([128, 1])\n",
      "evox: torch.Size([128, 8])\n",
      "tm: torch.Size([8])\n",
      "be: torch.Size([8])\n",
      "bf: torch.Size([8])\n",
      "adc: torch.Size([128, 1])\n",
      "sigma: torch.Size([128, 1])\n",
      "axr: torch.Size([128, 1])\n",
      "evox: torch.Size([128, 8])\n",
      "tm: torch.Size([8])\n",
      "be: torch.Size([8])\n",
      "bf: torch.Size([8])\n",
      "adc: torch.Size([128, 1])\n",
      "sigma: torch.Size([128, 1])\n",
      "axr: torch.Size([128, 1])\n",
      "evox: torch.Size([128, 8])\n",
      "tm: torch.Size([8])\n",
      "be: torch.Size([8])\n",
      "bf: torch.Size([8])\n",
      "adc: torch.Size([128, 1])\n",
      "sigma: torch.Size([128, 1])\n",
      "axr: torch.Size([128, 1])\n",
      "evox: torch.Size([128, 8])\n",
      "tm: torch.Size([8])\n",
      "be: torch.Size([8])\n",
      "bf: torch.Size([8])\n",
      "adc: torch.Size([128, 1])\n",
      "sigma: torch.Size([128, 1])\n",
      "axr: torch.Size([128, 1])\n",
      "evox: torch.Size([128, 8])\n"
     ]
    },
    {
     "name": "stderr",
     "output_type": "stream",
     "text": [
      "100%|██████████| 7/7 [00:00<00:00, 140.06it/s]\n"
     ]
    },
    {
     "name": "stdout",
     "output_type": "stream",
     "text": [
      "loss: 0.21964112296700478\n",
      "-----------------------------------------------------------------\n",
      "epoch: 54; bad epochs: 4\n"
     ]
    },
    {
     "name": "stderr",
     "output_type": "stream",
     "text": [
      "  0%|          | 0/7 [00:00<?, ?it/s]"
     ]
    },
    {
     "name": "stdout",
     "output_type": "stream",
     "text": [
      "tm: torch.Size([8])\n",
      "be: torch.Size([8])\n",
      "bf: torch.Size([8])\n",
      "adc: torch.Size([128, 1])\n",
      "sigma: torch.Size([128, 1])\n",
      "axr: torch.Size([128, 1])\n",
      "evox: torch.Size([128, 8])\n",
      "tm: torch.Size([8])\n",
      "be: torch.Size([8])\n",
      "bf: torch.Size([8])\n",
      "adc: torch.Size([128, 1])\n",
      "sigma: torch.Size([128, 1])\n",
      "axr: torch.Size([128, 1])\n",
      "evox: torch.Size([128, 8])\n",
      "tm: torch.Size([8])\n",
      "be: torch.Size([8])\n",
      "bf: torch.Size([8])\n",
      "adc: torch.Size([128, 1])\n",
      "sigma: torch.Size([128, 1])\n",
      "axr: torch.Size([128, 1])\n",
      "evox: torch.Size([128, 8])\n",
      "tm: torch.Size([8])\n",
      "be: torch.Size([8])\n",
      "bf: torch.Size([8])\n",
      "adc: torch.Size([128, 1])\n",
      "sigma: torch.Size([128, 1])\n",
      "axr: torch.Size([128, 1])\n",
      "evox: torch.Size([128, 8])\n",
      "tm: torch.Size([8])\n",
      "be: torch.Size([8])\n",
      "bf: torch.Size([8])\n",
      "adc: torch.Size([128, 1])\n",
      "sigma: torch.Size([128, 1])\n",
      "axr: torch.Size([128, 1])\n",
      "evox: torch.Size([128, 8])\n",
      "tm: torch.Size([8])\n",
      "be: torch.Size([8])\n",
      "bf: torch.Size([8])\n",
      "adc: torch.Size([128, 1])\n",
      "sigma: torch.Size([128, 1])\n",
      "axr: torch.Size([128, 1])\n",
      "evox: torch.Size([128, 8])\n"
     ]
    },
    {
     "name": "stderr",
     "output_type": "stream",
     "text": [
      "100%|██████████| 7/7 [00:00<00:00, 114.30it/s]"
     ]
    },
    {
     "name": "stdout",
     "output_type": "stream",
     "text": [
      "tm: torch.Size([8])\n",
      "be: torch.Size([8])\n",
      "bf: torch.Size([8])\n",
      "adc: torch.Size([128, 1])\n",
      "sigma: torch.Size([128, 1])\n",
      "axr: torch.Size([128, 1])\n",
      "evox: torch.Size([128, 8])\n",
      "loss: 0.22114567644894123\n",
      "-----------------------------------------------------------------\n",
      "epoch: 55; bad epochs: 5\n"
     ]
    },
    {
     "name": "stderr",
     "output_type": "stream",
     "text": [
      "\n",
      "  0%|          | 0/7 [00:00<?, ?it/s]"
     ]
    },
    {
     "name": "stdout",
     "output_type": "stream",
     "text": [
      "tm: torch.Size([8])\n",
      "be: torch.Size([8])\n",
      "bf: torch.Size([8])\n",
      "adc: torch.Size([128, 1])\n",
      "sigma: torch.Size([128, 1])\n",
      "axr: torch.Size([128, 1])\n",
      "evox: torch.Size([128, 8])\n",
      "tm: torch.Size([8])\n",
      "be: torch.Size([8])\n",
      "bf: torch.Size([8])\n",
      "adc: torch.Size([128, 1])\n",
      "sigma: torch.Size([128, 1])\n",
      "axr: torch.Size([128, 1])\n",
      "evox: torch.Size([128, 8])\n"
     ]
    },
    {
     "name": "stderr",
     "output_type": "stream",
     "text": [
      "100%|██████████| 7/7 [00:00<00:00, 198.06it/s]"
     ]
    },
    {
     "name": "stdout",
     "output_type": "stream",
     "text": [
      "tm: torch.Size([8])\n",
      "be: torch.Size([8])\n",
      "bf: torch.Size([8])\n",
      "adc: torch.Size([128, 1])\n",
      "sigma: torch.Size([128, 1])\n",
      "axr: torch.Size([128, 1])\n",
      "evox: torch.Size([128, 8])\n",
      "tm: torch.Size([8])\n",
      "be: torch.Size([8])\n",
      "bf: torch.Size([8])\n",
      "adc: torch.Size([128, 1])\n",
      "sigma: torch.Size([128, 1])\n",
      "axr: torch.Size([128, 1])\n",
      "evox: torch.Size([128, 8])\n",
      "tm: torch.Size([8])\n",
      "be: torch.Size([8])\n",
      "bf: torch.Size([8])\n",
      "adc: torch.Size([128, 1])\n",
      "sigma: torch.Size([128, 1])\n",
      "axr: torch.Size([128, 1])\n",
      "evox: torch.Size([128, 8])\n",
      "tm: torch.Size([8])\n",
      "be: torch.Size([8])\n",
      "bf: torch.Size([8])\n",
      "adc: torch.Size([128, 1])\n",
      "sigma: torch.Size([128, 1])\n",
      "axr: torch.Size([128, 1])\n",
      "evox: torch.Size([128, 8])\n",
      "tm: torch.Size([8])\n",
      "be: torch.Size([8])\n",
      "bf: torch.Size([8])\n",
      "adc: torch.Size([128, 1])\n",
      "sigma: torch.Size([128, 1])\n",
      "axr: torch.Size([128, 1])\n",
      "evox: torch.Size([128, 8])\n",
      "loss: 0.2150581106543541\n",
      "####################### saving good model #######################\n",
      "-----------------------------------------------------------------\n",
      "epoch: 56; bad epochs: 0\n"
     ]
    },
    {
     "name": "stderr",
     "output_type": "stream",
     "text": [
      "\n",
      "  0%|          | 0/7 [00:00<?, ?it/s]"
     ]
    },
    {
     "name": "stdout",
     "output_type": "stream",
     "text": [
      "tm: torch.Size([8])\n",
      "be: torch.Size([8])\n",
      "bf: torch.Size([8])\n",
      "adc: torch.Size([128, 1])\n",
      "sigma: torch.Size([128, 1])\n",
      "axr: torch.Size([128, 1])\n",
      "evox: torch.Size([128, 8])\n",
      "tm: torch.Size([8])\n",
      "be: torch.Size([8])\n",
      "bf: torch.Size([8])\n",
      "adc: torch.Size([128, 1])\n",
      "sigma: torch.Size([128, 1])\n",
      "axr: torch.Size([128, 1])\n",
      "evox: torch.Size([128, 8])\n",
      "tm: torch.Size([8])\n",
      "be: torch.Size([8])\n",
      "bf: torch.Size([8])\n",
      "adc: torch.Size([128, 1])\n",
      "sigma: torch.Size([128, 1])\n",
      "axr: torch.Size([128, 1])\n",
      "evox: torch.Size([128, 8])\n",
      "tm: torch.Size([8])\n",
      "be: torch.Size([8])\n",
      "bf: torch.Size([8])\n",
      "adc: torch.Size([128, 1])\n",
      "sigma: torch.Size([128, 1])\n",
      "axr: torch.Size([128, 1])\n",
      "evox: torch.Size([128, 8])\n",
      "tm: torch.Size([8])\n",
      "be: torch.Size([8])\n",
      "bf: torch.Size([8])\n",
      "adc: torch.Size([128, 1])\n",
      "sigma: torch.Size([128, 1])\n",
      "axr: torch.Size([128, 1])\n",
      "evox: torch.Size([128, 8])\n",
      "tm: torch.Size([8])\n",
      "be: torch.Size([8])\n",
      "bf: torch.Size([8])\n",
      "adc: torch.Size([128, 1])\n",
      "sigma: torch.Size([128, 1])\n",
      "axr: torch.Size([128, 1])\n",
      "evox: torch.Size([128, 8])\n"
     ]
    },
    {
     "name": "stderr",
     "output_type": "stream",
     "text": [
      "100%|██████████| 7/7 [00:00<00:00, 198.19it/s]"
     ]
    },
    {
     "name": "stdout",
     "output_type": "stream",
     "text": [
      "tm: torch.Size([8])\n",
      "be: torch.Size([8])\n",
      "bf: torch.Size([8])\n",
      "adc: torch.Size([128, 1])\n",
      "sigma: torch.Size([128, 1])\n",
      "axr: torch.Size([128, 1])\n",
      "evox: torch.Size([128, 8])\n"
     ]
    },
    {
     "name": "stderr",
     "output_type": "stream",
     "text": [
      "\n"
     ]
    },
    {
     "name": "stdout",
     "output_type": "stream",
     "text": [
      "loss: 0.21885939314961433\n",
      "-----------------------------------------------------------------\n",
      "epoch: 57; bad epochs: 1\n"
     ]
    },
    {
     "name": "stderr",
     "output_type": "stream",
     "text": [
      "  0%|          | 0/7 [00:00<?, ?it/s]"
     ]
    },
    {
     "name": "stdout",
     "output_type": "stream",
     "text": [
      "tm: torch.Size([8])\n",
      "be: torch.Size([8])\n",
      "bf: torch.Size([8])\n",
      "adc: torch.Size([128, 1])\n",
      "sigma: torch.Size([128, 1])\n",
      "axr: torch.Size([128, 1])\n",
      "evox: torch.Size([128, 8])\n",
      "tm: torch.Size([8])\n",
      "be: torch.Size([8])\n",
      "bf: torch.Size([8])\n",
      "adc: torch.Size([128, 1])\n",
      "sigma: torch.Size([128, 1])\n",
      "axr: torch.Size([128, 1])\n",
      "evox: torch.Size([128, 8])\n",
      "tm: torch.Size([8])\n",
      "be: torch.Size([8])\n",
      "bf: torch.Size([8])\n",
      "adc: torch.Size([128, 1])\n",
      "sigma: torch.Size([128, 1])\n",
      "axr: torch.Size([128, 1])\n",
      "evox: torch.Size([128, 8])\n",
      "tm: torch.Size([8])\n",
      "be: torch.Size([8])\n",
      "bf: torch.Size([8])\n",
      "adc: torch.Size([128, 1])\n",
      "sigma: torch.Size([128, 1])\n",
      "axr: torch.Size([128, 1])\n",
      "evox: torch.Size([128, 8])\n",
      "tm: torch.Size([8])\n",
      "be: torch.Size([8])\n",
      "bf: torch.Size([8])\n",
      "adc: torch.Size([128, 1])\n",
      "sigma: torch.Size([128, 1])\n",
      "axr: torch.Size([128, 1])\n",
      "evox: torch.Size([128, 8])\n",
      "tm: torch.Size([8])\n",
      "be: torch.Size([8])\n",
      "bf: torch.Size([8])\n",
      "adc: torch.Size([128, 1])\n",
      "sigma: torch.Size([128, 1])\n",
      "axr: torch.Size([128, 1])\n",
      "evox: torch.Size([128, 8])\n"
     ]
    },
    {
     "name": "stderr",
     "output_type": "stream",
     "text": [
      "100%|██████████| 7/7 [00:00<00:00, 126.40it/s]"
     ]
    },
    {
     "name": "stdout",
     "output_type": "stream",
     "text": [
      "tm: torch.Size([8])\n",
      "be: torch.Size([8])\n",
      "bf: torch.Size([8])\n",
      "adc: torch.Size([128, 1])\n",
      "sigma: torch.Size([128, 1])\n",
      "axr: torch.Size([128, 1])\n",
      "evox: torch.Size([128, 8])\n",
      "loss: 0.2150417435914278\n",
      "####################### saving good model #######################\n"
     ]
    },
    {
     "name": "stderr",
     "output_type": "stream",
     "text": [
      "\n"
     ]
    },
    {
     "name": "stdout",
     "output_type": "stream",
     "text": [
      "-----------------------------------------------------------------\n",
      "epoch: 58; bad epochs: 0\n"
     ]
    },
    {
     "name": "stderr",
     "output_type": "stream",
     "text": [
      "  0%|          | 0/7 [00:00<?, ?it/s]"
     ]
    },
    {
     "name": "stdout",
     "output_type": "stream",
     "text": [
      "tm: torch.Size([8])\n",
      "be: torch.Size([8])\n",
      "bf: torch.Size([8])\n",
      "adc: torch.Size([128, 1])\n",
      "sigma: torch.Size([128, 1])\n",
      "axr: torch.Size([128, 1])\n",
      "evox: torch.Size([128, 8])\n",
      "tm: torch.Size([8])\n",
      "be: torch.Size([8])\n",
      "bf: torch.Size([8])\n",
      "adc: torch.Size([128, 1])\n",
      "sigma: torch.Size([128, 1])\n",
      "axr: torch.Size([128, 1])\n",
      "evox: torch.Size([128, 8])\n",
      "tm: torch.Size([8])\n",
      "be: torch.Size([8])\n",
      "bf: torch.Size([8])\n",
      "adc: torch.Size([128, 1])\n",
      "sigma: torch.Size([128, 1])\n",
      "axr: torch.Size([128, 1])\n",
      "evox: torch.Size([128, 8])\n",
      "tm: torch.Size([8])\n",
      "be: torch.Size([8])\n",
      "bf: torch.Size([8])\n",
      "adc: torch.Size([128, 1])\n",
      "sigma: torch.Size([128, 1])\n",
      "axr: torch.Size([128, 1])\n",
      "evox: torch.Size([128, 8])\n",
      "tm: torch.Size([8])\n",
      "be: torch.Size([8])\n",
      "bf: torch.Size([8])\n",
      "adc: torch.Size([128, 1])\n",
      "sigma: torch.Size([128, 1])\n",
      "axr: torch.Size([128, 1])\n",
      "evox: torch.Size([128, 8])\n",
      "tm: "
     ]
    },
    {
     "name": "stderr",
     "output_type": "stream",
     "text": [
      " 86%|████████▌ | 6/7 [00:00<00:00, 38.80it/s]"
     ]
    },
    {
     "name": "stdout",
     "output_type": "stream",
     "text": [
      "torch.Size([8])\n",
      "be: torch.Size([8])\n",
      "bf: torch.Size([8])\n",
      "adc: torch.Size([128, 1])\n",
      "sigma: torch.Size([128, 1])\n",
      "axr: torch.Size([128, 1])\n",
      "evox: torch.Size([128, 8])\n",
      "tm: torch.Size([8])\n",
      "be: torch.Size([8])\n",
      "bf: torch.Size([8])\n",
      "adc: torch.Size([128, 1])\n",
      "sigma: torch.Size([128, 1])\n",
      "axr: torch.Size([128, 1])\n",
      "evox: torch.Size([128, 8])\n"
     ]
    },
    {
     "name": "stderr",
     "output_type": "stream",
     "text": [
      "100%|██████████| 7/7 [00:00<00:00, 40.53it/s]\n"
     ]
    },
    {
     "name": "stdout",
     "output_type": "stream",
     "text": [
      "loss: 0.21713802963495255\n",
      "-----------------------------------------------------------------\n",
      "epoch: 59; bad epochs: 1\n"
     ]
    },
    {
     "name": "stderr",
     "output_type": "stream",
     "text": [
      "  0%|          | 0/7 [00:00<?, ?it/s]"
     ]
    },
    {
     "name": "stdout",
     "output_type": "stream",
     "text": [
      "tm: torch.Size([8])\n",
      "be: torch.Size([8])\n",
      "bf: torch.Size([8])\n",
      "adc: torch.Size([128, 1])\n",
      "sigma: torch.Size([128, 1])\n",
      "axr: torch.Size([128, 1])\n",
      "evox: torch.Size([128, 8])\n",
      "tm: torch.Size([8])\n",
      "be: torch.Size([8])\n",
      "bf: torch.Size([8])\n",
      "adc: torch.Size([128, 1])\n",
      "sigma: torch.Size([128, 1])\n",
      "axr: torch.Size([128, 1])\n",
      "evox: torch.Size([128, 8])\n",
      "tm: torch.Size([8])\n",
      "be: torch.Size([8])\n",
      "bf: torch.Size([8])\n",
      "adc: torch.Size([128, 1])\n",
      "sigma: torch.Size([128, 1])\n",
      "axr: torch.Size([128, 1])\n",
      "evox: torch.Size([128, 8])\n"
     ]
    },
    {
     "name": "stderr",
     "output_type": "stream",
     "text": [
      "100%|██████████| 7/7 [00:00<00:00, 208.53it/s]\n"
     ]
    },
    {
     "name": "stdout",
     "output_type": "stream",
     "text": [
      "tm: torch.Size([8])\n",
      "be: torch.Size([8])\n",
      "bf: torch.Size([8])\n",
      "adc: torch.Size([128, 1])\n",
      "sigma: torch.Size([128, 1])\n",
      "axr: torch.Size([128, 1])\n",
      "evox: torch.Size([128, 8])\n",
      "tm: torch.Size([8])\n",
      "be: torch.Size([8])\n",
      "bf: torch.Size([8])\n",
      "adc: torch.Size([128, 1])\n",
      "sigma: torch.Size([128, 1])\n",
      "axr: torch.Size([128, 1])\n",
      "evox: torch.Size([128, 8])\n",
      "tm: torch.Size([8])\n",
      "be: torch.Size([8])\n",
      "bf: torch.Size([8])\n",
      "adc: torch.Size([128, 1])\n",
      "sigma: torch.Size([128, 1])\n",
      "axr: torch.Size([128, 1])\n",
      "evox: torch.Size([128, 8])\n",
      "tm: torch.Size([8])\n",
      "be: torch.Size([8])\n",
      "bf: torch.Size([8])\n",
      "adc: torch.Size([128, 1])\n",
      "sigma: torch.Size([128, 1])\n",
      "axr: torch.Size([128, 1])\n",
      "evox: torch.Size([128, 8])\n",
      "loss: 0.22053910046815872\n",
      "-----------------------------------------------------------------\n",
      "epoch: 60; bad epochs: 2\n"
     ]
    },
    {
     "name": "stderr",
     "output_type": "stream",
     "text": [
      "  0%|          | 0/7 [00:00<?, ?it/s]"
     ]
    },
    {
     "name": "stdout",
     "output_type": "stream",
     "text": [
      "tm: torch.Size([8])\n",
      "be: torch.Size([8])\n",
      "bf: torch.Size([8])\n",
      "adc: torch.Size([128, 1])\n",
      "sigma: torch.Size([128, 1])\n",
      "axr: torch.Size([128, 1])\n",
      "evox: torch.Size([128, 8])\n",
      "tm: torch.Size([8])\n",
      "be: torch.Size([8])\n",
      "bf: torch.Size([8])\n",
      "adc: torch.Size([128, 1])\n",
      "sigma: torch.Size([128, 1])\n",
      "axr: torch.Size([128, 1])\n",
      "evox: torch.Size([128, 8])\n",
      "tm: torch.Size([8])\n",
      "be: torch.Size([8])\n",
      "bf: torch.Size([8])\n",
      "adc: torch.Size([128, 1])\n",
      "sigma: torch.Size([128, 1])\n",
      "axr: torch.Size([128, 1])\n",
      "evox: torch.Size([128, 8])\n",
      "tm: torch.Size([8])\n",
      "be: torch.Size([8])\n",
      "bf: torch.Size([8])\n",
      "adc: torch.Size([128, 1])\n",
      "sigma: torch.Size([128, 1])\n",
      "axr: torch.Size([128, 1])\n",
      "evox: torch.Size([128, 8])\n"
     ]
    },
    {
     "name": "stderr",
     "output_type": "stream",
     "text": [
      "100%|██████████| 7/7 [00:00<00:00, 274.78it/s]\n"
     ]
    },
    {
     "name": "stdout",
     "output_type": "stream",
     "text": [
      "tm: torch.Size([8])\n",
      "be: torch.Size([8])\n",
      "bf: torch.Size([8])\n",
      "adc: torch.Size([128, 1])\n",
      "sigma: torch.Size([128, 1])\n",
      "axr: torch.Size([128, 1])\n",
      "evox: torch.Size([128, 8])\n",
      "tm: torch.Size([8])\n",
      "be: torch.Size([8])\n",
      "bf: torch.Size([8])\n",
      "adc: torch.Size([128, 1])\n",
      "sigma: torch.Size([128, 1])\n",
      "axr: torch.Size([128, 1])\n",
      "evox: torch.Size([128, 8])\n",
      "tm: torch.Size([8])\n",
      "be: torch.Size([8])\n",
      "bf: torch.Size([8])\n",
      "adc: torch.Size([128, 1])\n",
      "sigma: torch.Size([128, 1])\n",
      "axr: torch.Size([128, 1])\n",
      "evox: torch.Size([128, 8])\n",
      "loss: 0.21382173523306847\n",
      "####################### saving good model #######################\n",
      "-----------------------------------------------------------------\n",
      "epoch: 61; bad epochs: 0\n"
     ]
    },
    {
     "name": "stderr",
     "output_type": "stream",
     "text": [
      "  0%|          | 0/7 [00:00<?, ?it/s]"
     ]
    },
    {
     "name": "stdout",
     "output_type": "stream",
     "text": [
      "tm: torch.Size([8])\n",
      "be: torch.Size([8])\n",
      "bf: torch.Size([8])\n",
      "adc: torch.Size([128, 1])\n",
      "sigma: torch.Size([128, 1])\n",
      "axr: torch.Size([128, 1])\n",
      "evox: torch.Size([128, 8])\n",
      "tm: torch.Size([8])\n",
      "be: torch.Size([8])\n",
      "bf: torch.Size([8])\n",
      "adc: torch.Size([128, 1])\n",
      "sigma: torch.Size([128, 1])\n",
      "axr: torch.Size([128, 1])\n",
      "evox: torch.Size([128, 8])\n",
      "tm: torch.Size([8])\n",
      "be: torch.Size([8])\n",
      "bf: torch.Size([8])\n",
      "adc: torch.Size([128, 1])\n",
      "sigma: torch.Size([128, 1])\n",
      "axr: torch.Size([128, 1])\n",
      "evox: torch.Size([128, 8])\n",
      "tm: torch.Size([8])\n",
      "be: torch.Size([8])\n",
      "bf: torch.Size([8])\n",
      "adc: torch.Size([128, 1])\n",
      "sigma: torch.Size([128, 1])\n",
      "axr: torch.Size([128, 1])\n",
      "evox: torch.Size([128, 8])\n",
      "tm: torch.Size([8])\n",
      "be: torch.Size([8])\n",
      "bf: torch.Size([8])\n",
      "adc: torch.Size([128, 1])\n",
      "sigma: torch.Size([128, 1])\n",
      "axr: torch.Size([128, 1])\n",
      "evox: torch.Size([128, 8])\n",
      "tm: torch.Size([8])\n",
      "be: torch.Size([8])\n",
      "bf: torch.Size([8])\n",
      "adc: torch.Size([128, 1])\n",
      "sigma: torch.Size([128, 1])\n",
      "axr: torch.Size([128, 1])\n",
      "evox: torch.Size([128, 8])\n",
      "tm: torch.Size([8])\n",
      "be: torch.Size([8])\n",
      "bf: torch.Size([8])\n",
      "adc: torch.Size([128, 1])\n",
      "sigma: torch.Size([128, 1])\n",
      "axr: torch.Size([128, 1])\n",
      "evox: torch.Size([128, 8])\n"
     ]
    },
    {
     "name": "stderr",
     "output_type": "stream",
     "text": [
      "100%|██████████| 7/7 [00:00<00:00, 206.05it/s]\n"
     ]
    },
    {
     "name": "stdout",
     "output_type": "stream",
     "text": [
      "loss: 0.2167005818337202\n",
      "-----------------------------------------------------------------\n",
      "epoch: 62; bad epochs: 1\n"
     ]
    },
    {
     "name": "stderr",
     "output_type": "stream",
     "text": [
      "  0%|          | 0/7 [00:00<?, ?it/s]"
     ]
    },
    {
     "name": "stdout",
     "output_type": "stream",
     "text": [
      "tm: torch.Size([8])\n",
      "be: torch.Size([8])\n",
      "bf: torch.Size([8])\n",
      "adc: torch.Size([128, 1])\n",
      "sigma: torch.Size([128, 1])\n",
      "axr: torch.Size([128, 1])\n",
      "evox: torch.Size([128, 8])\n",
      "tm: torch.Size([8])\n",
      "be: torch.Size([8])\n",
      "bf: torch.Size([8])\n",
      "adc: torch.Size([128, 1])\n",
      "sigma: torch.Size([128, 1])\n",
      "axr: torch.Size([128, 1])\n",
      "evox: torch.Size([128, 8])\n",
      "tm: torch.Size([8])\n",
      "be: torch.Size([8])\n",
      "bf: torch.Size([8])\n",
      "adc: torch.Size([128, 1])\n",
      "sigma: torch.Size([128, 1])\n",
      "axr: torch.Size([128, 1])\n",
      "evox: torch.Size([128, 8])\n",
      "tm: torch.Size([8])\n",
      "be: torch.Size([8])\n",
      "bf: torch.Size([8])\n",
      "adc: torch.Size([128, 1])\n",
      "sigma: torch.Size([128, 1])\n",
      "axr: torch.Size([128, 1])\n",
      "evox: torch.Size([128, 8])\n",
      "tm: torch.Size([8])\n",
      "be: torch.Size([8])\n",
      "bf: torch.Size([8])\n",
      "adc: torch.Size([128, 1])\n",
      "sigma: torch.Size([128, 1])\n",
      "axr: torch.Size([128, 1])\n",
      "evox: torch.Size([128, 8])\n",
      "tm: torch.Size([8])\n",
      "be: torch.Size([8])\n",
      "bf: torch.Size([8])\n",
      "adc: torch.Size([128, 1])\n",
      "sigma: torch.Size([128, 1])\n",
      "axr: torch.Size([128, 1])\n",
      "evox: torch.Size([128, 8])\n",
      "tm: torch.Size([8])\n",
      "be: torch.Size([8])\n",
      "bf: torch.Size([8])\n",
      "adc: torch.Size([128, 1])\n",
      "sigma: torch.Size([128, 1])\n",
      "axr: torch.Size([128, 1])\n",
      "evox: torch.Size([128, 8])\n"
     ]
    },
    {
     "name": "stderr",
     "output_type": "stream",
     "text": [
      "100%|██████████| 7/7 [00:00<00:00, 200.70it/s]\n"
     ]
    },
    {
     "name": "stdout",
     "output_type": "stream",
     "text": [
      "loss: 0.21535924822092056\n",
      "-----------------------------------------------------------------\n",
      "epoch: 63; bad epochs: 2\n"
     ]
    },
    {
     "name": "stderr",
     "output_type": "stream",
     "text": [
      "  0%|          | 0/7 [00:00<?, ?it/s]"
     ]
    },
    {
     "name": "stdout",
     "output_type": "stream",
     "text": [
      "tm: torch.Size([8])\n",
      "be: torch.Size([8])\n",
      "bf: torch.Size([8])\n",
      "adc: torch.Size([128, 1])\n",
      "sigma: torch.Size([128, 1])\n",
      "axr: torch.Size([128, 1])\n",
      "evox: torch.Size([128, 8])\n",
      "tm: torch.Size([8])\n",
      "be: torch.Size([8])\n",
      "bf: torch.Size([8])\n",
      "adc: torch.Size([128, 1])\n",
      "sigma: torch.Size([128, 1])\n",
      "axr: torch.Size([128, 1])\n",
      "evox: torch.Size([128, 8])\n",
      "tm: torch.Size([8])\n",
      "be: torch.Size([8])\n",
      "bf: torch.Size([8])\n",
      "adc: torch.Size([128, 1])\n",
      "sigma: torch.Size([128, 1])\n",
      "axr: torch.Size([128, 1])\n",
      "evox: torch.Size([128, 8])\n",
      "tm: torch.Size([8])\n",
      "be: torch.Size([8])\n",
      "bf: torch.Size([8])\n",
      "adc: torch.Size([128, 1])\n",
      "sigma: torch.Size([128, 1])\n",
      "axr: torch.Size([128, 1])\n",
      "evox: torch.Size([128, 8])\n"
     ]
    },
    {
     "name": "stderr",
     "output_type": "stream",
     "text": [
      "100%|██████████| 7/7 [00:00<00:00, 169.70it/s]\n"
     ]
    },
    {
     "name": "stdout",
     "output_type": "stream",
     "text": [
      "tm: torch.Size([8])\n",
      "be: torch.Size([8])\n",
      "bf: torch.Size([8])\n",
      "adc: torch.Size([128, 1])\n",
      "sigma: torch.Size([128, 1])\n",
      "axr: torch.Size([128, 1])\n",
      "evox: torch.Size([128, 8])\n",
      "tm: torch.Size([8])\n",
      "be: torch.Size([8])\n",
      "bf: torch.Size([8])\n",
      "adc: torch.Size([128, 1])\n",
      "sigma: torch.Size([128, 1])\n",
      "axr: torch.Size([128, 1])\n",
      "evox: torch.Size([128, 8])\n",
      "tm: torch.Size([8])\n",
      "be: torch.Size([8])\n",
      "bf: torch.Size([8])\n",
      "adc: torch.Size([128, 1])\n",
      "sigma: torch.Size([128, 1])\n",
      "axr: torch.Size([128, 1])\n",
      "evox: torch.Size([128, 8])\n",
      "loss: 0.21772555075585842\n",
      "-----------------------------------------------------------------\n",
      "epoch: 64; bad epochs: 3\n"
     ]
    },
    {
     "name": "stderr",
     "output_type": "stream",
     "text": [
      "100%|██████████| 7/7 [00:00<00:00, 261.51it/s]\n"
     ]
    },
    {
     "name": "stdout",
     "output_type": "stream",
     "text": [
      "tm: torch.Size([8])\n",
      "be: torch.Size([8])\n",
      "bf: torch.Size([8])\n",
      "adc: torch.Size([128, 1])\n",
      "sigma: torch.Size([128, 1])\n",
      "axr: torch.Size([128, 1])\n",
      "evox: torch.Size([128, 8])\n",
      "tm: torch.Size([8])\n",
      "be: torch.Size([8])\n",
      "bf: torch.Size([8])\n",
      "adc: torch.Size([128, 1])\n",
      "sigma: torch.Size([128, 1])\n",
      "axr: torch.Size([128, 1])\n",
      "evox: torch.Size([128, 8])\n",
      "tm: torch.Size([8])\n",
      "be: torch.Size([8])\n",
      "bf: torch.Size([8])\n",
      "adc: torch.Size([128, 1])\n",
      "sigma: torch.Size([128, 1])\n",
      "axr: torch.Size([128, 1])\n",
      "evox: torch.Size([128, 8])\n",
      "tm: torch.Size([8])\n",
      "be: torch.Size([8])\n",
      "bf: torch.Size([8])\n",
      "adc: torch.Size([128, 1])\n",
      "sigma: torch.Size([128, 1])\n",
      "axr: torch.Size([128, 1])\n",
      "evox: torch.Size([128, 8])\n",
      "tm: torch.Size([8])\n",
      "be: torch.Size([8])\n",
      "bf: torch.Size([8])\n",
      "adc: torch.Size([128, 1])\n",
      "sigma: torch.Size([128, 1])\n",
      "axr: torch.Size([128, 1])\n",
      "evox: torch.Size([128, 8])\n",
      "tm: torch.Size([8])\n",
      "be: torch.Size([8])\n",
      "bf: torch.Size([8])\n",
      "adc: torch.Size([128, 1])\n",
      "sigma: torch.Size([128, 1])\n",
      "axr: torch.Size([128, 1])\n",
      "evox: torch.Size([128, 8])\n",
      "tm: torch.Size([8])\n",
      "be: torch.Size([8])\n",
      "bf: torch.Size([8])\n",
      "adc: torch.Size([128, 1])\n",
      "sigma: torch.Size([128, 1])\n",
      "axr: torch.Size([128, 1])\n",
      "evox: torch.Size([128, 8])\n",
      "loss: 0.20870095677673817\n",
      "####################### saving good model #######################\n",
      "-----------------------------------------------------------------\n",
      "epoch: 65; bad epochs: 0\n"
     ]
    },
    {
     "name": "stderr",
     "output_type": "stream",
     "text": [
      "  0%|          | 0/7 [00:00<?, ?it/s]"
     ]
    },
    {
     "name": "stdout",
     "output_type": "stream",
     "text": [
      "tm: torch.Size([8])\n",
      "be: torch.Size([8])\n",
      "bf: torch.Size([8])\n",
      "adc: torch.Size([128, 1])\n",
      "sigma: torch.Size([128, 1])\n",
      "axr: torch.Size([128, 1])\n",
      "evox: torch.Size([128, 8])\n",
      "tm: torch.Size([8])\n",
      "be: torch.Size([8])\n",
      "bf: torch.Size([8])\n",
      "adc: torch.Size([128, 1])\n",
      "sigma: torch.Size([128, 1])\n",
      "axr: torch.Size([128, 1])\n",
      "evox: torch.Size([128, 8])\n"
     ]
    },
    {
     "name": "stderr",
     "output_type": "stream",
     "text": [
      "100%|██████████| 7/7 [00:00<00:00, 199.11it/s]\n"
     ]
    },
    {
     "name": "stdout",
     "output_type": "stream",
     "text": [
      "tm: torch.Size([8])\n",
      "be: torch.Size([8])\n",
      "bf: torch.Size([8])\n",
      "adc: torch.Size([128, 1])\n",
      "sigma: torch.Size([128, 1])\n",
      "axr: torch.Size([128, 1])\n",
      "evox: torch.Size([128, 8])\n",
      "tm: torch.Size([8])\n",
      "be: torch.Size([8])\n",
      "bf: torch.Size([8])\n",
      "adc: torch.Size([128, 1])\n",
      "sigma: torch.Size([128, 1])\n",
      "axr: torch.Size([128, 1])\n",
      "evox: torch.Size([128, 8])\n",
      "tm: torch.Size([8])\n",
      "be: torch.Size([8])\n",
      "bf: torch.Size([8])\n",
      "adc: torch.Size([128, 1])\n",
      "sigma: torch.Size([128, 1])\n",
      "axr: torch.Size([128, 1])\n",
      "evox: torch.Size([128, 8])\n",
      "tm: torch.Size([8])\n",
      "be: torch.Size([8])\n",
      "bf: torch.Size([8])\n",
      "adc: torch.Size([128, 1])\n",
      "sigma: torch.Size([128, 1])\n",
      "axr: torch.Size([128, 1])\n",
      "evox: torch.Size([128, 8])\n",
      "tm: torch.Size([8])\n",
      "be: torch.Size([8])\n",
      "bf: torch.Size([8])\n",
      "adc: torch.Size([128, 1])\n",
      "sigma: torch.Size([128, 1])\n",
      "axr: torch.Size([128, 1])\n",
      "evox: torch.Size([128, 8])\n",
      "loss: 0.20932437293231487\n",
      "-----------------------------------------------------------------\n",
      "epoch: 66; bad epochs: 1\n"
     ]
    },
    {
     "name": "stderr",
     "output_type": "stream",
     "text": [
      "100%|██████████| 7/7 [00:00<00:00, 278.53it/s]\n"
     ]
    },
    {
     "name": "stdout",
     "output_type": "stream",
     "text": [
      "tm: torch.Size([8])\n",
      "be: torch.Size([8])\n",
      "bf: torch.Size([8])\n",
      "adc: torch.Size([128, 1])\n",
      "sigma: torch.Size([128, 1])\n",
      "axr: torch.Size([128, 1])\n",
      "evox: torch.Size([128, 8])\n",
      "tm: torch.Size([8])\n",
      "be: torch.Size([8])\n",
      "bf: torch.Size([8])\n",
      "adc: torch.Size([128, 1])\n",
      "sigma: torch.Size([128, 1])\n",
      "axr: torch.Size([128, 1])\n",
      "evox: torch.Size([128, 8])\n",
      "tm: torch.Size([8])\n",
      "be: torch.Size([8])\n",
      "bf: torch.Size([8])\n",
      "adc: torch.Size([128, 1])\n",
      "sigma: torch.Size([128, 1])\n",
      "axr: torch.Size([128, 1])\n",
      "evox: torch.Size([128, 8])\n",
      "tm: torch.Size([8])\n",
      "be: torch.Size([8])\n",
      "bf: torch.Size([8])\n",
      "adc: torch.Size([128, 1])\n",
      "sigma: torch.Size([128, 1])\n",
      "axr: torch.Size([128, 1])\n",
      "evox: torch.Size([128, 8])\n",
      "tm: torch.Size([8])\n",
      "be: torch.Size([8])\n",
      "bf: torch.Size([8])\n",
      "adc: torch.Size([128, 1])\n",
      "sigma: torch.Size([128, 1])\n",
      "axr: torch.Size([128, 1])\n",
      "evox: torch.Size([128, 8])\n",
      "tm: torch.Size([8])\n",
      "be: torch.Size([8])\n",
      "bf: torch.Size([8])\n",
      "adc: torch.Size([128, 1])\n",
      "sigma: torch.Size([128, 1])\n",
      "axr: torch.Size([128, 1])\n",
      "evox: torch.Size([128, 8])\n",
      "tm: torch.Size([8])\n",
      "be: torch.Size([8])\n",
      "bf: torch.Size([8])\n",
      "adc: torch.Size([128, 1])\n",
      "sigma: torch.Size([128, 1])\n",
      "axr: torch.Size([128, 1])\n",
      "evox: torch.Size([128, 8])\n",
      "loss: 0.2131057996302843\n",
      "-----------------------------------------------------------------\n",
      "epoch: 67; bad epochs: 2\n"
     ]
    },
    {
     "name": "stderr",
     "output_type": "stream",
     "text": [
      "  0%|          | 0/7 [00:00<?, ?it/s]"
     ]
    },
    {
     "name": "stdout",
     "output_type": "stream",
     "text": [
      "tm: torch.Size([8])\n",
      "be: torch.Size([8])\n",
      "bf: torch.Size([8])\n",
      "adc: torch.Size([128, 1])\n",
      "sigma: torch.Size([128, 1])\n",
      "axr: torch.Size([128, 1])\n",
      "evox: torch.Size([128, 8])\n",
      "tm: torch.Size([8])\n",
      "be: torch.Size([8])\n",
      "bf: torch.Size([8])\n",
      "adc: torch.Size([128, 1])\n",
      "sigma: torch.Size([128, 1])\n",
      "axr: torch.Size([128, 1])\n",
      "evox: torch.Size([128, 8])\n",
      "tm: torch.Size([8])\n",
      "be: torch.Size([8])\n",
      "bf: torch.Size([8])\n",
      "adc: torch.Size([128, 1])\n",
      "sigma: torch.Size([128, 1])\n",
      "axr: torch.Size([128, 1])\n",
      "evox: torch.Size([128, 8])\n",
      "tm: torch.Size([8])\n",
      "be: torch.Size([8])\n",
      "bf: torch.Size([8])\n",
      "adc: torch.Size([128, 1])\n",
      "sigma: torch.Size([128, 1])\n",
      "axr: torch.Size([128, 1])\n",
      "evox: torch.Size([128, 8])\n"
     ]
    },
    {
     "name": "stderr",
     "output_type": "stream",
     "text": [
      "100%|██████████| 7/7 [00:00<00:00, 145.17it/s]\n"
     ]
    },
    {
     "name": "stdout",
     "output_type": "stream",
     "text": [
      "tm: torch.Size([8])\n",
      "be: torch.Size([8])\n",
      "bf: torch.Size([8])\n",
      "adc: torch.Size([128, 1])\n",
      "sigma: torch.Size([128, 1])\n",
      "axr: torch.Size([128, 1])\n",
      "evox: torch.Size([128, 8])\n",
      "tm: torch.Size([8])\n",
      "be: torch.Size([8])\n",
      "bf: torch.Size([8])\n",
      "adc: torch.Size([128, 1])\n",
      "sigma: torch.Size([128, 1])\n",
      "axr: torch.Size([128, 1])\n",
      "evox: torch.Size([128, 8])\n",
      "tm: torch.Size([8])\n",
      "be: torch.Size([8])\n",
      "bf: torch.Size([8])\n",
      "adc: torch.Size([128, 1])\n",
      "sigma: torch.Size([128, 1])\n",
      "axr: torch.Size([128, 1])\n",
      "evox: torch.Size([128, 8])\n",
      "loss: 0.21423622407019138\n",
      "-----------------------------------------------------------------\n",
      "epoch: 68; bad epochs: 3\n"
     ]
    },
    {
     "name": "stderr",
     "output_type": "stream",
     "text": [
      "100%|██████████| 7/7 [00:00<00:00, 218.03it/s]\n"
     ]
    },
    {
     "name": "stdout",
     "output_type": "stream",
     "text": [
      "tm: torch.Size([8])\n",
      "be: torch.Size([8])\n",
      "bf: torch.Size([8])\n",
      "adc: torch.Size([128, 1])\n",
      "sigma: torch.Size([128, 1])\n",
      "axr: torch.Size([128, 1])\n",
      "evox: torch.Size([128, 8])\n",
      "tm: torch.Size([8])\n",
      "be: torch.Size([8])\n",
      "bf: torch.Size([8])\n",
      "adc: torch.Size([128, 1])\n",
      "sigma: torch.Size([128, 1])\n",
      "axr: torch.Size([128, 1])\n",
      "evox: torch.Size([128, 8])\n",
      "tm: torch.Size([8])\n",
      "be: torch.Size([8])\n",
      "bf: torch.Size([8])\n",
      "adc: torch.Size([128, 1])\n",
      "sigma: torch.Size([128, 1])\n",
      "axr: torch.Size([128, 1])\n",
      "evox: torch.Size([128, 8])\n",
      "tm: torch.Size([8])\n",
      "be: torch.Size([8])\n",
      "bf: torch.Size([8])\n",
      "adc: torch.Size([128, 1])\n",
      "sigma: torch.Size([128, 1])\n",
      "axr: torch.Size([128, 1])\n",
      "evox: torch.Size([128, 8])\n",
      "tm: torch.Size([8])\n",
      "be: torch.Size([8])\n",
      "bf: torch.Size([8])\n",
      "adc: torch.Size([128, 1])\n",
      "sigma: torch.Size([128, 1])\n",
      "axr: torch.Size([128, 1])\n",
      "evox: torch.Size([128, 8])\n",
      "tm: torch.Size([8])\n",
      "be: torch.Size([8])\n",
      "bf: torch.Size([8])\n",
      "adc: torch.Size([128, 1])\n",
      "sigma: torch.Size([128, 1])\n",
      "axr: torch.Size([128, 1])\n",
      "evox: torch.Size([128, 8])\n",
      "tm: torch.Size([8])\n",
      "be: torch.Size([8])\n",
      "bf: torch.Size([8])\n",
      "adc: torch.Size([128, 1])\n",
      "sigma: torch.Size([128, 1])\n",
      "axr: torch.Size([128, 1])\n",
      "evox: torch.Size([128, 8])\n",
      "loss: 0.21318518370389938\n",
      "-----------------------------------------------------------------\n",
      "epoch: 69; bad epochs: 4\n"
     ]
    },
    {
     "name": "stderr",
     "output_type": "stream",
     "text": [
      "  0%|          | 0/7 [00:00<?, ?it/s]"
     ]
    },
    {
     "name": "stdout",
     "output_type": "stream",
     "text": [
      "tm: torch.Size([8])\n",
      "be: torch.Size([8])\n",
      "bf: torch.Size([8])\n",
      "adc: torch.Size([128, 1])\n",
      "sigma: torch.Size([128, 1])\n",
      "axr: torch.Size([128, 1])\n",
      "evox: torch.Size([128, 8])\n",
      "tm: torch.Size([8])\n",
      "be: torch.Size([8])\n",
      "bf: torch.Size([8])\n",
      "adc: torch.Size([128, 1])\n",
      "sigma: torch.Size([128, 1])\n",
      "axr: torch.Size([128, 1])\n",
      "evox: torch.Size([128, 8])\n",
      "tm: torch.Size([8])\n",
      "be: torch.Size([8])\n",
      "bf: torch.Size([8])\n",
      "adc: torch.Size([128, 1])\n",
      "sigma: torch.Size([128, 1])\n",
      "axr: torch.Size([128, 1])\n",
      "evox: torch.Size([128, 8])\n",
      "tm: torch.Size([8])\n",
      "be: torch.Size([8])\n",
      "bf: torch.Size([8])\n",
      "adc: torch.Size([128, 1])\n",
      "sigma: torch.Size([128, 1])\n",
      "axr: torch.Size([128, 1])\n",
      "evox: torch.Size([128, 8])\n",
      "tm: torch.Size([8])\n",
      "be: torch.Size([8])\n",
      "bf: torch.Size([8])\n",
      "adc: torch.Size([128, 1])\n",
      "sigma: torch.Size([128, 1])\n",
      "axr: torch.Size([128, 1])\n",
      "evox: torch.Size([128, 8])\n",
      "tm: torch.Size([8])\n",
      "be: torch.Size([8])\n",
      "bf: torch.Size([8])\n",
      "adc: torch.Size([128, 1])\n",
      "sigma: torch.Size([128, 1])\n",
      "axr: torch.Size([128, 1])\n",
      "evox: torch.Size([128, 8])\n",
      "tm: torch.Size([8])\n",
      "be: torch.Size([8])\n",
      "bf: torch.Size([8])\n",
      "adc: torch.Size([128, 1])\n",
      "sigma: torch.Size([128, 1])\n",
      "axr: torch.Size([128, 1])\n",
      "evox: torch.Size([128, 8])\n"
     ]
    },
    {
     "name": "stderr",
     "output_type": "stream",
     "text": [
      "100%|██████████| 7/7 [00:00<00:00, 126.59it/s]\n"
     ]
    },
    {
     "name": "stdout",
     "output_type": "stream",
     "text": [
      "loss: 0.20884756743907928\n",
      "-----------------------------------------------------------------\n",
      "epoch: 70; bad epochs: 5\n"
     ]
    },
    {
     "name": "stderr",
     "output_type": "stream",
     "text": [
      "  0%|          | 0/7 [00:00<?, ?it/s]"
     ]
    },
    {
     "name": "stdout",
     "output_type": "stream",
     "text": [
      "tm: torch.Size([8])\n",
      "be: torch.Size([8])\n",
      "bf: torch.Size([8])\n",
      "adc: torch.Size([128, 1])\n",
      "sigma: torch.Size([128, 1])\n",
      "axr: torch.Size([128, 1])\n",
      "evox: torch.Size([128, 8])\n",
      "tm: torch.Size([8])\n",
      "be: torch.Size([8])\n",
      "bf: torch.Size([8])\n",
      "adc: torch.Size([128, 1])\n",
      "sigma: torch.Size([128, 1])\n",
      "axr: torch.Size([128, 1])\n",
      "evox: torch.Size([128, 8])\n",
      "tm: torch.Size([8])\n",
      "be: torch.Size([8])\n",
      "bf: torch.Size([8])\n",
      "adc: torch.Size([128, 1])\n",
      "sigma: torch.Size([128, 1])\n",
      "axr: torch.Size([128, 1])\n",
      "evox: torch.Size([128, 8])\n",
      "tm: torch.Size([8])\n",
      "be: torch.Size([8])\n",
      "bf: torch.Size([8])\n",
      "adc: torch.Size([128, 1])\n",
      "sigma: torch.Size([128, 1])\n",
      "axr: torch.Size([128, 1])\n",
      "evox: torch.Size([128, 8])\n"
     ]
    },
    {
     "name": "stderr",
     "output_type": "stream",
     "text": [
      "100%|██████████| 7/7 [00:00<00:00, 182.67it/s]\n"
     ]
    },
    {
     "name": "stdout",
     "output_type": "stream",
     "text": [
      "tm: torch.Size([8])\n",
      "be: torch.Size([8])\n",
      "bf: torch.Size([8])\n",
      "adc: torch.Size([128, 1])\n",
      "sigma: torch.Size([128, 1])\n",
      "axr: torch.Size([128, 1])\n",
      "evox: torch.Size([128, 8])\n",
      "tm: torch.Size([8])\n",
      "be: torch.Size([8])\n",
      "bf: torch.Size([8])\n",
      "adc: torch.Size([128, 1])\n",
      "sigma: torch.Size([128, 1])\n",
      "axr: torch.Size([128, 1])\n",
      "evox: torch.Size([128, 8])\n",
      "tm: torch.Size([8])\n",
      "be: torch.Size([8])\n",
      "bf: torch.Size([8])\n",
      "adc: torch.Size([128, 1])\n",
      "sigma: torch.Size([128, 1])\n",
      "axr: torch.Size([128, 1])\n",
      "evox: torch.Size([128, 8])\n",
      "loss: 0.20547906681895256\n",
      "####################### saving good model #######################\n",
      "-----------------------------------------------------------------\n",
      "epoch: 71; bad epochs: 0\n"
     ]
    },
    {
     "name": "stderr",
     "output_type": "stream",
     "text": [
      "100%|██████████| 7/7 [00:00<00:00, 218.59it/s]\n"
     ]
    },
    {
     "name": "stdout",
     "output_type": "stream",
     "text": [
      "tm: torch.Size([8])\n",
      "be: torch.Size([8])\n",
      "bf: torch.Size([8])\n",
      "adc: torch.Size([128, 1])\n",
      "sigma: torch.Size([128, 1])\n",
      "axr: torch.Size([128, 1])\n",
      "evox: torch.Size([128, 8])\n",
      "tm: torch.Size([8])\n",
      "be: torch.Size([8])\n",
      "bf: torch.Size([8])\n",
      "adc: torch.Size([128, 1])\n",
      "sigma: torch.Size([128, 1])\n",
      "axr: torch.Size([128, 1])\n",
      "evox: torch.Size([128, 8])\n",
      "tm: torch.Size([8])\n",
      "be: torch.Size([8])\n",
      "bf: torch.Size([8])\n",
      "adc: torch.Size([128, 1])\n",
      "sigma: torch.Size([128, 1])\n",
      "axr: torch.Size([128, 1])\n",
      "evox: torch.Size([128, 8])\n",
      "tm: torch.Size([8])\n",
      "be: torch.Size([8])\n",
      "bf: torch.Size([8])\n",
      "adc: torch.Size([128, 1])\n",
      "sigma: torch.Size([128, 1])\n",
      "axr: torch.Size([128, 1])\n",
      "evox: torch.Size([128, 8])\n",
      "tm: torch.Size([8])\n",
      "be: torch.Size([8])\n",
      "bf: torch.Size([8])\n",
      "adc: torch.Size([128, 1])\n",
      "sigma: torch.Size([128, 1])\n",
      "axr: torch.Size([128, 1])\n",
      "evox: torch.Size([128, 8])\n",
      "tm: torch.Size([8])\n",
      "be: torch.Size([8])\n",
      "bf: torch.Size([8])\n",
      "adc: torch.Size([128, 1])\n",
      "sigma: torch.Size([128, 1])\n",
      "axr: torch.Size([128, 1])\n",
      "evox: torch.Size([128, 8])\n",
      "tm: torch.Size([8])\n",
      "be: torch.Size([8])\n",
      "bf: torch.Size([8])\n",
      "adc: torch.Size([128, 1])\n",
      "sigma: torch.Size([128, 1])\n",
      "axr: torch.Size([128, 1])\n",
      "evox: torch.Size([128, 8])\n",
      "loss: 0.20693626999855042\n",
      "-----------------------------------------------------------------\n",
      "epoch: 72; bad epochs: 1\n"
     ]
    },
    {
     "name": "stderr",
     "output_type": "stream",
     "text": [
      "  0%|          | 0/7 [00:00<?, ?it/s]"
     ]
    },
    {
     "name": "stdout",
     "output_type": "stream",
     "text": [
      "tm: torch.Size([8])\n",
      "be: torch.Size([8])\n",
      "bf: torch.Size([8])\n",
      "adc: torch.Size([128, 1])\n",
      "sigma: torch.Size([128, 1])\n",
      "axr: torch.Size([128, 1])\n",
      "evox: torch.Size([128, 8])\n",
      "tm: torch.Size([8])\n",
      "be: torch.Size([8])\n",
      "bf: torch.Size([8])\n",
      "adc: torch.Size([128, 1])\n",
      "sigma: torch.Size([128, 1])\n",
      "axr: torch.Size([128, 1])\n",
      "evox: torch.Size([128, 8])\n",
      "tm: torch.Size([8])\n",
      "be: torch.Size([8])\n",
      "bf: torch.Size([8])\n",
      "adc: torch.Size([128, 1])\n",
      "sigma: torch.Size([128, 1])\n",
      "axr: torch.Size([128, 1])\n",
      "evox: torch.Size([128, 8])\n",
      "tm: torch.Size([8])\n",
      "be: torch.Size([8])\n",
      "bf: torch.Size([8])\n",
      "adc: torch.Size([128, 1])\n",
      "sigma: torch.Size([128, 1])\n",
      "axr: torch.Size([128, 1])\n",
      "evox: torch.Size([128, 8])\n",
      "tm: torch.Size([8])\n",
      "be: torch.Size([8])\n",
      "bf: torch.Size([8])\n",
      "adc: torch.Size([128, 1])\n",
      "sigma: torch.Size([128, 1])\n",
      "axr: torch.Size([128, 1])\n",
      "evox: torch.Size([128, 8])\n",
      "tm: torch.Size([8])\n",
      "be: torch.Size([8])\n",
      "bf: torch.Size([8])\n",
      "adc: torch.Size([128, 1])\n",
      "sigma: torch.Size([128, 1])\n",
      "axr: torch.Size([128, 1])\n",
      "evox: torch.Size([128, 8])\n"
     ]
    },
    {
     "name": "stderr",
     "output_type": "stream",
     "text": [
      "100%|██████████| 7/7 [00:00<00:00, 129.29it/s]\n"
     ]
    },
    {
     "name": "stdout",
     "output_type": "stream",
     "text": [
      "tm: torch.Size([8])\n",
      "be: torch.Size([8])\n",
      "bf: torch.Size([8])\n",
      "adc: torch.Size([128, 1])\n",
      "sigma: torch.Size([128, 1])\n",
      "axr: torch.Size([128, 1])\n",
      "evox: torch.Size([128, 8])\n",
      "loss: 0.20646615512669086\n",
      "-----------------------------------------------------------------\n",
      "epoch: 73; bad epochs: 2\n"
     ]
    },
    {
     "name": "stderr",
     "output_type": "stream",
     "text": [
      "  0%|          | 0/7 [00:00<?, ?it/s]"
     ]
    },
    {
     "name": "stdout",
     "output_type": "stream",
     "text": [
      "tm: torch.Size([8])\n",
      "be: torch.Size([8])\n",
      "bf: torch.Size([8])\n",
      "adc: torch.Size([128, 1])\n",
      "sigma: torch.Size([128, 1])\n",
      "axr: torch.Size([128, 1])\n",
      "evox: torch.Size([128, 8])\n",
      "tm: torch.Size([8])\n",
      "be: torch.Size([8])\n",
      "bf: torch.Size([8])\n",
      "adc: torch.Size([128, 1])\n",
      "sigma: torch.Size([128, 1])\n",
      "axr: torch.Size([128, 1])\n",
      "evox: torch.Size([128, 8])\n",
      "tm: torch.Size([8])\n",
      "be: torch.Size([8])\n",
      "bf: torch.Size([8])\n",
      "adc: torch.Size([128, 1])\n",
      "sigma: torch.Size([128, 1])\n",
      "axr: torch.Size([128, 1])\n",
      "evox: torch.Size([128, 8])\n",
      "tm:"
     ]
    },
    {
     "name": "stderr",
     "output_type": "stream",
     "text": [
      "100%|██████████| 7/7 [00:00<00:00, 103.04it/s]"
     ]
    },
    {
     "name": "stdout",
     "output_type": "stream",
     "text": [
      " torch.Size([8])\n",
      "be: torch.Size([8])\n",
      "bf: torch.Size([8])\n",
      "adc: torch.Size([128, 1])\n",
      "sigma: torch.Size([128, 1])\n",
      "axr: torch.Size([128, 1])\n",
      "evox: torch.Size([128, 8])\n",
      "tm: torch.Size([8])\n",
      "be: torch.Size([8])\n",
      "bf: torch.Size([8])\n",
      "adc: torch.Size([128, 1])\n",
      "sigma: torch.Size([128, 1])\n",
      "axr: torch.Size([128, 1])\n",
      "evox: torch.Size([128, 8])\n",
      "tm: torch.Size([8])\n",
      "be: torch.Size([8])\n",
      "bf: torch.Size([8])\n",
      "adc: torch.Size([128, 1])\n",
      "sigma: torch.Size([128, 1])\n",
      "axr: torch.Size([128, 1])\n",
      "evox: torch.Size([128, 8])\n",
      "tm: torch.Size([8])\n",
      "be: torch.Size([8])\n",
      "bf: torch.Size([8])\n",
      "adc: torch.Size([128, 1])\n",
      "sigma: torch.Size([128, 1])\n",
      "axr: torch.Size([128, 1])\n",
      "evox: torch.Size([128, 8])\n",
      "loss: 0.2045756634324789\n",
      "####################### saving good model #######################\n"
     ]
    },
    {
     "name": "stderr",
     "output_type": "stream",
     "text": [
      "\n"
     ]
    },
    {
     "name": "stdout",
     "output_type": "stream",
     "text": [
      "-----------------------------------------------------------------\n",
      "epoch: 74; bad epochs: 0\n"
     ]
    },
    {
     "name": "stderr",
     "output_type": "stream",
     "text": [
      "100%|██████████| 7/7 [00:00<00:00, 202.94it/s]"
     ]
    },
    {
     "name": "stdout",
     "output_type": "stream",
     "text": [
      "tm: torch.Size([8])\n",
      "be: torch.Size([8])\n",
      "bf: torch.Size([8])\n",
      "adc: torch.Size([128, 1])\n",
      "sigma: torch.Size([128, 1])\n",
      "axr: torch.Size([128, 1])\n",
      "evox: torch.Size([128, 8])\n",
      "tm: torch.Size([8])\n",
      "be: torch.Size([8])\n",
      "bf: torch.Size([8])\n",
      "adc: torch.Size([128, 1])\n",
      "sigma: torch.Size([128, 1])\n",
      "axr: torch.Size([128, 1])\n",
      "evox: torch.Size([128, 8])\n",
      "tm: torch.Size([8])\n",
      "be: torch.Size([8])\n",
      "bf: torch.Size([8])\n",
      "adc: torch.Size([128, 1])\n",
      "sigma: torch.Size([128, 1])\n",
      "axr: torch.Size([128, 1])\n",
      "evox: torch.Size([128, 8])\n",
      "tm: torch.Size([8])\n",
      "be: torch.Size([8])\n",
      "bf: torch.Size([8])\n",
      "adc: torch.Size([128, 1])\n",
      "sigma: torch.Size([128, 1])\n",
      "axr: torch.Size([128, 1])\n",
      "evox: torch.Size([128, 8])\n",
      "tm: torch.Size([8])\n",
      "be: torch.Size([8])\n",
      "bf: torch.Size([8])\n",
      "adc: torch.Size([128, 1])\n",
      "sigma: torch.Size([128, 1])\n",
      "axr: torch.Size([128, 1])\n",
      "evox: torch.Size([128, 8])\n",
      "tm: torch.Size([8])\n",
      "be: torch.Size([8])\n",
      "bf: torch.Size([8])\n",
      "adc: torch.Size([128, 1])\n",
      "sigma: torch.Size([128, 1])\n",
      "axr: torch.Size([128, 1])\n",
      "evox: torch.Size([128, 8])\n",
      "tm: torch.Size([8])\n",
      "be: torch.Size([8])\n",
      "bf: torch.Size([8])\n",
      "adc: torch.Size([128, 1])\n",
      "sigma: torch.Size([128, 1])\n",
      "axr: torch.Size([128, 1])\n",
      "evox: torch.Size([128, 8])\n",
      "loss: 0.20464372634887695\n",
      "-----------------------------------------------------------------\n",
      "epoch: 75; bad epochs: 1\n"
     ]
    },
    {
     "name": "stderr",
     "output_type": "stream",
     "text": [
      "\n",
      "  0%|          | 0/7 [00:00<?, ?it/s]"
     ]
    },
    {
     "name": "stdout",
     "output_type": "stream",
     "text": [
      "tm: torch.Size([8])\n",
      "be: torch.Size([8])\n",
      "bf: torch.Size([8])\n",
      "adc: torch.Size([128, 1])\n",
      "sigma: torch.Size([128, 1])\n",
      "axr: torch.Size([128, 1])\n",
      "evox: torch.Size([128, 8])\n",
      "tm: torch.Size([8])\n",
      "be: torch.Size([8])\n",
      "bf: torch.Size([8])\n",
      "adc: torch.Size([128, 1])\n",
      "sigma: torch.Size([128, 1])\n",
      "axr: torch.Size([128, 1])\n",
      "evox: torch.Size([128, 8])\n",
      "tm: torch.Size([8])\n",
      "be: torch.Size([8])\n",
      "bf: torch.Size([8])\n",
      "adc: torch.Size([128, 1])\n",
      "sigma: torch.Size([128, 1])\n",
      "axr: torch.Size([128, 1])\n",
      "evox: torch.Size([128, 8])\n",
      "tm: torch.Size([8])\n",
      "be: torch.Size([8])\n",
      "bf: torch.Size([8])\n",
      "adc: torch.Size([128, 1])\n",
      "sigma: torch.Size([128, 1])\n",
      "axr: torch.Size([128, 1])\n",
      "evox: torch.Size([128, 8])\n"
     ]
    },
    {
     "name": "stderr",
     "output_type": "stream",
     "text": [
      " 57%|█████▋    | 4/7 [00:00<00:00, 33.97it/s]"
     ]
    },
    {
     "name": "stdout",
     "output_type": "stream",
     "text": [
      "tm:"
     ]
    },
    {
     "name": "stderr",
     "output_type": "stream",
     "text": [
      "100%|██████████| 7/7 [00:00<00:00, 46.66it/s]\n"
     ]
    },
    {
     "name": "stdout",
     "output_type": "stream",
     "text": [
      " torch.Size([8])\n",
      "be: torch.Size([8])\n",
      "bf: torch.Size([8])\n",
      "adc: torch.Size([128, 1])\n",
      "sigma: torch.Size([128, 1])\n",
      "axr: torch.Size([128, 1])\n",
      "evox: torch.Size([128, 8])\n",
      "tm: torch.Size([8])\n",
      "be: torch.Size([8])\n",
      "bf: torch.Size([8])\n",
      "adc: torch.Size([128, 1])\n",
      "sigma: torch.Size([128, 1])\n",
      "axr: torch.Size([128, 1])\n",
      "evox: torch.Size([128, 8])\n",
      "tm: torch.Size([8])\n",
      "be: torch.Size([8])\n",
      "bf: torch.Size([8])\n",
      "adc: torch.Size([128, 1])\n",
      "sigma: torch.Size([128, 1])\n",
      "axr: torch.Size([128, 1])\n",
      "evox: torch.Size([128, 8])\n",
      "loss: 0.2021828480064869\n",
      "####################### saving good model #######################\n",
      "-----------------------------------------------------------------\n",
      "epoch: 76; bad epochs: 0\n"
     ]
    },
    {
     "name": "stderr",
     "output_type": "stream",
     "text": [
      "  0%|          | 0/7 [00:00<?, ?it/s]"
     ]
    },
    {
     "name": "stdout",
     "output_type": "stream",
     "text": [
      "tm: torch.Size([8])\n",
      "be: torch.Size([8])\n",
      "bf: torch.Size([8])\n",
      "adc: torch.Size([128, 1])\n",
      "sigma: torch.Size([128, 1])\n",
      "axr: torch.Size([128, 1])\n",
      "evox: torch.Size([128, 8])\n",
      "tm: torch.Size([8])\n",
      "be: torch.Size([8])\n",
      "bf: torch.Size([8])\n",
      "adc: torch.Size([128, 1])\n",
      "sigma: torch.Size([128, 1])\n",
      "axr: torch.Size([128, 1])\n",
      "evox: torch.Size([128, 8])\n",
      "tm: torch.Size([8])\n",
      "be: torch.Size([8])\n",
      "bf: torch.Size([8])\n",
      "adc: torch.Size([128, 1])\n",
      "sigma: torch.Size([128, 1])\n",
      "axr: torch.Size([128, 1])\n",
      "evox: torch.Size([128, 8])\n"
     ]
    },
    {
     "name": "stderr",
     "output_type": "stream",
     "text": [
      "100%|██████████| 7/7 [00:00<00:00, 214.90it/s]"
     ]
    },
    {
     "name": "stdout",
     "output_type": "stream",
     "text": [
      "tm: torch.Size([8])\n",
      "be: torch.Size([8])\n",
      "bf: torch.Size([8])\n",
      "adc: torch.Size([128, 1])\n",
      "sigma: torch.Size([128, 1])\n",
      "axr: torch.Size([128, 1])\n",
      "evox: torch.Size([128, 8])\n",
      "tm: torch.Size([8])\n",
      "be: torch.Size([8])\n",
      "bf: torch.Size([8])\n",
      "adc: torch.Size([128, 1])\n",
      "sigma: torch.Size([128, 1])\n",
      "axr: torch.Size([128, 1])\n",
      "evox: torch.Size([128, 8])\n",
      "tm: torch.Size([8])\n",
      "be: torch.Size([8])\n",
      "bf: torch.Size([8])\n",
      "adc: torch.Size([128, 1])\n",
      "sigma: torch.Size([128, 1])\n",
      "axr: torch.Size([128, 1])\n",
      "evox: torch.Size([128, 8])\n",
      "tm: torch.Size([8])\n",
      "be: torch.Size([8])\n",
      "bf: torch.Size([8])\n",
      "adc: torch.Size([128, 1])\n",
      "sigma: torch.Size([128, 1])\n",
      "axr: torch.Size([128, 1])\n",
      "evox: torch.Size([128, 8])\n"
     ]
    },
    {
     "name": "stderr",
     "output_type": "stream",
     "text": [
      "\n"
     ]
    },
    {
     "name": "stdout",
     "output_type": "stream",
     "text": [
      "loss: 0.19772417098283768\n",
      "####################### saving good model #######################\n",
      "-----------------------------------------------------------------\n",
      "epoch: 77; bad epochs: 0\n"
     ]
    },
    {
     "name": "stderr",
     "output_type": "stream",
     "text": [
      "100%|██████████| 7/7 [00:00<00:00, 273.78it/s]\n"
     ]
    },
    {
     "name": "stdout",
     "output_type": "stream",
     "text": [
      "tm: torch.Size([8])\n",
      "be: torch.Size([8])\n",
      "bf: torch.Size([8])\n",
      "adc: torch.Size([128, 1])\n",
      "sigma: torch.Size([128, 1])\n",
      "axr: torch.Size([128, 1])\n",
      "evox: torch.Size([128, 8])\n",
      "tm: torch.Size([8])\n",
      "be: torch.Size([8])\n",
      "bf: torch.Size([8])\n",
      "adc: torch.Size([128, 1])\n",
      "sigma: torch.Size([128, 1])\n",
      "axr: torch.Size([128, 1])\n",
      "evox: torch.Size([128, 8])\n",
      "tm: torch.Size([8])\n",
      "be: torch.Size([8])\n",
      "bf: torch.Size([8])\n",
      "adc: torch.Size([128, 1])\n",
      "sigma: torch.Size([128, 1])\n",
      "axr: torch.Size([128, 1])\n",
      "evox: torch.Size([128, 8])\n",
      "tm: torch.Size([8])\n",
      "be: torch.Size([8])\n",
      "bf: torch.Size([8])\n",
      "adc: torch.Size([128, 1])\n",
      "sigma: torch.Size([128, 1])\n",
      "axr: torch.Size([128, 1])\n",
      "evox: torch.Size([128, 8])\n",
      "tm: torch.Size([8])\n",
      "be: torch.Size([8])\n",
      "bf: torch.Size([8])\n",
      "adc: torch.Size([128, 1])\n",
      "sigma: torch.Size([128, 1])\n",
      "axr: torch.Size([128, 1])\n",
      "evox: torch.Size([128, 8])\n",
      "tm: torch.Size([8])\n",
      "be: torch.Size([8])\n",
      "bf: torch.Size([8])\n",
      "adc: torch.Size([128, 1])\n",
      "sigma: torch.Size([128, 1])\n",
      "axr: torch.Size([128, 1])\n",
      "evox: torch.Size([128, 8])\n",
      "tm: torch.Size([8])\n",
      "be: torch.Size([8])\n",
      "bf: torch.Size([8])\n",
      "adc: torch.Size([128, 1])\n",
      "sigma: torch.Size([128, 1])\n",
      "axr: torch.Size([128, 1])\n",
      "evox: torch.Size([128, 8])\n",
      "loss: 0.19917504116892815\n",
      "-----------------------------------------------------------------\n",
      "epoch: 78; bad epochs: 1\n"
     ]
    },
    {
     "name": "stderr",
     "output_type": "stream",
     "text": [
      "  0%|          | 0/7 [00:00<?, ?it/s]"
     ]
    },
    {
     "name": "stdout",
     "output_type": "stream",
     "text": [
      "tm: torch.Size([8])\n",
      "be: torch.Size([8])\n",
      "bf: torch.Size([8])\n",
      "adc: torch.Size([128, 1])\n",
      "sigma: torch.Size([128, 1])\n",
      "axr: torch.Size([128, 1])\n",
      "evox: torch.Size([128, 8])\n",
      "tm: torch.Size([8])\n",
      "be: torch.Size([8])\n",
      "bf: torch.Size([8])\n",
      "adc: torch.Size([128, 1])\n",
      "sigma: torch.Size([128, 1])\n",
      "axr: torch.Size([128, 1])\n",
      "evox: torch.Size([128, 8])\n",
      "tm: torch.Size([8])\n",
      "be: torch.Size([8])\n",
      "bf: torch.Size([8])\n",
      "adc: torch.Size([128, 1])\n",
      "sigma: torch.Size([128, 1])\n",
      "axr: torch.Size([128, 1])\n",
      "evox: torch.Size([128, 8])\n",
      "tm: torch.Size([8])\n",
      "be: torch.Size([8])\n",
      "bf: torch.Size([8])\n",
      "adc: torch.Size([128, 1])\n",
      "sigma: torch.Size([128, 1])\n",
      "axr: torch.Size([128, 1])\n",
      "evox: torch.Size([128, 8])\n",
      "tm: torch.Size([8])\n",
      "be: torch.Size([8])\n",
      "bf: torch.Size([8])\n",
      "adc: torch.Size([128, 1])\n",
      "sigma: torch.Size([128, 1])\n",
      "axr: torch.Size([128, 1])\n",
      "evox: torch.Size([128, 8])\n",
      "tm: torch.Size([8])\n",
      "be: torch.Size([8])\n",
      "bf: torch.Size([8])\n",
      "adc: torch.Size([128, 1])\n",
      "sigma: torch.Size([128, 1])\n",
      "axr: torch.Size([128, 1])\n",
      "evox: torch.Size([128, 8])\n"
     ]
    },
    {
     "name": "stderr",
     "output_type": "stream",
     "text": [
      "100%|██████████| 7/7 [00:00<00:00, 221.49it/s]\n"
     ]
    },
    {
     "name": "stdout",
     "output_type": "stream",
     "text": [
      "tm: torch.Size([8])\n",
      "be: torch.Size([8])\n",
      "bf: torch.Size([8])\n",
      "adc: torch.Size([128, 1])\n",
      "sigma: torch.Size([128, 1])\n",
      "axr: torch.Size([128, 1])\n",
      "evox: torch.Size([128, 8])\n",
      "loss: 0.19663101807236671\n",
      "####################### saving good model #######################\n",
      "-----------------------------------------------------------------\n",
      "epoch: 79; bad epochs: 0\n"
     ]
    },
    {
     "name": "stderr",
     "output_type": "stream",
     "text": [
      "  0%|          | 0/7 [00:00<?, ?it/s]"
     ]
    },
    {
     "name": "stdout",
     "output_type": "stream",
     "text": [
      "tm: torch.Size([8])\n",
      "be: torch.Size([8])\n",
      "bf: torch.Size([8])\n",
      "adc: torch.Size([128, 1])\n",
      "sigma: torch.Size([128, 1])\n",
      "axr: torch.Size([128, 1])\n",
      "evox: torch.Size([128, 8])\n",
      "tm: torch.Size([8])\n",
      "be: torch.Size([8])\n",
      "bf: torch.Size([8])\n",
      "adc: torch.Size([128, 1])\n",
      "sigma: torch.Size([128, 1])\n",
      "axr: torch.Size([128, 1])\n",
      "evox: torch.Size([128, 8])\n"
     ]
    },
    {
     "name": "stderr",
     "output_type": "stream",
     "text": [
      "100%|██████████| 7/7 [00:00<00:00, 173.73it/s]\n"
     ]
    },
    {
     "name": "stdout",
     "output_type": "stream",
     "text": [
      "tm: torch.Size([8])\n",
      "be: torch.Size([8])\n",
      "bf: torch.Size([8])\n",
      "adc: torch.Size([128, 1])\n",
      "sigma: torch.Size([128, 1])\n",
      "axr: torch.Size([128, 1])\n",
      "evox: torch.Size([128, 8])\n",
      "tm: torch.Size([8])\n",
      "be: torch.Size([8])\n",
      "bf: torch.Size([8])\n",
      "adc: torch.Size([128, 1])\n",
      "sigma: torch.Size([128, 1])\n",
      "axr: torch.Size([128, 1])\n",
      "evox: torch.Size([128, 8])\n",
      "tm: torch.Size([8])\n",
      "be: torch.Size([8])\n",
      "bf: torch.Size([8])\n",
      "adc: torch.Size([128, 1])\n",
      "sigma: torch.Size([128, 1])\n",
      "axr: torch.Size([128, 1])\n",
      "evox: torch.Size([128, 8])\n",
      "tm: torch.Size([8])\n",
      "be: torch.Size([8])\n",
      "bf: torch.Size([8])\n",
      "adc: torch.Size([128, 1])\n",
      "sigma: torch.Size([128, 1])\n",
      "axr: torch.Size([128, 1])\n",
      "evox: torch.Size([128, 8])\n",
      "tm: torch.Size([8])\n",
      "be: torch.Size([8])\n",
      "bf: torch.Size([8])\n",
      "adc: torch.Size([128, 1])\n",
      "sigma: torch.Size([128, 1])\n",
      "axr: torch.Size([128, 1])\n",
      "evox: torch.Size([128, 8])\n",
      "loss: 0.20058966428041458\n",
      "-----------------------------------------------------------------\n",
      "epoch: 80; bad epochs: 1\n"
     ]
    },
    {
     "name": "stderr",
     "output_type": "stream",
     "text": [
      "  0%|          | 0/7 [00:00<?, ?it/s]"
     ]
    },
    {
     "name": "stdout",
     "output_type": "stream",
     "text": [
      "tm: torch.Size([8])\n",
      "be: torch.Size([8])\n",
      "bf: torch.Size([8])\n",
      "adc: torch.Size([128, 1])\n",
      "sigma: torch.Size([128, 1])\n",
      "axr: torch.Size([128, 1])\n",
      "evox: torch.Size([128, 8])\n",
      "tm: torch.Size([8])\n",
      "be: torch.Size([8])\n",
      "bf: torch.Size([8])\n",
      "adc: torch.Size([128, 1])\n",
      "sigma: torch.Size([128, 1])\n",
      "axr: torch.Size([128, 1])\n",
      "evox: torch.Size([128, 8])\n",
      "tm: torch.Size([8])\n",
      "be: torch.Size([8])\n",
      "bf: torch.Size([8])\n",
      "adc: torch.Size([128, 1])\n",
      "sigma: torch.Size([128, 1])\n",
      "axr: torch.Size([128, 1])\n",
      "evox: torch.Size([128, 8])\n",
      "tm: torch.Size([8])\n",
      "be: torch.Size([8])\n",
      "bf: torch.Size([8])\n",
      "adc: torch.Size([128, 1])\n",
      "sigma: torch.Size([128, 1])\n",
      "axr: torch.Size([128, 1])\n",
      "evox: torch.Size([128, 8])\n",
      "tm: torch.Size([8])\n",
      "be: torch.Size([8])\n",
      "bf: torch.Size([8])\n",
      "adc: torch.Size([128, 1])\n",
      "sigma: torch.Size([128, 1])\n",
      "axr: torch.Size([128, 1])\n",
      "evox: torch.Size([128, 8])\n",
      "tm: torch.Size([8])\n",
      "be: torch.Size([8])\n",
      "bf: torch.Size([8])\n",
      "adc: torch.Size([128, 1])\n",
      "sigma: torch.Size([128, 1])\n",
      "axr: torch.Size([128, 1])\n",
      "evox: torch.Size([128, 8])\n"
     ]
    },
    {
     "name": "stderr",
     "output_type": "stream",
     "text": [
      "100%|██████████| 7/7 [00:00<00:00, 169.14it/s]\n"
     ]
    },
    {
     "name": "stdout",
     "output_type": "stream",
     "text": [
      "tm: torch.Size([8])\n",
      "be: torch.Size([8])\n",
      "bf: torch.Size([8])\n",
      "adc: torch.Size([128, 1])\n",
      "sigma: torch.Size([128, 1])\n",
      "axr: torch.Size([128, 1])\n",
      "evox: torch.Size([128, 8])\n",
      "loss: 0.1993854120373726\n",
      "-----------------------------------------------------------------\n",
      "epoch: 81; bad epochs: 2\n"
     ]
    },
    {
     "name": "stderr",
     "output_type": "stream",
     "text": [
      "  0%|          | 0/7 [00:00<?, ?it/s]"
     ]
    },
    {
     "name": "stdout",
     "output_type": "stream",
     "text": [
      "tm: torch.Size([8])\n",
      "be: torch.Size([8])\n",
      "bf: torch.Size([8])\n",
      "adc: torch.Size([128, 1])\n",
      "sigma: torch.Size([128, 1])\n",
      "axr: torch.Size([128, 1])\n",
      "evox: torch.Size([128, 8])\n",
      "tm: torch.Size([8])\n",
      "be: torch.Size([8])\n",
      "bf: torch.Size([8])\n",
      "adc: torch.Size([128, 1])\n",
      "sigma: torch.Size([128, 1])\n",
      "axr: torch.Size([128, 1])\n",
      "evox: torch.Size([128, 8])\n",
      "tm: torch.Size([8])\n",
      "be: torch.Size([8])\n",
      "bf: torch.Size([8])\n",
      "adc: torch.Size([128, 1])\n",
      "sigma: torch.Size([128, 1])\n",
      "axr: torch.Size([128, 1])\n",
      "evox: torch.Size([128, 8])\n",
      "tm: torch.Size([8])\n",
      "be: torch.Size([8])\n",
      "bf: torch.Size([8])\n",
      "adc: torch.Size([128, 1])\n",
      "sigma: torch.Size([128, 1])\n",
      "axr: torch.Size([128, 1])\n",
      "evox: torch.Size([128, 8])\n"
     ]
    },
    {
     "name": "stderr",
     "output_type": "stream",
     "text": [
      "100%|██████████| 7/7 [00:00<00:00, 128.75it/s]\n"
     ]
    },
    {
     "name": "stdout",
     "output_type": "stream",
     "text": [
      "tm: torch.Size([8])\n",
      "be: torch.Size([8])\n",
      "bf: torch.Size([8])\n",
      "adc: torch.Size([128, 1])\n",
      "sigma: torch.Size([128, 1])\n",
      "axr: torch.Size([128, 1])\n",
      "evox: torch.Size([128, 8])\n",
      "tm: torch.Size([8])\n",
      "be: torch.Size([8])\n",
      "bf: torch.Size([8])\n",
      "adc: torch.Size([128, 1])\n",
      "sigma: torch.Size([128, 1])\n",
      "axr: torch.Size([128, 1])\n",
      "evox: torch.Size([128, 8])\n",
      "tm: torch.Size([8])\n",
      "be: torch.Size([8])\n",
      "bf: torch.Size([8])\n",
      "adc: torch.Size([128, 1])\n",
      "sigma: torch.Size([128, 1])\n",
      "axr: torch.Size([128, 1])\n",
      "evox: torch.Size([128, 8])\n",
      "loss: 0.19745806977152824\n",
      "-----------------------------------------------------------------\n",
      "epoch: 82; bad epochs: 3\n"
     ]
    },
    {
     "name": "stderr",
     "output_type": "stream",
     "text": [
      "  0%|          | 0/7 [00:00<?, ?it/s]"
     ]
    },
    {
     "name": "stdout",
     "output_type": "stream",
     "text": [
      "tm: torch.Size([8])\n",
      "be: torch.Size([8])\n",
      "bf: torch.Size([8])\n",
      "adc: torch.Size([128, 1])\n",
      "sigma: torch.Size([128, 1])\n",
      "axr: torch.Size([128, 1])\n",
      "evox: torch.Size([128, 8])\n",
      "tm: torch.Size([8])\n",
      "be: torch.Size([8])\n",
      "bf: torch.Size([8])\n",
      "adc: torch.Size([128, 1])\n",
      "sigma: torch.Size([128, 1])\n",
      "axr: torch.Size([128, 1])\n",
      "evox: torch.Size([128, 8])\n",
      "tm: torch.Size([8])\n",
      "be: torch.Size([8])\n",
      "bf: torch.Size([8])\n",
      "adc: torch.Size([128, 1])\n",
      "sigma: torch.Size([128, 1])\n",
      "axr: torch.Size([128, 1])\n",
      "evox: torch.Size([128, 8])\n"
     ]
    },
    {
     "name": "stderr",
     "output_type": "stream",
     "text": [
      "100%|██████████| 7/7 [00:00<00:00, 160.75it/s]\n"
     ]
    },
    {
     "name": "stdout",
     "output_type": "stream",
     "text": [
      "tm: torch.Size([8])\n",
      "be: torch.Size([8])\n",
      "bf: torch.Size([8])\n",
      "adc: torch.Size([128, 1])\n",
      "sigma: torch.Size([128, 1])\n",
      "axr: torch.Size([128, 1])\n",
      "evox: torch.Size([128, 8])\n",
      "tm: torch.Size([8])\n",
      "be: torch.Size([8])\n",
      "bf: torch.Size([8])\n",
      "adc: torch.Size([128, 1])\n",
      "sigma: torch.Size([128, 1])\n",
      "axr: torch.Size([128, 1])\n",
      "evox: torch.Size([128, 8])\n",
      "tm: torch.Size([8])\n",
      "be: torch.Size([8])\n",
      "bf: torch.Size([8])\n",
      "adc: torch.Size([128, 1])\n",
      "sigma: torch.Size([128, 1])\n",
      "axr: torch.Size([128, 1])\n",
      "evox: torch.Size([128, 8])\n",
      "tm: torch.Size([8])\n",
      "be: torch.Size([8])\n",
      "bf: torch.Size([8])\n",
      "adc: torch.Size([128, 1])\n",
      "sigma: torch.Size([128, 1])\n",
      "axr: torch.Size([128, 1])\n",
      "evox: torch.Size([128, 8])\n",
      "loss: 0.1946151815354824\n",
      "####################### saving good model #######################\n",
      "-----------------------------------------------------------------\n",
      "epoch: 83; bad epochs: 0\n"
     ]
    },
    {
     "name": "stderr",
     "output_type": "stream",
     "text": [
      "  0%|          | 0/7 [00:00<?, ?it/s]"
     ]
    },
    {
     "name": "stdout",
     "output_type": "stream",
     "text": [
      "tm: torch.Size([8])\n",
      "be: torch.Size([8])\n",
      "bf: torch.Size([8])\n",
      "adc: torch.Size([128, 1])\n",
      "sigma: torch.Size([128, 1])\n",
      "axr: torch.Size([128, 1])\n",
      "evox: torch.Size([128, 8])\n",
      "tm: torch.Size([8])\n",
      "be: torch.Size([8])\n",
      "bf: torch.Size([8])\n",
      "adc: torch.Size([128, 1])\n",
      "sigma: torch.Size([128, 1])\n",
      "axr: torch.Size([128, 1])\n",
      "evox: torch.Size([128, 8])\n",
      "tm: torch.Size([8])\n",
      "be: torch.Size([8])\n",
      "bf: torch.Size([8])\n",
      "adc: torch.Size([128, 1])\n",
      "sigma: torch.Size([128, 1])\n",
      "axr: torch.Size([128, 1])\n",
      "evox: torch.Size([128, 8])\n",
      "tm: torch.Size([8])\n",
      "be: torch.Size([8])\n",
      "bf: torch.Size([8])\n",
      "adc: torch.Size([128, 1])\n",
      "sigma: torch.Size([128, 1])\n",
      "axr: torch.Size([128, 1])\n",
      "evox: torch.Size([128, 8])\n",
      "tm: torch.Size([8])\n",
      "be: torch.Size([8])\n",
      "bf: torch.Size([8])\n",
      "adc: torch.Size([128, 1])\n",
      "sigma: torch.Size([128, 1])\n",
      "axr: torch.Size([128, 1])\n",
      "evox: torch.Size([128, 8])\n"
     ]
    },
    {
     "name": "stderr",
     "output_type": "stream",
     "text": [
      "100%|██████████| 7/7 [00:00<00:00, 210.03it/s]"
     ]
    },
    {
     "name": "stdout",
     "output_type": "stream",
     "text": [
      "tm: torch.Size([8])\n",
      "be: torch.Size([8])\n",
      "bf: torch.Size([8])\n",
      "adc: torch.Size([128, 1])\n",
      "sigma: torch.Size([128, 1])\n",
      "axr: torch.Size([128, 1])\n",
      "evox: torch.Size([128, 8])\n",
      "tm: torch.Size([8])\n",
      "be: torch.Size([8])\n",
      "bf: torch.Size([8])\n",
      "adc: torch.Size([128, 1])\n",
      "sigma: torch.Size([128, 1])\n",
      "axr: torch.Size([128, 1])\n",
      "evox: torch.Size([128, 8])\n"
     ]
    },
    {
     "name": "stderr",
     "output_type": "stream",
     "text": [
      "\n"
     ]
    },
    {
     "name": "stdout",
     "output_type": "stream",
     "text": [
      "loss: 0.1924498714506626\n",
      "####################### saving good model #######################\n",
      "-----------------------------------------------------------------\n",
      "epoch: 84; bad epochs: 0\n"
     ]
    },
    {
     "name": "stderr",
     "output_type": "stream",
     "text": [
      "  0%|          | 0/7 [00:00<?, ?it/s]"
     ]
    },
    {
     "name": "stdout",
     "output_type": "stream",
     "text": [
      "tm: torch.Size([8])\n",
      "be: torch.Size([8])\n",
      "bf: torch.Size([8])\n",
      "adc: torch.Size([128, 1])\n",
      "sigma: torch.Size([128, 1])\n",
      "axr: torch.Size([128, 1])\n",
      "evox: torch.Size([128, 8])\n",
      "tm: torch.Size([8])\n",
      "be: torch.Size([8])\n",
      "bf: torch.Size([8])\n",
      "adc: torch.Size([128, 1])\n",
      "sigma: torch.Size([128, 1])\n",
      "axr: torch.Size([128, 1])\n",
      "evox: torch.Size([128, 8])\n",
      "tm: torch.Size([8])\n",
      "be: torch.Size([8])\n",
      "bf: torch.Size([8])\n",
      "adc: torch.Size([128, 1])\n",
      "sigma: torch.Size([128, 1])\n",
      "axr: torch.Size([128, 1])\n",
      "evox: torch.Size([128, 8])\n",
      "tm: torch.Size([8])\n",
      "be: torch.Size([8])\n",
      "bf: torch.Size([8])\n",
      "adc: torch.Size([128, 1])\n",
      "sigma: torch.Size([128, 1])\n",
      "axr: torch.Size([128, 1])\n",
      "evox: torch.Size([128, 8])\n",
      "tm: torch.Size([8])\n",
      "be: torch.Size([8])\n",
      "bf: torch.Size([8])\n",
      "adc: torch.Size([128, 1])\n",
      "sigma: torch.Size([128, 1])\n",
      "axr: torch.Size([128, 1])\n",
      "evox: torch.Size([128, 8])\n",
      "tm: torch.Size([8])\n",
      "be: torch.Size([8])\n",
      "bf: torch.Size([8])\n",
      "adc: torch.Size([128, 1])\n",
      "sigma: torch.Size([128, 1])\n",
      "axr: torch.Size([128, 1])\n",
      "evox: torch.Size([128, 8])\n"
     ]
    },
    {
     "name": "stderr",
     "output_type": "stream",
     "text": [
      "100%|██████████| 7/7 [00:00<00:00, 226.49it/s]"
     ]
    },
    {
     "name": "stdout",
     "output_type": "stream",
     "text": [
      "tm: torch.Size([8])\n",
      "be: torch.Size([8])\n",
      "bf: torch.Size([8])\n",
      "adc: torch.Size([128, 1])\n",
      "sigma: torch.Size([128, 1])\n",
      "axr: torch.Size([128, 1])\n",
      "evox: torch.Size([128, 8])\n",
      "loss: 0.1923817154020071\n",
      "####################### saving good model #######################\n",
      "-----------------------------------------------------------------\n",
      "epoch: 85; bad epochs: 0\n"
     ]
    },
    {
     "name": "stderr",
     "output_type": "stream",
     "text": [
      "\n",
      "  0%|          | 0/7 [00:00<?, ?it/s]"
     ]
    },
    {
     "name": "stdout",
     "output_type": "stream",
     "text": [
      "tm: torch.Size([8])\n",
      "be: torch.Size([8])\n",
      "bf: torch.Size([8])\n",
      "adc: torch.Size([128, 1])\n",
      "sigma: torch.Size([128, 1])\n",
      "axr: torch.Size([128, 1])\n",
      "evox: torch.Size([128, 8])\n",
      "tm: torch.Size([8])\n",
      "be: torch.Size([8])\n",
      "bf: torch.Size([8])\n",
      "adc: torch.Size([128, 1])\n",
      "sigma: torch.Size([128, 1])\n",
      "axr: torch.Size([128, 1])\n",
      "evox: torch.Size([128, 8])\n",
      "tm: torch.Size([8])\n",
      "be: torch.Size([8])\n",
      "bf: torch.Size([8])\n",
      "adc: torch.Size([128, 1])\n",
      "sigma: torch.Size([128, 1])\n",
      "axr: torch.Size([128, 1])\n",
      "evox: torch.Size([128, 8])\n",
      "tm: torch.Size([8])\n",
      "be: torch.Size([8])\n",
      "bf: torch.Size([8])\n",
      "adc: torch.Size([128, 1])\n",
      "sigma: torch.Size([128, 1])\n",
      "axr: torch.Size([128, 1])\n",
      "evox: torch.Size([128, 8])\n",
      "tm: torch.Size([8])\n",
      "be: torch.Size([8])\n",
      "bf: torch.Size([8])\n",
      "adc: torch.Size([128, 1])\n",
      "sigma: torch.Size([128, 1])\n",
      "axr: torch.Size([128, 1])\n",
      "evox: torch.Size([128, 8])\n",
      "tm: torch.Size([8])\n",
      "be: torch.Size([8])\n",
      "bf: torch.Size([8])\n",
      "adc: torch.Size([128, 1])\n",
      "sigma: torch.Size([128, 1])\n",
      "axr: torch.Size([128, 1])\n",
      "evox: torch.Size([128, 8])\n",
      "tm: torch.Size([8])\n",
      "be: torch.Size([8])\n",
      "bf: torch.Size([8])\n",
      "adc: torch.Size([128, 1])\n",
      "sigma: torch.Size([128, 1])\n",
      "axr: torch.Size([128, 1])\n",
      "evox: torch.Size([128, 8])\n"
     ]
    },
    {
     "name": "stderr",
     "output_type": "stream",
     "text": [
      "100%|██████████| 7/7 [00:00<00:00, 172.17it/s]\n"
     ]
    },
    {
     "name": "stdout",
     "output_type": "stream",
     "text": [
      "loss: 0.19060875475406647\n",
      "####################### saving good model #######################\n",
      "-----------------------------------------------------------------\n",
      "epoch: 86; bad epochs: 0\n"
     ]
    },
    {
     "name": "stderr",
     "output_type": "stream",
     "text": [
      "  0%|          | 0/7 [00:00<?, ?it/s]"
     ]
    },
    {
     "name": "stdout",
     "output_type": "stream",
     "text": [
      "tm: torch.Size([8])\n",
      "be: torch.Size([8])\n",
      "bf: torch.Size([8])\n",
      "adc: torch.Size([128, 1])\n",
      "sigma: torch.Size([128, 1])\n",
      "axr: torch.Size([128, 1])\n",
      "evox: torch.Size([128, 8])\n",
      "tm: torch.Size([8])\n",
      "be: torch.Size([8])\n",
      "bf: torch.Size([8])\n",
      "adc: torch.Size([128, 1])\n",
      "sigma: torch.Size([128, 1])\n",
      "axr: torch.Size([128, 1])\n",
      "evox: torch.Size([128, 8])\n",
      "tm: torch.Size([8])\n",
      "be: torch.Size([8])\n",
      "bf: torch.Size([8])\n",
      "adc: torch.Size([128, 1])\n",
      "sigma: torch.Size([128, 1])\n",
      "axr: torch.Size([128, 1])\n",
      "evox: torch.Size([128, 8])\n",
      "tm: torch.Size([8])\n",
      "be: torch.Size([8])\n",
      "bf: torch.Size([8])\n",
      "adc: torch.Size([128, 1])\n",
      "sigma: torch.Size([128, 1])\n",
      "axr: torch.Size([128, 1])\n",
      "evox: torch.Size([128, 8])\n",
      "tm: torch.Size([8])\n",
      "be: torch.Size([8])\n",
      "bf: torch.Size([8])\n",
      "adc: torch.Size([128, 1])\n",
      "sigma: torch.Size([128, 1])\n",
      "axr: torch.Size([128, 1])\n",
      "evox: torch.Size([128, 8])\n",
      "tm: torch.Size([8])\n",
      "be: torch.Size([8])\n",
      "bf: torch.Size([8])\n",
      "adc: torch.Size([128, 1])\n",
      "sigma: torch.Size([128, 1])\n",
      "axr: torch.Size([128, 1])\n",
      "evox: torch.Size([128, 8])\n",
      "tm: torch.Size([8])\n",
      "be: torch.Size([8])\n",
      "bf: torch.Size([8])\n",
      "adc: torch.Size([128, 1])\n",
      "sigma: torch.Size([128, 1])\n",
      "axr: torch.Size([128, 1])\n",
      "evox: torch.Size([128, 8])\n"
     ]
    },
    {
     "name": "stderr",
     "output_type": "stream",
     "text": [
      "100%|██████████| 7/7 [00:00<00:00, 84.93it/s]\n"
     ]
    },
    {
     "name": "stdout",
     "output_type": "stream",
     "text": [
      "loss: 0.18799930438399315\n",
      "####################### saving good model #######################\n",
      "-----------------------------------------------------------------\n",
      "epoch: 87; bad epochs: 0\n"
     ]
    },
    {
     "name": "stderr",
     "output_type": "stream",
     "text": [
      "  0%|          | 0/7 [00:00<?, ?it/s]"
     ]
    },
    {
     "name": "stdout",
     "output_type": "stream",
     "text": [
      "tm: torch.Size([8])\n",
      "be: torch.Size([8])\n",
      "bf: torch.Size([8])\n",
      "adc: torch.Size([128, 1])\n",
      "sigma: torch.Size([128, 1])\n",
      "axr: torch.Size([128, 1])\n",
      "evox: torch.Size([128, 8])\n",
      "tm: torch.Size([8])\n",
      "be: torch.Size([8])\n",
      "bf: torch.Size([8])\n",
      "adc: torch.Size([128, 1])\n",
      "sigma: torch.Size([128, 1])\n",
      "axr: torch.Size([128, 1])\n",
      "evox: torch.Size([128, 8])\n",
      "tm: torch.Size([8])\n",
      "be: torch.Size([8])\n",
      "bf: torch.Size([8])\n",
      "adc: torch.Size([128, 1])\n",
      "sigma: torch.Size([128, 1])\n",
      "axr: torch.Size([128, 1])\n",
      "evox: torch.Size([128, 8])\n",
      "tm: torch.Size([8])\n",
      "be: torch.Size([8])\n",
      "bf: torch.Size([8])\n",
      "adc: torch.Size([128, 1])\n",
      "sigma: torch.Size([128, 1])\n",
      "axr: torch.Size([128, 1])\n",
      "evox: torch.Size([128, 8])\n",
      "tm: torch.Size([8])\n",
      "be: torch.Size([8])\n",
      "bf: torch.Size([8])\n",
      "adc: torch.Size([128, 1])\n",
      "sigma: torch.Size([128, 1])\n",
      "axr: torch.Size([128, 1])\n",
      "evox: torch.Size([128, 8])\n",
      "tm: torch.Size([8])\n",
      "be: torch.Size([8])\n",
      "bf: torch.Size([8])\n",
      "adc: torch.Size([128, 1])\n",
      "sigma: torch.Size([128, 1])\n",
      "axr: torch.Size([128, 1])\n",
      "evox: torch.Size([128, 8])\n"
     ]
    },
    {
     "name": "stderr",
     "output_type": "stream",
     "text": [
      "100%|██████████| 7/7 [00:00<00:00, 144.44it/s]\n"
     ]
    },
    {
     "name": "stdout",
     "output_type": "stream",
     "text": [
      "tm: torch.Size([8])\n",
      "be: torch.Size([8])\n",
      "bf: torch.Size([8])\n",
      "adc: torch.Size([128, 1])\n",
      "sigma: torch.Size([128, 1])\n",
      "axr: torch.Size([128, 1])\n",
      "evox: torch.Size([128, 8])\n",
      "loss: 0.18643362633883953\n",
      "####################### saving good model #######################\n",
      "-----------------------------------------------------------------\n",
      "epoch: 88; bad epochs: 0\n"
     ]
    },
    {
     "name": "stderr",
     "output_type": "stream",
     "text": [
      "  0%|          | 0/7 [00:00<?, ?it/s]"
     ]
    },
    {
     "name": "stdout",
     "output_type": "stream",
     "text": [
      "tm: torch.Size([8])\n",
      "be: torch.Size([8])\n",
      "bf: torch.Size([8])\n",
      "adc: torch.Size([128, 1])\n",
      "sigma: torch.Size([128, 1])\n",
      "axr: torch.Size([128, 1])\n",
      "evox: torch.Size([128, 8])\n",
      "tm: torch.Size([8])\n",
      "be: torch.Size([8])\n",
      "bf: torch.Size([8])\n",
      "adc: torch.Size([128, 1])\n",
      "sigma: torch.Size([128, 1])\n",
      "axr: torch.Size([128, 1])\n",
      "evox: torch.Size([128, 8])\n",
      "tm: torch.Size([8])\n",
      "be: torch.Size([8])\n",
      "bf: torch.Size([8])\n",
      "adc: torch.Size([128, 1])\n",
      "sigma: torch.Size([128, 1])\n",
      "axr: torch.Size([128, 1])\n",
      "evox: torch.Size([128, 8])\n",
      "tm: torch.Size([8])\n",
      "be: torch.Size([8])\n",
      "bf: torch.Size([8])\n",
      "adc: torch.Size([128, 1])\n",
      "sigma: torch.Size([128, 1])\n",
      "axr: torch.Size([128, 1])\n",
      "evox: torch.Size([128, 8])\n",
      "tm: torch.Size([8])\n",
      "be: torch.Size([8])\n",
      "bf: torch.Size([8])\n",
      "adc: torch.Size([128, 1])\n",
      "sigma: torch.Size([128, 1])\n",
      "axr: torch.Size([128, 1])\n",
      "evox: torch.Size([128, 8])\n",
      "tm: torch.Size([8])\n",
      "be: torch.Size([8])\n",
      "bf: torch.Size([8])\n",
      "adc: torch.Size([128, 1])\n",
      "sigma: torch.Size([128, 1])\n",
      "axr: torch.Size([128, 1])\n",
      "evox: torch.Size([128, 8])\n"
     ]
    },
    {
     "name": "stderr",
     "output_type": "stream",
     "text": [
      "100%|██████████| 7/7 [00:00<00:00, 144.39it/s]\n"
     ]
    },
    {
     "name": "stdout",
     "output_type": "stream",
     "text": [
      "tm: torch.Size([8])\n",
      "be: torch.Size([8])\n",
      "bf: torch.Size([8])\n",
      "adc: torch.Size([128, 1])\n",
      "sigma: torch.Size([128, 1])\n",
      "axr: torch.Size([128, 1])\n",
      "evox: torch.Size([128, 8])\n",
      "loss: 0.18510746397078037\n",
      "####################### saving good model #######################\n",
      "-----------------------------------------------------------------\n",
      "epoch: 89; bad epochs: 0\n"
     ]
    },
    {
     "name": "stderr",
     "output_type": "stream",
     "text": [
      "  0%|          | 0/7 [00:00<?, ?it/s]"
     ]
    },
    {
     "name": "stdout",
     "output_type": "stream",
     "text": [
      "tm: torch.Size([8])\n",
      "be: torch.Size([8])\n",
      "bf: torch.Size([8])\n",
      "adc: torch.Size([128, 1])\n",
      "sigma: torch.Size([128, 1])\n",
      "axr: torch.Size([128, 1])\n",
      "evox: torch.Size([128, 8])\n",
      "tm: torch.Size([8])\n",
      "be: torch.Size([8])\n",
      "bf: torch.Size([8])\n",
      "adc: torch.Size([128, 1])\n",
      "sigma: torch.Size([128, 1])\n",
      "axr: torch.Size([128, 1])\n",
      "evox: torch.Size([128, 8])\n",
      "tm: torch.Size([8])\n",
      "be: torch.Size([8])\n",
      "bf: torch.Size([8])\n",
      "adc: torch.Size([128, 1])\n",
      "sigma: torch.Size([128, 1])\n",
      "axr: torch.Size([128, 1])\n",
      "evox: torch.Size([128, 8])\n",
      "tm: torch.Size([8])\n",
      "be: torch.Size([8])\n",
      "bf: torch.Size([8])\n",
      "adc: torch.Size([128, 1])\n",
      "sigma: torch.Size([128, 1])\n",
      "axr: torch.Size([128, 1])\n",
      "evox: torch.Size([128, 8])\n",
      "tm: torch.Size([8])\n",
      "be: torch.Size([8])\n",
      "bf: torch.Size([8])\n",
      "adc: torch.Size([128, 1])\n",
      "sigma: torch.Size([128, 1])\n",
      "axr: torch.Size([128, 1])\n",
      "evox: torch.Size([128, 8])\n",
      "tm: torch.Size([8])\n",
      "be: torch.Size([8])\n",
      "bf: torch.Size([8])\n",
      "adc: torch.Size([128, 1])\n",
      "sigma: torch.Size([128, 1])\n",
      "axr: torch.Size([128, 1])\n",
      "evox: torch.Size([128, 8])\n",
      "tm: torch.Size([8])\n",
      "be: torch.Size([8])\n",
      "bf: torch.Size([8])\n",
      "adc: torch.Size([128, 1])\n",
      "sigma: torch.Size([128, 1])\n",
      "axr: torch.Size([128, 1])\n",
      "evox: torch.Size([128, 8])\n"
     ]
    },
    {
     "name": "stderr",
     "output_type": "stream",
     "text": [
      "100%|██████████| 7/7 [00:00<00:00, 156.34it/s]\n"
     ]
    },
    {
     "name": "stdout",
     "output_type": "stream",
     "text": [
      "loss: 0.18431385606527328\n",
      "####################### saving good model #######################\n",
      "-----------------------------------------------------------------\n",
      "epoch: 90; bad epochs: 0\n"
     ]
    },
    {
     "name": "stderr",
     "output_type": "stream",
     "text": [
      "100%|██████████| 7/7 [00:00<00:00, 273.89it/s]\n"
     ]
    },
    {
     "name": "stdout",
     "output_type": "stream",
     "text": [
      "tm: torch.Size([8])\n",
      "be: torch.Size([8])\n",
      "bf: torch.Size([8])\n",
      "adc: torch.Size([128, 1])\n",
      "sigma: torch.Size([128, 1])\n",
      "axr: torch.Size([128, 1])\n",
      "evox: torch.Size([128, 8])\n",
      "tm: torch.Size([8])\n",
      "be: torch.Size([8])\n",
      "bf: torch.Size([8])\n",
      "adc: torch.Size([128, 1])\n",
      "sigma: torch.Size([128, 1])\n",
      "axr: torch.Size([128, 1])\n",
      "evox: torch.Size([128, 8])\n",
      "tm: torch.Size([8])\n",
      "be: torch.Size([8])\n",
      "bf: torch.Size([8])\n",
      "adc: torch.Size([128, 1])\n",
      "sigma: torch.Size([128, 1])\n",
      "axr: torch.Size([128, 1])\n",
      "evox: torch.Size([128, 8])\n",
      "tm: torch.Size([8])\n",
      "be: torch.Size([8])\n",
      "bf: torch.Size([8])\n",
      "adc: torch.Size([128, 1])\n",
      "sigma: torch.Size([128, 1])\n",
      "axr: torch.Size([128, 1])\n",
      "evox: torch.Size([128, 8])\n",
      "tm: torch.Size([8])\n",
      "be: torch.Size([8])\n",
      "bf: torch.Size([8])\n",
      "adc: torch.Size([128, 1])\n",
      "sigma: torch.Size([128, 1])\n",
      "axr: torch.Size([128, 1])\n",
      "evox: torch.Size([128, 8])\n",
      "tm: torch.Size([8])\n",
      "be: torch.Size([8])\n",
      "bf: torch.Size([8])\n",
      "adc: torch.Size([128, 1])\n",
      "sigma: torch.Size([128, 1])\n",
      "axr: torch.Size([128, 1])\n",
      "evox: torch.Size([128, 8])\n",
      "tm: torch.Size([8])\n",
      "be: torch.Size([8])\n",
      "bf: torch.Size([8])\n",
      "adc: torch.Size([128, 1])\n",
      "sigma: torch.Size([128, 1])\n",
      "axr: torch.Size([128, 1])\n",
      "evox: torch.Size([128, 8])\n",
      "loss: 0.18416199274361134\n",
      "####################### saving good model #######################\n",
      "-----------------------------------------------------------------\n",
      "epoch: 91; bad epochs: 0\n"
     ]
    },
    {
     "name": "stderr",
     "output_type": "stream",
     "text": [
      "  0%|          | 0/7 [00:00<?, ?it/s]"
     ]
    },
    {
     "name": "stdout",
     "output_type": "stream",
     "text": [
      "tm: torch.Size([8])\n",
      "be: torch.Size([8])\n",
      "bf: torch.Size([8])\n",
      "adc: torch.Size([128, 1])\n",
      "sigma: torch.Size([128, 1])\n",
      "axr: torch.Size([128, 1])\n",
      "evox: torch.Size([128, 8])\n",
      "tm: torch.Size([8])\n",
      "be: torch.Size([8])\n",
      "bf: torch.Size([8])\n",
      "adc: torch.Size([128, 1])\n",
      "sigma: torch.Size([128, 1])\n",
      "axr: torch.Size([128, 1])\n",
      "evox: torch.Size([128, 8])\n",
      "tm: torch.Size([8])\n",
      "be: torch.Size([8])\n",
      "bf: torch.Size([8])\n",
      "adc: torch.Size([128, 1])\n",
      "sigma: torch.Size([128, 1])\n",
      "axr: torch.Size([128, 1])\n",
      "evox: torch.Size([128, 8])\n",
      "tm: torch.Size([8])\n",
      "be: torch.Size([8])\n",
      "bf: torch.Size([8])\n",
      "adc: torch.Size([128, 1])\n",
      "sigma: torch.Size([128, 1])\n",
      "axr: torch.Size([128, 1])\n",
      "evox: torch.Size([128, 8])\n",
      "tm: torch.Size([8])\n",
      "be: torch.Size([8])\n",
      "bf: torch.Size([8])\n",
      "adc: torch.Size([128, 1])\n",
      "sigma: torch.Size([128, 1])\n",
      "axr: torch.Size([128, 1])\n",
      "evox: torch.Size([128, 8])\n",
      "tm: torch.Size([8])\n",
      "be: torch.Size([8])\n",
      "bf: torch.Size([8])\n",
      "adc: torch.Size([128, 1])\n",
      "sigma: torch.Size([128, 1])\n",
      "axr: torch.Size([128, 1])\n",
      "evox: torch.Size([128, 8])\n"
     ]
    },
    {
     "name": "stderr",
     "output_type": "stream",
     "text": [
      "100%|██████████| 7/7 [00:00<00:00, 135.36it/s]\n"
     ]
    },
    {
     "name": "stdout",
     "output_type": "stream",
     "text": [
      "tm: torch.Size([8])\n",
      "be: torch.Size([8])\n",
      "bf: torch.Size([8])\n",
      "adc: torch.Size([128, 1])\n",
      "sigma: torch.Size([128, 1])\n",
      "axr: torch.Size([128, 1])\n",
      "evox: torch.Size([128, 8])\n",
      "loss: 0.18542291410267353\n",
      "-----------------------------------------------------------------\n",
      "epoch: 92; bad epochs: 1\n"
     ]
    },
    {
     "name": "stderr",
     "output_type": "stream",
     "text": [
      "100%|██████████| 7/7 [00:00<00:00, 199.04it/s]\n"
     ]
    },
    {
     "name": "stdout",
     "output_type": "stream",
     "text": [
      "tm: torch.Size([8])\n",
      "be: torch.Size([8])\n",
      "bf: torch.Size([8])\n",
      "adc: torch.Size([128, 1])\n",
      "sigma: torch.Size([128, 1])\n",
      "axr: torch.Size([128, 1])\n",
      "evox: torch.Size([128, 8])\n",
      "tm: torch.Size([8])\n",
      "be: torch.Size([8])\n",
      "bf: torch.Size([8])\n",
      "adc: torch.Size([128, 1])\n",
      "sigma: torch.Size([128, 1])\n",
      "axr: torch.Size([128, 1])\n",
      "evox: torch.Size([128, 8])\n",
      "tm: torch.Size([8])\n",
      "be: torch.Size([8])\n",
      "bf: torch.Size([8])\n",
      "adc: torch.Size([128, 1])\n",
      "sigma: torch.Size([128, 1])\n",
      "axr: torch.Size([128, 1])\n",
      "evox: torch.Size([128, 8])\n",
      "tm: torch.Size([8])\n",
      "be: torch.Size([8])\n",
      "bf: torch.Size([8])\n",
      "adc: torch.Size([128, 1])\n",
      "sigma: torch.Size([128, 1])\n",
      "axr: torch.Size([128, 1])\n",
      "evox: torch.Size([128, 8])\n",
      "tm: torch.Size([8])\n",
      "be: torch.Size([8])\n",
      "bf: torch.Size([8])\n",
      "adc: torch.Size([128, 1])\n",
      "sigma: torch.Size([128, 1])\n",
      "axr: torch.Size([128, 1])\n",
      "evox: torch.Size([128, 8])\n",
      "tm: torch.Size([8])\n",
      "be: torch.Size([8])\n",
      "bf: torch.Size([8])\n",
      "adc: torch.Size([128, 1])\n",
      "sigma: torch.Size([128, 1])\n",
      "axr: torch.Size([128, 1])\n",
      "evox: torch.Size([128, 8])\n",
      "tm: torch.Size([8])\n",
      "be: torch.Size([8])\n",
      "bf: torch.Size([8])\n",
      "adc: torch.Size([128, 1])\n",
      "sigma: torch.Size([128, 1])\n",
      "axr: torch.Size([128, 1])\n",
      "evox: torch.Size([128, 8])\n",
      "loss: 0.1840890571475029\n",
      "####################### saving good model #######################\n",
      "-----------------------------------------------------------------\n",
      "epoch: 93; bad epochs: 0\n"
     ]
    },
    {
     "name": "stderr",
     "output_type": "stream",
     "text": [
      "  0%|          | 0/7 [00:00<?, ?it/s]"
     ]
    },
    {
     "name": "stdout",
     "output_type": "stream",
     "text": [
      "tm: torch.Size([8])\n",
      "be: torch.Size([8])\n",
      "bf: torch.Size([8])\n",
      "adc: torch.Size([128, 1])\n",
      "sigma: torch.Size([128, 1])\n",
      "axr: torch.Size([128, 1])\n",
      "evox: torch.Size([128, 8])\n",
      "tm: torch.Size([8])\n",
      "be: torch.Size([8])\n",
      "bf: torch.Size([8])\n",
      "adc: torch.Size([128, 1])\n",
      "sigma: torch.Size([128, 1])\n",
      "axr: torch.Size([128, 1])\n",
      "evox: torch.Size([128, 8])\n",
      "tm: torch.Size([8])\n",
      "be: torch.Size([8])\n",
      "bf: torch.Size([8])\n",
      "adc: torch.Size([128, 1])\n",
      "sigma: torch.Size([128, 1])\n",
      "axr: torch.Size([128, 1])\n",
      "evox: torch.Size([128, 8])\n",
      "tm: torch.Size([8])\n",
      "be: torch.Size([8])\n",
      "bf: torch.Size([8])\n",
      "adc: torch.Size([128, 1])\n",
      "sigma: torch.Size([128, 1])\n",
      "axr: torch.Size([128, 1])\n",
      "evox: torch.Size([128, 8])\n"
     ]
    },
    {
     "name": "stderr",
     "output_type": "stream",
     "text": [
      "100%|██████████| 7/7 [00:00<00:00, 173.75it/s]\n"
     ]
    },
    {
     "name": "stdout",
     "output_type": "stream",
     "text": [
      "tm: torch.Size([8])\n",
      "be: torch.Size([8])\n",
      "bf: torch.Size([8])\n",
      "adc: torch.Size([128, 1])\n",
      "sigma: torch.Size([128, 1])\n",
      "axr: torch.Size([128, 1])\n",
      "evox: torch.Size([128, 8])\n",
      "tm: torch.Size([8])\n",
      "be: torch.Size([8])\n",
      "bf: torch.Size([8])\n",
      "adc: torch.Size([128, 1])\n",
      "sigma: torch.Size([128, 1])\n",
      "axr: torch.Size([128, 1])\n",
      "evox: torch.Size([128, 8])\n",
      "tm: torch.Size([8])\n",
      "be: torch.Size([8])\n",
      "bf: torch.Size([8])\n",
      "adc: torch.Size([128, 1])\n",
      "sigma: torch.Size([128, 1])\n",
      "axr: torch.Size([128, 1])\n",
      "evox: torch.Size([128, 8])\n",
      "loss: 0.17894543893635273\n",
      "####################### saving good model #######################\n",
      "-----------------------------------------------------------------\n",
      "epoch: 94; bad epochs: 0\n"
     ]
    },
    {
     "name": "stderr",
     "output_type": "stream",
     "text": [
      "  0%|          | 0/7 [00:00<?, ?it/s]"
     ]
    },
    {
     "name": "stdout",
     "output_type": "stream",
     "text": [
      "tm: torch.Size([8])\n",
      "be: torch.Size([8])\n",
      "bf: torch.Size([8])\n",
      "adc: torch.Size([128, 1])\n",
      "sigma: torch.Size([128, 1])\n",
      "axr: torch.Size([128, 1])\n",
      "evox: torch.Size([128, 8])\n",
      "tm: torch.Size([8])\n",
      "be: torch.Size([8])\n",
      "bf: torch.Size([8])\n",
      "adc: torch.Size([128, 1])\n",
      "sigma: torch.Size([128, 1])\n",
      "axr: torch.Size([128, 1])\n",
      "evox: torch.Size([128, 8])\n",
      "tm: torch.Size([8])\n",
      "be: torch.Size([8])\n",
      "bf: torch.Size([8])\n",
      "adc: torch.Size([128, 1])\n",
      "sigma: torch.Size([128, 1])\n",
      "axr: torch.Size([128, 1])\n",
      "evox: torch.Size([128, 8])\n",
      "tm: torch.Size([8])\n",
      "be: torch.Size([8])\n",
      "bf: torch.Size([8])\n",
      "adc: torch.Size([128, 1])\n",
      "sigma: torch.Size([128, 1])\n",
      "axr: torch.Size([128, 1])\n",
      "evox: torch.Size([128, 8])\n",
      "tm: torch.Size([8])\n",
      "be: torch.Size([8])\n",
      "bf: torch.Size([8])\n",
      "adc: torch.Size([128, 1])\n",
      "sigma: torch.Size([128, 1])\n",
      "axr: torch.Size([128, 1])\n",
      "evox: torch.Size([128, 8])\n",
      "tm: torch.Size([8])\n",
      "be: torch.Size([8])\n",
      "bf: torch.Size([8])\n",
      "adc: torch.Size([128, 1])\n",
      "sigma: torch.Size([128, 1])\n",
      "axr: torch.Size([128, 1])\n",
      "evox: torch.Size([128, 8])\n",
      "tm: torch.Size([8])\n",
      "be: torch.Size([8])\n",
      "bf: torch.Size([8])\n",
      "adc: torch.Size([128, 1])\n",
      "sigma: torch.Size([128, 1])\n",
      "axr: torch.Size([128, 1])\n",
      "evox: torch.Size([128, 8])\n"
     ]
    },
    {
     "name": "stderr",
     "output_type": "stream",
     "text": [
      "100%|██████████| 7/7 [00:00<00:00, 94.80it/s]\n"
     ]
    },
    {
     "name": "stdout",
     "output_type": "stream",
     "text": [
      "loss: 0.180045111104846\n",
      "-----------------------------------------------------------------\n",
      "epoch: 95; bad epochs: 1\n"
     ]
    },
    {
     "name": "stderr",
     "output_type": "stream",
     "text": [
      "  0%|          | 0/7 [00:00<?, ?it/s]"
     ]
    },
    {
     "name": "stdout",
     "output_type": "stream",
     "text": [
      "tm: torch.Size([8])\n",
      "be: torch.Size([8])\n",
      "bf: torch.Size([8])\n",
      "adc: torch.Size([128, 1])\n",
      "sigma: torch.Size([128, 1])\n",
      "axr: torch.Size([128, 1])\n",
      "evox: torch.Size([128, 8])\n",
      "tm: torch.Size([8])\n",
      "be: torch.Size([8])\n",
      "bf: torch.Size([8])\n",
      "adc: torch.Size([128, 1])\n",
      "sigma: torch.Size([128, 1])\n",
      "axr: torch.Size([128, 1])\n",
      "evox: torch.Size([128, 8])\n",
      "tm: torch.Size([8])\n",
      "be: torch.Size([8])\n",
      "bf: torch.Size([8])\n",
      "adc: torch.Size([128, 1])\n",
      "sigma: torch.Size([128, 1])\n",
      "axr: torch.Size([128, 1])\n",
      "evox: torch.Size([128, 8])\n",
      "tm: torch.Size([8])\n",
      "be: torch.Size([8])\n",
      "bf: torch.Size([8])\n",
      "adc: torch.Size([128, 1])\n",
      "sigma: torch.Size([128, 1])\n",
      "axr: torch.Size([128, 1])\n",
      "evox: torch.Size([128, 8])\n",
      "tm: torch.Size([8])\n",
      "be: torch.Size([8])\n",
      "bf: torch.Size([8])\n",
      "adc: torch.Size([128, 1])\n",
      "sigma: torch.Size([128, 1])\n",
      "axr: torch.Size([128, 1])\n",
      "evox: torch.Size([128, 8])\n"
     ]
    },
    {
     "name": "stderr",
     "output_type": "stream",
     "text": [
      "100%|██████████| 7/7 [00:00<00:00, 172.18it/s]\n"
     ]
    },
    {
     "name": "stdout",
     "output_type": "stream",
     "text": [
      "tm: torch.Size([8])\n",
      "be: torch.Size([8])\n",
      "bf: torch.Size([8])\n",
      "adc: torch.Size([128, 1])\n",
      "sigma: torch.Size([128, 1])\n",
      "axr: torch.Size([128, 1])\n",
      "evox: torch.Size([128, 8])\n",
      "tm: torch.Size([8])\n",
      "be: torch.Size([8])\n",
      "bf: torch.Size([8])\n",
      "adc: torch.Size([128, 1])\n",
      "sigma: torch.Size([128, 1])\n",
      "axr: torch.Size([128, 1])\n",
      "evox: torch.Size([128, 8])\n",
      "loss: 0.17604983039200306\n",
      "####################### saving good model #######################\n",
      "-----------------------------------------------------------------\n",
      "epoch: 96; bad epochs: 0\n"
     ]
    },
    {
     "name": "stderr",
     "output_type": "stream",
     "text": [
      "  0%|          | 0/7 [00:00<?, ?it/s]"
     ]
    },
    {
     "name": "stdout",
     "output_type": "stream",
     "text": [
      "tm: torch.Size([8])\n",
      "be: torch.Size([8])\n",
      "bf: torch.Size([8])\n",
      "adc: torch.Size([128, 1])\n",
      "sigma: torch.Size([128, 1])\n",
      "axr: torch.Size([128, 1])\n",
      "evox: torch.Size([128, 8])\n",
      "tm: torch.Size([8])\n",
      "be: torch.Size([8])\n",
      "bf: torch.Size([8])\n",
      "adc: torch.Size([128, 1])\n",
      "sigma: torch.Size([128, 1])\n",
      "axr: torch.Size([128, 1])\n",
      "evox: torch.Size([128, 8])\n",
      "tm: torch.Size([8])\n",
      "be: torch.Size([8])\n",
      "bf: torch.Size([8])\n",
      "adc: torch.Size([128, 1])\n",
      "sigma: torch.Size([128, 1])\n",
      "axr: torch.Size([128, 1])\n",
      "evox: torch.Size([128, 8])\n",
      "tm: torch.Size([8])\n",
      "be: torch.Size([8])\n",
      "bf: torch.Size([8])\n",
      "adc: torch.Size([128, 1])\n",
      "sigma: torch.Size([128, 1])\n",
      "axr: torch.Size([128, 1])\n",
      "evox: torch.Size([128, 8])\n",
      "tm: torch.Size([8])\n",
      "be: torch.Size([8])\n",
      "bf: torch.Size([8])\n",
      "adc: torch.Size([128, 1])\n",
      "sigma: torch.Size([128, 1])\n",
      "axr: torch.Size([128, 1])\n",
      "evox: torch.Size([128, 8])\n",
      "tm: torch.Size([8])\n",
      "be: torch.Size([8])\n",
      "bf: torch.Size([8])\n",
      "adc: torch.Size([128, 1])\n",
      "sigma: torch.Size([128, 1])\n",
      "axr: torch.Size([128, 1])\n",
      "evox: torch.Size([128, 8])\n"
     ]
    },
    {
     "name": "stderr",
     "output_type": "stream",
     "text": [
      "100%|██████████| 7/7 [00:00<00:00, 119.89it/s]\n"
     ]
    },
    {
     "name": "stdout",
     "output_type": "stream",
     "text": [
      "tm: torch.Size([8])\n",
      "be: torch.Size([8])\n",
      "bf: torch.Size([8])\n",
      "adc: torch.Size([128, 1])\n",
      "sigma: torch.Size([128, 1])\n",
      "axr: torch.Size([128, 1])\n",
      "evox: torch.Size([128, 8])\n",
      "loss: 0.1724836453795433\n",
      "####################### saving good model #######################\n",
      "-----------------------------------------------------------------\n",
      "epoch: 97; bad epochs: 0\n"
     ]
    },
    {
     "name": "stderr",
     "output_type": "stream",
     "text": [
      "  0%|          | 0/7 [00:00<?, ?it/s]"
     ]
    },
    {
     "name": "stdout",
     "output_type": "stream",
     "text": [
      "tm: torch.Size([8])\n",
      "be: torch.Size([8])\n",
      "bf: torch.Size([8])\n",
      "adc: torch.Size([128, 1])\n",
      "sigma: torch.Size([128, 1])\n",
      "axr: torch.Size([128, 1])\n",
      "evox: torch.Size([128, 8])\n",
      "tm: torch.Size([8])\n",
      "be: torch.Size([8])\n",
      "bf: torch.Size([8])\n",
      "adc: torch.Size([128, 1])\n",
      "sigma: torch.Size([128, 1])\n",
      "axr: torch.Size([128, 1])\n",
      "evox: torch.Size([128, 8])\n",
      "tm: torch.Size([8])\n",
      "be: torch.Size([8])\n",
      "bf: torch.Size([8])\n",
      "adc: torch.Size([128, 1])\n",
      "sigma: torch.Size([128, 1])\n",
      "axr: torch.Size([128, 1])\n",
      "evox: torch.Size([128, 8])\n",
      "tm: torch.Size([8])\n",
      "be: torch.Size([8])\n",
      "bf: torch.Size([8])\n",
      "adc: torch.Size([128, 1])\n",
      "sigma: torch.Size([128, 1])\n",
      "axr: torch.Size([128, 1])\n",
      "evox: torch.Size([128, 8])\n",
      "tm: torch.Size([8])\n",
      "be: torch.Size([8])\n",
      "bf: torch.Size([8])\n",
      "adc: torch.Size([128, 1])\n",
      "sigma: torch.Size([128, 1])\n",
      "axr: torch.Size([128, 1])\n",
      "evox: torch.Size([128, 8])\n",
      "tm: torch.Size([8])\n",
      "be: torch.Size([8])\n",
      "bf: torch.Size([8])\n",
      "adc: torch.Size([128, 1])\n",
      "sigma: torch.Size([128, 1])\n",
      "axr: torch.Size([128, 1])\n",
      "evox: torch.Size([128, 8])\n",
      "tm: torch.Size([8])\n",
      "be: torch.Size([8])\n",
      "bf: torch.Size([8])\n",
      "adc: torch.Size([128, 1])\n",
      "sigma: torch.Size([128, 1])\n",
      "axr: torch.Size([128, 1])\n",
      "evox: torch.Size([128, 8])\n"
     ]
    },
    {
     "name": "stderr",
     "output_type": "stream",
     "text": [
      "100%|██████████| 7/7 [00:00<00:00, 242.37it/s]\n"
     ]
    },
    {
     "name": "stdout",
     "output_type": "stream",
     "text": [
      "loss: 0.1738244779407978\n",
      "-----------------------------------------------------------------\n",
      "epoch: 98; bad epochs: 1\n"
     ]
    },
    {
     "name": "stderr",
     "output_type": "stream",
     "text": [
      "  0%|          | 0/7 [00:00<?, ?it/s]"
     ]
    },
    {
     "name": "stdout",
     "output_type": "stream",
     "text": [
      "tm:"
     ]
    },
    {
     "name": "stderr",
     "output_type": "stream",
     "text": [
      "100%|██████████| 7/7 [00:00<00:00, 191.82it/s]"
     ]
    },
    {
     "name": "stdout",
     "output_type": "stream",
     "text": [
      " torch.Size([8])\n",
      "be: torch.Size([8])\n",
      "bf: torch.Size([8])\n",
      "adc: torch.Size([128, 1])\n",
      "sigma: torch.Size([128, 1])\n",
      "axr: torch.Size([128, 1])\n",
      "evox: torch.Size([128, 8])\n",
      "tm: torch.Size([8])\n",
      "be: torch.Size([8])\n",
      "bf: torch.Size([8])\n",
      "adc: torch.Size([128, 1])\n",
      "sigma: torch.Size([128, 1])\n",
      "axr: torch.Size([128, 1])\n",
      "evox: torch.Size([128, 8])\n",
      "tm: torch.Size([8])\n",
      "be: torch.Size([8])\n",
      "bf: torch.Size([8])\n",
      "adc: torch.Size([128, 1])\n",
      "sigma: torch.Size([128, 1])\n",
      "axr: torch.Size([128, 1])\n",
      "evox: torch.Size([128, 8])\n",
      "tm: torch.Size([8])\n",
      "be: torch.Size([8])\n",
      "bf: torch.Size([8])\n",
      "adc: torch.Size([128, 1])\n",
      "sigma: torch.Size([128, 1])\n",
      "axr: torch.Size([128, 1])\n",
      "evox: torch.Size([128, 8])\n",
      "tm: torch.Size([8])\n",
      "be: torch.Size([8])\n",
      "bf: torch.Size([8])\n",
      "adc: torch.Size([128, 1])\n",
      "sigma: torch.Size([128, 1])\n",
      "axr: torch.Size([128, 1])\n",
      "evox: torch.Size([128, 8])\n",
      "tm: torch.Size([8])\n",
      "be: torch.Size([8])\n",
      "bf: torch.Size([8])\n",
      "adc: torch.Size([128, 1])\n",
      "sigma: torch.Size([128, 1])\n",
      "axr: torch.Size([128, 1])\n",
      "evox: torch.Size([128, 8])\n",
      "tm: torch.Size([8])\n",
      "be: torch.Size([8])\n",
      "bf: torch.Size([8])\n",
      "adc: torch.Size([128, 1])\n",
      "sigma: torch.Size([128, 1])\n",
      "axr: torch.Size([128, 1])\n",
      "evox: torch.Size([128, 8])\n"
     ]
    },
    {
     "name": "stderr",
     "output_type": "stream",
     "text": [
      "\n"
     ]
    },
    {
     "name": "stdout",
     "output_type": "stream",
     "text": [
      "loss: 0.17006484419107437\n",
      "####################### saving good model #######################\n",
      "-----------------------------------------------------------------\n",
      "epoch: 99; bad epochs: 0\n"
     ]
    },
    {
     "name": "stderr",
     "output_type": "stream",
     "text": [
      "  0%|          | 0/7 [00:00<?, ?it/s]"
     ]
    },
    {
     "name": "stdout",
     "output_type": "stream",
     "text": [
      "tm: torch.Size([8])\n",
      "be: torch.Size([8])\n",
      "bf: torch.Size([8])\n",
      "adc: torch.Size([128, 1])\n",
      "sigma: torch.Size([128, 1])\n",
      "axr: torch.Size([128, 1])\n",
      "evox: torch.Size([128, 8])\n",
      "tm: torch.Size([8])\n",
      "be: torch.Size([8])\n",
      "bf: torch.Size([8])\n",
      "adc: torch.Size([128, 1])\n",
      "sigma: torch.Size([128, 1])\n",
      "axr: torch.Size([128, 1])\n",
      "evox: torch.Size([128, 8])\n",
      "tm: torch.Size([8])\n",
      "be: torch.Size([8])\n",
      "bf: torch.Size([8])\n",
      "adc: torch.Size([128, 1])\n",
      "sigma: torch.Size([128, 1])\n",
      "axr: torch.Size([128, 1])\n",
      "evox: torch.Size([128, 8])\n",
      "tm: torch.Size([8])\n",
      "be: torch.Size([8])\n",
      "bf: torch.Size([8])\n",
      "adc: torch.Size([128, 1])\n",
      "sigma: torch.Size([128, 1])\n",
      "axr: torch.Size([128, 1])\n",
      "evox: torch.Size([128, 8])\n",
      "tm: torch.Size([8])\n",
      "be: torch.Size([8])\n",
      "bf: torch.Size([8])\n",
      "adc: torch.Size([128, 1])\n",
      "sigma: torch.Size([128, 1])\n",
      "axr: torch.Size([128, 1])\n",
      "evox: torch.Size([128, 8])\n",
      "tm: torch.Size([8])\n",
      "be: torch.Size([8])\n",
      "bf: torch.Size([8])\n",
      "adc: torch.Size([128, 1])\n",
      "sigma: torch.Size([128, 1])\n",
      "axr: torch.Size([128, 1])\n",
      "evox: torch.Size([128, 8])\n",
      "tm: torch.Size([8])\n",
      "be: torch.Size([8])\n",
      "bf: torch.Size([8])\n",
      "adc: torch.Size([128, 1])\n",
      "sigma: torch.Size([128, 1])\n",
      "axr: torch.Size([128, 1])\n",
      "evox: torch.Size([128, 8])\n"
     ]
    },
    {
     "name": "stderr",
     "output_type": "stream",
     "text": [
      "100%|██████████| 7/7 [00:00<00:00, 127.92it/s]\n"
     ]
    },
    {
     "name": "stdout",
     "output_type": "stream",
     "text": [
      "loss: 0.1683317180722952\n",
      "####################### saving good model #######################\n",
      "-----------------------------------------------------------------\n",
      "epoch: 100; bad epochs: 0\n"
     ]
    },
    {
     "name": "stderr",
     "output_type": "stream",
     "text": [
      "  0%|          | 0/7 [00:00<?, ?it/s]"
     ]
    },
    {
     "name": "stdout",
     "output_type": "stream",
     "text": [
      "tm: torch.Size([8])\n",
      "be: torch.Size([8])\n",
      "bf: torch.Size([8])\n",
      "adc: torch.Size([128, 1])\n",
      "sigma: torch.Size([128, 1])\n",
      "axr: torch.Size([128, 1])\n",
      "evox: torch.Size([128, 8])\n",
      "tm: torch.Size([8])\n",
      "be: torch.Size([8])\n",
      "bf: torch.Size([8])\n",
      "adc: torch.Size([128, 1])\n",
      "sigma: torch.Size([128, 1])\n",
      "axr: torch.Size([128, 1])\n",
      "evox: torch.Size([128, 8])\n",
      "tm: torch.Size([8])\n",
      "be: torch.Size([8])\n",
      "bf: torch.Size([8])\n",
      "adc: torch.Size([128, 1])\n",
      "sigma: torch.Size([128, 1])\n",
      "axr: torch.Size([128, 1])\n",
      "evox: torch.Size([128, 8])\n"
     ]
    },
    {
     "name": "stderr",
     "output_type": "stream",
     "text": [
      "100%|██████████| 7/7 [00:00<00:00, 193.65it/s]\n"
     ]
    },
    {
     "name": "stdout",
     "output_type": "stream",
     "text": [
      "tm: torch.Size([8])\n",
      "be: torch.Size([8])\n",
      "bf: torch.Size([8])\n",
      "adc: torch.Size([128, 1])\n",
      "sigma: torch.Size([128, 1])\n",
      "axr: torch.Size([128, 1])\n",
      "evox: torch.Size([128, 8])\n",
      "tm: torch.Size([8])\n",
      "be: torch.Size([8])\n",
      "bf: torch.Size([8])\n",
      "adc: torch.Size([128, 1])\n",
      "sigma: torch.Size([128, 1])\n",
      "axr: torch.Size([128, 1])\n",
      "evox: torch.Size([128, 8])\n",
      "tm: torch.Size([8])\n",
      "be: torch.Size([8])\n",
      "bf: torch.Size([8])\n",
      "adc: torch.Size([128, 1])\n",
      "sigma: torch.Size([128, 1])\n",
      "axr: torch.Size([128, 1])\n",
      "evox: torch.Size([128, 8])\n",
      "tm: torch.Size([8])\n",
      "be: torch.Size([8])\n",
      "bf: torch.Size([8])\n",
      "adc: torch.Size([128, 1])\n",
      "sigma: torch.Size([128, 1])\n",
      "axr: torch.Size([128, 1])\n",
      "evox: torch.Size([128, 8])\n",
      "loss: 0.16763512045145035\n",
      "####################### saving good model #######################\n",
      "-----------------------------------------------------------------\n",
      "epoch: 101; bad epochs: 0\n"
     ]
    },
    {
     "name": "stderr",
     "output_type": "stream",
     "text": [
      "  0%|          | 0/7 [00:00<?, ?it/s]"
     ]
    },
    {
     "name": "stdout",
     "output_type": "stream",
     "text": [
      "tm: torch.Size([8])\n",
      "be: torch.Size([8])\n",
      "bf: torch.Size([8])\n",
      "adc: torch.Size([128, 1])\n",
      "sigma: torch.Size([128, 1])\n",
      "axr: torch.Size([128, 1])\n",
      "evox: torch.Size([128, 8])\n",
      "tm: torch.Size([8])\n",
      "be: torch.Size([8])\n",
      "bf: torch.Size([8])\n",
      "adc: torch.Size([128, 1])\n",
      "sigma: torch.Size([128, 1])\n",
      "axr: torch.Size([128, 1])\n",
      "evox: torch.Size([128, 8])\n",
      "tm: torch.Size([8])\n",
      "be: torch.Size([8])\n",
      "bf: torch.Size([8])\n",
      "adc: torch.Size([128, 1])\n",
      "sigma: torch.Size([128, 1])\n",
      "axr: torch.Size([128, 1])\n",
      "evox: torch.Size([128, 8])\n",
      "tm: torch.Size([8])\n",
      "be: torch.Size([8])\n",
      "bf: torch.Size([8])\n",
      "adc: torch.Size([128, 1])\n",
      "sigma: torch.Size([128, 1])\n",
      "axr: torch.Size([128, 1])\n",
      "evox: torch.Size([128, 8])\n",
      "tm: torch.Size([8])\n",
      "be: torch.Size([8])\n",
      "bf: torch.Size([8])\n",
      "adc: torch.Size([128, 1])\n",
      "sigma: torch.Size([128, 1])\n",
      "axr: torch.Size([128, 1])\n",
      "evox: torch.Size([128, 8])\n"
     ]
    },
    {
     "name": "stderr",
     "output_type": "stream",
     "text": [
      "100%|██████████| 7/7 [00:00<00:00, 87.57it/s]"
     ]
    },
    {
     "name": "stdout",
     "output_type": "stream",
     "text": [
      "tm: torch.Size([8])\n",
      "be: torch.Size([8])\n",
      "bf: torch.Size([8])\n",
      "adc: torch.Size([128, 1])\n",
      "sigma: torch.Size([128, 1])\n",
      "axr: torch.Size([128, 1])\n",
      "evox: torch.Size([128, 8])\n",
      "tm: torch.Size([8])\n",
      "be: torch.Size([8])\n",
      "bf: torch.Size([8])\n",
      "adc: torch.Size([128, 1])\n",
      "sigma: torch.Size([128, 1])\n",
      "axr: torch.Size([128, 1])\n",
      "evox: torch.Size([128, 8])\n",
      "loss: 0.16196615248918533\n",
      "####################### saving good model #######################\n",
      "-----------------------------------------------------------------\n",
      "epoch: 102; bad epochs: 0\n"
     ]
    },
    {
     "name": "stderr",
     "output_type": "stream",
     "text": [
      "\n",
      "  0%|          | 0/7 [00:00<?, ?it/s]"
     ]
    },
    {
     "name": "stdout",
     "output_type": "stream",
     "text": [
      "tm: torch.Size([8])\n",
      "be: torch.Size([8])\n",
      "bf: torch.Size([8])\n",
      "adc: torch.Size([128, 1])\n",
      "sigma: torch.Size([128, 1])\n",
      "axr: torch.Size([128, 1])\n",
      "evox: torch.Size([128, 8])\n",
      "tm: torch.Size([8])\n",
      "be: torch.Size([8])\n",
      "bf: torch.Size([8])\n",
      "adc: torch.Size([128, 1])\n",
      "sigma: torch.Size([128, 1])\n",
      "axr: torch.Size([128, 1])\n",
      "evox: torch.Size([128, 8])\n",
      "tm: torch.Size([8])\n",
      "be: torch.Size([8])\n",
      "bf: torch.Size([8])\n",
      "adc: torch.Size([128, 1])\n",
      "sigma: torch.Size([128, 1])\n",
      "axr: torch.Size([128, 1])\n",
      "evox: torch.Size([128, 8])\n",
      "tm: torch.Size([8])\n",
      "be: torch.Size([8])\n",
      "bf: torch.Size([8])\n",
      "adc: torch.Size([128, 1])\n",
      "sigma: torch.Size([128, 1])\n",
      "axr: torch.Size([128, 1])\n",
      "evox: torch.Size([128, 8])\n",
      "tm: torch.Size([8])\n",
      "be: torch.Size([8])\n",
      "bf: torch.Size([8])\n",
      "adc: torch.Size([128, 1])\n",
      "sigma: torch.Size([128, 1])\n",
      "axr: torch.Size([128, 1])\n",
      "evox: torch.Size([128, 8])\n",
      "tm: torch.Size([8])\n",
      "be: torch.Size([8])\n",
      "bf: torch.Size([8])\n",
      "adc: torch.Size([128, 1])\n",
      "sigma: torch.Size([128, 1])\n",
      "axr: torch.Size([128, 1])\n",
      "evox: torch.Size([128, 8])\n",
      "tm: torch.Size([8])\n",
      "be: torch.Size([8])\n",
      "bf: torch.Size([8])\n",
      "adc: torch.Size([128, 1])\n",
      "sigma: torch.Size([128, 1])\n",
      "axr: torch.Size([128, 1])\n",
      "evox: torch.Size([128, 8])\n"
     ]
    },
    {
     "name": "stderr",
     "output_type": "stream",
     "text": [
      "100%|██████████| 7/7 [00:00<00:00, 190.69it/s]\n"
     ]
    },
    {
     "name": "stdout",
     "output_type": "stream",
     "text": [
      "loss: 0.16113562136888504\n",
      "####################### saving good model #######################\n",
      "-----------------------------------------------------------------\n",
      "epoch: 103; bad epochs: 0\n"
     ]
    },
    {
     "name": "stderr",
     "output_type": "stream",
     "text": [
      "  0%|          | 0/7 [00:00<?, ?it/s]"
     ]
    },
    {
     "name": "stdout",
     "output_type": "stream",
     "text": [
      "tm: torch.Size([8])\n",
      "be: torch.Size([8])\n",
      "bf: torch.Size([8])\n",
      "adc: torch.Size([128, 1])\n",
      "sigma: torch.Size([128, 1])\n",
      "axr: torch.Size([128, 1])\n",
      "evox: torch.Size([128, 8])\n",
      "tm: torch.Size([8])\n",
      "be: torch.Size([8])\n",
      "bf: torch.Size([8])\n",
      "adc: torch.Size([128, 1])\n",
      "sigma: torch.Size([128, 1])\n",
      "axr: torch.Size([128, 1])\n",
      "evox: torch.Size([128, 8])\n",
      "tm: torch.Size([8])\n",
      "be: torch.Size([8])\n",
      "bf: torch.Size([8])\n",
      "adc: torch.Size([128, 1])\n",
      "sigma: torch.Size([128, 1])\n",
      "axr: torch.Size([128, 1])\n",
      "evox: torch.Size([128, 8])\n",
      "tm: torch.Size([8])\n",
      "be: torch.Size([8])\n",
      "bf: torch.Size([8])\n",
      "adc: torch.Size([128, 1])\n",
      "sigma: torch.Size([128, 1])\n",
      "axr: torch.Size([128, 1])\n",
      "evox: torch.Size([128, 8])\n",
      "tm: torch.Size([8])\n",
      "be: torch.Size([8])\n",
      "bf: torch.Size([8])\n",
      "adc: torch.Size([128, 1])\n",
      "sigma: torch.Size([128, 1])\n",
      "axr: torch.Size([128, 1])\n",
      "evox: torch.Size([128, 8])\n",
      "tm: torch.Size([8])\n",
      "be: torch.Size([8])\n",
      "bf: torch.Size([8])\n",
      "adc: torch.Size([128, 1])\n",
      "sigma: torch.Size([128, 1])\n",
      "axr: torch.Size([128, 1])\n",
      "evox: torch.Size([128, 8])\n",
      "tm: torch.Size([8])\n",
      "be: torch.Size([8])\n",
      "bf: torch.Size([8])\n",
      "adc: torch.Size([128, 1])\n",
      "sigma: torch.Size([128, 1])\n",
      "axr: torch.Size([128, 1])\n",
      "evox: torch.Size([128, 8])\n"
     ]
    },
    {
     "name": "stderr",
     "output_type": "stream",
     "text": [
      "100%|██████████| 7/7 [00:00<00:00, 131.01it/s]"
     ]
    },
    {
     "name": "stdout",
     "output_type": "stream",
     "text": [
      "loss: 0.16112283617258072"
     ]
    },
    {
     "name": "stderr",
     "output_type": "stream",
     "text": [
      "\n"
     ]
    },
    {
     "name": "stdout",
     "output_type": "stream",
     "text": [
      "\n",
      "####################### saving good model #######################\n",
      "-----------------------------------------------------------------\n",
      "epoch: 104; bad epochs: 0\n"
     ]
    },
    {
     "name": "stderr",
     "output_type": "stream",
     "text": [
      "  0%|          | 0/7 [00:00<?, ?it/s]"
     ]
    },
    {
     "name": "stdout",
     "output_type": "stream",
     "text": [
      "tm: torch.Size([8])\n",
      "be: torch.Size([8])\n",
      "bf: torch.Size([8])\n",
      "adc: torch.Size([128, 1])\n",
      "sigma: torch.Size([128, 1])\n",
      "axr: torch.Size([128, 1])\n",
      "evox: torch.Size([128, 8])\n"
     ]
    },
    {
     "name": "stderr",
     "output_type": "stream",
     "text": [
      "100%|██████████| 7/7 [00:00<00:00, 209.69it/s]"
     ]
    },
    {
     "name": "stdout",
     "output_type": "stream",
     "text": [
      "tm: torch.Size([8])\n",
      "be: torch.Size([8])\n",
      "bf: torch.Size([8])\n",
      "adc: torch.Size([128, 1])\n",
      "sigma: torch.Size([128, 1])\n",
      "axr: torch.Size([128, 1])\n",
      "evox: torch.Size([128, 8])\n",
      "tm: torch.Size([8])\n",
      "be: torch.Size([8])\n",
      "bf: torch.Size([8])\n",
      "adc: torch.Size([128, 1])\n",
      "sigma: torch.Size([128, 1])\n",
      "axr: torch.Size([128, 1])\n",
      "evox: torch.Size([128, 8])\n",
      "tm: torch.Size([8])\n",
      "be: torch.Size([8])\n",
      "bf: torch.Size([8])\n",
      "adc: torch.Size([128, 1])\n",
      "sigma: torch.Size([128, 1])\n",
      "axr: torch.Size([128, 1])\n",
      "evox: torch.Size([128, 8])\n",
      "tm: torch.Size([8])\n",
      "be: torch.Size([8])\n",
      "bf: torch.Size([8])\n",
      "adc: torch.Size([128, 1])\n",
      "sigma: torch.Size([128, 1])\n",
      "axr: torch.Size([128, 1])\n",
      "evox: torch.Size([128, 8])\n",
      "tm: torch.Size([8])\n",
      "be: torch.Size([8])\n",
      "bf: torch.Size([8])\n",
      "adc: torch.Size([128, 1])\n",
      "sigma: torch.Size([128, 1])\n",
      "axr: torch.Size([128, 1])\n",
      "evox: torch.Size([128, 8])\n",
      "tm: torch.Size([8])\n",
      "be: torch.Size([8])\n",
      "bf: torch.Size([8])\n",
      "adc: torch.Size([128, 1])\n",
      "sigma: torch.Size([128, 1])\n",
      "axr: torch.Size([128, 1])\n",
      "evox: torch.Size([128, 8])\n",
      "loss: 0.1578505001962185\n",
      "####################### saving good model #######################\n",
      "-----------------------------------------------------------------\n",
      "epoch: 105; bad epochs: 0\n"
     ]
    },
    {
     "name": "stderr",
     "output_type": "stream",
     "text": [
      "\n",
      "  0%|          | 0/7 [00:00<?, ?it/s]"
     ]
    },
    {
     "name": "stdout",
     "output_type": "stream",
     "text": [
      "tm: torch.Size([8])\n",
      "be: torch.Size([8])\n",
      "bf: torch.Size([8])\n",
      "adc: torch.Size([128, 1])\n",
      "sigma: torch.Size([128, 1])\n",
      "axr: torch.Size([128, 1])\n",
      "evox: torch.Size([128, 8])\n",
      "tm: torch.Size([8])\n",
      "be: torch.Size([8])\n",
      "bf: torch.Size([8])\n",
      "adc: torch.Size([128, 1])\n",
      "sigma: torch.Size([128, 1])\n",
      "axr: torch.Size([128, 1])\n",
      "evox: torch.Size([128, 8])\n",
      "tm: torch.Size([8])\n",
      "be: torch.Size([8])\n",
      "bf: torch.Size([8])\n",
      "adc: torch.Size([128, 1])\n",
      "sigma: torch.Size([128, 1])\n",
      "axr: torch.Size([128, 1])\n",
      "evox: torch.Size([128, 8])\n",
      "tm: torch.Size([8])\n",
      "be: torch.Size([8])\n",
      "bf: torch.Size([8])\n",
      "adc: torch.Size([128, 1])\n",
      "sigma: torch.Size([128, 1])\n",
      "axr: torch.Size([128, 1])\n",
      "evox: torch.Size([128, 8])\n",
      "tm: torch.Size([8])\n",
      "be: torch.Size([8])\n",
      "bf: torch.Size([8])\n",
      "adc: torch.Size([128, 1])\n",
      "sigma: torch.Size([128, 1])\n",
      "axr: torch.Size([128, 1])\n",
      "evox: torch.Size([128, 8])\n",
      "tm: torch.Size([8])\n",
      "be: torch.Size([8])\n",
      "bf: torch.Size([8])\n",
      "adc: torch.Size([128, 1])\n",
      "sigma: torch.Size([128, 1])\n",
      "axr: torch.Size([128, 1])\n",
      "evox: torch.Size([128, 8])\n",
      "tm: torch.Size([8])\n",
      "be: torch.Size([8])\n",
      "bf: torch.Size([8])\n",
      "adc: torch.Size([128, 1])\n",
      "sigma: torch.Size([128, 1])\n",
      "axr: torch.Size([128, 1])\n",
      "evox: torch.Size([128, 8])\n"
     ]
    },
    {
     "name": "stderr",
     "output_type": "stream",
     "text": [
      "100%|██████████| 7/7 [00:00<00:00, 241.07it/s]"
     ]
    },
    {
     "name": "stdout",
     "output_type": "stream",
     "text": [
      "loss: 0.1582666728645563"
     ]
    },
    {
     "name": "stderr",
     "output_type": "stream",
     "text": [
      "\n"
     ]
    },
    {
     "name": "stdout",
     "output_type": "stream",
     "text": [
      "\n",
      "-----------------------------------------------------------------\n",
      "epoch: 106; bad epochs: 1\n"
     ]
    },
    {
     "name": "stderr",
     "output_type": "stream",
     "text": [
      "100%|██████████| 7/7 [00:00<00:00, 259.53it/s]\n"
     ]
    },
    {
     "name": "stdout",
     "output_type": "stream",
     "text": [
      "tm: torch.Size([8])\n",
      "be: torch.Size([8])\n",
      "bf: torch.Size([8])\n",
      "adc: torch.Size([128, 1])\n",
      "sigma: torch.Size([128, 1])\n",
      "axr: torch.Size([128, 1])\n",
      "evox: torch.Size([128, 8])\n",
      "tm: torch.Size([8])\n",
      "be: torch.Size([8])\n",
      "bf: torch.Size([8])\n",
      "adc: torch.Size([128, 1])\n",
      "sigma: torch.Size([128, 1])\n",
      "axr: torch.Size([128, 1])\n",
      "evox: torch.Size([128, 8])\n",
      "tm: torch.Size([8])\n",
      "be: torch.Size([8])\n",
      "bf: torch.Size([8])\n",
      "adc: torch.Size([128, 1])\n",
      "sigma: torch.Size([128, 1])\n",
      "axr: torch.Size([128, 1])\n",
      "evox: torch.Size([128, 8])\n",
      "tm: torch.Size([8])\n",
      "be: torch.Size([8])\n",
      "bf: torch.Size([8])\n",
      "adc: torch.Size([128, 1])\n",
      "sigma: torch.Size([128, 1])\n",
      "axr: torch.Size([128, 1])\n",
      "evox: torch.Size([128, 8])\n",
      "tm: torch.Size([8])\n",
      "be: torch.Size([8])\n",
      "bf: torch.Size([8])\n",
      "adc: torch.Size([128, 1])\n",
      "sigma: torch.Size([128, 1])\n",
      "axr: torch.Size([128, 1])\n",
      "evox: torch.Size([128, 8])\n",
      "tm: torch.Size([8])\n",
      "be: torch.Size([8])\n",
      "bf: torch.Size([8])\n",
      "adc: torch.Size([128, 1])\n",
      "sigma: torch.Size([128, 1])\n",
      "axr: torch.Size([128, 1])\n",
      "evox: torch.Size([128, 8])\n",
      "tm: torch.Size([8])\n",
      "be: torch.Size([8])\n",
      "bf: torch.Size([8])\n",
      "adc: torch.Size([128, 1])\n",
      "sigma: torch.Size([128, 1])\n",
      "axr: torch.Size([128, 1])\n",
      "evox: torch.Size([128, 8])\n",
      "loss: 0.15476588532328606\n",
      "####################### saving good model #######################\n",
      "-----------------------------------------------------------------\n",
      "epoch: 107; bad epochs: 0\n"
     ]
    },
    {
     "name": "stderr",
     "output_type": "stream",
     "text": [
      "  0%|          | 0/7 [00:00<?, ?it/s]"
     ]
    },
    {
     "name": "stdout",
     "output_type": "stream",
     "text": [
      "tm: torch.Size([8])\n",
      "be: torch.Size([8])\n",
      "bf: torch.Size([8])\n",
      "adc: torch.Size([128, 1])\n",
      "sigma: torch.Size([128, 1])\n",
      "axr: torch.Size([128, 1])\n",
      "evox: torch.Size([128, 8])\n",
      "tm: torch.Size([8])\n",
      "be: torch.Size([8])\n",
      "bf: torch.Size([8])\n",
      "adc: torch.Size([128, 1])\n",
      "sigma: torch.Size([128, 1])\n",
      "axr: torch.Size([128, 1])\n",
      "evox: torch.Size([128, 8])\n",
      "tm: torch.Size([8])\n",
      "be: torch.Size([8])\n",
      "bf: torch.Size([8])\n",
      "adc: torch.Size([128, 1])\n",
      "sigma: torch.Size([128, 1])\n",
      "axr: torch.Size([128, 1])\n",
      "evox: torch.Size([128, 8])\n",
      "tm: torch.Size([8])\n",
      "be: torch.Size([8])\n",
      "bf: torch.Size([8])\n",
      "adc: torch.Size([128, 1])\n",
      "sigma: torch.Size([128, 1])\n",
      "axr: torch.Size([128, 1])\n",
      "evox: torch.Size([128, 8])\n"
     ]
    },
    {
     "name": "stderr",
     "output_type": "stream",
     "text": [
      "100%|██████████| 7/7 [00:00<00:00, 278.66it/s]\n"
     ]
    },
    {
     "name": "stdout",
     "output_type": "stream",
     "text": [
      "tm: torch.Size([8])\n",
      "be: torch.Size([8])\n",
      "bf: torch.Size([8])\n",
      "adc: torch.Size([128, 1])\n",
      "sigma: torch.Size([128, 1])\n",
      "axr: torch.Size([128, 1])\n",
      "evox: torch.Size([128, 8])\n",
      "tm: torch.Size([8])\n",
      "be: torch.Size([8])\n",
      "bf: torch.Size([8])\n",
      "adc: torch.Size([128, 1])\n",
      "sigma: torch.Size([128, 1])\n",
      "axr: torch.Size([128, 1])\n",
      "evox: torch.Size([128, 8])\n",
      "tm: torch.Size([8])\n",
      "be: torch.Size([8])\n",
      "bf: torch.Size([8])\n",
      "adc: torch.Size([128, 1])\n",
      "sigma: torch.Size([128, 1])\n",
      "axr: torch.Size([128, 1])\n",
      "evox: torch.Size([128, 8])\n",
      "loss: 0.1505922805517912\n",
      "####################### saving good model #######################\n",
      "-----------------------------------------------------------------\n",
      "epoch: 108; bad epochs: 0\n"
     ]
    },
    {
     "name": "stderr",
     "output_type": "stream",
     "text": [
      "  0%|          | 0/7 [00:00<?, ?it/s]"
     ]
    },
    {
     "name": "stdout",
     "output_type": "stream",
     "text": [
      "tm: torch.Size([8])\n",
      "be: torch.Size([8])\n",
      "bf: torch.Size([8])\n",
      "adc: torch.Size([128, 1])\n",
      "sigma: torch.Size([128, 1])\n",
      "axr: torch.Size([128, 1])\n",
      "evox: torch.Size([128, 8])\n"
     ]
    },
    {
     "name": "stderr",
     "output_type": "stream",
     "text": [
      "100%|██████████| 7/7 [00:00<00:00, 242.65it/s]\n"
     ]
    },
    {
     "name": "stdout",
     "output_type": "stream",
     "text": [
      "tm: torch.Size([8])\n",
      "be: torch.Size([8])\n",
      "bf: torch.Size([8])\n",
      "adc: torch.Size([128, 1])\n",
      "sigma: torch.Size([128, 1])\n",
      "axr: torch.Size([128, 1])\n",
      "evox: torch.Size([128, 8])\n",
      "tm: torch.Size([8])\n",
      "be: torch.Size([8])\n",
      "bf: torch.Size([8])\n",
      "adc: torch.Size([128, 1])\n",
      "sigma: torch.Size([128, 1])\n",
      "axr: torch.Size([128, 1])\n",
      "evox: torch.Size([128, 8])\n",
      "tm: torch.Size([8])\n",
      "be: torch.Size([8])\n",
      "bf: torch.Size([8])\n",
      "adc: torch.Size([128, 1])\n",
      "sigma: torch.Size([128, 1])\n",
      "axr: torch.Size([128, 1])\n",
      "evox: torch.Size([128, 8])\n",
      "tm: torch.Size([8])\n",
      "be: torch.Size([8])\n",
      "bf: torch.Size([8])\n",
      "adc: torch.Size([128, 1])\n",
      "sigma: torch.Size([128, 1])\n",
      "axr: torch.Size([128, 1])\n",
      "evox: torch.Size([128, 8])\n",
      "tm: torch.Size([8])\n",
      "be: torch.Size([8])\n",
      "bf: torch.Size([8])\n",
      "adc: torch.Size([128, 1])\n",
      "sigma: torch.Size([128, 1])\n",
      "axr: torch.Size([128, 1])\n",
      "evox: torch.Size([128, 8])\n",
      "tm: torch.Size([8])\n",
      "be: torch.Size([8])\n",
      "bf: torch.Size([8])\n",
      "adc: torch.Size([128, 1])\n",
      "sigma: torch.Size([128, 1])\n",
      "axr: torch.Size([128, 1])\n",
      "evox: torch.Size([128, 8])\n",
      "loss: 0.15065649710595608\n",
      "-----------------------------------------------------------------\n",
      "epoch: 109; bad epochs: 1\n"
     ]
    },
    {
     "name": "stderr",
     "output_type": "stream",
     "text": [
      "  0%|          | 0/7 [00:00<?, ?it/s]"
     ]
    },
    {
     "name": "stdout",
     "output_type": "stream",
     "text": [
      "tm: torch.Size([8])\n",
      "be: torch.Size([8])\n",
      "bf: torch.Size([8])\n",
      "adc: torch.Size([128, 1])\n",
      "sigma: torch.Size([128, 1])\n",
      "axr: torch.Size([128, 1])\n",
      "evox: torch.Size([128, 8])\n",
      "tm: torch.Size([8])\n",
      "be: torch.Size([8])\n",
      "bf: torch.Size([8])\n",
      "adc: torch.Size([128, 1])\n",
      "sigma: torch.Size([128, 1])\n",
      "axr: torch.Size([128, 1])\n",
      "evox: torch.Size([128, 8])\n",
      "tm: torch.Size([8])\n",
      "be: torch.Size([8])\n",
      "bf: torch.Size([8])\n",
      "adc: torch.Size([128, 1])\n",
      "sigma: torch.Size([128, 1])\n",
      "axr: torch.Size([128, 1])\n",
      "evox: torch.Size([128, 8])\n",
      "tm: torch.Size([8])\n",
      "be: torch.Size([8])\n",
      "bf: torch.Size([8])\n",
      "adc: torch.Size([128, 1])\n",
      "sigma: torch.Size([128, 1])\n",
      "axr: torch.Size([128, 1])\n",
      "evox: torch.Size([128, 8])\n",
      "tm: torch.Size([8])\n",
      "be: torch.Size([8])\n",
      "bf: torch.Size([8])\n",
      "adc: torch.Size([128, 1])\n",
      "sigma: torch.Size([128, 1])\n",
      "axr: torch.Size([128, 1])\n",
      "evox: torch.Size([128, 8])\n",
      "tm: torch.Size([8])\n",
      "be: torch.Size([8])\n",
      "bf: torch.Size([8])\n",
      "adc: torch.Size([128, 1])\n",
      "sigma: torch.Size([128, 1])\n",
      "axr: torch.Size([128, 1])\n",
      "evox: torch.Size([128, 8])\n",
      "tm: torch.Size([8])\n",
      "be: torch.Size([8])\n",
      "bf: torch.Size([8])\n",
      "adc: torch.Size([128, 1])\n",
      "sigma: torch.Size([128, 1])\n",
      "axr: torch.Size([128, 1])\n",
      "evox: torch.Size([128, 8])\n"
     ]
    },
    {
     "name": "stderr",
     "output_type": "stream",
     "text": [
      "100%|██████████| 7/7 [00:00<00:00, 197.69it/s]\n"
     ]
    },
    {
     "name": "stdout",
     "output_type": "stream",
     "text": [
      "loss: 0.14535153284668922\n",
      "####################### saving good model #######################\n",
      "-----------------------------------------------------------------\n",
      "epoch: 110; bad epochs: 0\n"
     ]
    },
    {
     "name": "stderr",
     "output_type": "stream",
     "text": [
      "100%|██████████| 7/7 [00:00<00:00, 244.64it/s]"
     ]
    },
    {
     "name": "stdout",
     "output_type": "stream",
     "text": [
      "tm: torch.Size([8])\n",
      "be: torch.Size([8])\n",
      "bf: torch.Size([8])\n",
      "adc: torch.Size([128, 1])\n",
      "sigma: torch.Size([128, 1])\n",
      "axr: torch.Size([128, 1])\n",
      "evox: torch.Size([128, 8])\n",
      "tm: torch.Size([8])\n",
      "be: torch.Size([8])\n",
      "bf: torch.Size([8])\n",
      "adc: torch.Size([128, 1])\n",
      "sigma: torch.Size([128, 1])\n",
      "axr: torch.Size([128, 1])\n",
      "evox: torch.Size([128, 8])\n",
      "tm: torch.Size([8])\n",
      "be: torch.Size([8])\n",
      "bf: torch.Size([8])\n",
      "adc: torch.Size([128, 1])\n",
      "sigma: torch.Size([128, 1])\n",
      "axr: torch.Size([128, 1])\n",
      "evox: torch.Size([128, 8])\n",
      "tm: torch.Size([8])\n",
      "be: torch.Size([8])\n",
      "bf: torch.Size([8])\n",
      "adc: torch.Size([128, 1])\n",
      "sigma: torch.Size([128, 1])\n",
      "axr: torch.Size([128, 1])\n",
      "evox: torch.Size([128, 8])\n",
      "tm: torch.Size([8])\n",
      "be: torch.Size([8])\n",
      "bf: torch.Size([8])\n",
      "adc: torch.Size([128, 1])\n",
      "sigma: torch.Size([128, 1])\n",
      "axr: torch.Size([128, 1])\n",
      "evox: torch.Size([128, 8])\n",
      "tm: torch.Size([8])\n",
      "be: torch.Size([8])\n",
      "bf: torch.Size([8])\n",
      "adc: torch.Size([128, 1])\n",
      "sigma: torch.Size([128, 1])\n",
      "axr: torch.Size([128, 1])\n",
      "evox: torch.Size([128, 8])\n",
      "tm: torch.Size([8])\n",
      "be: torch.Size([8])\n",
      "bf: torch.Size([8])\n",
      "adc: torch.Size([128, 1])\n",
      "sigma: torch.Size([128, 1])\n",
      "axr: torch.Size([128, 1])\n",
      "evox: torch.Size([128, 8])\n"
     ]
    },
    {
     "name": "stderr",
     "output_type": "stream",
     "text": [
      "\n"
     ]
    },
    {
     "name": "stdout",
     "output_type": "stream",
     "text": [
      "loss: 0.14394779689610004\n",
      "####################### saving good model #######################\n",
      "-----------------------------------------------------------------\n",
      "epoch: 111; bad epochs: 0\n"
     ]
    },
    {
     "name": "stderr",
     "output_type": "stream",
     "text": [
      "100%|██████████| 7/7 [00:00<00:00, 220.03it/s]"
     ]
    },
    {
     "name": "stdout",
     "output_type": "stream",
     "text": [
      "tm: torch.Size([8])\n",
      "be: torch.Size([8])\n",
      "bf: torch.Size([8])\n",
      "adc: torch.Size([128, 1])\n",
      "sigma: torch.Size([128, 1])\n",
      "axr: torch.Size([128, 1])\n",
      "evox: torch.Size([128, 8])\n",
      "tm: torch.Size([8])\n",
      "be: torch.Size([8])\n",
      "bf: torch.Size([8])\n",
      "adc: torch.Size([128, 1])\n",
      "sigma: torch.Size([128, 1])\n",
      "axr: torch.Size([128, 1])\n",
      "evox: torch.Size([128, 8])\n",
      "tm: torch.Size([8])\n",
      "be: torch.Size([8])\n",
      "bf: torch.Size([8])\n",
      "adc: torch.Size([128, 1])\n",
      "sigma: torch.Size([128, 1])\n",
      "axr: torch.Size([128, 1])\n",
      "evox: torch.Size([128, 8])\n",
      "tm: torch.Size([8])\n",
      "be: torch.Size([8])\n",
      "bf: torch.Size([8])\n",
      "adc: torch.Size([128, 1])\n",
      "sigma: torch.Size([128, 1])\n",
      "axr: torch.Size([128, 1])\n",
      "evox: torch.Size([128, 8])\n",
      "tm: torch.Size([8])\n",
      "be: torch.Size([8])\n",
      "bf: torch.Size([8])\n",
      "adc: torch.Size([128, 1])\n",
      "sigma: torch.Size([128, 1])\n",
      "axr: torch.Size([128, 1])\n",
      "evox: torch.Size([128, 8])\n",
      "tm: torch.Size([8])\n",
      "be: torch.Size([8])\n",
      "bf: torch.Size([8])\n",
      "adc: torch.Size([128, 1])\n",
      "sigma: torch.Size([128, 1])\n",
      "axr: torch.Size([128, 1])\n",
      "evox: torch.Size([128, 8])\n",
      "tm: torch.Size([8])\n",
      "be: torch.Size([8])\n",
      "bf: torch.Size([8])\n",
      "adc: torch.Size([128, 1])\n",
      "sigma: torch.Size([128, 1])\n",
      "axr: torch.Size([128, 1])\n",
      "evox: torch.Size([128, 8])\n",
      "loss: 0.1433686427772045"
     ]
    },
    {
     "name": "stderr",
     "output_type": "stream",
     "text": [
      "\n"
     ]
    },
    {
     "name": "stdout",
     "output_type": "stream",
     "text": [
      "\n",
      "####################### saving good model #######################\n",
      "-----------------------------------------------------------------\n",
      "epoch: 112; bad epochs: 0\n"
     ]
    },
    {
     "name": "stderr",
     "output_type": "stream",
     "text": [
      "100%|██████████| 7/7 [00:00<00:00, 222.33it/s]"
     ]
    },
    {
     "name": "stdout",
     "output_type": "stream",
     "text": [
      "tm: torch.Size([8])\n",
      "be: torch.Size([8])\n",
      "bf: torch.Size([8])\n",
      "adc: torch.Size([128, 1])\n",
      "sigma: torch.Size([128, 1])\n",
      "axr: torch.Size([128, 1])\n",
      "evox: torch.Size([128, 8])\n",
      "tm: torch.Size([8])\n",
      "be: torch.Size([8])\n",
      "bf: torch.Size([8])\n",
      "adc: torch.Size([128, 1])\n",
      "sigma: torch.Size([128, 1])\n",
      "axr: torch.Size([128, 1])\n",
      "evox: torch.Size([128, 8])\n",
      "tm: torch.Size([8])\n",
      "be: torch.Size([8])\n",
      "bf: torch.Size([8])\n",
      "adc: torch.Size([128, 1])\n",
      "sigma: torch.Size([128, 1])\n",
      "axr: torch.Size([128, 1])\n",
      "evox: torch.Size([128, 8])\n",
      "tm: torch.Size([8])\n",
      "be: torch.Size([8])\n",
      "bf: torch.Size([8])\n",
      "adc: torch.Size([128, 1])\n",
      "sigma: torch.Size([128, 1])\n",
      "axr: torch.Size([128, 1])\n",
      "evox: torch.Size([128, 8])\n",
      "tm: torch.Size([8])\n",
      "be: torch.Size([8])\n",
      "bf: torch.Size([8])\n",
      "adc: torch.Size([128, 1])\n",
      "sigma: torch.Size([128, 1])\n",
      "axr: torch.Size([128, 1])\n",
      "evox: torch.Size([128, 8])\n",
      "tm: torch.Size([8])\n",
      "be: torch.Size([8])\n",
      "bf: torch.Size([8])\n",
      "adc: torch.Size([128, 1])\n",
      "sigma: torch.Size([128, 1])\n",
      "axr: torch.Size([128, 1])\n",
      "evox: torch.Size([128, 8])\n",
      "tm: torch.Size([8])\n",
      "be: torch.Size([8])\n",
      "bf: torch.Size([8])\n",
      "adc: torch.Size([128, 1])\n",
      "sigma: torch.Size([128, 1])\n",
      "axr: torch.Size([128, 1])\n",
      "evox: torch.Size([128, 8])\n"
     ]
    },
    {
     "name": "stderr",
     "output_type": "stream",
     "text": [
      "\n"
     ]
    },
    {
     "name": "stdout",
     "output_type": "stream",
     "text": [
      "loss: 0.1434087809175253\n",
      "-----------------------------------------------------------------\n",
      "epoch: 113; bad epochs: 1\n"
     ]
    },
    {
     "name": "stderr",
     "output_type": "stream",
     "text": [
      "  0%|          | 0/7 [00:00<?, ?it/s]"
     ]
    },
    {
     "name": "stdout",
     "output_type": "stream",
     "text": [
      "tm: torch.Size([8])\n",
      "be: torch.Size([8])\n",
      "bf: torch.Size([8])\n",
      "adc: torch.Size([128, 1])\n",
      "sigma: torch.Size([128, 1])\n",
      "axr: torch.Size([128, 1])\n",
      "evox: torch.Size([128, 8])\n",
      "tm: torch.Size([8])\n",
      "be: torch.Size([8])\n",
      "bf: torch.Size([8])\n",
      "adc: torch.Size([128, 1])\n",
      "sigma: torch.Size([128, 1])\n",
      "axr: torch.Size([128, 1])\n",
      "evox: torch.Size([128, 8])\n",
      "tm: torch.Size([8])\n",
      "be: torch.Size([8])\n",
      "bf: torch.Size([8])\n",
      "adc: torch.Size([128, 1])\n",
      "sigma: torch.Size([128, 1])\n",
      "axr: torch.Size([128, 1])\n",
      "evox: torch.Size([128, 8])\n",
      "tm: torch.Size([8])\n",
      "be: torch.Size([8])\n",
      "bf: torch.Size([8])\n",
      "adc: torch.Size([128, 1])\n",
      "sigma: torch.Size([128, 1])\n",
      "axr: torch.Size([128, 1])\n",
      "evox: torch.Size([128, 8])\n",
      "tm: torch.Size([8])\n",
      "be: torch.Size([8])\n",
      "bf: torch.Size([8])\n",
      "adc: torch.Size([128, 1])\n",
      "sigma: torch.Size([128, 1])\n",
      "axr: torch.Size([128, 1])\n",
      "evox: torch.Size([128, 8])\n",
      "tm: torch.Size([8])\n",
      "be: torch.Size([8])\n",
      "bf: torch.Size([8])\n",
      "adc: torch.Size([128, 1])\n",
      "sigma: torch.Size([128, 1])\n",
      "axr: torch.Size([128, 1])\n",
      "evox: torch.Size([128, 8])\n"
     ]
    },
    {
     "name": "stderr",
     "output_type": "stream",
     "text": [
      "100%|██████████| 7/7 [00:00<00:00, 147.87it/s]\n"
     ]
    },
    {
     "name": "stdout",
     "output_type": "stream",
     "text": [
      "tm: torch.Size([8])\n",
      "be: torch.Size([8])\n",
      "bf: torch.Size([8])\n",
      "adc: torch.Size([128, 1])\n",
      "sigma: torch.Size([128, 1])\n",
      "axr: torch.Size([128, 1])\n",
      "evox: torch.Size([128, 8])\n",
      "loss: 0.13746318593621254\n",
      "####################### saving good model #######################\n",
      "-----------------------------------------------------------------\n",
      "epoch: 114; bad epochs: 0\n"
     ]
    },
    {
     "name": "stderr",
     "output_type": "stream",
     "text": [
      "  0%|          | 0/7 [00:00<?, ?it/s]"
     ]
    },
    {
     "name": "stdout",
     "output_type": "stream",
     "text": [
      "tm: torch.Size([8])\n",
      "be: torch.Size([8])\n",
      "bf: torch.Size([8])\n",
      "adc: torch.Size([128, 1])\n",
      "sigma: torch.Size([128, 1])\n",
      "axr: torch.Size([128, 1])\n",
      "evox: torch.Size([128, 8])\n",
      "tm: torch.Size([8])\n",
      "be: torch.Size([8])\n",
      "bf: torch.Size([8])\n",
      "adc: torch.Size([128, 1])\n",
      "sigma: torch.Size([128, 1])\n",
      "axr: torch.Size([128, 1])\n",
      "evox: torch.Size([128, 8])\n",
      "tm: torch.Size([8])\n",
      "be: torch.Size([8])\n",
      "bf: torch.Size([8])\n",
      "adc: torch.Size([128, 1])\n",
      "sigma: torch.Size([128, 1])\n",
      "axr: torch.Size([128, 1])\n",
      "evox: torch.Size([128, 8])\n",
      "tm: torch.Size([8])\n",
      "be: torch.Size([8])\n",
      "bf: torch.Size([8])\n",
      "adc: torch.Size([128, 1])\n",
      "sigma: torch.Size([128, 1])\n",
      "axr: torch.Size([128, 1])\n",
      "evox: torch.Size([128, 8])\n"
     ]
    },
    {
     "name": "stderr",
     "output_type": "stream",
     "text": [
      "100%|██████████| 7/7 [00:00<00:00, 159.83it/s]\n"
     ]
    },
    {
     "name": "stdout",
     "output_type": "stream",
     "text": [
      "tm: torch.Size([8])\n",
      "be: torch.Size([8])\n",
      "bf: torch.Size([8])\n",
      "adc: torch.Size([128, 1])\n",
      "sigma: torch.Size([128, 1])\n",
      "axr: torch.Size([128, 1])\n",
      "evox: torch.Size([128, 8])\n",
      "tm: torch.Size([8])\n",
      "be: torch.Size([8])\n",
      "bf: torch.Size([8])\n",
      "adc: torch.Size([128, 1])\n",
      "sigma: torch.Size([128, 1])\n",
      "axr: torch.Size([128, 1])\n",
      "evox: torch.Size([128, 8])\n",
      "tm: torch.Size([8])\n",
      "be: torch.Size([8])\n",
      "bf: torch.Size([8])\n",
      "adc: torch.Size([128, 1])\n",
      "sigma: torch.Size([128, 1])\n",
      "axr: torch.Size([128, 1])\n",
      "evox: torch.Size([128, 8])\n",
      "loss: 0.1376110017299652\n",
      "-----------------------------------------------------------------\n",
      "epoch: 115; bad epochs: 1\n"
     ]
    },
    {
     "name": "stderr",
     "output_type": "stream",
     "text": [
      "  0%|          | 0/7 [00:00<?, ?it/s]"
     ]
    },
    {
     "name": "stdout",
     "output_type": "stream",
     "text": [
      "tm: torch.Size([8])\n",
      "be: torch.Size([8])\n",
      "bf: torch.Size([8])\n",
      "adc: torch.Size([128, 1])\n",
      "sigma: torch.Size([128, 1])\n",
      "axr: torch.Size([128, 1])\n",
      "evox: torch.Size([128, 8])\n",
      "tm: torch.Size([8])\n",
      "be: torch.Size([8])\n",
      "bf: torch.Size([8])\n",
      "adc: torch.Size([128, 1])\n",
      "sigma: torch.Size([128, 1])\n",
      "axr: torch.Size([128, 1])\n",
      "evox: torch.Size([128, 8])\n",
      "tm: torch.Size([8])\n",
      "be: torch.Size([8])\n",
      "bf: torch.Size([8])\n",
      "adc: torch.Size([128, 1])\n",
      "sigma: torch.Size([128, 1])\n",
      "axr: torch.Size([128, 1])\n",
      "evox: torch.Size([128, 8])\n",
      "tm: torch.Size([8])\n",
      "be: torch.Size([8])\n",
      "bf: torch.Size([8])\n",
      "adc: torch.Size([128, 1])\n",
      "sigma: torch.Size([128, 1])\n",
      "axr: torch.Size([128, 1])\n",
      "evox: torch.Size([128, 8])\n"
     ]
    },
    {
     "name": "stderr",
     "output_type": "stream",
     "text": [
      "100%|██████████| 7/7 [00:00<00:00, 169.62it/s]\n"
     ]
    },
    {
     "name": "stdout",
     "output_type": "stream",
     "text": [
      "tm: torch.Size([8])\n",
      "be: torch.Size([8])\n",
      "bf: torch.Size([8])\n",
      "adc: torch.Size([128, 1])\n",
      "sigma: torch.Size([128, 1])\n",
      "axr: torch.Size([128, 1])\n",
      "evox: torch.Size([128, 8])\n",
      "tm: torch.Size([8])\n",
      "be: torch.Size([8])\n",
      "bf: torch.Size([8])\n",
      "adc: torch.Size([128, 1])\n",
      "sigma: torch.Size([128, 1])\n",
      "axr: torch.Size([128, 1])\n",
      "evox: torch.Size([128, 8])\n",
      "tm: torch.Size([8])\n",
      "be: torch.Size([8])\n",
      "bf: torch.Size([8])\n",
      "adc: torch.Size([128, 1])\n",
      "sigma: torch.Size([128, 1])\n",
      "axr: torch.Size([128, 1])\n",
      "evox: torch.Size([128, 8])\n",
      "loss: 0.13431652821600437\n",
      "####################### saving good model #######################\n",
      "-----------------------------------------------------------------\n",
      "epoch: 116; bad epochs: 0\n"
     ]
    },
    {
     "name": "stderr",
     "output_type": "stream",
     "text": [
      "  0%|          | 0/7 [00:00<?, ?it/s]"
     ]
    },
    {
     "name": "stdout",
     "output_type": "stream",
     "text": [
      "tm: torch.Size([8])\n",
      "be: torch.Size([8])\n",
      "bf: torch.Size([8])\n",
      "adc: torch.Size([128, 1])\n",
      "sigma: torch.Size([128, 1])\n",
      "axr: torch.Size([128, 1])\n",
      "evox: torch.Size([128, 8])\n",
      "tm: torch.Size([8])\n",
      "be: torch.Size([8])\n",
      "bf: torch.Size([8])\n",
      "adc: torch.Size([128, 1])\n",
      "sigma: torch.Size([128, 1])\n",
      "axr: torch.Size([128, 1])\n",
      "evox: torch.Size([128, 8])\n",
      "tm: torch.Size([8])\n",
      "be: torch.Size([8])\n",
      "bf: torch.Size([8])\n",
      "adc: torch.Size([128, 1])\n",
      "sigma: torch.Size([128, 1])\n",
      "axr: torch.Size([128, 1])\n",
      "evox: torch.Size([128, 8])\n",
      "tm: torch.Size([8])\n",
      "be: torch.Size([8])\n",
      "bf: torch.Size([8])\n",
      "adc: torch.Size([128, 1])\n",
      "sigma: torch.Size([128, 1])\n",
      "axr: torch.Size([128, 1])\n",
      "evox: torch.Size([128, 8])\n",
      "tm: torch.Size([8])\n",
      "be: torch.Size([8])\n",
      "bf: torch.Size([8])\n",
      "adc: torch.Size([128, 1])\n",
      "sigma: torch.Size([128, 1])\n",
      "axr: torch.Size([128, 1])\n",
      "evox: torch.Size([128, 8])\n"
     ]
    },
    {
     "name": "stderr",
     "output_type": "stream",
     "text": [
      "100%|██████████| 7/7 [00:00<00:00, 184.79it/s]"
     ]
    },
    {
     "name": "stdout",
     "output_type": "stream",
     "text": [
      "tm: torch.Size([8])\n",
      "be: torch.Size([8])\n",
      "bf: torch.Size([8])\n",
      "adc: torch.Size([128, 1])\n",
      "sigma: torch.Size([128, 1])\n",
      "axr: torch.Size([128, 1])\n",
      "evox: torch.Size([128, 8])\n",
      "tm: torch.Size([8])\n",
      "be: torch.Size([8])\n",
      "bf: torch.Size([8])\n",
      "adc: torch.Size([128, 1])\n",
      "sigma: torch.Size([128, 1])\n",
      "axr: torch.Size([128, 1])\n",
      "evox: torch.Size([128, 8])\n",
      "loss: 0.13168069534003735"
     ]
    },
    {
     "name": "stderr",
     "output_type": "stream",
     "text": [
      "\n"
     ]
    },
    {
     "name": "stdout",
     "output_type": "stream",
     "text": [
      "\n",
      "####################### saving good model #######################\n",
      "-----------------------------------------------------------------\n",
      "epoch: 117; bad epochs: 0\n"
     ]
    },
    {
     "name": "stderr",
     "output_type": "stream",
     "text": [
      "  0%|          | 0/7 [00:00<?, ?it/s]"
     ]
    },
    {
     "name": "stdout",
     "output_type": "stream",
     "text": [
      "tm: torch.Size([8])\n",
      "be: torch.Size([8])\n",
      "bf: torch.Size([8])\n",
      "adc: torch.Size([128, 1])\n",
      "sigma: torch.Size([128, 1])\n",
      "axr: torch.Size([128, 1])\n",
      "evox: torch.Size([128, 8])\n",
      "tm: torch.Size([8])\n",
      "be: torch.Size([8])\n",
      "bf: torch.Size([8])\n",
      "adc: torch.Size([128, 1])\n",
      "sigma: torch.Size([128, 1])\n",
      "axr: torch.Size([128, 1])\n",
      "evox: torch.Size([128, 8])\n",
      "tm: torch.Size([8])\n",
      "be: torch.Size([8])\n",
      "bf: torch.Size([8])\n",
      "adc: torch.Size([128, 1])\n",
      "sigma: torch.Size([128, 1])\n",
      "axr: torch.Size([128, 1])\n",
      "evox: torch.Size([128, 8])\n",
      "tm: torch.Size([8])\n",
      "be: torch.Size([8])\n",
      "bf: torch.Size([8])\n",
      "adc: torch.Size([128, 1])\n",
      "sigma: torch.Size([128, 1])\n",
      "axr: torch.Size([128, 1])\n",
      "evox: torch.Size([128, 8])\n",
      "tm: torch.Size([8])\n",
      "be: torch.Size([8])\n",
      "bf: torch.Size([8])\n",
      "adc: torch.Size([128, 1])\n",
      "sigma: torch.Size([128, 1])\n",
      "axr: torch.Size([128, 1])\n",
      "evox: torch.Size([128, 8])\n"
     ]
    },
    {
     "name": "stderr",
     "output_type": "stream",
     "text": [
      "100%|██████████| 7/7 [00:00<00:00, 130.74it/s]\n"
     ]
    },
    {
     "name": "stdout",
     "output_type": "stream",
     "text": [
      "tm: torch.Size([8])\n",
      "be: torch.Size([8])\n",
      "bf: torch.Size([8])\n",
      "adc: torch.Size([128, 1])\n",
      "sigma: torch.Size([128, 1])\n",
      "axr: torch.Size([128, 1])\n",
      "evox: torch.Size([128, 8])\n",
      "tm: torch.Size([8])\n",
      "be: torch.Size([8])\n",
      "bf: torch.Size([8])\n",
      "adc: torch.Size([128, 1])\n",
      "sigma: torch.Size([128, 1])\n",
      "axr: torch.Size([128, 1])\n",
      "evox: torch.Size([128, 8])\n",
      "loss: 0.13326626643538475\n",
      "-----------------------------------------------------------------\n",
      "epoch: 118; bad epochs: 1\n"
     ]
    },
    {
     "name": "stderr",
     "output_type": "stream",
     "text": [
      "  0%|          | 0/7 [00:00<?, ?it/s]"
     ]
    },
    {
     "name": "stdout",
     "output_type": "stream",
     "text": [
      "tm: torch.Size([8])\n",
      "be: torch.Size([8])\n",
      "bf: torch.Size([8])\n",
      "adc: torch.Size([128, 1])\n",
      "sigma: torch.Size([128, 1])\n",
      "axr: torch.Size([128, 1])\n",
      "evox: torch.Size([128, 8])\n",
      "tm: torch.Size([8])\n",
      "be: torch.Size([8])\n",
      "bf: torch.Size([8])\n",
      "adc: torch.Size([128, 1])\n",
      "sigma: torch.Size([128, 1])\n",
      "axr: torch.Size([128, 1])\n",
      "evox: torch.Size([128, 8])\n"
     ]
    },
    {
     "name": "stderr",
     "output_type": "stream",
     "text": [
      "100%|██████████| 7/7 [00:00<00:00, 182.83it/s]\n"
     ]
    },
    {
     "name": "stdout",
     "output_type": "stream",
     "text": [
      "tm: torch.Size([8])\n",
      "be: torch.Size([8])\n",
      "bf: torch.Size([8])\n",
      "adc: torch.Size([128, 1])\n",
      "sigma: torch.Size([128, 1])\n",
      "axr: torch.Size([128, 1])\n",
      "evox: torch.Size([128, 8])\n",
      "tm: torch.Size([8])\n",
      "be: torch.Size([8])\n",
      "bf: torch.Size([8])\n",
      "adc: torch.Size([128, 1])\n",
      "sigma: torch.Size([128, 1])\n",
      "axr: torch.Size([128, 1])\n",
      "evox: torch.Size([128, 8])\n",
      "tm: torch.Size([8])\n",
      "be: torch.Size([8])\n",
      "bf: torch.Size([8])\n",
      "adc: torch.Size([128, 1])\n",
      "sigma: torch.Size([128, 1])\n",
      "axr: torch.Size([128, 1])\n",
      "evox: torch.Size([128, 8])\n",
      "tm: torch.Size([8])\n",
      "be: torch.Size([8])\n",
      "bf: torch.Size([8])\n",
      "adc: torch.Size([128, 1])\n",
      "sigma: torch.Size([128, 1])\n",
      "axr: torch.Size([128, 1])\n",
      "evox: torch.Size([128, 8])\n",
      "tm: torch.Size([8])\n",
      "be: torch.Size([8])\n",
      "bf: torch.Size([8])\n",
      "adc: torch.Size([128, 1])\n",
      "sigma: torch.Size([128, 1])\n",
      "axr: torch.Size([128, 1])\n",
      "evox: torch.Size([128, 8])\n",
      "loss: 0.13028156384825706\n",
      "####################### saving good model #######################\n",
      "-----------------------------------------------------------------\n",
      "epoch: 119; bad epochs: 0\n"
     ]
    },
    {
     "name": "stderr",
     "output_type": "stream",
     "text": [
      "  0%|          | 0/7 [00:00<?, ?it/s]"
     ]
    },
    {
     "name": "stdout",
     "output_type": "stream",
     "text": [
      "tm: torch.Size([8])\n",
      "be: torch.Size([8])\n",
      "bf: torch.Size([8])\n",
      "adc: torch.Size([128, 1])\n",
      "sigma: torch.Size([128, 1])\n",
      "axr: torch.Size([128, 1])\n",
      "evox: torch.Size([128, 8])\n",
      "tm: torch.Size([8])\n",
      "be: torch.Size([8])\n",
      "bf: torch.Size([8])\n",
      "adc: torch.Size([128, 1])\n",
      "sigma: torch.Size([128, 1])\n",
      "axr: torch.Size([128, 1])\n",
      "evox: torch.Size([128, 8])\n",
      "tm: torch.Size([8])\n",
      "be: torch.Size([8])\n",
      "bf: torch.Size([8])\n",
      "adc: torch.Size([128, 1])\n",
      "sigma: torch.Size([128, 1])\n",
      "axr: torch.Size([128, 1])\n",
      "evox: torch.Size([128, 8])\n",
      "tm: torch.Size([8])\n",
      "be: torch.Size([8])\n",
      "bf: torch.Size([8])\n",
      "adc: torch.Size([128, 1])\n",
      "sigma: torch.Size([128, 1])\n",
      "axr: torch.Size([128, 1])\n",
      "evox: torch.Size([128, 8])\n",
      "tm: torch.Size([8])\n",
      "be: torch.Size([8])\n",
      "bf: torch.Size([8])\n",
      "adc: torch.Size([128, 1])\n",
      "sigma: torch.Size([128, 1])\n",
      "axr: torch.Size([128, 1])\n",
      "evox: torch.Size([128, 8])\n"
     ]
    },
    {
     "name": "stderr",
     "output_type": "stream",
     "text": [
      "100%|██████████| 7/7 [00:00<00:00, 189.79it/s]\n"
     ]
    },
    {
     "name": "stdout",
     "output_type": "stream",
     "text": [
      "tm: torch.Size([8])\n",
      "be: torch.Size([8])\n",
      "bf: torch.Size([8])\n",
      "adc: torch.Size([128, 1])\n",
      "sigma: torch.Size([128, 1])\n",
      "axr: torch.Size([128, 1])\n",
      "evox: torch.Size([128, 8])\n",
      "tm: torch.Size([8])\n",
      "be: torch.Size([8])\n",
      "bf: torch.Size([8])\n",
      "adc: torch.Size([128, 1])\n",
      "sigma: torch.Size([128, 1])\n",
      "axr: torch.Size([128, 1])\n",
      "evox: torch.Size([128, 8])\n",
      "loss: 0.12645519897341728\n",
      "####################### saving good model #######################\n",
      "-----------------------------------------------------------------\n",
      "epoch: 120; bad epochs: 0\n"
     ]
    },
    {
     "name": "stderr",
     "output_type": "stream",
     "text": [
      "  0%|          | 0/7 [00:00<?, ?it/s]"
     ]
    },
    {
     "name": "stdout",
     "output_type": "stream",
     "text": [
      "tm: torch.Size([8])\n",
      "be: torch.Size([8])\n",
      "bf: torch.Size([8])\n",
      "adc: torch.Size([128, 1])\n",
      "sigma: torch.Size([128, 1])\n",
      "axr: torch.Size([128, 1])\n",
      "evox: torch.Size([128, 8])\n",
      "tm: torch.Size([8])\n",
      "be: torch.Size([8])\n",
      "bf: torch.Size([8])\n",
      "adc: torch.Size([128, 1])\n",
      "sigma: torch.Size([128, 1])\n",
      "axr: torch.Size([128, 1])\n",
      "evox: torch.Size([128, 8])\n",
      "tm: torch.Size([8])\n",
      "be: torch.Size([8])\n",
      "bf: torch.Size([8])\n",
      "adc: torch.Size([128, 1])\n",
      "sigma: torch.Size([128, 1])\n",
      "axr: torch.Size([128, 1])\n",
      "evox: torch.Size([128, 8])\n",
      "tm: torch.Size([8])\n",
      "be: torch.Size([8])\n",
      "bf: torch.Size([8])\n",
      "adc: torch.Size([128, 1])\n",
      "sigma: torch.Size([128, 1])\n",
      "axr: torch.Size([128, 1])\n",
      "evox: torch.Size([128, 8])\n",
      "tm: torch.Size([8])\n",
      "be: torch.Size([8])\n",
      "bf: torch.Size([8])\n",
      "adc: torch.Size([128, 1])\n",
      "sigma: torch.Size([128, 1])\n",
      "axr: torch.Size([128, 1])\n",
      "evox: torch.Size([128, 8])\n",
      "tm: torch.Size([8])\n",
      "be: torch.Size([8])\n",
      "bf: torch.Size([8])\n",
      "adc: torch.Size([128, 1])\n",
      "sigma: torch.Size([128, 1])\n",
      "axr: torch.Size([128, 1])\n",
      "evox: torch.Size([128, 8])\n",
      "tm: torch.Size([8])\n",
      "be: torch.Size([8])\n",
      "bf: torch.Size([8])\n",
      "adc: torch.Size([128, 1])\n",
      "sigma: torch.Size([128, 1])\n",
      "axr: torch.Size([128, 1])\n",
      "evox: torch.Size([128, 8])\n"
     ]
    },
    {
     "name": "stderr",
     "output_type": "stream",
     "text": [
      "100%|██████████| 7/7 [00:00<00:00, 157.29it/s]\n"
     ]
    },
    {
     "name": "stdout",
     "output_type": "stream",
     "text": [
      "loss: 0.12741960771381855\n",
      "-----------------------------------------------------------------\n",
      "epoch: 121; bad epochs: 1\n"
     ]
    },
    {
     "name": "stderr",
     "output_type": "stream",
     "text": [
      "  0%|          | 0/7 [00:00<?, ?it/s]"
     ]
    },
    {
     "name": "stdout",
     "output_type": "stream",
     "text": [
      "tm: torch.Size([8])\n",
      "be: torch.Size([8])\n",
      "bf: torch.Size([8])\n",
      "adc: torch.Size([128, 1])\n",
      "sigma: torch.Size([128, 1])\n",
      "axr: torch.Size([128, 1])\n",
      "evox: torch.Size([128, 8])\n",
      "tm: torch.Size([8])\n",
      "be: torch.Size([8])\n",
      "bf: torch.Size([8])\n",
      "adc: torch.Size([128, 1])\n",
      "sigma: torch.Size([128, 1])\n",
      "axr: torch.Size([128, 1])\n",
      "evox: torch.Size([128, 8])\n",
      "tm: torch.Size([8])\n",
      "be: torch.Size([8])\n",
      "bf: torch.Size([8])\n",
      "adc: torch.Size([128, 1])\n",
      "sigma: torch.Size([128, 1])\n",
      "axr: torch.Size([128, 1])\n",
      "evox: torch.Size([128, 8])\n",
      "tm: torch.Size([8])\n",
      "be: torch.Size([8])\n",
      "bf: torch.Size([8])\n",
      "adc: torch.Size([128, 1])\n",
      "sigma: torch.Size([128, 1])\n",
      "axr: torch.Size([128, 1])\n",
      "evox: torch.Size([128, 8])\n",
      "tm: torch.Size([8])\n",
      "be: torch.Size([8])\n",
      "bf: torch.Size([8])\n",
      "adc: torch.Size([128, 1])\n",
      "sigma: torch.Size([128, 1])\n",
      "axr: torch.Size([128, 1])\n",
      "evox: torch.Size([128, 8])\n"
     ]
    },
    {
     "name": "stderr",
     "output_type": "stream",
     "text": [
      "100%|██████████| 7/7 [00:00<00:00, 123.63it/s]\n"
     ]
    },
    {
     "name": "stdout",
     "output_type": "stream",
     "text": [
      "tm: torch.Size([8])\n",
      "be: torch.Size([8])\n",
      "bf: torch.Size([8])\n",
      "adc: torch.Size([128, 1])\n",
      "sigma: torch.Size([128, 1])\n",
      "axr: torch.Size([128, 1])\n",
      "evox: torch.Size([128, 8])\n",
      "tm: torch.Size([8])\n",
      "be: torch.Size([8])\n",
      "bf: torch.Size([8])\n",
      "adc: torch.Size([128, 1])\n",
      "sigma: torch.Size([128, 1])\n",
      "axr: torch.Size([128, 1])\n",
      "evox: torch.Size([128, 8])\n",
      "loss: 0.1233171634376049\n",
      "####################### saving good model #######################\n",
      "-----------------------------------------------------------------\n",
      "epoch: 122; bad epochs: 0\n"
     ]
    },
    {
     "name": "stderr",
     "output_type": "stream",
     "text": [
      "  0%|          | 0/7 [00:00<?, ?it/s]"
     ]
    },
    {
     "name": "stdout",
     "output_type": "stream",
     "text": [
      "tm: torch.Size([8])\n",
      "be: torch.Size([8])\n",
      "bf: torch.Size([8])\n",
      "adc: torch.Size([128, 1])\n",
      "sigma: torch.Size([128, 1])\n",
      "axr: torch.Size([128, 1])\n",
      "evox: torch.Size([128, 8])\n",
      "tm: torch.Size([8])\n",
      "be: torch.Size([8])\n",
      "bf: torch.Size([8])\n",
      "adc: torch.Size([128, 1])\n",
      "sigma: torch.Size([128, 1])\n",
      "axr: torch.Size([128, 1])\n",
      "evox: torch.Size([128, 8])\n",
      "tm: torch.Size([8])\n",
      "be: torch.Size([8])\n",
      "bf: torch.Size([8])\n",
      "adc: torch.Size([128, 1])\n",
      "sigma: torch.Size([128, 1])\n",
      "axr: torch.Size([128, 1])\n",
      "evox: torch.Size([128, 8])\n",
      "tm: torch.Size([8])\n",
      "be: torch.Size([8])\n",
      "bf: torch.Size([8])\n",
      "adc: torch.Size([128, 1])\n",
      "sigma: torch.Size([128, 1])\n",
      "axr: torch.Size([128, 1])\n",
      "evox: torch.Size([128, 8])\n",
      "tm: torch.Size([8])\n",
      "be: torch.Size([8])\n",
      "bf: torch.Size([8])\n",
      "adc: torch.Size([128, 1])\n",
      "sigma: torch.Size([128, 1])\n",
      "axr: torch.Size([128, 1])\n",
      "evox: torch.Size([128, 8])\n"
     ]
    },
    {
     "name": "stderr",
     "output_type": "stream",
     "text": [
      "100%|██████████| 7/7 [00:00<00:00, 104.83it/s]\n"
     ]
    },
    {
     "name": "stdout",
     "output_type": "stream",
     "text": [
      "tm: torch.Size([8])\n",
      "be: torch.Size([8])\n",
      "bf: torch.Size([8])\n",
      "adc: torch.Size([128, 1])\n",
      "sigma: torch.Size([128, 1])\n",
      "axr: torch.Size([128, 1])\n",
      "evox: torch.Size([128, 8])\n",
      "tm: torch.Size([8])\n",
      "be: torch.Size([8])\n",
      "bf: torch.Size([8])\n",
      "adc: torch.Size([128, 1])\n",
      "sigma: torch.Size([128, 1])\n",
      "axr: torch.Size([128, 1])\n",
      "evox: torch.Size([128, 8])\n",
      "loss: 0.12233409285545349\n",
      "####################### saving good model #######################\n",
      "-----------------------------------------------------------------\n",
      "epoch: 123; bad epochs: 0\n"
     ]
    },
    {
     "name": "stderr",
     "output_type": "stream",
     "text": [
      "  0%|          | 0/7 [00:00<?, ?it/s]"
     ]
    },
    {
     "name": "stdout",
     "output_type": "stream",
     "text": [
      "tm: torch.Size([8])\n",
      "be: torch.Size([8])\n",
      "bf: torch.Size([8])\n",
      "adc: torch.Size([128, 1])\n",
      "sigma: torch.Size([128, 1])\n",
      "axr: torch.Size([128, 1])\n",
      "evox: torch.Size([128, 8])\n",
      "tm: torch.Size([8])\n",
      "be: torch.Size([8])\n",
      "bf: torch.Size([8])\n",
      "adc: torch.Size([128, 1])\n",
      "sigma: torch.Size([128, 1])\n",
      "axr: torch.Size([128, 1])\n",
      "evox: torch.Size([128, 8])\n",
      "tm: torch.Size([8])\n",
      "be: torch.Size([8])\n",
      "bf: torch.Size([8])\n",
      "adc: torch.Size([128, 1])\n",
      "sigma: torch.Size([128, 1])\n",
      "axr: torch.Size([128, 1])\n",
      "evox: torch.Size([128, 8])\n",
      "tm: torch.Size([8])\n",
      "be: torch.Size([8])\n",
      "bf: torch.Size([8])\n",
      "adc: torch.Size([128, 1])\n",
      "sigma: torch.Size([128, 1])\n",
      "axr: torch.Size([128, 1])\n",
      "evox: torch.Size([128, 8])\n",
      "tm: torch.Size([8])\n",
      "be: torch.Size([8])\n",
      "bf: torch.Size([8])\n",
      "adc: torch.Size([128, 1])\n",
      "sigma: torch.Size([128, 1])\n",
      "axr: torch.Size([128, 1])\n",
      "evox: torch.Size([128, 8])\n"
     ]
    },
    {
     "name": "stderr",
     "output_type": "stream",
     "text": [
      "100%|██████████| 7/7 [00:00<00:00, 189.87it/s]"
     ]
    },
    {
     "name": "stdout",
     "output_type": "stream",
     "text": [
      "tm: torch.Size([8])\n",
      "be: torch.Size([8])\n",
      "bf: torch.Size([8])\n",
      "adc: torch.Size([128, 1])\n",
      "sigma: torch.Size([128, 1])\n",
      "axr: torch.Size([128, 1])\n",
      "evox: torch.Size([128, 8])\n",
      "tm: torch.Size([8])\n",
      "be: torch.Size([8])\n",
      "bf: torch.Size([8])\n",
      "adc: torch.Size([128, 1])\n",
      "sigma: torch.Size([128, 1])\n",
      "axr: torch.Size([128, 1])\n",
      "evox: torch.Size([128, 8])\n",
      "loss: 0.11864382773637772\n",
      "####################### saving good model #######################\n"
     ]
    },
    {
     "name": "stderr",
     "output_type": "stream",
     "text": [
      "\n"
     ]
    },
    {
     "name": "stdout",
     "output_type": "stream",
     "text": [
      "-----------------------------------------------------------------\n",
      "epoch: 124; bad epochs: 0\n"
     ]
    },
    {
     "name": "stderr",
     "output_type": "stream",
     "text": [
      "  0%|          | 0/7 [00:00<?, ?it/s]"
     ]
    },
    {
     "name": "stdout",
     "output_type": "stream",
     "text": [
      "tm: torch.Size([8])\n",
      "be: torch.Size([8])\n",
      "bf: torch.Size([8])\n",
      "adc: torch.Size([128, 1])\n",
      "sigma: torch.Size([128, 1])\n",
      "axr: torch.Size([128, 1])\n",
      "evox: torch.Size([128, 8])\n",
      "tm: torch.Size([8])\n",
      "be: torch.Size([8])\n",
      "bf: torch.Size([8])\n",
      "adc: torch.Size([128, 1])\n",
      "sigma: torch.Size([128, 1])\n",
      "axr: torch.Size([128, 1])\n",
      "evox: torch.Size([128, 8])\n",
      "tm: torch.Size([8])\n",
      "be: torch.Size([8])\n",
      "bf: torch.Size([8])\n",
      "adc: torch.Size([128, 1])\n",
      "sigma: torch.Size([128, 1])\n",
      "axr: torch.Size([128, 1])\n",
      "evox: torch.Size([128, 8])\n",
      "tm: torch.Size([8])\n",
      "be: torch.Size([8])\n",
      "bf: torch.Size([8])\n",
      "adc: torch.Size([128, 1])\n",
      "sigma: torch.Size([128, 1])\n",
      "axr: torch.Size([128, 1])\n",
      "evox: torch.Size([128, 8])\n"
     ]
    },
    {
     "name": "stderr",
     "output_type": "stream",
     "text": [
      "100%|██████████| 7/7 [00:00<00:00, 152.71it/s]\n"
     ]
    },
    {
     "name": "stdout",
     "output_type": "stream",
     "text": [
      "tm: torch.Size([8])\n",
      "be: torch.Size([8])\n",
      "bf: torch.Size([8])\n",
      "adc: torch.Size([128, 1])\n",
      "sigma: torch.Size([128, 1])\n",
      "axr: torch.Size([128, 1])\n",
      "evox: torch.Size([128, 8])\n",
      "tm: torch.Size([8])\n",
      "be: torch.Size([8])\n",
      "bf: torch.Size([8])\n",
      "adc: torch.Size([128, 1])\n",
      "sigma: torch.Size([128, 1])\n",
      "axr: torch.Size([128, 1])\n",
      "evox: torch.Size([128, 8])\n",
      "tm: torch.Size([8])\n",
      "be: torch.Size([8])\n",
      "bf: torch.Size([8])\n",
      "adc: torch.Size([128, 1])\n",
      "sigma: torch.Size([128, 1])\n",
      "axr: torch.Size([128, 1])\n",
      "evox: torch.Size([128, 8])\n",
      "loss: 0.11828693561255932\n",
      "####################### saving good model #######################\n",
      "-----------------------------------------------------------------\n",
      "epoch: 125; bad epochs: 0\n"
     ]
    },
    {
     "name": "stderr",
     "output_type": "stream",
     "text": [
      "  0%|          | 0/7 [00:00<?, ?it/s]"
     ]
    },
    {
     "name": "stdout",
     "output_type": "stream",
     "text": [
      "tm: torch.Size([8])\n",
      "be: torch.Size([8])\n",
      "bf: torch.Size([8])\n",
      "adc: torch.Size([128, 1])\n",
      "sigma: torch.Size([128, 1])\n",
      "axr: torch.Size([128, 1])\n",
      "evox: torch.Size([128, 8])\n",
      "tm: torch.Size([8])\n",
      "be: torch.Size([8])\n",
      "bf: torch.Size([8])\n",
      "adc: torch.Size([128, 1])\n",
      "sigma: torch.Size([128, 1])\n",
      "axr: torch.Size([128, 1])\n",
      "evox: torch.Size([128, 8])\n",
      "tm: torch.Size([8])\n",
      "be: torch.Size([8])\n",
      "bf: torch.Size([8])\n",
      "adc: torch.Size([128, 1])\n",
      "sigma: torch.Size([128, 1])\n",
      "axr: torch.Size([128, 1])\n",
      "evox: torch.Size([128, 8])\n",
      "tm: torch.Size([8])\n",
      "be: torch.Size([8])\n",
      "bf: torch.Size([8])\n",
      "adc: torch.Size([128, 1])\n",
      "sigma: torch.Size([128, 1])\n",
      "axr: torch.Size([128, 1])\n",
      "evox: torch.Size([128, 8])\n"
     ]
    },
    {
     "name": "stderr",
     "output_type": "stream",
     "text": [
      "100%|██████████| 7/7 [00:00<00:00, 208.68it/s]\n"
     ]
    },
    {
     "name": "stdout",
     "output_type": "stream",
     "text": [
      "tm: torch.Size([8])\n",
      "be: torch.Size([8])\n",
      "bf: torch.Size([8])\n",
      "adc: torch.Size([128, 1])\n",
      "sigma: torch.Size([128, 1])\n",
      "axr: torch.Size([128, 1])\n",
      "evox: torch.Size([128, 8])\n",
      "tm: torch.Size([8])\n",
      "be: torch.Size([8])\n",
      "bf: torch.Size([8])\n",
      "adc: torch.Size([128, 1])\n",
      "sigma: torch.Size([128, 1])\n",
      "axr: torch.Size([128, 1])\n",
      "evox: torch.Size([128, 8])\n",
      "tm: torch.Size([8])\n",
      "be: torch.Size([8])\n",
      "bf: torch.Size([8])\n",
      "adc: torch.Size([128, 1])\n",
      "sigma: torch.Size([128, 1])\n",
      "axr: torch.Size([128, 1])\n",
      "evox: torch.Size([128, 8])\n",
      "loss: 0.11596104502677917\n",
      "####################### saving good model #######################\n",
      "-----------------------------------------------------------------\n",
      "epoch: 126; bad epochs: 0\n"
     ]
    },
    {
     "name": "stderr",
     "output_type": "stream",
     "text": [
      "  0%|          | 0/7 [00:00<?, ?it/s]"
     ]
    },
    {
     "name": "stdout",
     "output_type": "stream",
     "text": [
      "tm: torch.Size([8])\n",
      "be: torch.Size([8])\n",
      "bf: torch.Size([8])\n",
      "adc: torch.Size([128, 1])\n",
      "sigma: torch.Size([128, 1])\n",
      "axr: torch.Size([128, 1])\n",
      "evox: torch.Size([128, 8])\n",
      "tm: torch.Size([8])\n",
      "be: torch.Size([8])\n",
      "bf: torch.Size([8])\n",
      "adc: torch.Size([128, 1])\n",
      "sigma: torch.Size([128, 1])\n",
      "axr: torch.Size([128, 1])\n",
      "evox: torch.Size([128, 8])\n",
      "tm: torch.Size([8])\n",
      "be: torch.Size([8])\n",
      "bf: torch.Size([8])\n",
      "adc: torch.Size([128, 1])\n",
      "sigma: torch.Size([128, 1])\n",
      "axr: torch.Size([128, 1])\n",
      "evox: torch.Size([128, 8])\n",
      "tm: torch.Size([8])\n",
      "be: torch.Size([8])\n",
      "bf: torch.Size([8])\n",
      "adc: torch.Size([128, 1])\n",
      "sigma: torch.Size([128, 1])\n",
      "axr: torch.Size([128, 1])\n",
      "evox: torch.Size([128, 8])\n",
      "tm: torch.Size([8])\n",
      "be: torch.Size([8])\n",
      "bf: torch.Size([8])\n",
      "adc: torch.Size([128, 1])\n",
      "sigma: torch.Size([128, 1])\n",
      "axr: torch.Size([128, 1])\n",
      "evox: torch.Size([128, 8])\n",
      "tm: torch.Size([8])\n",
      "be: torch.Size([8])\n",
      "bf: torch.Size([8])\n",
      "adc: torch.Size([128, 1])\n",
      "sigma: torch.Size([128, 1])\n",
      "axr: torch.Size([128, 1])\n",
      "evox: torch.Size([128, 8])\n",
      "tm: torch.Size([8])\n",
      "be: torch.Size([8])\n",
      "bf: torch.Size([8])\n",
      "adc: torch.Size([128, 1])\n",
      "sigma: torch.Size([128, 1])\n",
      "axr: torch.Size([128, 1])\n",
      "evox: torch.Size([128, 8])\n"
     ]
    },
    {
     "name": "stderr",
     "output_type": "stream",
     "text": [
      "100%|██████████| 7/7 [00:00<00:00, 160.23it/s]\n"
     ]
    },
    {
     "name": "stdout",
     "output_type": "stream",
     "text": [
      "loss: 0.1156211793422699\n",
      "####################### saving good model #######################\n",
      "-----------------------------------------------------------------\n",
      "epoch: 127; bad epochs: 0\n"
     ]
    },
    {
     "name": "stderr",
     "output_type": "stream",
     "text": [
      "  0%|          | 0/7 [00:00<?, ?it/s]"
     ]
    },
    {
     "name": "stdout",
     "output_type": "stream",
     "text": [
      "tm: torch.Size([8])\n",
      "be: torch.Size([8])\n",
      "bf: torch.Size([8])\n",
      "adc: torch.Size([128, 1])\n",
      "sigma: torch.Size([128, 1])\n",
      "axr: torch.Size([128, 1])\n",
      "evox: torch.Size([128, 8])\n",
      "tm: torch.Size([8])\n",
      "be: torch.Size([8])\n",
      "bf: torch.Size([8])\n",
      "adc: torch.Size([128, 1])\n",
      "sigma: torch.Size([128, 1])\n",
      "axr: torch.Size([128, 1])\n",
      "evox: torch.Size([128, 8])\n",
      "tm: torch.Size([8])\n",
      "be: torch.Size([8])\n",
      "bf: torch.Size([8])\n",
      "adc: torch.Size([128, 1])\n",
      "sigma: torch.Size([128, 1])\n",
      "axr: torch.Size([128, 1])\n",
      "evox: torch.Size([128, 8])\n",
      "tm: torch.Size([8])\n",
      "be: torch.Size([8])\n",
      "bf: torch.Size([8])\n",
      "adc: torch.Size([128, 1])\n",
      "sigma: torch.Size([128, 1])\n",
      "axr: torch.Size([128, 1])\n",
      "evox: torch.Size([128, 8])\n",
      "tm: torch.Size([8])\n",
      "be: torch.Size([8])\n",
      "bf: torch.Size([8])\n",
      "adc: torch.Size([128, 1])\n",
      "sigma: torch.Size([128, 1])\n",
      "axr: torch.Size([128, 1])\n",
      "evox: torch.Size([128, 8])\n",
      "tm: torch.Size([8])\n",
      "be: torch.Size([8])\n",
      "bf: torch.Size([8])\n",
      "adc: torch.Size([128, 1])\n",
      "sigma: torch.Size([128, 1])\n",
      "axr: torch.Size([128, 1])\n",
      "evox: torch.Size([128, 8])\n",
      "tm: torch.Size([8])\n",
      "be: torch.Size([8])\n",
      "bf: torch.Size([8])\n",
      "adc: torch.Size([128, 1])\n",
      "sigma: torch.Size([128, 1])\n",
      "axr: torch.Size([128, 1])\n",
      "evox: torch.Size([128, 8])\n"
     ]
    },
    {
     "name": "stderr",
     "output_type": "stream",
     "text": [
      "100%|██████████| 7/7 [00:00<00:00, 152.73it/s]\n"
     ]
    },
    {
     "name": "stdout",
     "output_type": "stream",
     "text": [
      "loss: 0.11387626267969608\n",
      "####################### saving good model #######################\n",
      "-----------------------------------------------------------------\n",
      "epoch: 128; bad epochs: 0\n"
     ]
    },
    {
     "name": "stderr",
     "output_type": "stream",
     "text": [
      "  0%|          | 0/7 [00:00<?, ?it/s]"
     ]
    },
    {
     "name": "stdout",
     "output_type": "stream",
     "text": [
      "tm: torch.Size([8])\n",
      "be: torch.Size([8])\n",
      "bf: torch.Size([8])\n",
      "adc: torch.Size([128, 1])\n",
      "sigma: torch.Size([128, 1])\n",
      "axr: torch.Size([128, 1])\n",
      "evox: torch.Size([128, 8])\n",
      "tm: torch.Size([8])\n",
      "be: torch.Size([8])\n",
      "bf: torch.Size([8])\n",
      "adc: torch.Size([128, 1])\n",
      "sigma: torch.Size([128, 1])\n",
      "axr: torch.Size([128, 1])\n",
      "evox: torch.Size([128, 8])\n"
     ]
    },
    {
     "name": "stderr",
     "output_type": "stream",
     "text": [
      "100%|██████████| 7/7 [00:00<00:00, 139.50it/s]\n"
     ]
    },
    {
     "name": "stdout",
     "output_type": "stream",
     "text": [
      "tm: torch.Size([8])\n",
      "be: torch.Size([8])\n",
      "bf: torch.Size([8])\n",
      "adc: torch.Size([128, 1])\n",
      "sigma: torch.Size([128, 1])\n",
      "axr: torch.Size([128, 1])\n",
      "evox: torch.Size([128, 8])\n",
      "tm: torch.Size([8])\n",
      "be: torch.Size([8])\n",
      "bf: torch.Size([8])\n",
      "adc: torch.Size([128, 1])\n",
      "sigma: torch.Size([128, 1])\n",
      "axr: torch.Size([128, 1])\n",
      "evox: torch.Size([128, 8])\n",
      "tm: torch.Size([8])\n",
      "be: torch.Size([8])\n",
      "bf: torch.Size([8])\n",
      "adc: torch.Size([128, 1])\n",
      "sigma: torch.Size([128, 1])\n",
      "axr: torch.Size([128, 1])\n",
      "evox: torch.Size([128, 8])\n",
      "tm: torch.Size([8])\n",
      "be: torch.Size([8])\n",
      "bf: torch.Size([8])\n",
      "adc: torch.Size([128, 1])\n",
      "sigma: torch.Size([128, 1])\n",
      "axr: torch.Size([128, 1])\n",
      "evox: torch.Size([128, 8])\n",
      "tm: torch.Size([8])\n",
      "be: torch.Size([8])\n",
      "bf: torch.Size([8])\n",
      "adc: torch.Size([128, 1])\n",
      "sigma: torch.Size([128, 1])\n",
      "axr: torch.Size([128, 1])\n",
      "evox: torch.Size([128, 8])\n",
      "loss: 0.11039676051586866\n",
      "####################### saving good model #######################\n",
      "-----------------------------------------------------------------\n",
      "epoch: 129; bad epochs: 0\n"
     ]
    },
    {
     "name": "stderr",
     "output_type": "stream",
     "text": [
      "  0%|          | 0/7 [00:00<?, ?it/s]"
     ]
    },
    {
     "name": "stdout",
     "output_type": "stream",
     "text": [
      "tm: torch.Size([8])\n",
      "be: torch.Size([8])\n",
      "bf: torch.Size([8])\n",
      "adc: torch.Size([128, 1])\n",
      "sigma: torch.Size([128, 1])\n",
      "axr: torch.Size([128, 1])\n",
      "evox: torch.Size([128, 8])\n",
      "tm: torch.Size([8])\n",
      "be: torch.Size([8])\n",
      "bf: torch.Size([8])\n",
      "adc: torch.Size([128, 1])\n",
      "sigma: torch.Size([128, 1])\n",
      "axr: torch.Size([128, 1])\n",
      "evox: torch.Size([128, 8])\n",
      "tm: torch.Size([8])\n",
      "be: torch.Size([8])\n",
      "bf: torch.Size([8])\n",
      "adc: torch.Size([128, 1])\n",
      "sigma: torch.Size([128, 1])\n",
      "axr: torch.Size([128, 1])\n",
      "evox: torch.Size([128, 8])\n"
     ]
    },
    {
     "name": "stderr",
     "output_type": "stream",
     "text": [
      "100%|██████████| 7/7 [00:00<00:00, 186.37it/s]\n"
     ]
    },
    {
     "name": "stdout",
     "output_type": "stream",
     "text": [
      "tm: torch.Size([8])\n",
      "be: torch.Size([8])\n",
      "bf: torch.Size([8])\n",
      "adc: torch.Size([128, 1])\n",
      "sigma: torch.Size([128, 1])\n",
      "axr: torch.Size([128, 1])\n",
      "evox: torch.Size([128, 8])\n",
      "tm: torch.Size([8])\n",
      "be: torch.Size([8])\n",
      "bf: torch.Size([8])\n",
      "adc: torch.Size([128, 1])\n",
      "sigma: torch.Size([128, 1])\n",
      "axr: torch.Size([128, 1])\n",
      "evox: torch.Size([128, 8])\n",
      "tm: torch.Size([8])\n",
      "be: torch.Size([8])\n",
      "bf: torch.Size([8])\n",
      "adc: torch.Size([128, 1])\n",
      "sigma: torch.Size([128, 1])\n",
      "axr: torch.Size([128, 1])\n",
      "evox: torch.Size([128, 8])\n",
      "tm: torch.Size([8])\n",
      "be: torch.Size([8])\n",
      "bf: torch.Size([8])\n",
      "adc: torch.Size([128, 1])\n",
      "sigma: torch.Size([128, 1])\n",
      "axr: torch.Size([128, 1])\n",
      "evox: torch.Size([128, 8])\n",
      "loss: 0.10907011106610298\n",
      "####################### saving good model #######################\n",
      "-----------------------------------------------------------------\n",
      "epoch: 130; bad epochs: 0\n"
     ]
    },
    {
     "name": "stderr",
     "output_type": "stream",
     "text": [
      "100%|██████████| 7/7 [00:00<00:00, 249.35it/s]\n"
     ]
    },
    {
     "name": "stdout",
     "output_type": "stream",
     "text": [
      "tm: torch.Size([8])\n",
      "be: torch.Size([8])\n",
      "bf: torch.Size([8])\n",
      "adc: torch.Size([128, 1])\n",
      "sigma: torch.Size([128, 1])\n",
      "axr: torch.Size([128, 1])\n",
      "evox: torch.Size([128, 8])\n",
      "tm: torch.Size([8])\n",
      "be: torch.Size([8])\n",
      "bf: torch.Size([8])\n",
      "adc: torch.Size([128, 1])\n",
      "sigma: torch.Size([128, 1])\n",
      "axr: torch.Size([128, 1])\n",
      "evox: torch.Size([128, 8])\n",
      "tm: torch.Size([8])\n",
      "be: torch.Size([8])\n",
      "bf: torch.Size([8])\n",
      "adc: torch.Size([128, 1])\n",
      "sigma: torch.Size([128, 1])\n",
      "axr: torch.Size([128, 1])\n",
      "evox: torch.Size([128, 8])\n",
      "tm: torch.Size([8])\n",
      "be: torch.Size([8])\n",
      "bf: torch.Size([8])\n",
      "adc: torch.Size([128, 1])\n",
      "sigma: torch.Size([128, 1])\n",
      "axr: torch.Size([128, 1])\n",
      "evox: torch.Size([128, 8])\n",
      "tm: torch.Size([8])\n",
      "be: torch.Size([8])\n",
      "bf: torch.Size([8])\n",
      "adc: torch.Size([128, 1])\n",
      "sigma: torch.Size([128, 1])\n",
      "axr: torch.Size([128, 1])\n",
      "evox: torch.Size([128, 8])\n",
      "tm: torch.Size([8])\n",
      "be: torch.Size([8])\n",
      "bf: torch.Size([8])\n",
      "adc: torch.Size([128, 1])\n",
      "sigma: torch.Size([128, 1])\n",
      "axr: torch.Size([128, 1])\n",
      "evox: torch.Size([128, 8])\n",
      "tm: torch.Size([8])\n",
      "be: torch.Size([8])\n",
      "bf: torch.Size([8])\n",
      "adc: torch.Size([128, 1])\n",
      "sigma: torch.Size([128, 1])\n",
      "axr: torch.Size([128, 1])\n",
      "evox: torch.Size([128, 8])\n",
      "loss: 0.11078760959208012\n",
      "-----------------------------------------------------------------\n",
      "epoch: 131; bad epochs: 1\n"
     ]
    },
    {
     "name": "stderr",
     "output_type": "stream",
     "text": [
      "  0%|          | 0/7 [00:00<?, ?it/s]"
     ]
    },
    {
     "name": "stdout",
     "output_type": "stream",
     "text": [
      "tm: torch.Size([8])\n",
      "be: torch.Size([8])\n",
      "bf: torch.Size([8])\n",
      "adc: torch.Size([128, 1])\n",
      "sigma: torch.Size([128, 1])\n",
      "axr: torch.Size([128, 1])\n",
      "evox: torch.Size([128, 8])\n",
      "tm: torch.Size([8])\n",
      "be: torch.Size([8])\n",
      "bf: torch.Size([8])\n",
      "adc: torch.Size([128, 1])\n",
      "sigma: torch.Size([128, 1])\n",
      "axr: torch.Size([128, 1])\n",
      "evox: torch.Size([128, 8])\n",
      "tm: torch.Size([8])\n",
      "be: torch.Size([8])\n",
      "bf: torch.Size([8])\n",
      "adc: torch.Size([128, 1])\n",
      "sigma: torch.Size([128, 1])\n",
      "axr: torch.Size([128, 1])\n",
      "evox: torch.Size([128, 8])\n",
      "tm: torch.Size([8])\n",
      "be: torch.Size([8])\n",
      "bf: torch.Size([8])\n",
      "adc: torch.Size([128, 1])\n",
      "sigma: torch.Size([128, 1])\n",
      "axr: torch.Size([128, 1])\n",
      "evox: torch.Size([128, 8])\n",
      "tm: torch.Size([8])\n",
      "be: torch.Size([8])\n",
      "bf: torch.Size([8])\n",
      "adc: torch.Size([128, 1])\n",
      "sigma: torch.Size([128, 1])\n",
      "axr: torch.Size([128, 1])\n",
      "evox: torch.Size([128, 8])\n"
     ]
    },
    {
     "name": "stderr",
     "output_type": "stream",
     "text": [
      "100%|██████████| 7/7 [00:00<00:00, 167.62it/s]\n"
     ]
    },
    {
     "name": "stdout",
     "output_type": "stream",
     "text": [
      "tm: torch.Size([8])\n",
      "be: torch.Size([8])\n",
      "bf: torch.Size([8])\n",
      "adc: torch.Size([128, 1])\n",
      "sigma: torch.Size([128, 1])\n",
      "axr: torch.Size([128, 1])\n",
      "evox: torch.Size([128, 8])\n",
      "tm: torch.Size([8])\n",
      "be: torch.Size([8])\n",
      "bf: torch.Size([8])\n",
      "adc: torch.Size([128, 1])\n",
      "sigma: torch.Size([128, 1])\n",
      "axr: torch.Size([128, 1])\n",
      "evox: torch.Size([128, 8])\n",
      "loss: 0.10837824828922749\n",
      "####################### saving good model #######################\n",
      "-----------------------------------------------------------------\n",
      "epoch: 132; bad epochs: 0\n"
     ]
    },
    {
     "name": "stderr",
     "output_type": "stream",
     "text": [
      "  0%|          | 0/7 [00:00<?, ?it/s]"
     ]
    },
    {
     "name": "stdout",
     "output_type": "stream",
     "text": [
      "tm: torch.Size([8])\n",
      "be: torch.Size([8])\n",
      "bf: torch.Size([8])\n",
      "adc: torch.Size([128, 1])\n",
      "sigma: torch.Size([128, 1])\n",
      "axr: torch.Size([128, 1])\n",
      "evox: torch.Size([128, 8])\n",
      "tm: torch.Size([8])\n",
      "be: torch.Size([8])\n",
      "bf: torch.Size([8])\n",
      "adc: torch.Size([128, 1])\n",
      "sigma: torch.Size([128, 1])\n",
      "axr: torch.Size([128, 1])\n",
      "evox: torch.Size([128, 8])\n",
      "tm: torch.Size([8])\n",
      "be: torch.Size([8])\n",
      "bf: torch.Size([8])\n",
      "adc: torch.Size([128, 1])\n",
      "sigma: torch.Size([128, 1])\n",
      "axr: torch.Size([128, 1])\n",
      "evox: torch.Size([128, 8])\n"
     ]
    },
    {
     "name": "stderr",
     "output_type": "stream",
     "text": [
      "100%|██████████| 7/7 [00:00<00:00, 111.26it/s]\n"
     ]
    },
    {
     "name": "stdout",
     "output_type": "stream",
     "text": [
      "tm: torch.Size([8])\n",
      "be: torch.Size([8])\n",
      "bf: torch.Size([8])\n",
      "adc: torch.Size([128, 1])\n",
      "sigma: torch.Size([128, 1])\n",
      "axr: torch.Size([128, 1])\n",
      "evox: torch.Size([128, 8])\n",
      "tm: torch.Size([8])\n",
      "be: torch.Size([8])\n",
      "bf: torch.Size([8])\n",
      "adc: torch.Size([128, 1])\n",
      "sigma: torch.Size([128, 1])\n",
      "axr: torch.Size([128, 1])\n",
      "evox: torch.Size([128, 8])\n",
      "tm: torch.Size([8])\n",
      "be: torch.Size([8])\n",
      "bf: torch.Size([8])\n",
      "adc: torch.Size([128, 1])\n",
      "sigma: torch.Size([128, 1])\n",
      "axr: torch.Size([128, 1])\n",
      "evox: torch.Size([128, 8])\n",
      "tm: torch.Size([8])\n",
      "be: torch.Size([8])\n",
      "bf: torch.Size([8])\n",
      "adc: torch.Size([128, 1])\n",
      "sigma: torch.Size([128, 1])\n",
      "axr: torch.Size([128, 1])\n",
      "evox: torch.Size([128, 8])\n",
      "loss: 0.10837143938988447\n",
      "####################### saving good model #######################\n",
      "-----------------------------------------------------------------\n",
      "epoch: 133; bad epochs: 0\n"
     ]
    },
    {
     "name": "stderr",
     "output_type": "stream",
     "text": [
      "  0%|          | 0/7 [00:00<?, ?it/s]"
     ]
    },
    {
     "name": "stdout",
     "output_type": "stream",
     "text": [
      "tm: torch.Size([8])\n",
      "be: torch.Size([8])\n",
      "bf: torch.Size([8])\n",
      "adc: torch.Size([128, 1])\n",
      "sigma: torch.Size([128, 1])\n",
      "axr: torch.Size([128, 1])\n",
      "evox: torch.Size([128, 8])\n",
      "tm: torch.Size([8])\n",
      "be: torch.Size([8])\n",
      "bf: torch.Size([8])\n",
      "adc: torch.Size([128, 1])\n",
      "sigma: torch.Size([128, 1])\n",
      "axr: torch.Size([128, 1])\n",
      "evox: torch.Size([128, 8])\n",
      "tm: torch.Size([8])\n",
      "be: torch.Size([8])\n",
      "bf: torch.Size([8])\n",
      "adc: torch.Size([128, 1])\n",
      "sigma: torch.Size([128, 1])\n",
      "axr: torch.Size([128, 1])\n",
      "evox: torch.Size([128, 8])\n",
      "tm: torch.Size([8])\n",
      "be: torch.Size([8])\n",
      "bf: torch.Size([8])\n",
      "adc: torch.Size([128, 1])\n",
      "sigma: torch.Size([128, 1])\n",
      "axr: torch.Size([128, 1])\n",
      "evox: torch.Size([128, 8])\n",
      "tm: torch.Size([8])\n",
      "be: torch.Size([8])\n",
      "bf: torch.Size([8])\n",
      "adc: torch.Size([128, 1])\n",
      "sigma: torch.Size([128, 1])\n",
      "axr: torch.Size([128, 1])\n",
      "evox: torch.Size([128, 8])\n"
     ]
    },
    {
     "name": "stderr",
     "output_type": "stream",
     "text": [
      "100%|██████████| 7/7 [00:00<00:00, 258.88it/s]\n"
     ]
    },
    {
     "name": "stdout",
     "output_type": "stream",
     "text": [
      "tm: torch.Size([8])\n",
      "be: torch.Size([8])\n",
      "bf: torch.Size([8])\n",
      "adc: torch.Size([128, 1])\n",
      "sigma: torch.Size([128, 1])\n",
      "axr: torch.Size([128, 1])\n",
      "evox: torch.Size([128, 8])\n",
      "tm: torch.Size([8])\n",
      "be: torch.Size([8])\n",
      "bf: torch.Size([8])\n",
      "adc: torch.Size([128, 1])\n",
      "sigma: torch.Size([128, 1])\n",
      "axr: torch.Size([128, 1])\n",
      "evox: torch.Size([128, 8])\n",
      "loss: 0.10640985425561666\n",
      "####################### saving good model #######################\n",
      "-----------------------------------------------------------------\n",
      "epoch: 134; bad epochs: 0\n"
     ]
    },
    {
     "name": "stderr",
     "output_type": "stream",
     "text": [
      "  0%|          | 0/7 [00:00<?, ?it/s]"
     ]
    },
    {
     "name": "stdout",
     "output_type": "stream",
     "text": [
      "tm: torch.Size([8])\n",
      "be: torch.Size([8])\n",
      "bf: torch.Size([8])\n",
      "adc: torch.Size([128, 1])\n",
      "sigma: torch.Size([128, 1])\n",
      "axr: torch.Size([128, 1])\n",
      "evox: torch.Size([128, 8])\n",
      "tm: torch.Size([8])\n",
      "be: torch.Size([8])\n",
      "bf: torch.Size([8])\n",
      "adc: torch.Size([128, 1])\n",
      "sigma: torch.Size([128, 1])\n",
      "axr: torch.Size([128, 1])\n",
      "evox: torch.Size([128, 8])\n",
      "tm: torch.Size([8])\n",
      "be: torch.Size([8])\n",
      "bf: torch.Size([8])\n",
      "adc: torch.Size([128, 1])\n",
      "sigma: torch.Size([128, 1])\n",
      "axr: torch.Size([128, 1])\n",
      "evox: torch.Size([128, 8])\n"
     ]
    },
    {
     "name": "stderr",
     "output_type": "stream",
     "text": [
      "100%|██████████| 7/7 [00:00<00:00, 158.62it/s]"
     ]
    },
    {
     "name": "stdout",
     "output_type": "stream",
     "text": [
      "tm: torch.Size([8])\n",
      "be: torch.Size([8])\n",
      "bf: torch.Size([8])\n",
      "adc: torch.Size([128, 1])\n",
      "sigma: torch.Size([128, 1])\n",
      "axr: torch.Size([128, 1])\n",
      "evox: torch.Size([128, 8])\n",
      "tm: torch.Size([8])\n",
      "be: torch.Size([8])\n",
      "bf: torch.Size([8])\n",
      "adc: torch.Size([128, 1])\n",
      "sigma: torch.Size([128, 1])\n",
      "axr: torch.Size([128, 1])\n",
      "evox: torch.Size([128, 8])\n",
      "tm: torch.Size([8])\n",
      "be: torch.Size([8])\n",
      "bf: torch.Size([8])\n",
      "adc: torch.Size([128, 1])\n",
      "sigma: torch.Size([128, 1])\n",
      "axr: torch.Size([128, 1])\n",
      "evox: torch.Size([128, 8])\n",
      "tm: torch.Size([8])\n",
      "be: torch.Size([8])\n",
      "bf: torch.Size([8])\n",
      "adc: torch.Size([128, 1])\n",
      "sigma: torch.Size([128, 1])\n",
      "axr: torch.Size([128, 1])\n",
      "evox: torch.Size([128, 8])\n"
     ]
    },
    {
     "name": "stderr",
     "output_type": "stream",
     "text": [
      "\n"
     ]
    },
    {
     "name": "stdout",
     "output_type": "stream",
     "text": [
      "loss: 0.10501714888960123\n",
      "####################### saving good model #######################\n",
      "-----------------------------------------------------------------\n",
      "epoch: 135; bad epochs: 0\n"
     ]
    },
    {
     "name": "stderr",
     "output_type": "stream",
     "text": [
      "  0%|          | 0/7 [00:00<?, ?it/s]"
     ]
    },
    {
     "name": "stdout",
     "output_type": "stream",
     "text": [
      "tm: torch.Size([8])\n",
      "be: torch.Size([8])\n",
      "bf: torch.Size([8])\n",
      "adc: torch.Size([128, 1])\n",
      "sigma: torch.Size([128, 1])\n",
      "axr: torch.Size([128, 1])\n",
      "evox: torch.Size([128, 8])\n",
      "tm: torch.Size([8])\n",
      "be: torch.Size([8])\n",
      "bf: torch.Size([8])\n",
      "adc: torch.Size([128, 1])\n",
      "sigma: torch.Size([128, 1])\n",
      "axr: torch.Size([128, 1])\n",
      "evox: torch.Size([128, 8])\n",
      "tm: torch.Size([8])\n",
      "be: torch.Size([8])\n",
      "bf: torch.Size([8])\n",
      "adc: torch.Size([128, 1])\n",
      "sigma: torch.Size([128, 1])\n",
      "axr: torch.Size([128, 1])\n",
      "evox: torch.Size([128, 8])\n",
      "tm: torch.Size([8])\n",
      "be: torch.Size([8])\n",
      "bf: torch.Size([8])\n",
      "adc: torch.Size([128, 1])\n",
      "sigma: torch.Size([128, 1])\n",
      "axr: torch.Size([128, 1])\n",
      "evox: torch.Size([128, 8])\n",
      "tm: torch.Size([8])\n",
      "be: torch.Size([8])\n",
      "bf: torch.Size([8])\n",
      "adc: torch.Size([128, 1])\n",
      "sigma: torch.Size([128, 1])\n",
      "axr: torch.Size([128, 1])\n",
      "evox: torch.Size([128, 8])\n"
     ]
    },
    {
     "name": "stderr",
     "output_type": "stream",
     "text": [
      "100%|██████████| 7/7 [00:00<00:00, 190.01it/s]\n"
     ]
    },
    {
     "name": "stdout",
     "output_type": "stream",
     "text": [
      "tm: torch.Size([8])\n",
      "be: torch.Size([8])\n",
      "bf: torch.Size([8])\n",
      "adc: torch.Size([128, 1])\n",
      "sigma: torch.Size([128, 1])\n",
      "axr: torch.Size([128, 1])\n",
      "evox: torch.Size([128, 8])\n",
      "tm: torch.Size([8])\n",
      "be: torch.Size([8])\n",
      "bf: torch.Size([8])\n",
      "adc: torch.Size([128, 1])\n",
      "sigma: torch.Size([128, 1])\n",
      "axr: torch.Size([128, 1])\n",
      "evox: torch.Size([128, 8])\n",
      "loss: 0.10372551716864109\n",
      "####################### saving good model #######################\n",
      "-----------------------------------------------------------------\n",
      "epoch: 136; bad epochs: 0\n"
     ]
    },
    {
     "name": "stderr",
     "output_type": "stream",
     "text": [
      "  0%|          | 0/7 [00:00<?, ?it/s]"
     ]
    },
    {
     "name": "stdout",
     "output_type": "stream",
     "text": [
      "tm: torch.Size([8])\n",
      "be: torch.Size([8])\n",
      "bf: torch.Size([8])\n",
      "adc: torch.Size([128, 1])\n",
      "sigma: torch.Size([128, 1])\n",
      "axr: torch.Size([128, 1])\n",
      "evox: torch.Size([128, 8])\n",
      "tm: torch.Size([8])\n",
      "be: torch.Size([8])\n",
      "bf: torch.Size([8])\n",
      "adc: torch.Size([128, 1])\n",
      "sigma: torch.Size([128, 1])\n",
      "axr: torch.Size([128, 1])\n",
      "evox: torch.Size([128, 8])\n",
      "tm: torch.Size([8])\n",
      "be: torch.Size([8])\n",
      "bf: torch.Size([8])\n",
      "adc: torch.Size([128, 1])\n",
      "sigma: torch.Size([128, 1])\n",
      "axr: torch.Size([128, 1])\n",
      "evox: torch.Size([128, 8])\n",
      "tm: torch.Size([8])\n",
      "be: torch.Size([8])\n",
      "bf: torch.Size([8])\n",
      "adc: torch.Size([128, 1])\n",
      "sigma: torch.Size([128, 1])\n",
      "axr: torch.Size([128, 1])\n",
      "evox: torch.Size([128, 8])\n",
      "tm: torch.Size([8])\n",
      "be: torch.Size([8])\n",
      "bf: torch.Size([8])\n",
      "adc: torch.Size([128, 1])\n",
      "sigma: torch.Size([128, 1])\n",
      "axr: torch.Size([128, 1])\n",
      "evox: torch.Size([128, 8])\n",
      "tm: torch.Size([8])\n",
      "be: torch.Size([8])\n",
      "bf: torch.Size([8])\n",
      "adc: torch.Size([128, 1])\n",
      "sigma: torch.Size([128, 1])\n",
      "axr: torch.Size([128, 1])\n",
      "evox: torch.Size([128, 8])\n"
     ]
    },
    {
     "name": "stderr",
     "output_type": "stream",
     "text": [
      "100%|██████████| 7/7 [00:00<00:00, 301.38it/s]\n"
     ]
    },
    {
     "name": "stdout",
     "output_type": "stream",
     "text": [
      "tm: torch.Size([8])\n",
      "be: torch.Size([8])\n",
      "bf: torch.Size([8])\n",
      "adc: torch.Size([128, 1])\n",
      "sigma: torch.Size([128, 1])\n",
      "axr: torch.Size([128, 1])\n",
      "evox: torch.Size([128, 8])\n",
      "loss: 0.10291663371026516\n",
      "####################### saving good model #######################\n",
      "-----------------------------------------------------------------\n",
      "epoch: 137; bad epochs: 0\n"
     ]
    },
    {
     "name": "stderr",
     "output_type": "stream",
     "text": [
      "  0%|          | 0/7 [00:00<?, ?it/s]"
     ]
    },
    {
     "name": "stdout",
     "output_type": "stream",
     "text": [
      "tm: torch.Size([8])\n",
      "be: torch.Size([8])\n",
      "bf: torch.Size([8])\n",
      "adc: torch.Size([128, 1])\n",
      "sigma: torch.Size([128, 1])\n",
      "axr: torch.Size([128, 1])\n",
      "evox: torch.Size([128, 8])\n",
      "tm: torch.Size([8])\n",
      "be: torch.Size([8])\n",
      "bf: torch.Size([8])\n",
      "adc: torch.Size([128, 1])\n",
      "sigma: torch.Size([128, 1])\n",
      "axr: torch.Size([128, 1])\n",
      "evox: torch.Size([128, 8])\n",
      "tm: torch.Size([8])\n",
      "be: torch.Size([8])\n",
      "bf: torch.Size([8])\n",
      "adc: torch.Size([128, 1])\n",
      "sigma: torch.Size([128, 1])\n",
      "axr: torch.Size([128, 1])\n",
      "evox: torch.Size([128, 8])\n",
      "tm: torch.Size([8])\n",
      "be: torch.Size([8])\n",
      "bf: torch.Size([8])\n",
      "adc: torch.Size([128, 1])\n",
      "sigma: torch.Size([128, 1])\n",
      "axr: torch.Size([128, 1])\n",
      "evox: torch.Size([128, 8])\n",
      "tm: torch.Size([8])\n",
      "be: torch.Size([8])\n",
      "bf: torch.Size([8])\n",
      "adc: torch.Size([128, 1])\n",
      "sigma: torch.Size([128, 1])\n",
      "axr: torch.Size([128, 1])\n",
      "evox: torch.Size([128, 8])\n",
      "tm: torch.Size([8])\n",
      "be: torch.Size([8])\n",
      "bf: torch.Size([8])\n",
      "adc: torch.Size([128, 1])\n",
      "sigma: torch.Size([128, 1])\n",
      "axr: torch.Size([128, 1])\n",
      "evox: torch.Size([128, 8])\n",
      "tm: torch.Size([8])\n",
      "be: torch.Size([8])\n",
      "bf: torch.Size([8])\n",
      "adc: torch.Size([128, 1])\n",
      "sigma: torch.Size([128, 1])\n",
      "axr: torch.Size([128, 1])\n",
      "evox: torch.Size([128, 8])\n"
     ]
    },
    {
     "name": "stderr",
     "output_type": "stream",
     "text": [
      "100%|██████████| 7/7 [00:00<00:00, 184.12it/s]\n"
     ]
    },
    {
     "name": "stdout",
     "output_type": "stream",
     "text": [
      "loss: 0.10270589124411345\n",
      "####################### saving good model #######################\n",
      "-----------------------------------------------------------------\n",
      "epoch: 138; bad epochs: 0\n"
     ]
    },
    {
     "name": "stderr",
     "output_type": "stream",
     "text": [
      "  0%|          | 0/7 [00:00<?, ?it/s]"
     ]
    },
    {
     "name": "stdout",
     "output_type": "stream",
     "text": [
      "tm: torch.Size([8])\n",
      "be: torch.Size([8])\n",
      "bf: torch.Size([8])\n",
      "adc: torch.Size([128, 1])\n",
      "sigma: torch.Size([128, 1])\n",
      "axr: torch.Size([128, 1])\n",
      "evox: torch.Size([128, 8])\n",
      "tm: torch.Size([8])\n",
      "be: torch.Size([8])\n",
      "bf: torch.Size([8])\n",
      "adc: torch.Size([128, 1])\n",
      "sigma: torch.Size([128, 1])\n",
      "axr: torch.Size([128, 1])\n",
      "evox: torch.Size([128, 8])\n",
      "tm: torch.Size([8])\n",
      "be: torch.Size([8])\n",
      "bf: torch.Size([8])\n",
      "adc: torch.Size([128, 1])\n",
      "sigma: torch.Size([128, 1])\n",
      "axr: torch.Size([128, 1])\n",
      "evox: torch.Size([128, 8])\n"
     ]
    },
    {
     "name": "stderr",
     "output_type": "stream",
     "text": [
      "100%|██████████| 7/7 [00:00<00:00, 273.61it/s]\n"
     ]
    },
    {
     "name": "stdout",
     "output_type": "stream",
     "text": [
      "tm: torch.Size([8])\n",
      "be: torch.Size([8])\n",
      "bf: torch.Size([8])\n",
      "adc: torch.Size([128, 1])\n",
      "sigma: torch.Size([128, 1])\n",
      "axr: torch.Size([128, 1])\n",
      "evox: torch.Size([128, 8])\n",
      "tm: torch.Size([8])\n",
      "be: torch.Size([8])\n",
      "bf: torch.Size([8])\n",
      "adc: torch.Size([128, 1])\n",
      "sigma: torch.Size([128, 1])\n",
      "axr: torch.Size([128, 1])\n",
      "evox: torch.Size([128, 8])\n",
      "tm: torch.Size([8])\n",
      "be: torch.Size([8])\n",
      "bf: torch.Size([8])\n",
      "adc: torch.Size([128, 1])\n",
      "sigma: torch.Size([128, 1])\n",
      "axr: torch.Size([128, 1])\n",
      "evox: torch.Size([128, 8])\n",
      "tm: torch.Size([8])\n",
      "be: torch.Size([8])\n",
      "bf: torch.Size([8])\n",
      "adc: torch.Size([128, 1])\n",
      "sigma: torch.Size([128, 1])\n",
      "axr: torch.Size([128, 1])\n",
      "evox: torch.Size([128, 8])\n",
      "loss: 0.10123543161898851\n",
      "####################### saving good model #######################\n",
      "-----------------------------------------------------------------\n",
      "epoch: 139; bad epochs: 0\n"
     ]
    },
    {
     "name": "stderr",
     "output_type": "stream",
     "text": [
      "  0%|          | 0/7 [00:00<?, ?it/s]"
     ]
    },
    {
     "name": "stdout",
     "output_type": "stream",
     "text": [
      "tm: torch.Size([8])\n",
      "be: torch.Size([8])\n",
      "bf: torch.Size([8])\n",
      "adc: torch.Size([128, 1])\n",
      "sigma: torch.Size([128, 1])\n",
      "axr: torch.Size([128, 1])\n",
      "evox: torch.Size([128, 8])\n",
      "tm: torch.Size([8])\n",
      "be: torch.Size([8])\n",
      "bf: torch.Size([8])\n",
      "adc: torch.Size([128, 1])\n",
      "sigma: torch.Size([128, 1])\n",
      "axr: torch.Size([128, 1])\n",
      "evox: torch.Size([128, 8])\n",
      "tm: torch.Size([8])\n",
      "be: torch.Size([8])\n",
      "bf: torch.Size([8])\n",
      "adc: torch.Size([128, 1])\n",
      "sigma: torch.Size([128, 1])\n",
      "axr: torch.Size([128, 1])\n",
      "evox: torch.Size([128, 8])\n",
      "tm: torch.Size([8])\n",
      "be: torch.Size([8])\n",
      "bf: torch.Size([8])\n",
      "adc: torch.Size([128, 1])\n",
      "sigma: torch.Size([128, 1])\n",
      "axr: torch.Size([128, 1])\n",
      "evox: torch.Size([128, 8])\n"
     ]
    },
    {
     "name": "stderr",
     "output_type": "stream",
     "text": [
      "100%|██████████| 7/7 [00:00<00:00, 93.08it/s]"
     ]
    },
    {
     "name": "stdout",
     "output_type": "stream",
     "text": [
      "tm: torch.Size([8])\n",
      "be: torch.Size([8])\n",
      "bf: torch.Size([8])\n",
      "adc: torch.Size([128, 1])\n",
      "sigma: torch.Size([128, 1])\n",
      "axr: torch.Size([128, 1])\n",
      "evox: torch.Size([128, 8])\n",
      "tm: torch.Size([8])\n",
      "be: torch.Size([8])\n",
      "bf: torch.Size([8])\n",
      "adc: torch.Size([128, 1])\n",
      "sigma: torch.Size([128, 1])\n",
      "axr: torch.Size([128, 1])\n",
      "evox: torch.Size([128, 8])\n",
      "tm: torch.Size([8])\n",
      "be: torch.Size([8])\n",
      "bf: torch.Size([8])\n",
      "adc: torch.Size([128, 1])\n",
      "sigma: torch.Size([128, 1])\n",
      "axr: torch.Size([128, 1])\n",
      "evox: torch.Size([128, 8])\n"
     ]
    },
    {
     "name": "stderr",
     "output_type": "stream",
     "text": [
      "\n"
     ]
    },
    {
     "name": "stdout",
     "output_type": "stream",
     "text": [
      "loss: 0.10138163808733225\n",
      "-----------------------------------------------------------------\n",
      "epoch: 140; bad epochs: 1\n"
     ]
    },
    {
     "name": "stderr",
     "output_type": "stream",
     "text": [
      "  0%|          | 0/7 [00:00<?, ?it/s]"
     ]
    },
    {
     "name": "stdout",
     "output_type": "stream",
     "text": [
      "tm: torch.Size([8])\n",
      "be: torch.Size([8])\n",
      "bf: torch.Size([8])\n",
      "adc: torch.Size([128, 1])\n",
      "sigma: torch.Size([128, 1])\n",
      "axr: torch.Size([128, 1])\n",
      "evox: torch.Size([128, 8])\n",
      "tm: torch.Size([8])\n",
      "be: torch.Size([8])\n",
      "bf: torch.Size([8])\n",
      "adc: torch.Size([128, 1])\n",
      "sigma: torch.Size([128, 1])\n",
      "axr: torch.Size([128, 1])\n",
      "evox: torch.Size([128, 8])\n",
      "tm: torch.Size([8])\n",
      "be: torch.Size([8])\n",
      "bf: torch.Size([8])\n",
      "adc: torch.Size([128, 1])\n",
      "sigma: torch.Size([128, 1])\n",
      "axr: torch.Size([128, 1])\n",
      "evox: torch.Size([128, 8])\n",
      "tm: torch.Size([8])\n",
      "be: torch.Size([8])\n",
      "bf: torch.Size([8])\n",
      "adc: torch.Size([128, 1])\n",
      "sigma: torch.Size([128, 1])\n",
      "axr: torch.Size([128, 1])\n",
      "evox: torch.Size([128, 8])\n",
      "tm: torch.Size([8])\n",
      "be: torch.Size([8])\n",
      "bf: torch.Size([8])\n",
      "adc: torch.Size([128, 1])\n",
      "sigma: torch.Size([128, 1])\n",
      "axr: torch.Size([128, 1])\n",
      "evox: torch.Size([128, 8])\n",
      "tm: torch.Size([8])\n",
      "be: torch.Size([8])\n",
      "bf: torch.Size([8])\n",
      "adc: torch.Size([128, 1])\n",
      "sigma: torch.Size([128, 1])\n",
      "axr: torch.Size([128, 1])\n",
      "evox: torch.Size([128, 8])\n"
     ]
    },
    {
     "name": "stderr",
     "output_type": "stream",
     "text": [
      "100%|██████████| 7/7 [00:00<00:00, 98.82it/s]"
     ]
    },
    {
     "name": "stdout",
     "output_type": "stream",
     "text": [
      "tm: torch.Size([8])\n",
      "be: torch.Size([8])\n",
      "bf: torch.Size([8])\n",
      "adc: torch.Size([128, 1])\n",
      "sigma: torch.Size([128, 1])\n",
      "axr: torch.Size([128, 1])\n",
      "evox: torch.Size([128, 8])\n",
      "loss: 0.10044345073401928\n",
      "####################### saving good model #######################\n",
      "-----------------------------------------------------------------\n",
      "epoch: 141; bad epochs: 0\n"
     ]
    },
    {
     "name": "stderr",
     "output_type": "stream",
     "text": [
      "\n",
      "  0%|          | 0/7 [00:00<?, ?it/s]"
     ]
    },
    {
     "name": "stdout",
     "output_type": "stream",
     "text": [
      "tm: torch.Size([8])\n",
      "be: torch.Size([8])\n",
      "bf: torch.Size([8])\n",
      "adc: torch.Size([128, 1])\n",
      "sigma: torch.Size([128, 1])\n",
      "axr: torch.Size([128, 1])\n",
      "evox: torch.Size([128, 8])\n",
      "tm: torch.Size([8])\n",
      "be: torch.Size([8])\n",
      "bf: torch.Size([8])\n",
      "adc: torch.Size([128, 1])\n",
      "sigma: torch.Size([128, 1])\n",
      "axr: torch.Size([128, 1])\n",
      "evox: torch.Size([128, 8])\n",
      "tm: torch.Size([8])\n",
      "be: torch.Size([8])\n",
      "bf: torch.Size([8])\n",
      "adc: torch.Size([128, 1])\n",
      "sigma: torch.Size([128, 1])\n",
      "axr: torch.Size([128, 1])\n",
      "evox: torch.Size([128, 8])\n",
      "tm: torch.Size([8])\n",
      "be: torch.Size([8])\n",
      "bf: torch.Size([8])\n",
      "adc: torch.Size([128, 1])\n",
      "sigma: torch.Size([128, 1])\n",
      "axr: torch.Size([128, 1])\n",
      "evox: torch.Size([128, 8])\n",
      "tm: torch.Size([8])\n",
      "be: torch.Size([8])\n",
      "bf: torch.Size([8])\n",
      "adc: torch.Size([128, 1])\n",
      "sigma: torch.Size([128, 1])\n",
      "axr: torch.Size([128, 1])\n",
      "evox: torch.Size([128, 8])\n",
      "tm: torch.Size([8])\n",
      "be: torch.Size([8])\n",
      "bf: torch.Size([8])\n",
      "adc: torch.Size([128, 1])\n",
      "sigma: torch.Size([128, 1])\n",
      "axr: torch.Size([128, 1])\n",
      "evox: torch.Size([128, 8])\n",
      "tm: torch.Size([8])\n",
      "be: torch.Size([8])\n",
      "bf: torch.Size([8])\n",
      "adc: torch.Size([128, 1])\n",
      "sigma: torch.Size([128, 1])\n",
      "axr: torch.Size([128, 1])\n",
      "evox: torch.Size([128, 8])\n"
     ]
    },
    {
     "name": "stderr",
     "output_type": "stream",
     "text": [
      "100%|██████████| 7/7 [00:00<00:00, 191.45it/s]\n"
     ]
    },
    {
     "name": "stdout",
     "output_type": "stream",
     "text": [
      "loss: 0.10105414781719446\n",
      "-----------------------------------------------------------------\n",
      "epoch: 142; bad epochs: 1\n"
     ]
    },
    {
     "name": "stderr",
     "output_type": "stream",
     "text": [
      "  0%|          | 0/7 [00:00<?, ?it/s]"
     ]
    },
    {
     "name": "stdout",
     "output_type": "stream",
     "text": [
      "tm: torch.Size([8])\n",
      "be: torch.Size([8])\n",
      "bf: torch.Size([8])\n",
      "adc: torch.Size([128, 1])\n",
      "sigma: torch.Size([128, 1])\n",
      "axr: torch.Size([128, 1])\n",
      "evox: torch.Size([128, 8])\n",
      "tm: torch.Size([8])\n",
      "be: torch.Size([8])\n",
      "bf: torch.Size([8])\n",
      "adc: torch.Size([128, 1])\n",
      "sigma: torch.Size([128, 1])\n",
      "axr: torch.Size([128, 1])\n",
      "evox: torch.Size([128, 8])\n",
      "tm: torch.Size([8])\n",
      "be: torch.Size([8])\n",
      "bf: torch.Size([8])\n",
      "adc: torch.Size([128, 1])\n",
      "sigma: torch.Size([128, 1])\n",
      "axr: torch.Size([128, 1])\n",
      "evox: torch.Size([128, 8])\n",
      "tm: torch.Size([8])\n",
      "be: torch.Size([8])\n",
      "bf: torch.Size([8])\n",
      "adc: torch.Size([128, 1])\n",
      "sigma: torch.Size([128, 1])\n",
      "axr: torch.Size([128, 1])\n",
      "evox: torch.Size([128, 8])\n",
      "tm: torch.Size([8])\n",
      "be: torch.Size([8])\n",
      "bf: torch.Size([8])\n",
      "adc: torch.Size([128, 1])\n",
      "sigma: torch.Size([128, 1])\n",
      "axr: torch.Size([128, 1])\n",
      "evox: torch.Size([128, 8])\n"
     ]
    },
    {
     "name": "stderr",
     "output_type": "stream",
     "text": [
      "100%|██████████| 7/7 [00:00<00:00, 128.27it/s]\n"
     ]
    },
    {
     "name": "stdout",
     "output_type": "stream",
     "text": [
      "tm: torch.Size([8])\n",
      "be: torch.Size([8])\n",
      "bf: torch.Size([8])\n",
      "adc: torch.Size([128, 1])\n",
      "sigma: torch.Size([128, 1])\n",
      "axr: torch.Size([128, 1])\n",
      "evox: torch.Size([128, 8])\n",
      "tm: torch.Size([8])\n",
      "be: torch.Size([8])\n",
      "bf: torch.Size([8])\n",
      "adc: torch.Size([128, 1])\n",
      "sigma: torch.Size([128, 1])\n",
      "axr: torch.Size([128, 1])\n",
      "evox: torch.Size([128, 8])\n",
      "loss: 0.09877037070691586\n",
      "####################### saving good model #######################\n",
      "-----------------------------------------------------------------\n",
      "epoch: 143; bad epochs: 0\n"
     ]
    },
    {
     "name": "stderr",
     "output_type": "stream",
     "text": [
      "  0%|          | 0/7 [00:00<?, ?it/s]"
     ]
    },
    {
     "name": "stdout",
     "output_type": "stream",
     "text": [
      "tm: torch.Size([8])\n",
      "be: torch.Size([8])\n",
      "bf: torch.Size([8])\n",
      "adc: torch.Size([128, 1])\n",
      "sigma: torch.Size([128, 1])\n",
      "axr: torch.Size([128, 1])\n",
      "evox: torch.Size([128, 8])\n",
      "tm: torch.Size([8])\n",
      "be: torch.Size([8])\n",
      "bf: torch.Size([8])\n",
      "adc: torch.Size([128, 1])\n",
      "sigma: torch.Size([128, 1])\n",
      "axr: torch.Size([128, 1])\n",
      "evox: torch.Size([128, 8])\n",
      "tm: torch.Size([8])\n",
      "be: torch.Size([8])\n",
      "bf: torch.Size([8])\n",
      "adc: torch.Size([128, 1])\n",
      "sigma: torch.Size([128, 1])\n",
      "axr: torch.Size([128, 1])\n",
      "evox: torch.Size([128, 8])\n"
     ]
    },
    {
     "name": "stderr",
     "output_type": "stream",
     "text": [
      "100%|██████████| 7/7 [00:00<00:00, 180.23it/s]"
     ]
    },
    {
     "name": "stdout",
     "output_type": "stream",
     "text": [
      "tm: torch.Size([8])\n",
      "be: torch.Size([8])\n",
      "bf: torch.Size([8])\n",
      "adc: torch.Size([128, 1])\n",
      "sigma: torch.Size([128, 1])\n",
      "axr: torch.Size([128, 1])\n",
      "evox: torch.Size([128, 8])\n",
      "tm: torch.Size([8])\n",
      "be: torch.Size([8])\n",
      "bf: torch.Size([8])\n",
      "adc: torch.Size([128, 1])\n",
      "sigma: torch.Size([128, 1])\n",
      "axr: torch.Size([128, 1])\n",
      "evox: torch.Size([128, 8])\n",
      "tm: torch.Size([8])\n",
      "be: torch.Size([8])\n",
      "bf: torch.Size([8])\n",
      "adc: torch.Size([128, 1])\n",
      "sigma: torch.Size([128, 1])\n",
      "axr: torch.Size([128, 1])\n",
      "evox: torch.Size([128, 8])\n",
      "tm: torch.Size([8])\n",
      "be: torch.Size([8])\n",
      "bf: torch.Size([8])\n",
      "adc: torch.Size([128, 1])\n",
      "sigma: torch.Size([128, 1])\n",
      "axr: torch.Size([128, 1])\n",
      "evox: torch.Size([128, 8])\n"
     ]
    },
    {
     "name": "stderr",
     "output_type": "stream",
     "text": [
      "\n"
     ]
    },
    {
     "name": "stdout",
     "output_type": "stream",
     "text": [
      "loss: 0.1007365919649601\n",
      "-----------------------------------------------------------------\n",
      "epoch: 144; bad epochs: 1\n"
     ]
    },
    {
     "name": "stderr",
     "output_type": "stream",
     "text": [
      "  0%|          | 0/7 [00:00<?, ?it/s]"
     ]
    },
    {
     "name": "stdout",
     "output_type": "stream",
     "text": [
      "tm: torch.Size([8])\n",
      "be: torch.Size([8])\n",
      "bf: torch.Size([8])\n",
      "adc: torch.Size([128, 1])\n",
      "sigma: torch.Size([128, 1])\n",
      "axr: torch.Size([128, 1])\n",
      "evox: torch.Size([128, 8])\n",
      "tm: torch.Size([8])\n",
      "be: torch.Size([8])\n",
      "bf: torch.Size([8])\n",
      "adc: torch.Size([128, 1])\n",
      "sigma: torch.Size([128, 1])\n",
      "axr: torch.Size([128, 1])\n",
      "evox: torch.Size([128, 8])\n",
      "tm: torch.Size([8])\n",
      "be: torch.Size([8])\n",
      "bf: torch.Size([8])\n",
      "adc: torch.Size([128, 1])\n",
      "sigma: torch.Size([128, 1])\n",
      "axr: torch.Size([128, 1])\n",
      "evox: torch.Size([128, 8])\n",
      "tm: torch.Size([8])\n",
      "be: torch.Size([8])\n",
      "bf: torch.Size([8])\n",
      "adc: torch.Size([128, 1])\n",
      "sigma: torch.Size([128, 1])\n",
      "axr: torch.Size([128, 1])\n",
      "evox: torch.Size([128, 8])\n",
      "tm: torch.Size([8])\n",
      "be: torch.Size([8])\n",
      "bf: torch.Size([8])\n",
      "adc: torch.Size([128, 1])\n",
      "sigma: torch.Size([128, 1])\n",
      "axr: torch.Size([128, 1])\n",
      "evox: torch.Size([128, 8])\n",
      "tm: torch.Size([8])\n",
      "be: torch.Size([8])\n",
      "bf: torch.Size([8])\n",
      "adc: torch.Size([128, 1])\n",
      "sigma: torch.Size([128, 1])\n",
      "axr: torch.Size([128, 1])\n",
      "evox: torch.Size([128, 8])\n",
      "tm: torch.Size([8])\n",
      "be: torch.Size([8])\n",
      "bf: torch.Size([8])\n",
      "adc: torch.Size([128, 1])\n",
      "sigma: torch.Size([128, 1])\n",
      "axr: torch.Size([128, 1])\n",
      "evox: torch.Size([128, 8])\n"
     ]
    },
    {
     "name": "stderr",
     "output_type": "stream",
     "text": [
      "100%|██████████| 7/7 [00:00<00:00, 161.42it/s]\n"
     ]
    },
    {
     "name": "stdout",
     "output_type": "stream",
     "text": [
      "loss: 0.09858859051018953\n",
      "####################### saving good model #######################\n",
      "-----------------------------------------------------------------\n",
      "epoch: 145; bad epochs: 0\n"
     ]
    },
    {
     "name": "stderr",
     "output_type": "stream",
     "text": [
      "  0%|          | 0/7 [00:00<?, ?it/s]"
     ]
    },
    {
     "name": "stdout",
     "output_type": "stream",
     "text": [
      "tm: torch.Size([8])\n",
      "be: torch.Size([8])\n",
      "bf: torch.Size([8])\n",
      "adc: torch.Size([128, 1])\n",
      "sigma: torch.Size([128, 1])\n",
      "axr: torch.Size([128, 1])\n",
      "evox: torch.Size([128, 8])\n",
      "tm: torch.Size([8])\n",
      "be: torch.Size([8])\n",
      "bf: torch.Size([8])\n",
      "adc: torch.Size([128, 1])\n",
      "sigma: torch.Size([128, 1])\n",
      "axr: torch.Size([128, 1])\n",
      "evox: torch.Size([128, 8])\n",
      "tm: torch.Size([8])\n",
      "be: torch.Size([8])\n",
      "bf: torch.Size([8])\n",
      "adc: torch.Size([128, 1])\n",
      "sigma: torch.Size([128, 1])\n",
      "axr: torch.Size([128, 1])\n",
      "evox: torch.Size([128, 8])\n",
      "tm: torch.Size([8])\n",
      "be: torch.Size([8])\n",
      "bf: torch.Size([8])\n",
      "adc: torch.Size([128, 1])\n",
      "sigma: torch.Size([128, 1])\n",
      "axr: torch.Size([128, 1])\n",
      "evox: torch.Size([128, 8])\n",
      "tm: torch.Size([8])\n",
      "be: torch.Size([8])\n",
      "bf: torch.Size([8])\n",
      "adc: torch.Size([128, 1])\n",
      "sigma: torch.Size([128, 1])\n",
      "axr: torch.Size([128, 1])\n",
      "evox: torch.Size([128, 8])\n",
      "tm: torch.Size([8])\n",
      "be: torch.Size([8])\n",
      "bf: torch.Size([8])\n",
      "adc: torch.Size([128, 1])\n",
      "sigma: torch.Size([128, 1])\n",
      "axr: torch.Size([128, 1])\n",
      "evox: torch.Size([128, 8])\n"
     ]
    },
    {
     "name": "stderr",
     "output_type": "stream",
     "text": [
      "100%|██████████| 7/7 [00:00<00:00, 161.25it/s]\n"
     ]
    },
    {
     "name": "stdout",
     "output_type": "stream",
     "text": [
      "tm: torch.Size([8])\n",
      "be: torch.Size([8])\n",
      "bf: torch.Size([8])\n",
      "adc: torch.Size([128, 1])\n",
      "sigma: torch.Size([128, 1])\n",
      "axr: torch.Size([128, 1])\n",
      "evox: torch.Size([128, 8])\n",
      "loss: 0.09936832357198\n",
      "-----------------------------------------------------------------\n",
      "epoch: 146; bad epochs: 1\n"
     ]
    },
    {
     "name": "stderr",
     "output_type": "stream",
     "text": [
      "  0%|          | 0/7 [00:00<?, ?it/s]"
     ]
    },
    {
     "name": "stdout",
     "output_type": "stream",
     "text": [
      "tm: torch.Size([8])\n",
      "be: torch.Size([8])\n",
      "bf: torch.Size([8])\n",
      "adc: torch.Size([128, 1])\n",
      "sigma: torch.Size([128, 1])\n",
      "axr: torch.Size([128, 1])\n",
      "evox: torch.Size([128, 8])\n",
      "tm: torch.Size([8])\n",
      "be: torch.Size([8])\n",
      "bf: torch.Size([8])\n",
      "adc: torch.Size([128, 1])\n",
      "sigma: torch.Size([128, 1])\n",
      "axr: torch.Size([128, 1])\n",
      "evox: torch.Size([128, 8])\n",
      "tm: torch.Size([8])\n",
      "be: torch.Size([8])\n",
      "bf: torch.Size([8])\n",
      "adc: torch.Size([128, 1])\n",
      "sigma: torch.Size([128, 1])\n",
      "axr: torch.Size([128, 1])\n",
      "evox: torch.Size([128, 8])\n"
     ]
    },
    {
     "name": "stderr",
     "output_type": "stream",
     "text": [
      "100%|██████████| 7/7 [00:00<00:00, 165.21it/s]"
     ]
    },
    {
     "name": "stdout",
     "output_type": "stream",
     "text": [
      "tm: torch.Size([8])\n",
      "be: torch.Size([8])\n",
      "bf: torch.Size([8])\n",
      "adc: torch.Size([128, 1])\n",
      "sigma: torch.Size([128, 1])\n",
      "axr: torch.Size([128, 1])\n",
      "evox: torch.Size([128, 8])\n",
      "tm: torch.Size([8])\n",
      "be: torch.Size([8])\n",
      "bf: torch.Size([8])\n",
      "adc: torch.Size([128, 1])\n",
      "sigma: torch.Size([128, 1])\n",
      "axr: torch.Size([128, 1])\n",
      "evox: torch.Size([128, 8])\n",
      "tm: torch.Size([8])\n",
      "be: torch.Size([8])\n",
      "bf: torch.Size([8])\n",
      "adc: torch.Size([128, 1])\n",
      "sigma: torch.Size([128, 1])\n",
      "axr: torch.Size([128, 1])\n",
      "evox: torch.Size([128, 8])\n",
      "tm: torch.Size([8])\n",
      "be: torch.Size([8])\n",
      "bf: torch.Size([8])\n",
      "adc: torch.Size([128, 1])\n",
      "sigma: torch.Size([128, 1])\n",
      "axr: torch.Size([128, 1])\n",
      "evox: torch.Size([128, 8])\n"
     ]
    },
    {
     "name": "stderr",
     "output_type": "stream",
     "text": [
      "\n"
     ]
    },
    {
     "name": "stdout",
     "output_type": "stream",
     "text": [
      "loss: 0.09905572421848774\n",
      "-----------------------------------------------------------------\n",
      "epoch: 147; bad epochs: 2\n"
     ]
    },
    {
     "name": "stderr",
     "output_type": "stream",
     "text": [
      "  0%|          | 0/7 [00:00<?, ?it/s]"
     ]
    },
    {
     "name": "stdout",
     "output_type": "stream",
     "text": [
      "tm: torch.Size([8])\n",
      "be: torch.Size([8])\n",
      "bf: torch.Size([8])\n",
      "adc: torch.Size([128, 1])\n",
      "sigma: torch.Size([128, 1])\n",
      "axr: torch.Size([128, 1])\n",
      "evox: torch.Size([128, 8])\n",
      "tm: torch.Size([8])\n",
      "be: torch.Size([8])\n",
      "bf: torch.Size([8])\n",
      "adc: torch.Size([128, 1])\n",
      "sigma: torch.Size([128, 1])\n",
      "axr: torch.Size([128, 1])\n",
      "evox: torch.Size([128, 8])\n",
      "tm: torch.Size([8])\n",
      "be: torch.Size([8])\n",
      "bf: torch.Size([8])\n",
      "adc: torch.Size([128, 1])\n",
      "sigma: torch.Size([128, 1])\n",
      "axr: torch.Size([128, 1])\n",
      "evox: torch.Size([128, 8])\n",
      "tm: torch.Size([8])\n",
      "be: torch.Size([8])\n",
      "bf: torch.Size([8])\n",
      "adc: torch.Size([128, 1])\n",
      "sigma: torch.Size([128, 1])\n",
      "axr: torch.Size([128, 1])\n",
      "evox: torch.Size([128, 8])\n",
      "tm: torch.Size([8])\n",
      "be: torch.Size([8])\n",
      "bf: torch.Size([8])\n",
      "adc: torch.Size([128, 1])\n",
      "sigma: torch.Size([128, 1])\n",
      "axr: torch.Size([128, 1])\n",
      "evox: torch.Size([128, 8])\n",
      "tm: torch.Size([8])\n",
      "be: torch.Size([8])\n",
      "bf: torch.Size([8])\n",
      "adc: torch.Size([128, 1])\n",
      "sigma: torch.Size([128, 1])\n",
      "axr: torch.Size([128, 1])\n",
      "evox: torch.Size([128, 8])\n"
     ]
    },
    {
     "name": "stderr",
     "output_type": "stream",
     "text": [
      "100%|██████████| 7/7 [00:00<00:00, 154.78it/s]\n"
     ]
    },
    {
     "name": "stdout",
     "output_type": "stream",
     "text": [
      "tm: torch.Size([8])\n",
      "be: torch.Size([8])\n",
      "bf: torch.Size([8])\n",
      "adc: torch.Size([128, 1])\n",
      "sigma: torch.Size([128, 1])\n",
      "axr: torch.Size([128, 1])\n",
      "evox: torch.Size([128, 8])\n",
      "loss: 0.09901111479848623\n",
      "-----------------------------------------------------------------\n",
      "epoch: 148; bad epochs: 3\n"
     ]
    },
    {
     "name": "stderr",
     "output_type": "stream",
     "text": [
      "  0%|          | 0/7 [00:00<?, ?it/s]"
     ]
    },
    {
     "name": "stdout",
     "output_type": "stream",
     "text": [
      "tm: torch.Size([8])\n",
      "be: torch.Size([8])\n",
      "bf: torch.Size([8])\n",
      "adc: torch.Size([128, 1])\n",
      "sigma: torch.Size([128, 1])\n",
      "axr: torch.Size([128, 1])\n",
      "evox: torch.Size([128, 8])\n",
      "tm: torch.Size([8])\n",
      "be: torch.Size([8])\n",
      "bf: torch.Size([8])\n",
      "adc: torch.Size([128, 1])\n",
      "sigma: torch.Size([128, 1])\n",
      "axr: torch.Size([128, 1])\n",
      "evox: torch.Size([128, 8])\n",
      "tm: torch.Size([8])\n",
      "be: torch.Size([8])\n",
      "bf: torch.Size([8])\n",
      "adc: torch.Size([128, 1])\n",
      "sigma: torch.Size([128, 1])\n",
      "axr: torch.Size([128, 1])\n",
      "evox: torch.Size([128, 8])\n",
      "tm: torch.Size([8])\n",
      "be: torch.Size([8])\n",
      "bf: torch.Size([8])\n",
      "adc: torch.Size([128, 1])\n",
      "sigma: torch.Size([128, 1])\n",
      "axr: torch.Size([128, 1])\n",
      "evox: torch.Size([128, 8])\n",
      "tm: torch.Size([8])\n",
      "be: torch.Size([8])\n",
      "bf: torch.Size([8])\n",
      "adc: torch.Size([128, 1])\n",
      "sigma: torch.Size([128, 1])\n",
      "axr: torch.Size([128, 1])\n",
      "evox: torch.Size([128, 8])\n",
      "tm: torch.Size([8])\n",
      "be: torch.Size([8])\n",
      "bf: torch.Size([8])\n",
      "adc: torch.Size([128, 1])\n",
      "sigma: torch.Size([128, 1])\n",
      "axr: torch.Size([128, 1])\n",
      "evox: torch.Size([128, 8])\n",
      "tm: torch.Size([8])\n",
      "be: torch.Size([8])\n",
      "bf: torch.Size([8])\n",
      "adc: torch.Size([128, 1])\n",
      "sigma: torch.Size([128, 1])\n",
      "axr: torch.Size([128, 1])\n",
      "evox: torch.Size([128, 8])\n"
     ]
    },
    {
     "name": "stderr",
     "output_type": "stream",
     "text": [
      "100%|██████████| 7/7 [00:00<00:00, 194.47it/s]\n"
     ]
    },
    {
     "name": "stdout",
     "output_type": "stream",
     "text": [
      "loss: 0.10013781115412712\n",
      "-----------------------------------------------------------------\n",
      "epoch: 149; bad epochs: 4\n"
     ]
    },
    {
     "name": "stderr",
     "output_type": "stream",
     "text": [
      "  0%|          | 0/7 [00:00<?, ?it/s]"
     ]
    },
    {
     "name": "stdout",
     "output_type": "stream",
     "text": [
      "tm: torch.Size([8])\n",
      "be: torch.Size([8])\n",
      "bf: torch.Size([8])\n",
      "adc: torch.Size([128, 1])\n",
      "sigma: torch.Size([128, 1])\n",
      "axr: torch.Size([128, 1])\n",
      "evox: torch.Size([128, 8])\n",
      "tm: torch.Size([8])\n",
      "be: torch.Size([8])\n",
      "bf: torch.Size([8])\n",
      "adc: torch.Size([128, 1])\n",
      "sigma: torch.Size([128, 1])\n",
      "axr: torch.Size([128, 1])\n",
      "evox: torch.Size([128, 8])\n",
      "tm: torch.Size([8])\n",
      "be: torch.Size([8])\n",
      "bf: torch.Size([8])\n",
      "adc: torch.Size([128, 1])\n",
      "sigma: torch.Size([128, 1])\n",
      "axr: torch.Size([128, 1])\n",
      "evox: torch.Size([128, 8])\n",
      "tm: torch.Size([8])\n",
      "be: torch.Size([8])\n",
      "bf: torch.Size([8])\n",
      "adc: torch.Size([128, 1])\n",
      "sigma: torch.Size([128, 1])\n",
      "axr: torch.Size([128, 1])\n",
      "evox: torch.Size([128, 8])\n"
     ]
    },
    {
     "name": "stderr",
     "output_type": "stream",
     "text": [
      "100%|██████████| 7/7 [00:00<00:00, 131.82it/s]"
     ]
    },
    {
     "name": "stdout",
     "output_type": "stream",
     "text": [
      "tm: torch.Size([8])\n",
      "be: torch.Size([8])\n",
      "bf: torch.Size([8])\n",
      "adc: torch.Size([128, 1])\n",
      "sigma: torch.Size([128, 1])\n",
      "axr: torch.Size([128, 1])\n",
      "evox: torch.Size([128, 8])\n",
      "tm: torch.Size([8])\n",
      "be: torch.Size([8])\n",
      "bf: torch.Size([8])\n",
      "adc: torch.Size([128, 1])\n",
      "sigma: torch.Size([128, 1])\n",
      "axr: torch.Size([128, 1])\n",
      "evox: torch.Size([128, 8])\n",
      "tm: torch.Size([8])\n",
      "be: torch.Size([8])\n",
      "bf: torch.Size([8])\n",
      "adc: torch.Size([128, 1])\n",
      "sigma: torch.Size([128, 1])\n",
      "axr: torch.Size([128, 1])\n",
      "evox: torch.Size([128, 8])\n"
     ]
    },
    {
     "name": "stderr",
     "output_type": "stream",
     "text": [
      "\n"
     ]
    },
    {
     "name": "stdout",
     "output_type": "stream",
     "text": [
      "loss: 0.09812136646360159\n",
      "####################### saving good model #######################\n",
      "-----------------------------------------------------------------\n",
      "epoch: 150; bad epochs: 0\n"
     ]
    },
    {
     "name": "stderr",
     "output_type": "stream",
     "text": [
      "  0%|          | 0/7 [00:00<?, ?it/s]"
     ]
    },
    {
     "name": "stdout",
     "output_type": "stream",
     "text": [
      "tm: torch.Size([8])\n",
      "be: torch.Size([8])\n",
      "bf: torch.Size([8])\n",
      "adc: torch.Size([128, 1])\n",
      "sigma: torch.Size([128, 1])\n",
      "axr: torch.Size([128, 1])\n",
      "evox: torch.Size([128, 8])\n",
      "tm: torch.Size([8])\n",
      "be: torch.Size([8])\n",
      "bf: torch.Size([8])\n",
      "adc: torch.Size([128, 1])\n",
      "sigma: torch.Size([128, 1])\n",
      "axr: torch.Size([128, 1])\n",
      "evox: torch.Size([128, 8])\n",
      "tm: torch.Size([8])\n",
      "be: torch.Size([8])\n",
      "bf: torch.Size([8])\n",
      "adc: torch.Size([128, 1])\n",
      "sigma: torch.Size([128, 1])\n",
      "axr: torch.Size([128, 1])\n",
      "evox: torch.Size([128, 8])\n",
      "tm: torch.Size([8])\n",
      "be: torch.Size([8])\n",
      "bf: torch.Size([8])\n",
      "adc: torch.Size([128, 1])\n",
      "sigma: torch.Size([128, 1])\n",
      "axr: torch.Size([128, 1])\n",
      "evox: torch.Size([128, 8])\n",
      "tm: torch.Size([8])\n",
      "be: torch.Size([8])\n",
      "bf: torch.Size([8])\n",
      "adc: torch.Size([128, 1])\n",
      "sigma: torch.Size([128, 1])\n",
      "axr: torch.Size([128, 1])\n",
      "evox: torch.Size([128, 8])\n",
      "tm: torch.Size([8])\n",
      "be: torch.Size([8])\n",
      "bf: torch.Size([8])\n",
      "adc: torch.Size([128, 1])\n",
      "sigma: torch.Size([128, 1])\n",
      "axr: torch.Size([128, 1])\n",
      "evox: torch.Size([128, 8])\n",
      "tm: torch.Size([8])\n",
      "be: torch.Size([8])\n",
      "bf: torch.Size([8])\n",
      "adc: torch.Size([128, 1])\n",
      "sigma: torch.Size([128, 1])\n",
      "axr: torch.Size([128, 1])\n",
      "evox: torch.Size([128, 8])\n"
     ]
    },
    {
     "name": "stderr",
     "output_type": "stream",
     "text": [
      "100%|██████████| 7/7 [00:00<00:00, 169.96it/s]\n"
     ]
    },
    {
     "name": "stdout",
     "output_type": "stream",
     "text": [
      "loss: 0.09763763379305601\n",
      "####################### saving good model #######################\n",
      "-----------------------------------------------------------------\n",
      "epoch: 151; bad epochs: 0\n"
     ]
    },
    {
     "name": "stderr",
     "output_type": "stream",
     "text": [
      "  0%|          | 0/7 [00:00<?, ?it/s]"
     ]
    },
    {
     "name": "stdout",
     "output_type": "stream",
     "text": [
      "tm: torch.Size([8])\n",
      "be: torch.Size([8])\n",
      "bf: torch.Size([8])\n",
      "adc: torch.Size([128, 1])\n",
      "sigma: torch.Size([128, 1])\n",
      "axr: torch.Size([128, 1])\n",
      "evox: torch.Size([128, 8])\n",
      "tm: torch.Size([8])\n",
      "be: torch.Size([8])\n",
      "bf: torch.Size([8])\n",
      "adc: torch.Size([128, 1])\n",
      "sigma: torch.Size([128, 1])\n",
      "axr: torch.Size([128, 1])\n",
      "evox: torch.Size([128, 8])\n",
      "tm: torch.Size([8])\n",
      "be: torch.Size([8])\n",
      "bf: torch.Size([8])\n",
      "adc: torch.Size([128, 1])\n",
      "sigma: torch.Size([128, 1])\n",
      "axr: torch.Size([128, 1])\n",
      "evox: torch.Size([128, 8])\n",
      "tm: torch.Size([8])\n",
      "be: torch.Size([8])\n",
      "bf: torch.Size([8])\n",
      "adc: torch.Size([128, 1])\n",
      "sigma: torch.Size([128, 1])\n",
      "axr: torch.Size([128, 1])\n",
      "evox: torch.Size([128, 8])\n",
      "tm: torch.Size([8])\n",
      "be: torch.Size([8])\n",
      "bf: torch.Size([8])\n",
      "adc: torch.Size([128, 1])\n",
      "sigma: torch.Size([128, 1])\n",
      "axr: torch.Size([128, 1])\n",
      "evox: torch.Size([128, 8])\n",
      "tm: torch.Size([8])\n",
      "be: torch.Size([8])\n",
      "bf: torch.Size([8])\n",
      "adc: torch.Size([128, 1])\n",
      "sigma: torch.Size([128, 1])\n",
      "axr: torch.Size([128, 1])\n",
      "evox: torch.Size([128, 8])\n",
      "tm: torch.Size([8])\n",
      "be: torch.Size([8])\n",
      "bf: torch.Size([8])\n",
      "adc: torch.Size([128, 1])\n",
      "sigma: torch.Size([128, 1])\n",
      "axr: torch.Size([128, 1])\n",
      "evox: torch.Size([128, 8])\n"
     ]
    },
    {
     "name": "stderr",
     "output_type": "stream",
     "text": [
      "100%|██████████| 7/7 [00:00<00:00, 129.97it/s]\n"
     ]
    },
    {
     "name": "stdout",
     "output_type": "stream",
     "text": [
      "loss: 0.0972718233242631\n",
      "####################### saving good model #######################\n",
      "-----------------------------------------------------------------\n",
      "epoch: 152; bad epochs: 0\n"
     ]
    },
    {
     "name": "stderr",
     "output_type": "stream",
     "text": [
      "  0%|          | 0/7 [00:00<?, ?it/s]"
     ]
    },
    {
     "name": "stdout",
     "output_type": "stream",
     "text": [
      "tm: torch.Size([8])\n",
      "be: torch.Size([8])\n",
      "bf: torch.Size([8])\n",
      "adc: torch.Size([128, 1])\n",
      "sigma: torch.Size([128, 1])\n",
      "axr: torch.Size([128, 1])\n",
      "evox: torch.Size([128, 8])\n",
      "tm: torch.Size([8])\n",
      "be: torch.Size([8])\n",
      "bf: torch.Size([8])\n",
      "adc: torch.Size([128, 1])\n",
      "sigma: torch.Size([128, 1])\n",
      "axr: torch.Size([128, 1])\n",
      "evox: torch.Size([128, 8])\n",
      "tm: torch.Size([8])\n",
      "be: torch.Size([8])\n",
      "bf: torch.Size([8])\n",
      "adc: torch.Size([128, 1])\n",
      "sigma: torch.Size([128, 1])\n",
      "axr: torch.Size([128, 1])\n",
      "evox: torch.Size([128, 8])\n",
      "tm: torch.Size([8])\n",
      "be: torch.Size([8])\n",
      "bf: torch.Size([8])\n",
      "adc: torch.Size([128, 1])\n",
      "sigma: torch.Size([128, 1])\n",
      "axr: torch.Size([128, 1])\n",
      "evox: torch.Size([128, 8])\n",
      "tm: torch.Size([8])\n",
      "be: torch.Size([8])\n",
      "bf: torch.Size([8])\n",
      "adc: torch.Size([128, 1])\n",
      "sigma: torch.Size([128, 1])\n",
      "axr: torch.Size([128, 1])\n",
      "evox: torch.Size([128, 8])\n"
     ]
    },
    {
     "name": "stderr",
     "output_type": "stream",
     "text": [
      "100%|██████████| 7/7 [00:00<00:00, 130.57it/s]\n"
     ]
    },
    {
     "name": "stdout",
     "output_type": "stream",
     "text": [
      "tm: torch.Size([8])\n",
      "be: torch.Size([8])\n",
      "bf: torch.Size([8])\n",
      "adc: torch.Size([128, 1])\n",
      "sigma: torch.Size([128, 1])\n",
      "axr: torch.Size([128, 1])\n",
      "evox: torch.Size([128, 8])\n",
      "tm: torch.Size([8])\n",
      "be: torch.Size([8])\n",
      "bf: torch.Size([8])\n",
      "adc: torch.Size([128, 1])\n",
      "sigma: torch.Size([128, 1])\n",
      "axr: torch.Size([128, 1])\n",
      "evox: torch.Size([128, 8])\n",
      "loss: 0.09771815966814756\n",
      "-----------------------------------------------------------------\n",
      "epoch: 153; bad epochs: 1\n"
     ]
    },
    {
     "name": "stderr",
     "output_type": "stream",
     "text": [
      "  0%|          | 0/7 [00:00<?, ?it/s]"
     ]
    },
    {
     "name": "stdout",
     "output_type": "stream",
     "text": [
      "tm: torch.Size([8])\n",
      "be: torch.Size([8])\n",
      "bf: torch.Size([8])\n",
      "adc: torch.Size([128, 1])\n",
      "sigma: torch.Size([128, 1])\n",
      "axr: torch.Size([128, 1])\n",
      "evox: torch.Size([128, 8])\n",
      "tm: torch.Size([8])\n",
      "be: torch.Size([8])\n",
      "bf: torch.Size([8])\n",
      "adc: torch.Size([128, 1])\n",
      "sigma: torch.Size([128, 1])\n",
      "axr: torch.Size([128, 1])\n",
      "evox: torch.Size([128, 8])\n",
      "tm: torch.Size([8])\n",
      "be: torch.Size([8])\n",
      "bf: torch.Size([8])\n",
      "adc: torch.Size([128, 1])\n",
      "sigma: torch.Size([128, 1])\n",
      "axr: torch.Size([128, 1])\n",
      "evox: torch.Size([128, 8])\n",
      "tm: torch.Size([8])\n",
      "be: torch.Size([8])\n",
      "bf: torch.Size([8])\n",
      "adc: torch.Size([128, 1])\n",
      "sigma: torch.Size([128, 1])\n",
      "axr: torch.Size([128, 1])\n",
      "evox: torch.Size([128, 8])\n",
      "tm: torch.Size([8])\n",
      "be: torch.Size([8])\n",
      "bf: torch.Size([8])\n",
      "adc: torch.Size([128, 1])\n",
      "sigma: torch.Size([128, 1])\n",
      "axr: torch.Size([128, 1])\n",
      "evox: torch.Size([128, 8])\n",
      "tm: torch.Size([8])\n",
      "be: torch.Size([8])\n",
      "bf: torch.Size([8])\n",
      "adc: torch.Size([128, 1])\n",
      "sigma: torch.Size([128, 1])\n",
      "axr: torch.Size([128, 1])\n",
      "evox: torch.Size([128, 8])\n",
      "tm: torch.Size([8])\n",
      "be: torch.Size([8])\n",
      "bf: torch.Size([8])\n",
      "adc: torch.Size([128, 1])\n",
      "sigma: torch.Size([128, 1])\n",
      "axr: torch.Size([128, 1])\n",
      "evox: torch.Size([128, 8])\n"
     ]
    },
    {
     "name": "stderr",
     "output_type": "stream",
     "text": [
      "100%|██████████| 7/7 [00:00<00:00, 151.00it/s]\n"
     ]
    },
    {
     "name": "stdout",
     "output_type": "stream",
     "text": [
      "loss: 0.09930413123220205\n",
      "-----------------------------------------------------------------\n",
      "epoch: 154; bad epochs: 2\n"
     ]
    },
    {
     "name": "stderr",
     "output_type": "stream",
     "text": [
      "  0%|          | 0/7 [00:00<?, ?it/s]"
     ]
    },
    {
     "name": "stdout",
     "output_type": "stream",
     "text": [
      "tm: torch.Size([8])\n",
      "be: torch.Size([8])\n",
      "bf: torch.Size([8])\n",
      "adc: torch.Size([128, 1])\n",
      "sigma: torch.Size([128, 1])\n",
      "axr: torch.Size([128, 1])\n",
      "evox: torch.Size([128, 8])\n",
      "tm: torch.Size([8])\n",
      "be: torch.Size([8])\n",
      "bf: torch.Size([8])\n",
      "adc: torch.Size([128, 1])\n",
      "sigma: torch.Size([128, 1])\n",
      "axr: torch.Size([128, 1])\n",
      "evox: torch.Size([128, 8])\n",
      "tm: torch.Size([8])\n",
      "be: torch.Size([8])\n",
      "bf: torch.Size([8])\n",
      "adc: torch.Size([128, 1])\n",
      "sigma: torch.Size([128, 1])\n",
      "axr: torch.Size([128, 1])\n",
      "evox: torch.Size([128, 8])\n",
      "tm: torch.Size([8])\n",
      "be: torch.Size([8])\n",
      "bf: torch.Size([8])\n",
      "adc: torch.Size([128, 1])\n",
      "sigma: torch.Size([128, 1])\n",
      "axr: torch.Size([128, 1])\n",
      "evox: torch.Size([128, 8])\n",
      "tm: torch.Size([8])\n",
      "be: torch.Size([8])\n",
      "bf: torch.Size([8])\n",
      "adc: torch.Size([128, 1])\n",
      "sigma: torch.Size([128, 1])\n",
      "axr: torch.Size([128, 1])\n",
      "evox: torch.Size([128, 8])\n",
      "tm: torch.Size([8])\n",
      "be: torch.Size([8])\n",
      "bf: torch.Size([8])\n",
      "adc: torch.Size([128, 1])\n",
      "sigma: torch.Size([128, 1])\n",
      "axr: torch.Size([128, 1])\n",
      "evox: torch.Size([128, 8])\n"
     ]
    },
    {
     "name": "stderr",
     "output_type": "stream",
     "text": [
      "100%|██████████| 7/7 [00:00<00:00, 144.73it/s]\n"
     ]
    },
    {
     "name": "stdout",
     "output_type": "stream",
     "text": [
      "tm: torch.Size([8])\n",
      "be: torch.Size([8])\n",
      "bf: torch.Size([8])\n",
      "adc: torch.Size([128, 1])\n",
      "sigma: torch.Size([128, 1])\n",
      "axr: torch.Size([128, 1])\n",
      "evox: torch.Size([128, 8])\n",
      "loss: 0.09785861242562532\n",
      "-----------------------------------------------------------------\n",
      "epoch: 155; bad epochs: 3\n"
     ]
    },
    {
     "name": "stderr",
     "output_type": "stream",
     "text": [
      "  0%|          | 0/7 [00:00<?, ?it/s]"
     ]
    },
    {
     "name": "stdout",
     "output_type": "stream",
     "text": [
      "tm: torch.Size([8])\n",
      "be: torch.Size([8])\n",
      "bf: torch.Size([8])\n",
      "adc: torch.Size([128, 1])\n",
      "sigma: torch.Size([128, 1])\n",
      "axr: torch.Size([128, 1])\n",
      "evox: torch.Size([128, 8])\n",
      "tm: torch.Size([8])\n",
      "be: torch.Size([8])\n",
      "bf: torch.Size([8])\n",
      "adc: torch.Size([128, 1])\n",
      "sigma: torch.Size([128, 1])\n",
      "axr: torch.Size([128, 1])\n",
      "evox: torch.Size([128, 8])\n",
      "tm: torch.Size([8])\n",
      "be: torch.Size([8])\n",
      "bf: torch.Size([8])\n",
      "adc: torch.Size([128, 1])\n",
      "sigma: torch.Size([128, 1])\n",
      "axr: torch.Size([128, 1])\n",
      "evox: torch.Size([128, 8])\n",
      "tm: torch.Size([8])\n",
      "be: torch.Size([8])\n",
      "bf: torch.Size([8])\n",
      "adc: torch.Size([128, 1])\n",
      "sigma: torch.Size([128, 1])\n",
      "axr: torch.Size([128, 1])\n",
      "evox: torch.Size([128, 8])\n",
      "tm: torch.Size([8])\n",
      "be: torch.Size([8])\n",
      "bf: torch.Size([8])\n",
      "adc: torch.Size([128, 1])\n",
      "sigma: torch.Size([128, 1])\n",
      "axr: torch.Size([128, 1])\n",
      "evox: torch.Size([128, 8])\n"
     ]
    },
    {
     "name": "stderr",
     "output_type": "stream",
     "text": [
      "100%|██████████| 7/7 [00:00<00:00, 150.72it/s]\n"
     ]
    },
    {
     "name": "stdout",
     "output_type": "stream",
     "text": [
      "tm: torch.Size([8])\n",
      "be: torch.Size([8])\n",
      "bf: torch.Size([8])\n",
      "adc: torch.Size([128, 1])\n",
      "sigma: torch.Size([128, 1])\n",
      "axr: torch.Size([128, 1])\n",
      "evox: torch.Size([128, 8])\n",
      "tm: torch.Size([8])\n",
      "be: torch.Size([8])\n",
      "bf: torch.Size([8])\n",
      "adc: torch.Size([128, 1])\n",
      "sigma: torch.Size([128, 1])\n",
      "axr: torch.Size([128, 1])\n",
      "evox: torch.Size([128, 8])\n",
      "loss: 0.09682818409055471\n",
      "####################### saving good model #######################\n",
      "-----------------------------------------------------------------\n",
      "epoch: 156; bad epochs: 0\n"
     ]
    },
    {
     "name": "stderr",
     "output_type": "stream",
     "text": [
      "  0%|          | 0/7 [00:00<?, ?it/s]"
     ]
    },
    {
     "name": "stdout",
     "output_type": "stream",
     "text": [
      "tm: torch.Size([8])\n",
      "be: torch.Size([8])\n",
      "bf: torch.Size([8])\n",
      "adc: torch.Size([128, 1])\n",
      "sigma: torch.Size([128, 1])\n",
      "axr: torch.Size([128, 1])\n",
      "evox: torch.Size([128, 8])\n",
      "tm: torch.Size([8])\n",
      "be: torch.Size([8])\n",
      "bf: torch.Size([8])\n",
      "adc: torch.Size([128, 1])\n",
      "sigma: torch.Size([128, 1])\n",
      "axr: torch.Size([128, 1])\n",
      "evox: torch.Size([128, 8])\n",
      "tm: torch.Size([8])\n",
      "be: torch.Size([8])\n",
      "bf: torch.Size([8])\n",
      "adc: torch.Size([128, 1])\n",
      "sigma: torch.Size([128, 1])\n",
      "axr: torch.Size([128, 1])\n",
      "evox: torch.Size([128, 8])\n",
      "tm: torch.Size([8])\n",
      "be: torch.Size([8])\n",
      "bf: torch.Size([8])\n",
      "adc: torch.Size([128, 1])\n",
      "sigma: torch.Size([128, 1])\n",
      "axr: torch.Size([128, 1])\n",
      "evox: torch.Size([128, 8])\n",
      "tm:"
     ]
    },
    {
     "name": "stderr",
     "output_type": "stream",
     "text": [
      "100%|██████████| 7/7 [00:00<00:00, 183.87it/s]\n"
     ]
    },
    {
     "name": "stdout",
     "output_type": "stream",
     "text": [
      " torch.Size([8])\n",
      "be: torch.Size([8])\n",
      "bf: torch.Size([8])\n",
      "adc: torch.Size([128, 1])\n",
      "sigma: torch.Size([128, 1])\n",
      "axr: torch.Size([128, 1])\n",
      "evox: torch.Size([128, 8])\n",
      "tm: torch.Size([8])\n",
      "be: torch.Size([8])\n",
      "bf: torch.Size([8])\n",
      "adc: torch.Size([128, 1])\n",
      "sigma: torch.Size([128, 1])\n",
      "axr: torch.Size([128, 1])\n",
      "evox: torch.Size([128, 8])\n",
      "tm: torch.Size([8])\n",
      "be: torch.Size([8])\n",
      "bf: torch.Size([8])\n",
      "adc: torch.Size([128, 1])\n",
      "sigma: torch.Size([128, 1])\n",
      "axr: torch.Size([128, 1])\n",
      "evox: torch.Size([128, 8])\n",
      "loss: 0.09669617097824812\n",
      "####################### saving good model #######################\n",
      "-----------------------------------------------------------------\n",
      "epoch: 157; bad epochs: 0\n"
     ]
    },
    {
     "name": "stderr",
     "output_type": "stream",
     "text": [
      "  0%|          | 0/7 [00:00<?, ?it/s]"
     ]
    },
    {
     "name": "stdout",
     "output_type": "stream",
     "text": [
      "tm: torch.Size([8])\n",
      "be: torch.Size([8])\n",
      "bf: torch.Size([8])\n",
      "adc: torch.Size([128, 1])\n",
      "sigma: torch.Size([128, 1])\n",
      "axr: torch.Size([128, 1])\n",
      "evox: torch.Size([128, 8])\n"
     ]
    },
    {
     "name": "stderr",
     "output_type": "stream",
     "text": [
      " 14%|█▍        | 1/7 [00:00<00:00,  7.50it/s]"
     ]
    },
    {
     "name": "stdout",
     "output_type": "stream",
     "text": [
      "tm: torch.Size([8])\n",
      "be: torch.Size([8])\n",
      "bf: torch.Size([8])\n",
      "adc: torch.Size([128, 1])\n",
      "sigma: torch.Size([128, 1])\n",
      "axr: torch.Size([128, 1])\n",
      "evox: torch.Size([128, 8])\n",
      "tm: torch.Size([8])\n",
      "be: torch.Size([8])\n",
      "bf: torch.Size([8])\n",
      "adc: torch.Size([128, 1])\n",
      "sigma: torch.Size([128, 1])\n",
      "axr: torch.Size([128, 1])\n",
      "evox: torch.Size([128, 8])\n",
      "tm: torch.Size([8])\n",
      "be: torch.Size([8])\n",
      "bf: torch.Size([8])\n",
      "adc: torch.Size([128, 1])\n",
      "sigma: torch.Size([128, 1])\n",
      "axr: torch.Size([128, 1])\n",
      "evox: torch.Size([128, 8])\n"
     ]
    },
    {
     "name": "stderr",
     "output_type": "stream",
     "text": [
      "100%|██████████| 7/7 [00:00<00:00, 38.35it/s]\n"
     ]
    },
    {
     "name": "stdout",
     "output_type": "stream",
     "text": [
      "tm: torch.Size([8])\n",
      "be: torch.Size([8])\n",
      "bf: torch.Size([8])\n",
      "adc: torch.Size([128, 1])\n",
      "sigma: torch.Size([128, 1])\n",
      "axr: torch.Size([128, 1])\n",
      "evox: torch.Size([128, 8])\n",
      "tm: torch.Size([8])\n",
      "be: torch.Size([8])\n",
      "bf: torch.Size([8])\n",
      "adc: torch.Size([128, 1])\n",
      "sigma: torch.Size([128, 1])\n",
      "axr: torch.Size([128, 1])\n",
      "evox: torch.Size([128, 8])\n",
      "tm: torch.Size([8])\n",
      "be: torch.Size([8])\n",
      "bf: torch.Size([8])\n",
      "adc: torch.Size([128, 1])\n",
      "sigma: torch.Size([128, 1])\n",
      "axr: torch.Size([128, 1])\n",
      "evox: torch.Size([128, 8])\n",
      "loss: 0.09860657621175051\n",
      "-----------------------------------------------------------------\n",
      "epoch: 158; bad epochs: 1\n"
     ]
    },
    {
     "name": "stderr",
     "output_type": "stream",
     "text": [
      "  0%|          | 0/7 [00:00<?, ?it/s]"
     ]
    },
    {
     "name": "stdout",
     "output_type": "stream",
     "text": [
      "tm: torch.Size([8])\n",
      "be: torch.Size([8])\n",
      "bf: torch.Size([8])\n",
      "adc: torch.Size([128, 1])\n",
      "sigma: torch.Size([128, 1])\n",
      "axr: torch.Size([128, 1])\n",
      "evox: torch.Size([128, 8])\n",
      "tm: torch.Size([8])\n",
      "be: torch.Size([8])\n",
      "bf: torch.Size([8])\n",
      "adc: torch.Size([128, 1])\n",
      "sigma: torch.Size([128, 1])\n",
      "axr: torch.Size([128, 1])\n",
      "evox: torch.Size([128, 8])\n",
      "tm: torch.Size([8])\n",
      "be: torch.Size([8])\n",
      "bf: torch.Size([8])\n",
      "adc: torch.Size([128, 1])\n",
      "sigma: torch.Size([128, 1])\n",
      "axr: torch.Size([128, 1])\n",
      "evox: torch.Size([128, 8])\n",
      "tm: torch.Size([8])\n",
      "be: torch.Size([8])\n",
      "bf: torch.Size([8])\n",
      "adc: torch.Size([128, 1])\n",
      "sigma: torch.Size([128, 1])\n",
      "axr: torch.Size([128, 1])\n",
      "evox: torch.Size([128, 8])\n"
     ]
    },
    {
     "name": "stderr",
     "output_type": "stream",
     "text": [
      "100%|██████████| 7/7 [00:00<00:00, 121.40it/s]\n"
     ]
    },
    {
     "name": "stdout",
     "output_type": "stream",
     "text": [
      "tm: torch.Size([8])\n",
      "be: torch.Size([8])\n",
      "bf: torch.Size([8])\n",
      "adc: torch.Size([128, 1])\n",
      "sigma: torch.Size([128, 1])\n",
      "axr: torch.Size([128, 1])\n",
      "evox: torch.Size([128, 8])\n",
      "tm: torch.Size([8])\n",
      "be: torch.Size([8])\n",
      "bf: torch.Size([8])\n",
      "adc: torch.Size([128, 1])\n",
      "sigma: torch.Size([128, 1])\n",
      "axr: torch.Size([128, 1])\n",
      "evox: torch.Size([128, 8])\n",
      "tm: torch.Size([8])\n",
      "be: torch.Size([8])\n",
      "bf: torch.Size([8])\n",
      "adc: torch.Size([128, 1])\n",
      "sigma: torch.Size([128, 1])\n",
      "axr: torch.Size([128, 1])\n",
      "evox: torch.Size([128, 8])\n",
      "loss: 0.09779451135545969\n",
      "-----------------------------------------------------------------\n",
      "epoch: 159; bad epochs: 2\n"
     ]
    },
    {
     "name": "stderr",
     "output_type": "stream",
     "text": [
      "100%|██████████| 7/7 [00:00<00:00, 188.38it/s]\n"
     ]
    },
    {
     "name": "stdout",
     "output_type": "stream",
     "text": [
      "tm: torch.Size([8])\n",
      "be: torch.Size([8])\n",
      "bf: torch.Size([8])\n",
      "adc: torch.Size([128, 1])\n",
      "sigma: torch.Size([128, 1])\n",
      "axr: torch.Size([128, 1])\n",
      "evox: torch.Size([128, 8])\n",
      "tm: torch.Size([8])\n",
      "be: torch.Size([8])\n",
      "bf: torch.Size([8])\n",
      "adc: torch.Size([128, 1])\n",
      "sigma: torch.Size([128, 1])\n",
      "axr: torch.Size([128, 1])\n",
      "evox: torch.Size([128, 8])\n",
      "tm: torch.Size([8])\n",
      "be: torch.Size([8])\n",
      "bf: torch.Size([8])\n",
      "adc: torch.Size([128, 1])\n",
      "sigma: torch.Size([128, 1])\n",
      "axr: torch.Size([128, 1])\n",
      "evox: torch.Size([128, 8])\n",
      "tm: torch.Size([8])\n",
      "be: torch.Size([8])\n",
      "bf: torch.Size([8])\n",
      "adc: torch.Size([128, 1])\n",
      "sigma: torch.Size([128, 1])\n",
      "axr: torch.Size([128, 1])\n",
      "evox: torch.Size([128, 8])\n",
      "tm: torch.Size([8])\n",
      "be: torch.Size([8])\n",
      "bf: torch.Size([8])\n",
      "adc: torch.Size([128, 1])\n",
      "sigma: torch.Size([128, 1])\n",
      "axr: torch.Size([128, 1])\n",
      "evox: torch.Size([128, 8])\n",
      "tm: torch.Size([8])\n",
      "be: torch.Size([8])\n",
      "bf: torch.Size([8])\n",
      "adc: torch.Size([128, 1])\n",
      "sigma: torch.Size([128, 1])\n",
      "axr: torch.Size([128, 1])\n",
      "evox: torch.Size([128, 8])\n",
      "tm: torch.Size([8])\n",
      "be: torch.Size([8])\n",
      "bf: torch.Size([8])\n",
      "adc: torch.Size([128, 1])\n",
      "sigma: torch.Size([128, 1])\n",
      "axr: torch.Size([128, 1])\n",
      "evox: torch.Size([128, 8])\n",
      "loss: 0.09750812593847513\n",
      "-----------------------------------------------------------------\n",
      "epoch: 160; bad epochs: 3\n"
     ]
    },
    {
     "name": "stderr",
     "output_type": "stream",
     "text": [
      "  0%|          | 0/7 [00:00<?, ?it/s]"
     ]
    },
    {
     "name": "stdout",
     "output_type": "stream",
     "text": [
      "tm: torch.Size([8])\n",
      "be: torch.Size([8])\n",
      "bf: torch.Size([8])\n",
      "adc: torch.Size([128, 1])\n",
      "sigma: torch.Size([128, 1])\n",
      "axr: torch.Size([128, 1])\n",
      "evox: torch.Size([128, 8])\n",
      "tm: torch.Size([8])\n",
      "be: torch.Size([8])\n",
      "bf: torch.Size([8])\n",
      "adc: torch.Size([128, 1])\n",
      "sigma: torch.Size([128, 1])\n",
      "axr: torch.Size([128, 1])\n",
      "evox: torch.Size([128, 8])\n",
      "tm: torch.Size([8])\n",
      "be: torch.Size([8])\n",
      "bf: torch.Size([8])\n",
      "adc: torch.Size([128, 1])\n",
      "sigma: torch.Size([128, 1])\n",
      "axr: torch.Size([128, 1])\n",
      "evox: torch.Size([128, 8])\n",
      "tm: torch.Size([8])\n",
      "be: torch.Size([8])\n",
      "bf: torch.Size([8])\n",
      "adc: torch.Size([128, 1])\n",
      "sigma: torch.Size([128, 1])\n",
      "axr: torch.Size([128, 1])\n",
      "evox: torch.Size([128, 8])\n",
      "tm: torch.Size([8])\n",
      "be: torch.Size([8])\n",
      "bf: torch.Size([8])\n",
      "adc: torch.Size([128, 1])\n",
      "sigma: torch.Size([128, 1])\n",
      "axr: torch.Size([128, 1])\n",
      "evox: torch.Size([128, 8])\n",
      "tm: torch.Size([8])\n",
      "be: torch.Size([8])\n",
      "bf: torch.Size([8])\n",
      "adc: torch.Size([128, 1])\n",
      "sigma: torch.Size([128, 1])\n",
      "axr: torch.Size([128, 1])\n",
      "evox: torch.Size([128, 8])\n",
      "tm: torch.Size([8])\n",
      "be: torch.Size([8])\n",
      "bf: torch.Size([8])\n",
      "adc: torch.Size([128, 1])\n",
      "sigma: torch.Size([128, 1])\n",
      "axr: torch.Size([128, 1])\n",
      "evox: torch.Size([128, 8])\n"
     ]
    },
    {
     "name": "stderr",
     "output_type": "stream",
     "text": [
      "100%|██████████| 7/7 [00:00<00:00, 174.94it/s]\n"
     ]
    },
    {
     "name": "stdout",
     "output_type": "stream",
     "text": [
      "loss: 0.09717996139079332\n",
      "-----------------------------------------------------------------\n",
      "epoch: 161; bad epochs: 4\n"
     ]
    },
    {
     "name": "stderr",
     "output_type": "stream",
     "text": [
      "  0%|          | 0/7 [00:00<?, ?it/s]"
     ]
    },
    {
     "name": "stdout",
     "output_type": "stream",
     "text": [
      "tm: torch.Size([8])\n",
      "be: torch.Size([8])\n",
      "bf: torch.Size([8])\n",
      "adc: torch.Size([128, 1])\n",
      "sigma: torch.Size([128, 1])\n",
      "axr: torch.Size([128, 1])\n",
      "evox: torch.Size([128, 8])\n"
     ]
    },
    {
     "name": "stderr",
     "output_type": "stream",
     "text": [
      "100%|██████████| 7/7 [00:00<00:00, 101.35it/s]\n"
     ]
    },
    {
     "name": "stdout",
     "output_type": "stream",
     "text": [
      "tm: torch.Size([8])\n",
      "be: torch.Size([8])\n",
      "bf: torch.Size([8])\n",
      "adc: torch.Size([128, 1])\n",
      "sigma: torch.Size([128, 1])\n",
      "axr: torch.Size([128, 1])\n",
      "evox: torch.Size([128, 8])\n",
      "tm: torch.Size([8])\n",
      "be: torch.Size([8])\n",
      "bf: torch.Size([8])\n",
      "adc: torch.Size([128, 1])\n",
      "sigma: torch.Size([128, 1])\n",
      "axr: torch.Size([128, 1])\n",
      "evox: torch.Size([128, 8])\n",
      "tm: torch.Size([8])\n",
      "be: torch.Size([8])\n",
      "bf: torch.Size([8])\n",
      "adc: torch.Size([128, 1])\n",
      "sigma: torch.Size([128, 1])\n",
      "axr: torch.Size([128, 1])\n",
      "evox: torch.Size([128, 8])\n",
      "tm: torch.Size([8])\n",
      "be: torch.Size([8])\n",
      "bf: torch.Size([8])\n",
      "adc: torch.Size([128, 1])\n",
      "sigma: torch.Size([128, 1])\n",
      "axr: torch.Size([128, 1])\n",
      "evox: torch.Size([128, 8])\n",
      "tm: torch.Size([8])\n",
      "be: torch.Size([8])\n",
      "bf: torch.Size([8])\n",
      "adc: torch.Size([128, 1])\n",
      "sigma: torch.Size([128, 1])\n",
      "axr: torch.Size([128, 1])\n",
      "evox: torch.Size([128, 8])\n",
      "tm: torch.Size([8])\n",
      "be: torch.Size([8])\n",
      "bf: torch.Size([8])\n",
      "adc: torch.Size([128, 1])\n",
      "sigma: torch.Size([128, 1])\n",
      "axr: torch.Size([128, 1])\n",
      "evox: torch.Size([128, 8])\n",
      "loss: 0.09549811109900475\n",
      "####################### saving good model #######################\n",
      "-----------------------------------------------------------------\n",
      "epoch: 162; bad epochs: 0\n"
     ]
    },
    {
     "name": "stderr",
     "output_type": "stream",
     "text": [
      "  0%|          | 0/7 [00:00<?, ?it/s]"
     ]
    },
    {
     "name": "stdout",
     "output_type": "stream",
     "text": [
      "tm: torch.Size([8])\n",
      "be: torch.Size([8])\n",
      "bf: torch.Size([8])\n",
      "adc: torch.Size([128, 1])\n",
      "sigma: torch.Size([128, 1])\n",
      "axr: torch.Size([128, 1])\n",
      "evox: torch.Size([128, 8])\n",
      "tm: torch.Size([8])\n",
      "be: torch.Size([8])\n",
      "bf: torch.Size([8])\n",
      "adc: torch.Size([128, 1])\n",
      "sigma: torch.Size([128, 1])\n",
      "axr: torch.Size([128, 1])\n",
      "evox: torch.Size([128, 8])\n"
     ]
    },
    {
     "name": "stderr",
     "output_type": "stream",
     "text": [
      "100%|██████████| 7/7 [00:00<00:00, 209.99it/s]\n"
     ]
    },
    {
     "name": "stdout",
     "output_type": "stream",
     "text": [
      "tm: torch.Size([8])\n",
      "be: torch.Size([8])\n",
      "bf: torch.Size([8])\n",
      "adc: torch.Size([128, 1])\n",
      "sigma: torch.Size([128, 1])\n",
      "axr: torch.Size([128, 1])\n",
      "evox: torch.Size([128, 8])\n",
      "tm: torch.Size([8])\n",
      "be: torch.Size([8])\n",
      "bf: torch.Size([8])\n",
      "adc: torch.Size([128, 1])\n",
      "sigma: torch.Size([128, 1])\n",
      "axr: torch.Size([128, 1])\n",
      "evox: torch.Size([128, 8])\n",
      "tm: torch.Size([8])\n",
      "be: torch.Size([8])\n",
      "bf: torch.Size([8])\n",
      "adc: torch.Size([128, 1])\n",
      "sigma: torch.Size([128, 1])\n",
      "axr: torch.Size([128, 1])\n",
      "evox: torch.Size([128, 8])\n",
      "tm: torch.Size([8])\n",
      "be: torch.Size([8])\n",
      "bf: torch.Size([8])\n",
      "adc: torch.Size([128, 1])\n",
      "sigma: torch.Size([128, 1])\n",
      "axr: torch.Size([128, 1])\n",
      "evox: torch.Size([128, 8])\n",
      "tm: torch.Size([8])\n",
      "be: torch.Size([8])\n",
      "bf: torch.Size([8])\n",
      "adc: torch.Size([128, 1])\n",
      "sigma: torch.Size([128, 1])\n",
      "axr: torch.Size([128, 1])\n",
      "evox: torch.Size([128, 8])\n",
      "loss: 0.09656845312565565\n",
      "-----------------------------------------------------------------\n",
      "epoch: 163; bad epochs: 1\n"
     ]
    },
    {
     "name": "stderr",
     "output_type": "stream",
     "text": [
      "  0%|          | 0/7 [00:00<?, ?it/s]"
     ]
    },
    {
     "name": "stdout",
     "output_type": "stream",
     "text": [
      "tm: torch.Size([8])\n",
      "be: torch.Size([8])\n",
      "bf: torch.Size([8])\n",
      "adc: torch.Size([128, 1])\n",
      "sigma: torch.Size([128, 1])\n",
      "axr: torch.Size([128, 1])\n",
      "evox: torch.Size([128, 8])\n",
      "tm: torch.Size([8])\n",
      "be: torch.Size([8])\n",
      "bf: torch.Size([8])\n",
      "adc: torch.Size([128, 1])\n",
      "sigma: torch.Size([128, 1])\n",
      "axr: torch.Size([128, 1])\n",
      "evox: torch.Size([128, 8])\n",
      "tm: torch.Size([8])\n",
      "be: torch.Size([8])\n",
      "bf: torch.Size([8])\n",
      "adc: torch.Size([128, 1])\n",
      "sigma: torch.Size([128, 1])\n",
      "axr: torch.Size([128, 1])\n",
      "evox: torch.Size([128, 8])\n",
      "tm: torch.Size([8])\n",
      "be: torch.Size([8])\n",
      "bf: torch.Size([8])\n",
      "adc: torch.Size([128, 1])\n",
      "sigma: torch.Size([128, 1])\n",
      "axr: torch.Size([128, 1])\n",
      "evox: torch.Size([128, 8])\n",
      "tm: torch.Size([8])\n",
      "be: torch.Size([8])\n",
      "bf: torch.Size([8])\n",
      "adc: torch.Size([128, 1])\n",
      "sigma: torch.Size([128, 1])\n",
      "axr: torch.Size([128, 1])\n",
      "evox: torch.Size([128, 8])\n",
      "tm: torch.Size([8])\n",
      "be: torch.Size([8])\n",
      "bf: torch.Size([8])\n",
      "adc: torch.Size([128, 1])\n",
      "sigma: torch.Size([128, 1])\n",
      "axr: torch.Size([128, 1])\n",
      "evox: torch.Size([128, 8])\n",
      "tm: torch.Size([8])\n",
      "be: torch.Size([8])\n",
      "bf: torch.Size([8])\n",
      "adc: torch.Size([128, 1])\n",
      "sigma: torch.Size([128, 1])\n",
      "axr: torch.Size([128, 1])\n",
      "evox: torch.Size([128, 8])\n"
     ]
    },
    {
     "name": "stderr",
     "output_type": "stream",
     "text": [
      "100%|██████████| 7/7 [00:00<00:00, 172.50it/s]\n"
     ]
    },
    {
     "name": "stdout",
     "output_type": "stream",
     "text": [
      "loss: 0.09510612860321999\n",
      "####################### saving good model #######################\n",
      "-----------------------------------------------------------------\n",
      "epoch: 164; bad epochs: 0\n"
     ]
    },
    {
     "name": "stderr",
     "output_type": "stream",
     "text": [
      "  0%|          | 0/7 [00:00<?, ?it/s]"
     ]
    },
    {
     "name": "stdout",
     "output_type": "stream",
     "text": [
      "tm: torch.Size([8])\n",
      "be: torch.Size([8])\n",
      "bf: torch.Size([8])\n",
      "adc: torch.Size([128, 1])\n",
      "sigma: torch.Size([128, 1])\n",
      "axr: torch.Size([128, 1])\n",
      "evox: torch.Size([128, 8])\n",
      "tm: torch.Size([8])\n",
      "be: torch.Size([8])\n",
      "bf: torch.Size([8])\n",
      "adc: torch.Size([128, 1])\n",
      "sigma: torch.Size([128, 1])\n",
      "axr: torch.Size([128, 1])\n",
      "evox: torch.Size([128, 8])\n",
      "tm: torch.Size([8])\n",
      "be: torch.Size([8])\n",
      "bf: torch.Size([8])\n",
      "adc: torch.Size([128, 1])\n",
      "sigma: torch.Size([128, 1])\n",
      "axr: torch.Size([128, 1])\n",
      "evox: torch.Size([128, 8])\n",
      "tm: torch.Size([8])\n",
      "be: torch.Size([8])\n",
      "bf: torch.Size([8])\n",
      "adc: torch.Size([128, 1])\n",
      "sigma: torch.Size([128, 1])\n",
      "axr: torch.Size([128, 1])\n",
      "evox: torch.Size([128, 8])\n",
      "tm: torch.Size([8])\n",
      "be: torch.Size([8])\n",
      "bf: torch.Size([8])\n",
      "adc: torch.Size([128, 1])\n",
      "sigma: torch.Size([128, 1])\n",
      "axr: torch.Size([128, 1])\n",
      "evox: torch.Size([128, 8])\n",
      "tm: torch.Size([8])\n",
      "be: torch.Size([8])\n",
      "bf: torch.Size([8])\n",
      "adc: torch.Size([128, 1])\n",
      "sigma: torch.Size([128, 1])\n",
      "axr: torch.Size([128, 1])\n",
      "evox: torch.Size([128, 8])\n"
     ]
    },
    {
     "name": "stderr",
     "output_type": "stream",
     "text": [
      "100%|██████████| 7/7 [00:00<00:00, 207.41it/s]\n"
     ]
    },
    {
     "name": "stdout",
     "output_type": "stream",
     "text": [
      "tm: torch.Size([8])\n",
      "be: torch.Size([8])\n",
      "bf: torch.Size([8])\n",
      "adc: torch.Size([128, 1])\n",
      "sigma: torch.Size([128, 1])\n",
      "axr: torch.Size([128, 1])\n",
      "evox: torch.Size([128, 8])\n",
      "loss: 0.0966127049177885\n",
      "-----------------------------------------------------------------\n",
      "epoch: 165; bad epochs: 1\n"
     ]
    },
    {
     "name": "stderr",
     "output_type": "stream",
     "text": [
      "  0%|          | 0/7 [00:00<?, ?it/s]"
     ]
    },
    {
     "name": "stdout",
     "output_type": "stream",
     "text": [
      "tm: torch.Size([8])\n",
      "be: torch.Size([8])\n",
      "bf: torch.Size([8])\n",
      "adc: torch.Size([128, 1])\n",
      "sigma: torch.Size([128, 1])\n",
      "axr: torch.Size([128, 1])\n",
      "evox: torch.Size([128, 8])\n",
      "tm: torch.Size([8])\n",
      "be: torch.Size([8])\n",
      "bf: torch.Size([8])\n",
      "adc: torch.Size([128, 1])\n",
      "sigma: torch.Size([128, 1])\n",
      "axr: torch.Size([128, 1])\n",
      "evox: torch.Size([128, 8])\n"
     ]
    },
    {
     "name": "stderr",
     "output_type": "stream",
     "text": [
      "100%|██████████| 7/7 [00:00<00:00, 207.86it/s]\n"
     ]
    },
    {
     "name": "stdout",
     "output_type": "stream",
     "text": [
      "tm: torch.Size([8])\n",
      "be: torch.Size([8])\n",
      "bf: torch.Size([8])\n",
      "adc: torch.Size([128, 1])\n",
      "sigma: torch.Size([128, 1])\n",
      "axr: torch.Size([128, 1])\n",
      "evox: torch.Size([128, 8])\n",
      "tm: torch.Size([8])\n",
      "be: torch.Size([8])\n",
      "bf: torch.Size([8])\n",
      "adc: torch.Size([128, 1])\n",
      "sigma: torch.Size([128, 1])\n",
      "axr: torch.Size([128, 1])\n",
      "evox: torch.Size([128, 8])\n",
      "tm: torch.Size([8])\n",
      "be: torch.Size([8])\n",
      "bf: torch.Size([8])\n",
      "adc: torch.Size([128, 1])\n",
      "sigma: torch.Size([128, 1])\n",
      "axr: torch.Size([128, 1])\n",
      "evox: torch.Size([128, 8])\n",
      "tm: torch.Size([8])\n",
      "be: torch.Size([8])\n",
      "bf: torch.Size([8])\n",
      "adc: torch.Size([128, 1])\n",
      "sigma: torch.Size([128, 1])\n",
      "axr: torch.Size([128, 1])\n",
      "evox: torch.Size([128, 8])\n",
      "tm: torch.Size([8])\n",
      "be: torch.Size([8])\n",
      "bf: torch.Size([8])\n",
      "adc: torch.Size([128, 1])\n",
      "sigma: torch.Size([128, 1])\n",
      "axr: torch.Size([128, 1])\n",
      "evox: torch.Size([128, 8])\n",
      "loss: 0.09756898786872625\n",
      "-----------------------------------------------------------------\n",
      "epoch: 166; bad epochs: 2\n"
     ]
    },
    {
     "name": "stderr",
     "output_type": "stream",
     "text": [
      "  0%|          | 0/7 [00:00<?, ?it/s]"
     ]
    },
    {
     "name": "stdout",
     "output_type": "stream",
     "text": [
      "tm: torch.Size([8])\n",
      "be: torch.Size([8])\n",
      "bf: torch.Size([8])\n",
      "adc: torch.Size([128, 1])\n",
      "sigma: torch.Size([128, 1])\n",
      "axr: torch.Size([128, 1])\n",
      "evox: torch.Size([128, 8])\n",
      "tm: torch.Size([8])\n",
      "be: torch.Size([8])\n",
      "bf: torch.Size([8])\n",
      "adc: torch.Size([128, 1])\n",
      "sigma: torch.Size([128, 1])\n",
      "axr: torch.Size([128, 1])\n",
      "evox: torch.Size([128, 8])\n"
     ]
    },
    {
     "name": "stderr",
     "output_type": "stream",
     "text": [
      "100%|██████████| 7/7 [00:00<00:00, 236.91it/s]\n"
     ]
    },
    {
     "name": "stdout",
     "output_type": "stream",
     "text": [
      "tm: torch.Size([8])\n",
      "be: torch.Size([8])\n",
      "bf: torch.Size([8])\n",
      "adc: torch.Size([128, 1])\n",
      "sigma: torch.Size([128, 1])\n",
      "axr: torch.Size([128, 1])\n",
      "evox: torch.Size([128, 8])\n",
      "tm: torch.Size([8])\n",
      "be: torch.Size([8])\n",
      "bf: torch.Size([8])\n",
      "adc: torch.Size([128, 1])\n",
      "sigma: torch.Size([128, 1])\n",
      "axr: torch.Size([128, 1])\n",
      "evox: torch.Size([128, 8])\n",
      "tm: torch.Size([8])\n",
      "be: torch.Size([8])\n",
      "bf: torch.Size([8])\n",
      "adc: torch.Size([128, 1])\n",
      "sigma: torch.Size([128, 1])\n",
      "axr: torch.Size([128, 1])\n",
      "evox: torch.Size([128, 8])\n",
      "tm: torch.Size([8])\n",
      "be: torch.Size([8])\n",
      "bf: torch.Size([8])\n",
      "adc: torch.Size([128, 1])\n",
      "sigma: torch.Size([128, 1])\n",
      "axr: torch.Size([128, 1])\n",
      "evox: torch.Size([128, 8])\n",
      "tm: torch.Size([8])\n",
      "be: torch.Size([8])\n",
      "bf: torch.Size([8])\n",
      "adc: torch.Size([128, 1])\n",
      "sigma: torch.Size([128, 1])\n",
      "axr: torch.Size([128, 1])\n",
      "evox: torch.Size([128, 8])\n",
      "loss: 0.0973495664075017\n",
      "-----------------------------------------------------------------\n",
      "epoch: 167; bad epochs: 3\n"
     ]
    },
    {
     "name": "stderr",
     "output_type": "stream",
     "text": [
      "  0%|          | 0/7 [00:00<?, ?it/s]"
     ]
    },
    {
     "name": "stdout",
     "output_type": "stream",
     "text": [
      "tm: torch.Size([8])\n",
      "be: torch.Size([8])\n",
      "bf: torch.Size([8])\n",
      "adc: torch.Size([128, 1])\n",
      "sigma: torch.Size([128, 1])\n",
      "axr: torch.Size([128, 1])\n",
      "evox: torch.Size([128, 8])\n",
      "tm: torch.Size([8])\n",
      "be: torch.Size([8])\n",
      "bf: torch.Size([8])\n",
      "adc: torch.Size([128, 1])\n",
      "sigma: torch.Size([128, 1])\n",
      "axr: torch.Size([128, 1])\n",
      "evox: torch.Size([128, 8])\n",
      "tm: torch.Size([8])\n",
      "be: torch.Size([8])\n",
      "bf: torch.Size([8])\n",
      "adc: torch.Size([128, 1])\n",
      "sigma: torch.Size([128, 1])\n",
      "axr: torch.Size([128, 1])\n",
      "evox: torch.Size([128, 8])\n",
      "tm: torch.Size([8])\n",
      "be: torch.Size([8])\n",
      "bf: torch.Size([8])\n",
      "adc: torch.Size([128, 1])\n",
      "sigma: torch.Size([128, 1])\n",
      "axr: torch.Size([128, 1])\n",
      "evox: torch.Size([128, 8])\n",
      "tm: torch.Size([8])\n",
      "be: torch.Size([8])\n",
      "bf: torch.Size([8])\n",
      "adc: torch.Size([128, 1])\n",
      "sigma: torch.Size([128, 1])\n",
      "axr: torch.Size([128, 1])\n",
      "evox: torch.Size([128, 8])\n",
      "tm: torch.Size([8])\n",
      "be: torch.Size([8])\n",
      "bf: torch.Size([8])\n",
      "adc: torch.Size([128, 1])\n",
      "sigma: torch.Size([128, 1])\n",
      "axr: torch.Size([128, 1])\n",
      "evox: torch.Size([128, 8])\n",
      "tm: torch.Size([8])\n",
      "be: torch.Size([8])\n",
      "bf: torch.Size([8])\n",
      "adc: torch.Size([128, 1])\n",
      "sigma: torch.Size([128, 1])\n",
      "axr: torch.Size([128, 1])\n",
      "evox: torch.Size([128, 8])\n"
     ]
    },
    {
     "name": "stderr",
     "output_type": "stream",
     "text": [
      "100%|██████████| 7/7 [00:00<00:00, 159.63it/s]\n"
     ]
    },
    {
     "name": "stdout",
     "output_type": "stream",
     "text": [
      "loss: 0.09674167726188898\n",
      "-----------------------------------------------------------------\n",
      "epoch: 168; bad epochs: 4\n"
     ]
    },
    {
     "name": "stderr",
     "output_type": "stream",
     "text": [
      "  0%|          | 0/7 [00:00<?, ?it/s]"
     ]
    },
    {
     "name": "stdout",
     "output_type": "stream",
     "text": [
      "tm: torch.Size([8])\n",
      "be: torch.Size([8])\n",
      "bf: torch.Size([8])\n",
      "adc: torch.Size([128, 1])\n",
      "sigma: torch.Size([128, 1])\n",
      "axr: torch.Size([128, 1])\n",
      "evox: torch.Size([128, 8])\n",
      "tm: torch.Size([8])\n",
      "be: torch.Size([8])\n",
      "bf: torch.Size([8])\n",
      "adc: torch.Size([128, 1])\n",
      "sigma: torch.Size([128, 1])\n",
      "axr: torch.Size([128, 1])\n",
      "evox: torch.Size([128, 8])\n"
     ]
    },
    {
     "name": "stderr",
     "output_type": "stream",
     "text": [
      "100%|██████████| 7/7 [00:00<00:00, 208.41it/s]"
     ]
    },
    {
     "name": "stdout",
     "output_type": "stream",
     "text": [
      "tm: torch.Size([8])\n",
      "be: torch.Size([8])\n",
      "bf: torch.Size([8])\n",
      "adc: torch.Size([128, 1])\n",
      "sigma: torch.Size([128, 1])\n",
      "axr: torch.Size([128, 1])\n",
      "evox: torch.Size([128, 8])\n",
      "tm: torch.Size([8])\n",
      "be: torch.Size([8])\n",
      "bf: torch.Size([8])\n",
      "adc: torch.Size([128, 1])\n",
      "sigma: torch.Size([128, 1])\n",
      "axr: torch.Size([128, 1])\n",
      "evox: torch.Size([128, 8])\n",
      "tm: torch.Size([8])\n",
      "be: torch.Size([8])\n",
      "bf: torch.Size([8])\n",
      "adc: torch.Size([128, 1])\n",
      "sigma: torch.Size([128, 1])\n",
      "axr: torch.Size([128, 1])\n",
      "evox: torch.Size([128, 8])\n",
      "tm: torch.Size([8])\n",
      "be: torch.Size([8])\n",
      "bf: torch.Size([8])\n",
      "adc: torch.Size([128, 1])\n",
      "sigma: torch.Size([128, 1])\n",
      "axr: torch.Size([128, 1])\n",
      "evox: torch.Size([128, 8])\n",
      "tm: torch.Size([8])\n",
      "be: torch.Size([8])\n",
      "bf: torch.Size([8])\n",
      "adc: torch.Size([128, 1])\n",
      "sigma: torch.Size([128, 1])\n",
      "axr: torch.Size([128, 1])\n",
      "evox: torch.Size([128, 8])\n",
      "loss: 0.0959434425458312\n",
      "-----------------------------------------------------------------\n",
      "epoch: 169; bad epochs: 5\n"
     ]
    },
    {
     "name": "stderr",
     "output_type": "stream",
     "text": [
      "\n",
      "100%|██████████| 7/7 [00:00<00:00, 171.22it/s]\n"
     ]
    },
    {
     "name": "stdout",
     "output_type": "stream",
     "text": [
      "tm: torch.Size([8])\n",
      "be: torch.Size([8])\n",
      "bf: torch.Size([8])\n",
      "adc: torch.Size([128, 1])\n",
      "sigma: torch.Size([128, 1])\n",
      "axr: torch.Size([128, 1])\n",
      "evox: torch.Size([128, 8])\n",
      "tm: torch.Size([8])\n",
      "be: torch.Size([8])\n",
      "bf: torch.Size([8])\n",
      "adc: torch.Size([128, 1])\n",
      "sigma: torch.Size([128, 1])\n",
      "axr: torch.Size([128, 1])\n",
      "evox: torch.Size([128, 8])\n",
      "tm: torch.Size([8])\n",
      "be: torch.Size([8])\n",
      "bf: torch.Size([8])\n",
      "adc: torch.Size([128, 1])\n",
      "sigma: torch.Size([128, 1])\n",
      "axr: torch.Size([128, 1])\n",
      "evox: torch.Size([128, 8])\n",
      "tm: torch.Size([8])\n",
      "be: torch.Size([8])\n",
      "bf: torch.Size([8])\n",
      "adc: torch.Size([128, 1])\n",
      "sigma: torch.Size([128, 1])\n",
      "axr: torch.Size([128, 1])\n",
      "evox: torch.Size([128, 8])\n",
      "tm: torch.Size([8])\n",
      "be: torch.Size([8])\n",
      "bf: torch.Size([8])\n",
      "adc: torch.Size([128, 1])\n",
      "sigma: torch.Size([128, 1])\n",
      "axr: torch.Size([128, 1])\n",
      "evox: torch.Size([128, 8])\n",
      "tm: torch.Size([8])\n",
      "be: torch.Size([8])\n",
      "bf: torch.Size([8])\n",
      "adc: torch.Size([128, 1])\n",
      "sigma: torch.Size([128, 1])\n",
      "axr: torch.Size([128, 1])\n",
      "evox: torch.Size([128, 8])\n",
      "tm: torch.Size([8])\n",
      "be: torch.Size([8])\n",
      "bf: torch.Size([8])\n",
      "adc: torch.Size([128, 1])\n",
      "sigma: torch.Size([128, 1])\n",
      "axr: torch.Size([128, 1])\n",
      "evox: torch.Size([128, 8])\n",
      "loss: 0.09655826911330223\n",
      "-----------------------------------------------------------------\n",
      "epoch: 170; bad epochs: 6\n"
     ]
    },
    {
     "name": "stderr",
     "output_type": "stream",
     "text": [
      "  0%|          | 0/7 [00:00<?, ?it/s]"
     ]
    },
    {
     "name": "stdout",
     "output_type": "stream",
     "text": [
      "tm: torch.Size([8])\n",
      "be: torch.Size([8])\n",
      "bf: torch.Size([8])\n",
      "adc: torch.Size([128, 1])\n",
      "sigma: torch.Size([128, 1])\n",
      "axr: torch.Size([128, 1])\n",
      "evox: torch.Size([128, 8])\n",
      "tm: torch.Size([8])\n",
      "be: torch.Size([8])\n",
      "bf: torch.Size([8])\n",
      "adc: torch.Size([128, 1])\n",
      "sigma: torch.Size([128, 1])\n",
      "axr: torch.Size([128, 1])\n",
      "evox: torch.Size([128, 8])\n",
      "tm: torch.Size([8])\n",
      "be: torch.Size([8])\n",
      "bf: torch.Size([8])\n",
      "adc: torch.Size([128, 1])\n",
      "sigma: torch.Size([128, 1])\n",
      "axr: torch.Size([128, 1])\n",
      "evox: torch.Size([128, 8])\n",
      "tm: torch.Size([8])\n",
      "be: torch.Size([8])\n",
      "bf: torch.Size([8])\n",
      "adc: torch.Size([128, 1])\n",
      "sigma: torch.Size([128, 1])\n",
      "axr: torch.Size([128, 1])\n",
      "evox: torch.Size([128, 8])\n"
     ]
    },
    {
     "name": "stderr",
     "output_type": "stream",
     "text": [
      "100%|██████████| 7/7 [00:00<00:00, 198.38it/s]\n"
     ]
    },
    {
     "name": "stdout",
     "output_type": "stream",
     "text": [
      "tm: torch.Size([8])\n",
      "be: torch.Size([8])\n",
      "bf: torch.Size([8])\n",
      "adc: torch.Size([128, 1])\n",
      "sigma: torch.Size([128, 1])\n",
      "axr: torch.Size([128, 1])\n",
      "evox: torch.Size([128, 8])\n",
      "tm: torch.Size([8])\n",
      "be: torch.Size([8])\n",
      "bf: torch.Size([8])\n",
      "adc: torch.Size([128, 1])\n",
      "sigma: torch.Size([128, 1])\n",
      "axr: torch.Size([128, 1])\n",
      "evox: torch.Size([128, 8])\n",
      "tm: torch.Size([8])\n",
      "be: torch.Size([8])\n",
      "bf: torch.Size([8])\n",
      "adc: torch.Size([128, 1])\n",
      "sigma: torch.Size([128, 1])\n",
      "axr: torch.Size([128, 1])\n",
      "evox: torch.Size([128, 8])\n",
      "loss: 0.09554073493927717\n",
      "-----------------------------------------------------------------\n",
      "epoch: 171; bad epochs: 7\n"
     ]
    },
    {
     "name": "stderr",
     "output_type": "stream",
     "text": [
      "  0%|          | 0/7 [00:00<?, ?it/s]"
     ]
    },
    {
     "name": "stdout",
     "output_type": "stream",
     "text": [
      "tm: torch.Size([8])\n",
      "be: torch.Size([8])\n",
      "bf: torch.Size([8])\n",
      "adc: torch.Size([128, 1])\n",
      "sigma: torch.Size([128, 1])\n",
      "axr: torch.Size([128, 1])\n",
      "evox: torch.Size([128, 8])\n",
      "tm: torch.Size([8])\n",
      "be: torch.Size([8])\n",
      "bf: torch.Size([8])\n",
      "adc: torch.Size([128, 1])\n",
      "sigma: torch.Size([128, 1])\n",
      "axr: torch.Size([128, 1])\n",
      "evox: torch.Size([128, 8])\n",
      "tm: torch.Size([8])\n",
      "be: torch.Size([8])\n",
      "bf: torch.Size([8])\n",
      "adc: torch.Size([128, 1])\n",
      "sigma: torch.Size([128, 1])\n",
      "axr: torch.Size([128, 1])\n",
      "evox: torch.Size([128, 8])\n",
      "tm: torch.Size([8])\n",
      "be: torch.Size([8])\n",
      "bf: torch.Size([8])\n",
      "adc: torch.Size([128, 1])\n",
      "sigma: torch.Size([128, 1])\n",
      "axr: torch.Size([128, 1])\n",
      "evox: torch.Size([128, 8])\n",
      "tm: torch.Size([8])\n",
      "be: torch.Size([8])\n",
      "bf: torch.Size([8])\n",
      "adc: torch.Size([128, 1])\n",
      "sigma: torch.Size([128, 1])\n",
      "axr: torch.Size([128, 1])\n",
      "evox: torch.Size([128, 8])\n"
     ]
    },
    {
     "name": "stderr",
     "output_type": "stream",
     "text": [
      "100%|██████████| 7/7 [00:00<00:00, 173.84it/s]\n"
     ]
    },
    {
     "name": "stdout",
     "output_type": "stream",
     "text": [
      "tm: torch.Size([8])\n",
      "be: torch.Size([8])\n",
      "bf: torch.Size([8])\n",
      "adc: torch.Size([128, 1])\n",
      "sigma: torch.Size([128, 1])\n",
      "axr: torch.Size([128, 1])\n",
      "evox: torch.Size([128, 8])\n",
      "tm: torch.Size([8])\n",
      "be: torch.Size([8])\n",
      "bf: torch.Size([8])\n",
      "adc: torch.Size([128, 1])\n",
      "sigma: torch.Size([128, 1])\n",
      "axr: torch.Size([128, 1])\n",
      "evox: torch.Size([128, 8])\n",
      "loss: 0.09800853114575148\n",
      "-----------------------------------------------------------------\n",
      "epoch: 172; bad epochs: 8\n"
     ]
    },
    {
     "name": "stderr",
     "output_type": "stream",
     "text": [
      "  0%|          | 0/7 [00:00<?, ?it/s]"
     ]
    },
    {
     "name": "stdout",
     "output_type": "stream",
     "text": [
      "tm: torch.Size([8])\n",
      "be: torch.Size([8])\n",
      "bf: torch.Size([8])\n",
      "adc: torch.Size([128, 1])\n",
      "sigma: torch.Size([128, 1])\n",
      "axr: torch.Size([128, 1])\n",
      "evox: torch.Size([128, 8])\n",
      "tm: torch.Size([8])\n",
      "be: torch.Size([8])\n",
      "bf: torch.Size([8])\n",
      "adc: torch.Size([128, 1])\n",
      "sigma: torch.Size([128, 1])\n",
      "axr: torch.Size([128, 1])\n",
      "evox: torch.Size([128, 8])\n",
      "tm: torch.Size([8])\n",
      "be: torch.Size([8])\n",
      "bf: torch.Size([8])\n",
      "adc: torch.Size([128, 1])\n",
      "sigma: torch.Size([128, 1])\n",
      "axr: torch.Size([128, 1])\n",
      "evox: torch.Size([128, 8])\n",
      "tm: torch.Size([8])\n",
      "be: torch.Size([8])\n",
      "bf: torch.Size([8])\n",
      "adc: torch.Size([128, 1])\n",
      "sigma: torch.Size([128, 1])\n",
      "axr: torch.Size([128, 1])\n",
      "evox: torch.Size([128, 8])\n",
      "tm: torch.Size([8])\n",
      "be: torch.Size([8])\n",
      "bf: torch.Size([8])\n",
      "adc: torch.Size([128, 1])\n",
      "sigma: torch.Size([128, 1])\n",
      "axr: torch.Size([128, 1])\n",
      "evox: torch.Size([128, 8])\n"
     ]
    },
    {
     "name": "stderr",
     "output_type": "stream",
     "text": [
      "100%|██████████| 7/7 [00:00<00:00, 185.42it/s]\n"
     ]
    },
    {
     "name": "stdout",
     "output_type": "stream",
     "text": [
      "tm: torch.Size([8])\n",
      "be: torch.Size([8])\n",
      "bf: torch.Size([8])\n",
      "adc: torch.Size([128, 1])\n",
      "sigma: torch.Size([128, 1])\n",
      "axr: torch.Size([128, 1])\n",
      "evox: torch.Size([128, 8])\n",
      "tm: torch.Size([8])\n",
      "be: torch.Size([8])\n",
      "bf: torch.Size([8])\n",
      "adc: torch.Size([128, 1])\n",
      "sigma: torch.Size([128, 1])\n",
      "axr: torch.Size([128, 1])\n",
      "evox: torch.Size([128, 8])\n",
      "loss: 0.09818932134658098\n",
      "-----------------------------------------------------------------\n",
      "epoch: 173; bad epochs: 9\n"
     ]
    },
    {
     "name": "stderr",
     "output_type": "stream",
     "text": [
      "  0%|          | 0/7 [00:00<?, ?it/s]"
     ]
    },
    {
     "name": "stdout",
     "output_type": "stream",
     "text": [
      "tm: torch.Size([8])\n",
      "be: torch.Size([8])\n",
      "bf: torch.Size([8])\n",
      "adc: torch.Size([128, 1])\n",
      "sigma: torch.Size([128, 1])\n",
      "axr: torch.Size([128, 1])\n",
      "evox: torch.Size([128, 8])\n",
      "tm: torch.Size([8])\n",
      "be: torch.Size([8])\n",
      "bf: torch.Size([8])\n",
      "adc: torch.Size([128, 1])\n",
      "sigma: torch.Size([128, 1])\n",
      "axr: torch.Size([128, 1])\n",
      "evox: torch.Size([128, 8])\n",
      "tm: torch.Size([8])\n",
      "be: torch.Size([8])\n",
      "bf: torch.Size([8])\n",
      "adc: torch.Size([128, 1])\n",
      "sigma: torch.Size([128, 1])\n",
      "axr: torch.Size([128, 1])\n",
      "evox: torch.Size([128, 8])\n",
      "tm: torch.Size([8])\n",
      "be: torch.Size([8])\n",
      "bf: torch.Size([8])\n",
      "adc: torch.Size([128, 1])\n",
      "sigma: torch.Size([128, 1])\n",
      "axr: torch.Size([128, 1])\n",
      "evox: torch.Size([128, 8])\n",
      "tm: torch.Size([8])\n",
      "be: torch.Size([8])\n",
      "bf: torch.Size([8])\n",
      "adc: torch.Size([128, 1])\n",
      "sigma: torch.Size([128, 1])\n",
      "axr: torch.Size([128, 1])\n",
      "evox: torch.Size([128, 8])\n",
      "tm: torch.Size([8])\n",
      "be: torch.Size([8])\n",
      "bf: torch.Size([8])\n",
      "adc: torch.Size([128, 1])\n",
      "sigma: torch.Size([128, 1])\n",
      "axr: torch.Size([128, 1])\n",
      "evox: torch.Size([128, 8])\n"
     ]
    },
    {
     "name": "stderr",
     "output_type": "stream",
     "text": [
      "100%|██████████| 7/7 [00:00<00:00, 148.52it/s]\n"
     ]
    },
    {
     "name": "stdout",
     "output_type": "stream",
     "text": [
      "tm: torch.Size([8])\n",
      "be: torch.Size([8])\n",
      "bf: torch.Size([8])\n",
      "adc: torch.Size([128, 1])\n",
      "sigma: torch.Size([128, 1])\n",
      "axr: torch.Size([128, 1])\n",
      "evox: torch.Size([128, 8])\n",
      "loss: 0.09732298273593187\n",
      "done, best loss: 0.09510612860321999\n",
      "done\n",
      "tm: torch.Size([8])\n",
      "be: torch.Size([8])\n",
      "bf: torch.Size([8])\n",
      "adc: torch.Size([1000, 1])\n",
      "sigma: torch.Size([1000, 1])\n",
      "axr: torch.Size([1000, 1])\n",
      "evox: torch.Size([1000, 8])\n"
     ]
    },
    {
     "ename": "ValueError",
     "evalue": "too many values to unpack (expected 4)",
     "output_type": "error",
     "traceback": [
      "\u001b[0;31m---------------------------------------------------------------------------\u001b[0m",
      "\u001b[0;31mValueError\u001b[0m                                Traceback (most recent call last)",
      "\u001b[0;32m/var/folders/z8/jwxsd17n57lblqk5c_v8fttc0000gn/T/ipykernel_90037/3867697724.py\u001b[0m in \u001b[0;36m<module>\u001b[0;34m\u001b[0m\n\u001b[1;32m     64\u001b[0m \u001b[0mnet\u001b[0m\u001b[0;34m.\u001b[0m\u001b[0meval\u001b[0m\u001b[0;34m(\u001b[0m\u001b[0;34m)\u001b[0m\u001b[0;34m\u001b[0m\u001b[0;34m\u001b[0m\u001b[0m\n\u001b[1;32m     65\u001b[0m \u001b[0;32mwith\u001b[0m \u001b[0mtorch\u001b[0m\u001b[0;34m.\u001b[0m\u001b[0mno_grad\u001b[0m\u001b[0;34m(\u001b[0m\u001b[0;34m)\u001b[0m\u001b[0;34m:\u001b[0m\u001b[0;34m\u001b[0m\u001b[0;34m\u001b[0m\u001b[0m\n\u001b[0;32m---> 66\u001b[0;31m     \u001b[0mfinal_pred_E_vox\u001b[0m\u001b[0;34m,\u001b[0m \u001b[0mfinal_pred_adc_repeated\u001b[0m\u001b[0;34m,\u001b[0m \u001b[0mfinal_pred_sigma_repeated\u001b[0m\u001b[0;34m,\u001b[0m \u001b[0mfinal_pred_axr_repeated\u001b[0m \u001b[0;34m=\u001b[0m \u001b[0mnet\u001b[0m\u001b[0;34m(\u001b[0m\u001b[0mtorch\u001b[0m\u001b[0;34m.\u001b[0m\u001b[0mfrom_numpy\u001b[0m\u001b[0;34m(\u001b[0m\u001b[0msim_E_vox\u001b[0m\u001b[0;34m.\u001b[0m\u001b[0mastype\u001b[0m\u001b[0;34m(\u001b[0m\u001b[0mnp\u001b[0m\u001b[0;34m.\u001b[0m\u001b[0mfloat32\u001b[0m\u001b[0;34m)\u001b[0m\u001b[0;34m)\u001b[0m\u001b[0;34m)\u001b[0m\u001b[0;34m\u001b[0m\u001b[0;34m\u001b[0m\u001b[0m\n\u001b[0m\u001b[1;32m     67\u001b[0m     \u001b[0;31m# adc sigma and axr will have 8 columns which are all the same\u001b[0m\u001b[0;34m\u001b[0m\u001b[0;34m\u001b[0m\u001b[0;34m\u001b[0m\u001b[0m\n\u001b[1;32m     68\u001b[0m \u001b[0;34m\u001b[0m\u001b[0m\n",
      "\u001b[0;31mValueError\u001b[0m: too many values to unpack (expected 4)"
     ]
    }
   ],
   "source": [
    "# train\n",
    "loss_progress = np.empty(shape=(0,)) \n",
    "num_bad_epochs = 0\n",
    "\n",
    "for epoch in range(10000): \n",
    "    print(\"-----------------------------------------------------------------\")\n",
    "    print(\"epoch: {}; bad epochs: {}\".format(epoch, num_bad_epochs))\n",
    "    net.train()\n",
    "    running_loss = 0.\n",
    "\n",
    "    #tqdm shows a progress bar. \n",
    "    for i, sim_E_vox_batch in enumerate(tqdm(trainloader), 0):\n",
    "        \n",
    "        # zero the parameter gradients\n",
    "        optimizer.zero_grad()\n",
    "\n",
    "        # forward + backward + optimize\n",
    "        pred_E_vox, pred_adc_prime, pred_adc, pred_sigma, pred_axr = net(sim_E_vox_batch)\n",
    "        \n",
    "        \"\"\"print(pred_E_vox)\n",
    "        print(pred_adc)\n",
    "        print(pred_sigma)\n",
    "        print(pred_axr)\"\"\"\n",
    "\n",
    "        \"\"\"if torch.isnan(pred_E_vox).any():\n",
    "            print(\"evox nan found\")\n",
    "        if torch.isnan(pred_adc).any():\n",
    "            print(\"pred_adc nan found\")\n",
    "        if torch.isnan(pred_axr).any():\n",
    "            print(\"pred_axr nan found\")\n",
    "        if torch.isnan(pred_sigma).any():\n",
    "            print(\"sigpred_sigma nan found\")\"\"\"\n",
    "            \n",
    "        #sim_E_vox_batch32 = sim_E_vox_batch.to(torch.float32)\n",
    "        #needed so that loss comparison works\n",
    "        \n",
    "        #print(pred_E_vox)\n",
    "        loss_sig = criterion(pred_E_vox, sim_E_vox_batch)\n",
    "        #loss_prime = criterion(pred_adc_prime,sim_adc_prime)\n",
    "        #loss prime needs sim_adc_prime to be batched. \n",
    "\n",
    "        loss_sig.backward()\n",
    "        optimizer.step()\n",
    "        running_loss += loss_sig.item()\n",
    "        \n",
    "    print(\"loss: {}\".format(running_loss))\n",
    "    # early stopping\n",
    "    if running_loss < best:\n",
    "        print(\"####################### saving good model #######################\")\n",
    "        final_model = net.state_dict()\n",
    "        best = running_loss\n",
    "        num_bad_epochs = 0\n",
    "        loss_progress = np.append(loss_progress, best)\n",
    "    else:\n",
    "        num_bad_epochs = num_bad_epochs + 1\n",
    "        loss_progress = np.append(loss_progress, best)\n",
    "        if num_bad_epochs == patience:\n",
    "            print(\"done, best loss: {}\".format(best))\n",
    "            break\n",
    "print(\"done\")\n",
    "\n",
    "net.load_state_dict(final_model)\n",
    "\n",
    "net.eval()\n",
    "with torch.no_grad():\n",
    "    final_pred_E_vox, final_pred_adc_repeated, final_pred_sigma_repeated, final_pred_axr_repeated = net(torch.from_numpy(sim_E_vox.astype(np.float32)))\n",
    "    # adc sigma and axr will have 8 columns which are all the same\n",
    "\n",
    "final_pred_adc = final_pred_adc_repeated[:, 0]\n",
    "final_pred_sigma = final_pred_sigma_repeated [:, 0]\n",
    "final_pred_axr = final_pred_axr_repeated[:, 0]\n"
   ]
  },
  {
   "attachments": {},
   "cell_type": "markdown",
   "metadata": {},
   "source": [
    "### NN Plots"
   ]
  },
  {
   "cell_type": "code",
   "execution_count": null,
   "metadata": {},
   "outputs": [],
   "source": [
    "plt.figure()\n",
    "plt.plot(range(1, len(loss_progress) + 1), loss_progress, marker='o', linestyle='-')\n",
    "plt.xlabel('Epoch')\n",
    "plt.ylabel('Loss')\n",
    "plt.title('Loss per Epoch')\n",
    "plt.grid(True)\n",
    "plt.show()\n",
    "\n",
    "final_pred_E_vox_detached = final_pred_E_vox.detach().numpy()\n",
    "\"\"\"Was having numpy pytorch issues, so this line helps fix it a bit.\"\"\"\n",
    "\n",
    "plt.scatter(be, sim_E_vox[0,:], label='simulated')\n",
    "plt.scatter(be, final_pred_E_vox_detached[0,:], label='predicted')\n",
    "plt.legend()\n",
    "\n",
    "# plot scatter plots to analyse correlation of predicted free params against ground truth\n",
    "plt.figure()\n",
    "\n",
    "param_sim = [sim_adc, sim_sigma, sim_axr]\n",
    "param_pred = [final_pred_adc, final_pred_sigma, final_pred_axr]\n",
    "param_name = ['ADC', 'Sigma', 'AXR']\n",
    "\n",
    "rvals = []\n",
    "\n",
    "for i,_ in enumerate(param_sim):\n",
    "    plt.rcParams['font.size'] = '16'\n",
    "    plt.scatter(param_sim[i], param_pred[i], s=2, c='navy')\n",
    "    plt.xlabel(param_name[i] + ' Ground Truth')\n",
    "    plt.ylabel(param_name[i] + ' Prediction')\n",
    "    rvals.append(scipy.stats.pearsonr(np.squeeze(param_sim[i]), np.squeeze(param_pred[i])))\n",
    "    plt.tight_layout\n",
    "    plt.show()\n",
    "\n",
    "print(rvals)\n"
   ]
  }
 ],
 "metadata": {
  "kernelspec": {
   "display_name": "project",
   "language": "python",
   "name": "python3"
  },
  "language_info": {
   "codemirror_mode": {
    "name": "ipython",
    "version": 3
   },
   "file_extension": ".py",
   "mimetype": "text/x-python",
   "name": "python",
   "nbconvert_exporter": "python",
   "pygments_lexer": "ipython3",
   "version": "3.7.13"
  },
  "orig_nbformat": 4,
  "vscode": {
   "interpreter": {
    "hash": "530a9f706d6870d645c2a38796218763bd8210a92912827e1b5537d0d478cbf5"
   }
  }
 },
 "nbformat": 4,
 "nbformat_minor": 2
}
